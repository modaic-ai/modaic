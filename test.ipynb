{
 "cells": [
  {
   "cell_type": "code",
   "execution_count": 1,
   "metadata": {},
   "outputs": [
    {
     "name": "stdout",
     "output_type": "stream",
     "text": [
      "5a9bb14c549b3015696e7dc92d8382b073cf918e119110c61374fcd5be4ee219\n"
     ]
    }
   ],
   "source": [
    "import dotenv\n",
    "dotenv.load_dotenv()\n",
    "import os\n",
    "print(os.getenv(\"TOGETHER_API_KEY\"))"
   ]
  },
  {
   "cell_type": "code",
   "execution_count": 2,
   "metadata": {},
   "outputs": [],
   "source": [
    "import dspy\n",
    "\n",
    "llama3b = dspy.LM('together_ai/meta-llama/Llama-3.2-3B-Instruct-Turbo', temperature=0.7, api_key = os.getenv(\"TOGETHER_API_KEY\"))\n",
    "gpt4o = dspy.LM('openai/gpt-4o', temperature=0.7)\n",
    "\n",
    "dspy.configure(lm=llama3b)"
   ]
  },
  {
   "cell_type": "code",
   "execution_count": 3,
   "metadata": {},
   "outputs": [
    {
     "name": "stderr",
     "output_type": "stream",
     "text": [
      "/Users/tytodd/Library/Caches/pypoetry/virtualenvs/modaic-cVI88qFt-py3.10/lib/python3.10/site-packages/tqdm/auto.py:21: TqdmWarning: IProgress not found. Please update jupyter and ipywidgets. See https://ipywidgets.readthedocs.io/en/stable/user_install.html\n",
      "  from .autonotebook import tqdm as notebook_tqdm\n"
     ]
    }
   ],
   "source": [
    "import random\n",
    "from dspy.datasets import DataLoader\n",
    "\n",
    "kwargs = dict(fields=(\"claim\", \"supporting_facts\", \"hpqa_id\", \"num_hops\"), input_keys=(\"claim\",))\n",
    "hover = DataLoader().from_huggingface(dataset_name=\"hover-nlp/hover\", split=\"train\", trust_remote_code=True, **kwargs)\n",
    "\n",
    "hpqa_ids = set()\n",
    "hover = [\n",
    "    dspy.Example(claim=x.claim, titles=list(set([y[\"key\"] for y in x.supporting_facts]))).with_inputs(\"claim\")\n",
    "    for x in hover\n",
    "    if x[\"num_hops\"] == 3 and x[\"hpqa_id\"] not in hpqa_ids and not hpqa_ids.add(x[\"hpqa_id\"])\n",
    "]\n",
    "\n",
    "random.Random(0).shuffle(hover)\n",
    "trainset, devset, testset = hover[:100], hover[100:200], hover[650:]"
   ]
  },
  {
   "cell_type": "code",
   "execution_count": 4,
   "metadata": {},
   "outputs": [
    {
     "name": "stdout",
     "output_type": "stream",
     "text": [
      "Claim: This director is known for his work on Miss Potter. The Academy of Motion Picture Arts and Sciences presents the award in which he was nominated for his work in \"Babe\".\n",
      "Pages that must be retrieved: ['Chris Noonan', 'Academy Award for Best Director', 'Miss Potter']\n"
     ]
    }
   ],
   "source": [
    "example = trainset[0]\n",
    "\n",
    "print(\"Claim:\", example.claim)\n",
    "print(\"Pages that must be retrieved:\", example.titles)"
   ]
  },
  {
   "cell_type": "code",
   "execution_count": 5,
   "metadata": {},
   "outputs": [],
   "source": [
    "DOCS = {}\n",
    "\n",
    "def search(query: str, k: int) -> list[str]:\n",
    "    results = dspy.ColBERTv2(url='http://20.102.90.50:2017/wiki17_abstracts')(query, k=k)\n",
    "    results = [x['text'] for x in results]\n",
    "\n",
    "    for result in results:\n",
    "        title, text = result.split(\" | \", 1)\n",
    "        DOCS[title] = text\n",
    "\n",
    "    return results"
   ]
  },
  {
   "cell_type": "code",
   "execution_count": 6,
   "metadata": {},
   "outputs": [],
   "source": [
    "def search_wikipedia(query: str) -> list[str]:\n",
    "    \"\"\"Returns top-5 results and then the titles of the top-5 to top-30 results.\"\"\"\n",
    "\n",
    "    topK = search(query, 30)\n",
    "    titles, topK = [f\"`{x.split(' | ')[0]}`\" for x in topK[5:30]], topK[:5]\n",
    "    return topK + [f\"Other retrieved pages have titles: {', '.join(titles)}.\"]\n",
    "\n",
    "def lookup_wikipedia(title: str) -> str:\n",
    "    \"\"\"Returns the text of the Wikipedia page, if it exists.\"\"\"\n",
    "\n",
    "    if title in DOCS:\n",
    "        return DOCS[title]\n",
    "\n",
    "    results = [x for x in search(title, 10) if x.startswith(title + \" | \")]\n",
    "    if not results:\n",
    "        return f\"No Wikipedia page found for title: {title}\"\n",
    "    return results[0]"
   ]
  },
  {
   "cell_type": "code",
   "execution_count": 7,
   "metadata": {},
   "outputs": [],
   "source": [
    "instructions = \"Find all Wikipedia titles relevant to verifying (or refuting) the claim.\"\n",
    "signature = dspy.Signature(\"claim -> titles: list[str]\", instructions)\n",
    "react = dspy.ReAct(signature, tools=[search_wikipedia, lookup_wikipedia], max_iters=20)"
   ]
  },
  {
   "cell_type": "code",
   "execution_count": 8,
   "metadata": {},
   "outputs": [
    {
     "data": {
      "text/plain": [
       "['David Gregory', 'David Gregory (1625)', 'David Gregory (no year)']"
      ]
     },
     "execution_count": 8,
     "metadata": {},
     "output_type": "execute_result"
    }
   ],
   "source": [
    "react(claim=\"David Gregory was born in 1625.\").titles[:3]"
   ]
  },
  {
   "cell_type": "code",
   "execution_count": 9,
   "metadata": {},
   "outputs": [],
   "source": [
    "def top5_recall(example, pred, trace=None):\n",
    "    gold_titles = example.titles\n",
    "    recall = sum(x in pred.titles[:5] for x in gold_titles) / len(gold_titles)\n",
    "\n",
    "    # If we're \"bootstrapping\" for optimization, return True if and only if the recall is perfect.\n",
    "    if trace is not None:\n",
    "        return recall >= 1.0\n",
    "    \n",
    "    # If we're just doing inference, just measure the recall.\n",
    "    return recall\n",
    "\n",
    "evaluate = dspy.Evaluate(devset=devset, metric=top5_recall, num_threads=16, display_progress=True, display_table=5)"
   ]
  },
  {
   "cell_type": "code",
   "execution_count": 10,
   "metadata": {},
   "outputs": [
    {
     "name": "stdout",
     "output_type": "stream",
     "text": [
      "Average Metric: 0.67 / 58 (1.1%):  58%|█████▊    | 58/100 [02:21<02:43,  3.89s/it]"
     ]
    },
    {
     "name": "stderr",
     "output_type": "stream",
     "text": [
      "2025/07/19 17:00:28 WARNING dspy.clients.lm: LM response was truncated due to exceeding max_tokens=4000. You can inspect the latest LM interactions with `dspy.inspect_history()`. To avoid truncation, consider passing a larger max_tokens when setting up dspy.LM. You may also consider increasing the temperature (currently 0.7)  if the reason for truncation is repetition.\n"
     ]
    },
    {
     "name": "stdout",
     "output_type": "stream",
     "text": [
      "Average Metric: 0.67 / 85 (0.8%):  85%|████████▌ | 85/100 [03:18<00:35,  2.34s/it]"
     ]
    },
    {
     "name": "stderr",
     "output_type": "stream",
     "text": [
      "2025/07/19 17:01:30 WARNING dspy.adapters.json_adapter: Failed to use structured output format, falling back to JSON mode.\n"
     ]
    },
    {
     "name": "stdout",
     "output_type": "stream",
     "text": [
      "Average Metric: 3.00 / 100 (3.0%): 100%|██████████| 100/100 [04:33<00:00,  2.73s/it]"
     ]
    },
    {
     "name": "stderr",
     "output_type": "stream",
     "text": [
      "2025/07/19 17:02:39 INFO dspy.evaluate.evaluate: Average Metric: 2.9999999999999996 / 100 (3.0%)\n"
     ]
    },
    {
     "name": "stdout",
     "output_type": "stream",
     "text": [
      "\n"
     ]
    },
    {
     "data": {
      "text/html": [
       "<div>\n",
       "<style scoped>\n",
       "    .dataframe tbody tr th:only-of-type {\n",
       "        vertical-align: middle;\n",
       "    }\n",
       "\n",
       "    .dataframe tbody tr th {\n",
       "        vertical-align: top;\n",
       "    }\n",
       "\n",
       "    .dataframe thead th {\n",
       "        text-align: right;\n",
       "    }\n",
       "</style>\n",
       "<table border=\"1\" class=\"dataframe\">\n",
       "  <thead>\n",
       "    <tr style=\"text-align: right;\">\n",
       "      <th></th>\n",
       "      <th>claim</th>\n",
       "      <th>example_titles</th>\n",
       "      <th>pred_titles</th>\n",
       "      <th>top5_recall</th>\n",
       "      <th>trajectory</th>\n",
       "      <th>reasoning</th>\n",
       "    </tr>\n",
       "  </thead>\n",
       "  <tbody>\n",
       "    <tr>\n",
       "      <th>0</th>\n",
       "      <td>The Church of England's movement that inspired the Trinity Episcop...</td>\n",
       "      <td>[Trinity Episcopal Church (Houghton, Michigan), Samuel Rickards, O...</td>\n",
       "      <td>[]</td>\n",
       "      <td></td>\n",
       "      <td>NaN</td>\n",
       "      <td>NaN</td>\n",
       "    </tr>\n",
       "    <tr>\n",
       "      <th>1</th>\n",
       "      <td>Red, White &amp; Crüe and this athlete both fight. The french fighter ...</td>\n",
       "      <td>[Mike Tyson, Bobby Stewart, Red, White &amp;amp; Crüe]</td>\n",
       "      <td>[]</td>\n",
       "      <td></td>\n",
       "      <td>NaN</td>\n",
       "      <td>NaN</td>\n",
       "    </tr>\n",
       "    <tr>\n",
       "      <th>2</th>\n",
       "      <td>The writer/director/actor from Glen or Glenda and Fernand Rivers s...</td>\n",
       "      <td>[Ed Wood, Glen or Glenda, Fernand Rivers]</td>\n",
       "      <td>[]</td>\n",
       "      <td></td>\n",
       "      <td>NaN</td>\n",
       "      <td>NaN</td>\n",
       "    </tr>\n",
       "    <tr>\n",
       "      <th>3</th>\n",
       "      <td>The film by Sandi Sissel was released before The End of Suburbia.</td>\n",
       "      <td>[Chicken Ranch (film), The End of Suburbia, Sandi Sissel]</td>\n",
       "      <td>[]</td>\n",
       "      <td></td>\n",
       "      <td>NaN</td>\n",
       "      <td>NaN</td>\n",
       "    </tr>\n",
       "    <tr>\n",
       "      <th>4</th>\n",
       "      <td>The actor who played captain hook in the live production with Tayl...</td>\n",
       "      <td>[Christopher Walken, Peter Pan Live!, Taylor Louderman]</td>\n",
       "      <td>[]</td>\n",
       "      <td></td>\n",
       "      <td>NaN</td>\n",
       "      <td>NaN</td>\n",
       "    </tr>\n",
       "  </tbody>\n",
       "</table>\n",
       "</div>"
      ],
      "text/plain": [
       "                                                                   claim  \\\n",
       "0  The Church of England's movement that inspired the Trinity Episcop...   \n",
       "1  Red, White & Crüe and this athlete both fight. The french fighter ...   \n",
       "2  The writer/director/actor from Glen or Glenda and Fernand Rivers s...   \n",
       "3      The film by Sandi Sissel was released before The End of Suburbia.   \n",
       "4  The actor who played captain hook in the live production with Tayl...   \n",
       "\n",
       "                                                          example_titles  \\\n",
       "0  [Trinity Episcopal Church (Houghton, Michigan), Samuel Rickards, O...   \n",
       "1                     [Mike Tyson, Bobby Stewart, Red, White &amp; Crüe]   \n",
       "2                              [Ed Wood, Glen or Glenda, Fernand Rivers]   \n",
       "3              [Chicken Ranch (film), The End of Suburbia, Sandi Sissel]   \n",
       "4                [Christopher Walken, Peter Pan Live!, Taylor Louderman]   \n",
       "\n",
       "  pred_titles top5_recall trajectory reasoning  \n",
       "0          []                    NaN       NaN  \n",
       "1          []                    NaN       NaN  \n",
       "2          []                    NaN       NaN  \n",
       "3          []                    NaN       NaN  \n",
       "4          []                    NaN       NaN  "
      ]
     },
     "metadata": {},
     "output_type": "display_data"
    },
    {
     "data": {
      "text/html": [
       "\n",
       "            <div style='\n",
       "                text-align: center;\n",
       "                font-size: 16px;\n",
       "                font-weight: bold;\n",
       "                color: #555;\n",
       "                margin: 10px 0;'>\n",
       "                ... 95 more rows not displayed ...\n",
       "            </div>\n",
       "            "
      ],
      "text/plain": [
       "<IPython.core.display.HTML object>"
      ]
     },
     "metadata": {},
     "output_type": "display_data"
    },
    {
     "data": {
      "text/plain": [
       "3.0"
      ]
     },
     "execution_count": 10,
     "metadata": {},
     "output_type": "execute_result"
    }
   ],
   "source": [
    "def safe_react(claim: str):\n",
    "    try:\n",
    "        return react(claim=claim)\n",
    "    except Exception as e:\n",
    "        return dspy.Prediction(titles=[])\n",
    "\n",
    "evaluate(safe_react)"
   ]
  },
  {
   "cell_type": "code",
   "execution_count": 13,
   "metadata": {},
   "outputs": [
    {
     "name": "stderr",
     "output_type": "stream",
     "text": [
      "2025/07/19 17:02:39 INFO dspy.teleprompt.mipro_optimizer_v2: \n",
      "RUNNING WITH THE FOLLOWING MEDIUM AUTO RUN SETTINGS:\n",
      "num_trials: 28\n",
      "minibatch: True\n",
      "num_fewshot_candidates: 12\n",
      "num_instruct_candidates: 6\n",
      "valset size: 80\n",
      "\n"
     ]
    },
    {
     "name": "stdout",
     "output_type": "stream",
     "text": [
      "\u001b[93m\u001b[1mProjected Language Model (LM) Calls\u001b[0m\n",
      "\n",
      "Based on the parameters you have set, the maximum number of LM calls is projected as follows:\n",
      "\n",
      "\u001b[93m- Prompt Generation: \u001b[94m\u001b[1m10\u001b[0m\u001b[93m data summarizer calls + \u001b[94m\u001b[1m6\u001b[0m\u001b[93m * \u001b[94m\u001b[1m2\u001b[0m\u001b[93m lm calls in program + (\u001b[94m\u001b[1m3\u001b[0m\u001b[93m) lm calls in program-aware proposer = \u001b[94m\u001b[1m25\u001b[0m\u001b[93m prompt model calls\u001b[0m\n",
      "\u001b[93m- Program Evaluation: \u001b[94m\u001b[1m35\u001b[0m\u001b[93m examples in minibatch * \u001b[94m\u001b[1m28\u001b[0m\u001b[93m batches + \u001b[94m\u001b[1m80\u001b[0m\u001b[93m examples in val set * \u001b[94m\u001b[1m6\u001b[0m\u001b[93m full evals = \u001b[94m\u001b[1m1460\u001b[0m\u001b[93m LM Program calls\u001b[0m\n",
      "\n",
      "\u001b[93m\u001b[1mEstimated Cost Calculation:\u001b[0m\n",
      "\n",
      "\u001b[93mTotal Cost = (Number of calls to task model * (Avg Input Token Length per Call * Task Model Price per Input Token + Avg Output Token Length per Call * Task Model Price per Output Token)\n",
      "            + (Number of program calls * (Avg Input Token Length per Call * Task Prompt Price per Input Token + Avg Output Token Length per Call * Prompt Model Price per Output Token).\u001b[0m\n",
      "\n",
      "For a preliminary estimate of potential costs, we recommend you perform your own calculations based on the task\n",
      "and prompt models you intend to use. If the projected costs exceed your budget or expectations, you may consider:\n",
      "\n",
      "\u001b[93m- Reducing the number of trials (`num_trials`), the size of the valset, or the number of LM calls in your program.\u001b[0m\n",
      "\u001b[93m- Using a cheaper task model to optimize the prompt.\u001b[0m\n",
      "\u001b[93m- Setting `minibatch=True` if you haven't already.\u001b[0m\n",
      "\n",
      "To proceed with the execution of this program, please confirm by typing \u001b[94m'y'\u001b[0m for yes or \u001b[94m'n'\u001b[0m for no.\n",
      "If no input is received within 20 seconds, the program will proceed automatically.\n",
      "\n",
      "If you would like to bypass this confirmation step in future executions, set the \u001b[93m`requires_permission_to_run`\u001b[0m flag to \u001b[93m`False`\u001b[0m when calling compile.\n",
      "\n",
      "\u001b[93mAwaiting your input...\u001b[0m\n",
      "\n",
      "Do you wish to continue? (y/n): "
     ]
    },
    {
     "name": "stderr",
     "output_type": "stream",
     "text": [
      "2025/07/19 17:02:59 INFO dspy.teleprompt.mipro_optimizer_v2: \n",
      "==> STEP 1: BOOTSTRAP FEWSHOT EXAMPLES <==\n",
      "2025/07/19 17:02:59 INFO dspy.teleprompt.mipro_optimizer_v2: These will be used as few-shot example candidates for our program and for creating instructions.\n",
      "\n",
      "2025/07/19 17:02:59 INFO dspy.teleprompt.mipro_optimizer_v2: Bootstrapping N=12 sets of demonstrations...\n"
     ]
    },
    {
     "name": "stdout",
     "output_type": "stream",
     "text": [
      "\n",
      "No input received within 20 seconds. Proceeding with execution...\n",
      "Bootstrapping set 1/12\n",
      "Bootstrapping set 2/12\n"
     ]
    },
    {
     "name": "stderr",
     "output_type": "stream",
     "text": [
      " 35%|███▌      | 7/20 [00:52<01:37,  7.48s/it]\n"
     ]
    },
    {
     "name": "stdout",
     "output_type": "stream",
     "text": [
      "Bootstrapped 3 full traces after 7 examples for up to 1 rounds, amounting to 7 attempts.\n",
      "Bootstrapping set 3/12\n"
     ]
    },
    {
     "name": "stderr",
     "output_type": "stream",
     "text": [
      " 45%|████▌     | 9/20 [01:22<01:40,  9.13s/it]\n"
     ]
    },
    {
     "name": "stdout",
     "output_type": "stream",
     "text": [
      "Bootstrapped 3 full traces after 9 examples for up to 1 rounds, amounting to 9 attempts.\n",
      "Bootstrapping set 4/12\n"
     ]
    },
    {
     "name": "stderr",
     "output_type": "stream",
     "text": [
      " 10%|█         | 2/20 [00:09<01:23,  4.63s/it]\n"
     ]
    },
    {
     "name": "stdout",
     "output_type": "stream",
     "text": [
      "Bootstrapped 1 full traces after 2 examples for up to 1 rounds, amounting to 2 attempts.\n",
      "Bootstrapping set 5/12\n"
     ]
    },
    {
     "name": "stderr",
     "output_type": "stream",
     "text": [
      " 15%|█▌        | 3/20 [00:13<01:14,  4.37s/it]\n"
     ]
    },
    {
     "name": "stdout",
     "output_type": "stream",
     "text": [
      "Bootstrapped 3 full traces after 3 examples for up to 1 rounds, amounting to 3 attempts.\n",
      "Bootstrapping set 6/12\n"
     ]
    },
    {
     "name": "stderr",
     "output_type": "stream",
     "text": [
      " 30%|███       | 6/20 [00:13<00:30,  2.19s/it]\n"
     ]
    },
    {
     "name": "stdout",
     "output_type": "stream",
     "text": [
      "Bootstrapped 3 full traces after 6 examples for up to 1 rounds, amounting to 6 attempts.\n",
      "Bootstrapping set 7/12\n"
     ]
    },
    {
     "name": "stderr",
     "output_type": "stream",
     "text": [
      " 20%|██        | 4/20 [00:14<00:59,  3.74s/it]\n"
     ]
    },
    {
     "name": "stdout",
     "output_type": "stream",
     "text": [
      "Bootstrapped 3 full traces after 4 examples for up to 1 rounds, amounting to 4 attempts.\n",
      "Bootstrapping set 8/12\n"
     ]
    },
    {
     "name": "stderr",
     "output_type": "stream",
     "text": [
      " 30%|███       | 6/20 [00:43<01:40,  7.19s/it]\n"
     ]
    },
    {
     "name": "stdout",
     "output_type": "stream",
     "text": [
      "Bootstrapped 1 full traces after 6 examples for up to 1 rounds, amounting to 6 attempts.\n",
      "Bootstrapping set 9/12\n"
     ]
    },
    {
     "name": "stderr",
     "output_type": "stream",
     "text": [
      " 50%|█████     | 10/20 [01:02<01:02,  6.21s/it]\n"
     ]
    },
    {
     "name": "stdout",
     "output_type": "stream",
     "text": [
      "Bootstrapped 3 full traces after 10 examples for up to 1 rounds, amounting to 10 attempts.\n",
      "Bootstrapping set 10/12\n"
     ]
    },
    {
     "name": "stderr",
     "output_type": "stream",
     "text": [
      " 65%|██████▌   | 13/20 [00:00<00:00, 50.68it/s]\n"
     ]
    },
    {
     "name": "stdout",
     "output_type": "stream",
     "text": [
      "Bootstrapped 3 full traces after 13 examples for up to 1 rounds, amounting to 13 attempts.\n",
      "Bootstrapping set 11/12\n"
     ]
    },
    {
     "name": "stderr",
     "output_type": "stream",
     "text": [
      "  5%|▌         | 1/20 [00:00<00:00, 100.44it/s]\n"
     ]
    },
    {
     "name": "stdout",
     "output_type": "stream",
     "text": [
      "Bootstrapped 1 full traces after 1 examples for up to 1 rounds, amounting to 1 attempts.\n",
      "Bootstrapping set 12/12\n"
     ]
    },
    {
     "name": "stderr",
     "output_type": "stream",
     "text": [
      " 20%|██        | 4/20 [00:00<00:00, 97.14it/s]\n",
      "2025/07/19 17:07:51 INFO dspy.teleprompt.mipro_optimizer_v2: \n",
      "==> STEP 2: PROPOSE INSTRUCTION CANDIDATES <==\n",
      "2025/07/19 17:07:51 INFO dspy.teleprompt.mipro_optimizer_v2: We will use the few-shot examples from the previous step, a generated dataset summary, a summary of the program code, and a randomly selected prompting tip to propose instructions.\n"
     ]
    },
    {
     "name": "stdout",
     "output_type": "stream",
     "text": [
      "Bootstrapped 1 full traces after 4 examples for up to 1 rounds, amounting to 4 attempts.\n",
      "Error getting source code: unhashable type: 'dict'.\n",
      "\n",
      "Running without program aware proposer.\n"
     ]
    },
    {
     "name": "stderr",
     "output_type": "stream",
     "text": [
      "2025/07/19 17:08:03 INFO dspy.teleprompt.mipro_optimizer_v2: \n",
      "Proposing N=6 instructions...\n",
      "\n",
      "2025/07/19 17:09:44 INFO dspy.teleprompt.mipro_optimizer_v2: Proposed Instructions for Predictor 0:\n",
      "\n",
      "2025/07/19 17:09:44 INFO dspy.teleprompt.mipro_optimizer_v2: 0: Find all Wikipedia titles relevant to verifying (or refuting) the claim.\n",
      "\n",
      "You are an Agent. In each episode, you will be given the fields `claim` as input. And you can see your past trajectory so far.\n",
      "Your goal is to use one or more of the supplied tools to collect any necessary information for producing `titles`.\n",
      "\n",
      "To do this, you will interleave next_thought, next_tool_name, and next_tool_args in each turn, and also when finishing the task.\n",
      "After each tool call, you receive a resulting observation, which gets appended to your trajectory.\n",
      "\n",
      "When writing next_thought, you may reason about the current situation and plan for future steps.\n",
      "When selecting the next_tool_name and its next_tool_args, the tool must be one of:\n",
      "\n",
      "(1) search_wikipedia, whose description is <desc>Returns top-5 results and then the titles of the top-5 to top-30 results.</desc>. It takes arguments {'query': {'type': 'string'}}.\n",
      "(2) lookup_wikipedia, whose description is <desc>Returns the text of the Wikipedia page, if it exists.</desc>. It takes arguments {'title': {'type': 'string'}}.\n",
      "(3) finish, whose description is <desc>Marks the task as complete. That is, signals that all information for producing the outputs, i.e. `titles`, are now available to be extracted.</desc>. It takes arguments {}.\n",
      "When providing `next_tool_args`, the value inside the field must be in JSON format\n",
      "\n",
      "2025/07/19 17:09:44 INFO dspy.teleprompt.mipro_optimizer_v2: 1: Given a claim, use Wikipedia to find and list all relevant article titles that could help verify or refute the claim. Utilize tools to search for information, reason about the findings, and determine when you have gathered sufficient data to finalize the list of relevant titles.\n",
      "\n",
      "2025/07/19 17:09:44 INFO dspy.teleprompt.mipro_optimizer_v2: 2: Your task is to verify or refute a given claim by finding all relevant Wikipedia titles. You will be provided with a `claim` and your past trajectory. Use the available tools to gather information needed to produce the `titles`. Interleave your thoughts, tool selections, and arguments to systematically approach the task. Once you have collected enough information, conclude the task by marking it as complete.\n",
      "\n",
      "2025/07/19 17:09:44 INFO dspy.teleprompt.mipro_optimizer_v2: 3: You are tasked with verifying or refuting claims by finding relevant Wikipedia titles. For each claim, use the available tools to search for and gather information that will help verify the claim. Begin by identifying key entities and relationships within the claim, and then utilize the `search_wikipedia` tool to find potential Wikipedia articles. Analyze the results to determine the most relevant titles that can provide evidence or counter-evidence for the claim. Continue this process until you have collected all necessary information, then use the `finish` tool to mark the task as complete. Your goal is to produce a comprehensive list of Wikipedia titles that are pertinent to the verification of the claim.\n",
      "\n",
      "2025/07/19 17:09:44 INFO dspy.teleprompt.mipro_optimizer_v2: 4: Given a claim, use the tools available to verify or refute the claim by identifying relevant Wikipedia titles. Begin by analyzing the claim to determine key elements that need verification. Use the `search_wikipedia` tool to find relevant articles by querying with appropriate keywords extracted from the claim. Review the top results to determine if they provide the necessary information to verify or refute the claim. If further details are needed, utilize the `lookup_wikipedia` tool to delve deeper into specific articles. Once you have gathered sufficient information, use the `finish` tool to complete the task, ensuring that you have identified all Wikipedia titles that contribute to the verification of the claim.\n",
      "\n",
      "2025/07/19 17:09:44 INFO dspy.teleprompt.mipro_optimizer_v2: 5: Given a claim, utilize the tools provided to gather relevant information that can verify or refute the claim. Use the search_wikipedia tool to find pertinent Wikipedia titles that aid in the verification process. If necessary, use the lookup_wikipedia tool to get detailed content from specific pages. Once you have gathered sufficient information to address the claim, use the finish tool to complete the task. Your goal is to ensure the accuracy of the claim by leveraging available data from Wikipedia.\n",
      "\n",
      "2025/07/19 17:09:44 INFO dspy.teleprompt.mipro_optimizer_v2: \n",
      "\n",
      "2025/07/19 17:09:44 INFO dspy.teleprompt.mipro_optimizer_v2: Proposed Instructions for Predictor 1:\n",
      "\n",
      "2025/07/19 17:09:44 INFO dspy.teleprompt.mipro_optimizer_v2: 0: Find all Wikipedia titles relevant to verifying (or refuting) the claim.\n",
      "\n",
      "2025/07/19 17:09:44 INFO dspy.teleprompt.mipro_optimizer_v2: 1: Given a claim, use a series of Wikipedia searches to gather information and identify all relevant Wikipedia page titles that can help verify or refute the claim. Begin by breaking down the claim into its components, then perform targeted searches to find specific information related to each component. Collect and list the titles of Wikipedia pages that provide evidence or context for assessing the validity of the claim. Conclude by summarizing the findings and determining whether the claim is supported, refuted, or partially correct based on the gathered information.\n",
      "\n",
      "2025/07/19 17:09:44 INFO dspy.teleprompt.mipro_optimizer_v2: 2: Identify and list all Wikipedia page titles that provide information necessary for verifying or refuting a given claim about relationships or facts involving entities.\n",
      "\n",
      "2025/07/19 17:09:44 INFO dspy.teleprompt.mipro_optimizer_v2: 3: Given a claim, use Wikipedia search tools to identify and list all relevant Wikipedia page titles that would help in verifying or refuting the claim. Ensure that the search results cover all aspects of the claim and gather sufficient information to make a judgment on its accuracy.\n",
      "\n",
      "2025/07/19 17:09:44 INFO dspy.teleprompt.mipro_optimizer_v2: 4: Given a claim, identify and list all relevant Wikipedia titles that can be used to verify or refute the claim. Use search queries to gather information and ensure that the titles directly relate to the entities and relationships mentioned in the claim. Provide a comprehensive list of titles that are relevant to the verification process.\n",
      "\n",
      "2025/07/19 17:09:44 INFO dspy.teleprompt.mipro_optimizer_v2: 5: You are a fact-checking analyst. Your task is to find all Wikipedia titles that are relevant to verifying or refuting a given claim. Use the search tool to gather information, and ensure you identify pertinent articles that could support or challenge the claim's validity.\n",
      "\n",
      "2025/07/19 17:09:44 INFO dspy.teleprompt.mipro_optimizer_v2: \n",
      "\n",
      "2025/07/19 17:09:45 INFO dspy.teleprompt.mipro_optimizer_v2: ==> STEP 3: FINDING OPTIMAL PROMPT PARAMETERS <==\n",
      "2025/07/19 17:09:45 INFO dspy.teleprompt.mipro_optimizer_v2: We will evaluate the program over a series of trials with different combinations of instructions and few-shot examples to find the optimal combination using Bayesian Optimization.\n",
      "\n",
      "2025/07/19 17:09:45 INFO dspy.teleprompt.mipro_optimizer_v2: == Trial 1 / 35 - Full Evaluation of Default Program ==\n"
     ]
    },
    {
     "name": "stdout",
     "output_type": "stream",
     "text": [
      "  0%|          | 0/80 [00:00<?, ?it/s]"
     ]
    },
    {
     "name": "stderr",
     "output_type": "stream",
     "text": [
      "2025/07/19 17:10:04 ERROR dspy.utils.parallelizer: Error for Example({'claim': 'The director of From the Manger to the Cross also acted in it. The director Denis Villeneuve has won more Those Who Make Revolution Halfway than this director.', 'titles': ['Denis Villeneuve', 'Sidney Olcott', 'From the Manger to the Cross']}) (input_keys={'claim'}): litellm.RateLimitError: RateLimitError: Together_aiException - Request was rejected due to request rate limiting. Your rate limits are 60 RPM (1 QPS) and 60000 TPM (1000 TPS). See details: https://docs.together.ai/docs/rate-limits. Set `provide_traceback=True` for traceback.\n"
     ]
    },
    {
     "name": "stdout",
     "output_type": "stream",
     "text": [
      "Average Metric: 0.00 / 0 (0%):   1%|▏         | 1/80 [00:18<24:40, 18.74s/it]"
     ]
    },
    {
     "name": "stderr",
     "output_type": "stream",
     "text": [
      "2025/07/19 17:10:05 ERROR dspy.utils.parallelizer: Error for Example({'claim': 'German Frank Sinatra has won more awards than this Skinny Puppy band member, for whom the Rx (band) was a one-off side project.', 'titles': ['Frank Sinatra', 'Rx (band)', 'Nivek Ogre']}) (input_keys={'claim'}): litellm.RateLimitError: RateLimitError: Together_aiException - Request was rejected due to request rate limiting. Your rate limits are 60 RPM (1 QPS) and 60000 TPM (1000 TPS). See details: https://docs.together.ai/docs/rate-limits. Set `provide_traceback=True` for traceback.\n"
     ]
    },
    {
     "name": "stdout",
     "output_type": "stream",
     "text": [
      "Average Metric: 0.00 / 0 (0%):   2%|▎         | 2/80 [00:20<11:30,  8.86s/it]"
     ]
    },
    {
     "name": "stderr",
     "output_type": "stream",
     "text": [
      "2025/07/19 17:10:06 ERROR dspy.utils.parallelizer: Error for Example({'claim': 'The actor, who played Spellingg Bee\" in \"That\\'s My Bush!\", from Stockton, CA appeared in Psych, an American detective comedy-drama television series created by Steve Franks.', 'titles': ['Kurt Fuller', \"That's My Bush!\", 'Psych']}) (input_keys={'claim'}): litellm.RateLimitError: RateLimitError: Together_aiException - Request was rejected due to request rate limiting. Your rate limits are 60 RPM (1 QPS) and 60000 TPM (1000 TPS). See details: https://docs.together.ai/docs/rate-limits. Set `provide_traceback=True` for traceback.\n"
     ]
    },
    {
     "name": "stdout",
     "output_type": "stream",
     "text": [
      "Average Metric: 0.00 / 0 (0%):   4%|▍         | 3/80 [00:20<06:19,  4.92s/it]"
     ]
    },
    {
     "name": "stderr",
     "output_type": "stream",
     "text": [
      "2025/07/19 17:10:06 ERROR dspy.utils.parallelizer: Error for Example({'claim': 'Both the character, who is sometimes called the  \"Mad Hatter\" in adaptations of the book. and March Hare are characters in the book Alice\\'s Adventures in Wonderland', 'titles': [\"Hatter (Alice's Adventures in Wonderland)\", 'Mad Hatter (comics)', 'March Hare']}) (input_keys={'claim'}): litellm.RateLimitError: RateLimitError: Together_aiException - Request was rejected due to request rate limiting. Your rate limits are 60 RPM (1 QPS) and 60000 TPM (1000 TPS). See details: https://docs.together.ai/docs/rate-limits. Set `provide_traceback=True` for traceback.\n"
     ]
    },
    {
     "name": "stdout",
     "output_type": "stream",
     "text": [
      "Average Metric: 0.00 / 0 (0%):   5%|▌         | 4/80 [00:21<03:57,  3.13s/it]"
     ]
    },
    {
     "name": "stderr",
     "output_type": "stream",
     "text": [
      "2025/07/19 17:10:06 ERROR dspy.utils.parallelizer: Error for Example({'claim': 'The summer 2016 romantic drama \"Me Before You\" is directed by Thea Sharrock. The star of the film The Lost Future (who also appears in The Hunger Games) stars as the character Will Traynor.', 'titles': ['The Lost Future', 'Me Before You (film)', 'Sam Claflin']}) (input_keys={'claim'}): litellm.RateLimitError: RateLimitError: Together_aiException - Request was rejected due to request rate limiting. Your rate limits are 60 RPM (1 QPS) and 60000 TPM (1000 TPS). See details: https://docs.together.ai/docs/rate-limits. Set `provide_traceback=True` for traceback.\n"
     ]
    },
    {
     "name": "stdout",
     "output_type": "stream",
     "text": [
      "Average Metric: 0.00 / 0 (0%):   6%|▋         | 5/80 [00:21<02:33,  2.04s/it]"
     ]
    },
    {
     "name": "stderr",
     "output_type": "stream",
     "text": [
      "2025/07/19 17:10:08 ERROR dspy.utils.parallelizer: Error for Example({'claim': \"The real life person that James Woods' character is based on in the television film was awarded the Medal of Honor. Steven Vincent Leigh appeared in this film in 1987.\", 'titles': ['James Stockdale', 'Steven Vincent Leigh', 'In Love and War (1987 film)']}) (input_keys={'claim'}): litellm.RateLimitError: RateLimitError: Together_aiException - Request was rejected due to request rate limiting. Your rate limits are 60 RPM (1 QPS) and 60000 TPM (1000 TPS). See details: https://docs.together.ai/docs/rate-limits. Set `provide_traceback=True` for traceback.\n"
     ]
    },
    {
     "name": "stdout",
     "output_type": "stream",
     "text": [
      "Average Metric: 0.00 / 0 (0%):   8%|▊         | 6/80 [00:23<02:32,  2.06s/it]"
     ]
    },
    {
     "name": "stderr",
     "output_type": "stream",
     "text": [
      "2025/07/19 17:10:09 ERROR dspy.utils.parallelizer: Error for Example({'claim': 'Tim Swanson, who played keyboard for the \"Sweet Nothings\" album, was a member of a different jazz band. This band and Lit were not formed in the same states.', 'titles': ['Lit (band)', 'Sweet Nothings (album)', 'Ideamen']}) (input_keys={'claim'}): litellm.RateLimitError: RateLimitError: Together_aiException - Request was rejected due to request rate limiting. Your rate limits are 60 RPM (1 QPS) and 60000 TPM (1000 TPS). See details: https://docs.together.ai/docs/rate-limits. Set `provide_traceback=True` for traceback.\n"
     ]
    },
    {
     "name": "stdout",
     "output_type": "stream",
     "text": [
      "Average Metric: 0.00 / 0 (0%):   9%|▉         | 7/80 [00:24<02:00,  1.65s/it]"
     ]
    },
    {
     "name": "stderr",
     "output_type": "stream",
     "text": [
      "2025/07/19 17:10:09 ERROR dspy.utils.parallelizer: Error for Example({'claim': 'Lincoln Barrett is the real name of the welsh electronic music producer DJ who have been visited the night club  in Vienna hundreds of times. The Waves of Vienna festival takes place in the same nightclub.', 'titles': ['Flex (club)', 'Waves Vienna', 'High Contrast']}) (input_keys={'claim'}): litellm.RateLimitError: RateLimitError: Together_aiException - Request was rejected due to request rate limiting. Your rate limits are 60 RPM (1 QPS) and 60000 TPM (1000 TPS). See details: https://docs.together.ai/docs/rate-limits. Set `provide_traceback=True` for traceback.\n"
     ]
    },
    {
     "name": "stdout",
     "output_type": "stream",
     "text": [
      "Average Metric: 0.00 / 0 (0%):  10%|█         | 8/80 [00:24<01:23,  1.16s/it]"
     ]
    },
    {
     "name": "stderr",
     "output_type": "stream",
     "text": [
      "2025/07/19 17:10:15 ERROR dspy.utils.parallelizer: Error for Example({'claim': 'Lari Michele White is the county music artist that first gained national attention as a winner on \"You Can Be a Star\". She then went on to provide background vocals on the first single of the album, Now and Then.', 'titles': ['Lari White', 'Take It Like a Man (Michelle Wright song)', 'Now and Then (Michelle Wright album)']}) (input_keys={'claim'}): litellm.RateLimitError: RateLimitError: Together_aiException - Request was rejected due to request rate limiting. Your rate limits are 60 RPM (1 QPS) and 60000 TPM (1000 TPS). See details: https://docs.together.ai/docs/rate-limits. Set `provide_traceback=True` for traceback.\n"
     ]
    },
    {
     "name": "stdout",
     "output_type": "stream",
     "text": [
      "Average Metric: 0.00 / 0 (0%):  11%|█▏        | 9/80 [00:30<03:07,  2.64s/it]"
     ]
    },
    {
     "name": "stderr",
     "output_type": "stream",
     "text": [
      "2025/07/19 17:10:21 ERROR dspy.utils.parallelizer: Error for Example({'claim': 'The city containing the Parafield railway station is very near the airport and the Mawson Lakes campus of the University of South Australia.', 'titles': ['Parafield, South Australia', 'Parafield railway station', 'Parafield Airport']}) (input_keys={'claim'}): litellm.RateLimitError: RateLimitError: Together_aiException - Request was rejected due to request rate limiting. Your rate limits are 60 RPM (1 QPS) and 60000 TPM (1000 TPS). See details: https://docs.together.ai/docs/rate-limits. Set `provide_traceback=True` for traceback.\n"
     ]
    },
    {
     "name": "stdout",
     "output_type": "stream",
     "text": [
      "Average Metric: 0.00 / 0 (0%):  12%|█▎        | 10/80 [00:36<04:16,  3.66s/it]"
     ]
    },
    {
     "name": "stderr",
     "output_type": "stream",
     "text": [
      "2025/07/19 17:10:22 ERROR dspy.utils.parallelizer: Error for Example({'claim': 'Bowdoin College was established before another university. This university was attended by John Wesley Hughes.', 'titles': ['Vanderbilt University', 'John Wesley Hughes', 'Bowdoin College']}) (input_keys={'claim'}): litellm.RateLimitError: RateLimitError: Together_aiException - Request was rejected due to request rate limiting. Your rate limits are 60 RPM (1 QPS) and 60000 TPM (1000 TPS). See details: https://docs.together.ai/docs/rate-limits. Set `provide_traceback=True` for traceback.\n"
     ]
    },
    {
     "name": "stdout",
     "output_type": "stream",
     "text": [
      "Average Metric: 0.00 / 0 (0%):  14%|█▍        | 11/80 [00:37<03:23,  2.94s/it]"
     ]
    },
    {
     "name": "stderr",
     "output_type": "stream",
     "text": [
      "2025/07/19 17:10:24 ERROR dspy.utils.parallelizer: Error for Example({'claim': 'The founder of Legendary Entertainment produced the movie, The Hangover, which was based in Las Vegas.', 'titles': ['Legendary Entertainment', 'Thomas Tull', 'The Hangover']}) (input_keys={'claim'}): Adapter JSONAdapter failed to parse the LM response. \n",
      "\n",
      "LM Response: {\" \n",
      "    } \n",
      "\n",
      "Expected to find output fields in the LM response: [next_thought, next_tool_name, next_tool_args] \n",
      "\n",
      "Actual output fields parsed from the LM response: [] \n",
      "\n",
      ". Set `provide_traceback=True` for traceback.\n"
     ]
    },
    {
     "name": "stdout",
     "output_type": "stream",
     "text": [
      "Average Metric: 0.00 / 0 (0%):  15%|█▌        | 12/80 [00:39<02:52,  2.54s/it]"
     ]
    },
    {
     "name": "stderr",
     "output_type": "stream",
     "text": [
      "2025/07/19 17:10:25 ERROR dspy.utils.parallelizer: Error for Example({'claim': 'Christopher Whitelaw Pine appeared in the films that inspired Good Luck! and \"Into the Woods\".', 'titles': ['Just My Luck (2006 film)', 'Good Luck!', 'Chris Pine']}) (input_keys={'claim'}): litellm.RateLimitError: RateLimitError: Together_aiException - Request was rejected due to request rate limiting. Your rate limits are 60 RPM (1 QPS) and 60000 TPM (1000 TPS). See details: https://docs.together.ai/docs/rate-limits. Set `provide_traceback=True` for traceback.\n"
     ]
    },
    {
     "name": "stdout",
     "output_type": "stream",
     "text": [
      "Average Metric: 0.00 / 0 (0%):  16%|█▋        | 13/80 [00:40<02:15,  2.02s/it]"
     ]
    },
    {
     "name": "stderr",
     "output_type": "stream",
     "text": [
      "2025/07/19 17:10:25 ERROR dspy.utils.parallelizer: Error for Example({'claim': 'Mother Mother (song) was the last song by a female solo artist to top this chart until the song was the first song released by Lorde by New Zealand singer Lorde. Also to be released later on her debut studio album.', 'titles': ['Royals (song)', 'Mother Mother (song)', 'Tennis Court (song)']}) (input_keys={'claim'}): litellm.RateLimitError: RateLimitError: Together_aiException - Request was rejected due to request rate limiting. Your rate limits are 60 RPM (1 QPS) and 60000 TPM (1000 TPS). See details: https://docs.together.ai/docs/rate-limits. Set `provide_traceback=True` for traceback.\n"
     ]
    },
    {
     "name": "stdout",
     "output_type": "stream",
     "text": [
      "Average Metric: 0.00 / 0 (0%):  18%|█▊        | 14/80 [00:40<01:36,  1.46s/it]"
     ]
    },
    {
     "name": "stderr",
     "output_type": "stream",
     "text": [
      "2025/07/19 17:10:27 ERROR dspy.utils.parallelizer: Error for Example({'claim': \"The defending champion who lost the Singles title at the 1994 Waldbaum's Hamlet Cup, and Max Mirnyi have both been tennis players.\", 'titles': ['Max Mirnyi', \"1994 Waldbaum's Hamlet Cup – Singles\", 'Marc Rosset']}) (input_keys={'claim'}): litellm.RateLimitError: RateLimitError: Together_aiException - Request was rejected due to request rate limiting. Your rate limits are 60 RPM (1 QPS) and 60000 TPM (1000 TPS). See details: https://docs.together.ai/docs/rate-limits. Set `provide_traceback=True` for traceback.\n"
     ]
    },
    {
     "name": "stdout",
     "output_type": "stream",
     "text": [
      "Average Metric: 0.00 / 0 (0%):  19%|█▉        | 15/80 [00:41<01:40,  1.55s/it]"
     ]
    },
    {
     "name": "stderr",
     "output_type": "stream",
     "text": [
      "2025/07/19 17:10:27 ERROR dspy.utils.parallelizer: Error for Example({'claim': 'Markounda is a sub-prefecture that borders an Central African Republic country bordered by Libya and the Sudan and is known for the Dar Sila region.', 'titles': ['Markounda', 'Sila Region', 'Chad']}) (input_keys={'claim'}): litellm.RateLimitError: RateLimitError: Together_aiException - Request was rejected due to request rate limiting. Your rate limits are 60 RPM (1 QPS) and 60000 TPM (1000 TPS). See details: https://docs.together.ai/docs/rate-limits. Set `provide_traceback=True` for traceback.\n"
     ]
    },
    {
     "name": "stdout",
     "output_type": "stream",
     "text": [
      "Average Metric: 0.00 / 1 (0.0%):  21%|██▏       | 17/80 [00:47<02:39,  2.53s/it]"
     ]
    },
    {
     "name": "stderr",
     "output_type": "stream",
     "text": [
      "2025/07/19 17:10:34 ERROR dspy.utils.parallelizer: Error for Example({'claim': 'The director Jonathan Demme presented Made in Texas at a theater in Lower Manhattan which featured work from the filmmaker Dziga Vertov also known as Denis Kaufman.', 'titles': ['Collective for Living Cinema', 'Made in Texas', 'Dziga Vertov']}) (input_keys={'claim'}): litellm.RateLimitError: RateLimitError: Together_aiException - Request was rejected due to request rate limiting. Your rate limits are 60 RPM (1 QPS) and 60000 TPM (1000 TPS). See details: https://docs.together.ai/docs/rate-limits. Set `provide_traceback=True` for traceback.\n"
     ]
    },
    {
     "name": "stdout",
     "output_type": "stream",
     "text": [
      "Average Metric: 0.00 / 1 (0.0%):  22%|██▎       | 18/80 [00:48<02:09,  2.09s/it]"
     ]
    },
    {
     "name": "stderr",
     "output_type": "stream",
     "text": [
      "2025/07/19 17:10:34 ERROR dspy.utils.parallelizer: Error for Example({'claim': 'This Greek poet was born before Cornel West. His works were translated to English by David Connolly.', 'titles': ['David Connolly (translator)', 'Odysseas Elytis', 'Cornel West']}) (input_keys={'claim'}): litellm.RateLimitError: RateLimitError: Together_aiException - Request was rejected due to request rate limiting. Your rate limits are 60 RPM (1 QPS) and 60000 TPM (1000 TPS). See details: https://docs.together.ai/docs/rate-limits. Set `provide_traceback=True` for traceback.\n"
     ]
    },
    {
     "name": "stdout",
     "output_type": "stream",
     "text": [
      "Average Metric: 0.00 / 1 (0.0%):  22%|██▎       | 18/80 [00:48<02:09,  2.09s/it]"
     ]
    },
    {
     "name": "stderr",
     "output_type": "stream",
     "text": [
      "2025/07/19 17:10:36 ERROR dspy.utils.parallelizer: Error for Example({'claim': 'Mountain Dew is owned by the Pepsi-Cola company. So is the producer of orange juice founded by Anthony T. Rossi.', 'titles': ['Tropicana Products', 'Anthony T. Rossi', 'Mountain Dew']}) (input_keys={'claim'}): litellm.RateLimitError: RateLimitError: Together_aiException - Request was rejected due to request rate limiting. Your rate limits are 60 RPM (1 QPS) and 60000 TPM (1000 TPS). See details: https://docs.together.ai/docs/rate-limits. Set `provide_traceback=True` for traceback.\n"
     ]
    },
    {
     "name": "stdout",
     "output_type": "stream",
     "text": [
      "Average Metric: 0.00 / 1 (0.0%):  25%|██▌       | 20/80 [00:51<01:40,  1.68s/it]"
     ]
    },
    {
     "name": "stderr",
     "output_type": "stream",
     "text": [
      "2025/07/19 17:10:39 ERROR dspy.utils.parallelizer: Error for Example({'claim': 'The college which the Charleston architect, hired to remodel Louis Gourd House, taught at was founded in 1770.', 'titles': ['College of Charleston', 'Louis Gourd House', 'Albert Simons']}) (input_keys={'claim'}): litellm.RateLimitError: RateLimitError: Together_aiException - Request was rejected due to request rate limiting. Your rate limits are 60 RPM (1 QPS) and 60000 TPM (1000 TPS). See details: https://docs.together.ai/docs/rate-limits. Set `provide_traceback=True` for traceback.\n"
     ]
    },
    {
     "name": "stdout",
     "output_type": "stream",
     "text": [
      "Average Metric: 0.00 / 1 (0.0%):  26%|██▋       | 21/80 [00:54<01:59,  2.02s/it]"
     ]
    },
    {
     "name": "stderr",
     "output_type": "stream",
     "text": [
      "2025/07/19 17:10:40 ERROR dspy.utils.parallelizer: Error for Example({'claim': 'The actor, who starred in the thriller 400 Boys, plays Marilyn Monroe in a film based on the novel \"Northern Lights\".', 'titles': ['Charlie Rowe', '400 Boys', 'The Golden Compass (film)']}) (input_keys={'claim'}): litellm.RateLimitError: RateLimitError: Together_aiException - Request was rejected due to request rate limiting. Your rate limits are 60 RPM (1 QPS) and 60000 TPM (1000 TPS). See details: https://docs.together.ai/docs/rate-limits. Set `provide_traceback=True` for traceback.\n"
     ]
    },
    {
     "name": "stdout",
     "output_type": "stream",
     "text": [
      "Average Metric: 0.00 / 1 (0.0%):  28%|██▊       | 22/80 [00:54<01:33,  1.62s/it]"
     ]
    },
    {
     "name": "stderr",
     "output_type": "stream",
     "text": [
      "2025/07/19 17:10:41 ERROR dspy.utils.parallelizer: Error for Example({'claim': 'The band Billy Anderson produces has the guitarist Gorden Mack, and the band Daughtry.', 'titles': ['Daughtry (band)', 'Billy Anderson (producer)', 'Red House Painters']}) (input_keys={'claim'}): litellm.RateLimitError: RateLimitError: Together_aiException - Request was rejected due to request rate limiting. Your rate limits are 60 RPM (1 QPS) and 60000 TPM (1000 TPS). See details: https://docs.together.ai/docs/rate-limits. Set `provide_traceback=True` for traceback.\n"
     ]
    },
    {
     "name": "stdout",
     "output_type": "stream",
     "text": [
      "Average Metric: 0.00 / 1 (0.0%):  29%|██▉       | 23/80 [00:56<01:33,  1.64s/it]"
     ]
    },
    {
     "name": "stderr",
     "output_type": "stream",
     "text": [
      "2025/07/19 17:10:43 ERROR dspy.utils.parallelizer: Error for Example({'claim': 'Anthony Sandler is the Chief of Pediatric Surgery at a large hospital. MedStar Washington Hospital Center is the largest private hospital in Washington, D.C. not this hospital.', 'titles': ['MedStar Washington Hospital Center', \"Children's National Medical Center\", 'Anthony Sandler']}) (input_keys={'claim'}): litellm.RateLimitError: RateLimitError: Together_aiException - Request was rejected due to request rate limiting. Your rate limits are 60 RPM (1 QPS) and 60000 TPM (1000 TPS). See details: https://docs.together.ai/docs/rate-limits. Set `provide_traceback=True` for traceback.\n"
     ]
    },
    {
     "name": "stdout",
     "output_type": "stream",
     "text": [
      "Average Metric: 0.00 / 1 (0.0%):  30%|███       | 24/80 [00:58<01:33,  1.68s/it]"
     ]
    },
    {
     "name": "stderr",
     "output_type": "stream",
     "text": [
      "2025/07/19 17:10:43 ERROR dspy.utils.parallelizer: Error for Example({'claim': \"Daniel Boone's trail ran through Arcadia, Tennessee in 1775. This unofficial trail, which leads into Kentucky, was near one of locales of the Green-Jones War. It was turned down to become the National Road.\", 'titles': ['Wilderness Road', 'Arcadia, Tennessee', 'Greene–Jones War']}) (input_keys={'claim'}): litellm.RateLimitError: RateLimitError: Together_aiException - Request was rejected due to request rate limiting. Your rate limits are 60 RPM (1 QPS) and 60000 TPM (1000 TPS). See details: https://docs.together.ai/docs/rate-limits. Set `provide_traceback=True` for traceback.\n"
     ]
    },
    {
     "name": "stdout",
     "output_type": "stream",
     "text": [
      "Average Metric: 0.00 / 1 (0.0%):  31%|███▏      | 25/80 [00:58<01:08,  1.24s/it]"
     ]
    },
    {
     "name": "stderr",
     "output_type": "stream",
     "text": [
      "2025/07/19 17:10:47 ERROR dspy.utils.parallelizer: Error for Example({'claim': 'Danyang, Jiangusu and this city are both cities in China. This city was the birthplace of Chen Xiuke.', 'titles': ['Danyang, Jiangsu', 'Dongfang, Hainan', 'Chen Xiuke']}) (input_keys={'claim'}): Adapter JSONAdapter failed to parse the LM response. \n",
      "\n",
      "LM Response: {\"} \n",
      "\n",
      "Expected to find output fields in the LM response: [next_thought, next_tool_name, next_tool_args] \n",
      "\n",
      "Actual output fields parsed from the LM response: [] \n",
      "\n",
      ". Set `provide_traceback=True` for traceback.\n"
     ]
    },
    {
     "name": "stdout",
     "output_type": "stream",
     "text": [
      "Average Metric: 0.00 / 1 (0.0%):  32%|███▎      | 26/80 [01:01<01:41,  1.88s/it]"
     ]
    },
    {
     "name": "stderr",
     "output_type": "stream",
     "text": [
      "2025/07/19 17:10:50 ERROR dspy.utils.parallelizer: Error for Example({'claim': 'This woman directed the 2005 Disney Channel Original Movie Go Figure whose soundtrack was released on June 7th. She also directed the comedy movie Sugar & Spice.', 'titles': ['Go Figure (film)', 'Sugar &amp; Spice', 'Francine McDougall']}) (input_keys={'claim'}): litellm.RateLimitError: RateLimitError: Together_aiException - Request was rejected due to request rate limiting. Your rate limits are 60 RPM (1 QPS) and 60000 TPM (1000 TPS). See details: https://docs.together.ai/docs/rate-limits. Set `provide_traceback=True` for traceback.\n"
     ]
    },
    {
     "name": "stdout",
     "output_type": "stream",
     "text": [
      "Average Metric: 0.00 / 1 (0.0%):  34%|███▍      | 27/80 [01:05<01:59,  2.25s/it]"
     ]
    },
    {
     "name": "stderr",
     "output_type": "stream",
     "text": [
      "2025/07/19 17:10:52 ERROR dspy.utils.parallelizer: Error for Example({'claim': 'Il trovatore has more acts than the 1994 Hungarian-Swiss-Italian fantasy film which was loosely inspired by. This Hungarian-Swiss-Italian fantasy film was directed by Ildikó Enyedi and called Magic Hunter.', 'titles': ['Der Freischütz', 'Il trovatore', 'Magic Hunter']}) (input_keys={'claim'}): litellm.RateLimitError: RateLimitError: Together_aiException - Request was rejected due to request rate limiting. Your rate limits are 60 RPM (1 QPS) and 60000 TPM (1000 TPS). See details: https://docs.together.ai/docs/rate-limits. Set `provide_traceback=True` for traceback.\n"
     ]
    },
    {
     "name": "stdout",
     "output_type": "stream",
     "text": [
      "Average Metric: 0.00 / 1 (0.0%):  35%|███▌      | 28/80 [01:06<01:47,  2.07s/it]"
     ]
    },
    {
     "name": "stderr",
     "output_type": "stream",
     "text": [
      "2025/07/19 17:10:52 ERROR dspy.utils.parallelizer: Error for Example({'claim': 'This equatorial island is known for Breacachadh which is also known as Breachacha Castle. It is also home to Dùn Dubh.', 'titles': ['Dùn Dubh', 'Breachacha Castle', 'Coll']}) (input_keys={'claim'}): litellm.RateLimitError: RateLimitError: Together_aiException - Request was rejected due to request rate limiting. Your rate limits are 60 RPM (1 QPS) and 60000 TPM (1000 TPS). See details: https://docs.together.ai/docs/rate-limits. Set `provide_traceback=True` for traceback.\n"
     ]
    },
    {
     "name": "stdout",
     "output_type": "stream",
     "text": [
      "Average Metric: 0.00 / 1 (0.0%):  36%|███▋      | 29/80 [01:07<01:24,  1.65s/it]"
     ]
    },
    {
     "name": "stderr",
     "output_type": "stream",
     "text": [
      "2025/07/19 17:10:58 ERROR dspy.utils.parallelizer: Error for Example({'claim': 'Neither the director of the 1943 film \"Young and Willing\" nor Edward Burns are from Guatemala.', 'titles': ['Edward H. Griffith', 'Edward Burns', 'Young and Willing']}) (input_keys={'claim'}): litellm.RateLimitError: RateLimitError: Together_aiException - Request was rejected due to request rate limiting. Your rate limits are 60 RPM (1 QPS) and 60000 TPM (1000 TPS). See details: https://docs.together.ai/docs/rate-limits. Set `provide_traceback=True` for traceback.\n"
     ]
    },
    {
     "name": "stdout",
     "output_type": "stream",
     "text": [
      "Average Metric: 0.00 / 1 (0.0%):  38%|███▊      | 30/80 [01:12<02:19,  2.80s/it]"
     ]
    },
    {
     "name": "stderr",
     "output_type": "stream",
     "text": [
      "2025/07/19 17:10:58 ERROR dspy.utils.parallelizer: Error for Example({'claim': 'This character as featured in the comic book, Hellblazer Special: Bad Blood. He is  is the fictional antihero from comic books published by DC Comics, who sometimes acts as a cab driver, and was created by Alan Moore, Steve Bissette, and John Totleben.', 'titles': ['Chas Chandler (comics)', 'Hellblazer Special: Bad Blood', 'John Constantine']}) (input_keys={'claim'}): litellm.RateLimitError: RateLimitError: Together_aiException - Request was rejected due to request rate limiting. Your rate limits are 60 RPM (1 QPS) and 60000 TPM (1000 TPS). See details: https://docs.together.ai/docs/rate-limits. Set `provide_traceback=True` for traceback.\n"
     ]
    },
    {
     "name": "stdout",
     "output_type": "stream",
     "text": [
      "Average Metric: 0.00 / 1 (0.0%):  39%|███▉      | 31/80 [01:13<01:41,  2.07s/it]"
     ]
    },
    {
     "name": "stderr",
     "output_type": "stream",
     "text": [
      "2025/07/19 17:10:58 ERROR dspy.utils.parallelizer: Error for Example({'claim': 'Radiation Vibe is the first chart-topping single from the debut album of the band formed in 1995 that came out with an album called \"Welcome Interstate Managers\\'.', 'titles': [\"Stacy's Mom\", 'Fountains of Wayne', 'Radiation Vibe']}) (input_keys={'claim'}): litellm.RateLimitError: RateLimitError: Together_aiException - Request was rejected due to request rate limiting. Your rate limits are 60 RPM (1 QPS) and 60000 TPM (1000 TPS). See details: https://docs.together.ai/docs/rate-limits. Set `provide_traceback=True` for traceback.\n"
     ]
    },
    {
     "name": "stdout",
     "output_type": "stream",
     "text": [
      "Average Metric: 0.00 / 1 (0.0%):  39%|███▉      | 31/80 [01:13<01:41,  2.07s/it]"
     ]
    },
    {
     "name": "stderr",
     "output_type": "stream",
     "text": [
      "2025/07/19 17:11:02 ERROR dspy.utils.parallelizer: Error for Example({'claim': 'In addition to Creative Artists Agency and the individual who left the group in January 2010 to pursue her academic career, Yubin and Yeeun were the other two final members of the group whose third mini album was named Wonder Party.', 'titles': ['Sunmi', 'Wonder Party', 'Wonder Girls']}) (input_keys={'claim'}): litellm.RateLimitError: RateLimitError: Together_aiException - Request was rejected due to request rate limiting. Your rate limits are 60 RPM (1 QPS) and 60000 TPM (1000 TPS). See details: https://docs.together.ai/docs/rate-limits. Set `provide_traceback=True` for traceback.\n"
     ]
    },
    {
     "name": "stdout",
     "output_type": "stream",
     "text": [
      "Average Metric: 0.00 / 1 (0.0%):  41%|████▏     | 33/80 [01:16<01:30,  1.93s/it]"
     ]
    },
    {
     "name": "stderr",
     "output_type": "stream",
     "text": [
      "2025/07/19 17:11:02 ERROR dspy.utils.parallelizer: Error for Example({'claim': 'The actress that starred as a parent in Sky High (2005 film) is married to John Travolta. She also starred in a summer 1994 film about a pregnant woman who is stranded at a trading post during the American Civil War.', 'titles': ['Sky High (2005 film)', 'Cheyenne Warrior', 'Kelly Preston']}) (input_keys={'claim'}): litellm.RateLimitError: RateLimitError: Together_aiException - Request was rejected due to request rate limiting. Your rate limits are 60 RPM (1 QPS) and 60000 TPM (1000 TPS). See details: https://docs.together.ai/docs/rate-limits. Set `provide_traceback=True` for traceback.\n"
     ]
    },
    {
     "name": "stdout",
     "output_type": "stream",
     "text": [
      "Average Metric: 0.00 / 1 (0.0%):  42%|████▎     | 34/80 [01:17<01:09,  1.50s/it]"
     ]
    },
    {
     "name": "stderr",
     "output_type": "stream",
     "text": [
      "2025/07/19 17:11:02 ERROR dspy.utils.parallelizer: Error for Example({'claim': '\"Licence Revoked\" was the original title during production of a war film that has the actor from Maniac Cop 2. The actor stars as villain Franz Sanchez in \"Licence Revoked\".', 'titles': ['Licence to Kill', 'Robert Davi', 'Maniac Cop 2']}) (input_keys={'claim'}): litellm.RateLimitError: RateLimitError: Together_aiException - Request was rejected due to request rate limiting. Your rate limits are 60 RPM (1 QPS) and 60000 TPM (1000 TPS). See details: https://docs.together.ai/docs/rate-limits. Set `provide_traceback=True` for traceback.\n"
     ]
    },
    {
     "name": "stdout",
     "output_type": "stream",
     "text": [
      "Average Metric: 0.00 / 1 (0.0%):  44%|████▍     | 35/80 [01:17<00:55,  1.23s/it]"
     ]
    },
    {
     "name": "stderr",
     "output_type": "stream",
     "text": [
      "2025/07/19 17:11:08 ERROR dspy.utils.parallelizer: Error for Example({'claim': 'Fredric March costarred in 1935 Australian drama film that Frances Drake is best know for, with the husband of Elsa Lanchester.', 'titles': ['Frances Drake', 'Charles Laughton', 'Les Misérables (1935 film)']}) (input_keys={'claim'}): litellm.RateLimitError: RateLimitError: Together_aiException - Request was rejected due to request rate limiting. Your rate limits are 60 RPM (1 QPS) and 60000 TPM (1000 TPS). See details: https://docs.together.ai/docs/rate-limits. Set `provide_traceback=True` for traceback.\n"
     ]
    },
    {
     "name": "stdout",
     "output_type": "stream",
     "text": [
      "Average Metric: 0.00 / 1 (0.0%):  44%|████▍     | 35/80 [01:23<00:55,  1.23s/it]"
     ]
    },
    {
     "name": "stderr",
     "output_type": "stream",
     "text": [
      "2025/07/19 17:11:08 ERROR dspy.utils.parallelizer: Error for Example({'claim': 'The star of Nothing to Report and Gary Barlow have a profession in common.', 'titles': ['Gary Barlow', 'Chris Jericho', 'Nothing to Report']}) (input_keys={'claim'}): litellm.RateLimitError: RateLimitError: Together_aiException - Request was rejected due to request rate limiting. Your rate limits are 60 RPM (1 QPS) and 60000 TPM (1000 TPS). See details: https://docs.together.ai/docs/rate-limits. Set `provide_traceback=True` for traceback.\n"
     ]
    },
    {
     "name": "stdout",
     "output_type": "stream",
     "text": [
      "Average Metric: 0.00 / 1 (0.0%):  45%|████▌     | 36/80 [01:23<01:52,  2.57s/it]"
     ]
    },
    {
     "name": "stderr",
     "output_type": "stream",
     "text": [
      "2025/07/19 17:11:09 ERROR dspy.utils.parallelizer: Error for Example({'claim': 'Delta–Mendota Canal is an aqueduct used to divert a canal. The All-American Canal is longer than that canal.', 'titles': ['Delta–Mendota Canal', 'Madera Canal', 'All-American Canal']}) (input_keys={'claim'}): litellm.RateLimitError: RateLimitError: Together_aiException - Request was rejected due to request rate limiting. Your rate limits are 60 RPM (1 QPS) and 60000 TPM (1000 TPS). See details: https://docs.together.ai/docs/rate-limits. Set `provide_traceback=True` for traceback.\n"
     ]
    },
    {
     "name": "stdout",
     "output_type": "stream",
     "text": [
      "Average Metric: 0.00 / 1 (0.0%):  46%|████▋     | 37/80 [01:23<01:50,  2.57s/it]"
     ]
    },
    {
     "name": "stderr",
     "output_type": "stream",
     "text": [
      "2025/07/19 17:11:12 ERROR dspy.utils.parallelizer: Error for Example({'claim': 'The owner of Tatoosh (yacht) has a sister named Jo Lynn \"Jody\". He is an South African business magnate, investor and philanthropist.', 'titles': ['Jody Allen', 'Paul Allen', 'Tatoosh (yacht)']}) (input_keys={'claim'}): litellm.RateLimitError: RateLimitError: Together_aiException - Request was rejected due to request rate limiting. Your rate limits are 60 RPM (1 QPS) and 60000 TPM (1000 TPS). See details: https://docs.together.ai/docs/rate-limits. Set `provide_traceback=True` for traceback.\n"
     ]
    },
    {
     "name": "stdout",
     "output_type": "stream",
     "text": [
      "Average Metric: 0.00 / 1 (0.0%):  49%|████▉     | 39/80 [01:27<01:15,  1.84s/it]"
     ]
    },
    {
     "name": "stderr",
     "output_type": "stream",
     "text": [
      "2025/07/19 17:11:12 ERROR dspy.utils.parallelizer: Error for Example({'claim': 'The 1935 propaganda documentary, on which Karl Attenberger worked with Leni Riefenstahl, and The End of America were not both made in the same year.', 'titles': ['Triumph of the Will', 'The End of America (film)', 'Karl Attenberger']}) (input_keys={'claim'}): litellm.RateLimitError: RateLimitError: Together_aiException - Request was rejected due to request rate limiting. Your rate limits are 60 RPM (1 QPS) and 60000 TPM (1000 TPS). See details: https://docs.together.ai/docs/rate-limits. Set `provide_traceback=True` for traceback.\n"
     ]
    },
    {
     "name": "stdout",
     "output_type": "stream",
     "text": [
      "Average Metric: 0.00 / 1 (0.0%):  50%|█████     | 40/80 [01:27<01:00,  1.50s/it]"
     ]
    },
    {
     "name": "stderr",
     "output_type": "stream",
     "text": [
      "2025/07/19 17:11:15 ERROR dspy.utils.parallelizer: Error for Example({'claim': 'Cork has several third level colleges including NMIO, the Crawford College of Art and Design and one other. The 2016 population of the county where the other school is located was 542,196.', 'titles': ['Education in Cork', 'National Maritime College of Ireland', 'County Cork']}) (input_keys={'claim'}): litellm.RateLimitError: RateLimitError: Together_aiException - Request was rejected due to request rate limiting. Your rate limits are 60 RPM (1 QPS) and 60000 TPM (1000 TPS). See details: https://docs.together.ai/docs/rate-limits. Set `provide_traceback=True` for traceback.\n"
     ]
    },
    {
     "name": "stdout",
     "output_type": "stream",
     "text": [
      "Average Metric: 0.00 / 1 (0.0%):  51%|█████▏    | 41/80 [01:29<01:07,  1.73s/it]"
     ]
    },
    {
     "name": "stderr",
     "output_type": "stream",
     "text": [
      "2025/07/19 17:11:23 ERROR dspy.utils.parallelizer: Error for Example({'claim': 'An Greek actor who was a CIA operative in Chuck Versus the A-Team was born in 1974. The actor plays a character in commercials for Old Spice.', 'titles': ['Make a Smellmitment', 'Chuck Versus the A-Team', 'Isaiah Mustafa']}) (input_keys={'claim'}): litellm.RateLimitError: RateLimitError: Together_aiException - Request was rejected due to request rate limiting. Your rate limits are 60 RPM (1 QPS) and 60000 TPM (1000 TPS). See details: https://docs.together.ai/docs/rate-limits. Set `provide_traceback=True` for traceback.\n"
     ]
    },
    {
     "name": "stdout",
     "output_type": "stream",
     "text": [
      "Average Metric: 0.00 / 1 (0.0%):  52%|█████▎    | 42/80 [01:37<02:01,  3.19s/it]"
     ]
    },
    {
     "name": "stderr",
     "output_type": "stream",
     "text": [
      "2025/07/19 17:11:24 ERROR dspy.utils.parallelizer: Error for Example({'claim': 'Brady Seals has released more solo albums than the rapper who Avril Lavigne featured on the song Get Over Me with.', 'titles': ['Nick Carter (musician)', 'Brady Seals', 'Get Over Me']}) (input_keys={'claim'}): litellm.RateLimitError: RateLimitError: Together_aiException - Request was rejected due to request rate limiting. Your rate limits are 60 RPM (1 QPS) and 60000 TPM (1000 TPS). See details: https://docs.together.ai/docs/rate-limits. Set `provide_traceback=True` for traceback.\n",
      "2025/07/19 17:11:24 ERROR dspy.utils.parallelizer: Error for Example({'claim': 'Irish footballer, John Francis O\\'Shea, joined a company in 1950. This company made the TV movie \"The Coastwatchers\"', 'titles': [\"John O'Shea\", 'Pacific Films', 'The Coastwatchers (TV movie)']}) (input_keys={'claim'}): litellm.RateLimitError: RateLimitError: Together_aiException - Request was rejected due to request rate limiting. Your rate limits are 60 RPM (1 QPS) and 60000 TPM (1000 TPS). See details: https://docs.together.ai/docs/rate-limits. Set `provide_traceback=True` for traceback.\n"
     ]
    },
    {
     "name": "stdout",
     "output_type": "stream",
     "text": [
      "Average Metric: 0.00 / 1 (0.0%):  54%|█████▍    | 43/80 [01:39<01:46,  2.87s/it]"
     ]
    },
    {
     "name": "stderr",
     "output_type": "stream",
     "text": [
      "2025/07/19 17:11:25 ERROR dspy.utils.parallelizer: Error for Example({'claim': 'The American actress voices a character in King of the Hill, which is also American. She also wrote the song Tiggy is famous for remixing.', 'titles': ['Sandy Fox', 'King of the Hill', 'Tiggy']}) (input_keys={'claim'}): litellm.RateLimitError: RateLimitError: Together_aiException - Request was rejected due to request rate limiting. Your rate limits are 60 RPM (1 QPS) and 60000 TPM (1000 TPS). See details: https://docs.together.ai/docs/rate-limits. Set `provide_traceback=True` for traceback.\n"
     ]
    },
    {
     "name": "stdout",
     "output_type": "stream",
     "text": [
      "Average Metric: 0.00 / 1 (0.0%):  56%|█████▋    | 45/80 [01:40<01:04,  1.84s/it]"
     ]
    },
    {
     "name": "stderr",
     "output_type": "stream",
     "text": [
      "2025/07/19 17:11:27 ERROR dspy.utils.parallelizer: Error for Example({'claim': 'Candlelight Red the musical group has released twice as many albums as the band who also performs as One Unique Signal.', 'titles': ['Candlelight Red', 'The Telescopes', 'One Unique Signal']}) (input_keys={'claim'}): litellm.RateLimitError: RateLimitError: Together_aiException - Request was rejected due to request rate limiting. Your rate limits are 60 RPM (1 QPS) and 60000 TPM (1000 TPS). See details: https://docs.together.ai/docs/rate-limits. Set `provide_traceback=True` for traceback.\n"
     ]
    },
    {
     "name": "stdout",
     "output_type": "stream",
     "text": [
      "Average Metric: 0.00 / 1 (0.0%):  57%|█████▊    | 46/80 [01:42<01:02,  1.84s/it]"
     ]
    },
    {
     "name": "stderr",
     "output_type": "stream",
     "text": [
      "2025/07/19 17:11:32 ERROR dspy.utils.parallelizer: Error for Example({'claim': 'Jonathan Howsmon Davis lives closer to Canada than this Japanese singer, whose fifth solo studio album is called Singing Bird.', 'titles': ['Koshi Inaba', 'Jonathan Davis', 'Singing Bird']}) (input_keys={'claim'}): litellm.RateLimitError: RateLimitError: Together_aiException - Request was rejected due to request rate limiting. Your rate limits are 60 RPM (1 QPS) and 60000 TPM (1000 TPS). See details: https://docs.together.ai/docs/rate-limits. Set `provide_traceback=True` for traceback.\n"
     ]
    },
    {
     "name": "stdout",
     "output_type": "stream",
     "text": [
      "Average Metric: 0.00 / 1 (0.0%):  59%|█████▉    | 47/80 [01:46<01:22,  2.49s/it]"
     ]
    },
    {
     "name": "stderr",
     "output_type": "stream",
     "text": [
      "2025/07/19 17:11:32 ERROR dspy.utils.parallelizer: Error for Example({'claim': 'This series developer created T-Dog on the Walking Dead. He is the Hungarian-born US film director renowned for adapting Stephen King novellas to the screen, including The Mist and The Green Mile.', 'titles': ['The Mist (film)', 'Frank Darabont', 'T-Dog (The Walking Dead)']}) (input_keys={'claim'}): litellm.RateLimitError: RateLimitError: Together_aiException - Request was rejected due to request rate limiting. Your rate limits are 60 RPM (1 QPS) and 60000 TPM (1000 TPS). See details: https://docs.together.ai/docs/rate-limits. Set `provide_traceback=True` for traceback.\n"
     ]
    },
    {
     "name": "stdout",
     "output_type": "stream",
     "text": [
      "Average Metric: 0.00 / 1 (0.0%):  60%|██████    | 48/80 [01:47<01:03,  1.97s/it]"
     ]
    },
    {
     "name": "stderr",
     "output_type": "stream",
     "text": [
      "2025/07/19 17:11:33 ERROR dspy.utils.parallelizer: Error for Example({'claim': 'The director of The Moth Diaries (born January 12, 1953) was a French Canadian filmmaker who created a film about Bettie Page in 2005.', 'titles': ['The Moth Diaries (film)', 'Mary Harron', 'The Notorious Bettie Page']}) (input_keys={'claim'}): litellm.RateLimitError: RateLimitError: Together_aiException - Request was rejected due to request rate limiting. Your rate limits are 60 RPM (1 QPS) and 60000 TPM (1000 TPS). See details: https://docs.together.ai/docs/rate-limits. Set `provide_traceback=True` for traceback.\n"
     ]
    },
    {
     "name": "stdout",
     "output_type": "stream",
     "text": [
      "Average Metric: 0.00 / 1 (0.0%):  61%|██████▏   | 49/80 [01:48<00:51,  1.68s/it]"
     ]
    },
    {
     "name": "stderr",
     "output_type": "stream",
     "text": [
      "2025/07/19 17:11:36 ERROR dspy.utils.parallelizer: Error for Example({'claim': 'This American composer composed Troubled Island. He was born in 1895 was married to his frequent collaborator Verna Arvey.', 'titles': ['William Grant Still', 'A Bayou Legend', 'Troubled Island']}) (input_keys={'claim'}): litellm.RateLimitError: RateLimitError: Together_aiException - Request was rejected due to request rate limiting. Your rate limits are 60 RPM (1 QPS) and 60000 TPM (1000 TPS). See details: https://docs.together.ai/docs/rate-limits. Set `provide_traceback=True` for traceback.\n"
     ]
    },
    {
     "name": "stdout",
     "output_type": "stream",
     "text": [
      "Average Metric: 0.00 / 1 (0.0%):  62%|██████▎   | 50/80 [01:51<01:03,  2.13s/it]"
     ]
    },
    {
     "name": "stderr",
     "output_type": "stream",
     "text": [
      "2025/07/19 17:11:39 ERROR dspy.utils.parallelizer: Error for Example({'claim': 'Grand Forks International Airport is closer to the town it is near, than the airport close by to The Texas Air & Space Museum.', 'titles': ['Texas Air &amp; Space Museum', 'Rick Husband Amarillo International Airport', 'Grand Forks International Airport']}) (input_keys={'claim'}): litellm.RateLimitError: RateLimitError: Together_aiException - Request was rejected due to request rate limiting. Your rate limits are 60 RPM (1 QPS) and 60000 TPM (1000 TPS). See details: https://docs.together.ai/docs/rate-limits. Set `provide_traceback=True` for traceback.\n"
     ]
    },
    {
     "name": "stdout",
     "output_type": "stream",
     "text": [
      "Average Metric: 0.00 / 1 (0.0%):  64%|██████▍   | 51/80 [01:54<01:05,  2.24s/it]"
     ]
    },
    {
     "name": "stderr",
     "output_type": "stream",
     "text": [
      "2025/07/19 17:11:40 ERROR dspy.utils.parallelizer: Error for Example({'claim': 'The novelist that wrote The Watchful Gods and Other Stories is Californian. Billie Letts is also Californian.', 'titles': ['Walter Van Tilburg Clark', 'The Watchful Gods and Other Stories', 'Billie Letts']}) (input_keys={'claim'}): litellm.RateLimitError: RateLimitError: Together_aiException - Request was rejected due to request rate limiting. Your rate limits are 60 RPM (1 QPS) and 60000 TPM (1000 TPS). See details: https://docs.together.ai/docs/rate-limits. Set `provide_traceback=True` for traceback.\n"
     ]
    },
    {
     "name": "stdout",
     "output_type": "stream",
     "text": [
      "Average Metric: 0.00 / 1 (0.0%):  65%|██████▌   | 52/80 [01:55<00:53,  1.91s/it]"
     ]
    },
    {
     "name": "stderr",
     "output_type": "stream",
     "text": [
      "2025/07/19 17:11:42 ERROR dspy.utils.parallelizer: Error for Example({'claim': 'Passionate Love is a Korean television series starring Sung Hoon and the actress starring in a movie that was filmed in 2012.', 'titles': ['Choi Yoon-young', 'As One (film)', 'Passionate Love']}) (input_keys={'claim'}): litellm.RateLimitError: RateLimitError: Together_aiException - Request was rejected due to request rate limiting. Your rate limits are 60 RPM (1 QPS) and 60000 TPM (1000 TPS). See details: https://docs.together.ai/docs/rate-limits. Set `provide_traceback=True` for traceback.\n"
     ]
    },
    {
     "name": "stdout",
     "output_type": "stream",
     "text": [
      "Average Metric: 0.00 / 1 (0.0%):  66%|██████▋   | 53/80 [01:56<00:50,  1.87s/it]"
     ]
    },
    {
     "name": "stderr",
     "output_type": "stream",
     "text": [
      "2025/07/19 17:11:42 ERROR dspy.utils.parallelizer: Error for Example({'claim': 'The father of director Guðný Halldórsdóttir and Timothy Leary are not from the same place.', 'titles': ['Halldór Laxness', 'Timothy Leary', 'Guðný Halldórsdóttir']}) (input_keys={'claim'}): litellm.RateLimitError: RateLimitError: Together_aiException - Request was rejected due to request rate limiting. Your rate limits are 60 RPM (1 QPS) and 60000 TPM (1000 TPS). See details: https://docs.together.ai/docs/rate-limits. Set `provide_traceback=True` for traceback.\n"
     ]
    },
    {
     "name": "stdout",
     "output_type": "stream",
     "text": [
      "Average Metric: 0.00 / 1 (0.0%):  68%|██████▊   | 54/80 [01:57<00:36,  1.40s/it]"
     ]
    },
    {
     "name": "stderr",
     "output_type": "stream",
     "text": [
      "2025/07/19 17:11:43 ERROR dspy.utils.parallelizer: Error for Example({'claim': 'The kind of dog Banana Joe V Tani Kazari is and Villanuco de Las Encartaciones are not both breeds of dog.', 'titles': ['Affenpinscher', 'German Pinscher', 'Villanuco de Las Encartaciones']}) (input_keys={'claim'}): litellm.RateLimitError: RateLimitError: Together_aiException - Request was rejected due to request rate limiting. Your rate limits are 60 RPM (1 QPS) and 60000 TPM (1000 TPS). See details: https://docs.together.ai/docs/rate-limits. Set `provide_traceback=True` for traceback.\n"
     ]
    },
    {
     "name": "stdout",
     "output_type": "stream",
     "text": [
      "Average Metric: 0.00 / 1 (0.0%):  69%|██████▉   | 55/80 [01:58<00:30,  1.24s/it]"
     ]
    },
    {
     "name": "stderr",
     "output_type": "stream",
     "text": [
      "2025/07/19 17:11:44 ERROR dspy.utils.parallelizer: Error for Example({'claim': 'Sophia Grace & Rosie featured a cover song on their Youtube channel. The pop song from is from an album released under the Syco Music and Columbia Records labels.', 'titles': ['Touch (Little Mix song)', 'Glory Days (Little Mix album)', 'Sophia Grace &amp; Rosie']}) (input_keys={'claim'}): litellm.RateLimitError: RateLimitError: Together_aiException - Request was rejected due to request rate limiting. Your rate limits are 60 RPM (1 QPS) and 60000 TPM (1000 TPS). See details: https://docs.together.ai/docs/rate-limits. Set `provide_traceback=True` for traceback.\n"
     ]
    },
    {
     "name": "stdout",
     "output_type": "stream",
     "text": [
      "Average Metric: 0.00 / 1 (0.0%):  70%|███████   | 56/80 [01:58<00:27,  1.15s/it]"
     ]
    },
    {
     "name": "stderr",
     "output_type": "stream",
     "text": [
      "2025/07/19 17:11:50 ERROR dspy.utils.parallelizer: Error for Example({'claim': 'Archers of Loaf is an indie band. The band who had a song called Shelf in the Room is not.', 'titles': ['Days of the New', 'Archers of Loaf', 'Shelf in the Room']}) (input_keys={'claim'}): litellm.RateLimitError: RateLimitError: Together_aiException - Request was rejected due to request rate limiting. Your rate limits are 60 RPM (1 QPS) and 60000 TPM (1000 TPS). See details: https://docs.together.ai/docs/rate-limits. Set `provide_traceback=True` for traceback.\n"
     ]
    },
    {
     "name": "stdout",
     "output_type": "stream",
     "text": [
      "Average Metric: 0.00 / 1 (0.0%):  71%|███████▏  | 57/80 [02:05<01:03,  2.76s/it]"
     ]
    },
    {
     "name": "stderr",
     "output_type": "stream",
     "text": [
      "2025/07/19 17:11:52 ERROR dspy.utils.parallelizer: Error for Example({'claim': 'The actor Giancarlo Giuseppe Alessandro Esposito starred in the 2016 film that also starred Olivia Luccardi. Giancarlo is best known for his portrayal of Gustavo \"Gus\" Fring on the AMC shows \"Breaking Bad\" and \"Breaking Bad\".', 'titles': ['Money Monster', 'Giancarlo Esposito', 'Olivia Luccardi']}) (input_keys={'claim'}): litellm.RateLimitError: RateLimitError: Together_aiException - Request was rejected due to request rate limiting. Your rate limits are 60 RPM (1 QPS) and 60000 TPM (1000 TPS). See details: https://docs.together.ai/docs/rate-limits. Set `provide_traceback=True` for traceback.\n"
     ]
    },
    {
     "name": "stdout",
     "output_type": "stream",
     "text": [
      "Average Metric: 0.00 / 1 (0.0%):  72%|███████▎  | 58/80 [02:07<00:55,  2.54s/it]"
     ]
    },
    {
     "name": "stderr",
     "output_type": "stream",
     "text": [
      "2025/07/19 17:11:52 ERROR dspy.utils.parallelizer: Error for Example({'claim': 'Avery Waddell is the director of the banned hardcore pornographic film War Dogs. and also directed the film Road Trip starring Breckin Meyer. Todd Phillip also directed a film starring Breckin Meyer.', 'titles': ['Avery Waddell', 'Todd Phillips', 'Road Trip (film)']}) (input_keys={'claim'}): litellm.RateLimitError: RateLimitError: Together_aiException - Request was rejected due to request rate limiting. Your rate limits are 60 RPM (1 QPS) and 60000 TPM (1000 TPS). See details: https://docs.together.ai/docs/rate-limits. Set `provide_traceback=True` for traceback.\n"
     ]
    },
    {
     "name": "stdout",
     "output_type": "stream",
     "text": [
      "Average Metric: 0.00 / 1 (0.0%):  72%|███████▎  | 58/80 [02:07<00:55,  2.54s/it]"
     ]
    },
    {
     "name": "stderr",
     "output_type": "stream",
     "text": [
      "2025/07/19 17:11:52 ERROR dspy.utils.parallelizer: Error for Example({'claim': 'Helen Mirren, a client of the designer who designed the wedding dress of Sarah Ferguson, played Lindka in \"The Queen\".', 'titles': ['Wedding dress of Sarah Ferguson', 'Lindka Cierach', 'Helen Mirren']}) (input_keys={'claim'}): litellm.RateLimitError: RateLimitError: Together_aiException - Request was rejected due to request rate limiting. Your rate limits are 60 RPM (1 QPS) and 60000 TPM (1000 TPS). See details: https://docs.together.ai/docs/rate-limits. Set `provide_traceback=True` for traceback.\n"
     ]
    },
    {
     "name": "stdout",
     "output_type": "stream",
     "text": [
      "Average Metric: 0.00 / 1 (0.0%):  75%|███████▌  | 60/80 [02:07<00:28,  1.40s/it]"
     ]
    },
    {
     "name": "stderr",
     "output_type": "stream",
     "text": [
      "2025/07/19 17:11:54 ERROR dspy.utils.parallelizer: Error for Example({'claim': 'The player who teamed up with Elena Bovina for the  2003 Family Circle Cup – Doubles. Her and Renáta Tomanová were both tennis players.', 'titles': ['2003 Family Circle Cup – Doubles', 'Rennae Stubbs', 'Renáta Tomanová']}) (input_keys={'claim'}): litellm.RateLimitError: RateLimitError: Together_aiException - Request was rejected due to request rate limiting. Your rate limits are 60 RPM (1 QPS) and 60000 TPM (1000 TPS). See details: https://docs.together.ai/docs/rate-limits. Set `provide_traceback=True` for traceback.\n"
     ]
    },
    {
     "name": "stdout",
     "output_type": "stream",
     "text": [
      "Average Metric: 0.00 / 1 (0.0%):  76%|███████▋  | 61/80 [02:09<00:28,  1.51s/it]"
     ]
    },
    {
     "name": "stderr",
     "output_type": "stream",
     "text": [
      "2025/07/19 17:11:56 ERROR dspy.utils.parallelizer: Error for Example({'claim': 'There are top three sections for the hockey meeting JC Lipon placed 91st overall in. Of the top three, the one who is both a American professional ice hockey forward and an alternate captain of the Colorado Avalanche organization of the National Hockey League is Nathan MacKinnon.', 'titles': ['2013 NHL Entry Draft', 'Nathan MacKinnon', 'JC Lipon']}) (input_keys={'claim'}): litellm.RateLimitError: RateLimitError: Together_aiException - Request was rejected due to request rate limiting. Your rate limits are 60 RPM (1 QPS) and 60000 TPM (1000 TPS). See details: https://docs.together.ai/docs/rate-limits. Set `provide_traceback=True` for traceback.\n"
     ]
    },
    {
     "name": "stdout",
     "output_type": "stream",
     "text": [
      "Average Metric: 0.00 / 1 (0.0%):  78%|███████▊  | 62/80 [02:11<00:29,  1.63s/it]"
     ]
    },
    {
     "name": "stderr",
     "output_type": "stream",
     "text": [
      "2025/07/19 17:11:58 ERROR dspy.utils.parallelizer: Error for Example({'claim': \"Tom Kristensen won the Nation's Cup with Petter Solberg in Bushy Park, Barbados in August 1993. He also won the 24 Hours of Le Mans nine times.\", 'titles': ['Tom Kristensen (racing driver)', 'Bushy Park, Barbados', '2014 Race of Champions']}) (input_keys={'claim'}): litellm.RateLimitError: RateLimitError: Together_aiException - Request was rejected due to request rate limiting. Your rate limits are 60 RPM (1 QPS) and 60000 TPM (1000 TPS). See details: https://docs.together.ai/docs/rate-limits. Set `provide_traceback=True` for traceback.\n"
     ]
    },
    {
     "name": "stdout",
     "output_type": "stream",
     "text": [
      "Average Metric: 0.00 / 1 (0.0%):  79%|███████▉  | 63/80 [02:12<00:25,  1.51s/it]"
     ]
    },
    {
     "name": "stderr",
     "output_type": "stream",
     "text": [
      "2025/07/19 17:12:01 ERROR dspy.utils.parallelizer: Error for Example({'claim': \"The star of Spaceball's most renouwned onscreen performance was as Dell Griffith. He was in an Canadian comedy film from 1987.\", 'titles': ['Spaceballs', 'Planes, Trains and Automobiles', 'John Candy']}) (input_keys={'claim'}): litellm.RateLimitError: RateLimitError: Together_aiException - Request was rejected due to request rate limiting. Your rate limits are 60 RPM (1 QPS) and 60000 TPM (1000 TPS). See details: https://docs.together.ai/docs/rate-limits. Set `provide_traceback=True` for traceback.\n"
     ]
    },
    {
     "name": "stdout",
     "output_type": "stream",
     "text": [
      "Average Metric: 0.00 / 1 (0.0%):  80%|████████  | 64/80 [02:16<00:32,  2.02s/it]"
     ]
    },
    {
     "name": "stderr",
     "output_type": "stream",
     "text": [
      "2025/07/19 17:12:03 ERROR dspy.utils.parallelizer: Error for Example({'claim': 'The member of the group Wilkes-Barre/Scranton International Airport, formed by Kenny Loggins, was aged ten when she started singing in the seventh-most populated city in the United States.', 'titles': ['Kenny Loggins', 'San Antonio', 'Georgia Middleman']}) (input_keys={'claim'}): litellm.RateLimitError: RateLimitError: Together_aiException - Request was rejected due to request rate limiting. Your rate limits are 60 RPM (1 QPS) and 60000 TPM (1000 TPS). See details: https://docs.together.ai/docs/rate-limits. Set `provide_traceback=True` for traceback.\n"
     ]
    },
    {
     "name": "stdout",
     "output_type": "stream",
     "text": [
      "Average Metric: 0.00 / 1 (0.0%):  81%|████████▏ | 65/80 [02:17<00:29,  1.98s/it]"
     ]
    },
    {
     "name": "stderr",
     "output_type": "stream",
     "text": [
      "2025/07/19 17:12:03 ERROR dspy.utils.parallelizer: Error for Example({'claim': 'One of the screenwriters who worked on \"The Janus Directive\" collaborated on Martian Manhunter, which was based on a fictional superhero.', 'titles': ['Janus Directive', 'Martian Manhunter', 'Tom Mandrake']}) (input_keys={'claim'}): litellm.RateLimitError: RateLimitError: Together_aiException - Request was rejected due to request rate limiting. Your rate limits are 60 RPM (1 QPS) and 60000 TPM (1000 TPS). See details: https://docs.together.ai/docs/rate-limits. Set `provide_traceback=True` for traceback.\n"
     ]
    },
    {
     "name": "stdout",
     "output_type": "stream",
     "text": [
      "Average Metric: 0.00 / 1 (0.0%):  82%|████████▎ | 66/80 [02:18<00:20,  1.49s/it]"
     ]
    },
    {
     "name": "stderr",
     "output_type": "stream",
     "text": [
      "2025/07/19 17:12:07 WARNING dspy.adapters.json_adapter: Failed to use structured output format, falling back to JSON mode.\n",
      "2025/07/19 17:12:08 ERROR dspy.utils.parallelizer: Error for Example({'claim': 'The individual who played Herman Boone in Remember the Titans, and David Hewlett, are both actors.', 'titles': ['David Hewlett', 'Denzel Washington', 'Herman Boone']}) (input_keys={'claim'}): litellm.RateLimitError: RateLimitError: Together_aiException - Request was rejected due to request rate limiting. Your rate limits are 60 RPM (1 QPS) and 60000 TPM (1000 TPS). See details: https://docs.together.ai/docs/rate-limits. Set `provide_traceback=True` for traceback.\n"
     ]
    },
    {
     "name": "stdout",
     "output_type": "stream",
     "text": [
      "Average Metric: 0.00 / 1 (0.0%):  84%|████████▍ | 67/80 [02:23<00:32,  2.50s/it]"
     ]
    },
    {
     "name": "stderr",
     "output_type": "stream",
     "text": [
      "2025/07/19 17:12:11 ERROR dspy.utils.parallelizer: Error for Example({'claim': 'Africa has a distribution of both the Ternstroemia and the genus that Seemannaralia gerrardii was originally included in.', 'titles': ['Seemannaralia gerrardii', 'Cussonia', 'Ternstroemia']}) (input_keys={'claim'}): litellm.RateLimitError: RateLimitError: Together_aiException - Request was rejected due to request rate limiting. Your rate limits are 60 RPM (1 QPS) and 60000 TPM (1000 TPS). See details: https://docs.together.ai/docs/rate-limits. Set `provide_traceback=True` for traceback.\n"
     ]
    },
    {
     "name": "stdout",
     "output_type": "stream",
     "text": [
      "Average Metric: 0.00 / 2 (0.0%):  86%|████████▋ | 69/80 [02:26<00:22,  2.05s/it]"
     ]
    },
    {
     "name": "stderr",
     "output_type": "stream",
     "text": [
      "2025/07/19 17:12:12 WARNING dspy.clients.lm: LM response was truncated due to exceeding max_tokens=4000. You can inspect the latest LM interactions with `dspy.inspect_history()`. To avoid truncation, consider passing a larger max_tokens when setting up dspy.LM. You may also consider increasing the temperature (currently 0.7)  if the reason for truncation is repetition.\n",
      "2025/07/19 17:12:12 ERROR dspy.utils.parallelizer: Error for Example({'claim': 'The Stanley Kubrick thriller that Nicole Kidman worked with Tom Cruise on, starring Vinessa Elizabeth Shaw, was based on the novella \"Traumnovelle\" (\"Dream Story\") .', 'titles': ['Vinessa Shaw', 'Eyes Wide Shut', 'Nicole Kidman filmography']}) (input_keys={'claim'}): Adapter JSONAdapter failed to parse the LM response. \n",
      "\n",
      "LM Response: {\n",
      "  \"next_thought\": \"We have found the title of the movie based on the given information, which is the Stanley Kubrick thriller that Nicole Kidman worked with Tom Cruise on, starring Vinessa Elizabeth Shaw, based on the novella \"                                    ,  \",. To find the Wikipedia title relevant to verifying or refuting the claim, we will now search for this title on Wikipedia to see if it exists and what its page content is. This should tell us whether the claim is true or false. We can then use this information to verify or refute the claim. The next step is to look up the page content of this title on Wikipedia to verify or refute the claim. We will use this information to determine the truth value of the claim and update our knowledge accordingly. We can then use this updated knowledge to make informed decisions or take further action. This is the next step in our reasoning process to verify or refute the claim. We will now look up the Wikipedia page for this title to see what it says and use that information to verify or refute the claim. This should tell us whether the claim is true or false and update our knowledge accordingly. We can then use this updated knowledge to make informed decisions or take further action. We need to look up the Wikipedia page for this title to see what it says and use that information to verify or refute the claim. This will help us determine the truth value of the claim and update our knowledge accordingly. We will now look up the Wikipedia page for this title to see what it says and use that information to verify or refute the claim. This should tell us whether the claim is true or false and update our knowledge accordingly. We need to look up the Wikipedia page for this title to see what it says and use that information to verify or refute the claim. This will help us determine the truth value of the claim and update our knowledge accordingly. We will now look up the Wikipedia page for this title to see what it says and use that information to verify or refute the claim. This should tell us whether the claim is true or false and update our knowledge accordingly. We need to look up the Wikipedia page for this title to see what it says and use that information to verify or refute the claim. This will help us determine the truth value of the claim and update our knowledge accordingly. We will now look up the Wikipedia page for this title to see what it says and use that information to verify or refute the claim. This should tell us whether the claim is true or false and update our knowledge accordingly. We need to look up the Wikipedia page for this title to see what it says and use that information to verify or refute the claim. This will help us determine the truth value of the claim and update our knowledge accordingly. We will now look up the Wikipedia page for this title to see what it says and use that information to verify or refute the claim. This should tell us whether the claim is true or false and update our knowledge accordingly. We need to look up the Wikipedia page for this title to see what it says and use that information to verify or refute the claim. This will help us determine the truth value of the claim and update our knowledge accordingly. We will now look up the Wikipedia page for this title to see what it says and use that information to verify or refute the claim. This should tell us whether the claim is true or false and update our knowledge accordingly. We need to look up the Wikipedia page for this title to see what it says and use that information to verify or refute the claim. This will help us determine the truth value of the claim and update our knowledge accordingly. We will now look up the Wikipedia page for this title to see what it says and use that information to verify or refute the claim. This should tell us whether the claim is true or false and update our knowledge accordingly. We need to look up the Wikipedia page for this title to see what it says and use that information to verify or refute the claim. This will help us determine the truth value of the claim and update our knowledge accordingly. We will now look up the Wikipedia page for this title to see what it says and use that information to verify or refute the claim. This should tell us whether the claim is true or false and update our knowledge accordingly. We need to look up the Wikipedia page for this title to see what it says and use that information to verify or refute the claim. This will help us determine the truth value of the claim and update our knowledge accordingly. We will now look up the Wikipedia page for this title to see what it says and use that information to verify or refute the claim. This should tell us whether the claim is true or false and update our knowledge accordingly. We need to look up the Wikipedia page for this title to see what it says and use that information to verify or refute the claim. This will help us determine the truth value of the claim and update our knowledge accordingly. We will now look up the Wikipedia page for this title to see what it says and use that information to verify or refute the claim. This should tell us whether the claim is true or false and update our knowledge accordingly. We need to look up the Wikipedia page for this title to see what it says and use that information to verify or refute the claim. This will help us determine the truth value of the claim and update our knowledge accordingly. We will now look up the Wikipedia page for this title to see what it says and use that information to verify or refute the claim. This should tell us whether the claim is true or false and update our knowledge accordingly. We need to look up the Wikipedia page for this title to see what it says and use that information to verify or refute the claim. This will help us determine the truth value of the claim and update our knowledge accordingly. We will now look up the Wikipedia page for this title to see what it says and use that information to verify or refute the claim. This should tell us whether the claim is true or false and update our knowledge accordingly. We need to look up the Wikipedia page for this title to see what it says and use that information to verify or refute the claim. This will help us determine the truth value of the claim and update our knowledge accordingly. We will now look up the Wikipedia page for this title to see what it says and use that information to verify or refute the claim. This should tell us whether the claim is true or false and update our knowledge accordingly. We need to look up the Wikipedia page for this title to see what it says and use that information to verify or refute the claim. This will help us determine the truth value of the claim and update our knowledge accordingly. We will now look up the Wikipedia page for this title to see what it says and use that information to verify or refute the claim. This should tell us whether the claim is true or false and update our knowledge accordingly. We need to look up the Wikipedia page for this title to see what it says and use that information to verify or refute the claim. This will help us determine the truth value of the claim and update our knowledge accordingly. We will now look up the Wikipedia page for this title to see what it says and use that information to verify or refute the claim. This should tell us whether the claim is true or false and update our knowledge accordingly. We need to look up the Wikipedia page for this title to see what it says and use that information to verify or refute the claim. This will help us determine the truth value of the claim and update our knowledge accordingly. We will now look up the Wikipedia page for this title to see what it says and use that information to verify or refute the claim. This should tell us whether the claim is true or false and update our knowledge accordingly. We need to look up the Wikipedia page for this title to see what it says and use that information to verify or refute the claim. This will help us determine the truth value of the claim and update our knowledge accordingly. We will now look up the Wikipedia page for this title to see what it says and use that information to verify or refute the claim. This should tell us whether the claim is true or false and update our knowledge accordingly. We need to look up the Wikipedia page for this title to see what it says and use that information to verify or refute the claim. This will help us determine the truth value of the claim and update our knowledge accordingly. We will now look up the Wikipedia page for this title to see what it says and use that information to verify or refute the claim. This should tell us whether the claim is true or false and update our knowledge accordingly. We need to look up the Wikipedia page for this title to see what it says and use that information to verify or refute the claim. This will help us determine the truth value of the claim and update our knowledge accordingly. We will now look up the Wikipedia page for this title to see what it says and use that information to verify or refute the claim. This should tell us whether the claim is true or false and update our knowledge accordingly. We need to look up the Wikipedia page for this title to see what it says and use that information to verify or refute the claim. This will help us determine the truth value of the claim and update our knowledge accordingly. We will now look up the Wikipedia page for this title to see what it says and use that information to verify or refute the claim. This should tell us whether the claim is true or false and update our knowledge accordingly. We need to look up the Wikipedia page for this title to see what it says and use that information to verify or refute the claim. This will help us determine the truth value of the claim and update our knowledge accordingly. We will now look up the Wikipedia page for this title to see what it says and use that information to verify or refute the claim. This should tell us whether the claim is true or false and update our knowledge accordingly. We need to look up the Wikipedia page for this title to see what it says and use that information to verify or refute the claim. This will help us determine the truth value of the claim and update our knowledge accordingly. We will now look up the Wikipedia page for this title to see what it says and use that information to verify or refute the claim. This should tell us whether the claim is true or false and update our knowledge accordingly. We need to look up the Wikipedia page for this title to see what it says and use that information to verify or refute the claim. This will help us determine the truth value of the claim and update our knowledge accordingly. We will now look up the Wikipedia page for this title to see what it says and use that information to verify or refute the claim. This should tell us whether the claim is true or false and update our knowledge accordingly. We need to look up the Wikipedia page for this title to see what it says and use that information to verify or refute the claim. This will help us determine the truth value of the claim and update our knowledge accordingly. We will now look up the Wikipedia page for this title to see what it says and use that information to verify or refute the claim. This should tell us whether the claim is true or false and update our knowledge accordingly. We need to look up the Wikipedia page for this title to see what it says and use that information to verify or refute the claim. This will help us determine the truth value of the claim and update our knowledge accordingly. We will now look up the Wikipedia page for this title to see what it says and use that information to verify or refute the claim. This should tell us whether the claim is true or false and update our knowledge accordingly. We need to look up the Wikipedia page for this title to see what it says and use that information to verify or refute the claim. This will help us determine the truth value of the claim and update our knowledge accordingly. We will now look up the Wikipedia page for this title to see what it says and use that information to verify or refute the claim. This should tell us whether the claim is true or false and update our knowledge accordingly. We need to look up the Wikipedia page for this title to see what it says and use that information to verify or refute the claim. This will help us determine the truth value of the claim and update our knowledge accordingly. We will now look up the Wikipedia page for this title to see what it says and use that information to verify or refute the claim. This should tell us whether the claim is true or false and update our knowledge accordingly. We need to look up the Wikipedia page for this title to see what it says and use that information to verify or refute the claim. This will help us determine the truth value of the claim and update our knowledge accordingly. We will now look up the Wikipedia page for this title to see what it says and use that information to verify or refute the claim. This should tell us whether the claim is true or false and update our knowledge accordingly. We need to look up the Wikipedia page for this title to see what it says and use that information to verify or refute the claim. This will help us determine the truth value of the claim and update our knowledge accordingly. We will now look up the Wikipedia page for this title to see what it says and use that information to verify or refute the claim. This should tell us whether the claim is true or false and update our knowledge accordingly. We need to look up the Wikipedia page for this title to see what it says and use that information to verify or refute the claim. This will help us determine the truth value of the claim and update our knowledge accordingly. We will now look up the Wikipedia page for this title to see what it says and use that information to verify or refute the claim. This should tell us whether the claim is true or false and update our knowledge accordingly. We need to look up the Wikipedia page for this title to see what it says and use that information to verify or refute the claim. This will help us determine the truth value of the claim and update our knowledge accordingly. We will now look up the Wikipedia page for this title to see what it says and use that information to verify or refute the claim. This should tell us whether the claim is true or false and update our knowledge accordingly. We need to look up the Wikipedia page for this title to see what it says and use that information to verify or refute the claim. This will help us determine the truth value of the claim and update our knowledge accordingly. We will now look up the Wikipedia page for this title to see what it says and use that information to verify or refute the claim. This should tell us whether the claim is true or false and update our knowledge accordingly. We need to look up the Wikipedia page for this title to see what it says and use that information to verify or refute the claim. This will help us determine the truth value of the claim and update our knowledge accordingly. We will now look up the Wikipedia page for this title to see what it says and use that information to verify or refute the claim. This should tell us whether the claim is true or false and update our knowledge accordingly. We need to look up the Wikipedia page for this title to see what it says and use that information to verify or refute the claim. This will help us determine the truth value of the claim and update our knowledge accordingly. We will now look up the Wikipedia page for this title to see what it says and use that information to verify or refute the claim. This should tell us whether the claim is true or false and update our knowledge accordingly. We need to look up the Wikipedia page for this title to see what it says and use that information to verify or refute the claim. This will help us determine the truth value of the claim and update our knowledge accordingly. We will now look up the Wikipedia page for this title to see what it says and use that information to verify or refute the claim. This should tell us whether the claim is true or false and update our knowledge accordingly. We need to look up the Wikipedia page for this title to see what it says and use that information to verify or refute the claim. This will help us determine the truth value of the claim and update our knowledge accordingly. We will now look up the Wikipedia page for this title to see what it says and use that information to verify or refute the claim. This should tell us whether the claim is true or false and update our knowledge accordingly. We need to look up the Wikipedia page for this title to see what it says and use that information to verify or refute the claim. This will help us determine the truth value of the claim and update our knowledge accordingly. We will now look up the Wikipedia page for this title to see what it says and use that information to verify or refute the claim. This should tell us whether the claim is true or false and update our knowledge accordingly. We need to look up the Wikipedia page for this title to see what it says and use that information to verify or refute the claim. This will help us determine the truth value of the claim and update our knowledge accordingly. We will now look up the Wikipedia page for this title to see what it says and use that information to verify or refute the claim. This should tell us whether the claim is true or false and update our knowledge accordingly. We need to look up the Wikipedia page for this title to see what it says and use that information to verify or refute the claim. This will help us determine the truth value of the claim and update our knowledge accordingly. We will now look up the Wikipedia page for this title to see what it says and use that information to verify or refute the claim. This should tell us whether the claim is true or false and update our knowledge accordingly. We need to look up the Wikipedia page for this title to see what it says and use that information to verify or refute the claim. This will help us determine the truth value of the claim and update our knowledge accordingly. We will now look up the Wikipedia page for this title to see what it says and use that information to verify or refute the claim. This should tell us whether the claim is true or false and update our knowledge accordingly. We need to look up the Wikipedia page for this title to see what it says and use that information to verify or refute the claim. This will help us determine the truth value of the claim and update our knowledge accordingly. We will now look up the Wikipedia page for this title to see what it says and use that information to verify or refute the claim. This should tell us whether the claim is true or false and update our knowledge accordingly. We need to look up the Wikipedia page for this title to see what it says and use that information to verify or refute the claim. This will help us determine the truth value of the claim and update our knowledge accordingly. We will now look up the Wikipedia page for this title to see what it says and use that information to verify or refute the claim. This should tell us whether the claim is true or false and update our knowledge accordingly. We need to look up the Wikipedia page for this title to see what it says and use that information to verify or refute the claim. This will help us determine the truth value of the claim and update our knowledge accordingly. We will now look up the Wikipedia page for this title to see what it says and use that information to verify or refute the claim. This should tell us whether the claim is true or false and update our knowledge accordingly. We need to look up the Wikipedia page for this title to see what it says and use that information to verify or refute the claim. This will help us determine the truth value of the claim and update our knowledge accordingly. We will now look up the Wikipedia page for this \n",
      "\n",
      "Expected to find output fields in the LM response: [next_thought, next_tool_name, next_tool_args] \n",
      "\n",
      "Actual output fields parsed from the LM response: [next_thought] \n",
      "\n",
      ". Set `provide_traceback=True` for traceback.\n"
     ]
    },
    {
     "name": "stdout",
     "output_type": "stream",
     "text": [
      "Average Metric: 0.00 / 2 (0.0%):  88%|████████▊ | 70/80 [02:26<00:15,  1.52s/it]"
     ]
    },
    {
     "name": "stderr",
     "output_type": "stream",
     "text": [
      "2025/07/19 17:12:13 ERROR dspy.utils.parallelizer: Error for Example({'claim': 'An actor born in 1955 that acted in the movie that was the inspiration for Blackmail (2005 film) was nominated for Golden Globe Award.', 'titles': ['Blackmail (2005 film)', 'Ransom (1996 film)', 'Gary Sinise']}) (input_keys={'claim'}): litellm.RateLimitError: RateLimitError: Together_aiException - Request was rejected due to request rate limiting. Your rate limits are 60 RPM (1 QPS) and 60000 TPM (1000 TPS). See details: https://docs.together.ai/docs/rate-limits. Set `provide_traceback=True` for traceback.\n"
     ]
    },
    {
     "name": "stdout",
     "output_type": "stream",
     "text": [
      "Average Metric: 0.00 / 2 (0.0%):  89%|████████▉ | 71/80 [02:28<00:12,  1.39s/it]"
     ]
    },
    {
     "name": "stderr",
     "output_type": "stream",
     "text": [
      "2025/07/19 17:12:13 ERROR dspy.utils.parallelizer: Error for Example({'claim': 'The director of action movie Batman: Mask of the Phantasm, produced Avengers Assemble that premiered on Disney XD on May 26, 2013.', 'titles': ['Eric Radomski', 'Batman: Mask of the Phantasm', 'Avengers Assemble (TV series)']}) (input_keys={'claim'}): litellm.RateLimitError: RateLimitError: Together_aiException - Request was rejected due to request rate limiting. Your rate limits are 60 RPM (1 QPS) and 60000 TPM (1000 TPS). See details: https://docs.together.ai/docs/rate-limits. Set `provide_traceback=True` for traceback.\n"
     ]
    },
    {
     "name": "stdout",
     "output_type": "stream",
     "text": [
      "Average Metric: 0.00 / 2 (0.0%):  89%|████████▉ | 71/80 [02:28<00:12,  1.39s/it]"
     ]
    },
    {
     "name": "stderr",
     "output_type": "stream",
     "text": [
      "2025/07/19 17:12:19 ERROR dspy.utils.parallelizer: Error for Example({'claim': 'Ellesmere Port Town Football Club are currently members of the league, whose current principal sponsor is the Football Conference, that Ford Motors F.C. is a part of.', 'titles': ['Ford Motors F.C.', 'West Cheshire Association Football League', 'Ellesmere Port Town F.C.']}) (input_keys={'claim'}): litellm.RateLimitError: RateLimitError: Together_aiException - Request was rejected due to request rate limiting. Your rate limits are 60 RPM (1 QPS) and 60000 TPM (1000 TPS). See details: https://docs.together.ai/docs/rate-limits. Set `provide_traceback=True` for traceback.\n"
     ]
    },
    {
     "name": "stdout",
     "output_type": "stream",
     "text": [
      "Average Metric: 0.00 / 2 (0.0%):  91%|█████████▏| 73/80 [02:34<00:15,  2.18s/it]"
     ]
    },
    {
     "name": "stderr",
     "output_type": "stream",
     "text": [
      "2025/07/19 17:12:21 ERROR dspy.utils.parallelizer: Error for Example({'claim': \"The owner of Viva (UK and Ireland) changed it's name in late 2004. Their new acronym stand for Gesellschaft mit beschränkter Haftung.\", 'titles': ['Gesellschaft mit beschränkter Haftung', 'Viva (UK and Ireland)', 'VIVA Media']}) (input_keys={'claim'}): Adapter JSONAdapter failed to parse the LM response. \n",
      "\n",
      "LM Response: {\\\"title\\\": \\\"Viva (UK and Ireland)\\\"\" } \n",
      "\n",
      "Expected to find output fields in the LM response: [next_thought, next_tool_name, next_tool_args] \n",
      "\n",
      "Actual output fields parsed from the LM response: [] \n",
      "\n",
      ". Set `provide_traceback=True` for traceback.\n"
     ]
    },
    {
     "name": "stdout",
     "output_type": "stream",
     "text": [
      "Average Metric: 0.00 / 2 (0.0%):  92%|█████████▎| 74/80 [02:36<00:12,  2.10s/it]"
     ]
    },
    {
     "name": "stderr",
     "output_type": "stream",
     "text": [
      "2025/07/19 17:12:34 ERROR dspy.utils.parallelizer: Error for Example({'claim': 'Guillermo del Toro directed the film which had the man, who starred in Bone Dry alongside Lance Henriksen, play the role of Jared Nomak.', 'titles': ['Bone Dry', 'Luke Goss', 'Blade II']}) (input_keys={'claim'}): litellm.RateLimitError: RateLimitError: Together_aiException - Request was rejected due to request rate limiting. Your rate limits are 60 RPM (1 QPS) and 60000 TPM (1000 TPS). See details: https://docs.together.ai/docs/rate-limits. Set `provide_traceback=True` for traceback.\n"
     ]
    },
    {
     "name": "stdout",
     "output_type": "stream",
     "text": [
      "Average Metric: 0.67 / 3 (22.2%):  95%|█████████▌| 76/80 [02:49<00:14,  3.63s/it]"
     ]
    },
    {
     "name": "stderr",
     "output_type": "stream",
     "text": [
      "2025/07/19 17:12:34 ERROR dspy.utils.parallelizer: Error for Example({'claim': 'An actor was in the film, Focus, that was directed by Glenn Ficarra. This actor was also in the 2016 film \"White Girl\".', 'titles': ['Adrian Martinez (actor)', 'Focus (2015 film)', 'White Girl (2016 film)']}) (input_keys={'claim'}): litellm.RateLimitError: RateLimitError: Together_aiException - Request was rejected due to request rate limiting. Your rate limits are 60 RPM (1 QPS) and 60000 TPM (1000 TPS). See details: https://docs.together.ai/docs/rate-limits. Set `provide_traceback=True` for traceback.\n"
     ]
    },
    {
     "name": "stdout",
     "output_type": "stream",
     "text": [
      "Average Metric: 1.67 / 6 (27.8%): 100%|██████████| 80/80 [03:51<00:00,  2.89s/it]"
     ]
    },
    {
     "name": "stderr",
     "output_type": "stream",
     "text": [
      "2025/07/19 17:13:36 INFO dspy.evaluate.evaluate: Average Metric: 1.6666666666666665 / 80 (2.1%)\n",
      "2025/07/19 17:13:36 INFO dspy.teleprompt.mipro_optimizer_v2: Default program score: 2.08\n",
      "\n",
      "/Users/tytodd/Library/Caches/pypoetry/virtualenvs/modaic-cVI88qFt-py3.10/lib/python3.10/site-packages/optuna/_experimental.py:32: ExperimentalWarning: Argument ``multivariate`` is an experimental feature. The interface can change in the future.\n",
      "  warnings.warn(\n",
      "2025/07/19 17:13:36 INFO dspy.teleprompt.mipro_optimizer_v2: == Trial 2 / 35 - Minibatch ==\n"
     ]
    },
    {
     "name": "stdout",
     "output_type": "stream",
     "text": [
      "\n",
      "Average Metric: 0.33 / 2 (16.7%):   6%|▌         | 2/35 [00:14<04:12,  7.67s/it]"
     ]
    },
    {
     "name": "stderr",
     "output_type": "stream",
     "text": [
      "2025/07/19 17:13:53 WARNING dspy.adapters.json_adapter: Failed to use structured output format, falling back to JSON mode.\n",
      "2025/07/19 17:13:53 ERROR dspy.utils.parallelizer: Error for Example({'claim': \"The star of Spaceball's most renouwned onscreen performance was as Dell Griffith. He was in an Canadian comedy film from 1987.\", 'titles': ['Spaceballs', 'Planes, Trains and Automobiles', 'John Candy']}) (input_keys={'claim'}): litellm.RateLimitError: RateLimitError: Together_aiException - Request was rejected due to request rate limiting. Your rate limits are 60 RPM (1 QPS) and 60000 TPM (1000 TPS). See details: https://docs.together.ai/docs/rate-limits. Set `provide_traceback=True` for traceback.\n"
     ]
    },
    {
     "name": "stdout",
     "output_type": "stream",
     "text": [
      "Average Metric: 0.33 / 2 (16.7%):   9%|▊         | 3/35 [00:17<02:47,  5.23s/it]"
     ]
    },
    {
     "name": "stderr",
     "output_type": "stream",
     "text": [
      "2025/07/19 17:13:53 ERROR dspy.utils.parallelizer: Error for Example({'claim': 'Guillermo del Toro directed the film which had the man, who starred in Bone Dry alongside Lance Henriksen, play the role of Jared Nomak.', 'titles': ['Bone Dry', 'Luke Goss', 'Blade II']}) (input_keys={'claim'}): litellm.RateLimitError: RateLimitError: Together_aiException - Request was rejected due to request rate limiting. Your rate limits are 60 RPM (1 QPS) and 60000 TPM (1000 TPS). See details: https://docs.together.ai/docs/rate-limits. Set `provide_traceback=True` for traceback.\n"
     ]
    },
    {
     "name": "stdout",
     "output_type": "stream",
     "text": [
      "Average Metric: 0.33 / 2 (16.7%):  11%|█▏        | 4/35 [00:17<01:40,  3.24s/it]"
     ]
    },
    {
     "name": "stderr",
     "output_type": "stream",
     "text": [
      "2025/07/19 17:13:53 ERROR dspy.utils.parallelizer: Error for Example({'claim': 'The kind of dog Banana Joe V Tani Kazari is and Villanuco de Las Encartaciones are not both breeds of dog.', 'titles': ['Affenpinscher', 'German Pinscher', 'Villanuco de Las Encartaciones']}) (input_keys={'claim'}): litellm.RateLimitError: RateLimitError: Together_aiException - Request was rejected due to request rate limiting. Your rate limits are 60 RPM (1 QPS) and 60000 TPM (1000 TPS). See details: https://docs.together.ai/docs/rate-limits. Set `provide_traceback=True` for traceback.\n"
     ]
    },
    {
     "name": "stdout",
     "output_type": "stream",
     "text": [
      "Average Metric: 0.33 / 2 (16.7%):  11%|█▏        | 4/35 [00:17<01:40,  3.24s/it]"
     ]
    },
    {
     "name": "stderr",
     "output_type": "stream",
     "text": [
      "2025/07/19 17:13:54 ERROR dspy.utils.parallelizer: Error for Example({'claim': 'Mountain Dew is owned by the Pepsi-Cola company. So is the producer of orange juice founded by Anthony T. Rossi.', 'titles': ['Tropicana Products', 'Anthony T. Rossi', 'Mountain Dew']}) (input_keys={'claim'}): litellm.RateLimitError: RateLimitError: Together_aiException - Request was rejected due to request rate limiting. Your rate limits are 60 RPM (1 QPS) and 60000 TPM (1000 TPS). See details: https://docs.together.ai/docs/rate-limits. Set `provide_traceback=True` for traceback.\n"
     ]
    },
    {
     "name": "stdout",
     "output_type": "stream",
     "text": [
      "Average Metric: 0.33 / 2 (16.7%):  17%|█▋        | 6/35 [00:17<00:45,  1.56s/it]"
     ]
    },
    {
     "name": "stderr",
     "output_type": "stream",
     "text": [
      "2025/07/19 17:13:54 ERROR dspy.utils.parallelizer: Error for Example({'claim': 'Both the character, who is sometimes called the  \"Mad Hatter\" in adaptations of the book. and March Hare are characters in the book Alice\\'s Adventures in Wonderland', 'titles': [\"Hatter (Alice's Adventures in Wonderland)\", 'Mad Hatter (comics)', 'March Hare']}) (input_keys={'claim'}): litellm.RateLimitError: RateLimitError: Together_aiException - Request was rejected due to request rate limiting. Your rate limits are 60 RPM (1 QPS) and 60000 TPM (1000 TPS). See details: https://docs.together.ai/docs/rate-limits. Set `provide_traceback=True` for traceback.\n"
     ]
    },
    {
     "name": "stdout",
     "output_type": "stream",
     "text": [
      "Average Metric: 0.33 / 2 (16.7%):  17%|█▋        | 6/35 [00:17<00:45,  1.56s/it]"
     ]
    },
    {
     "name": "stderr",
     "output_type": "stream",
     "text": [
      "2025/07/19 17:13:54 ERROR dspy.utils.parallelizer: Error for Example({'claim': 'The director of From the Manger to the Cross also acted in it. The director Denis Villeneuve has won more Those Who Make Revolution Halfway than this director.', 'titles': ['Denis Villeneuve', 'Sidney Olcott', 'From the Manger to the Cross']}) (input_keys={'claim'}): litellm.RateLimitError: RateLimitError: Together_aiException - Request was rejected due to request rate limiting. Your rate limits are 60 RPM (1 QPS) and 60000 TPM (1000 TPS). See details: https://docs.together.ai/docs/rate-limits. Set `provide_traceback=True` for traceback.\n"
     ]
    },
    {
     "name": "stdout",
     "output_type": "stream",
     "text": [
      "Average Metric: 0.33 / 2 (16.7%):  23%|██▎       | 8/35 [00:17<00:25,  1.07it/s]"
     ]
    },
    {
     "name": "stderr",
     "output_type": "stream",
     "text": [
      "2025/07/19 17:13:55 ERROR dspy.utils.parallelizer: Error for Example({'claim': 'Delta–Mendota Canal is an aqueduct used to divert a canal. The All-American Canal is longer than that canal.', 'titles': ['Delta–Mendota Canal', 'Madera Canal', 'All-American Canal']}) (input_keys={'claim'}): litellm.RateLimitError: RateLimitError: Together_aiException - Request was rejected due to request rate limiting. Your rate limits are 60 RPM (1 QPS) and 60000 TPM (1000 TPS). See details: https://docs.together.ai/docs/rate-limits. Set `provide_traceback=True` for traceback.\n"
     ]
    },
    {
     "name": "stdout",
     "output_type": "stream",
     "text": [
      "Average Metric: 0.33 / 2 (16.7%):  26%|██▌       | 9/35 [00:18<00:25,  1.04it/s]"
     ]
    },
    {
     "name": "stderr",
     "output_type": "stream",
     "text": [
      "2025/07/19 17:13:55 ERROR dspy.utils.parallelizer: Error for Example({'claim': 'This equatorial island is known for Breacachadh which is also known as Breachacha Castle. It is also home to Dùn Dubh.', 'titles': ['Dùn Dubh', 'Breachacha Castle', 'Coll']}) (input_keys={'claim'}): litellm.RateLimitError: RateLimitError: Together_aiException - Request was rejected due to request rate limiting. Your rate limits are 60 RPM (1 QPS) and 60000 TPM (1000 TPS). See details: https://docs.together.ai/docs/rate-limits. Set `provide_traceback=True` for traceback.\n"
     ]
    },
    {
     "name": "stdout",
     "output_type": "stream",
     "text": [
      "Average Metric: 0.33 / 2 (16.7%):  29%|██▊       | 10/35 [00:18<00:19,  1.27it/s]"
     ]
    },
    {
     "name": "stderr",
     "output_type": "stream",
     "text": [
      "2025/07/19 17:13:58 ERROR dspy.utils.parallelizer: Error for Example({'claim': \"The owner of Viva (UK and Ireland) changed it's name in late 2004. Their new acronym stand for Gesellschaft mit beschränkter Haftung.\", 'titles': ['Gesellschaft mit beschränkter Haftung', 'Viva (UK and Ireland)', 'VIVA Media']}) (input_keys={'claim'}): litellm.RateLimitError: RateLimitError: Together_aiException - Request was rejected due to request rate limiting. Your rate limits are 60 RPM (1 QPS) and 60000 TPM (1000 TPS). See details: https://docs.together.ai/docs/rate-limits. Set `provide_traceback=True` for traceback.\n"
     ]
    },
    {
     "name": "stdout",
     "output_type": "stream",
     "text": [
      "Average Metric: 0.33 / 2 (16.7%):  31%|███▏      | 11/35 [00:22<00:35,  1.48s/it]"
     ]
    },
    {
     "name": "stderr",
     "output_type": "stream",
     "text": [
      "2025/07/19 17:14:01 ERROR dspy.utils.parallelizer: Error for Example({'claim': 'The director of The Moth Diaries (born January 12, 1953) was a French Canadian filmmaker who created a film about Bettie Page in 2005.', 'titles': ['The Moth Diaries (film)', 'Mary Harron', 'The Notorious Bettie Page']}) (input_keys={'claim'}): Both structured output format and JSON mode failed. Please choose a model that supports `response_format` argument. Original error: litellm.RateLimitError: RateLimitError: Together_aiException - Request was rejected due to request rate limiting. Your rate limits are 60 RPM (1 QPS) and 60000 TPM (1000 TPS). See details: https://docs.together.ai/docs/rate-limits. Set `provide_traceback=True` for traceback.\n"
     ]
    },
    {
     "name": "stdout",
     "output_type": "stream",
     "text": [
      "Average Metric: 0.33 / 2 (16.7%):  34%|███▍      | 12/35 [00:24<00:38,  1.69s/it]"
     ]
    },
    {
     "name": "stderr",
     "output_type": "stream",
     "text": [
      "2025/07/19 17:14:03 ERROR dspy.utils.parallelizer: Error for Example({'claim': \"The real life person that James Woods' character is based on in the television film was awarded the Medal of Honor. Steven Vincent Leigh appeared in this film in 1987.\", 'titles': ['James Stockdale', 'Steven Vincent Leigh', 'In Love and War (1987 film)']}) (input_keys={'claim'}): litellm.RateLimitError: RateLimitError: Together_aiException - Request was rejected due to request rate limiting. Your rate limits are 60 RPM (1 QPS) and 60000 TPM (1000 TPS). See details: https://docs.together.ai/docs/rate-limits. Set `provide_traceback=True` for traceback.\n"
     ]
    },
    {
     "name": "stdout",
     "output_type": "stream",
     "text": [
      "Average Metric: 0.33 / 3 (11.1%):  40%|████      | 14/35 [00:28<00:38,  1.83s/it]"
     ]
    },
    {
     "name": "stderr",
     "output_type": "stream",
     "text": [
      "2025/07/19 17:14:10 ERROR dspy.utils.parallelizer: Error for Example({'claim': 'The city containing the Parafield railway station is very near the airport and the Mawson Lakes campus of the University of South Australia.', 'titles': ['Parafield, South Australia', 'Parafield railway station', 'Parafield Airport']}) (input_keys={'claim'}): litellm.RateLimitError: RateLimitError: Together_aiException - Request was rejected due to request rate limiting. Your rate limits are 60 RPM (1 QPS) and 60000 TPM (1000 TPS). See details: https://docs.together.ai/docs/rate-limits. Set `provide_traceback=True` for traceback.\n"
     ]
    },
    {
     "name": "stdout",
     "output_type": "stream",
     "text": [
      "Average Metric: 0.33 / 3 (11.1%):  43%|████▎     | 15/35 [00:33<00:55,  2.77s/it]"
     ]
    },
    {
     "name": "stderr",
     "output_type": "stream",
     "text": [
      "2025/07/19 17:14:12 ERROR dspy.utils.parallelizer: Error for Example({'claim': 'Jonathan Howsmon Davis lives closer to Canada than this Japanese singer, whose fifth solo studio album is called Singing Bird.', 'titles': ['Koshi Inaba', 'Jonathan Davis', 'Singing Bird']}) (input_keys={'claim'}): litellm.RateLimitError: RateLimitError: Together_aiException - Request was rejected due to request rate limiting. Your rate limits are 60 RPM (1 QPS) and 60000 TPM (1000 TPS). See details: https://docs.together.ai/docs/rate-limits. Set `provide_traceback=True` for traceback.\n",
      "2025/07/19 17:14:12 ERROR dspy.utils.parallelizer: Error for Example({'claim': 'Candlelight Red the musical group has released twice as many albums as the band who also performs as One Unique Signal.', 'titles': ['Candlelight Red', 'The Telescopes', 'One Unique Signal']}) (input_keys={'claim'}): litellm.RateLimitError: RateLimitError: Together_aiException - Request was rejected due to request rate limiting. Your rate limits are 60 RPM (1 QPS) and 60000 TPM (1000 TPS). See details: https://docs.together.ai/docs/rate-limits. Set `provide_traceback=True` for traceback.\n"
     ]
    },
    {
     "name": "stdout",
     "output_type": "stream",
     "text": [
      "Average Metric: 0.33 / 3 (11.1%):  46%|████▌     | 16/35 [00:35<00:50,  2.64s/it]"
     ]
    },
    {
     "name": "stderr",
     "output_type": "stream",
     "text": [
      "2025/07/19 17:14:14 ERROR dspy.utils.parallelizer: Error for Example({'claim': 'The member of the group Wilkes-Barre/Scranton International Airport, formed by Kenny Loggins, was aged ten when she started singing in the seventh-most populated city in the United States.', 'titles': ['Kenny Loggins', 'San Antonio', 'Georgia Middleman']}) (input_keys={'claim'}): litellm.RateLimitError: RateLimitError: Together_aiException - Request was rejected due to request rate limiting. Your rate limits are 60 RPM (1 QPS) and 60000 TPM (1000 TPS). See details: https://docs.together.ai/docs/rate-limits. Set `provide_traceback=True` for traceback.\n"
     ]
    },
    {
     "name": "stdout",
     "output_type": "stream",
     "text": [
      "Average Metric: 0.33 / 3 (11.1%):  51%|█████▏    | 18/35 [00:37<00:31,  1.83s/it]"
     ]
    },
    {
     "name": "stderr",
     "output_type": "stream",
     "text": [
      "2025/07/19 17:14:15 ERROR dspy.utils.parallelizer: Error for Example({'claim': 'The director Jonathan Demme presented Made in Texas at a theater in Lower Manhattan which featured work from the filmmaker Dziga Vertov also known as Denis Kaufman.', 'titles': ['Collective for Living Cinema', 'Made in Texas', 'Dziga Vertov']}) (input_keys={'claim'}): litellm.RateLimitError: RateLimitError: Together_aiException - Request was rejected due to request rate limiting. Your rate limits are 60 RPM (1 QPS) and 60000 TPM (1000 TPS). See details: https://docs.together.ai/docs/rate-limits. Set `provide_traceback=True` for traceback.\n"
     ]
    },
    {
     "name": "stdout",
     "output_type": "stream",
     "text": [
      "Average Metric: 0.33 / 3 (11.1%):  54%|█████▍    | 19/35 [00:38<00:26,  1.63s/it]"
     ]
    },
    {
     "name": "stderr",
     "output_type": "stream",
     "text": [
      "2025/07/19 17:14:15 ERROR dspy.utils.parallelizer: Error for Example({'claim': 'Neither the director of the 1943 film \"Young and Willing\" nor Edward Burns are from Guatemala.', 'titles': ['Edward H. Griffith', 'Edward Burns', 'Young and Willing']}) (input_keys={'claim'}): litellm.RateLimitError: RateLimitError: Together_aiException - Request was rejected due to request rate limiting. Your rate limits are 60 RPM (1 QPS) and 60000 TPM (1000 TPS). See details: https://docs.together.ai/docs/rate-limits. Set `provide_traceback=True` for traceback.\n"
     ]
    },
    {
     "name": "stdout",
     "output_type": "stream",
     "text": [
      "Average Metric: 0.33 / 3 (11.1%):  57%|█████▋    | 20/35 [00:39<00:19,  1.32s/it]"
     ]
    },
    {
     "name": "stderr",
     "output_type": "stream",
     "text": [
      "2025/07/19 17:14:16 ERROR dspy.utils.parallelizer: Error for Example({'claim': 'Ellesmere Port Town Football Club are currently members of the league, whose current principal sponsor is the Football Conference, that Ford Motors F.C. is a part of.', 'titles': ['Ford Motors F.C.', 'West Cheshire Association Football League', 'Ellesmere Port Town F.C.']}) (input_keys={'claim'}): litellm.RateLimitError: RateLimitError: Together_aiException - Request was rejected due to request rate limiting. Your rate limits are 60 RPM (1 QPS) and 60000 TPM (1000 TPS). See details: https://docs.together.ai/docs/rate-limits. Set `provide_traceback=True` for traceback.\n"
     ]
    },
    {
     "name": "stdout",
     "output_type": "stream",
     "text": [
      "Average Metric: 0.33 / 3 (11.1%):  60%|██████    | 21/35 [00:39<00:15,  1.08s/it]"
     ]
    },
    {
     "name": "stderr",
     "output_type": "stream",
     "text": [
      "2025/07/19 17:14:16 ERROR dspy.utils.parallelizer: Error for Example({'claim': 'An actor born in 1955 that acted in the movie that was the inspiration for Blackmail (2005 film) was nominated for Golden Globe Award.', 'titles': ['Blackmail (2005 film)', 'Ransom (1996 film)', 'Gary Sinise']}) (input_keys={'claim'}): litellm.RateLimitError: RateLimitError: Together_aiException - Request was rejected due to request rate limiting. Your rate limits are 60 RPM (1 QPS) and 60000 TPM (1000 TPS). See details: https://docs.together.ai/docs/rate-limits. Set `provide_traceback=True` for traceback.\n"
     ]
    },
    {
     "name": "stdout",
     "output_type": "stream",
     "text": [
      "Average Metric: 0.33 / 3 (11.1%):  63%|██████▎   | 22/35 [00:40<00:13,  1.01s/it]"
     ]
    },
    {
     "name": "stderr",
     "output_type": "stream",
     "text": [
      "2025/07/19 17:14:18 ERROR dspy.utils.parallelizer: Error for Example({'claim': 'Brady Seals has released more solo albums than the rapper who Avril Lavigne featured on the song Get Over Me with.', 'titles': ['Nick Carter (musician)', 'Brady Seals', 'Get Over Me']}) (input_keys={'claim'}): litellm.RateLimitError: RateLimitError: Together_aiException - Request was rejected due to request rate limiting. Your rate limits are 60 RPM (1 QPS) and 60000 TPM (1000 TPS). See details: https://docs.together.ai/docs/rate-limits. Set `provide_traceback=True` for traceback.\n"
     ]
    },
    {
     "name": "stdout",
     "output_type": "stream",
     "text": [
      "Average Metric: 0.67 / 4 (16.7%):  69%|██████▊   | 24/35 [00:47<00:26,  2.42s/it]"
     ]
    },
    {
     "name": "stderr",
     "output_type": "stream",
     "text": [
      "2025/07/19 17:14:26 ERROR dspy.utils.parallelizer: Error for Example({'claim': 'Sophia Grace & Rosie featured a cover song on their Youtube channel. The pop song from is from an album released under the Syco Music and Columbia Records labels.', 'titles': ['Touch (Little Mix song)', 'Glory Days (Little Mix album)', 'Sophia Grace &amp; Rosie']}) (input_keys={'claim'}): litellm.RateLimitError: RateLimitError: Together_aiException - Request was rejected due to request rate limiting. Your rate limits are 60 RPM (1 QPS) and 60000 TPM (1000 TPS). See details: https://docs.together.ai/docs/rate-limits. Set `provide_traceback=True` for traceback.\n"
     ]
    },
    {
     "name": "stdout",
     "output_type": "stream",
     "text": [
      "Average Metric: 0.67 / 4 (16.7%):  71%|███████▏  | 25/35 [00:49<00:23,  2.40s/it]"
     ]
    },
    {
     "name": "stderr",
     "output_type": "stream",
     "text": [
      "2025/07/19 17:14:26 ERROR dspy.utils.parallelizer: Error for Example({'claim': 'There are top three sections for the hockey meeting JC Lipon placed 91st overall in. Of the top three, the one who is both a American professional ice hockey forward and an alternate captain of the Colorado Avalanche organization of the National Hockey League is Nathan MacKinnon.', 'titles': ['2013 NHL Entry Draft', 'Nathan MacKinnon', 'JC Lipon']}) (input_keys={'claim'}): litellm.RateLimitError: RateLimitError: Together_aiException - Request was rejected due to request rate limiting. Your rate limits are 60 RPM (1 QPS) and 60000 TPM (1000 TPS). See details: https://docs.together.ai/docs/rate-limits. Set `provide_traceback=True` for traceback.\n"
     ]
    },
    {
     "name": "stdout",
     "output_type": "stream",
     "text": [
      "Average Metric: 0.67 / 4 (16.7%):  71%|███████▏  | 25/35 [00:49<00:23,  2.40s/it]"
     ]
    },
    {
     "name": "stderr",
     "output_type": "stream",
     "text": [
      "2025/07/19 17:14:26 ERROR dspy.utils.parallelizer: Error for Example({'claim': 'The actress that starred as a parent in Sky High (2005 film) is married to John Travolta. She also starred in a summer 1994 film about a pregnant woman who is stranded at a trading post during the American Civil War.', 'titles': ['Sky High (2005 film)', 'Cheyenne Warrior', 'Kelly Preston']}) (input_keys={'claim'}): litellm.RateLimitError: RateLimitError: Together_aiException - Request was rejected due to request rate limiting. Your rate limits are 60 RPM (1 QPS) and 60000 TPM (1000 TPS). See details: https://docs.together.ai/docs/rate-limits. Set `provide_traceback=True` for traceback.\n"
     ]
    },
    {
     "name": "stdout",
     "output_type": "stream",
     "text": [
      "Average Metric: 0.67 / 4 (16.7%):  77%|███████▋  | 27/35 [00:50<00:11,  1.39s/it]"
     ]
    },
    {
     "name": "stderr",
     "output_type": "stream",
     "text": [
      "2025/07/19 17:14:26 ERROR dspy.utils.parallelizer: Error for Example({'claim': 'The father of director Guðný Halldórsdóttir and Timothy Leary are not from the same place.', 'titles': ['Halldór Laxness', 'Timothy Leary', 'Guðný Halldórsdóttir']}) (input_keys={'claim'}): litellm.RateLimitError: RateLimitError: Together_aiException - Request was rejected due to request rate limiting. Your rate limits are 60 RPM (1 QPS) and 60000 TPM (1000 TPS). See details: https://docs.together.ai/docs/rate-limits. Set `provide_traceback=True` for traceback.\n"
     ]
    },
    {
     "name": "stdout",
     "output_type": "stream",
     "text": [
      "Average Metric: 0.67 / 4 (16.7%):  77%|███████▋  | 27/35 [00:50<00:11,  1.39s/it]"
     ]
    },
    {
     "name": "stderr",
     "output_type": "stream",
     "text": [
      "2025/07/19 17:14:31 ERROR dspy.utils.parallelizer: Error for Example({'claim': 'Tim Swanson, who played keyboard for the \"Sweet Nothings\" album, was a member of a different jazz band. This band and Lit were not formed in the same states.', 'titles': ['Lit (band)', 'Sweet Nothings (album)', 'Ideamen']}) (input_keys={'claim'}): litellm.RateLimitError: RateLimitError: Together_aiException - Request was rejected due to request rate limiting. Your rate limits are 60 RPM (1 QPS) and 60000 TPM (1000 TPS). See details: https://docs.together.ai/docs/rate-limits. Set `provide_traceback=True` for traceback.\n"
     ]
    },
    {
     "name": "stdout",
     "output_type": "stream",
     "text": [
      "Average Metric: 1.00 / 6 (16.7%):  89%|████████▊ | 31/35 [00:56<00:05,  1.37s/it]"
     ]
    },
    {
     "name": "stderr",
     "output_type": "stream",
     "text": [
      "2025/07/19 17:14:33 ERROR dspy.utils.parallelizer: Error for Example({'claim': 'The actor, who played Spellingg Bee\" in \"That\\'s My Bush!\", from Stockton, CA appeared in Psych, an American detective comedy-drama television series created by Steve Franks.', 'titles': ['Kurt Fuller', \"That's My Bush!\", 'Psych']}) (input_keys={'claim'}): litellm.RateLimitError: RateLimitError: Together_aiException - Request was rejected due to request rate limiting. Your rate limits are 60 RPM (1 QPS) and 60000 TPM (1000 TPS). See details: https://docs.together.ai/docs/rate-limits. Set `provide_traceback=True` for traceback.\n"
     ]
    },
    {
     "name": "stdout",
     "output_type": "stream",
     "text": [
      "Average Metric: 1.00 / 6 (16.7%):  89%|████████▊ | 31/35 [00:56<00:05,  1.37s/it]"
     ]
    },
    {
     "name": "stderr",
     "output_type": "stream",
     "text": [
      "2025/07/19 17:14:33 ERROR dspy.utils.parallelizer: Error for Example({'claim': 'Mother Mother (song) was the last song by a female solo artist to top this chart until the song was the first song released by Lorde by New Zealand singer Lorde. Also to be released later on her debut studio album.', 'titles': ['Royals (song)', 'Mother Mother (song)', 'Tennis Court (song)']}) (input_keys={'claim'}): litellm.RateLimitError: RateLimitError: Together_aiException - Request was rejected due to request rate limiting. Your rate limits are 60 RPM (1 QPS) and 60000 TPM (1000 TPS). See details: https://docs.together.ai/docs/rate-limits. Set `provide_traceback=True` for traceback.\n"
     ]
    },
    {
     "name": "stdout",
     "output_type": "stream",
     "text": [
      "Average Metric: 1.00 / 6 (16.7%):  91%|█████████▏| 32/35 [00:56<00:04,  1.37s/it]"
     ]
    },
    {
     "name": "stderr",
     "output_type": "stream",
     "text": [
      "2025/07/19 17:14:33 ERROR dspy.utils.parallelizer: Error for Example({'claim': 'Christopher Whitelaw Pine appeared in the films that inspired Good Luck! and \"Into the Woods\".', 'titles': ['Just My Luck (2006 film)', 'Good Luck!', 'Chris Pine']}) (input_keys={'claim'}): litellm.RateLimitError: RateLimitError: Together_aiException - Request was rejected due to request rate limiting. Your rate limits are 60 RPM (1 QPS) and 60000 TPM (1000 TPS). See details: https://docs.together.ai/docs/rate-limits. Set `provide_traceback=True` for traceback.\n"
     ]
    },
    {
     "name": "stdout",
     "output_type": "stream",
     "text": [
      "Average Metric: 1.00 / 6 (16.7%):  94%|█████████▍| 33/35 [00:56<00:02,  1.37s/it]"
     ]
    },
    {
     "name": "stderr",
     "output_type": "stream",
     "text": [
      "2025/07/19 17:14:33 ERROR dspy.utils.parallelizer: Error for Example({'claim': 'The star of Nothing to Report and Gary Barlow have a profession in common.', 'titles': ['Gary Barlow', 'Chris Jericho', 'Nothing to Report']}) (input_keys={'claim'}): litellm.RateLimitError: RateLimitError: Together_aiException - Request was rejected due to request rate limiting. Your rate limits are 60 RPM (1 QPS) and 60000 TPM (1000 TPS). See details: https://docs.together.ai/docs/rate-limits. Set `provide_traceback=True` for traceback.\n"
     ]
    },
    {
     "name": "stdout",
     "output_type": "stream",
     "text": [
      "Average Metric: 1.00 / 6 (16.7%): 100%|██████████| 35/35 [00:56<00:00,  1.61s/it]"
     ]
    },
    {
     "name": "stderr",
     "output_type": "stream",
     "text": [
      "2025/07/19 17:14:33 INFO dspy.evaluate.evaluate: Average Metric: 1.0 / 35 (2.9%)\n",
      "2025/07/19 17:14:33 INFO dspy.teleprompt.mipro_optimizer_v2: Score: 2.86 on minibatch of size 35 with parameters ['Predictor 0: Instruction 1', 'Predictor 0: Few-Shot Set 6', 'Predictor 1: Instruction 4', 'Predictor 1: Few-Shot Set 2'].\n",
      "2025/07/19 17:14:33 INFO dspy.teleprompt.mipro_optimizer_v2: Minibatch scores so far: [2.86]\n",
      "2025/07/19 17:14:33 INFO dspy.teleprompt.mipro_optimizer_v2: Full eval scores so far: [2.08]\n",
      "2025/07/19 17:14:33 INFO dspy.teleprompt.mipro_optimizer_v2: Best full score so far: 2.08\n",
      "2025/07/19 17:14:33 INFO dspy.teleprompt.mipro_optimizer_v2: =========================================\n",
      "\n",
      "\n",
      "2025/07/19 17:14:33 INFO dspy.teleprompt.mipro_optimizer_v2: == Trial 3 / 35 - Minibatch ==\n"
     ]
    },
    {
     "name": "stdout",
     "output_type": "stream",
     "text": [
      "\n",
      "Average Metric: 0.33 / 1 (33.3%):   3%|▎         | 1/35 [00:05<03:08,  5.54s/it]"
     ]
    },
    {
     "name": "stderr",
     "output_type": "stream",
     "text": [
      "2025/07/19 17:14:49 ERROR dspy.utils.parallelizer: Error for Example({'claim': 'Tim Swanson, who played keyboard for the \"Sweet Nothings\" album, was a member of a different jazz band. This band and Lit were not formed in the same states.', 'titles': ['Lit (band)', 'Sweet Nothings (album)', 'Ideamen']}) (input_keys={'claim'}): litellm.RateLimitError: RateLimitError: Together_aiException - Request was rejected due to request rate limiting. Your rate limits are 60 RPM (1 QPS) and 60000 TPM (1000 TPS). See details: https://docs.together.ai/docs/rate-limits. Set `provide_traceback=True` for traceback.\n"
     ]
    },
    {
     "name": "stdout",
     "output_type": "stream",
     "text": [
      "Average Metric: 0.33 / 1 (33.3%):   6%|▌         | 2/35 [00:16<04:40,  8.49s/it]"
     ]
    },
    {
     "name": "stderr",
     "output_type": "stream",
     "text": [
      "2025/07/19 17:14:51 ERROR dspy.utils.parallelizer: Error for Example({'claim': 'The actress that starred as a parent in Sky High (2005 film) is married to John Travolta. She also starred in a summer 1994 film about a pregnant woman who is stranded at a trading post during the American Civil War.', 'titles': ['Sky High (2005 film)', 'Cheyenne Warrior', 'Kelly Preston']}) (input_keys={'claim'}): litellm.RateLimitError: RateLimitError: Together_aiException - Request was rejected due to request rate limiting. Your rate limits are 60 RPM (1 QPS) and 60000 TPM (1000 TPS). See details: https://docs.together.ai/docs/rate-limits. Set `provide_traceback=True` for traceback.\n"
     ]
    },
    {
     "name": "stdout",
     "output_type": "stream",
     "text": [
      "Average Metric: 0.33 / 1 (33.3%):   9%|▊         | 3/35 [00:18<03:02,  5.70s/it]"
     ]
    },
    {
     "name": "stderr",
     "output_type": "stream",
     "text": [
      "2025/07/19 17:14:51 ERROR dspy.utils.parallelizer: Error for Example({'claim': 'This series developer created T-Dog on the Walking Dead. He is the Hungarian-born US film director renowned for adapting Stephen King novellas to the screen, including The Mist and The Green Mile.', 'titles': ['The Mist (film)', 'Frank Darabont', 'T-Dog (The Walking Dead)']}) (input_keys={'claim'}): litellm.RateLimitError: RateLimitError: Together_aiException - Request was rejected due to request rate limiting. Your rate limits are 60 RPM (1 QPS) and 60000 TPM (1000 TPS). See details: https://docs.together.ai/docs/rate-limits. Set `provide_traceback=True` for traceback.\n"
     ]
    },
    {
     "name": "stdout",
     "output_type": "stream",
     "text": [
      "Average Metric: 0.33 / 1 (33.3%):   9%|▊         | 3/35 [00:18<03:02,  5.70s/it]"
     ]
    },
    {
     "name": "stderr",
     "output_type": "stream",
     "text": [
      "2025/07/19 17:14:52 ERROR dspy.utils.parallelizer: Error for Example({'claim': 'Irish footballer, John Francis O\\'Shea, joined a company in 1950. This company made the TV movie \"The Coastwatchers\"', 'titles': [\"John O'Shea\", 'Pacific Films', 'The Coastwatchers (TV movie)']}) (input_keys={'claim'}): litellm.RateLimitError: RateLimitError: Together_aiException - Request was rejected due to request rate limiting. Your rate limits are 60 RPM (1 QPS) and 60000 TPM (1000 TPS). See details: https://docs.together.ai/docs/rate-limits. Set `provide_traceback=True` for traceback.\n"
     ]
    },
    {
     "name": "stdout",
     "output_type": "stream",
     "text": [
      "Average Metric: 0.33 / 1 (33.3%):  14%|█▍        | 5/35 [00:18<01:16,  2.53s/it]"
     ]
    },
    {
     "name": "stderr",
     "output_type": "stream",
     "text": [
      "2025/07/19 17:14:52 ERROR dspy.utils.parallelizer: Error for Example({'claim': 'Passionate Love is a Korean television series starring Sung Hoon and the actress starring in a movie that was filmed in 2012.', 'titles': ['Choi Yoon-young', 'As One (film)', 'Passionate Love']}) (input_keys={'claim'}): litellm.RateLimitError: RateLimitError: Together_aiException - Request was rejected due to request rate limiting. Your rate limits are 60 RPM (1 QPS) and 60000 TPM (1000 TPS). See details: https://docs.together.ai/docs/rate-limits. Set `provide_traceback=True` for traceback.\n"
     ]
    },
    {
     "name": "stdout",
     "output_type": "stream",
     "text": [
      "Average Metric: 0.33 / 1 (33.3%):  14%|█▍        | 5/35 [00:18<01:16,  2.53s/it]"
     ]
    },
    {
     "name": "stderr",
     "output_type": "stream",
     "text": [
      "2025/07/19 17:14:52 ERROR dspy.utils.parallelizer: Error for Example({'claim': 'This American composer composed Troubled Island. He was born in 1895 was married to his frequent collaborator Verna Arvey.', 'titles': ['William Grant Still', 'A Bayou Legend', 'Troubled Island']}) (input_keys={'claim'}): litellm.RateLimitError: RateLimitError: Together_aiException - Request was rejected due to request rate limiting. Your rate limits are 60 RPM (1 QPS) and 60000 TPM (1000 TPS). See details: https://docs.together.ai/docs/rate-limits. Set `provide_traceback=True` for traceback.\n"
     ]
    },
    {
     "name": "stdout",
     "output_type": "stream",
     "text": [
      "Average Metric: 0.33 / 1 (33.3%):  20%|██        | 7/35 [00:19<00:41,  1.48s/it]"
     ]
    },
    {
     "name": "stderr",
     "output_type": "stream",
     "text": [
      "2025/07/19 17:14:53 ERROR dspy.utils.parallelizer: Error for Example({'claim': 'The kind of dog Banana Joe V Tani Kazari is and Villanuco de Las Encartaciones are not both breeds of dog.', 'titles': ['Affenpinscher', 'German Pinscher', 'Villanuco de Las Encartaciones']}) (input_keys={'claim'}): litellm.RateLimitError: RateLimitError: Together_aiException - Request was rejected due to request rate limiting. Your rate limits are 60 RPM (1 QPS) and 60000 TPM (1000 TPS). See details: https://docs.together.ai/docs/rate-limits. Set `provide_traceback=True` for traceback.\n"
     ]
    },
    {
     "name": "stdout",
     "output_type": "stream",
     "text": [
      "Average Metric: 0.33 / 1 (33.3%):  23%|██▎       | 8/35 [00:19<00:33,  1.24s/it]"
     ]
    },
    {
     "name": "stderr",
     "output_type": "stream",
     "text": [
      "2025/07/19 17:14:54 ERROR dspy.utils.parallelizer: Error for Example({'claim': 'Candlelight Red the musical group has released twice as many albums as the band who also performs as One Unique Signal.', 'titles': ['Candlelight Red', 'The Telescopes', 'One Unique Signal']}) (input_keys={'claim'}): litellm.RateLimitError: RateLimitError: Together_aiException - Request was rejected due to request rate limiting. Your rate limits are 60 RPM (1 QPS) and 60000 TPM (1000 TPS). See details: https://docs.together.ai/docs/rate-limits. Set `provide_traceback=True` for traceback.\n"
     ]
    },
    {
     "name": "stdout",
     "output_type": "stream",
     "text": [
      "Average Metric: 0.33 / 1 (33.3%):  26%|██▌       | 9/35 [00:20<00:32,  1.24s/it]"
     ]
    },
    {
     "name": "stderr",
     "output_type": "stream",
     "text": [
      "2025/07/19 17:14:54 ERROR dspy.utils.parallelizer: Error for Example({'claim': 'German Frank Sinatra has won more awards than this Skinny Puppy band member, for whom the Rx (band) was a one-off side project.', 'titles': ['Frank Sinatra', 'Rx (band)', 'Nivek Ogre']}) (input_keys={'claim'}): litellm.RateLimitError: RateLimitError: Together_aiException - Request was rejected due to request rate limiting. Your rate limits are 60 RPM (1 QPS) and 60000 TPM (1000 TPS). See details: https://docs.together.ai/docs/rate-limits. Set `provide_traceback=True` for traceback.\n"
     ]
    },
    {
     "name": "stdout",
     "output_type": "stream",
     "text": [
      "Average Metric: 0.33 / 1 (33.3%):  26%|██▌       | 9/35 [00:20<00:32,  1.24s/it]"
     ]
    },
    {
     "name": "stderr",
     "output_type": "stream",
     "text": [
      "2025/07/19 17:14:56 ERROR dspy.utils.parallelizer: Error for Example({'claim': 'The actor Giancarlo Giuseppe Alessandro Esposito starred in the 2016 film that also starred Olivia Luccardi. Giancarlo is best known for his portrayal of Gustavo \"Gus\" Fring on the AMC shows \"Breaking Bad\" and \"Breaking Bad\".', 'titles': ['Money Monster', 'Giancarlo Esposito', 'Olivia Luccardi']}) (input_keys={'claim'}): litellm.RateLimitError: RateLimitError: Together_aiException - Request was rejected due to request rate limiting. Your rate limits are 60 RPM (1 QPS) and 60000 TPM (1000 TPS). See details: https://docs.together.ai/docs/rate-limits. Set `provide_traceback=True` for traceback.\n"
     ]
    },
    {
     "name": "stdout",
     "output_type": "stream",
     "text": [
      "Average Metric: 0.67 / 2 (33.3%):  34%|███▍      | 12/35 [00:24<00:30,  1.32s/it]"
     ]
    },
    {
     "name": "stderr",
     "output_type": "stream",
     "text": [
      "2025/07/19 17:15:06 ERROR dspy.utils.parallelizer: Error for Example({'claim': \"Daniel Boone's trail ran through Arcadia, Tennessee in 1775. This unofficial trail, which leads into Kentucky, was near one of locales of the Green-Jones War. It was turned down to become the National Road.\", 'titles': ['Wilderness Road', 'Arcadia, Tennessee', 'Greene–Jones War']}) (input_keys={'claim'}): litellm.RateLimitError: RateLimitError: Together_aiException - Request was rejected due to request rate limiting. Your rate limits are 60 RPM (1 QPS) and 60000 TPM (1000 TPS). See details: https://docs.together.ai/docs/rate-limits. Set `provide_traceback=True` for traceback.\n"
     ]
    },
    {
     "name": "stdout",
     "output_type": "stream",
     "text": [
      "Average Metric: 0.67 / 2 (33.3%):  37%|███▋      | 13/35 [00:33<01:07,  3.09s/it]"
     ]
    },
    {
     "name": "stderr",
     "output_type": "stream",
     "text": [
      "2025/07/19 17:15:06 ERROR dspy.utils.parallelizer: Error for Example({'claim': '\"Licence Revoked\" was the original title during production of a war film that has the actor from Maniac Cop 2. The actor stars as villain Franz Sanchez in \"Licence Revoked\".', 'titles': ['Licence to Kill', 'Robert Davi', 'Maniac Cop 2']}) (input_keys={'claim'}): litellm.RateLimitError: RateLimitError: Together_aiException - Request was rejected due to request rate limiting. Your rate limits are 60 RPM (1 QPS) and 60000 TPM (1000 TPS). See details: https://docs.together.ai/docs/rate-limits. Set `provide_traceback=True` for traceback.\n"
     ]
    },
    {
     "name": "stdout",
     "output_type": "stream",
     "text": [
      "Average Metric: 0.67 / 2 (33.3%):  37%|███▋      | 13/35 [00:33<01:07,  3.09s/it]"
     ]
    },
    {
     "name": "stderr",
     "output_type": "stream",
     "text": [
      "2025/07/19 17:15:07 ERROR dspy.utils.parallelizer: Error for Example({'claim': 'Lincoln Barrett is the real name of the welsh electronic music producer DJ who have been visited the night club  in Vienna hundreds of times. The Waves of Vienna festival takes place in the same nightclub.', 'titles': ['Flex (club)', 'Waves Vienna', 'High Contrast']}) (input_keys={'claim'}): litellm.RateLimitError: RateLimitError: Together_aiException - Request was rejected due to request rate limiting. Your rate limits are 60 RPM (1 QPS) and 60000 TPM (1000 TPS). See details: https://docs.together.ai/docs/rate-limits. Set `provide_traceback=True` for traceback.\n"
     ]
    },
    {
     "name": "stdout",
     "output_type": "stream",
     "text": [
      "Average Metric: 0.67 / 2 (33.3%):  43%|████▎     | 15/35 [00:34<00:40,  2.05s/it]"
     ]
    },
    {
     "name": "stderr",
     "output_type": "stream",
     "text": [
      "2025/07/19 17:15:08 ERROR dspy.utils.parallelizer: Error for Example({'claim': 'Christopher Whitelaw Pine appeared in the films that inspired Good Luck! and \"Into the Woods\".', 'titles': ['Just My Luck (2006 film)', 'Good Luck!', 'Chris Pine']}) (input_keys={'claim'}): litellm.RateLimitError: RateLimitError: Together_aiException - Request was rejected due to request rate limiting. Your rate limits are 60 RPM (1 QPS) and 60000 TPM (1000 TPS). See details: https://docs.together.ai/docs/rate-limits. Set `provide_traceback=True` for traceback.\n"
     ]
    },
    {
     "name": "stdout",
     "output_type": "stream",
     "text": [
      "Average Metric: 0.67 / 2 (33.3%):  46%|████▌     | 16/35 [00:35<00:33,  1.75s/it]"
     ]
    },
    {
     "name": "stderr",
     "output_type": "stream",
     "text": [
      "2025/07/19 17:15:12 ERROR dspy.utils.parallelizer: Error for Example({'claim': 'The father of director Guðný Halldórsdóttir and Timothy Leary are not from the same place.', 'titles': ['Halldór Laxness', 'Timothy Leary', 'Guðný Halldórsdóttir']}) (input_keys={'claim'}): litellm.RateLimitError: RateLimitError: Together_aiException - Request was rejected due to request rate limiting. Your rate limits are 60 RPM (1 QPS) and 60000 TPM (1000 TPS). See details: https://docs.together.ai/docs/rate-limits. Set `provide_traceback=True` for traceback.\n"
     ]
    },
    {
     "name": "stdout",
     "output_type": "stream",
     "text": [
      "Average Metric: 0.67 / 2 (33.3%):  49%|████▊     | 17/35 [00:38<00:39,  2.22s/it]"
     ]
    },
    {
     "name": "stderr",
     "output_type": "stream",
     "text": [
      "2025/07/19 17:15:12 WARNING dspy.clients.lm: LM response was truncated due to exceeding max_tokens=4000. You can inspect the latest LM interactions with `dspy.inspect_history()`. To avoid truncation, consider passing a larger max_tokens when setting up dspy.LM. You may also consider increasing the temperature (currently 0.7)  if the reason for truncation is repetition.\n",
      "2025/07/19 17:15:12 ERROR dspy.utils.parallelizer: Error for Example({'claim': 'Radiation Vibe is the first chart-topping single from the debut album of the band formed in 1995 that came out with an album called \"Welcome Interstate Managers\\'.', 'titles': [\"Stacy's Mom\", 'Fountains of Wayne', 'Radiation Vibe']}) (input_keys={'claim'}): litellm.RateLimitError: RateLimitError: Together_aiException - Request was rejected due to request rate limiting. Your rate limits are 60 RPM (1 QPS) and 60000 TPM (1000 TPS). See details: https://docs.together.ai/docs/rate-limits. Set `provide_traceback=True` for traceback.\n"
     ]
    },
    {
     "name": "stdout",
     "output_type": "stream",
     "text": [
      "Average Metric: 0.67 / 2 (33.3%):  51%|█████▏    | 18/35 [00:39<00:30,  1.82s/it]"
     ]
    },
    {
     "name": "stderr",
     "output_type": "stream",
     "text": [
      "2025/07/19 17:15:14 ERROR dspy.utils.parallelizer: Error for Example({'claim': 'Anthony Sandler is the Chief of Pediatric Surgery at a large hospital. MedStar Washington Hospital Center is the largest private hospital in Washington, D.C. not this hospital.', 'titles': ['MedStar Washington Hospital Center', \"Children's National Medical Center\", 'Anthony Sandler']}) (input_keys={'claim'}): litellm.RateLimitError: RateLimitError: Together_aiException - Request was rejected due to request rate limiting. Your rate limits are 60 RPM (1 QPS) and 60000 TPM (1000 TPS). See details: https://docs.together.ai/docs/rate-limits. Set `provide_traceback=True` for traceback.\n"
     ]
    },
    {
     "name": "stdout",
     "output_type": "stream",
     "text": [
      "Average Metric: 0.67 / 2 (33.3%):  54%|█████▍    | 19/35 [00:40<00:27,  1.72s/it]"
     ]
    },
    {
     "name": "stderr",
     "output_type": "stream",
     "text": [
      "2025/07/19 17:15:18 ERROR dspy.utils.parallelizer: Error for Example({'claim': 'The Stanley Kubrick thriller that Nicole Kidman worked with Tom Cruise on, starring Vinessa Elizabeth Shaw, was based on the novella \"Traumnovelle\" (\"Dream Story\") .', 'titles': ['Vinessa Shaw', 'Eyes Wide Shut', 'Nicole Kidman filmography']}) (input_keys={'claim'}): litellm.RateLimitError: RateLimitError: Together_aiException - Request was rejected due to request rate limiting. Your rate limits are 60 RPM (1 QPS) and 60000 TPM (1000 TPS). See details: https://docs.together.ai/docs/rate-limits. Set `provide_traceback=True` for traceback.\n"
     ]
    },
    {
     "name": "stdout",
     "output_type": "stream",
     "text": [
      "Average Metric: 0.67 / 2 (33.3%):  57%|█████▋    | 20/35 [00:45<00:38,  2.54s/it]"
     ]
    },
    {
     "name": "stderr",
     "output_type": "stream",
     "text": [
      "2025/07/19 17:15:21 ERROR dspy.utils.parallelizer: Error for Example({'claim': 'Brady Seals has released more solo albums than the rapper who Avril Lavigne featured on the song Get Over Me with.', 'titles': ['Nick Carter (musician)', 'Brady Seals', 'Get Over Me']}) (input_keys={'claim'}): litellm.RateLimitError: RateLimitError: Together_aiException - Request was rejected due to request rate limiting. Your rate limits are 60 RPM (1 QPS) and 60000 TPM (1000 TPS). See details: https://docs.together.ai/docs/rate-limits. Set `provide_traceback=True` for traceback.\n"
     ]
    },
    {
     "name": "stdout",
     "output_type": "stream",
     "text": [
      "Average Metric: 0.67 / 2 (33.3%):  60%|██████    | 21/35 [00:47<00:34,  2.49s/it]"
     ]
    },
    {
     "name": "stderr",
     "output_type": "stream",
     "text": [
      "2025/07/19 17:15:22 ERROR dspy.utils.parallelizer: Error for Example({'claim': 'Lari Michele White is the county music artist that first gained national attention as a winner on \"You Can Be a Star\". She then went on to provide background vocals on the first single of the album, Now and Then.', 'titles': ['Lari White', 'Take It Like a Man (Michelle Wright song)', 'Now and Then (Michelle Wright album)']}) (input_keys={'claim'}): litellm.RateLimitError: RateLimitError: Together_aiException - Request was rejected due to request rate limiting. Your rate limits are 60 RPM (1 QPS) and 60000 TPM (1000 TPS). See details: https://docs.together.ai/docs/rate-limits. Set `provide_traceback=True` for traceback.\n"
     ]
    },
    {
     "name": "stdout",
     "output_type": "stream",
     "text": [
      "Average Metric: 0.67 / 2 (33.3%):  63%|██████▎   | 22/35 [00:49<00:27,  2.15s/it]"
     ]
    },
    {
     "name": "stderr",
     "output_type": "stream",
     "text": [
      "2025/07/19 17:15:22 ERROR dspy.utils.parallelizer: Error for Example({'claim': 'The player who teamed up with Elena Bovina for the  2003 Family Circle Cup – Doubles. Her and Renáta Tomanová were both tennis players.', 'titles': ['2003 Family Circle Cup – Doubles', 'Rennae Stubbs', 'Renáta Tomanová']}) (input_keys={'claim'}): litellm.RateLimitError: RateLimitError: Together_aiException - Request was rejected due to request rate limiting. Your rate limits are 60 RPM (1 QPS) and 60000 TPM (1000 TPS). See details: https://docs.together.ai/docs/rate-limits. Set `provide_traceback=True` for traceback.\n"
     ]
    },
    {
     "name": "stdout",
     "output_type": "stream",
     "text": [
      "Average Metric: 0.67 / 2 (33.3%):  66%|██████▌   | 23/35 [00:49<00:18,  1.58s/it]"
     ]
    },
    {
     "name": "stderr",
     "output_type": "stream",
     "text": [
      "2025/07/19 17:15:27 ERROR dspy.utils.parallelizer: Error for Example({'claim': 'This equatorial island is known for Breacachadh which is also known as Breachacha Castle. It is also home to Dùn Dubh.', 'titles': ['Dùn Dubh', 'Breachacha Castle', 'Coll']}) (input_keys={'claim'}): litellm.RateLimitError: RateLimitError: Together_aiException - Request was rejected due to request rate limiting. Your rate limits are 60 RPM (1 QPS) and 60000 TPM (1000 TPS). See details: https://docs.together.ai/docs/rate-limits. Set `provide_traceback=True` for traceback.\n"
     ]
    },
    {
     "name": "stdout",
     "output_type": "stream",
     "text": [
      "Average Metric: 1.33 / 3 (44.4%):  71%|███████▏  | 25/35 [00:57<00:27,  2.78s/it]"
     ]
    },
    {
     "name": "stderr",
     "output_type": "stream",
     "text": [
      "2025/07/19 17:15:30 ERROR dspy.utils.parallelizer: Error for Example({'claim': 'Mother Mother (song) was the last song by a female solo artist to top this chart until the song was the first song released by Lorde by New Zealand singer Lorde. Also to be released later on her debut studio album.', 'titles': ['Royals (song)', 'Mother Mother (song)', 'Tennis Court (song)']}) (input_keys={'claim'}): litellm.RateLimitError: RateLimitError: Together_aiException - Request was rejected due to request rate limiting. Your rate limits are 60 RPM (1 QPS) and 60000 TPM (1000 TPS). See details: https://docs.together.ai/docs/rate-limits. Set `provide_traceback=True` for traceback.\n"
     ]
    },
    {
     "name": "stdout",
     "output_type": "stream",
     "text": [
      "Average Metric: 1.33 / 3 (44.4%):  71%|███████▏  | 25/35 [00:57<00:27,  2.78s/it]"
     ]
    },
    {
     "name": "stderr",
     "output_type": "stream",
     "text": [
      "2025/07/19 17:15:30 ERROR dspy.utils.parallelizer: Error for Example({'claim': 'The director of From the Manger to the Cross also acted in it. The director Denis Villeneuve has won more Those Who Make Revolution Halfway than this director.', 'titles': ['Denis Villeneuve', 'Sidney Olcott', 'From the Manger to the Cross']}) (input_keys={'claim'}): litellm.RateLimitError: RateLimitError: Together_aiException - Request was rejected due to request rate limiting. Your rate limits are 60 RPM (1 QPS) and 60000 TPM (1000 TPS). See details: https://docs.together.ai/docs/rate-limits. Set `provide_traceback=True` for traceback.\n"
     ]
    },
    {
     "name": "stdout",
     "output_type": "stream",
     "text": [
      "Average Metric: 1.33 / 3 (44.4%):  74%|███████▍  | 26/35 [00:57<00:25,  2.78s/it]"
     ]
    },
    {
     "name": "stderr",
     "output_type": "stream",
     "text": [
      "2025/07/19 17:15:31 WARNING dspy.adapters.json_adapter: Failed to use structured output format, falling back to JSON mode.\n",
      "2025/07/19 17:15:32 ERROR dspy.utils.parallelizer: Error for Example({'claim': 'The city containing the Parafield railway station is very near the airport and the Mawson Lakes campus of the University of South Australia.', 'titles': ['Parafield, South Australia', 'Parafield railway station', 'Parafield Airport']}) (input_keys={'claim'}): litellm.RateLimitError: RateLimitError: Together_aiException - Request was rejected due to request rate limiting. Your rate limits are 60 RPM (1 QPS) and 60000 TPM (1000 TPS). See details: https://docs.together.ai/docs/rate-limits. Set `provide_traceback=True` for traceback.\n"
     ]
    },
    {
     "name": "stdout",
     "output_type": "stream",
     "text": [
      "Average Metric: 1.33 / 3 (44.4%):  80%|████████  | 28/35 [00:59<00:10,  1.56s/it]"
     ]
    },
    {
     "name": "stderr",
     "output_type": "stream",
     "text": [
      "2025/07/19 17:15:33 ERROR dspy.utils.parallelizer: Error for Example({'claim': 'This Greek poet was born before Cornel West. His works were translated to English by David Connolly.', 'titles': ['David Connolly (translator)', 'Odysseas Elytis', 'Cornel West']}) (input_keys={'claim'}): litellm.RateLimitError: RateLimitError: Together_aiException - Request was rejected due to request rate limiting. Your rate limits are 60 RPM (1 QPS) and 60000 TPM (1000 TPS). See details: https://docs.together.ai/docs/rate-limits. Set `provide_traceback=True` for traceback.\n"
     ]
    },
    {
     "name": "stdout",
     "output_type": "stream",
     "text": [
      "Average Metric: 3.00 / 9 (33.3%): 100%|██████████| 35/35 [01:37<00:00,  2.79s/it]"
     ]
    },
    {
     "name": "stderr",
     "output_type": "stream",
     "text": [
      "2025/07/19 17:16:11 INFO dspy.evaluate.evaluate: Average Metric: 2.9999999999999996 / 35 (8.6%)\n",
      "2025/07/19 17:16:11 INFO dspy.teleprompt.mipro_optimizer_v2: Score: 8.57 on minibatch of size 35 with parameters ['Predictor 0: Instruction 0', 'Predictor 0: Few-Shot Set 6', 'Predictor 1: Instruction 2', 'Predictor 1: Few-Shot Set 4'].\n",
      "2025/07/19 17:16:11 INFO dspy.teleprompt.mipro_optimizer_v2: Minibatch scores so far: [2.86, 8.57]\n",
      "2025/07/19 17:16:11 INFO dspy.teleprompt.mipro_optimizer_v2: Full eval scores so far: [2.08]\n",
      "2025/07/19 17:16:11 INFO dspy.teleprompt.mipro_optimizer_v2: Best full score so far: 2.08\n",
      "2025/07/19 17:16:11 INFO dspy.teleprompt.mipro_optimizer_v2: =========================================\n",
      "\n",
      "\n",
      "2025/07/19 17:16:11 INFO dspy.teleprompt.mipro_optimizer_v2: == Trial 4 / 35 - Minibatch ==\n"
     ]
    },
    {
     "name": "stdout",
     "output_type": "stream",
     "text": [
      "\n",
      "Average Metric: 0.67 / 1 (66.7%):   3%|▎         | 1/35 [00:05<03:10,  5.59s/it]"
     ]
    },
    {
     "name": "stderr",
     "output_type": "stream",
     "text": [
      "2025/07/19 17:16:27 ERROR dspy.utils.parallelizer: Error for Example({'claim': 'Mother Mother (song) was the last song by a female solo artist to top this chart until the song was the first song released by Lorde by New Zealand singer Lorde. Also to be released later on her debut studio album.', 'titles': ['Royals (song)', 'Mother Mother (song)', 'Tennis Court (song)']}) (input_keys={'claim'}): litellm.RateLimitError: RateLimitError: Together_aiException - Request was rejected due to request rate limiting. Your rate limits are 60 RPM (1 QPS) and 60000 TPM (1000 TPS). See details: https://docs.together.ai/docs/rate-limits. Set `provide_traceback=True` for traceback.\n"
     ]
    },
    {
     "name": "stdout",
     "output_type": "stream",
     "text": [
      "Average Metric: 0.67 / 1 (66.7%):   6%|▌         | 2/35 [00:15<04:32,  8.27s/it]"
     ]
    },
    {
     "name": "stderr",
     "output_type": "stream",
     "text": [
      "2025/07/19 17:16:27 ERROR dspy.utils.parallelizer: Error for Example({'claim': 'Both the character, who is sometimes called the  \"Mad Hatter\" in adaptations of the book. and March Hare are characters in the book Alice\\'s Adventures in Wonderland', 'titles': [\"Hatter (Alice's Adventures in Wonderland)\", 'Mad Hatter (comics)', 'March Hare']}) (input_keys={'claim'}): litellm.RateLimitError: RateLimitError: Together_aiException - Request was rejected due to request rate limiting. Your rate limits are 60 RPM (1 QPS) and 60000 TPM (1000 TPS). See details: https://docs.together.ai/docs/rate-limits. Set `provide_traceback=True` for traceback.\n"
     ]
    },
    {
     "name": "stdout",
     "output_type": "stream",
     "text": [
      "Average Metric: 0.67 / 1 (66.7%):   6%|▌         | 2/35 [00:15<04:32,  8.27s/it]"
     ]
    },
    {
     "name": "stderr",
     "output_type": "stream",
     "text": [
      "2025/07/19 17:16:27 ERROR dspy.utils.parallelizer: Error for Example({'claim': 'The American actress voices a character in King of the Hill, which is also American. She also wrote the song Tiggy is famous for remixing.', 'titles': ['Sandy Fox', 'King of the Hill', 'Tiggy']}) (input_keys={'claim'}): litellm.RateLimitError: RateLimitError: Together_aiException - Request was rejected due to request rate limiting. Your rate limits are 60 RPM (1 QPS) and 60000 TPM (1000 TPS). See details: https://docs.together.ai/docs/rate-limits. Set `provide_traceback=True` for traceback.\n"
     ]
    },
    {
     "name": "stdout",
     "output_type": "stream",
     "text": [
      "Average Metric: 0.67 / 1 (66.7%):  11%|█▏        | 4/35 [00:15<01:37,  3.13s/it]"
     ]
    },
    {
     "name": "stderr",
     "output_type": "stream",
     "text": [
      "2025/07/19 17:16:27 ERROR dspy.utils.parallelizer: Error for Example({'claim': 'Passionate Love is a Korean television series starring Sung Hoon and the actress starring in a movie that was filmed in 2012.', 'titles': ['Choi Yoon-young', 'As One (film)', 'Passionate Love']}) (input_keys={'claim'}): litellm.RateLimitError: RateLimitError: Together_aiException - Request was rejected due to request rate limiting. Your rate limits are 60 RPM (1 QPS) and 60000 TPM (1000 TPS). See details: https://docs.together.ai/docs/rate-limits. Set `provide_traceback=True` for traceback.\n"
     ]
    },
    {
     "name": "stdout",
     "output_type": "stream",
     "text": [
      "Average Metric: 0.67 / 1 (66.7%):  11%|█▏        | 4/35 [00:15<01:37,  3.13s/it]"
     ]
    },
    {
     "name": "stderr",
     "output_type": "stream",
     "text": [
      "2025/07/19 17:16:28 ERROR dspy.utils.parallelizer: Error for Example({'claim': 'The 1935 propaganda documentary, on which Karl Attenberger worked with Leni Riefenstahl, and The End of America were not both made in the same year.', 'titles': ['Triumph of the Will', 'The End of America (film)', 'Karl Attenberger']}) (input_keys={'claim'}): litellm.RateLimitError: RateLimitError: Together_aiException - Request was rejected due to request rate limiting. Your rate limits are 60 RPM (1 QPS) and 60000 TPM (1000 TPS). See details: https://docs.together.ai/docs/rate-limits. Set `provide_traceback=True` for traceback.\n"
     ]
    },
    {
     "name": "stdout",
     "output_type": "stream",
     "text": [
      "Average Metric: 0.67 / 1 (66.7%):  17%|█▋        | 6/35 [00:16<00:54,  1.89s/it]"
     ]
    },
    {
     "name": "stderr",
     "output_type": "stream",
     "text": [
      "2025/07/19 17:16:28 ERROR dspy.utils.parallelizer: Error for Example({'claim': 'The star of Nothing to Report and Gary Barlow have a profession in common.', 'titles': ['Gary Barlow', 'Chris Jericho', 'Nothing to Report']}) (input_keys={'claim'}): litellm.RateLimitError: RateLimitError: Together_aiException - Request was rejected due to request rate limiting. Your rate limits are 60 RPM (1 QPS) and 60000 TPM (1000 TPS). See details: https://docs.together.ai/docs/rate-limits. Set `provide_traceback=True` for traceback.\n"
     ]
    },
    {
     "name": "stdout",
     "output_type": "stream",
     "text": [
      "Average Metric: 0.67 / 1 (66.7%):  17%|█▋        | 6/35 [00:16<00:54,  1.89s/it]"
     ]
    },
    {
     "name": "stderr",
     "output_type": "stream",
     "text": [
      "2025/07/19 17:16:28 ERROR dspy.utils.parallelizer: Error for Example({'claim': \"The MTV show that was hosted by a member of this band, whom Street Music artist and American hip hop musician Defari was part of, was You Can't See Me.\", 'titles': ['Likwit Crew', 'Street Music', 'Xzibit']}) (input_keys={'claim'}): litellm.RateLimitError: RateLimitError: Together_aiException - Request was rejected due to request rate limiting. Your rate limits are 60 RPM (1 QPS) and 60000 TPM (1000 TPS). See details: https://docs.together.ai/docs/rate-limits. Set `provide_traceback=True` for traceback.\n"
     ]
    },
    {
     "name": "stdout",
     "output_type": "stream",
     "text": [
      "Average Metric: 0.67 / 1 (66.7%):  23%|██▎       | 8/35 [00:17<00:32,  1.20s/it]"
     ]
    },
    {
     "name": "stderr",
     "output_type": "stream",
     "text": [
      "2025/07/19 17:16:30 ERROR dspy.utils.parallelizer: Error for Example({'claim': 'The father of director Guðný Halldórsdóttir and Timothy Leary are not from the same place.', 'titles': ['Halldór Laxness', 'Timothy Leary', 'Guðný Halldórsdóttir']}) (input_keys={'claim'}): litellm.RateLimitError: RateLimitError: Together_aiException - Request was rejected due to request rate limiting. Your rate limits are 60 RPM (1 QPS) and 60000 TPM (1000 TPS). See details: https://docs.together.ai/docs/rate-limits. Set `provide_traceback=True` for traceback.\n"
     ]
    },
    {
     "name": "stdout",
     "output_type": "stream",
     "text": [
      "Average Metric: 0.67 / 1 (66.7%):  26%|██▌       | 9/35 [00:19<00:35,  1.35s/it]"
     ]
    },
    {
     "name": "stderr",
     "output_type": "stream",
     "text": [
      "2025/07/19 17:16:30 ERROR dspy.utils.parallelizer: Error for Example({'claim': 'This Greek poet was born before Cornel West. His works were translated to English by David Connolly.', 'titles': ['David Connolly (translator)', 'Odysseas Elytis', 'Cornel West']}) (input_keys={'claim'}): litellm.RateLimitError: RateLimitError: Together_aiException - Request was rejected due to request rate limiting. Your rate limits are 60 RPM (1 QPS) and 60000 TPM (1000 TPS). See details: https://docs.together.ai/docs/rate-limits. Set `provide_traceback=True` for traceback.\n"
     ]
    },
    {
     "name": "stdout",
     "output_type": "stream",
     "text": [
      "Average Metric: 0.67 / 1 (66.7%):  29%|██▊       | 10/35 [00:19<00:26,  1.06s/it]"
     ]
    },
    {
     "name": "stderr",
     "output_type": "stream",
     "text": [
      "2025/07/19 17:16:34 WARNING dspy.adapters.json_adapter: Failed to use structured output format, falling back to JSON mode.\n",
      "2025/07/19 17:16:35 ERROR dspy.utils.parallelizer: Error for Example({'claim': \"The star of Spaceball's most renouwned onscreen performance was as Dell Griffith. He was in an Canadian comedy film from 1987.\", 'titles': ['Spaceballs', 'Planes, Trains and Automobiles', 'John Candy']}) (input_keys={'claim'}): litellm.RateLimitError: RateLimitError: Together_aiException - Request was rejected due to request rate limiting. Your rate limits are 60 RPM (1 QPS) and 60000 TPM (1000 TPS). See details: https://docs.together.ai/docs/rate-limits. Set `provide_traceback=True` for traceback.\n"
     ]
    },
    {
     "name": "stdout",
     "output_type": "stream",
     "text": [
      "Average Metric: 0.67 / 1 (66.7%):  31%|███▏      | 11/35 [00:23<00:47,  1.96s/it]"
     ]
    },
    {
     "name": "stderr",
     "output_type": "stream",
     "text": [
      "2025/07/19 17:16:41 ERROR dspy.utils.parallelizer: Error for Example({'claim': 'The writer of the song I Was Here is also a producer. He won his fourth Grammy for the song by Rihanna from the album Loud.', 'titles': ['I Was Here (song)', 'Kuk Harrell', 'Only Girl (In the World)']}) (input_keys={'claim'}): Both structured output format and JSON mode failed. Please choose a model that supports `response_format` argument. Original error: litellm.RateLimitError: RateLimitError: Together_aiException - Request was rejected due to request rate limiting. Your rate limits are 60 RPM (1 QPS) and 60000 TPM (1000 TPS). See details: https://docs.together.ai/docs/rate-limits. Set `provide_traceback=True` for traceback.\n"
     ]
    },
    {
     "name": "stdout",
     "output_type": "stream",
     "text": [
      "Average Metric: 0.67 / 1 (66.7%):  34%|███▍      | 12/35 [00:30<01:14,  3.24s/it]"
     ]
    },
    {
     "name": "stderr",
     "output_type": "stream",
     "text": [
      "2025/07/19 17:16:42 WARNING dspy.adapters.json_adapter: Failed to use structured output format, falling back to JSON mode.\n",
      "2025/07/19 17:16:42 ERROR dspy.utils.parallelizer: Error for Example({'claim': \"The defending champion who lost the Singles title at the 1994 Waldbaum's Hamlet Cup, and Max Mirnyi have both been tennis players.\", 'titles': ['Max Mirnyi', \"1994 Waldbaum's Hamlet Cup – Singles\", 'Marc Rosset']}) (input_keys={'claim'}): litellm.RateLimitError: RateLimitError: Together_aiException - Request was rejected due to request rate limiting. Your rate limits are 60 RPM (1 QPS) and 60000 TPM (1000 TPS). See details: https://docs.together.ai/docs/rate-limits. Set `provide_traceback=True` for traceback.\n"
     ]
    },
    {
     "name": "stdout",
     "output_type": "stream",
     "text": [
      "Average Metric: 0.67 / 1 (66.7%):  37%|███▋      | 13/35 [00:30<00:54,  2.45s/it]"
     ]
    },
    {
     "name": "stderr",
     "output_type": "stream",
     "text": [
      "2025/07/19 17:16:43 ERROR dspy.utils.parallelizer: Error for Example({'claim': \"The real life person that James Woods' character is based on in the television film was awarded the Medal of Honor. Steven Vincent Leigh appeared in this film in 1987.\", 'titles': ['James Stockdale', 'Steven Vincent Leigh', 'In Love and War (1987 film)']}) (input_keys={'claim'}): litellm.RateLimitError: RateLimitError: Together_aiException - Request was rejected due to request rate limiting. Your rate limits are 60 RPM (1 QPS) and 60000 TPM (1000 TPS). See details: https://docs.together.ai/docs/rate-limits. Set `provide_traceback=True` for traceback.\n"
     ]
    },
    {
     "name": "stdout",
     "output_type": "stream",
     "text": [
      "Average Metric: 0.67 / 1 (66.7%):  40%|████      | 14/35 [00:31<00:40,  1.94s/it]"
     ]
    },
    {
     "name": "stderr",
     "output_type": "stream",
     "text": [
      "2025/07/19 17:16:46 WARNING dspy.adapters.json_adapter: Failed to use structured output format, falling back to JSON mode.\n"
     ]
    },
    {
     "name": "stdout",
     "output_type": "stream",
     "text": [
      "Average Metric: 1.33 / 2 (66.7%):  43%|████▎     | 15/35 [00:36<00:52,  2.65s/it]"
     ]
    },
    {
     "name": "stderr",
     "output_type": "stream",
     "text": [
      "2025/07/19 17:16:49 ERROR dspy.utils.parallelizer: Error for Example({'claim': 'Grand Forks International Airport is closer to the town it is near, than the airport close by to The Texas Air & Space Museum.', 'titles': ['Texas Air &amp; Space Museum', 'Rick Husband Amarillo International Airport', 'Grand Forks International Airport']}) (input_keys={'claim'}): litellm.RateLimitError: RateLimitError: Together_aiException - Request was rejected due to request rate limiting. Your rate limits are 60 RPM (1 QPS) and 60000 TPM (1000 TPS). See details: https://docs.together.ai/docs/rate-limits. Set `provide_traceback=True` for traceback.\n"
     ]
    },
    {
     "name": "stdout",
     "output_type": "stream",
     "text": [
      "Average Metric: 1.33 / 2 (66.7%):  46%|████▌     | 16/35 [00:37<00:45,  2.41s/it]"
     ]
    },
    {
     "name": "stderr",
     "output_type": "stream",
     "text": [
      "2025/07/19 17:16:51 ERROR dspy.utils.parallelizer: Error for Example({'claim': \"The owner of Viva (UK and Ireland) changed it's name in late 2004. Their new acronym stand for Gesellschaft mit beschränkter Haftung.\", 'titles': ['Gesellschaft mit beschränkter Haftung', 'Viva (UK and Ireland)', 'VIVA Media']}) (input_keys={'claim'}): litellm.RateLimitError: RateLimitError: Together_aiException - Request was rejected due to request rate limiting. Your rate limits are 60 RPM (1 QPS) and 60000 TPM (1000 TPS). See details: https://docs.together.ai/docs/rate-limits. Set `provide_traceback=True` for traceback.\n"
     ]
    },
    {
     "name": "stdout",
     "output_type": "stream",
     "text": [
      "Average Metric: 1.33 / 2 (66.7%):  49%|████▊     | 17/35 [00:39<00:40,  2.24s/it]"
     ]
    },
    {
     "name": "stderr",
     "output_type": "stream",
     "text": [
      "2025/07/19 17:16:51 ERROR dspy.utils.parallelizer: Error for Example({'claim': 'Jonathan Howsmon Davis lives closer to Canada than this Japanese singer, whose fifth solo studio album is called Singing Bird.', 'titles': ['Koshi Inaba', 'Jonathan Davis', 'Singing Bird']}) (input_keys={'claim'}): litellm.RateLimitError: RateLimitError: Together_aiException - Request was rejected due to request rate limiting. Your rate limits are 60 RPM (1 QPS) and 60000 TPM (1000 TPS). See details: https://docs.together.ai/docs/rate-limits. Set `provide_traceback=True` for traceback.\n"
     ]
    },
    {
     "name": "stdout",
     "output_type": "stream",
     "text": [
      "Average Metric: 1.33 / 2 (66.7%):  49%|████▊     | 17/35 [00:39<00:40,  2.24s/it]"
     ]
    },
    {
     "name": "stderr",
     "output_type": "stream",
     "text": [
      "2025/07/19 17:16:51 WARNING dspy.adapters.json_adapter: Failed to use structured output format, falling back to JSON mode.\n",
      "2025/07/19 17:16:54 WARNING dspy.adapters.json_adapter: Failed to use structured output format, falling back to JSON mode.\n",
      "2025/07/19 17:16:55 ERROR dspy.utils.parallelizer: Error for Example({'claim': 'Markounda is a sub-prefecture that borders an Central African Republic country bordered by Libya and the Sudan and is known for the Dar Sila region.', 'titles': ['Markounda', 'Sila Region', 'Chad']}) (input_keys={'claim'}): Both structured output format and JSON mode failed. Please choose a model that supports `response_format` argument. Original error: litellm.RateLimitError: RateLimitError: Together_aiException - Request was rejected due to request rate limiting. Your rate limits are 60 RPM (1 QPS) and 60000 TPM (1000 TPS). See details: https://docs.together.ai/docs/rate-limits. Set `provide_traceback=True` for traceback.\n"
     ]
    },
    {
     "name": "stdout",
     "output_type": "stream",
     "text": [
      "Average Metric: 1.67 / 3 (55.6%):  57%|█████▋    | 20/35 [00:46<00:33,  2.20s/it]"
     ]
    },
    {
     "name": "stderr",
     "output_type": "stream",
     "text": [
      "2025/07/19 17:16:57 WARNING dspy.adapters.json_adapter: Failed to use structured output format, falling back to JSON mode.\n",
      "2025/07/19 17:16:59 WARNING dspy.adapters.json_adapter: Failed to use structured output format, falling back to JSON mode.\n",
      "2025/07/19 17:16:59 WARNING dspy.adapters.json_adapter: Failed to use structured output format, falling back to JSON mode.\n",
      "2025/07/19 17:17:01 WARNING dspy.adapters.json_adapter: Failed to use structured output format, falling back to JSON mode.\n"
     ]
    },
    {
     "name": "stdout",
     "output_type": "stream",
     "text": [
      "Average Metric: 2.67 / 4 (66.7%):  60%|██████    | 21/35 [00:50<00:38,  2.73s/it]"
     ]
    },
    {
     "name": "stderr",
     "output_type": "stream",
     "text": [
      "2025/07/19 17:17:03 WARNING dspy.adapters.json_adapter: Failed to use structured output format, falling back to JSON mode.\n"
     ]
    },
    {
     "name": "stdout",
     "output_type": "stream",
     "text": [
      "Average Metric: 3.33 / 5 (66.7%):  63%|██████▎   | 22/35 [00:52<00:33,  2.57s/it]"
     ]
    },
    {
     "name": "stderr",
     "output_type": "stream",
     "text": [
      "2025/07/19 17:17:06 ERROR dspy.utils.parallelizer: Error for Example({'claim': 'This character as featured in the comic book, Hellblazer Special: Bad Blood. He is  is the fictional antihero from comic books published by DC Comics, who sometimes acts as a cab driver, and was created by Alan Moore, Steve Bissette, and John Totleben.', 'titles': ['Chas Chandler (comics)', 'Hellblazer Special: Bad Blood', 'John Constantine']}) (input_keys={'claim'}): Both structured output format and JSON mode failed. Please choose a model that supports `response_format` argument. Original error: litellm.RateLimitError: RateLimitError: Together_aiException - Request was rejected due to request rate limiting. Your rate limits are 60 RPM (1 QPS) and 60000 TPM (1000 TPS). See details: https://docs.together.ai/docs/rate-limits. Set `provide_traceback=True` for traceback.\n"
     ]
    },
    {
     "name": "stdout",
     "output_type": "stream",
     "text": [
      "Average Metric: 3.33 / 5 (66.7%):  66%|██████▌   | 23/35 [00:54<00:30,  2.52s/it]"
     ]
    },
    {
     "name": "stderr",
     "output_type": "stream",
     "text": [
      "2025/07/19 17:17:07 WARNING dspy.adapters.json_adapter: Failed to use structured output format, falling back to JSON mode.\n"
     ]
    },
    {
     "name": "stdout",
     "output_type": "stream",
     "text": [
      "Average Metric: 3.33 / 6 (55.6%):  69%|██████▊   | 24/35 [00:56<00:25,  2.27s/it]"
     ]
    },
    {
     "name": "stderr",
     "output_type": "stream",
     "text": [
      "2025/07/19 17:17:09 ERROR dspy.utils.parallelizer: Error for Example({'claim': 'Avery Waddell is the director of the banned hardcore pornographic film War Dogs. and also directed the film Road Trip starring Breckin Meyer. Todd Phillip also directed a film starring Breckin Meyer.', 'titles': ['Avery Waddell', 'Todd Phillips', 'Road Trip (film)']}) (input_keys={'claim'}): Both structured output format and JSON mode failed. Please choose a model that supports `response_format` argument. Original error: litellm.RateLimitError: RateLimitError: Together_aiException - Request was rejected due to request rate limiting. Your rate limits are 60 RPM (1 QPS) and 60000 TPM (1000 TPS). See details: https://docs.together.ai/docs/rate-limits. Set `provide_traceback=True` for traceback.\n"
     ]
    },
    {
     "name": "stdout",
     "output_type": "stream",
     "text": [
      "Average Metric: 3.33 / 6 (55.6%):  69%|██████▊   | 24/35 [00:58<00:25,  2.27s/it]"
     ]
    },
    {
     "name": "stderr",
     "output_type": "stream",
     "text": [
      "2025/07/19 17:17:09 ERROR dspy.utils.parallelizer: Error for Example({'claim': 'This American composer composed Troubled Island. He was born in 1895 was married to his frequent collaborator Verna Arvey.', 'titles': ['William Grant Still', 'A Bayou Legend', 'Troubled Island']}) (input_keys={'claim'}): litellm.RateLimitError: RateLimitError: Together_aiException - Request was rejected due to request rate limiting. Your rate limits are 60 RPM (1 QPS) and 60000 TPM (1000 TPS). See details: https://docs.together.ai/docs/rate-limits. Set `provide_traceback=True` for traceback.\n"
     ]
    },
    {
     "name": "stdout",
     "output_type": "stream",
     "text": [
      "Average Metric: 3.33 / 6 (55.6%):  71%|███████▏  | 25/35 [00:58<00:21,  2.18s/it]"
     ]
    },
    {
     "name": "stderr",
     "output_type": "stream",
     "text": [
      "2025/07/19 17:17:09 ERROR dspy.utils.parallelizer: Error for Example({'claim': 'The actress that starred as a parent in Sky High (2005 film) is married to John Travolta. She also starred in a summer 1994 film about a pregnant woman who is stranded at a trading post during the American Civil War.', 'titles': ['Sky High (2005 film)', 'Cheyenne Warrior', 'Kelly Preston']}) (input_keys={'claim'}): Both structured output format and JSON mode failed. Please choose a model that supports `response_format` argument. Original error: litellm.RateLimitError: RateLimitError: Together_aiException - Request was rejected due to request rate limiting. Your rate limits are 60 RPM (1 QPS) and 60000 TPM (1000 TPS). See details: https://docs.together.ai/docs/rate-limits. Set `provide_traceback=True` for traceback.\n"
     ]
    },
    {
     "name": "stdout",
     "output_type": "stream",
     "text": [
      "Average Metric: 3.33 / 6 (55.6%):  74%|███████▍  | 26/35 [00:58<00:19,  2.18s/it]"
     ]
    },
    {
     "name": "stderr",
     "output_type": "stream",
     "text": [
      "2025/07/19 17:17:09 ERROR dspy.utils.parallelizer: Error for Example({'claim': 'The city containing the Parafield railway station is very near the airport and the Mawson Lakes campus of the University of South Australia.', 'titles': ['Parafield, South Australia', 'Parafield railway station', 'Parafield Airport']}) (input_keys={'claim'}): litellm.RateLimitError: RateLimitError: Together_aiException - Request was rejected due to request rate limiting. Your rate limits are 60 RPM (1 QPS) and 60000 TPM (1000 TPS). See details: https://docs.together.ai/docs/rate-limits. Set `provide_traceback=True` for traceback.\n"
     ]
    },
    {
     "name": "stdout",
     "output_type": "stream",
     "text": [
      "Average Metric: 6.33 / 13 (48.7%): 100%|██████████| 35/35 [01:27<00:00,  2.51s/it]"
     ]
    },
    {
     "name": "stderr",
     "output_type": "stream",
     "text": [
      "2025/07/19 17:17:39 INFO dspy.evaluate.evaluate: Average Metric: 6.333333333333333 / 35 (18.1%)\n",
      "2025/07/19 17:17:39 INFO dspy.teleprompt.mipro_optimizer_v2: Score: 18.1 on minibatch of size 35 with parameters ['Predictor 0: Instruction 3', 'Predictor 0: Few-Shot Set 5', 'Predictor 1: Instruction 4', 'Predictor 1: Few-Shot Set 6'].\n",
      "2025/07/19 17:17:39 INFO dspy.teleprompt.mipro_optimizer_v2: Minibatch scores so far: [2.86, 8.57, 18.1]\n",
      "2025/07/19 17:17:39 INFO dspy.teleprompt.mipro_optimizer_v2: Full eval scores so far: [2.08]\n",
      "2025/07/19 17:17:39 INFO dspy.teleprompt.mipro_optimizer_v2: Best full score so far: 2.08\n",
      "2025/07/19 17:17:39 INFO dspy.teleprompt.mipro_optimizer_v2: =========================================\n",
      "\n",
      "\n",
      "2025/07/19 17:17:39 INFO dspy.teleprompt.mipro_optimizer_v2: == Trial 5 / 35 - Minibatch ==\n"
     ]
    },
    {
     "name": "stdout",
     "output_type": "stream",
     "text": [
      "\n",
      "  0%|          | 0/35 [00:00<?, ?it/s]"
     ]
    },
    {
     "name": "stderr",
     "output_type": "stream",
     "text": [
      "2025/07/19 17:17:54 ERROR dspy.utils.parallelizer: Error for Example({'claim': 'Mother Mother (song) was the last song by a female solo artist to top this chart until the song was the first song released by Lorde by New Zealand singer Lorde. Also to be released later on her debut studio album.', 'titles': ['Royals (song)', 'Mother Mother (song)', 'Tennis Court (song)']}) (input_keys={'claim'}): litellm.RateLimitError: RateLimitError: Together_aiException - Request was rejected due to request rate limiting. Your rate limits are 60 RPM (1 QPS) and 60000 TPM (1000 TPS). See details: https://docs.together.ai/docs/rate-limits. Set `provide_traceback=True` for traceback.\n"
     ]
    },
    {
     "name": "stdout",
     "output_type": "stream",
     "text": [
      "Average Metric: 0.00 / 0 (0%):   3%|▎         | 1/35 [00:14<08:16, 14.61s/it]"
     ]
    },
    {
     "name": "stderr",
     "output_type": "stream",
     "text": [
      "2025/07/19 17:17:55 ERROR dspy.utils.parallelizer: Error for Example({'claim': 'Mountain Dew is owned by the Pepsi-Cola company. So is the producer of orange juice founded by Anthony T. Rossi.', 'titles': ['Tropicana Products', 'Anthony T. Rossi', 'Mountain Dew']}) (input_keys={'claim'}): litellm.RateLimitError: RateLimitError: Together_aiException - Request was rejected due to request rate limiting. Your rate limits are 60 RPM (1 QPS) and 60000 TPM (1000 TPS). See details: https://docs.together.ai/docs/rate-limits. Set `provide_traceback=True` for traceback.\n"
     ]
    },
    {
     "name": "stdout",
     "output_type": "stream",
     "text": [
      "Average Metric: 0.00 / 0 (0%):   6%|▌         | 2/35 [00:16<03:51,  7.01s/it]"
     ]
    },
    {
     "name": "stderr",
     "output_type": "stream",
     "text": [
      "2025/07/19 17:17:56 ERROR dspy.utils.parallelizer: Error for Example({'claim': 'Dairy Farm International holdings is a member of a British company. This British company whose majority of business interests are in Asia is related to the London Based Trading house Matheson & Company.', 'titles': ['Dairy Farm International Holdings', 'Matheson &amp; Company', 'Jardine Matheson']}) (input_keys={'claim'}): litellm.RateLimitError: RateLimitError: Together_aiException - Request was rejected due to request rate limiting. Your rate limits are 60 RPM (1 QPS) and 60000 TPM (1000 TPS). See details: https://docs.together.ai/docs/rate-limits. Set `provide_traceback=True` for traceback.\n"
     ]
    },
    {
     "name": "stdout",
     "output_type": "stream",
     "text": [
      "Average Metric: 0.00 / 0 (0%):   9%|▊         | 3/35 [00:16<02:04,  3.90s/it]"
     ]
    },
    {
     "name": "stderr",
     "output_type": "stream",
     "text": [
      "2025/07/19 17:17:56 ERROR dspy.utils.parallelizer: Error for Example({'claim': 'Christopher Whitelaw Pine appeared in the films that inspired Good Luck! and \"Into the Woods\".', 'titles': ['Just My Luck (2006 film)', 'Good Luck!', 'Chris Pine']}) (input_keys={'claim'}): litellm.RateLimitError: RateLimitError: Together_aiException - Request was rejected due to request rate limiting. Your rate limits are 60 RPM (1 QPS) and 60000 TPM (1000 TPS). See details: https://docs.together.ai/docs/rate-limits. Set `provide_traceback=True` for traceback.\n"
     ]
    },
    {
     "name": "stdout",
     "output_type": "stream",
     "text": [
      "Average Metric: 0.00 / 0 (0%):  11%|█▏        | 4/35 [00:17<01:22,  2.65s/it]"
     ]
    },
    {
     "name": "stderr",
     "output_type": "stream",
     "text": [
      "2025/07/19 17:18:01 ERROR dspy.utils.parallelizer: Error for Example({'claim': 'Lari Michele White is the county music artist that first gained national attention as a winner on \"You Can Be a Star\". She then went on to provide background vocals on the first single of the album, Now and Then.', 'titles': ['Lari White', 'Take It Like a Man (Michelle Wright song)', 'Now and Then (Michelle Wright album)']}) (input_keys={'claim'}): litellm.RateLimitError: RateLimitError: Together_aiException - Request was rejected due to request rate limiting. Your rate limits are 60 RPM (1 QPS) and 60000 TPM (1000 TPS). See details: https://docs.together.ai/docs/rate-limits. Set `provide_traceback=True` for traceback.\n"
     ]
    },
    {
     "name": "stdout",
     "output_type": "stream",
     "text": [
      "Average Metric: 0.00 / 0 (0%):  14%|█▍        | 5/35 [00:22<01:44,  3.48s/it]"
     ]
    },
    {
     "name": "stderr",
     "output_type": "stream",
     "text": [
      "2025/07/19 17:18:04 ERROR dspy.utils.parallelizer: Error for Example({'claim': 'The member of the group Wilkes-Barre/Scranton International Airport, formed by Kenny Loggins, was aged ten when she started singing in the seventh-most populated city in the United States.', 'titles': ['Kenny Loggins', 'San Antonio', 'Georgia Middleman']}) (input_keys={'claim'}): litellm.RateLimitError: RateLimitError: Together_aiException - Request was rejected due to request rate limiting. Your rate limits are 60 RPM (1 QPS) and 60000 TPM (1000 TPS). See details: https://docs.together.ai/docs/rate-limits. Set `provide_traceback=True` for traceback.\n"
     ]
    },
    {
     "name": "stdout",
     "output_type": "stream",
     "text": [
      "Average Metric: 0.00 / 0 (0%):  17%|█▋        | 6/35 [00:24<01:30,  3.12s/it]"
     ]
    },
    {
     "name": "stderr",
     "output_type": "stream",
     "text": [
      "2025/07/19 17:18:06 ERROR dspy.utils.parallelizer: Error for Example({'claim': 'Fredric March costarred in 1935 Australian drama film that Frances Drake is best know for, with the husband of Elsa Lanchester.', 'titles': ['Frances Drake', 'Charles Laughton', 'Les Misérables (1935 film)']}) (input_keys={'claim'}): litellm.RateLimitError: RateLimitError: Together_aiException - Request was rejected due to request rate limiting. Your rate limits are 60 RPM (1 QPS) and 60000 TPM (1000 TPS). See details: https://docs.together.ai/docs/rate-limits. Set `provide_traceback=True` for traceback.\n"
     ]
    },
    {
     "name": "stdout",
     "output_type": "stream",
     "text": [
      "Average Metric: 0.00 / 0 (0%):  20%|██        | 7/35 [00:26<01:19,  2.83s/it]"
     ]
    },
    {
     "name": "stderr",
     "output_type": "stream",
     "text": [
      "2025/07/19 17:18:07 ERROR dspy.utils.parallelizer: Error for Example({'claim': 'Candlelight Red the musical group has released twice as many albums as the band who also performs as One Unique Signal.', 'titles': ['Candlelight Red', 'The Telescopes', 'One Unique Signal']}) (input_keys={'claim'}): litellm.RateLimitError: RateLimitError: Together_aiException - Request was rejected due to request rate limiting. Your rate limits are 60 RPM (1 QPS) and 60000 TPM (1000 TPS). See details: https://docs.together.ai/docs/rate-limits. Set `provide_traceback=True` for traceback.\n"
     ]
    },
    {
     "name": "stdout",
     "output_type": "stream",
     "text": [
      "Average Metric: 0.00 / 0 (0%):  23%|██▎       | 8/35 [00:28<01:02,  2.32s/it]"
     ]
    },
    {
     "name": "stderr",
     "output_type": "stream",
     "text": [
      "2025/07/19 17:18:08 WARNING dspy.adapters.json_adapter: Failed to use structured output format, falling back to JSON mode.\n",
      "2025/07/19 17:18:12 WARNING dspy.adapters.json_adapter: Failed to use structured output format, falling back to JSON mode.\n",
      "2025/07/19 17:18:12 WARNING dspy.adapters.json_adapter: Failed to use structured output format, falling back to JSON mode.\n",
      "2025/07/19 17:18:13 ERROR dspy.utils.parallelizer: Error for Example({'claim': 'The actress that starred as a parent in Sky High (2005 film) is married to John Travolta. She also starred in a summer 1994 film about a pregnant woman who is stranded at a trading post during the American Civil War.', 'titles': ['Sky High (2005 film)', 'Cheyenne Warrior', 'Kelly Preston']}) (input_keys={'claim'}): litellm.RateLimitError: RateLimitError: Together_aiException - Request was rejected due to request rate limiting. Your rate limits are 60 RPM (1 QPS) and 60000 TPM (1000 TPS). See details: https://docs.together.ai/docs/rate-limits. Set `provide_traceback=True` for traceback.\n"
     ]
    },
    {
     "name": "stdout",
     "output_type": "stream",
     "text": [
      "Average Metric: 0.00 / 0 (0%):  26%|██▌       | 9/35 [00:33<01:27,  3.37s/it]"
     ]
    },
    {
     "name": "stderr",
     "output_type": "stream",
     "text": [
      "2025/07/19 17:18:13 ERROR dspy.utils.parallelizer: Error for Example({'claim': 'Lincoln Barrett is the real name of the welsh electronic music producer DJ who have been visited the night club  in Vienna hundreds of times. The Waves of Vienna festival takes place in the same nightclub.', 'titles': ['Flex (club)', 'Waves Vienna', 'High Contrast']}) (input_keys={'claim'}): litellm.RateLimitError: RateLimitError: Together_aiException - Request was rejected due to request rate limiting. Your rate limits are 60 RPM (1 QPS) and 60000 TPM (1000 TPS). See details: https://docs.together.ai/docs/rate-limits. Set `provide_traceback=True` for traceback.\n"
     ]
    },
    {
     "name": "stdout",
     "output_type": "stream",
     "text": [
      "Average Metric: 0.00 / 0 (0%):  26%|██▌       | 9/35 [00:33<01:27,  3.37s/it]"
     ]
    },
    {
     "name": "stderr",
     "output_type": "stream",
     "text": [
      "2025/07/19 17:18:13 ERROR dspy.utils.parallelizer: Error for Example({'claim': 'The individual who played Herman Boone in Remember the Titans, and David Hewlett, are both actors.', 'titles': ['David Hewlett', 'Denzel Washington', 'Herman Boone']}) (input_keys={'claim'}): litellm.RateLimitError: RateLimitError: Together_aiException - Request was rejected due to request rate limiting. Your rate limits are 60 RPM (1 QPS) and 60000 TPM (1000 TPS). See details: https://docs.together.ai/docs/rate-limits. Set `provide_traceback=True` for traceback.\n"
     ]
    },
    {
     "name": "stdout",
     "output_type": "stream",
     "text": [
      "Average Metric: 0.33 / 1 (33.3%):  34%|███▍      | 12/35 [00:34<00:34,  1.50s/it]"
     ]
    },
    {
     "name": "stderr",
     "output_type": "stream",
     "text": [
      "2025/07/19 17:18:14 ERROR dspy.utils.parallelizer: Error for Example({'claim': 'The American actress voices a character in King of the Hill, which is also American. She also wrote the song Tiggy is famous for remixing.', 'titles': ['Sandy Fox', 'King of the Hill', 'Tiggy']}) (input_keys={'claim'}): litellm.RateLimitError: RateLimitError: Together_aiException - Request was rejected due to request rate limiting. Your rate limits are 60 RPM (1 QPS) and 60000 TPM (1000 TPS). See details: https://docs.together.ai/docs/rate-limits. Set `provide_traceback=True` for traceback.\n"
     ]
    },
    {
     "name": "stdout",
     "output_type": "stream",
     "text": [
      "Average Metric: 0.33 / 1 (33.3%):  34%|███▍      | 12/35 [00:35<00:34,  1.50s/it]"
     ]
    },
    {
     "name": "stderr",
     "output_type": "stream",
     "text": [
      "2025/07/19 17:18:15 ERROR dspy.utils.parallelizer: Error for Example({'claim': 'An actor born in 1955 that acted in the movie that was the inspiration for Blackmail (2005 film) was nominated for Golden Globe Award.', 'titles': ['Blackmail (2005 film)', 'Ransom (1996 film)', 'Gary Sinise']}) (input_keys={'claim'}): litellm.RateLimitError: RateLimitError: Together_aiException - Request was rejected due to request rate limiting. Your rate limits are 60 RPM (1 QPS) and 60000 TPM (1000 TPS). See details: https://docs.together.ai/docs/rate-limits. Set `provide_traceback=True` for traceback.\n"
     ]
    },
    {
     "name": "stdout",
     "output_type": "stream",
     "text": [
      "Average Metric: 0.33 / 1 (33.3%):  37%|███▋      | 13/35 [00:35<00:32,  1.47s/it]"
     ]
    },
    {
     "name": "stderr",
     "output_type": "stream",
     "text": [
      "2025/07/19 17:18:17 ERROR dspy.utils.parallelizer: Error for Example({'claim': 'The person who had his voice featured in the 2012 film The Polar Bears, stars as Oliver in a film directed by Luca Guadagnino.', 'titles': ['Call Me by Your Name (film)', 'The Polar Bears', 'Armie Hammer']}) (input_keys={'claim'}): litellm.RateLimitError: RateLimitError: Together_aiException - Request was rejected due to request rate limiting. Your rate limits are 60 RPM (1 QPS) and 60000 TPM (1000 TPS). See details: https://docs.together.ai/docs/rate-limits. Set `provide_traceback=True` for traceback.\n"
     ]
    },
    {
     "name": "stdout",
     "output_type": "stream",
     "text": [
      "Average Metric: 0.33 / 1 (33.3%):  43%|████▎     | 15/35 [00:37<00:26,  1.34s/it]"
     ]
    },
    {
     "name": "stderr",
     "output_type": "stream",
     "text": [
      "2025/07/19 17:18:20 ERROR dspy.utils.parallelizer: Error for Example({'claim': 'One of the screenwriters who worked on \"The Janus Directive\" collaborated on Martian Manhunter, which was based on a fictional superhero.', 'titles': ['Janus Directive', 'Martian Manhunter', 'Tom Mandrake']}) (input_keys={'claim'}): Both structured output format and JSON mode failed. Please choose a model that supports `response_format` argument. Original error: litellm.RateLimitError: RateLimitError: Together_aiException - Request was rejected due to request rate limiting. Your rate limits are 60 RPM (1 QPS) and 60000 TPM (1000 TPS). See details: https://docs.together.ai/docs/rate-limits. Set `provide_traceback=True` for traceback.\n"
     ]
    },
    {
     "name": "stdout",
     "output_type": "stream",
     "text": [
      "Average Metric: 0.33 / 1 (33.3%):  46%|████▌     | 16/35 [00:40<00:32,  1.70s/it]"
     ]
    },
    {
     "name": "stderr",
     "output_type": "stream",
     "text": [
      "2025/07/19 17:18:20 WARNING dspy.adapters.json_adapter: Failed to use structured output format, falling back to JSON mode.\n",
      "2025/07/19 17:18:20 ERROR dspy.utils.parallelizer: Error for Example({'claim': 'The summer 2016 romantic drama \"Me Before You\" is directed by Thea Sharrock. The star of the film The Lost Future (who also appears in The Hunger Games) stars as the character Will Traynor.', 'titles': ['The Lost Future', 'Me Before You (film)', 'Sam Claflin']}) (input_keys={'claim'}): Both structured output format and JSON mode failed. Please choose a model that supports `response_format` argument. Original error: litellm.RateLimitError: RateLimitError: Together_aiException - Request was rejected due to request rate limiting. Your rate limits are 60 RPM (1 QPS) and 60000 TPM (1000 TPS). See details: https://docs.together.ai/docs/rate-limits. Set `provide_traceback=True` for traceback.\n"
     ]
    },
    {
     "name": "stdout",
     "output_type": "stream",
     "text": [
      "Average Metric: 0.67 / 2 (33.3%):  51%|█████▏    | 18/35 [00:43<00:29,  1.71s/it]"
     ]
    },
    {
     "name": "stderr",
     "output_type": "stream",
     "text": [
      "2025/07/19 17:18:23 WARNING dspy.adapters.json_adapter: Failed to use structured output format, falling back to JSON mode.\n"
     ]
    },
    {
     "name": "stdout",
     "output_type": "stream",
     "text": [
      "Average Metric: 1.67 / 4 (41.7%):  57%|█████▋    | 20/35 [00:49<00:33,  2.24s/it]"
     ]
    },
    {
     "name": "stderr",
     "output_type": "stream",
     "text": [
      "2025/07/19 17:18:29 ERROR dspy.utils.parallelizer: Error for Example({'claim': 'The elder sister of the actress that played Margaret Devlin in  The Oregon Trail (TV series) is best known for her role as the eldest Von Trapp daughter in \"Liesl\".', 'titles': ['Darleen Carr', 'The Oregon Trail (TV series)', 'Charmian Carr']}) (input_keys={'claim'}): litellm.RateLimitError: RateLimitError: Together_aiException - Request was rejected due to request rate limiting. Your rate limits are 60 RPM (1 QPS) and 60000 TPM (1000 TPS). See details: https://docs.together.ai/docs/rate-limits. Set `provide_traceback=True` for traceback.\n"
     ]
    },
    {
     "name": "stdout",
     "output_type": "stream",
     "text": [
      "Average Metric: 1.67 / 4 (41.7%):  60%|██████    | 21/35 [00:49<00:24,  1.77s/it]"
     ]
    },
    {
     "name": "stderr",
     "output_type": "stream",
     "text": [
      "2025/07/19 17:18:29 ERROR dspy.utils.parallelizer: Error for Example({'claim': 'The director of action movie Batman: Mask of the Phantasm, produced Avengers Assemble that premiered on Disney XD on May 26, 2013.', 'titles': ['Eric Radomski', 'Batman: Mask of the Phantasm', 'Avengers Assemble (TV series)']}) (input_keys={'claim'}): litellm.RateLimitError: RateLimitError: Together_aiException - Request was rejected due to request rate limiting. Your rate limits are 60 RPM (1 QPS) and 60000 TPM (1000 TPS). See details: https://docs.together.ai/docs/rate-limits. Set `provide_traceback=True` for traceback.\n"
     ]
    },
    {
     "name": "stdout",
     "output_type": "stream",
     "text": [
      "Average Metric: 1.67 / 4 (41.7%):  60%|██████    | 21/35 [00:49<00:24,  1.77s/it]"
     ]
    },
    {
     "name": "stderr",
     "output_type": "stream",
     "text": [
      "2025/07/19 17:18:29 WARNING dspy.adapters.json_adapter: Failed to use structured output format, falling back to JSON mode.\n"
     ]
    },
    {
     "name": "stdout",
     "output_type": "stream",
     "text": [
      "Average Metric: 2.33 / 5 (46.7%):  66%|██████▌   | 23/35 [00:51<00:16,  1.41s/it]"
     ]
    },
    {
     "name": "stderr",
     "output_type": "stream",
     "text": [
      "2025/07/19 17:18:31 ERROR dspy.utils.parallelizer: Error for Example({'claim': 'Africa has a distribution of both the Ternstroemia and the genus that Seemannaralia gerrardii was originally included in.', 'titles': ['Seemannaralia gerrardii', 'Cussonia', 'Ternstroemia']}) (input_keys={'claim'}): Both structured output format and JSON mode failed. Please choose a model that supports `response_format` argument. Original error: litellm.RateLimitError: RateLimitError: Together_aiException - Request was rejected due to request rate limiting. Your rate limits are 60 RPM (1 QPS) and 60000 TPM (1000 TPS). See details: https://docs.together.ai/docs/rate-limits. Set `provide_traceback=True` for traceback.\n"
     ]
    },
    {
     "name": "stdout",
     "output_type": "stream",
     "text": [
      "Average Metric: 2.33 / 5 (46.7%):  69%|██████▊   | 24/35 [00:52<00:13,  1.26s/it]"
     ]
    },
    {
     "name": "stderr",
     "output_type": "stream",
     "text": [
      "2025/07/19 17:18:33 ERROR dspy.utils.parallelizer: Error for Example({'claim': 'An actor was in the film, Focus, that was directed by Glenn Ficarra. This actor was also in the 2016 film \"White Girl\".', 'titles': ['Adrian Martinez (actor)', 'Focus (2015 film)', 'White Girl (2016 film)']}) (input_keys={'claim'}): litellm.RateLimitError: RateLimitError: Together_aiException - Request was rejected due to request rate limiting. Your rate limits are 60 RPM (1 QPS) and 60000 TPM (1000 TPS). See details: https://docs.together.ai/docs/rate-limits. Set `provide_traceback=True` for traceback.\n"
     ]
    },
    {
     "name": "stdout",
     "output_type": "stream",
     "text": [
      "Average Metric: 2.33 / 5 (46.7%):  71%|███████▏  | 25/35 [00:54<00:13,  1.38s/it]"
     ]
    },
    {
     "name": "stderr",
     "output_type": "stream",
     "text": [
      "2025/07/19 17:18:33 ERROR dspy.utils.parallelizer: Error for Example({'claim': 'The kind of dog Banana Joe V Tani Kazari is and Villanuco de Las Encartaciones are not both breeds of dog.', 'titles': ['Affenpinscher', 'German Pinscher', 'Villanuco de Las Encartaciones']}) (input_keys={'claim'}): litellm.RateLimitError: RateLimitError: Together_aiException - Request was rejected due to request rate limiting. Your rate limits are 60 RPM (1 QPS) and 60000 TPM (1000 TPS). See details: https://docs.together.ai/docs/rate-limits. Set `provide_traceback=True` for traceback.\n"
     ]
    },
    {
     "name": "stdout",
     "output_type": "stream",
     "text": [
      "Average Metric: 2.33 / 5 (46.7%):  74%|███████▍  | 26/35 [00:54<00:09,  1.06s/it]"
     ]
    },
    {
     "name": "stderr",
     "output_type": "stream",
     "text": [
      "2025/07/19 17:18:35 ERROR dspy.utils.parallelizer: Error for Example({'claim': 'Tim Swanson, who played keyboard for the \"Sweet Nothings\" album, was a member of a different jazz band. This band and Lit were not formed in the same states.', 'titles': ['Lit (band)', 'Sweet Nothings (album)', 'Ideamen']}) (input_keys={'claim'}): litellm.RateLimitError: RateLimitError: Together_aiException - Request was rejected due to request rate limiting. Your rate limits are 60 RPM (1 QPS) and 60000 TPM (1000 TPS). See details: https://docs.together.ai/docs/rate-limits. Set `provide_traceback=True` for traceback.\n"
     ]
    },
    {
     "name": "stdout",
     "output_type": "stream",
     "text": [
      "Average Metric: 2.33 / 5 (46.7%):  77%|███████▋  | 27/35 [00:55<00:09,  1.16s/it]"
     ]
    },
    {
     "name": "stderr",
     "output_type": "stream",
     "text": [
      "2025/07/19 17:18:39 ERROR dspy.utils.parallelizer: Error for Example({'claim': 'The star of Nothing to Report and Gary Barlow have a profession in common.', 'titles': ['Gary Barlow', 'Chris Jericho', 'Nothing to Report']}) (input_keys={'claim'}): litellm.RateLimitError: RateLimitError: Together_aiException - Request was rejected due to request rate limiting. Your rate limits are 60 RPM (1 QPS) and 60000 TPM (1000 TPS). See details: https://docs.together.ai/docs/rate-limits. Set `provide_traceback=True` for traceback.\n"
     ]
    },
    {
     "name": "stdout",
     "output_type": "stream",
     "text": [
      "Average Metric: 3.00 / 6 (50.0%):  83%|████████▎ | 29/35 [01:02<00:12,  2.11s/it]"
     ]
    },
    {
     "name": "stderr",
     "output_type": "stream",
     "text": [
      "2025/07/19 17:18:45 WARNING dspy.adapters.json_adapter: Failed to use structured output format, falling back to JSON mode.\n"
     ]
    },
    {
     "name": "stdout",
     "output_type": "stream",
     "text": [
      "Average Metric: 3.67 / 8 (45.8%):  89%|████████▊ | 31/35 [01:08<00:10,  2.61s/it]"
     ]
    },
    {
     "name": "stderr",
     "output_type": "stream",
     "text": [
      "2025/07/19 17:18:49 ERROR dspy.utils.parallelizer: Error for Example({'claim': 'Guillermo del Toro directed the film which had the man, who starred in Bone Dry alongside Lance Henriksen, play the role of Jared Nomak.', 'titles': ['Bone Dry', 'Luke Goss', 'Blade II']}) (input_keys={'claim'}): litellm.RateLimitError: RateLimitError: Together_aiException - Request was rejected due to request rate limiting. Your rate limits are 60 RPM (1 QPS) and 60000 TPM (1000 TPS). See details: https://docs.together.ai/docs/rate-limits. Set `provide_traceback=True` for traceback.\n"
     ]
    },
    {
     "name": "stdout",
     "output_type": "stream",
     "text": [
      "Average Metric: 5.00 / 11 (45.5%): 100%|██████████| 35/35 [01:40<00:00,  2.89s/it]"
     ]
    },
    {
     "name": "stderr",
     "output_type": "stream",
     "text": [
      "2025/07/19 17:19:20 INFO dspy.evaluate.evaluate: Average Metric: 5.0 / 35 (14.3%)\n",
      "2025/07/19 17:19:20 INFO dspy.teleprompt.mipro_optimizer_v2: Score: 14.29 on minibatch of size 35 with parameters ['Predictor 0: Instruction 5', 'Predictor 0: Few-Shot Set 1', 'Predictor 1: Instruction 3', 'Predictor 1: Few-Shot Set 3'].\n",
      "2025/07/19 17:19:20 INFO dspy.teleprompt.mipro_optimizer_v2: Minibatch scores so far: [2.86, 8.57, 18.1, 14.29]\n",
      "2025/07/19 17:19:20 INFO dspy.teleprompt.mipro_optimizer_v2: Full eval scores so far: [2.08]\n",
      "2025/07/19 17:19:20 INFO dspy.teleprompt.mipro_optimizer_v2: Best full score so far: 2.08\n",
      "2025/07/19 17:19:20 INFO dspy.teleprompt.mipro_optimizer_v2: =========================================\n",
      "\n",
      "\n",
      "2025/07/19 17:19:20 INFO dspy.teleprompt.mipro_optimizer_v2: == Trial 6 / 35 - Minibatch ==\n"
     ]
    },
    {
     "name": "stdout",
     "output_type": "stream",
     "text": [
      "\n",
      "  0%|          | 0/35 [00:00<?, ?it/s]"
     ]
    },
    {
     "name": "stderr",
     "output_type": "stream",
     "text": [
      "2025/07/19 17:19:37 ERROR dspy.utils.parallelizer: Error for Example({'claim': 'Bowdoin College was established before another university. This university was attended by John Wesley Hughes.', 'titles': ['Vanderbilt University', 'John Wesley Hughes', 'Bowdoin College']}) (input_keys={'claim'}): litellm.RateLimitError: RateLimitError: Together_aiException - Request was rejected due to request rate limiting. Your rate limits are 60 RPM (1 QPS) and 60000 TPM (1000 TPS). See details: https://docs.together.ai/docs/rate-limits. Set `provide_traceback=True` for traceback.\n"
     ]
    },
    {
     "name": "stdout",
     "output_type": "stream",
     "text": [
      "Average Metric: 0.00 / 0 (0%):   3%|▎         | 1/35 [00:16<09:20, 16.49s/it]"
     ]
    },
    {
     "name": "stderr",
     "output_type": "stream",
     "text": [
      "2025/07/19 17:19:37 ERROR dspy.utils.parallelizer: Error for Example({'claim': 'Ellesmere Port Town Football Club are currently members of the league, whose current principal sponsor is the Football Conference, that Ford Motors F.C. is a part of.', 'titles': ['Ford Motors F.C.', 'West Cheshire Association Football League', 'Ellesmere Port Town F.C.']}) (input_keys={'claim'}): litellm.RateLimitError: RateLimitError: Together_aiException - Request was rejected due to request rate limiting. Your rate limits are 60 RPM (1 QPS) and 60000 TPM (1000 TPS). See details: https://docs.together.ai/docs/rate-limits. Set `provide_traceback=True` for traceback.\n"
     ]
    },
    {
     "name": "stdout",
     "output_type": "stream",
     "text": [
      "Average Metric: 0.00 / 0 (0%):   6%|▌         | 2/35 [00:16<03:46,  6.86s/it]"
     ]
    },
    {
     "name": "stderr",
     "output_type": "stream",
     "text": [
      "2025/07/19 17:19:37 ERROR dspy.utils.parallelizer: Error for Example({'claim': 'The owner of Tatoosh (yacht) has a sister named Jo Lynn \"Jody\". He is an South African business magnate, investor and philanthropist.', 'titles': ['Jody Allen', 'Paul Allen', 'Tatoosh (yacht)']}) (input_keys={'claim'}): litellm.RateLimitError: RateLimitError: Together_aiException - Request was rejected due to request rate limiting. Your rate limits are 60 RPM (1 QPS) and 60000 TPM (1000 TPS). See details: https://docs.together.ai/docs/rate-limits. Set `provide_traceback=True` for traceback.\n"
     ]
    },
    {
     "name": "stdout",
     "output_type": "stream",
     "text": [
      "Average Metric: 0.00 / 0 (0%):   9%|▊         | 3/35 [00:16<02:01,  3.79s/it]"
     ]
    },
    {
     "name": "stderr",
     "output_type": "stream",
     "text": [
      "2025/07/19 17:19:37 ERROR dspy.utils.parallelizer: Error for Example({'claim': 'The band Billy Anderson produces has the guitarist Gorden Mack, and the band Daughtry.', 'titles': ['Daughtry (band)', 'Billy Anderson (producer)', 'Red House Painters']}) (input_keys={'claim'}): litellm.RateLimitError: RateLimitError: Together_aiException - Request was rejected due to request rate limiting. Your rate limits are 60 RPM (1 QPS) and 60000 TPM (1000 TPS). See details: https://docs.together.ai/docs/rate-limits. Set `provide_traceback=True` for traceback.\n"
     ]
    },
    {
     "name": "stdout",
     "output_type": "stream",
     "text": [
      "Average Metric: 0.00 / 0 (0%):   9%|▊         | 3/35 [00:16<02:01,  3.79s/it]"
     ]
    },
    {
     "name": "stderr",
     "output_type": "stream",
     "text": [
      "2025/07/19 17:19:39 ERROR dspy.utils.parallelizer: Error for Example({'claim': 'Radiation Vibe is the first chart-topping single from the debut album of the band formed in 1995 that came out with an album called \"Welcome Interstate Managers\\'.', 'titles': [\"Stacy's Mom\", 'Fountains of Wayne', 'Radiation Vibe']}) (input_keys={'claim'}): litellm.RateLimitError: RateLimitError: Together_aiException - Request was rejected due to request rate limiting. Your rate limits are 60 RPM (1 QPS) and 60000 TPM (1000 TPS). See details: https://docs.together.ai/docs/rate-limits. Set `provide_traceback=True` for traceback.\n"
     ]
    },
    {
     "name": "stdout",
     "output_type": "stream",
     "text": [
      "Average Metric: 0.00 / 0 (0%):  14%|█▍        | 5/35 [00:18<01:05,  2.18s/it]"
     ]
    },
    {
     "name": "stderr",
     "output_type": "stream",
     "text": [
      "2025/07/19 17:19:39 ERROR dspy.utils.parallelizer: Error for Example({'claim': 'An actor born in 1955 that acted in the movie that was the inspiration for Blackmail (2005 film) was nominated for Golden Globe Award.', 'titles': ['Blackmail (2005 film)', 'Ransom (1996 film)', 'Gary Sinise']}) (input_keys={'claim'}): litellm.RateLimitError: RateLimitError: Together_aiException - Request was rejected due to request rate limiting. Your rate limits are 60 RPM (1 QPS) and 60000 TPM (1000 TPS). See details: https://docs.together.ai/docs/rate-limits. Set `provide_traceback=True` for traceback.\n"
     ]
    },
    {
     "name": "stdout",
     "output_type": "stream",
     "text": [
      "Average Metric: 0.00 / 0 (0%):  17%|█▋        | 6/35 [00:18<00:46,  1.59s/it]"
     ]
    },
    {
     "name": "stderr",
     "output_type": "stream",
     "text": [
      "2025/07/19 17:19:41 ERROR dspy.utils.parallelizer: Error for Example({'claim': 'Lari Michele White is the county music artist that first gained national attention as a winner on \"You Can Be a Star\". She then went on to provide background vocals on the first single of the album, Now and Then.', 'titles': ['Lari White', 'Take It Like a Man (Michelle Wright song)', 'Now and Then (Michelle Wright album)']}) (input_keys={'claim'}): litellm.RateLimitError: RateLimitError: Together_aiException - Request was rejected due to request rate limiting. Your rate limits are 60 RPM (1 QPS) and 60000 TPM (1000 TPS). See details: https://docs.together.ai/docs/rate-limits. Set `provide_traceback=True` for traceback.\n"
     ]
    },
    {
     "name": "stdout",
     "output_type": "stream",
     "text": [
      "Average Metric: 0.00 / 0 (0%):  20%|██        | 7/35 [00:20<00:47,  1.68s/it]"
     ]
    },
    {
     "name": "stderr",
     "output_type": "stream",
     "text": [
      "2025/07/19 17:19:44 ERROR dspy.utils.parallelizer: Error for Example({'claim': 'This series developer created T-Dog on the Walking Dead. He is the Hungarian-born US film director renowned for adapting Stephen King novellas to the screen, including The Mist and The Green Mile.', 'titles': ['The Mist (film)', 'Frank Darabont', 'T-Dog (The Walking Dead)']}) (input_keys={'claim'}): litellm.RateLimitError: RateLimitError: Together_aiException - Request was rejected due to request rate limiting. Your rate limits are 60 RPM (1 QPS) and 60000 TPM (1000 TPS). See details: https://docs.together.ai/docs/rate-limits. Set `provide_traceback=True` for traceback.\n"
     ]
    },
    {
     "name": "stdout",
     "output_type": "stream",
     "text": [
      "Average Metric: 0.00 / 0 (0%):  23%|██▎       | 8/35 [00:24<00:59,  2.21s/it]"
     ]
    },
    {
     "name": "stderr",
     "output_type": "stream",
     "text": [
      "2025/07/19 17:19:45 ERROR dspy.utils.parallelizer: Error for Example({'claim': 'The genera that the Gordonia-Alatamaha State Park is named after and Osbeckia are not in the same family.', 'titles': ['Gordonia (plant)', 'Osbeckia', 'Gordonia-Alatamaha State Park']}) (input_keys={'claim'}): litellm.RateLimitError: RateLimitError: Together_aiException - Request was rejected due to request rate limiting. Your rate limits are 60 RPM (1 QPS) and 60000 TPM (1000 TPS). See details: https://docs.together.ai/docs/rate-limits. Set `provide_traceback=True` for traceback.\n"
     ]
    },
    {
     "name": "stdout",
     "output_type": "stream",
     "text": [
      "Average Metric: 0.33 / 1 (33.3%):  29%|██▊       | 10/35 [00:26<00:42,  1.70s/it]"
     ]
    },
    {
     "name": "stderr",
     "output_type": "stream",
     "text": [
      "2025/07/19 17:19:48 ERROR dspy.utils.parallelizer: Error for Example({'claim': 'Fredric March costarred in 1935 Australian drama film that Frances Drake is best know for, with the husband of Elsa Lanchester.', 'titles': ['Frances Drake', 'Charles Laughton', 'Les Misérables (1935 film)']}) (input_keys={'claim'}): litellm.RateLimitError: RateLimitError: Together_aiException - Request was rejected due to request rate limiting. Your rate limits are 60 RPM (1 QPS) and 60000 TPM (1000 TPS). See details: https://docs.together.ai/docs/rate-limits. Set `provide_traceback=True` for traceback.\n"
     ]
    },
    {
     "name": "stdout",
     "output_type": "stream",
     "text": [
      "Average Metric: 0.33 / 1 (33.3%):  31%|███▏      | 11/35 [00:27<00:38,  1.60s/it]"
     ]
    },
    {
     "name": "stderr",
     "output_type": "stream",
     "text": [
      "2025/07/19 17:19:52 ERROR dspy.utils.parallelizer: Error for Example({'claim': 'The elder sister of the actress that played Margaret Devlin in  The Oregon Trail (TV series) is best known for her role as the eldest Von Trapp daughter in \"Liesl\".', 'titles': ['Darleen Carr', 'The Oregon Trail (TV series)', 'Charmian Carr']}) (input_keys={'claim'}): litellm.RateLimitError: RateLimitError: Together_aiException - Request was rejected due to request rate limiting. Your rate limits are 60 RPM (1 QPS) and 60000 TPM (1000 TPS). See details: https://docs.together.ai/docs/rate-limits. Set `provide_traceback=True` for traceback.\n"
     ]
    },
    {
     "name": "stdout",
     "output_type": "stream",
     "text": [
      "Average Metric: 0.33 / 1 (33.3%):  34%|███▍      | 12/35 [00:31<00:51,  2.23s/it]"
     ]
    },
    {
     "name": "stderr",
     "output_type": "stream",
     "text": [
      "2025/07/19 17:19:52 ERROR dspy.utils.parallelizer: Error for Example({'claim': 'Sophia Grace & Rosie featured a cover song on their Youtube channel. The pop song from is from an album released under the Syco Music and Columbia Records labels.', 'titles': ['Touch (Little Mix song)', 'Glory Days (Little Mix album)', 'Sophia Grace &amp; Rosie']}) (input_keys={'claim'}): litellm.RateLimitError: RateLimitError: Together_aiException - Request was rejected due to request rate limiting. Your rate limits are 60 RPM (1 QPS) and 60000 TPM (1000 TPS). See details: https://docs.together.ai/docs/rate-limits. Set `provide_traceback=True` for traceback.\n"
     ]
    },
    {
     "name": "stdout",
     "output_type": "stream",
     "text": [
      "Average Metric: 0.33 / 1 (33.3%):  34%|███▍      | 12/35 [00:31<00:51,  2.23s/it]"
     ]
    },
    {
     "name": "stderr",
     "output_type": "stream",
     "text": [
      "2025/07/19 17:19:55 ERROR dspy.utils.parallelizer: Error for Example({'claim': 'Mountain Dew is owned by the Pepsi-Cola company. So is the producer of orange juice founded by Anthony T. Rossi.', 'titles': ['Tropicana Products', 'Anthony T. Rossi', 'Mountain Dew']}) (input_keys={'claim'}): litellm.RateLimitError: RateLimitError: Together_aiException - Request was rejected due to request rate limiting. Your rate limits are 60 RPM (1 QPS) and 60000 TPM (1000 TPS). See details: https://docs.together.ai/docs/rate-limits. Set `provide_traceback=True` for traceback.\n"
     ]
    },
    {
     "name": "stdout",
     "output_type": "stream",
     "text": [
      "Average Metric: 0.33 / 1 (33.3%):  40%|████      | 14/35 [00:34<00:39,  1.86s/it]"
     ]
    },
    {
     "name": "stderr",
     "output_type": "stream",
     "text": [
      "2025/07/19 17:19:55 ERROR dspy.utils.parallelizer: Error for Example({'claim': 'Jonathan Howsmon Davis lives closer to Canada than this Japanese singer, whose fifth solo studio album is called Singing Bird.', 'titles': ['Koshi Inaba', 'Jonathan Davis', 'Singing Bird']}) (input_keys={'claim'}): litellm.RateLimitError: RateLimitError: Together_aiException - Request was rejected due to request rate limiting. Your rate limits are 60 RPM (1 QPS) and 60000 TPM (1000 TPS). See details: https://docs.together.ai/docs/rate-limits. Set `provide_traceback=True` for traceback.\n"
     ]
    },
    {
     "name": "stdout",
     "output_type": "stream",
     "text": [
      "Average Metric: 0.33 / 1 (33.3%):  43%|████▎     | 15/35 [00:34<00:30,  1.51s/it]"
     ]
    },
    {
     "name": "stderr",
     "output_type": "stream",
     "text": [
      "2025/07/19 17:19:56 ERROR dspy.utils.parallelizer: Error for Example({'claim': 'Mother Mother (song) was the last song by a female solo artist to top this chart until the song was the first song released by Lorde by New Zealand singer Lorde. Also to be released later on her debut studio album.', 'titles': ['Royals (song)', 'Mother Mother (song)', 'Tennis Court (song)']}) (input_keys={'claim'}): litellm.RateLimitError: RateLimitError: Together_aiException - Request was rejected due to request rate limiting. Your rate limits are 60 RPM (1 QPS) and 60000 TPM (1000 TPS). See details: https://docs.together.ai/docs/rate-limits. Set `provide_traceback=True` for traceback.\n"
     ]
    },
    {
     "name": "stdout",
     "output_type": "stream",
     "text": [
      "Average Metric: 0.33 / 1 (33.3%):  46%|████▌     | 16/35 [00:35<00:24,  1.26s/it]"
     ]
    },
    {
     "name": "stderr",
     "output_type": "stream",
     "text": [
      "2025/07/19 17:19:56 ERROR dspy.utils.parallelizer: Error for Example({'claim': 'The individual who played Herman Boone in Remember the Titans, and David Hewlett, are both actors.', 'titles': ['David Hewlett', 'Denzel Washington', 'Herman Boone']}) (input_keys={'claim'}): litellm.RateLimitError: RateLimitError: Together_aiException - Request was rejected due to request rate limiting. Your rate limits are 60 RPM (1 QPS) and 60000 TPM (1000 TPS). See details: https://docs.together.ai/docs/rate-limits. Set `provide_traceback=True` for traceback.\n"
     ]
    },
    {
     "name": "stdout",
     "output_type": "stream",
     "text": [
      "Average Metric: 0.33 / 1 (33.3%):  46%|████▌     | 16/35 [00:35<00:24,  1.26s/it]"
     ]
    },
    {
     "name": "stderr",
     "output_type": "stream",
     "text": [
      "2025/07/19 17:19:56 ERROR dspy.utils.parallelizer: Error for Example({'claim': \"Tom Kristensen won the Nation's Cup with Petter Solberg in Bushy Park, Barbados in August 1993. He also won the 24 Hours of Le Mans nine times.\", 'titles': ['Tom Kristensen (racing driver)', 'Bushy Park, Barbados', '2014 Race of Champions']}) (input_keys={'claim'}): litellm.RateLimitError: RateLimitError: Together_aiException - Request was rejected due to request rate limiting. Your rate limits are 60 RPM (1 QPS) and 60000 TPM (1000 TPS). See details: https://docs.together.ai/docs/rate-limits. Set `provide_traceback=True` for traceback.\n"
     ]
    },
    {
     "name": "stdout",
     "output_type": "stream",
     "text": [
      "Average Metric: 0.33 / 1 (33.3%):  51%|█████▏    | 18/35 [00:35<00:12,  1.33it/s]"
     ]
    },
    {
     "name": "stderr",
     "output_type": "stream",
     "text": [
      "2025/07/19 17:19:58 ERROR dspy.utils.parallelizer: Error for Example({'claim': 'There are top three sections for the hockey meeting JC Lipon placed 91st overall in. Of the top three, the one who is both a American professional ice hockey forward and an alternate captain of the Colorado Avalanche organization of the National Hockey League is Nathan MacKinnon.', 'titles': ['2013 NHL Entry Draft', 'Nathan MacKinnon', 'JC Lipon']}) (input_keys={'claim'}): litellm.RateLimitError: RateLimitError: Together_aiException - Request was rejected due to request rate limiting. Your rate limits are 60 RPM (1 QPS) and 60000 TPM (1000 TPS). See details: https://docs.together.ai/docs/rate-limits. Set `provide_traceback=True` for traceback.\n"
     ]
    },
    {
     "name": "stdout",
     "output_type": "stream",
     "text": [
      "Average Metric: 0.33 / 1 (33.3%):  54%|█████▍    | 19/35 [00:37<00:16,  1.03s/it]"
     ]
    },
    {
     "name": "stderr",
     "output_type": "stream",
     "text": [
      "2025/07/19 17:20:02 ERROR dspy.utils.parallelizer: Error for Example({'claim': 'The actor Giancarlo Giuseppe Alessandro Esposito starred in the 2016 film that also starred Olivia Luccardi. Giancarlo is best known for his portrayal of Gustavo \"Gus\" Fring on the AMC shows \"Breaking Bad\" and \"Breaking Bad\".', 'titles': ['Money Monster', 'Giancarlo Esposito', 'Olivia Luccardi']}) (input_keys={'claim'}): litellm.RateLimitError: RateLimitError: Together_aiException - Request was rejected due to request rate limiting. Your rate limits are 60 RPM (1 QPS) and 60000 TPM (1000 TPS). See details: https://docs.together.ai/docs/rate-limits. Set `provide_traceback=True` for traceback.\n"
     ]
    },
    {
     "name": "stdout",
     "output_type": "stream",
     "text": [
      "Average Metric: 0.33 / 1 (33.3%):  57%|█████▋    | 20/35 [00:41<00:27,  1.85s/it]"
     ]
    },
    {
     "name": "stderr",
     "output_type": "stream",
     "text": [
      "2025/07/19 17:20:02 ERROR dspy.utils.parallelizer: Error for Example({'claim': 'The writer of the song I Was Here is also a producer. He won his fourth Grammy for the song by Rihanna from the album Loud.', 'titles': ['I Was Here (song)', 'Kuk Harrell', 'Only Girl (In the World)']}) (input_keys={'claim'}): litellm.RateLimitError: RateLimitError: Together_aiException - Request was rejected due to request rate limiting. Your rate limits are 60 RPM (1 QPS) and 60000 TPM (1000 TPS). See details: https://docs.together.ai/docs/rate-limits. Set `provide_traceback=True` for traceback.\n"
     ]
    },
    {
     "name": "stdout",
     "output_type": "stream",
     "text": [
      "Average Metric: 0.33 / 1 (33.3%):  60%|██████    | 21/35 [00:41<00:19,  1.41s/it]"
     ]
    },
    {
     "name": "stderr",
     "output_type": "stream",
     "text": [
      "2025/07/19 17:20:07 ERROR dspy.utils.parallelizer: Error for Example({'claim': \"The owner of Viva (UK and Ireland) changed it's name in late 2004. Their new acronym stand for Gesellschaft mit beschränkter Haftung.\", 'titles': ['Gesellschaft mit beschränkter Haftung', 'Viva (UK and Ireland)', 'VIVA Media']}) (input_keys={'claim'}): litellm.RateLimitError: RateLimitError: Together_aiException - Request was rejected due to request rate limiting. Your rate limits are 60 RPM (1 QPS) and 60000 TPM (1000 TPS). See details: https://docs.together.ai/docs/rate-limits. Set `provide_traceback=True` for traceback.\n"
     ]
    },
    {
     "name": "stdout",
     "output_type": "stream",
     "text": [
      "Average Metric: 0.33 / 1 (33.3%):  63%|██████▎   | 22/35 [00:46<00:31,  2.40s/it]"
     ]
    },
    {
     "name": "stderr",
     "output_type": "stream",
     "text": [
      "2025/07/19 17:20:08 ERROR dspy.utils.parallelizer: Error for Example({'claim': 'The father of director Guðný Halldórsdóttir and Timothy Leary are not from the same place.', 'titles': ['Halldór Laxness', 'Timothy Leary', 'Guðný Halldórsdóttir']}) (input_keys={'claim'}): litellm.RateLimitError: RateLimitError: Together_aiException - Request was rejected due to request rate limiting. Your rate limits are 60 RPM (1 QPS) and 60000 TPM (1000 TPS). See details: https://docs.together.ai/docs/rate-limits. Set `provide_traceback=True` for traceback.\n"
     ]
    },
    {
     "name": "stdout",
     "output_type": "stream",
     "text": [
      "Average Metric: 0.33 / 1 (33.3%):  66%|██████▌   | 23/35 [00:47<00:23,  1.98s/it]"
     ]
    },
    {
     "name": "stderr",
     "output_type": "stream",
     "text": [
      "2025/07/19 17:20:08 ERROR dspy.utils.parallelizer: Error for Example({'claim': 'Danyang, Jiangusu and this city are both cities in China. This city was the birthplace of Chen Xiuke.', 'titles': ['Danyang, Jiangsu', 'Dongfang, Hainan', 'Chen Xiuke']}) (input_keys={'claim'}): litellm.RateLimitError: RateLimitError: Together_aiException - Request was rejected due to request rate limiting. Your rate limits are 60 RPM (1 QPS) and 60000 TPM (1000 TPS). See details: https://docs.together.ai/docs/rate-limits. Set `provide_traceback=True` for traceback.\n"
     ]
    },
    {
     "name": "stdout",
     "output_type": "stream",
     "text": [
      "Average Metric: 0.33 / 1 (33.3%):  66%|██████▌   | 23/35 [00:47<00:23,  1.98s/it]"
     ]
    },
    {
     "name": "stderr",
     "output_type": "stream",
     "text": [
      "2025/07/19 17:20:11 ERROR dspy.utils.parallelizer: Error for Example({'claim': 'The actor, who played Spellingg Bee\" in \"That\\'s My Bush!\", from Stockton, CA appeared in Psych, an American detective comedy-drama television series created by Steve Franks.', 'titles': ['Kurt Fuller', \"That's My Bush!\", 'Psych']}) (input_keys={'claim'}): litellm.RateLimitError: RateLimitError: Together_aiException - Request was rejected due to request rate limiting. Your rate limits are 60 RPM (1 QPS) and 60000 TPM (1000 TPS). See details: https://docs.together.ai/docs/rate-limits. Set `provide_traceback=True` for traceback.\n"
     ]
    },
    {
     "name": "stdout",
     "output_type": "stream",
     "text": [
      "Average Metric: 0.33 / 1 (33.3%):  71%|███████▏  | 25/35 [00:51<00:18,  1.83s/it]"
     ]
    },
    {
     "name": "stderr",
     "output_type": "stream",
     "text": [
      "2025/07/19 17:20:14 ERROR dspy.utils.parallelizer: Error for Example({'claim': 'The city containing the Parafield railway station is very near the airport and the Mawson Lakes campus of the University of South Australia.', 'titles': ['Parafield, South Australia', 'Parafield railway station', 'Parafield Airport']}) (input_keys={'claim'}): litellm.RateLimitError: RateLimitError: Together_aiException - Request was rejected due to request rate limiting. Your rate limits are 60 RPM (1 QPS) and 60000 TPM (1000 TPS). See details: https://docs.together.ai/docs/rate-limits. Set `provide_traceback=True` for traceback.\n"
     ]
    },
    {
     "name": "stdout",
     "output_type": "stream",
     "text": [
      "Average Metric: 0.33 / 1 (33.3%):  71%|███████▏  | 25/35 [00:53<00:18,  1.83s/it]"
     ]
    },
    {
     "name": "stderr",
     "output_type": "stream",
     "text": [
      "2025/07/19 17:20:14 ERROR dspy.utils.parallelizer: Error for Example({'claim': 'An Greek actor who was a CIA operative in Chuck Versus the A-Team was born in 1974. The actor plays a character in commercials for Old Spice.', 'titles': ['Make a Smellmitment', 'Chuck Versus the A-Team', 'Isaiah Mustafa']}) (input_keys={'claim'}): litellm.RateLimitError: RateLimitError: Together_aiException - Request was rejected due to request rate limiting. Your rate limits are 60 RPM (1 QPS) and 60000 TPM (1000 TPS). See details: https://docs.together.ai/docs/rate-limits. Set `provide_traceback=True` for traceback.\n",
      "2025/07/19 17:20:14 ERROR dspy.utils.parallelizer: Error for Example({'claim': 'The director of action movie Batman: Mask of the Phantasm, produced Avengers Assemble that premiered on Disney XD on May 26, 2013.', 'titles': ['Eric Radomski', 'Batman: Mask of the Phantasm', 'Avengers Assemble (TV series)']}) (input_keys={'claim'}): litellm.RateLimitError: RateLimitError: Together_aiException - Request was rejected due to request rate limiting. Your rate limits are 60 RPM (1 QPS) and 60000 TPM (1000 TPS). See details: https://docs.together.ai/docs/rate-limits. Set `provide_traceback=True` for traceback.\n"
     ]
    },
    {
     "name": "stdout",
     "output_type": "stream",
     "text": [
      "Average Metric: 0.33 / 1 (33.3%):  74%|███████▍  | 26/35 [00:53<00:18,  2.07s/it]"
     ]
    },
    {
     "name": "stderr",
     "output_type": "stream",
     "text": [
      "2025/07/19 17:20:14 ERROR dspy.utils.parallelizer: Error for Example({'claim': 'The Stanley Kubrick thriller that Nicole Kidman worked with Tom Cruise on, starring Vinessa Elizabeth Shaw, was based on the novella \"Traumnovelle\" (\"Dream Story\") .', 'titles': ['Vinessa Shaw', 'Eyes Wide Shut', 'Nicole Kidman filmography']}) (input_keys={'claim'}): litellm.RateLimitError: RateLimitError: Together_aiException - Request was rejected due to request rate limiting. Your rate limits are 60 RPM (1 QPS) and 60000 TPM (1000 TPS). See details: https://docs.together.ai/docs/rate-limits. Set `provide_traceback=True` for traceback.\n"
     ]
    },
    {
     "name": "stdout",
     "output_type": "stream",
     "text": [
      "Average Metric: 1.00 / 2 (50.0%):  83%|████████▎ | 29/35 [00:54<00:12,  2.07s/it]"
     ]
    },
    {
     "name": "stderr",
     "output_type": "stream",
     "text": [
      "2025/07/19 17:20:15 ERROR dspy.utils.parallelizer: Error for Example({'claim': 'Avery Waddell is the director of the banned hardcore pornographic film War Dogs. and also directed the film Road Trip starring Breckin Meyer. Todd Phillip also directed a film starring Breckin Meyer.', 'titles': ['Avery Waddell', 'Todd Phillips', 'Road Trip (film)']}) (input_keys={'claim'}): litellm.RateLimitError: RateLimitError: Together_aiException - Request was rejected due to request rate limiting. Your rate limits are 60 RPM (1 QPS) and 60000 TPM (1000 TPS). See details: https://docs.together.ai/docs/rate-limits. Set `provide_traceback=True` for traceback.\n"
     ]
    },
    {
     "name": "stdout",
     "output_type": "stream",
     "text": [
      "Average Metric: 1.00 / 2 (50.0%):  89%|████████▊ | 31/35 [00:54<00:03,  1.25it/s]"
     ]
    },
    {
     "name": "stderr",
     "output_type": "stream",
     "text": [
      "2025/07/19 17:20:24 WARNING dspy.adapters.json_adapter: Failed to use structured output format, falling back to JSON mode.\n",
      "2025/07/19 17:20:31 ERROR dspy.utils.parallelizer: Error for Example({'claim': 'Archers of Loaf is an indie band. The band who had a song called Shelf in the Room is not.', 'titles': ['Days of the New', 'Archers of Loaf', 'Shelf in the Room']}) (input_keys={'claim'}): Both structured output format and JSON mode failed. Please choose a model that supports `response_format` argument. Original error: litellm.RateLimitError: RateLimitError: Together_aiException - Request was rejected due to request rate limiting. Your rate limits are 60 RPM (1 QPS) and 60000 TPM (1000 TPS). See details: https://docs.together.ai/docs/rate-limits. Set `provide_traceback=True` for traceback.\n"
     ]
    },
    {
     "name": "stdout",
     "output_type": "stream",
     "text": [
      "Average Metric: 1.33 / 5 (26.7%): 100%|██████████| 35/35 [01:36<00:00,  2.76s/it]"
     ]
    },
    {
     "name": "stderr",
     "output_type": "stream",
     "text": [
      "2025/07/19 17:20:57 INFO dspy.evaluate.evaluate: Average Metric: 1.3333333333333333 / 35 (3.8%)\n",
      "2025/07/19 17:20:57 INFO dspy.teleprompt.mipro_optimizer_v2: Score: 3.81 on minibatch of size 35 with parameters ['Predictor 0: Instruction 3', 'Predictor 0: Few-Shot Set 10', 'Predictor 1: Instruction 0', 'Predictor 1: Few-Shot Set 9'].\n",
      "2025/07/19 17:20:57 INFO dspy.teleprompt.mipro_optimizer_v2: Minibatch scores so far: [2.86, 8.57, 18.1, 14.29, 3.81]\n",
      "2025/07/19 17:20:57 INFO dspy.teleprompt.mipro_optimizer_v2: Full eval scores so far: [2.08]\n",
      "2025/07/19 17:20:57 INFO dspy.teleprompt.mipro_optimizer_v2: Best full score so far: 2.08\n",
      "2025/07/19 17:20:57 INFO dspy.teleprompt.mipro_optimizer_v2: =========================================\n",
      "\n",
      "\n",
      "2025/07/19 17:20:57 INFO dspy.teleprompt.mipro_optimizer_v2: ===== Trial 7 / 35 - Full Evaluation =====\n",
      "2025/07/19 17:20:57 INFO dspy.teleprompt.mipro_optimizer_v2: Doing full eval on next top averaging program (Avg Score: 18.1) from minibatch trials...\n"
     ]
    },
    {
     "name": "stdout",
     "output_type": "stream",
     "text": [
      "\n",
      "Average Metric: 1.67 / 3 (55.6%):   4%|▍         | 3/80 [00:10<04:38,  3.62s/it]"
     ]
    },
    {
     "name": "stderr",
     "output_type": "stream",
     "text": [
      "2025/07/19 17:21:12 ERROR dspy.utils.parallelizer: Error for Example({'claim': 'The college which the Charleston architect, hired to remodel Louis Gourd House, taught at was founded in 1770.', 'titles': ['College of Charleston', 'Louis Gourd House', 'Albert Simons']}) (input_keys={'claim'}): litellm.RateLimitError: RateLimitError: Together_aiException - Request was rejected due to request rate limiting. Your rate limits are 60 RPM (1 QPS) and 60000 TPM (1000 TPS). See details: https://docs.together.ai/docs/rate-limits. Set `provide_traceback=True` for traceback.\n"
     ]
    },
    {
     "name": "stdout",
     "output_type": "stream",
     "text": [
      "Average Metric: 1.67 / 3 (55.6%):   5%|▌         | 4/80 [00:15<04:52,  3.84s/it]"
     ]
    },
    {
     "name": "stderr",
     "output_type": "stream",
     "text": [
      "2025/07/19 17:21:14 ERROR dspy.utils.parallelizer: Error for Example({'claim': 'Both the character, who is sometimes called the  \"Mad Hatter\" in adaptations of the book. and March Hare are characters in the book Alice\\'s Adventures in Wonderland', 'titles': [\"Hatter (Alice's Adventures in Wonderland)\", 'Mad Hatter (comics)', 'March Hare']}) (input_keys={'claim'}): litellm.RateLimitError: RateLimitError: Together_aiException - Request was rejected due to request rate limiting. Your rate limits are 60 RPM (1 QPS) and 60000 TPM (1000 TPS). See details: https://docs.together.ai/docs/rate-limits. Set `provide_traceback=True` for traceback.\n"
     ]
    },
    {
     "name": "stdout",
     "output_type": "stream",
     "text": [
      "Average Metric: 1.67 / 3 (55.6%):   6%|▋         | 5/80 [00:16<03:42,  2.96s/it]"
     ]
    },
    {
     "name": "stderr",
     "output_type": "stream",
     "text": [
      "2025/07/19 17:21:15 WARNING dspy.adapters.json_adapter: Failed to use structured output format, falling back to JSON mode.\n"
     ]
    },
    {
     "name": "stdout",
     "output_type": "stream",
     "text": [
      "Average Metric: 1.67 / 4 (41.7%):   8%|▊         | 6/80 [00:18<03:08,  2.54s/it]"
     ]
    },
    {
     "name": "stderr",
     "output_type": "stream",
     "text": [
      "2025/07/19 17:21:18 ERROR dspy.utils.parallelizer: Error for Example({'claim': 'Jonathan Howsmon Davis lives closer to Canada than this Japanese singer, whose fifth solo studio album is called Singing Bird.', 'titles': ['Koshi Inaba', 'Jonathan Davis', 'Singing Bird']}) (input_keys={'claim'}): litellm.RateLimitError: RateLimitError: Together_aiException - Request was rejected due to request rate limiting. Your rate limits are 60 RPM (1 QPS) and 60000 TPM (1000 TPS). See details: https://docs.together.ai/docs/rate-limits. Set `provide_traceback=True` for traceback.\n"
     ]
    },
    {
     "name": "stdout",
     "output_type": "stream",
     "text": [
      "Average Metric: 2.33 / 5 (46.7%):  10%|█         | 8/80 [00:22<02:45,  2.30s/it]"
     ]
    },
    {
     "name": "stderr",
     "output_type": "stream",
     "text": [
      "2025/07/19 17:21:21 ERROR dspy.utils.parallelizer: Error for Example({'claim': 'The city containing the Parafield railway station is very near the airport and the Mawson Lakes campus of the University of South Australia.', 'titles': ['Parafield, South Australia', 'Parafield railway station', 'Parafield Airport']}) (input_keys={'claim'}): litellm.RateLimitError: RateLimitError: Together_aiException - Request was rejected due to request rate limiting. Your rate limits are 60 RPM (1 QPS) and 60000 TPM (1000 TPS). See details: https://docs.together.ai/docs/rate-limits. Set `provide_traceback=True` for traceback.\n"
     ]
    },
    {
     "name": "stdout",
     "output_type": "stream",
     "text": [
      "Average Metric: 2.33 / 5 (46.7%):  11%|█▏        | 9/80 [00:24<02:29,  2.10s/it]"
     ]
    },
    {
     "name": "stderr",
     "output_type": "stream",
     "text": [
      "2025/07/19 17:21:24 WARNING dspy.adapters.json_adapter: Failed to use structured output format, falling back to JSON mode.\n"
     ]
    },
    {
     "name": "stdout",
     "output_type": "stream",
     "text": [
      "Average Metric: 3.33 / 6 (55.6%):  12%|█▎        | 10/80 [00:27<02:46,  2.38s/it]"
     ]
    },
    {
     "name": "stderr",
     "output_type": "stream",
     "text": [
      "2025/07/19 17:21:24 ERROR dspy.utils.parallelizer: Error for Example({'claim': 'The actor, who played Spellingg Bee\" in \"That\\'s My Bush!\", from Stockton, CA appeared in Psych, an American detective comedy-drama television series created by Steve Franks.', 'titles': ['Kurt Fuller', \"That's My Bush!\", 'Psych']}) (input_keys={'claim'}): litellm.RateLimitError: RateLimitError: Together_aiException - Request was rejected due to request rate limiting. Your rate limits are 60 RPM (1 QPS) and 60000 TPM (1000 TPS). See details: https://docs.together.ai/docs/rate-limits. Set `provide_traceback=True` for traceback.\n"
     ]
    },
    {
     "name": "stdout",
     "output_type": "stream",
     "text": [
      "Average Metric: 3.33 / 6 (55.6%):  12%|█▎        | 10/80 [00:27<02:46,  2.38s/it]"
     ]
    },
    {
     "name": "stderr",
     "output_type": "stream",
     "text": [
      "2025/07/19 17:21:24 WARNING dspy.adapters.json_adapter: Failed to use structured output format, falling back to JSON mode.\n",
      "2025/07/19 17:21:26 ERROR dspy.utils.parallelizer: Error for Example({'claim': 'Lincoln Barrett is the real name of the welsh electronic music producer DJ who have been visited the night club  in Vienna hundreds of times. The Waves of Vienna festival takes place in the same nightclub.', 'titles': ['Flex (club)', 'Waves Vienna', 'High Contrast']}) (input_keys={'claim'}): litellm.RateLimitError: RateLimitError: Together_aiException - Request was rejected due to request rate limiting. Your rate limits are 60 RPM (1 QPS) and 60000 TPM (1000 TPS). See details: https://docs.together.ai/docs/rate-limits. Set `provide_traceback=True` for traceback.\n"
     ]
    },
    {
     "name": "stdout",
     "output_type": "stream",
     "text": [
      "Average Metric: 3.33 / 6 (55.6%):  15%|█▌        | 12/80 [00:28<01:55,  1.69s/it]"
     ]
    },
    {
     "name": "stderr",
     "output_type": "stream",
     "text": [
      "2025/07/19 17:21:26 ERROR dspy.utils.parallelizer: Error for Example({'claim': \"The real life person that James Woods' character is based on in the television film was awarded the Medal of Honor. Steven Vincent Leigh appeared in this film in 1987.\", 'titles': ['James Stockdale', 'Steven Vincent Leigh', 'In Love and War (1987 film)']}) (input_keys={'claim'}): litellm.RateLimitError: RateLimitError: Together_aiException - Request was rejected due to request rate limiting. Your rate limits are 60 RPM (1 QPS) and 60000 TPM (1000 TPS). See details: https://docs.together.ai/docs/rate-limits. Set `provide_traceback=True` for traceback.\n"
     ]
    },
    {
     "name": "stdout",
     "output_type": "stream",
     "text": [
      "Average Metric: 4.00 / 7 (57.1%):  18%|█▊        | 14/80 [00:29<01:09,  1.05s/it]"
     ]
    },
    {
     "name": "stderr",
     "output_type": "stream",
     "text": [
      "2025/07/19 17:21:28 ERROR dspy.utils.parallelizer: Error for Example({'claim': \"The defending champion who lost the Singles title at the 1994 Waldbaum's Hamlet Cup, and Max Mirnyi have both been tennis players.\", 'titles': ['Max Mirnyi', \"1994 Waldbaum's Hamlet Cup – Singles\", 'Marc Rosset']}) (input_keys={'claim'}): litellm.RateLimitError: RateLimitError: Together_aiException - Request was rejected due to request rate limiting. Your rate limits are 60 RPM (1 QPS) and 60000 TPM (1000 TPS). See details: https://docs.together.ai/docs/rate-limits. Set `provide_traceback=True` for traceback.\n"
     ]
    },
    {
     "name": "stdout",
     "output_type": "stream",
     "text": [
      "Average Metric: 4.00 / 7 (57.1%):  19%|█▉        | 15/80 [00:31<01:24,  1.29s/it]"
     ]
    },
    {
     "name": "stderr",
     "output_type": "stream",
     "text": [
      "2025/07/19 17:21:31 WARNING dspy.adapters.json_adapter: Failed to use structured output format, falling back to JSON mode.\n",
      "2025/07/19 17:21:31 WARNING dspy.adapters.json_adapter: Failed to use structured output format, falling back to JSON mode.\n",
      "2025/07/19 17:21:32 WARNING dspy.adapters.json_adapter: Failed to use structured output format, falling back to JSON mode.\n"
     ]
    },
    {
     "name": "stdout",
     "output_type": "stream",
     "text": [
      "Average Metric: 5.67 / 9 (63.0%):  21%|██▏       | 17/80 [00:36<01:57,  1.87s/it]"
     ]
    },
    {
     "name": "stderr",
     "output_type": "stream",
     "text": [
      "2025/07/19 17:21:35 WARNING dspy.adapters.json_adapter: Failed to use structured output format, falling back to JSON mode.\n",
      "2025/07/19 17:21:35 ERROR dspy.utils.parallelizer: Error for Example({'claim': 'An Greek actor who was a CIA operative in Chuck Versus the A-Team was born in 1974. The actor plays a character in commercials for Old Spice.', 'titles': ['Make a Smellmitment', 'Chuck Versus the A-Team', 'Isaiah Mustafa']}) (input_keys={'claim'}): litellm.RateLimitError: RateLimitError: Together_aiException - Request was rejected due to request rate limiting. Your rate limits are 60 RPM (1 QPS) and 60000 TPM (1000 TPS). See details: https://docs.together.ai/docs/rate-limits. Set `provide_traceback=True` for traceback.\n"
     ]
    },
    {
     "name": "stdout",
     "output_type": "stream",
     "text": [
      "Average Metric: 5.67 / 9 (63.0%):  22%|██▎       | 18/80 [00:37<01:32,  1.49s/it]"
     ]
    },
    {
     "name": "stderr",
     "output_type": "stream",
     "text": [
      "2025/07/19 17:21:35 ERROR dspy.utils.parallelizer: Error for Example({'claim': 'Lari Michele White is the county music artist that first gained national attention as a winner on \"You Can Be a Star\". She then went on to provide background vocals on the first single of the album, Now and Then.', 'titles': ['Lari White', 'Take It Like a Man (Michelle Wright song)', 'Now and Then (Michelle Wright album)']}) (input_keys={'claim'}): Both structured output format and JSON mode failed. Please choose a model that supports `response_format` argument. Original error: litellm.RateLimitError: RateLimitError: Together_aiException - Request was rejected due to request rate limiting. Your rate limits are 60 RPM (1 QPS) and 60000 TPM (1000 TPS). See details: https://docs.together.ai/docs/rate-limits. Set `provide_traceback=True` for traceback.\n"
     ]
    },
    {
     "name": "stdout",
     "output_type": "stream",
     "text": [
      "Average Metric: 6.67 / 10 (66.7%):  25%|██▌       | 20/80 [00:39<01:14,  1.25s/it]"
     ]
    },
    {
     "name": "stderr",
     "output_type": "stream",
     "text": [
      "2025/07/19 17:21:39 ERROR dspy.utils.parallelizer: Error for Example({'claim': 'Mother Mother (song) was the last song by a female solo artist to top this chart until the song was the first song released by Lorde by New Zealand singer Lorde. Also to be released later on her debut studio album.', 'titles': ['Royals (song)', 'Mother Mother (song)', 'Tennis Court (song)']}) (input_keys={'claim'}): litellm.RateLimitError: RateLimitError: Together_aiException - Request was rejected due to request rate limiting. Your rate limits are 60 RPM (1 QPS) and 60000 TPM (1000 TPS). See details: https://docs.together.ai/docs/rate-limits. Set `provide_traceback=True` for traceback.\n"
     ]
    },
    {
     "name": "stdout",
     "output_type": "stream",
     "text": [
      "Average Metric: 6.67 / 10 (66.7%):  26%|██▋       | 21/80 [00:41<01:28,  1.49s/it]"
     ]
    },
    {
     "name": "stderr",
     "output_type": "stream",
     "text": [
      "2025/07/19 17:21:39 WARNING dspy.adapters.json_adapter: Failed to use structured output format, falling back to JSON mode.\n",
      "2025/07/19 17:21:41 ERROR dspy.utils.parallelizer: Error for Example({'claim': 'The summer 2016 romantic drama \"Me Before You\" is directed by Thea Sharrock. The star of the film The Lost Future (who also appears in The Hunger Games) stars as the character Will Traynor.', 'titles': ['The Lost Future', 'Me Before You (film)', 'Sam Claflin']}) (input_keys={'claim'}): Both structured output format and JSON mode failed. Please choose a model that supports `response_format` argument. Original error: litellm.RateLimitError: RateLimitError: Together_aiException - Request was rejected due to request rate limiting. Your rate limits are 60 RPM (1 QPS) and 60000 TPM (1000 TPS). See details: https://docs.together.ai/docs/rate-limits. Set `provide_traceback=True` for traceback.\n"
     ]
    },
    {
     "name": "stdout",
     "output_type": "stream",
     "text": [
      "Average Metric: 7.67 / 11 (69.7%):  29%|██▉       | 23/80 [00:45<01:37,  1.72s/it]"
     ]
    },
    {
     "name": "stderr",
     "output_type": "stream",
     "text": [
      "2025/07/19 17:21:43 WARNING dspy.adapters.json_adapter: Failed to use structured output format, falling back to JSON mode.\n",
      "2025/07/19 17:21:43 ERROR dspy.utils.parallelizer: Error for Example({'claim': 'This equatorial island is known for Breacachadh which is also known as Breachacha Castle. It is also home to Dùn Dubh.', 'titles': ['Dùn Dubh', 'Breachacha Castle', 'Coll']}) (input_keys={'claim'}): litellm.RateLimitError: RateLimitError: Together_aiException - Request was rejected due to request rate limiting. Your rate limits are 60 RPM (1 QPS) and 60000 TPM (1000 TPS). See details: https://docs.together.ai/docs/rate-limits. Set `provide_traceback=True` for traceback.\n"
     ]
    },
    {
     "name": "stdout",
     "output_type": "stream",
     "text": [
      "Average Metric: 7.67 / 11 (69.7%):  30%|███       | 24/80 [00:45<01:13,  1.32s/it]"
     ]
    },
    {
     "name": "stderr",
     "output_type": "stream",
     "text": [
      "2025/07/19 17:21:45 WARNING dspy.adapters.json_adapter: Failed to use structured output format, falling back to JSON mode.\n"
     ]
    },
    {
     "name": "stdout",
     "output_type": "stream",
     "text": [
      "Average Metric: 8.00 / 12 (66.7%):  31%|███▏      | 25/80 [00:47<01:22,  1.50s/it]"
     ]
    },
    {
     "name": "stderr",
     "output_type": "stream",
     "text": [
      "2025/07/19 17:21:48 WARNING dspy.adapters.json_adapter: Failed to use structured output format, falling back to JSON mode.\n",
      "2025/07/19 17:21:49 ERROR dspy.utils.parallelizer: Error for Example({'claim': \"Daniel Boone's trail ran through Arcadia, Tennessee in 1775. This unofficial trail, which leads into Kentucky, was near one of locales of the Green-Jones War. It was turned down to become the National Road.\", 'titles': ['Wilderness Road', 'Arcadia, Tennessee', 'Greene–Jones War']}) (input_keys={'claim'}): litellm.RateLimitError: RateLimitError: Together_aiException - Request was rejected due to request rate limiting. Your rate limits are 60 RPM (1 QPS) and 60000 TPM (1000 TPS). See details: https://docs.together.ai/docs/rate-limits. Set `provide_traceback=True` for traceback.\n"
     ]
    },
    {
     "name": "stdout",
     "output_type": "stream",
     "text": [
      "Average Metric: 8.00 / 12 (66.7%):  32%|███▎      | 26/80 [00:51<02:01,  2.25s/it]"
     ]
    },
    {
     "name": "stderr",
     "output_type": "stream",
     "text": [
      "2025/07/19 17:21:52 WARNING dspy.adapters.json_adapter: Failed to use structured output format, falling back to JSON mode.\n"
     ]
    },
    {
     "name": "stdout",
     "output_type": "stream",
     "text": [
      "Average Metric: 8.00 / 13 (61.5%):  34%|███▍      | 27/80 [00:55<02:24,  2.72s/it]"
     ]
    },
    {
     "name": "stderr",
     "output_type": "stream",
     "text": [
      "2025/07/19 17:21:53 WARNING dspy.adapters.json_adapter: Failed to use structured output format, falling back to JSON mode.\n",
      "2025/07/19 17:21:55 ERROR dspy.utils.parallelizer: Error for Example({'claim': 'Danyang, Jiangusu and this city are both cities in China. This city was the birthplace of Chen Xiuke.', 'titles': ['Danyang, Jiangsu', 'Dongfang, Hainan', 'Chen Xiuke']}) (input_keys={'claim'}): litellm.RateLimitError: RateLimitError: Together_aiException - Request was rejected due to request rate limiting. Your rate limits are 60 RPM (1 QPS) and 60000 TPM (1000 TPS). See details: https://docs.together.ai/docs/rate-limits. Set `provide_traceback=True` for traceback.\n"
     ]
    },
    {
     "name": "stdout",
     "output_type": "stream",
     "text": [
      "Average Metric: 8.67 / 14 (61.9%):  35%|███▌      | 28/80 [00:57<02:14,  2.58s/it]"
     ]
    },
    {
     "name": "stderr",
     "output_type": "stream",
     "text": [
      "2025/07/19 17:21:57 ERROR dspy.utils.parallelizer: Error for Example({'claim': 'The actor, who starred in the thriller 400 Boys, plays Marilyn Monroe in a film based on the novel \"Northern Lights\".', 'titles': ['Charlie Rowe', '400 Boys', 'The Golden Compass (film)']}) (input_keys={'claim'}): litellm.RateLimitError: RateLimitError: Together_aiException - Request was rejected due to request rate limiting. Your rate limits are 60 RPM (1 QPS) and 60000 TPM (1000 TPS). See details: https://docs.together.ai/docs/rate-limits. Set `provide_traceback=True` for traceback.\n"
     ]
    },
    {
     "name": "stdout",
     "output_type": "stream",
     "text": [
      "Average Metric: 8.67 / 14 (61.9%):  38%|███▊      | 30/80 [01:00<01:34,  1.89s/it]"
     ]
    },
    {
     "name": "stderr",
     "output_type": "stream",
     "text": [
      "2025/07/19 17:21:58 ERROR dspy.utils.parallelizer: Error for Example({'claim': '\"Licence Revoked\" was the original title during production of a war film that has the actor from Maniac Cop 2. The actor stars as villain Franz Sanchez in \"Licence Revoked\".', 'titles': ['Licence to Kill', 'Robert Davi', 'Maniac Cop 2']}) (input_keys={'claim'}): Both structured output format and JSON mode failed. Please choose a model that supports `response_format` argument. Original error: litellm.RateLimitError: RateLimitError: Together_aiException - Request was rejected due to request rate limiting. Your rate limits are 60 RPM (1 QPS) and 60000 TPM (1000 TPS). See details: https://docs.together.ai/docs/rate-limits. Set `provide_traceback=True` for traceback.\n"
     ]
    },
    {
     "name": "stdout",
     "output_type": "stream",
     "text": [
      "Average Metric: 9.00 / 15 (60.0%):  40%|████      | 32/80 [01:01<01:12,  1.51s/it]"
     ]
    },
    {
     "name": "stderr",
     "output_type": "stream",
     "text": [
      "2025/07/19 17:21:59 WARNING dspy.adapters.json_adapter: Failed to use structured output format, falling back to JSON mode.\n",
      "2025/07/19 17:22:02 ERROR dspy.utils.parallelizer: Error for Example({'claim': 'This character as featured in the comic book, Hellblazer Special: Bad Blood. He is  is the fictional antihero from comic books published by DC Comics, who sometimes acts as a cab driver, and was created by Alan Moore, Steve Bissette, and John Totleben.', 'titles': ['Chas Chandler (comics)', 'Hellblazer Special: Bad Blood', 'John Constantine']}) (input_keys={'claim'}): Both structured output format and JSON mode failed. Please choose a model that supports `response_format` argument. Original error: litellm.RateLimitError: RateLimitError: Together_aiException - Request was rejected due to request rate limiting. Your rate limits are 60 RPM (1 QPS) and 60000 TPM (1000 TPS). See details: https://docs.together.ai/docs/rate-limits. Set `provide_traceback=True` for traceback.\n"
     ]
    },
    {
     "name": "stdout",
     "output_type": "stream",
     "text": [
      "Average Metric: 9.67 / 16 (60.4%):  42%|████▎     | 34/80 [01:06<01:28,  1.92s/it]"
     ]
    },
    {
     "name": "stderr",
     "output_type": "stream",
     "text": [
      "2025/07/19 17:22:06 ERROR dspy.utils.parallelizer: Error for Example({'claim': \"The MTV show that was hosted by a member of this band, whom Street Music artist and American hip hop musician Defari was part of, was You Can't See Me.\", 'titles': ['Likwit Crew', 'Street Music', 'Xzibit']}) (input_keys={'claim'}): litellm.RateLimitError: RateLimitError: Together_aiException - Request was rejected due to request rate limiting. Your rate limits are 60 RPM (1 QPS) and 60000 TPM (1000 TPS). See details: https://docs.together.ai/docs/rate-limits. Set `provide_traceback=True` for traceback.\n"
     ]
    },
    {
     "name": "stdout",
     "output_type": "stream",
     "text": [
      "Average Metric: 9.67 / 16 (60.4%):  44%|████▍     | 35/80 [01:08<01:28,  1.97s/it]"
     ]
    },
    {
     "name": "stderr",
     "output_type": "stream",
     "text": [
      "2025/07/19 17:22:06 ERROR dspy.utils.parallelizer: Error for Example({'claim': 'The owner of Tatoosh (yacht) has a sister named Jo Lynn \"Jody\". He is an South African business magnate, investor and philanthropist.', 'titles': ['Jody Allen', 'Paul Allen', 'Tatoosh (yacht)']}) (input_keys={'claim'}): litellm.RateLimitError: RateLimitError: Together_aiException - Request was rejected due to request rate limiting. Your rate limits are 60 RPM (1 QPS) and 60000 TPM (1000 TPS). See details: https://docs.together.ai/docs/rate-limits. Set `provide_traceback=True` for traceback.\n"
     ]
    },
    {
     "name": "stdout",
     "output_type": "stream",
     "text": [
      "Average Metric: 9.67 / 16 (60.4%):  44%|████▍     | 35/80 [01:08<01:28,  1.97s/it]"
     ]
    },
    {
     "name": "stderr",
     "output_type": "stream",
     "text": [
      "2025/07/19 17:22:06 ERROR dspy.utils.parallelizer: Error for Example({'claim': 'The actress that starred as a parent in Sky High (2005 film) is married to John Travolta. She also starred in a summer 1994 film about a pregnant woman who is stranded at a trading post during the American Civil War.', 'titles': ['Sky High (2005 film)', 'Cheyenne Warrior', 'Kelly Preston']}) (input_keys={'claim'}): litellm.RateLimitError: RateLimitError: Together_aiException - Request was rejected due to request rate limiting. Your rate limits are 60 RPM (1 QPS) and 60000 TPM (1000 TPS). See details: https://docs.together.ai/docs/rate-limits. Set `provide_traceback=True` for traceback.\n"
     ]
    },
    {
     "name": "stdout",
     "output_type": "stream",
     "text": [
      "Average Metric: 9.67 / 16 (60.4%):  46%|████▋     | 37/80 [01:08<00:48,  1.14s/it]"
     ]
    },
    {
     "name": "stderr",
     "output_type": "stream",
     "text": [
      "2025/07/19 17:22:08 WARNING dspy.adapters.json_adapter: Failed to use structured output format, falling back to JSON mode.\n"
     ]
    },
    {
     "name": "stdout",
     "output_type": "stream",
     "text": [
      "Average Metric: 10.33 / 17 (60.8%):  48%|████▊     | 38/80 [01:10<00:56,  1.35s/it]"
     ]
    },
    {
     "name": "stderr",
     "output_type": "stream",
     "text": [
      "2025/07/19 17:22:08 ERROR dspy.utils.parallelizer: Error for Example({'claim': 'This Greek poet was born before Cornel West. His works were translated to English by David Connolly.', 'titles': ['David Connolly (translator)', 'Odysseas Elytis', 'Cornel West']}) (input_keys={'claim'}): litellm.RateLimitError: RateLimitError: Together_aiException - Request was rejected due to request rate limiting. Your rate limits are 60 RPM (1 QPS) and 60000 TPM (1000 TPS). See details: https://docs.together.ai/docs/rate-limits. Set `provide_traceback=True` for traceback.\n"
     ]
    },
    {
     "name": "stdout",
     "output_type": "stream",
     "text": [
      "Average Metric: 10.33 / 17 (60.8%):  49%|████▉     | 39/80 [01:11<00:42,  1.03s/it]"
     ]
    },
    {
     "name": "stderr",
     "output_type": "stream",
     "text": [
      "2025/07/19 17:22:10 ERROR dspy.utils.parallelizer: Error for Example({'claim': 'Brady Seals has released more solo albums than the rapper who Avril Lavigne featured on the song Get Over Me with.', 'titles': ['Nick Carter (musician)', 'Brady Seals', 'Get Over Me']}) (input_keys={'claim'}): litellm.RateLimitError: RateLimitError: Together_aiException - Request was rejected due to request rate limiting. Your rate limits are 60 RPM (1 QPS) and 60000 TPM (1000 TPS). See details: https://docs.together.ai/docs/rate-limits. Set `provide_traceback=True` for traceback.\n"
     ]
    },
    {
     "name": "stdout",
     "output_type": "stream",
     "text": [
      "Average Metric: 10.33 / 17 (60.8%):  50%|█████     | 40/80 [01:12<00:49,  1.24s/it]"
     ]
    },
    {
     "name": "stderr",
     "output_type": "stream",
     "text": [
      "2025/07/19 17:22:12 ERROR dspy.utils.parallelizer: Error for Example({'claim': 'This series developer created T-Dog on the Walking Dead. He is the Hungarian-born US film director renowned for adapting Stephen King novellas to the screen, including The Mist and The Green Mile.', 'titles': ['The Mist (film)', 'Frank Darabont', 'T-Dog (The Walking Dead)']}) (input_keys={'claim'}): litellm.RateLimitError: RateLimitError: Together_aiException - Request was rejected due to request rate limiting. Your rate limits are 60 RPM (1 QPS) and 60000 TPM (1000 TPS). See details: https://docs.together.ai/docs/rate-limits. Set `provide_traceback=True` for traceback.\n"
     ]
    },
    {
     "name": "stdout",
     "output_type": "stream",
     "text": [
      "Average Metric: 10.33 / 17 (60.8%):  51%|█████▏    | 41/80 [01:14<00:54,  1.39s/it]"
     ]
    },
    {
     "name": "stderr",
     "output_type": "stream",
     "text": [
      "2025/07/19 17:22:12 ERROR dspy.utils.parallelizer: Error for Example({'claim': 'The star of Nothing to Report and Gary Barlow have a profession in common.', 'titles': ['Gary Barlow', 'Chris Jericho', 'Nothing to Report']}) (input_keys={'claim'}): litellm.RateLimitError: RateLimitError: Together_aiException - Request was rejected due to request rate limiting. Your rate limits are 60 RPM (1 QPS) and 60000 TPM (1000 TPS). See details: https://docs.together.ai/docs/rate-limits. Set `provide_traceback=True` for traceback.\n"
     ]
    },
    {
     "name": "stdout",
     "output_type": "stream",
     "text": [
      "Average Metric: 11.00 / 18 (61.1%):  54%|█████▍    | 43/80 [01:21<01:35,  2.58s/it]"
     ]
    },
    {
     "name": "stderr",
     "output_type": "stream",
     "text": [
      "2025/07/19 17:22:23 ERROR dspy.utils.parallelizer: Error for Example({'claim': 'The American actress voices a character in King of the Hill, which is also American. She also wrote the song Tiggy is famous for remixing.', 'titles': ['Sandy Fox', 'King of the Hill', 'Tiggy']}) (input_keys={'claim'}): litellm.RateLimitError: RateLimitError: Together_aiException - Request was rejected due to request rate limiting. Your rate limits are 60 RPM (1 QPS) and 60000 TPM (1000 TPS). See details: https://docs.together.ai/docs/rate-limits. Set `provide_traceback=True` for traceback.\n"
     ]
    },
    {
     "name": "stdout",
     "output_type": "stream",
     "text": [
      "Average Metric: 11.00 / 18 (61.1%):  55%|█████▌    | 44/80 [01:25<01:48,  3.01s/it]"
     ]
    },
    {
     "name": "stderr",
     "output_type": "stream",
     "text": [
      "2025/07/19 17:22:23 ERROR dspy.utils.parallelizer: Error for Example({'claim': 'This American composer composed Troubled Island. He was born in 1895 was married to his frequent collaborator Verna Arvey.', 'titles': ['William Grant Still', 'A Bayou Legend', 'Troubled Island']}) (input_keys={'claim'}): litellm.RateLimitError: RateLimitError: Together_aiException - Request was rejected due to request rate limiting. Your rate limits are 60 RPM (1 QPS) and 60000 TPM (1000 TPS). See details: https://docs.together.ai/docs/rate-limits. Set `provide_traceback=True` for traceback.\n"
     ]
    },
    {
     "name": "stdout",
     "output_type": "stream",
     "text": [
      "Average Metric: 11.00 / 18 (61.1%):  56%|█████▋    | 45/80 [01:26<01:21,  2.34s/it]"
     ]
    },
    {
     "name": "stderr",
     "output_type": "stream",
     "text": [
      "2025/07/19 17:22:25 ERROR dspy.utils.parallelizer: Error for Example({'claim': 'Dairy Farm International holdings is a member of a British company. This British company whose majority of business interests are in Asia is related to the London Based Trading house Matheson & Company.', 'titles': ['Dairy Farm International Holdings', 'Matheson &amp; Company', 'Jardine Matheson']}) (input_keys={'claim'}): litellm.RateLimitError: RateLimitError: Together_aiException - Request was rejected due to request rate limiting. Your rate limits are 60 RPM (1 QPS) and 60000 TPM (1000 TPS). See details: https://docs.together.ai/docs/rate-limits. Set `provide_traceback=True` for traceback.\n"
     ]
    },
    {
     "name": "stdout",
     "output_type": "stream",
     "text": [
      "Average Metric: 11.00 / 18 (61.1%):  57%|█████▊    | 46/80 [01:27<01:10,  2.06s/it]"
     ]
    },
    {
     "name": "stderr",
     "output_type": "stream",
     "text": [
      "2025/07/19 17:22:25 WARNING dspy.adapters.json_adapter: Failed to use structured output format, falling back to JSON mode.\n"
     ]
    },
    {
     "name": "stdout",
     "output_type": "stream",
     "text": [
      "Average Metric: 11.67 / 19 (61.4%):  59%|█████▉    | 47/80 [01:27<00:49,  1.49s/it]"
     ]
    },
    {
     "name": "stderr",
     "output_type": "stream",
     "text": [
      "2025/07/19 17:22:29 ERROR dspy.utils.parallelizer: Error for Example({'claim': 'Cork has several third level colleges including NMIO, the Crawford College of Art and Design and one other. The 2016 population of the county where the other school is located was 542,196.', 'titles': ['Education in Cork', 'National Maritime College of Ireland', 'County Cork']}) (input_keys={'claim'}): litellm.RateLimitError: RateLimitError: Together_aiException - Request was rejected due to request rate limiting. Your rate limits are 60 RPM (1 QPS) and 60000 TPM (1000 TPS). See details: https://docs.together.ai/docs/rate-limits. Set `provide_traceback=True` for traceback.\n"
     ]
    },
    {
     "name": "stdout",
     "output_type": "stream",
     "text": [
      "Average Metric: 11.67 / 19 (61.4%):  60%|██████    | 48/80 [01:31<01:09,  2.16s/it]"
     ]
    },
    {
     "name": "stderr",
     "output_type": "stream",
     "text": [
      "2025/07/19 17:22:29 ERROR dspy.utils.parallelizer: Error for Example({'claim': 'The kind of dog Banana Joe V Tani Kazari is and Villanuco de Las Encartaciones are not both breeds of dog.', 'titles': ['Affenpinscher', 'German Pinscher', 'Villanuco de Las Encartaciones']}) (input_keys={'claim'}): litellm.RateLimitError: RateLimitError: Together_aiException - Request was rejected due to request rate limiting. Your rate limits are 60 RPM (1 QPS) and 60000 TPM (1000 TPS). See details: https://docs.together.ai/docs/rate-limits. Set `provide_traceback=True` for traceback.\n"
     ]
    },
    {
     "name": "stdout",
     "output_type": "stream",
     "text": [
      "Average Metric: 12.00 / 20 (60.0%):  62%|██████▎   | 50/80 [01:31<00:37,  1.23s/it]"
     ]
    },
    {
     "name": "stderr",
     "output_type": "stream",
     "text": [
      "2025/07/19 17:22:30 ERROR dspy.utils.parallelizer: Error for Example({'claim': 'The father of director Guðný Halldórsdóttir and Timothy Leary are not from the same place.', 'titles': ['Halldór Laxness', 'Timothy Leary', 'Guðný Halldórsdóttir']}) (input_keys={'claim'}): litellm.RateLimitError: RateLimitError: Together_aiException - Request was rejected due to request rate limiting. Your rate limits are 60 RPM (1 QPS) and 60000 TPM (1000 TPS). See details: https://docs.together.ai/docs/rate-limits. Set `provide_traceback=True` for traceback.\n"
     ]
    },
    {
     "name": "stdout",
     "output_type": "stream",
     "text": [
      "Average Metric: 12.00 / 20 (60.0%):  64%|██████▍   | 51/80 [01:32<00:33,  1.15s/it]"
     ]
    },
    {
     "name": "stderr",
     "output_type": "stream",
     "text": [
      "2025/07/19 17:22:31 ERROR dspy.utils.parallelizer: Error for Example({'claim': 'Fredric March costarred in 1935 Australian drama film that Frances Drake is best know for, with the husband of Elsa Lanchester.', 'titles': ['Frances Drake', 'Charles Laughton', 'Les Misérables (1935 film)']}) (input_keys={'claim'}): litellm.RateLimitError: RateLimitError: Together_aiException - Request was rejected due to request rate limiting. Your rate limits are 60 RPM (1 QPS) and 60000 TPM (1000 TPS). See details: https://docs.together.ai/docs/rate-limits. Set `provide_traceback=True` for traceback.\n"
     ]
    },
    {
     "name": "stdout",
     "output_type": "stream",
     "text": [
      "Average Metric: 12.00 / 20 (60.0%):  65%|██████▌   | 52/80 [01:33<00:30,  1.10s/it]"
     ]
    },
    {
     "name": "stderr",
     "output_type": "stream",
     "text": [
      "2025/07/19 17:22:33 WARNING dspy.adapters.json_adapter: Failed to use structured output format, falling back to JSON mode.\n"
     ]
    },
    {
     "name": "stdout",
     "output_type": "stream",
     "text": [
      "Average Metric: 12.00 / 21 (57.1%):  66%|██████▋   | 53/80 [01:41<01:22,  3.07s/it]"
     ]
    },
    {
     "name": "stderr",
     "output_type": "stream",
     "text": [
      "2025/07/19 17:22:40 WARNING dspy.adapters.json_adapter: Failed to use structured output format, falling back to JSON mode.\n",
      "2025/07/19 17:22:40 ERROR dspy.utils.parallelizer: Error for Example({'claim': \"Tom Kristensen won the Nation's Cup with Petter Solberg in Bushy Park, Barbados in August 1993. He also won the 24 Hours of Le Mans nine times.\", 'titles': ['Tom Kristensen (racing driver)', 'Bushy Park, Barbados', '2014 Race of Champions']}) (input_keys={'claim'}): litellm.RateLimitError: RateLimitError: Together_aiException - Request was rejected due to request rate limiting. Your rate limits are 60 RPM (1 QPS) and 60000 TPM (1000 TPS). See details: https://docs.together.ai/docs/rate-limits. Set `provide_traceback=True` for traceback.\n"
     ]
    },
    {
     "name": "stdout",
     "output_type": "stream",
     "text": [
      "Average Metric: 12.00 / 21 (57.1%):  68%|██████▊   | 54/80 [01:42<01:00,  2.34s/it]"
     ]
    },
    {
     "name": "stderr",
     "output_type": "stream",
     "text": [
      "2025/07/19 17:22:41 WARNING dspy.clients.lm: LM response was truncated due to exceeding max_tokens=4000. You can inspect the latest LM interactions with `dspy.inspect_history()`. To avoid truncation, consider passing a larger max_tokens when setting up dspy.LM. You may also consider increasing the temperature (currently 0.7)  if the reason for truncation is repetition.\n",
      "2025/07/19 17:22:41 ERROR dspy.utils.parallelizer: Error for Example({'claim': 'Irish footballer, John Francis O\\'Shea, joined a company in 1950. This company made the TV movie \"The Coastwatchers\"', 'titles': [\"John O'Shea\", 'Pacific Films', 'The Coastwatchers (TV movie)']}) (input_keys={'claim'}): Adapter JSONAdapter failed to parse the LM response. \n",
      "\n",
      "LM Response: {\n",
      "  \"next_thought\": \"I need to find information about the company John Francis O'Shea joined in 1950 to determine if it is related to the production of the TV movie \"     ,\", and verify the claim. The company could be a film production company, and looking up information on Wikipedia may provide relevant details about the company and the movie's production team or crew members with the same name as the claimant. I will start by searching for the company on Wikipedia to gather more information about it and its connection to the movie production.\\n\\nI will also search for any information on John Francis O'Shea, an Irish footballer, to see if he was involved in any other capacities with the same company or in the production of this movie. This may help confirm or refute the claim made in the initial statement.\\n\\nThe company could be a film production company, and looking up information on Wikipedia may provide relevant details about the company and the movie's production team or crew members with the same name as the claimant. I will start by searching for the company on Wikipedia to gather more information about it and its connection to the movie production.\\n\\nI will also search for any information on John Francis O'Shea, an Irish footballer, to see if he was involved in any other capacities with the same company or in the production of this movie. This may help confirm or refute the claim made in the initial statement.\\n\\nThe company could be a film production company, and looking up information on Wikipedia may provide relevant details about the company and the movie's production team or crew members with the same name as the claimant. I will start by searching for the company on Wikipedia to gather more information about it and its connection to the movie production.\\n\\nI will also search for any information on John Francis O'Shea, an Irish footballer, to see if he was involved in any other capacities with the same company or in the production of this movie. This may help confirm or refute the claim made in the initial statement.\\n\\nThe company could be a film production company, and looking up information on Wikipedia may provide relevant details about the company and the movie's production team or crew members with the same name as the claimant. I will start by searching for the company on Wikipedia to gather more information about it and its connection to the movie production.\\n\\nI will also search for any information on John Francis O'Shea, an Irish footballer, to see if he was involved in any other capacities with the same company or in the production of this movie. This may help confirm or refute the claim made in the initial statement.\\n\\nThe company could be a film production company, and looking up information on Wikipedia may provide relevant details about the company and the movie's production team or crew members with the same name as the claimant. I will start by searching for the company on Wikipedia to gather more information about it and its connection to the movie production.\\n\\nI will also search for any information on John Francis O'Shea, an Irish footballer, to see if he was involved in any other capacities with the same company or in the production of this movie. This may help confirm or refute the claim made in the initial statement.\\n\\nThe company could be a film production company, and looking up information on Wikipedia may provide relevant details about the company and the movie's production team or crew members with the same name as the claimant. I will start by searching for the company on Wikipedia to gather more information about it and its connection to the movie production.\\n\\nI will also search for any information on John Francis O'Shea, an Irish footballer, to see if he was involved in any other capacities with the same company or in the production of this movie. This may help confirm or refute the claim made in the initial statement.\\n\\nThe company could be a film production company, and looking up information on Wikipedia may provide relevant details about the company and the movie's production team or crew members with the same name as the claimant. I will start by searching for the company on Wikipedia to gather more information about it and its connection to the movie production.\\n\\nI will also search for any information on John Francis O'Shea, an Irish footballer, to see if he was involved in any other capacities with the same company or in the production of this movie. This may help confirm or refute the claim made in the initial statement.\\n\\nThe company could be a film production company, and looking up information on Wikipedia may provide relevant details about the company and the movie's production team or crew members with the same name as the claimant. I will start by searching for the company on Wikipedia to gather more information about it and its connection to the movie production.\\n\\nI will also search for any information on John Francis O'Shea, an Irish footballer, to see if he was involved in any other capacities with the same company or in the production of this movie. This may help confirm or refute the claim made in the initial statement.\\n\\nThe company could be a film production company, and looking up information on Wikipedia may provide relevant details about the company and the movie's production team or crew members with the same name as the claimant. I will start by searching for the company on Wikipedia to gather more information about it and its connection to the movie production.\\n\\nI will also search for any information on John Francis O'Shea, an Irish footballer, to see if he was involved in any other capacities with the same company or in the production of this movie. This may help confirm or refute the claim made in the initial statement.\\n\\nThe company could be a film production company, and looking up information on Wikipedia may provide relevant details about the company and the movie's production team or crew members with the same name as the claimant. I will start by searching for the company on Wikipedia to gather more information about it and its connection to the movie production.\\n\\nI will also search for any information on John Francis O'Shea, an Irish footballer, to see if he was involved in any other capacities with the same company or in the production of this movie. This may help confirm or refute the claim made in the initial statement.\\n\\nThe company could be a film production company, and looking up information on Wikipedia may provide relevant details about the company and the movie's production team or crew members with the same name as the claimant. I will start by searching for the company on Wikipedia to gather more information about it and its connection to the movie production.\\n\\nI will also search for any information on John Francis O'Shea, an Irish footballer, to see if he was involved in any other capacities with the same company or in the production of this movie. This may help confirm or refute the claim made in the initial statement.\\n\\nThe company could be a film production company, and looking up information on Wikipedia may provide relevant details about the company and the movie's production team or crew members with the same name as the claimant. I will start by searching for the company on Wikipedia to gather more information about it and its connection to the movie production.\\n\\nI will also search for any information on John Francis O'Shea, an Irish footballer, to see if he was involved in any other capacities with the same company or in the production of this movie. This may help confirm or refute the claim made in the initial statement.\\n\\nThe company could be a film production company, and looking up information on Wikipedia may provide relevant details about the company and the movie's production team or crew members with the same name as the claimant. I will start by searching for the company on Wikipedia to gather more information about it and its connection to the movie production.\\n\\nI will also search for any information on John Francis O'Shea, an Irish footballer, to see if he was involved in any other capacities with the same company or in the production of this movie. This may help confirm or refute the claim made in the initial statement.\\n\\nThe company could be a film production company, and looking up information on Wikipedia may provide relevant details about the company and the movie's production team or crew members with the same name as the claimant. I will start by searching for the company on Wikipedia to gather more information about it and its connection to the movie production.\\n\\nI will also search for any information on John Francis O'Shea, an Irish footballer, to see if he was involved in any other capacities with the same company or in the production of this movie. This may help confirm or refute the claim made in the initial statement.\\n\\nThe company could be a film production company, and looking up information on Wikipedia may provide relevant details about the company and the movie's production team or crew members with the same name as the claimant. I will start by searching for the company on Wikipedia to gather more information about it and its connection to the movie production.\\n\\nI will also search for any information on John Francis O'Shea, an Irish footballer, to see if he was involved in any other capacities with the same company or in the production of this movie. This may help confirm or refute the claim made in the initial statement.\\n\\nThe company could be a film production company, and looking up information on Wikipedia may provide relevant details about the company and the movie's production team or crew members with the same name as the claimant. I will start by searching for the company on Wikipedia to gather more information about it and its connection to the movie production.\\n\\nI will also search for any information on John Francis O'Shea, an Irish footballer, to see if he was involved in any other capacities with the same company or in the production of this movie. This may help confirm or refute the claim made in the initial statement.\\n\\nThe company could be a film production company, and looking up information on Wikipedia may provide relevant details about the company and the movie's production team or crew members with the same name as the claimant. I will start by searching for the company on Wikipedia to gather more information about it and its connection to the movie production.\\n\\nI will also search for any information on John Francis O'Shea, an Irish footballer, to see if he was involved in any other capacities with the same company or in the production of this movie. This may help confirm or refute the claim made in the initial statement.\\n\\nThe company could be a film production company, and looking up information on Wikipedia may provide relevant details about the company and the movie's production team or crew members with the same name as the claimant. I will start by searching for the company on Wikipedia to gather more information about it and its connection to the movie production.\\n\\nI will also search for any information on John Francis O'Shea, an Irish footballer, to see if he was involved in any other capacities with the same company or in the production of this movie. This may help confirm or refute the claim made in the initial statement.\\n\\nThe company could be a film production company, and looking up information on Wikipedia may provide relevant details about the company and the movie's production team or crew members with the same name as the claimant. I will start by searching for the company on Wikipedia to gather more information about it and its connection to the movie production.\\n\\nI will also search for any information on John Francis O'Shea, an Irish footballer, to see if he was involved in any other capacities with the same company or in the production of this movie. This may help confirm or refute the claim made in the initial statement.\\n\\nThe company could be a film production company, and looking up information on Wikipedia may provide relevant details about the company and the movie's production team or crew members with the same name as the claimant. I will start by searching for the company on Wikipedia to gather more information about it and its connection to the movie production.\\n\\nI will also search for any information on John Francis O'Shea, an Irish footballer, to see if he was involved in any other capacities with the same company or in the production of this movie. This may help confirm or refute the claim made in the initial statement.\\n\\nThe company could be a film production company, and looking up information on Wikipedia may provide relevant details about the company and the movie's production team or crew members with the same name as the claimant. I will start by searching for the company on Wikipedia to gather more information about it and its connection to the movie production.\\n\\nI will also search for any information on John Francis O'Shea, an Irish footballer, to see if he was involved in any other capacities with the same company or in the production of this movie. This may help confirm or refute the claim made in the initial statement.\\n\\nThe company could be a film production company, and looking up information on Wikipedia may provide relevant details about the company and the movie's production team or crew members with the same name as the claimant. I will start by searching for the company on Wikipedia to gather more information about it and its connection to the movie production.\\n\\nI will also search for any information on John Francis O'Shea, an Irish footballer, to see if he was involved in any other capacities with the same company or in the production of this movie. This may help confirm or refute the claim made in the initial statement.\\n\\nThe company could be a film production company, and looking up information on Wikipedia may provide relevant details about the company and the movie's production team or crew members with the same name as the claimant. I will start by searching for the company on Wikipedia to gather more information about it and its connection to the movie production.\\n\\nI will also search for any information on John Francis O'Shea, an Irish footballer, to see if he was involved in any other capacities with the same company or in the production of this movie. This may help confirm or refute the claim made in the initial statement.\\n\\nThe company could be a film production company, and looking up information on Wikipedia may provide relevant details about the company and the movie's production team or crew members with the same name as the claimant. I will start by searching for the company on Wikipedia to gather more information about it and its connection to the movie production.\\n\\nI will also search for any information on John Francis O'Shea, an Irish footballer, to see if he was involved in any other capacities with the same company or in the production of this movie. This may help confirm or refute the claim made in the initial statement.\\n\\nThe company could be a film production company, and looking up information on Wikipedia may provide relevant details about the company and the movie's production team or crew members with the same name as the claimant. I will start by searching for the company on Wikipedia to gather more information about it and its connection to the movie production.\\n\\nI will also search for any information on John Francis O'Shea, an Irish footballer, to see if he was involved in any other capacities with the same company or in the production of this movie. This may help confirm or refute the claim made in the initial statement.\\n\\nThe company could be a film production company, and looking up information on Wikipedia may provide relevant details about the company and the movie's production team or crew members with the same name as the claimant. I will start by searching for the company on Wikipedia to gather more information about it and its connection to the movie production.\\n\\nI will also search for any information on John Francis O'Shea, an Irish footballer, to see if he was involved in any other capacities with the same company or in the production of this movie. This may help confirm or refute the claim made in the initial statement.\\n\\nThe company could be a film production company, and looking up information on Wikipedia may provide relevant details about the company and the movie's production team or crew members with the same name as the claimant. I will start by searching for the company on Wikipedia to gather more information about it and its connection to the movie production.\\n\\nI will also search for any information on John Francis O'Shea, an Irish footballer, to see if he was involved in any other capacities with the same company or in the production of this movie. This may help confirm or refute the claim made in the initial statement.\\n\\nThe company could be a film production company, and looking up information on Wikipedia may provide relevant details about the company and the movie's production team or crew members with the same name as the claimant. I will start by searching for the company on Wikipedia to gather more information about it and its connection to the movie production.\\n\\nI will also search for any information on John Francis O'Shea, an Irish footballer, to see if he was involved in any other capacities with the same company or in the production of this movie. This may help confirm or refute the claim made in the initial statement.\\n\\nThe company could be a film production company, and looking up information on Wikipedia may provide relevant details about the company and the movie's production team or crew members with the same name as the claimant. I will start by searching for the company on Wikipedia to gather more information about it and its connection to the movie production.\\n\\nI will also search for any information on John Francis O'Shea, an Irish footballer, to see if he was involved in any other capacities with the same company or in the production of this movie. This may help confirm or refute the claim made in the initial statement.\\n\\nThe company could be a film production company, and looking up information on Wikipedia may provide relevant details about the company and the movie's production team or crew members with the same name as the claimant. I will start by searching for the company on Wikipedia to gather more information about it and its connection to the movie production.\\n\\nI will also search for any information on John Francis O'Shea, an Irish footballer, to see if he was involved in any other capacities with the same company or in the production of this movie. This may help confirm or refute the claim made in the initial statement.\\n\\nThe company could be a film production company, and looking up information on Wikipedia may provide relevant details about the company and the movie's production team or crew members with the same name as the claimant. I will start by searching for the company on Wikipedia to gather more information about it and its connection to the movie production.\\n\\nI will also search for any information on John Francis O'Shea, an Irish footballer, to see if he was involved in any other capacities with the same company or in the production of this movie. This may help confirm or refute the claim made in the initial statement.\\n\\nThe company could be a film production company, and looking up information on Wikipedia may provide relevant details about the company and the movie's production team or crew members with the same name as the claimant. I will start by searching for the company on Wikipedia to gather more information about it and its connection to the movie production.\\n\\nI will also search for any information on John Francis O'Shea, an Irish footballer, to see if he was involved in any other capacities with the same company or in the production of this movie. This may help confirm or refute the claim made in the initial statement.\\n\\nThe company could be a film production company, and looking up information on Wikipedia may \n",
      "\n",
      "Expected to find output fields in the LM response: [next_thought, next_tool_name, next_tool_args] \n",
      "\n",
      "Actual output fields parsed from the LM response: [next_thought] \n",
      "\n",
      ". Set `provide_traceback=True` for traceback.\n"
     ]
    },
    {
     "name": "stdout",
     "output_type": "stream",
     "text": [
      "Average Metric: 12.00 / 21 (57.1%):  69%|██████▉   | 55/80 [01:43<00:50,  2.02s/it]"
     ]
    },
    {
     "name": "stderr",
     "output_type": "stream",
     "text": [
      "2025/07/19 17:22:41 ERROR dspy.utils.parallelizer: Error for Example({'claim': 'The novelist that wrote The Watchful Gods and Other Stories is Californian. Billie Letts is also Californian.', 'titles': ['Walter Van Tilburg Clark', 'The Watchful Gods and Other Stories', 'Billie Letts']}) (input_keys={'claim'}): Both structured output format and JSON mode failed. Please choose a model that supports `response_format` argument. Original error: litellm.RateLimitError: RateLimitError: Together_aiException - Request was rejected due to request rate limiting. Your rate limits are 60 RPM (1 QPS) and 60000 TPM (1000 TPS). See details: https://docs.together.ai/docs/rate-limits. Set `provide_traceback=True` for traceback.\n"
     ]
    },
    {
     "name": "stdout",
     "output_type": "stream",
     "text": [
      "Average Metric: 12.67 / 22 (57.6%):  71%|███████▏  | 57/80 [01:44<00:27,  1.18s/it]"
     ]
    },
    {
     "name": "stderr",
     "output_type": "stream",
     "text": [
      "2025/07/19 17:22:44 ERROR dspy.utils.parallelizer: Error for Example({'claim': 'Grand Forks International Airport is closer to the town it is near, than the airport close by to The Texas Air & Space Museum.', 'titles': ['Texas Air &amp; Space Museum', 'Rick Husband Amarillo International Airport', 'Grand Forks International Airport']}) (input_keys={'claim'}): litellm.RateLimitError: RateLimitError: Together_aiException - Request was rejected due to request rate limiting. Your rate limits are 60 RPM (1 QPS) and 60000 TPM (1000 TPS). See details: https://docs.together.ai/docs/rate-limits. Set `provide_traceback=True` for traceback.\n"
     ]
    },
    {
     "name": "stdout",
     "output_type": "stream",
     "text": [
      "Average Metric: 12.67 / 22 (57.6%):  72%|███████▎  | 58/80 [01:46<00:31,  1.45s/it]"
     ]
    },
    {
     "name": "stderr",
     "output_type": "stream",
     "text": [
      "2025/07/19 17:22:46 ERROR dspy.utils.parallelizer: Error for Example({'claim': 'An actor born in 1955 that acted in the movie that was the inspiration for Blackmail (2005 film) was nominated for Golden Globe Award.', 'titles': ['Blackmail (2005 film)', 'Ransom (1996 film)', 'Gary Sinise']}) (input_keys={'claim'}): litellm.RateLimitError: RateLimitError: Together_aiException - Request was rejected due to request rate limiting. Your rate limits are 60 RPM (1 QPS) and 60000 TPM (1000 TPS). See details: https://docs.together.ai/docs/rate-limits. Set `provide_traceback=True` for traceback.\n"
     ]
    },
    {
     "name": "stdout",
     "output_type": "stream",
     "text": [
      "Average Metric: 12.67 / 22 (57.6%):  74%|███████▍  | 59/80 [01:48<00:34,  1.66s/it]"
     ]
    },
    {
     "name": "stderr",
     "output_type": "stream",
     "text": [
      "2025/07/19 17:22:48 ERROR dspy.utils.parallelizer: Error for Example({'claim': 'Archers of Loaf is an indie band. The band who had a song called Shelf in the Room is not.', 'titles': ['Days of the New', 'Archers of Loaf', 'Shelf in the Room']}) (input_keys={'claim'}): litellm.RateLimitError: RateLimitError: Together_aiException - Request was rejected due to request rate limiting. Your rate limits are 60 RPM (1 QPS) and 60000 TPM (1000 TPS). See details: https://docs.together.ai/docs/rate-limits. Set `provide_traceback=True` for traceback.\n"
     ]
    },
    {
     "name": "stdout",
     "output_type": "stream",
     "text": [
      "Average Metric: 12.67 / 22 (57.6%):  75%|███████▌  | 60/80 [01:50<00:35,  1.79s/it]"
     ]
    },
    {
     "name": "stderr",
     "output_type": "stream",
     "text": [
      "2025/07/19 17:22:50 ERROR dspy.utils.parallelizer: Error for Example({'claim': 'There are top three sections for the hockey meeting JC Lipon placed 91st overall in. Of the top three, the one who is both a American professional ice hockey forward and an alternate captain of the Colorado Avalanche organization of the National Hockey League is Nathan MacKinnon.', 'titles': ['2013 NHL Entry Draft', 'Nathan MacKinnon', 'JC Lipon']}) (input_keys={'claim'}): litellm.RateLimitError: RateLimitError: Together_aiException - Request was rejected due to request rate limiting. Your rate limits are 60 RPM (1 QPS) and 60000 TPM (1000 TPS). See details: https://docs.together.ai/docs/rate-limits. Set `provide_traceback=True` for traceback.\n"
     ]
    },
    {
     "name": "stdout",
     "output_type": "stream",
     "text": [
      "Average Metric: 12.67 / 22 (57.6%):  75%|███████▌  | 60/80 [01:52<00:35,  1.79s/it]"
     ]
    },
    {
     "name": "stderr",
     "output_type": "stream",
     "text": [
      "2025/07/19 17:22:50 ERROR dspy.utils.parallelizer: Error for Example({'claim': 'The actor Giancarlo Giuseppe Alessandro Esposito starred in the 2016 film that also starred Olivia Luccardi. Giancarlo is best known for his portrayal of Gustavo \"Gus\" Fring on the AMC shows \"Breaking Bad\" and \"Breaking Bad\".', 'titles': ['Money Monster', 'Giancarlo Esposito', 'Olivia Luccardi']}) (input_keys={'claim'}): litellm.RateLimitError: RateLimitError: Together_aiException - Request was rejected due to request rate limiting. Your rate limits are 60 RPM (1 QPS) and 60000 TPM (1000 TPS). See details: https://docs.together.ai/docs/rate-limits. Set `provide_traceback=True` for traceback.\n"
     ]
    },
    {
     "name": "stdout",
     "output_type": "stream",
     "text": [
      "Average Metric: 12.67 / 22 (57.6%):  76%|███████▋  | 61/80 [01:52<00:37,  1.96s/it]"
     ]
    },
    {
     "name": "stderr",
     "output_type": "stream",
     "text": [
      "2025/07/19 17:22:55 WARNING dspy.adapters.json_adapter: Failed to use structured output format, falling back to JSON mode.\n",
      "2025/07/19 17:23:01 WARNING dspy.adapters.json_adapter: Failed to use structured output format, falling back to JSON mode.\n",
      "2025/07/19 17:23:03 WARNING dspy.adapters.json_adapter: Failed to use structured output format, falling back to JSON mode.\n",
      "2025/07/19 17:23:05 ERROR dspy.utils.parallelizer: Error for Example({'claim': 'Sophia Grace & Rosie featured a cover song on their Youtube channel. The pop song from is from an album released under the Syco Music and Columbia Records labels.', 'titles': ['Touch (Little Mix song)', 'Glory Days (Little Mix album)', 'Sophia Grace &amp; Rosie']}) (input_keys={'claim'}): Both structured output format and JSON mode failed. Please choose a model that supports `response_format` argument. Original error: litellm.RateLimitError: RateLimitError: Together_aiException - Request was rejected due to request rate limiting. Your rate limits are 60 RPM (1 QPS) and 60000 TPM (1000 TPS). See details: https://docs.together.ai/docs/rate-limits. Set `provide_traceback=True` for traceback.\n"
     ]
    },
    {
     "name": "stdout",
     "output_type": "stream",
     "text": [
      "Average Metric: 12.67 / 22 (57.6%):  79%|███████▉  | 63/80 [02:07<01:14,  4.39s/it]"
     ]
    },
    {
     "name": "stderr",
     "output_type": "stream",
     "text": [
      "2025/07/19 17:23:05 WARNING dspy.adapters.json_adapter: Failed to use structured output format, falling back to JSON mode.\n",
      "2025/07/19 17:23:05 WARNING dspy.adapters.json_adapter: Failed to use structured output format, falling back to JSON mode.\n"
     ]
    },
    {
     "name": "stdout",
     "output_type": "stream",
     "text": [
      "Average Metric: 13.67 / 23 (59.4%):  80%|████████  | 64/80 [02:08<00:56,  3.55s/it]"
     ]
    },
    {
     "name": "stderr",
     "output_type": "stream",
     "text": [
      "2025/07/19 17:23:06 ERROR dspy.utils.parallelizer: Error for Example({'claim': 'An actor was in the film, Focus, that was directed by Glenn Ficarra. This actor was also in the 2016 film \"White Girl\".', 'titles': ['Adrian Martinez (actor)', 'Focus (2015 film)', 'White Girl (2016 film)']}) (input_keys={'claim'}): litellm.RateLimitError: RateLimitError: Together_aiException - Request was rejected due to request rate limiting. Your rate limits are 60 RPM (1 QPS) and 60000 TPM (1000 TPS). See details: https://docs.together.ai/docs/rate-limits. Set `provide_traceback=True` for traceback.\n"
     ]
    },
    {
     "name": "stdout",
     "output_type": "stream",
     "text": [
      "Average Metric: 13.67 / 23 (59.4%):  81%|████████▏ | 65/80 [02:09<00:41,  2.80s/it]"
     ]
    },
    {
     "name": "stderr",
     "output_type": "stream",
     "text": [
      "2025/07/19 17:23:07 WARNING dspy.adapters.json_adapter: Failed to use structured output format, falling back to JSON mode.\n"
     ]
    },
    {
     "name": "stdout",
     "output_type": "stream",
     "text": [
      "Average Metric: 15.33 / 25 (61.3%):  84%|████████▍ | 67/80 [02:12<00:28,  2.23s/it]"
     ]
    },
    {
     "name": "stderr",
     "output_type": "stream",
     "text": [
      "2025/07/19 17:23:11 ERROR dspy.utils.parallelizer: Error for Example({'claim': 'Ellesmere Port Town Football Club are currently members of the league, whose current principal sponsor is the Football Conference, that Ford Motors F.C. is a part of.', 'titles': ['Ford Motors F.C.', 'West Cheshire Association Football League', 'Ellesmere Port Town F.C.']}) (input_keys={'claim'}): litellm.RateLimitError: RateLimitError: Together_aiException - Request was rejected due to request rate limiting. Your rate limits are 60 RPM (1 QPS) and 60000 TPM (1000 TPS). See details: https://docs.together.ai/docs/rate-limits. Set `provide_traceback=True` for traceback.\n"
     ]
    },
    {
     "name": "stdout",
     "output_type": "stream",
     "text": [
      "Average Metric: 15.33 / 25 (61.3%):  85%|████████▌ | 68/80 [02:13<00:23,  1.95s/it]"
     ]
    },
    {
     "name": "stderr",
     "output_type": "stream",
     "text": [
      "2025/07/19 17:23:11 ERROR dspy.utils.parallelizer: Error for Example({'claim': 'Helen Mirren, a client of the designer who designed the wedding dress of Sarah Ferguson, played Lindka in \"The Queen\".', 'titles': ['Wedding dress of Sarah Ferguson', 'Lindka Cierach', 'Helen Mirren']}) (input_keys={'claim'}): Both structured output format and JSON mode failed. Please choose a model that supports `response_format` argument. Original error: litellm.RateLimitError: RateLimitError: Together_aiException - Request was rejected due to request rate limiting. Your rate limits are 60 RPM (1 QPS) and 60000 TPM (1000 TPS). See details: https://docs.together.ai/docs/rate-limits. Set `provide_traceback=True` for traceback.\n"
     ]
    },
    {
     "name": "stdout",
     "output_type": "stream",
     "text": [
      "Average Metric: 15.33 / 25 (61.3%):  85%|████████▌ | 68/80 [02:13<00:23,  1.95s/it]"
     ]
    },
    {
     "name": "stderr",
     "output_type": "stream",
     "text": [
      "2025/07/19 17:23:11 WARNING dspy.adapters.json_adapter: Failed to use structured output format, falling back to JSON mode.\n"
     ]
    },
    {
     "name": "stdout",
     "output_type": "stream",
     "text": [
      "Average Metric: 15.67 / 26 (60.3%):  88%|████████▊ | 70/80 [02:14<00:12,  1.30s/it]"
     ]
    },
    {
     "name": "stderr",
     "output_type": "stream",
     "text": [
      "2025/07/19 17:23:12 WARNING dspy.adapters.json_adapter: Failed to use structured output format, falling back to JSON mode.\n",
      "2025/07/19 17:23:13 ERROR dspy.utils.parallelizer: Error for Example({'claim': 'The individual who played Herman Boone in Remember the Titans, and David Hewlett, are both actors.', 'titles': ['David Hewlett', 'Denzel Washington', 'Herman Boone']}) (input_keys={'claim'}): litellm.RateLimitError: RateLimitError: Together_aiException - Request was rejected due to request rate limiting. Your rate limits are 60 RPM (1 QPS) and 60000 TPM (1000 TPS). See details: https://docs.together.ai/docs/rate-limits. Set `provide_traceback=True` for traceback.\n"
     ]
    },
    {
     "name": "stdout",
     "output_type": "stream",
     "text": [
      "Average Metric: 15.67 / 26 (60.3%):  89%|████████▉ | 71/80 [02:15<00:12,  1.34s/it]"
     ]
    },
    {
     "name": "stderr",
     "output_type": "stream",
     "text": [
      "2025/07/19 17:23:13 ERROR dspy.utils.parallelizer: Error for Example({'claim': 'The writer of the song I Was Here is also a producer. He won his fourth Grammy for the song by Rihanna from the album Loud.', 'titles': ['I Was Here (song)', 'Kuk Harrell', 'Only Girl (In the World)']}) (input_keys={'claim'}): Both structured output format and JSON mode failed. Please choose a model that supports `response_format` argument. Original error: litellm.RateLimitError: RateLimitError: Together_aiException - Request was rejected due to request rate limiting. Your rate limits are 60 RPM (1 QPS) and 60000 TPM (1000 TPS). See details: https://docs.together.ai/docs/rate-limits. Set `provide_traceback=True` for traceback.\n"
     ]
    },
    {
     "name": "stdout",
     "output_type": "stream",
     "text": [
      "Average Metric: 17.33 / 28 (61.9%):  92%|█████████▎| 74/80 [02:20<00:08,  1.43s/it]"
     ]
    },
    {
     "name": "stderr",
     "output_type": "stream",
     "text": [
      "2025/07/19 17:23:18 ERROR dspy.utils.parallelizer: Error for Example({'claim': 'The elder sister of the actress that played Margaret Devlin in  The Oregon Trail (TV series) is best known for her role as the eldest Von Trapp daughter in \"Liesl\".', 'titles': ['Darleen Carr', 'The Oregon Trail (TV series)', 'Charmian Carr']}) (input_keys={'claim'}): Both structured output format and JSON mode failed. Please choose a model that supports `response_format` argument. Original error: litellm.RateLimitError: RateLimitError: Together_aiException - Request was rejected due to request rate limiting. Your rate limits are 60 RPM (1 QPS) and 60000 TPM (1000 TPS). See details: https://docs.together.ai/docs/rate-limits. Set `provide_traceback=True` for traceback.\n"
     ]
    },
    {
     "name": "stdout",
     "output_type": "stream",
     "text": [
      "Average Metric: 17.33 / 28 (61.9%):  94%|█████████▍| 75/80 [02:21<00:06,  1.27s/it]"
     ]
    },
    {
     "name": "stderr",
     "output_type": "stream",
     "text": [
      "2025/07/19 17:23:19 WARNING dspy.clients.lm: LM response was truncated due to exceeding max_tokens=4000. You can inspect the latest LM interactions with `dspy.inspect_history()`. To avoid truncation, consider passing a larger max_tokens when setting up dspy.LM. You may also consider increasing the temperature (currently 0.7)  if the reason for truncation is repetition.\n",
      "2025/07/19 17:23:19 ERROR dspy.utils.parallelizer: Error for Example({'claim': 'Passionate Love is a Korean television series starring Sung Hoon and the actress starring in a movie that was filmed in 2012.', 'titles': ['Choi Yoon-young', 'As One (film)', 'Passionate Love']}) (input_keys={'claim'}): Adapter JSONAdapter failed to parse the LM response. \n",
      "\n",
      "LM Response: {\n",
      "  \"next_thought\": \"Based on the search results, Sung Hoon starred in the 2012 film \"  ,  \"I Am the King\"  : 2012  ,  \", but the actress is not mentioned. The information needed to verify the claim has not been gathered yet. I should continue searching for the actress starring in the 2012 movie with Sung Hoon in the main role to verify the claim about the Korean television series \\\"Passionate Love\\\". I will look for the actress who starred alongside Sung Hoon in \\\"I Am the King\\\" as the actress starring in the 2012 movie that was filmed in the same year. This should give more information about the Korean television series referenced in the claim. To find the actress starring in the 2012 movie, I can use the search_wikipedia tool with a query related to the film. To confirm that the actress starred in the 2012 movie starring Sung Hoon, I can search for the information about the film with Sung Hoon in the main role and the actress in a supporting role in the movie. To gather all the necessary information, I can continue to verify the claim by finding information about the actress starring in the 2012 movie that was filmed in the same year,  and also about the Korean television series \\\"Passionate Love\\\". I should look for the information about Sung Hoon and the actress in the movie, and also about the Korean television series \\\"Passionate Love\\\". I will search for the actress who starred in the 2012 movie with Sung Hoon in the main role and the actress in a supporting role in the movie to verify the claim about the Korean television series \\\"Passionate Love\\\". I will continue to search for the information about the actress starring in the 2012 movie that was filmed in the same year, and also about the Korean television series \\\"Passionate Love\\\". I will search for the information about Sung Hoon and the actress in the movie, and also about the Korean television series \\\"Passionate Love\\\". I should look for the information about Sung Hoon and the actress in the movie, and also about the Korean television series \\\"Passionate Love\\\". I will continue to search for the information about the actress starring in the 2012 movie with Sung Hoon in the main role and the actress in a supporting role in the movie to verify the claim about the Korean television series \\\"Passionate Love\\\". I will continue to search for the information about Sung Hoon and the actress in the movie, and also about the Korean television series \\\"Passionate Love\\\". I should look for the information about Sung Hoon and the actress in the movie, and also about the Korean television series \\\"Passionate Love\\\". I will look for the actress who starred alongside Sung Hoon in \\\"I Am the King\\\" as the actress starring in the 2012 movie that was filmed in the same year. This should give more information about the Korean television series referenced in the claim. To find the actress starring in the 2012 movie, I can use the search_wikipedia tool with a query related to the film. To confirm that the actress starred in the 2012 movie starring Sung Hoon, I can search for the information about the film with Sung Hoon in the main role and the actress in a supporting role in the movie. To gather all the necessary information, I can continue to verify the claim by finding information about the actress starring in the 2012 movie that was filmed in the same year,  and also about the Korean television series \\\"Passionate Love\\\". I should look for the information about Sung Hoon and the actress in the movie, and also about the Korean television series \\\"Passionate Love\\\". I will search for the actress who starred in the 2012 movie with Sung Hoon in the main role and the actress in a supporting role in the movie to verify the claim about the Korean television series \\\"Passionate Love\\\". I will continue to search for the information about the actress starring in the 2012 movie that was filmed in the same year, and also about the Korean television series \\\"Passionate Love\\\". I will search for the information about Sung Hoon and the actress in the movie, and also about the Korean television series \\\"Passionate Love\\\". I should look for the information about Sung Hoon and the actress in the movie, and also about the Korean television series \\\"Passionate Love\\\". I will look for the actress who starred alongside Sung Hoon in \\\"I Am the King\\\" as the actress starring in the 2012 movie that was filmed in the same year. This should give more information about the Korean television series referenced in the claim. To find the actress starring in the 2012 movie, I can use the search_wikipedia tool with a query related to the film. To confirm that the actress starred in the 2012 movie starring Sung Hoon, I can search for the information about the film with Sung Hoon in the main role and the actress in a supporting role in the movie. To gather all the necessary information, I can continue to verify the claim by finding information about the actress starring in the 2012 movie that was filmed in the same year,  and also about the Korean television series \\\"Passionate Love\\\". I should look for the information about Sung Hoon and the actress in the movie, and also about the Korean television series \\\"Passionate Love\\\". I will search for the actress who starred in the 2012 movie with Sung Hoon in the main role and the actress in a supporting role in the movie to verify the claim about the Korean television series \\\"Passionate Love\\\". I will continue to search for the information about the actress starring in the 2012 movie that was filmed in the same year, and also about the Korean television series \\\"Passionate Love\\\". I will search for the information about Sung Hoon and the actress in the movie, and also about the Korean television series \\\"Passionate Love\\\". I should look for the information about Sung Hoon and the actress in the movie, and also about the Korean television series \\\"Passionate Love\\\". I will look for the actress who starred alongside Sung Hoon in \\\"I Am the King\\\" as the actress starring in the 2012 movie that was filmed in the same year. This should give more information about the Korean television series referenced in the claim. To find the actress starring in the 2012 movie, I can use the search_wikipedia tool with a query related to the film. To confirm that the actress starred in the 2012 movie starring Sung Hoon, I can search for the information about the film with Sung Hoon in the main role and the actress in a supporting role in the movie. To gather all the necessary information, I can continue to verify the claim by finding information about the actress starring in the 2012 movie that was filmed in the same year,  and also about the Korean television series \\\"Passionate Love\\\". I should look for the information about Sung Hoon and the actress in the movie, and also about the Korean television series \\\"Passionate Love\\\". I will search for the actress who starred in the 2012 movie with Sung Hoon in the main role and the actress in a supporting role in the movie to verify the claim about the Korean television series \\\"Passionate Love\\\". I will continue to search for the information about the actress starring in the 2012 movie that was filmed in the same year, and also about the Korean television series \\\"Passionate Love\\\". I will search for the information about Sung Hoon and the actress in the movie, and also about the Korean television series \\\"Passionate Love\\\". I should look for the information about Sung Hoon and the actress in the movie, and also about the Korean television series \\\"Passionate Love\\\". I will look for the actress who starred alongside Sung Hoon in \\\"I Am the King\\\" as the actress starring in the 2012 movie that was filmed in the same year. This should give more information about the Korean television series referenced in the claim. To find the actress starring in the 2012 movie, I can use the search_wikipedia tool with a query related to the film. To confirm that the actress starred in the 2012 movie starring Sung Hoon, I can search for the information about the film with Sung Hoon in the main role and the actress in a supporting role in the movie. To gather all the necessary information, I can continue to verify the claim by finding information about the actress starring in the 2012 movie that was filmed in the same year,  and also about the Korean television series \\\"Passionate Love\\\". I should look for the information about Sung Hoon and the actress in the movie, and also about the Korean television series \\\"Passionate Love\\\". I will search for the actress who starred in the 2012 movie with Sung Hoon in the main role and the actress in a supporting role in the movie to verify the claim about the Korean television series \\\"Passionate Love\\\". I will continue to search for the information about the actress starring in the 2012 movie that was filmed in the same year, and also about the Korean television series \\\"Passionate Love\\\". I will search for the information about Sung Hoon and the actress in the movie, and also about the Korean television series \\\"Passionate Love\\\". I should look for the information about Sung Hoon and the actress in the movie, and also about the Korean television series \\\"Passionate Love\\\". I will look for the actress who starred alongside Sung Hoon in \\\"I Am the King\\\" as the actress starring in the 2012 movie that was filmed in the same year. This should give more information about the Korean television series referenced in the claim. To find the actress starring in the 2012 movie, I can use the search_wikipedia tool with a query related to the film. To confirm that the actress starred in the 2012 movie starring Sung Hoon, I can search for the information about the film with Sung Hoon in the main role and the actress in a supporting role in the movie. To gather all the necessary information, I can continue to verify the claim by finding information about the actress starring in the 2012 movie that was filmed in the same year,  and also about the Korean television series \\\"Passionate Love\\\". I should look for the information about Sung Hoon and the actress in the movie, and also about the Korean television series \\\"Passionate Love\\\". I will search for the actress who starred in the 2012 movie with Sung Hoon in the main role and the actress in a supporting role in the movie to verify the claim about the Korean television series \\\"Passionate Love\\\". I will continue to search for the information about the actress starring in the 2012 movie that was filmed in the same year, and also about the Korean television series \\\"Passionate Love\\\". I will search for the information about Sung Hoon and the actress in the movie, and also about the Korean television series \\\"Passionate Love\\\". I should look for the information about Sung Hoon and the actress in the movie, and also about the Korean television series \\\"Passionate Love\\\". I will look for the actress who starred alongside Sung Hoon in \\\"I Am the King\\\" as the actress starring in the 2012 movie that was filmed in the same year. This should give more information about the Korean television series referenced in the claim. To find the actress starring in the 2012 movie, I can use the search_wikipedia tool with a query related to the film. To confirm that the actress starred in the 2012 movie starring Sung Hoon, I can search for the information about the film with Sung Hoon in the main role and the actress in a supporting role in the movie. To gather all the necessary information, I can continue to verify the claim by finding information about the actress starring in the 2012 movie that was filmed in the same year,  and also about the Korean television series \\\"Passionate Love\\\". I should look for the information about Sung Hoon and the actress in the movie, and also about the Korean television series \\\"Passionate Love\\\". I will search for the actress who starred in the 2012 movie with Sung Hoon in the main role and the actress in a supporting role in the movie to verify the claim about the Korean television series \\\"Passionate Love\\\". I will continue to search for the information about the actress starring in the 2012 movie that was filmed in the same year, and also about the Korean television series \\\"Passionate Love\\\". I will search for the information about Sung Hoon and the actress in the movie, and also about the Korean television series \\\"Passionate Love\\\". I should look for the information about Sung Hoon and the actress in the movie, and also about the Korean television series \\\"Passionate Love\\\". I will look for the actress who starred alongside Sung Hoon in \\\"I Am the King\\\" as the actress starring in the 2012 movie that was filmed in the same year. This should give more information about the Korean television series referenced in the claim. To find the actress starring in the 2012 movie, I can use the search_wikipedia tool with a query related to the film. To confirm that the actress starred in the 2012 movie starring Sung Hoon, I can search for the information about the film with Sung Hoon in the main role and the actress in a supporting role in the movie. To gather all the necessary information, I can continue to verify the claim by finding information about the actress starring in the 2012 movie that was filmed in the same year,  and also about the Korean television series \\\"Passionate Love\\\". I should look for the information about Sung Hoon and the actress in the movie, and also about the Korean television series \\\"Passionate Love\\\". I will search for the actress who starred in the 2012 movie with Sung Hoon in the main role and the actress in a supporting role in the movie to verify the claim about the Korean television series \\\"Passionate Love\\\". I will continue to search for the information about the actress starring in the 2012 movie that was filmed in the same year, and also about the Korean television series \\\"Passionate Love\\\". I will search for the information about Sung Hoon and the actress in the movie, and also about the Korean television series \\\"Passionate Love\\\". I should look for the information about Sung Hoon and the actress in the movie, and also about the Korean television series \\\"Passionate Love\\\". I will look for the actress who starred alongside Sung Hoon in \\\"I Am the King\\\" as the actress starring in the 2012 movie that was filmed in the same year. This should give more information about the Korean television series referenced in the claim. To find the actress starring in the 2012 movie, I can use the search_wikipedia tool with a query related to the film. To confirm that the actress starred in the 2012 movie starring Sung Hoon, I can search for the information about the film with Sung Hoon in the main role and the actress in a supporting role in the movie. To gather all the necessary information, I can continue to verify the claim by finding information about the actress starring in the 2012 movie that was filmed in the same year,  and also about the Korean television series \\\"Passionate Love\\\". I should look for the information about Sung Hoon and the actress in the movie, and also about the Korean television series \\\"Passionate Love\\\". I will search for the actress who starred in the 2012 movie with Sung Hoon in the main role and the actress in a supporting role in the movie to verify the claim about the Korean television series \\\"Passionate Love\\\". I will continue to search for the information about the actress starring in the 2012 movie that was filmed in the same year, and also about the Korean television series \\\"Passionate Love\\\". I will search for the information about Sung Hoon and the actress in the movie, and also about the Korean television series \\\"Passionate Love\\\". I should look for the information about Sung Hoon and the actress in the movie, and also about the Korean television series \\\"Passionate Love\\\". I will look for the actress who starred alongside Sung Hoon in \\\"I Am the King\\\" as the actress starring in the 2012 movie that was filmed in the same year. This should give more information about the Korean television series referenced in the claim. To find the actress starring in the 2012 movie, I can use the search_wikipedia tool with a query related to the film. To confirm that the actress starred in the 2012 movie starring Sung Hoon, I can search for the information about the film with Sung Hoon in the main role and the actress in a supporting role in the movie. To gather all the necessary information, I can continue to verify the claim by finding information about the actress starring in the 2012 movie that was filmed in the same year,  and also about the Korean television series \\\"Passionate Love\\\". I should look for the information about Sung Hoon and the actress in the movie, and also about the Korean television series \\\"Passionate Love\\\". I will search for the actress who starred in the 2012 movie with Sung Hoon in the main role and the actress in a supporting role in the movie to verify the claim about the Korean television series \\\"Passionate Love\\\". I will continue to search for the information about the actress starring in the 2012 movie that was filmed in the same year, and also about the Korean television series \\\"Passionate Love\\\". I will search for the information about Sung Hoon and the actress in the movie, and also about the Korean television series \\\"Passionate Love\\\". I should look for the information about Sung Hoon and the actress in the movie, and also about the Korean television series \\\"Passionate Love\\\". I will look for the actress who starred alongside Sung Hoon in \\\"I Am the King\\\" as the actress starring in the 2012 movie that was filmed in the same year. This should give more information about the Korean television series referenced in the claim. To find the actress starring in the 2012 movie, I can use the search_wikipedia tool with a query related to the film. To confirm that the actress starred in the 2012 movie starring Sung Hoon, I can search for the information about the film with Sung Hoon in the main role and the actress in a supporting role in the movie. To gather all the necessary information, I can continue to verify the claim by finding information about the actress starring in the 2012 movie that was filmed in the same year,  and also about the Korean television series \\\"Passionate Love\\\". I should look for the information about Sung Hoon and the actress in the movie, and also about the Korean television series \\\"Passionate Love\\\". I will search for the actress who starred in the 2012 movie with Sung Hoon in the main role and the actress in a supporting role in the movie to verify the claim about the Korean television series \\\"Passionate Love\\\". I will continue to search for the information about the actress starring in the 2012 movie that was filmed in the same year, and also about the Korean television series \\\" \n",
      "\n",
      "Expected to find output fields in the LM response: [next_thought, next_tool_name, next_tool_args] \n",
      "\n",
      "Actual output fields parsed from the LM response: [next_thought] \n",
      "\n",
      ". Set `provide_traceback=True` for traceback.\n"
     ]
    },
    {
     "name": "stdout",
     "output_type": "stream",
     "text": [
      "Average Metric: 17.67 / 32 (55.2%): 100%|██████████| 80/80 [02:53<00:00,  2.17s/it]"
     ]
    },
    {
     "name": "stderr",
     "output_type": "stream",
     "text": [
      "2025/07/19 17:23:51 INFO dspy.evaluate.evaluate: Average Metric: 17.666666666666664 / 80 (22.1%)\n",
      "2025/07/19 17:23:51 INFO dspy.teleprompt.mipro_optimizer_v2: \u001b[92mNew best full eval score!\u001b[0m Score: 22.08\n",
      "2025/07/19 17:23:51 INFO dspy.teleprompt.mipro_optimizer_v2: Full eval scores so far: [2.08, 22.08]\n",
      "2025/07/19 17:23:51 INFO dspy.teleprompt.mipro_optimizer_v2: Best full score so far: 22.08\n",
      "2025/07/19 17:23:51 INFO dspy.teleprompt.mipro_optimizer_v2: =======================\n",
      "2025/07/19 17:23:51 INFO dspy.teleprompt.mipro_optimizer_v2: \n",
      "\n",
      "2025/07/19 17:23:51 INFO dspy.teleprompt.mipro_optimizer_v2: == Trial 8 / 35 - Minibatch ==\n"
     ]
    },
    {
     "name": "stdout",
     "output_type": "stream",
     "text": [
      "\n",
      "  0%|          | 0/35 [00:00<?, ?it/s]"
     ]
    },
    {
     "name": "stderr",
     "output_type": "stream",
     "text": [
      "2025/07/19 17:24:07 ERROR dspy.utils.parallelizer: Error for Example({'claim': 'This equatorial island is known for Breacachadh which is also known as Breachacha Castle. It is also home to Dùn Dubh.', 'titles': ['Dùn Dubh', 'Breachacha Castle', 'Coll']}) (input_keys={'claim'}): litellm.RateLimitError: RateLimitError: Together_aiException - Request was rejected due to request rate limiting. Your rate limits are 60 RPM (1 QPS) and 60000 TPM (1000 TPS). See details: https://docs.together.ai/docs/rate-limits. Set `provide_traceback=True` for traceback.\n"
     ]
    },
    {
     "name": "stdout",
     "output_type": "stream",
     "text": [
      "Average Metric: 0.00 / 0 (0%):   0%|          | 0/35 [00:15<?, ?it/s]"
     ]
    },
    {
     "name": "stderr",
     "output_type": "stream",
     "text": [
      "2025/07/19 17:24:07 ERROR dspy.utils.parallelizer: Error for Example({'claim': 'An actor was in the film, Focus, that was directed by Glenn Ficarra. This actor was also in the 2016 film \"White Girl\".', 'titles': ['Adrian Martinez (actor)', 'Focus (2015 film)', 'White Girl (2016 film)']}) (input_keys={'claim'}): litellm.RateLimitError: RateLimitError: Together_aiException - Request was rejected due to request rate limiting. Your rate limits are 60 RPM (1 QPS) and 60000 TPM (1000 TPS). See details: https://docs.together.ai/docs/rate-limits. Set `provide_traceback=True` for traceback.\n"
     ]
    },
    {
     "name": "stdout",
     "output_type": "stream",
     "text": [
      "Average Metric: 0.00 / 0 (0%):   3%|▎         | 1/35 [00:15<09:00, 15.90s/it]"
     ]
    },
    {
     "name": "stderr",
     "output_type": "stream",
     "text": [
      "2025/07/19 17:24:07 ERROR dspy.utils.parallelizer: Error for Example({'claim': 'The founder of Legendary Entertainment produced the movie, The Hangover, which was based in Las Vegas.', 'titles': ['Legendary Entertainment', 'Thomas Tull', 'The Hangover']}) (input_keys={'claim'}): litellm.RateLimitError: RateLimitError: Together_aiException - Request was rejected due to request rate limiting. Your rate limits are 60 RPM (1 QPS) and 60000 TPM (1000 TPS). See details: https://docs.together.ai/docs/rate-limits. Set `provide_traceback=True` for traceback.\n"
     ]
    },
    {
     "name": "stdout",
     "output_type": "stream",
     "text": [
      "Average Metric: 0.00 / 0 (0%):   6%|▌         | 2/35 [00:15<08:44, 15.90s/it]"
     ]
    },
    {
     "name": "stderr",
     "output_type": "stream",
     "text": [
      "2025/07/19 17:24:08 ERROR dspy.utils.parallelizer: Error for Example({'claim': 'Mountain Dew is owned by the Pepsi-Cola company. So is the producer of orange juice founded by Anthony T. Rossi.', 'titles': ['Tropicana Products', 'Anthony T. Rossi', 'Mountain Dew']}) (input_keys={'claim'}): litellm.RateLimitError: RateLimitError: Together_aiException - Request was rejected due to request rate limiting. Your rate limits are 60 RPM (1 QPS) and 60000 TPM (1000 TPS). See details: https://docs.together.ai/docs/rate-limits. Set `provide_traceback=True` for traceback.\n"
     ]
    },
    {
     "name": "stdout",
     "output_type": "stream",
     "text": [
      "Average Metric: 0.00 / 0 (0%):  11%|█▏        | 4/35 [00:16<01:39,  3.22s/it]"
     ]
    },
    {
     "name": "stderr",
     "output_type": "stream",
     "text": [
      "2025/07/19 17:24:08 ERROR dspy.utils.parallelizer: Error for Example({'claim': 'Candlelight Red the musical group has released twice as many albums as the band who also performs as One Unique Signal.', 'titles': ['Candlelight Red', 'The Telescopes', 'One Unique Signal']}) (input_keys={'claim'}): litellm.RateLimitError: RateLimitError: Together_aiException - Request was rejected due to request rate limiting. Your rate limits are 60 RPM (1 QPS) and 60000 TPM (1000 TPS). See details: https://docs.together.ai/docs/rate-limits. Set `provide_traceback=True` for traceback.\n"
     ]
    },
    {
     "name": "stdout",
     "output_type": "stream",
     "text": [
      "Average Metric: 0.00 / 0 (0%):  11%|█▏        | 4/35 [00:16<01:39,  3.22s/it]"
     ]
    },
    {
     "name": "stderr",
     "output_type": "stream",
     "text": [
      "2025/07/19 17:24:10 ERROR dspy.utils.parallelizer: Error for Example({'claim': 'Guillermo del Toro directed the film which had the man, who starred in Bone Dry alongside Lance Henriksen, play the role of Jared Nomak.', 'titles': ['Bone Dry', 'Luke Goss', 'Blade II']}) (input_keys={'claim'}): litellm.RateLimitError: RateLimitError: Together_aiException - Request was rejected due to request rate limiting. Your rate limits are 60 RPM (1 QPS) and 60000 TPM (1000 TPS). See details: https://docs.together.ai/docs/rate-limits. Set `provide_traceback=True` for traceback.\n"
     ]
    },
    {
     "name": "stdout",
     "output_type": "stream",
     "text": [
      "Average Metric: 0.00 / 0 (0%):  17%|█▋        | 6/35 [00:18<01:07,  2.32s/it]"
     ]
    },
    {
     "name": "stderr",
     "output_type": "stream",
     "text": [
      "2025/07/19 17:24:10 ERROR dspy.utils.parallelizer: Error for Example({'claim': 'Helen Mirren, a client of the designer who designed the wedding dress of Sarah Ferguson, played Lindka in \"The Queen\".', 'titles': ['Wedding dress of Sarah Ferguson', 'Lindka Cierach', 'Helen Mirren']}) (input_keys={'claim'}): litellm.RateLimitError: RateLimitError: Together_aiException - Request was rejected due to request rate limiting. Your rate limits are 60 RPM (1 QPS) and 60000 TPM (1000 TPS). See details: https://docs.together.ai/docs/rate-limits. Set `provide_traceback=True` for traceback.\n"
     ]
    },
    {
     "name": "stdout",
     "output_type": "stream",
     "text": [
      "Average Metric: 0.00 / 0 (0%):  17%|█▋        | 6/35 [00:18<01:07,  2.32s/it]"
     ]
    },
    {
     "name": "stderr",
     "output_type": "stream",
     "text": [
      "2025/07/19 17:24:10 ERROR dspy.utils.parallelizer: Error for Example({'claim': 'The member of the group Wilkes-Barre/Scranton International Airport, formed by Kenny Loggins, was aged ten when she started singing in the seventh-most populated city in the United States.', 'titles': ['Kenny Loggins', 'San Antonio', 'Georgia Middleman']}) (input_keys={'claim'}): litellm.RateLimitError: RateLimitError: Together_aiException - Request was rejected due to request rate limiting. Your rate limits are 60 RPM (1 QPS) and 60000 TPM (1000 TPS). See details: https://docs.together.ai/docs/rate-limits. Set `provide_traceback=True` for traceback.\n"
     ]
    },
    {
     "name": "stdout",
     "output_type": "stream",
     "text": [
      "Average Metric: 0.00 / 0 (0%):  20%|██        | 7/35 [00:19<01:04,  2.32s/it]"
     ]
    },
    {
     "name": "stderr",
     "output_type": "stream",
     "text": [
      "2025/07/19 17:24:10 ERROR dspy.utils.parallelizer: Error for Example({'claim': \"Tom Kristensen won the Nation's Cup with Petter Solberg in Bushy Park, Barbados in August 1993. He also won the 24 Hours of Le Mans nine times.\", 'titles': ['Tom Kristensen (racing driver)', 'Bushy Park, Barbados', '2014 Race of Champions']}) (input_keys={'claim'}): litellm.RateLimitError: RateLimitError: Together_aiException - Request was rejected due to request rate limiting. Your rate limits are 60 RPM (1 QPS) and 60000 TPM (1000 TPS). See details: https://docs.together.ai/docs/rate-limits. Set `provide_traceback=True` for traceback.\n"
     ]
    },
    {
     "name": "stdout",
     "output_type": "stream",
     "text": [
      "Average Metric: 0.00 / 0 (0%):  26%|██▌       | 9/35 [00:19<00:31,  1.22s/it]"
     ]
    },
    {
     "name": "stderr",
     "output_type": "stream",
     "text": [
      "2025/07/19 17:24:14 WARNING dspy.adapters.json_adapter: Failed to use structured output format, falling back to JSON mode.\n",
      "2025/07/19 17:24:17 WARNING dspy.adapters.json_adapter: Failed to use structured output format, falling back to JSON mode.\n",
      "2025/07/19 17:24:21 WARNING dspy.clients.lm: LM response was truncated due to exceeding max_tokens=4000. You can inspect the latest LM interactions with `dspy.inspect_history()`. To avoid truncation, consider passing a larger max_tokens when setting up dspy.LM. You may also consider increasing the temperature (currently 0.7)  if the reason for truncation is repetition.\n",
      "2025/07/19 17:24:22 ERROR dspy.utils.parallelizer: Error for Example({'claim': 'This American composer composed Troubled Island. He was born in 1895 was married to his frequent collaborator Verna Arvey.', 'titles': ['William Grant Still', 'A Bayou Legend', 'Troubled Island']}) (input_keys={'claim'}): litellm.RateLimitError: RateLimitError: Together_aiException - Request was rejected due to request rate limiting. Your rate limits are 60 RPM (1 QPS) and 60000 TPM (1000 TPS). See details: https://docs.together.ai/docs/rate-limits. Set `provide_traceback=True` for traceback.\n"
     ]
    },
    {
     "name": "stdout",
     "output_type": "stream",
     "text": [
      "Average Metric: 0.00 / 0 (0%):  26%|██▌       | 9/35 [00:31<00:31,  1.22s/it]"
     ]
    },
    {
     "name": "stderr",
     "output_type": "stream",
     "text": [
      "2025/07/19 17:24:23 ERROR dspy.utils.parallelizer: Error for Example({'claim': \"The MTV show that was hosted by a member of this band, whom Street Music artist and American hip hop musician Defari was part of, was You Can't See Me.\", 'titles': ['Likwit Crew', 'Street Music', 'Xzibit']}) (input_keys={'claim'}): Both structured output format and JSON mode failed. Please choose a model that supports `response_format` argument. Original error: litellm.RateLimitError: RateLimitError: Together_aiException - Request was rejected due to request rate limiting. Your rate limits are 60 RPM (1 QPS) and 60000 TPM (1000 TPS). See details: https://docs.together.ai/docs/rate-limits. Set `provide_traceback=True` for traceback.\n"
     ]
    },
    {
     "name": "stdout",
     "output_type": "stream",
     "text": [
      "Average Metric: 0.00 / 0 (0%):  31%|███▏      | 11/35 [00:31<01:07,  2.81s/it]"
     ]
    },
    {
     "name": "stderr",
     "output_type": "stream",
     "text": [
      "2025/07/19 17:24:24 ERROR dspy.utils.parallelizer: Error for Example({'claim': 'The director of The Moth Diaries (born January 12, 1953) was a French Canadian filmmaker who created a film about Bettie Page in 2005.', 'titles': ['The Moth Diaries (film)', 'Mary Harron', 'The Notorious Bettie Page']}) (input_keys={'claim'}): Both structured output format and JSON mode failed. Please choose a model that supports `response_format` argument. Original error: litellm.RateLimitError: RateLimitError: Together_aiException - Request was rejected due to request rate limiting. Your rate limits are 60 RPM (1 QPS) and 60000 TPM (1000 TPS). See details: https://docs.together.ai/docs/rate-limits. Set `provide_traceback=True` for traceback.\n"
     ]
    },
    {
     "name": "stdout",
     "output_type": "stream",
     "text": [
      "Average Metric: 0.00 / 0 (0%):  34%|███▍      | 12/35 [00:33<00:58,  2.55s/it]"
     ]
    },
    {
     "name": "stderr",
     "output_type": "stream",
     "text": [
      "2025/07/19 17:24:27 ERROR dspy.utils.parallelizer: Error for Example({'claim': 'The actress that starred as a parent in Sky High (2005 film) is married to John Travolta. She also starred in a summer 1994 film about a pregnant woman who is stranded at a trading post during the American Civil War.', 'titles': ['Sky High (2005 film)', 'Cheyenne Warrior', 'Kelly Preston']}) (input_keys={'claim'}): litellm.RateLimitError: RateLimitError: Together_aiException - Request was rejected due to request rate limiting. Your rate limits are 60 RPM (1 QPS) and 60000 TPM (1000 TPS). See details: https://docs.together.ai/docs/rate-limits. Set `provide_traceback=True` for traceback.\n"
     ]
    },
    {
     "name": "stdout",
     "output_type": "stream",
     "text": [
      "Average Metric: 0.00 / 0 (0%):  37%|███▋      | 13/35 [00:35<00:56,  2.57s/it]"
     ]
    },
    {
     "name": "stderr",
     "output_type": "stream",
     "text": [
      "2025/07/19 17:24:27 ERROR dspy.utils.parallelizer: Error for Example({'claim': 'The summer 2016 romantic drama \"Me Before You\" is directed by Thea Sharrock. The star of the film The Lost Future (who also appears in The Hunger Games) stars as the character Will Traynor.', 'titles': ['The Lost Future', 'Me Before You (film)', 'Sam Claflin']}) (input_keys={'claim'}): litellm.RateLimitError: RateLimitError: Together_aiException - Request was rejected due to request rate limiting. Your rate limits are 60 RPM (1 QPS) and 60000 TPM (1000 TPS). See details: https://docs.together.ai/docs/rate-limits. Set `provide_traceback=True` for traceback.\n"
     ]
    },
    {
     "name": "stdout",
     "output_type": "stream",
     "text": [
      "Average Metric: 0.00 / 0 (0%):  37%|███▋      | 13/35 [00:35<00:56,  2.57s/it]"
     ]
    },
    {
     "name": "stderr",
     "output_type": "stream",
     "text": [
      "2025/07/19 17:24:33 ERROR dspy.utils.parallelizer: Error for Example({'claim': 'Cork has several third level colleges including NMIO, the Crawford College of Art and Design and one other. The 2016 population of the county where the other school is located was 542,196.', 'titles': ['Education in Cork', 'National Maritime College of Ireland', 'County Cork']}) (input_keys={'claim'}): litellm.RateLimitError: RateLimitError: Together_aiException - Request was rejected due to request rate limiting. Your rate limits are 60 RPM (1 QPS) and 60000 TPM (1000 TPS). See details: https://docs.together.ai/docs/rate-limits. Set `provide_traceback=True` for traceback.\n"
     ]
    },
    {
     "name": "stdout",
     "output_type": "stream",
     "text": [
      "Average Metric: 0.00 / 0 (0%):  43%|████▎     | 15/35 [00:41<00:55,  2.77s/it]"
     ]
    },
    {
     "name": "stderr",
     "output_type": "stream",
     "text": [
      "2025/07/19 17:24:35 ERROR dspy.utils.parallelizer: Error for Example({'claim': 'The 1935 propaganda documentary, on which Karl Attenberger worked with Leni Riefenstahl, and The End of America were not both made in the same year.', 'titles': ['Triumph of the Will', 'The End of America (film)', 'Karl Attenberger']}) (input_keys={'claim'}): litellm.RateLimitError: RateLimitError: Together_aiException - Request was rejected due to request rate limiting. Your rate limits are 60 RPM (1 QPS) and 60000 TPM (1000 TPS). See details: https://docs.together.ai/docs/rate-limits. Set `provide_traceback=True` for traceback.\n"
     ]
    },
    {
     "name": "stdout",
     "output_type": "stream",
     "text": [
      "Average Metric: 0.00 / 0 (0%):  46%|████▌     | 16/35 [00:44<00:50,  2.66s/it]"
     ]
    },
    {
     "name": "stderr",
     "output_type": "stream",
     "text": [
      "2025/07/19 17:24:36 ERROR dspy.utils.parallelizer: Error for Example({'claim': 'Archers of Loaf is an indie band. The band who had a song called Shelf in the Room is not.', 'titles': ['Days of the New', 'Archers of Loaf', 'Shelf in the Room']}) (input_keys={'claim'}): litellm.RateLimitError: RateLimitError: Together_aiException - Request was rejected due to request rate limiting. Your rate limits are 60 RPM (1 QPS) and 60000 TPM (1000 TPS). See details: https://docs.together.ai/docs/rate-limits. Set `provide_traceback=True` for traceback.\n"
     ]
    },
    {
     "name": "stdout",
     "output_type": "stream",
     "text": [
      "Average Metric: 0.00 / 1 (0.0%):  51%|█████▏    | 18/35 [00:47<00:38,  2.28s/it]"
     ]
    },
    {
     "name": "stderr",
     "output_type": "stream",
     "text": [
      "2025/07/19 17:24:39 ERROR dspy.utils.parallelizer: Error for Example({'claim': 'The elder sister of the actress that played Margaret Devlin in  The Oregon Trail (TV series) is best known for her role as the eldest Von Trapp daughter in \"Liesl\".', 'titles': ['Darleen Carr', 'The Oregon Trail (TV series)', 'Charmian Carr']}) (input_keys={'claim'}): litellm.RateLimitError: RateLimitError: Together_aiException - Request was rejected due to request rate limiting. Your rate limits are 60 RPM (1 QPS) and 60000 TPM (1000 TPS). See details: https://docs.together.ai/docs/rate-limits. Set `provide_traceback=True` for traceback.\n"
     ]
    },
    {
     "name": "stdout",
     "output_type": "stream",
     "text": [
      "Average Metric: 0.00 / 1 (0.0%):  54%|█████▍    | 19/35 [00:47<00:28,  1.80s/it]"
     ]
    },
    {
     "name": "stderr",
     "output_type": "stream",
     "text": [
      "2025/07/19 17:24:41 ERROR dspy.utils.parallelizer: Error for Example({'claim': 'The college which the Charleston architect, hired to remodel Louis Gourd House, taught at was founded in 1770.', 'titles': ['College of Charleston', 'Louis Gourd House', 'Albert Simons']}) (input_keys={'claim'}): litellm.RateLimitError: RateLimitError: Together_aiException - Request was rejected due to request rate limiting. Your rate limits are 60 RPM (1 QPS) and 60000 TPM (1000 TPS). See details: https://docs.together.ai/docs/rate-limits. Set `provide_traceback=True` for traceback.\n"
     ]
    },
    {
     "name": "stdout",
     "output_type": "stream",
     "text": [
      "Average Metric: 0.00 / 1 (0.0%):  57%|█████▋    | 20/35 [00:50<00:28,  1.91s/it]"
     ]
    },
    {
     "name": "stderr",
     "output_type": "stream",
     "text": [
      "2025/07/19 17:24:43 ERROR dspy.utils.parallelizer: Error for Example({'claim': 'The Stanley Kubrick thriller that Nicole Kidman worked with Tom Cruise on, starring Vinessa Elizabeth Shaw, was based on the novella \"Traumnovelle\" (\"Dream Story\") .', 'titles': ['Vinessa Shaw', 'Eyes Wide Shut', 'Nicole Kidman filmography']}) (input_keys={'claim'}): litellm.RateLimitError: RateLimitError: Together_aiException - Request was rejected due to request rate limiting. Your rate limits are 60 RPM (1 QPS) and 60000 TPM (1000 TPS). See details: https://docs.together.ai/docs/rate-limits. Set `provide_traceback=True` for traceback.\n"
     ]
    },
    {
     "name": "stdout",
     "output_type": "stream",
     "text": [
      "Average Metric: 0.00 / 1 (0.0%):  60%|██████    | 21/35 [00:52<00:27,  1.94s/it]"
     ]
    },
    {
     "name": "stderr",
     "output_type": "stream",
     "text": [
      "2025/07/19 17:24:43 ERROR dspy.utils.parallelizer: Error for Example({'claim': 'Jonathan Howsmon Davis lives closer to Canada than this Japanese singer, whose fifth solo studio album is called Singing Bird.', 'titles': ['Koshi Inaba', 'Jonathan Davis', 'Singing Bird']}) (input_keys={'claim'}): litellm.RateLimitError: RateLimitError: Together_aiException - Request was rejected due to request rate limiting. Your rate limits are 60 RPM (1 QPS) and 60000 TPM (1000 TPS). See details: https://docs.together.ai/docs/rate-limits. Set `provide_traceback=True` for traceback.\n"
     ]
    },
    {
     "name": "stdout",
     "output_type": "stream",
     "text": [
      "Average Metric: 0.00 / 1 (0.0%):  60%|██████    | 21/35 [00:52<00:27,  1.94s/it]"
     ]
    },
    {
     "name": "stderr",
     "output_type": "stream",
     "text": [
      "2025/07/19 17:24:43 ERROR dspy.utils.parallelizer: Error for Example({'claim': 'Delta–Mendota Canal is an aqueduct used to divert a canal. The All-American Canal is longer than that canal.', 'titles': ['Delta–Mendota Canal', 'Madera Canal', 'All-American Canal']}) (input_keys={'claim'}): litellm.RateLimitError: RateLimitError: Together_aiException - Request was rejected due to request rate limiting. Your rate limits are 60 RPM (1 QPS) and 60000 TPM (1000 TPS). See details: https://docs.together.ai/docs/rate-limits. Set `provide_traceback=True` for traceback.\n"
     ]
    },
    {
     "name": "stdout",
     "output_type": "stream",
     "text": [
      "Average Metric: 0.00 / 1 (0.0%):  63%|██████▎   | 22/35 [00:52<00:25,  1.94s/it]"
     ]
    },
    {
     "name": "stderr",
     "output_type": "stream",
     "text": [
      "2025/07/19 17:24:44 ERROR dspy.utils.parallelizer: Error for Example({'claim': 'There are top three sections for the hockey meeting JC Lipon placed 91st overall in. Of the top three, the one who is both a American professional ice hockey forward and an alternate captain of the Colorado Avalanche organization of the National Hockey League is Nathan MacKinnon.', 'titles': ['2013 NHL Entry Draft', 'Nathan MacKinnon', 'JC Lipon']}) (input_keys={'claim'}): litellm.RateLimitError: RateLimitError: Together_aiException - Request was rejected due to request rate limiting. Your rate limits are 60 RPM (1 QPS) and 60000 TPM (1000 TPS). See details: https://docs.together.ai/docs/rate-limits. Set `provide_traceback=True` for traceback.\n"
     ]
    },
    {
     "name": "stdout",
     "output_type": "stream",
     "text": [
      "Average Metric: 0.00 / 1 (0.0%):  69%|██████▊   | 24/35 [00:53<00:11,  1.06s/it]"
     ]
    },
    {
     "name": "stderr",
     "output_type": "stream",
     "text": [
      "2025/07/19 17:24:45 ERROR dspy.utils.parallelizer: Error for Example({'claim': 'The director Jonathan Demme presented Made in Texas at a theater in Lower Manhattan which featured work from the filmmaker Dziga Vertov also known as Denis Kaufman.', 'titles': ['Collective for Living Cinema', 'Made in Texas', 'Dziga Vertov']}) (input_keys={'claim'}): litellm.RateLimitError: RateLimitError: Together_aiException - Request was rejected due to request rate limiting. Your rate limits are 60 RPM (1 QPS) and 60000 TPM (1000 TPS). See details: https://docs.together.ai/docs/rate-limits. Set `provide_traceback=True` for traceback.\n"
     ]
    },
    {
     "name": "stdout",
     "output_type": "stream",
     "text": [
      "Average Metric: 0.00 / 1 (0.0%):  71%|███████▏  | 25/35 [00:54<00:10,  1.08s/it]"
     ]
    },
    {
     "name": "stderr",
     "output_type": "stream",
     "text": [
      "2025/07/19 17:24:47 ERROR dspy.utils.parallelizer: Error for Example({'claim': 'The band Billy Anderson produces has the guitarist Gorden Mack, and the band Daughtry.', 'titles': ['Daughtry (band)', 'Billy Anderson (producer)', 'Red House Painters']}) (input_keys={'claim'}): litellm.RateLimitError: RateLimitError: Together_aiException - Request was rejected due to request rate limiting. Your rate limits are 60 RPM (1 QPS) and 60000 TPM (1000 TPS). See details: https://docs.together.ai/docs/rate-limits. Set `provide_traceback=True` for traceback.\n"
     ]
    },
    {
     "name": "stdout",
     "output_type": "stream",
     "text": [
      "Average Metric: 0.33 / 2 (16.7%):  77%|███████▋  | 27/35 [01:00<00:15,  1.92s/it]"
     ]
    },
    {
     "name": "stderr",
     "output_type": "stream",
     "text": [
      "2025/07/19 17:24:54 ERROR dspy.utils.parallelizer: Error for Example({'claim': 'Lincoln Barrett is the real name of the welsh electronic music producer DJ who have been visited the night club  in Vienna hundreds of times. The Waves of Vienna festival takes place in the same nightclub.', 'titles': ['Flex (club)', 'Waves Vienna', 'High Contrast']}) (input_keys={'claim'}): litellm.RateLimitError: RateLimitError: Together_aiException - Request was rejected due to request rate limiting. Your rate limits are 60 RPM (1 QPS) and 60000 TPM (1000 TPS). See details: https://docs.together.ai/docs/rate-limits. Set `provide_traceback=True` for traceback.\n"
     ]
    },
    {
     "name": "stdout",
     "output_type": "stream",
     "text": [
      "Average Metric: 0.33 / 2 (16.7%):  80%|████████  | 28/35 [01:02<00:14,  2.13s/it]"
     ]
    },
    {
     "name": "stderr",
     "output_type": "stream",
     "text": [
      "2025/07/19 17:24:54 ERROR dspy.utils.parallelizer: Error for Example({'claim': 'Lari Michele White is the county music artist that first gained national attention as a winner on \"You Can Be a Star\". She then went on to provide background vocals on the first single of the album, Now and Then.', 'titles': ['Lari White', 'Take It Like a Man (Michelle Wright song)', 'Now and Then (Michelle Wright album)']}) (input_keys={'claim'}): litellm.RateLimitError: RateLimitError: Together_aiException - Request was rejected due to request rate limiting. Your rate limits are 60 RPM (1 QPS) and 60000 TPM (1000 TPS). See details: https://docs.together.ai/docs/rate-limits. Set `provide_traceback=True` for traceback.\n"
     ]
    },
    {
     "name": "stdout",
     "output_type": "stream",
     "text": [
      "Average Metric: 0.33 / 2 (16.7%):  80%|████████  | 28/35 [01:02<00:14,  2.13s/it]"
     ]
    },
    {
     "name": "stderr",
     "output_type": "stream",
     "text": [
      "2025/07/19 17:24:55 ERROR dspy.utils.parallelizer: Error for Example({'claim': 'Fredric March costarred in 1935 Australian drama film that Frances Drake is best know for, with the husband of Elsa Lanchester.', 'titles': ['Frances Drake', 'Charles Laughton', 'Les Misérables (1935 film)']}) (input_keys={'claim'}): litellm.RateLimitError: RateLimitError: Together_aiException - Request was rejected due to request rate limiting. Your rate limits are 60 RPM (1 QPS) and 60000 TPM (1000 TPS). See details: https://docs.together.ai/docs/rate-limits. Set `provide_traceback=True` for traceback.\n"
     ]
    },
    {
     "name": "stdout",
     "output_type": "stream",
     "text": [
      "Average Metric: 0.33 / 2 (16.7%):  86%|████████▌ | 30/35 [01:03<00:07,  1.44s/it]"
     ]
    },
    {
     "name": "stderr",
     "output_type": "stream",
     "text": [
      "2025/07/19 17:24:57 ERROR dspy.utils.parallelizer: Error for Example({'claim': 'Ellesmere Port Town Football Club are currently members of the league, whose current principal sponsor is the Football Conference, that Ford Motors F.C. is a part of.', 'titles': ['Ford Motors F.C.', 'West Cheshire Association Football League', 'Ellesmere Port Town F.C.']}) (input_keys={'claim'}): litellm.RateLimitError: RateLimitError: Together_aiException - Request was rejected due to request rate limiting. Your rate limits are 60 RPM (1 QPS) and 60000 TPM (1000 TPS). See details: https://docs.together.ai/docs/rate-limits. Set `provide_traceback=True` for traceback.\n"
     ]
    },
    {
     "name": "stdout",
     "output_type": "stream",
     "text": [
      "Average Metric: 0.33 / 2 (16.7%):  89%|████████▊ | 31/35 [01:05<00:05,  1.49s/it]"
     ]
    },
    {
     "name": "stderr",
     "output_type": "stream",
     "text": [
      "2025/07/19 17:25:08 WARNING dspy.adapters.json_adapter: Failed to use structured output format, falling back to JSON mode.\n"
     ]
    },
    {
     "name": "stdout",
     "output_type": "stream",
     "text": [
      "Average Metric: 1.00 / 6 (16.7%): 100%|██████████| 35/35 [01:45<00:00,  3.01s/it]"
     ]
    },
    {
     "name": "stderr",
     "output_type": "stream",
     "text": [
      "2025/07/19 17:25:37 INFO dspy.evaluate.evaluate: Average Metric: 1.0 / 35 (2.9%)\n",
      "2025/07/19 17:25:37 INFO dspy.teleprompt.mipro_optimizer_v2: Score: 2.86 on minibatch of size 35 with parameters ['Predictor 0: Instruction 4', 'Predictor 0: Few-Shot Set 3', 'Predictor 1: Instruction 5', 'Predictor 1: Few-Shot Set 6'].\n",
      "2025/07/19 17:25:37 INFO dspy.teleprompt.mipro_optimizer_v2: Minibatch scores so far: [2.86, 8.57, 18.1, 14.29, 3.81, 2.86]\n",
      "2025/07/19 17:25:37 INFO dspy.teleprompt.mipro_optimizer_v2: Full eval scores so far: [2.08, 22.08]\n",
      "2025/07/19 17:25:37 INFO dspy.teleprompt.mipro_optimizer_v2: Best full score so far: 22.08\n",
      "2025/07/19 17:25:37 INFO dspy.teleprompt.mipro_optimizer_v2: =========================================\n",
      "\n",
      "\n",
      "2025/07/19 17:25:37 INFO dspy.teleprompt.mipro_optimizer_v2: == Trial 9 / 35 - Minibatch ==\n"
     ]
    },
    {
     "name": "stdout",
     "output_type": "stream",
     "text": [
      "\n",
      "  0%|          | 0/35 [00:00<?, ?it/s]"
     ]
    },
    {
     "name": "stderr",
     "output_type": "stream",
     "text": [
      "2025/07/19 17:25:53 ERROR dspy.utils.parallelizer: Error for Example({'claim': 'This equatorial island is known for Breacachadh which is also known as Breachacha Castle. It is also home to Dùn Dubh.', 'titles': ['Dùn Dubh', 'Breachacha Castle', 'Coll']}) (input_keys={'claim'}): litellm.RateLimitError: RateLimitError: Together_aiException - Request was rejected due to request rate limiting. Your rate limits are 60 RPM (1 QPS) and 60000 TPM (1000 TPS). See details: https://docs.together.ai/docs/rate-limits. Set `provide_traceback=True` for traceback.\n"
     ]
    },
    {
     "name": "stdout",
     "output_type": "stream",
     "text": [
      "Average Metric: 0.00 / 0 (0%):   0%|          | 0/35 [00:15<?, ?it/s]"
     ]
    },
    {
     "name": "stderr",
     "output_type": "stream",
     "text": [
      "2025/07/19 17:25:53 ERROR dspy.utils.parallelizer: Error for Example({'claim': 'German Frank Sinatra has won more awards than this Skinny Puppy band member, for whom the Rx (band) was a one-off side project.', 'titles': ['Frank Sinatra', 'Rx (band)', 'Nivek Ogre']}) (input_keys={'claim'}): litellm.RateLimitError: RateLimitError: Together_aiException - Request was rejected due to request rate limiting. Your rate limits are 60 RPM (1 QPS) and 60000 TPM (1000 TPS). See details: https://docs.together.ai/docs/rate-limits. Set `provide_traceback=True` for traceback.\n"
     ]
    },
    {
     "name": "stdout",
     "output_type": "stream",
     "text": [
      "Average Metric: 0.00 / 0 (0%):   3%|▎         | 1/35 [00:15<08:55, 15.74s/it]"
     ]
    },
    {
     "name": "stderr",
     "output_type": "stream",
     "text": [
      "2025/07/19 17:25:53 ERROR dspy.utils.parallelizer: Error for Example({'claim': 'The star of Nothing to Report and Gary Barlow have a profession in common.', 'titles': ['Gary Barlow', 'Chris Jericho', 'Nothing to Report']}) (input_keys={'claim'}): litellm.RateLimitError: RateLimitError: Together_aiException - Request was rejected due to request rate limiting. Your rate limits are 60 RPM (1 QPS) and 60000 TPM (1000 TPS). See details: https://docs.together.ai/docs/rate-limits. Set `provide_traceback=True` for traceback.\n"
     ]
    },
    {
     "name": "stdout",
     "output_type": "stream",
     "text": [
      "Average Metric: 0.00 / 0 (0%):   9%|▊         | 3/35 [00:15<02:12,  4.13s/it]"
     ]
    },
    {
     "name": "stderr",
     "output_type": "stream",
     "text": [
      "2025/07/19 17:25:53 ERROR dspy.utils.parallelizer: Error for Example({'claim': 'Radiation Vibe is the first chart-topping single from the debut album of the band formed in 1995 that came out with an album called \"Welcome Interstate Managers\\'.', 'titles': [\"Stacy's Mom\", 'Fountains of Wayne', 'Radiation Vibe']}) (input_keys={'claim'}): litellm.RateLimitError: RateLimitError: Together_aiException - Request was rejected due to request rate limiting. Your rate limits are 60 RPM (1 QPS) and 60000 TPM (1000 TPS). See details: https://docs.together.ai/docs/rate-limits. Set `provide_traceback=True` for traceback.\n"
     ]
    },
    {
     "name": "stdout",
     "output_type": "stream",
     "text": [
      "Average Metric: 0.00 / 0 (0%):   9%|▊         | 3/35 [00:15<02:12,  4.13s/it]"
     ]
    },
    {
     "name": "stderr",
     "output_type": "stream",
     "text": [
      "2025/07/19 17:25:53 ERROR dspy.utils.parallelizer: Error for Example({'claim': 'Both the character, who is sometimes called the  \"Mad Hatter\" in adaptations of the book. and March Hare are characters in the book Alice\\'s Adventures in Wonderland', 'titles': [\"Hatter (Alice's Adventures in Wonderland)\", 'Mad Hatter (comics)', 'March Hare']}) (input_keys={'claim'}): litellm.RateLimitError: RateLimitError: Together_aiException - Request was rejected due to request rate limiting. Your rate limits are 60 RPM (1 QPS) and 60000 TPM (1000 TPS). See details: https://docs.together.ai/docs/rate-limits. Set `provide_traceback=True` for traceback.\n"
     ]
    },
    {
     "name": "stdout",
     "output_type": "stream",
     "text": [
      "Average Metric: 0.00 / 0 (0%):  14%|█▍        | 5/35 [00:16<01:02,  2.09s/it]"
     ]
    },
    {
     "name": "stderr",
     "output_type": "stream",
     "text": [
      "2025/07/19 17:25:53 ERROR dspy.utils.parallelizer: Error for Example({'claim': 'Candlelight Red the musical group has released twice as many albums as the band who also performs as One Unique Signal.', 'titles': ['Candlelight Red', 'The Telescopes', 'One Unique Signal']}) (input_keys={'claim'}): litellm.RateLimitError: RateLimitError: Together_aiException - Request was rejected due to request rate limiting. Your rate limits are 60 RPM (1 QPS) and 60000 TPM (1000 TPS). See details: https://docs.together.ai/docs/rate-limits. Set `provide_traceback=True` for traceback.\n"
     ]
    },
    {
     "name": "stdout",
     "output_type": "stream",
     "text": [
      "Average Metric: 0.00 / 0 (0%):  14%|█▍        | 5/35 [00:16<01:02,  2.09s/it]"
     ]
    },
    {
     "name": "stderr",
     "output_type": "stream",
     "text": [
      "2025/07/19 17:25:53 ERROR dspy.utils.parallelizer: Error for Example({'claim': 'Markounda is a sub-prefecture that borders an Central African Republic country bordered by Libya and the Sudan and is known for the Dar Sila region.', 'titles': ['Markounda', 'Sila Region', 'Chad']}) (input_keys={'claim'}): litellm.RateLimitError: RateLimitError: Together_aiException - Request was rejected due to request rate limiting. Your rate limits are 60 RPM (1 QPS) and 60000 TPM (1000 TPS). See details: https://docs.together.ai/docs/rate-limits. Set `provide_traceback=True` for traceback.\n"
     ]
    },
    {
     "name": "stdout",
     "output_type": "stream",
     "text": [
      "Average Metric: 0.00 / 0 (0%):  20%|██        | 7/35 [00:16<00:34,  1.24s/it]"
     ]
    },
    {
     "name": "stderr",
     "output_type": "stream",
     "text": [
      "2025/07/19 17:26:00 ERROR dspy.utils.parallelizer: Error for Example({'claim': 'Anthony Sandler is the Chief of Pediatric Surgery at a large hospital. MedStar Washington Hospital Center is the largest private hospital in Washington, D.C. not this hospital.', 'titles': ['MedStar Washington Hospital Center', \"Children's National Medical Center\", 'Anthony Sandler']}) (input_keys={'claim'}): litellm.RateLimitError: RateLimitError: Together_aiException - Request was rejected due to request rate limiting. Your rate limits are 60 RPM (1 QPS) and 60000 TPM (1000 TPS). See details: https://docs.together.ai/docs/rate-limits. Set `provide_traceback=True` for traceback.\n"
     ]
    },
    {
     "name": "stdout",
     "output_type": "stream",
     "text": [
      "Average Metric: 0.00 / 0 (0%):  20%|██        | 7/35 [00:23<00:34,  1.24s/it]"
     ]
    },
    {
     "name": "stderr",
     "output_type": "stream",
     "text": [
      "2025/07/19 17:26:03 ERROR dspy.utils.parallelizer: Error for Example({'claim': 'The founder of Legendary Entertainment produced the movie, The Hangover, which was based in Las Vegas.', 'titles': ['Legendary Entertainment', 'Thomas Tull', 'The Hangover']}) (input_keys={'claim'}): litellm.RateLimitError: RateLimitError: Together_aiException - Request was rejected due to request rate limiting. Your rate limits are 60 RPM (1 QPS) and 60000 TPM (1000 TPS). See details: https://docs.together.ai/docs/rate-limits. Set `provide_traceback=True` for traceback.\n"
     ]
    },
    {
     "name": "stdout",
     "output_type": "stream",
     "text": [
      "Average Metric: 0.00 / 0 (0%):  26%|██▌       | 9/35 [00:25<01:06,  2.57s/it]"
     ]
    },
    {
     "name": "stderr",
     "output_type": "stream",
     "text": [
      "2025/07/19 17:26:04 ERROR dspy.utils.parallelizer: Error for Example({'claim': 'The genera that the Gordonia-Alatamaha State Park is named after and Osbeckia are not in the same family.', 'titles': ['Gordonia (plant)', 'Osbeckia', 'Gordonia-Alatamaha State Park']}) (input_keys={'claim'}): litellm.RateLimitError: RateLimitError: Together_aiException - Request was rejected due to request rate limiting. Your rate limits are 60 RPM (1 QPS) and 60000 TPM (1000 TPS). See details: https://docs.together.ai/docs/rate-limits. Set `provide_traceback=True` for traceback.\n"
     ]
    },
    {
     "name": "stdout",
     "output_type": "stream",
     "text": [
      "Average Metric: 0.00 / 0 (0%):  29%|██▊       | 10/35 [00:26<00:54,  2.17s/it]"
     ]
    },
    {
     "name": "stderr",
     "output_type": "stream",
     "text": [
      "2025/07/19 17:26:05 ERROR dspy.utils.parallelizer: Error for Example({'claim': 'Fredric March costarred in 1935 Australian drama film that Frances Drake is best know for, with the husband of Elsa Lanchester.', 'titles': ['Frances Drake', 'Charles Laughton', 'Les Misérables (1935 film)']}) (input_keys={'claim'}): litellm.RateLimitError: RateLimitError: Together_aiException - Request was rejected due to request rate limiting. Your rate limits are 60 RPM (1 QPS) and 60000 TPM (1000 TPS). See details: https://docs.together.ai/docs/rate-limits. Set `provide_traceback=True` for traceback.\n"
     ]
    },
    {
     "name": "stdout",
     "output_type": "stream",
     "text": [
      "Average Metric: 0.00 / 0 (0%):  31%|███▏      | 11/35 [00:28<00:48,  2.01s/it]"
     ]
    },
    {
     "name": "stderr",
     "output_type": "stream",
     "text": [
      "2025/07/19 17:26:05 ERROR dspy.utils.parallelizer: Error for Example({'claim': 'The director Jonathan Demme presented Made in Texas at a theater in Lower Manhattan which featured work from the filmmaker Dziga Vertov also known as Denis Kaufman.', 'titles': ['Collective for Living Cinema', 'Made in Texas', 'Dziga Vertov']}) (input_keys={'claim'}): litellm.RateLimitError: RateLimitError: Together_aiException - Request was rejected due to request rate limiting. Your rate limits are 60 RPM (1 QPS) and 60000 TPM (1000 TPS). See details: https://docs.together.ai/docs/rate-limits. Set `provide_traceback=True` for traceback.\n"
     ]
    },
    {
     "name": "stdout",
     "output_type": "stream",
     "text": [
      "Average Metric: 0.00 / 0 (0%):  34%|███▍      | 12/35 [00:28<00:35,  1.54s/it]"
     ]
    },
    {
     "name": "stderr",
     "output_type": "stream",
     "text": [
      "2025/07/19 17:26:07 ERROR dspy.utils.parallelizer: Error for Example({'claim': 'Brady Seals has released more solo albums than the rapper who Avril Lavigne featured on the song Get Over Me with.', 'titles': ['Nick Carter (musician)', 'Brady Seals', 'Get Over Me']}) (input_keys={'claim'}): litellm.RateLimitError: RateLimitError: Together_aiException - Request was rejected due to request rate limiting. Your rate limits are 60 RPM (1 QPS) and 60000 TPM (1000 TPS). See details: https://docs.together.ai/docs/rate-limits. Set `provide_traceback=True` for traceback.\n"
     ]
    },
    {
     "name": "stdout",
     "output_type": "stream",
     "text": [
      "Average Metric: 0.00 / 0 (0%):  37%|███▋      | 13/35 [00:30<00:38,  1.73s/it]"
     ]
    },
    {
     "name": "stderr",
     "output_type": "stream",
     "text": [
      "2025/07/19 17:26:10 ERROR dspy.utils.parallelizer: Error for Example({'claim': \"Daniel Boone's trail ran through Arcadia, Tennessee in 1775. This unofficial trail, which leads into Kentucky, was near one of locales of the Green-Jones War. It was turned down to become the National Road.\", 'titles': ['Wilderness Road', 'Arcadia, Tennessee', 'Greene–Jones War']}) (input_keys={'claim'}): litellm.RateLimitError: RateLimitError: Together_aiException - Request was rejected due to request rate limiting. Your rate limits are 60 RPM (1 QPS) and 60000 TPM (1000 TPS). See details: https://docs.together.ai/docs/rate-limits. Set `provide_traceback=True` for traceback.\n"
     ]
    },
    {
     "name": "stdout",
     "output_type": "stream",
     "text": [
      "Average Metric: 0.00 / 0 (0%):  40%|████      | 14/35 [00:32<00:40,  1.94s/it]"
     ]
    },
    {
     "name": "stderr",
     "output_type": "stream",
     "text": [
      "2025/07/19 17:26:11 ERROR dspy.utils.parallelizer: Error for Example({'claim': \"The real life person that James Woods' character is based on in the television film was awarded the Medal of Honor. Steven Vincent Leigh appeared in this film in 1987.\", 'titles': ['James Stockdale', 'Steven Vincent Leigh', 'In Love and War (1987 film)']}) (input_keys={'claim'}): litellm.RateLimitError: RateLimitError: Together_aiException - Request was rejected due to request rate limiting. Your rate limits are 60 RPM (1 QPS) and 60000 TPM (1000 TPS). See details: https://docs.together.ai/docs/rate-limits. Set `provide_traceback=True` for traceback.\n"
     ]
    },
    {
     "name": "stdout",
     "output_type": "stream",
     "text": [
      "Average Metric: 0.00 / 0 (0%):  43%|████▎     | 15/35 [00:34<00:34,  1.75s/it]"
     ]
    },
    {
     "name": "stderr",
     "output_type": "stream",
     "text": [
      "2025/07/19 17:26:12 ERROR dspy.utils.parallelizer: Error for Example({'claim': \"The star of Spaceball's most renouwned onscreen performance was as Dell Griffith. He was in an Canadian comedy film from 1987.\", 'titles': ['Spaceballs', 'Planes, Trains and Automobiles', 'John Candy']}) (input_keys={'claim'}): litellm.RateLimitError: RateLimitError: Together_aiException - Request was rejected due to request rate limiting. Your rate limits are 60 RPM (1 QPS) and 60000 TPM (1000 TPS). See details: https://docs.together.ai/docs/rate-limits. Set `provide_traceback=True` for traceback.\n"
     ]
    },
    {
     "name": "stdout",
     "output_type": "stream",
     "text": [
      "Average Metric: 0.00 / 0 (0%):  46%|████▌     | 16/35 [00:34<00:27,  1.47s/it]"
     ]
    },
    {
     "name": "stderr",
     "output_type": "stream",
     "text": [
      "2025/07/19 17:26:19 ERROR dspy.utils.parallelizer: Error for Example({'claim': 'The band Billy Anderson produces has the guitarist Gorden Mack, and the band Daughtry.', 'titles': ['Daughtry (band)', 'Billy Anderson (producer)', 'Red House Painters']}) (input_keys={'claim'}): litellm.RateLimitError: RateLimitError: Together_aiException - Request was rejected due to request rate limiting. Your rate limits are 60 RPM (1 QPS) and 60000 TPM (1000 TPS). See details: https://docs.together.ai/docs/rate-limits. Set `provide_traceback=True` for traceback.\n"
     ]
    },
    {
     "name": "stdout",
     "output_type": "stream",
     "text": [
      "Average Metric: 0.00 / 0 (0%):  49%|████▊     | 17/35 [00:41<00:53,  2.97s/it]"
     ]
    },
    {
     "name": "stderr",
     "output_type": "stream",
     "text": [
      "2025/07/19 17:26:19 ERROR dspy.utils.parallelizer: Error for Example({'claim': 'Neither the director of the 1943 film \"Young and Willing\" nor Edward Burns are from Guatemala.', 'titles': ['Edward H. Griffith', 'Edward Burns', 'Young and Willing']}) (input_keys={'claim'}): litellm.RateLimitError: RateLimitError: Together_aiException - Request was rejected due to request rate limiting. Your rate limits are 60 RPM (1 QPS) and 60000 TPM (1000 TPS). See details: https://docs.together.ai/docs/rate-limits. Set `provide_traceback=True` for traceback.\n"
     ]
    },
    {
     "name": "stdout",
     "output_type": "stream",
     "text": [
      "Average Metric: 0.00 / 0 (0%):  51%|█████▏    | 18/35 [00:41<00:37,  2.18s/it]"
     ]
    },
    {
     "name": "stderr",
     "output_type": "stream",
     "text": [
      "2025/07/19 17:26:21 WARNING dspy.adapters.json_adapter: Failed to use structured output format, falling back to JSON mode.\n",
      "2025/07/19 17:26:22 ERROR dspy.utils.parallelizer: Error for Example({'claim': 'The summer 2016 romantic drama \"Me Before You\" is directed by Thea Sharrock. The star of the film The Lost Future (who also appears in The Hunger Games) stars as the character Will Traynor.', 'titles': ['The Lost Future', 'Me Before You (film)', 'Sam Claflin']}) (input_keys={'claim'}): litellm.RateLimitError: RateLimitError: Together_aiException - Request was rejected due to request rate limiting. Your rate limits are 60 RPM (1 QPS) and 60000 TPM (1000 TPS). See details: https://docs.together.ai/docs/rate-limits. Set `provide_traceback=True` for traceback.\n"
     ]
    },
    {
     "name": "stdout",
     "output_type": "stream",
     "text": [
      "Average Metric: 0.00 / 0 (0%):  54%|█████▍    | 19/35 [00:45<00:41,  2.59s/it]"
     ]
    },
    {
     "name": "stderr",
     "output_type": "stream",
     "text": [
      "2025/07/19 17:26:23 ERROR dspy.utils.parallelizer: Error for Example({'claim': 'This American composer composed Troubled Island. He was born in 1895 was married to his frequent collaborator Verna Arvey.', 'titles': ['William Grant Still', 'A Bayou Legend', 'Troubled Island']}) (input_keys={'claim'}): litellm.RateLimitError: RateLimitError: Together_aiException - Request was rejected due to request rate limiting. Your rate limits are 60 RPM (1 QPS) and 60000 TPM (1000 TPS). See details: https://docs.together.ai/docs/rate-limits. Set `provide_traceback=True` for traceback.\n"
     ]
    },
    {
     "name": "stdout",
     "output_type": "stream",
     "text": [
      "Average Metric: 0.00 / 0 (0%):  57%|█████▋    | 20/35 [00:45<00:29,  1.98s/it]"
     ]
    },
    {
     "name": "stderr",
     "output_type": "stream",
     "text": [
      "2025/07/19 17:26:24 ERROR dspy.utils.parallelizer: Error for Example({'claim': 'This woman directed the 2005 Disney Channel Original Movie Go Figure whose soundtrack was released on June 7th. She also directed the comedy movie Sugar & Spice.', 'titles': ['Go Figure (film)', 'Sugar &amp; Spice', 'Francine McDougall']}) (input_keys={'claim'}): litellm.RateLimitError: RateLimitError: Together_aiException - Request was rejected due to request rate limiting. Your rate limits are 60 RPM (1 QPS) and 60000 TPM (1000 TPS). See details: https://docs.together.ai/docs/rate-limits. Set `provide_traceback=True` for traceback.\n"
     ]
    },
    {
     "name": "stdout",
     "output_type": "stream",
     "text": [
      "Average Metric: 0.00 / 0 (0%):  60%|██████    | 21/35 [00:47<00:26,  1.86s/it]"
     ]
    },
    {
     "name": "stderr",
     "output_type": "stream",
     "text": [
      "2025/07/19 17:26:25 WARNING dspy.adapters.json_adapter: Failed to use structured output format, falling back to JSON mode.\n",
      "2025/07/19 17:26:27 ERROR dspy.utils.parallelizer: Error for Example({'claim': 'Passionate Love is a Korean television series starring Sung Hoon and the actress starring in a movie that was filmed in 2012.', 'titles': ['Choi Yoon-young', 'As One (film)', 'Passionate Love']}) (input_keys={'claim'}): litellm.RateLimitError: RateLimitError: Together_aiException - Request was rejected due to request rate limiting. Your rate limits are 60 RPM (1 QPS) and 60000 TPM (1000 TPS). See details: https://docs.together.ai/docs/rate-limits. Set `provide_traceback=True` for traceback.\n"
     ]
    },
    {
     "name": "stdout",
     "output_type": "stream",
     "text": [
      "Average Metric: 0.00 / 0 (0%):  63%|██████▎   | 22/35 [00:49<00:25,  1.95s/it]"
     ]
    },
    {
     "name": "stderr",
     "output_type": "stream",
     "text": [
      "2025/07/19 17:26:29 ERROR dspy.utils.parallelizer: Error for Example({'claim': 'Guillermo del Toro directed the film which had the man, who starred in Bone Dry alongside Lance Henriksen, play the role of Jared Nomak.', 'titles': ['Bone Dry', 'Luke Goss', 'Blade II']}) (input_keys={'claim'}): litellm.RateLimitError: RateLimitError: Together_aiException - Request was rejected due to request rate limiting. Your rate limits are 60 RPM (1 QPS) and 60000 TPM (1000 TPS). See details: https://docs.together.ai/docs/rate-limits. Set `provide_traceback=True` for traceback.\n"
     ]
    },
    {
     "name": "stdout",
     "output_type": "stream",
     "text": [
      "Average Metric: 0.00 / 0 (0%):  66%|██████▌   | 23/35 [00:52<00:24,  2.07s/it]"
     ]
    },
    {
     "name": "stderr",
     "output_type": "stream",
     "text": [
      "2025/07/19 17:26:31 ERROR dspy.utils.parallelizer: Error for Example({'claim': 'The member of the group Wilkes-Barre/Scranton International Airport, formed by Kenny Loggins, was aged ten when she started singing in the seventh-most populated city in the United States.', 'titles': ['Kenny Loggins', 'San Antonio', 'Georgia Middleman']}) (input_keys={'claim'}): Both structured output format and JSON mode failed. Please choose a model that supports `response_format` argument. Original error: litellm.RateLimitError: RateLimitError: Together_aiException - Request was rejected due to request rate limiting. Your rate limits are 60 RPM (1 QPS) and 60000 TPM (1000 TPS). See details: https://docs.together.ai/docs/rate-limits. Set `provide_traceback=True` for traceback.\n"
     ]
    },
    {
     "name": "stdout",
     "output_type": "stream",
     "text": [
      "Average Metric: 0.00 / 0 (0%):  69%|██████▊   | 24/35 [00:53<00:21,  1.97s/it]"
     ]
    },
    {
     "name": "stderr",
     "output_type": "stream",
     "text": [
      "2025/07/19 17:26:34 ERROR dspy.utils.parallelizer: Error for Example({'claim': 'Lari Michele White is the county music artist that first gained national attention as a winner on \"You Can Be a Star\". She then went on to provide background vocals on the first single of the album, Now and Then.', 'titles': ['Lari White', 'Take It Like a Man (Michelle Wright song)', 'Now and Then (Michelle Wright album)']}) (input_keys={'claim'}): Both structured output format and JSON mode failed. Please choose a model that supports `response_format` argument. Original error: litellm.RateLimitError: RateLimitError: Together_aiException - Request was rejected due to request rate limiting. Your rate limits are 60 RPM (1 QPS) and 60000 TPM (1000 TPS). See details: https://docs.together.ai/docs/rate-limits. Set `provide_traceback=True` for traceback.\n"
     ]
    },
    {
     "name": "stdout",
     "output_type": "stream",
     "text": [
      "Average Metric: 0.67 / 1 (66.7%):  74%|███████▍  | 26/35 [00:56<00:14,  1.59s/it]"
     ]
    },
    {
     "name": "stderr",
     "output_type": "stream",
     "text": [
      "2025/07/19 17:26:39 ERROR dspy.utils.parallelizer: Error for Example({'claim': 'The actress that starred as a parent in Sky High (2005 film) is married to John Travolta. She also starred in a summer 1994 film about a pregnant woman who is stranded at a trading post during the American Civil War.', 'titles': ['Sky High (2005 film)', 'Cheyenne Warrior', 'Kelly Preston']}) (input_keys={'claim'}): litellm.RateLimitError: RateLimitError: Together_aiException - Request was rejected due to request rate limiting. Your rate limits are 60 RPM (1 QPS) and 60000 TPM (1000 TPS). See details: https://docs.together.ai/docs/rate-limits. Set `provide_traceback=True` for traceback.\n"
     ]
    },
    {
     "name": "stdout",
     "output_type": "stream",
     "text": [
      "Average Metric: 0.67 / 1 (66.7%):  77%|███████▋  | 27/35 [01:02<00:21,  2.71s/it]"
     ]
    },
    {
     "name": "stderr",
     "output_type": "stream",
     "text": [
      "2025/07/19 17:26:39 WARNING dspy.adapters.json_adapter: Failed to use structured output format, falling back to JSON mode.\n"
     ]
    },
    {
     "name": "stdout",
     "output_type": "stream",
     "text": [
      "Average Metric: 1.33 / 2 (66.7%):  80%|████████  | 28/35 [01:03<00:17,  2.47s/it]"
     ]
    },
    {
     "name": "stderr",
     "output_type": "stream",
     "text": [
      "2025/07/19 17:26:41 ERROR dspy.utils.parallelizer: Error for Example({'claim': 'The actor Giancarlo Giuseppe Alessandro Esposito starred in the 2016 film that also starred Olivia Luccardi. Giancarlo is best known for his portrayal of Gustavo \"Gus\" Fring on the AMC shows \"Breaking Bad\" and \"Breaking Bad\".', 'titles': ['Money Monster', 'Giancarlo Esposito', 'Olivia Luccardi']}) (input_keys={'claim'}): litellm.RateLimitError: RateLimitError: Together_aiException - Request was rejected due to request rate limiting. Your rate limits are 60 RPM (1 QPS) and 60000 TPM (1000 TPS). See details: https://docs.together.ai/docs/rate-limits. Set `provide_traceback=True` for traceback.\n"
     ]
    },
    {
     "name": "stdout",
     "output_type": "stream",
     "text": [
      "Average Metric: 1.33 / 2 (66.7%):  83%|████████▎ | 29/35 [01:04<00:10,  1.80s/it]"
     ]
    },
    {
     "name": "stderr",
     "output_type": "stream",
     "text": [
      "2025/07/19 17:26:49 ERROR dspy.utils.parallelizer: Error for Example({'claim': 'This character as featured in the comic book, Hellblazer Special: Bad Blood. He is  is the fictional antihero from comic books published by DC Comics, who sometimes acts as a cab driver, and was created by Alan Moore, Steve Bissette, and John Totleben.', 'titles': ['Chas Chandler (comics)', 'Hellblazer Special: Bad Blood', 'John Constantine']}) (input_keys={'claim'}): litellm.RateLimitError: RateLimitError: Together_aiException - Request was rejected due to request rate limiting. Your rate limits are 60 RPM (1 QPS) and 60000 TPM (1000 TPS). See details: https://docs.together.ai/docs/rate-limits. Set `provide_traceback=True` for traceback.\n"
     ]
    },
    {
     "name": "stdout",
     "output_type": "stream",
     "text": [
      "Average Metric: 1.67 / 3 (55.6%):  89%|████████▊ | 31/35 [01:28<00:30,  7.59s/it]"
     ]
    },
    {
     "name": "stderr",
     "output_type": "stream",
     "text": [
      "2025/07/19 17:27:08 ERROR dspy.utils.parallelizer: Error for Example({'claim': 'The Stanley Kubrick thriller that Nicole Kidman worked with Tom Cruise on, starring Vinessa Elizabeth Shaw, was based on the novella \"Traumnovelle\" (\"Dream Story\") .', 'titles': ['Vinessa Shaw', 'Eyes Wide Shut', 'Nicole Kidman filmography']}) (input_keys={'claim'}): litellm.RateLimitError: RateLimitError: Together_aiException - Request was rejected due to request rate limiting. Your rate limits are 60 RPM (1 QPS) and 60000 TPM (1000 TPS). See details: https://docs.together.ai/docs/rate-limits. Set `provide_traceback=True` for traceback.\n"
     ]
    },
    {
     "name": "stdout",
     "output_type": "stream",
     "text": [
      "Average Metric: 1.67 / 3 (55.6%):  91%|█████████▏| 32/35 [01:30<00:17,  5.86s/it]"
     ]
    },
    {
     "name": "stderr",
     "output_type": "stream",
     "text": [
      "2025/07/19 17:27:26 ERROR dspy.utils.parallelizer: Error for Example({'claim': 'Il trovatore has more acts than the 1994 Hungarian-Swiss-Italian fantasy film which was loosely inspired by. This Hungarian-Swiss-Italian fantasy film was directed by Ildikó Enyedi and called Magic Hunter.', 'titles': ['Der Freischütz', 'Il trovatore', 'Magic Hunter']}) (input_keys={'claim'}): litellm.RateLimitError: RateLimitError: Together_aiException - Request was rejected due to request rate limiting. Your rate limits are 60 RPM (1 QPS) and 60000 TPM (1000 TPS). See details: https://docs.together.ai/docs/rate-limits. Set `provide_traceback=True` for traceback.\n"
     ]
    },
    {
     "name": "stdout",
     "output_type": "stream",
     "text": [
      "Average Metric: 2.33 / 5 (46.7%): 100%|██████████| 35/35 [01:55<00:00,  3.31s/it]"
     ]
    },
    {
     "name": "stderr",
     "output_type": "stream",
     "text": [
      "2025/07/19 17:27:33 INFO dspy.evaluate.evaluate: Average Metric: 2.3333333333333335 / 35 (6.7%)\n",
      "2025/07/19 17:27:33 INFO dspy.teleprompt.mipro_optimizer_v2: Score: 6.67 on minibatch of size 35 with parameters ['Predictor 0: Instruction 3', 'Predictor 0: Few-Shot Set 10', 'Predictor 1: Instruction 1', 'Predictor 1: Few-Shot Set 6'].\n",
      "2025/07/19 17:27:33 INFO dspy.teleprompt.mipro_optimizer_v2: Minibatch scores so far: [2.86, 8.57, 18.1, 14.29, 3.81, 2.86, 6.67]\n",
      "2025/07/19 17:27:33 INFO dspy.teleprompt.mipro_optimizer_v2: Full eval scores so far: [2.08, 22.08]\n",
      "2025/07/19 17:27:33 INFO dspy.teleprompt.mipro_optimizer_v2: Best full score so far: 22.08\n",
      "2025/07/19 17:27:33 INFO dspy.teleprompt.mipro_optimizer_v2: =========================================\n",
      "\n",
      "\n",
      "2025/07/19 17:27:33 INFO dspy.teleprompt.mipro_optimizer_v2: == Trial 10 / 35 - Minibatch ==\n"
     ]
    },
    {
     "name": "stdout",
     "output_type": "stream",
     "text": [
      "\n",
      "  0%|          | 0/35 [00:00<?, ?it/s]"
     ]
    },
    {
     "name": "stderr",
     "output_type": "stream",
     "text": [
      "2025/07/19 17:27:48 ERROR dspy.utils.parallelizer: Error for Example({'claim': 'Radiation Vibe is the first chart-topping single from the debut album of the band formed in 1995 that came out with an album called \"Welcome Interstate Managers\\'.', 'titles': [\"Stacy's Mom\", 'Fountains of Wayne', 'Radiation Vibe']}) (input_keys={'claim'}): litellm.RateLimitError: RateLimitError: Together_aiException - Request was rejected due to request rate limiting. Your rate limits are 60 RPM (1 QPS) and 60000 TPM (1000 TPS). See details: https://docs.together.ai/docs/rate-limits. Set `provide_traceback=True` for traceback.\n"
     ]
    },
    {
     "name": "stdout",
     "output_type": "stream",
     "text": [
      "Average Metric: 1.00 / 1 (100.0%):   6%|▌         | 2/35 [00:17<04:17,  7.79s/it]"
     ]
    },
    {
     "name": "stderr",
     "output_type": "stream",
     "text": [
      "2025/07/19 17:27:51 ERROR dspy.utils.parallelizer: Error for Example({'claim': 'Passionate Love is a Korean television series starring Sung Hoon and the actress starring in a movie that was filmed in 2012.', 'titles': ['Choi Yoon-young', 'As One (film)', 'Passionate Love']}) (input_keys={'claim'}): litellm.RateLimitError: RateLimitError: Together_aiException - Request was rejected due to request rate limiting. Your rate limits are 60 RPM (1 QPS) and 60000 TPM (1000 TPS). See details: https://docs.together.ai/docs/rate-limits. Set `provide_traceback=True` for traceback.\n"
     ]
    },
    {
     "name": "stdout",
     "output_type": "stream",
     "text": [
      "Average Metric: 1.00 / 1 (100.0%):   6%|▌         | 2/35 [00:17<04:17,  7.79s/it]"
     ]
    },
    {
     "name": "stderr",
     "output_type": "stream",
     "text": [
      "2025/07/19 17:27:51 ERROR dspy.utils.parallelizer: Error for Example({'claim': 'This series developer created T-Dog on the Walking Dead. He is the Hungarian-born US film director renowned for adapting Stephen King novellas to the screen, including The Mist and The Green Mile.', 'titles': ['The Mist (film)', 'Frank Darabont', 'T-Dog (The Walking Dead)']}) (input_keys={'claim'}): litellm.RateLimitError: RateLimitError: Together_aiException - Request was rejected due to request rate limiting. Your rate limits are 60 RPM (1 QPS) and 60000 TPM (1000 TPS). See details: https://docs.together.ai/docs/rate-limits. Set `provide_traceback=True` for traceback.\n"
     ]
    },
    {
     "name": "stdout",
     "output_type": "stream",
     "text": [
      "Average Metric: 1.00 / 1 (100.0%):   9%|▊         | 3/35 [00:17<04:09,  7.79s/it]"
     ]
    },
    {
     "name": "stderr",
     "output_type": "stream",
     "text": [
      "2025/07/19 17:27:51 ERROR dspy.utils.parallelizer: Error for Example({'claim': 'This character as featured in the comic book, Hellblazer Special: Bad Blood. He is  is the fictional antihero from comic books published by DC Comics, who sometimes acts as a cab driver, and was created by Alan Moore, Steve Bissette, and John Totleben.', 'titles': ['Chas Chandler (comics)', 'Hellblazer Special: Bad Blood', 'John Constantine']}) (input_keys={'claim'}): litellm.RateLimitError: RateLimitError: Together_aiException - Request was rejected due to request rate limiting. Your rate limits are 60 RPM (1 QPS) and 60000 TPM (1000 TPS). See details: https://docs.together.ai/docs/rate-limits. Set `provide_traceback=True` for traceback.\n"
     ]
    },
    {
     "name": "stdout",
     "output_type": "stream",
     "text": [
      "Average Metric: 1.00 / 1 (100.0%):  11%|█▏        | 4/35 [00:17<01:31,  2.95s/it]"
     ]
    },
    {
     "name": "stderr",
     "output_type": "stream",
     "text": [
      "2025/07/19 17:27:51 ERROR dspy.utils.parallelizer: Error for Example({'claim': 'German Frank Sinatra has won more awards than this Skinny Puppy band member, for whom the Rx (band) was a one-off side project.', 'titles': ['Frank Sinatra', 'Rx (band)', 'Nivek Ogre']}) (input_keys={'claim'}): litellm.RateLimitError: RateLimitError: Together_aiException - Request was rejected due to request rate limiting. Your rate limits are 60 RPM (1 QPS) and 60000 TPM (1000 TPS). See details: https://docs.together.ai/docs/rate-limits. Set `provide_traceback=True` for traceback.\n"
     ]
    },
    {
     "name": "stdout",
     "output_type": "stream",
     "text": [
      "Average Metric: 1.00 / 1 (100.0%):  14%|█▍        | 5/35 [00:18<01:02,  2.07s/it]"
     ]
    },
    {
     "name": "stderr",
     "output_type": "stream",
     "text": [
      "2025/07/19 17:27:51 ERROR dspy.utils.parallelizer: Error for Example({'claim': 'Mother Mother (song) was the last song by a female solo artist to top this chart until the song was the first song released by Lorde by New Zealand singer Lorde. Also to be released later on her debut studio album.', 'titles': ['Royals (song)', 'Mother Mother (song)', 'Tennis Court (song)']}) (input_keys={'claim'}): litellm.RateLimitError: RateLimitError: Together_aiException - Request was rejected due to request rate limiting. Your rate limits are 60 RPM (1 QPS) and 60000 TPM (1000 TPS). See details: https://docs.together.ai/docs/rate-limits. Set `provide_traceback=True` for traceback.\n"
     ]
    },
    {
     "name": "stdout",
     "output_type": "stream",
     "text": [
      "Average Metric: 1.00 / 1 (100.0%):  20%|██        | 7/35 [00:18<00:31,  1.13s/it]"
     ]
    },
    {
     "name": "stderr",
     "output_type": "stream",
     "text": [
      "2025/07/19 17:27:51 ERROR dspy.utils.parallelizer: Error for Example({'claim': '\"Licence Revoked\" was the original title during production of a war film that has the actor from Maniac Cop 2. The actor stars as villain Franz Sanchez in \"Licence Revoked\".', 'titles': ['Licence to Kill', 'Robert Davi', 'Maniac Cop 2']}) (input_keys={'claim'}): litellm.RateLimitError: RateLimitError: Together_aiException - Request was rejected due to request rate limiting. Your rate limits are 60 RPM (1 QPS) and 60000 TPM (1000 TPS). See details: https://docs.together.ai/docs/rate-limits. Set `provide_traceback=True` for traceback.\n"
     ]
    },
    {
     "name": "stdout",
     "output_type": "stream",
     "text": [
      "Average Metric: 1.00 / 1 (100.0%):  20%|██        | 7/35 [00:18<00:31,  1.13s/it]"
     ]
    },
    {
     "name": "stderr",
     "output_type": "stream",
     "text": [
      "2025/07/19 17:27:55 ERROR dspy.utils.parallelizer: Error for Example({'claim': 'Sophia Grace & Rosie featured a cover song on their Youtube channel. The pop song from is from an album released under the Syco Music and Columbia Records labels.', 'titles': ['Touch (Little Mix song)', 'Glory Days (Little Mix album)', 'Sophia Grace &amp; Rosie']}) (input_keys={'claim'}): litellm.RateLimitError: RateLimitError: Together_aiException - Request was rejected due to request rate limiting. Your rate limits are 60 RPM (1 QPS) and 60000 TPM (1000 TPS). See details: https://docs.together.ai/docs/rate-limits. Set `provide_traceback=True` for traceback.\n"
     ]
    },
    {
     "name": "stdout",
     "output_type": "stream",
     "text": [
      "Average Metric: 1.00 / 1 (100.0%):  26%|██▌       | 9/35 [00:22<00:38,  1.46s/it]"
     ]
    },
    {
     "name": "stderr",
     "output_type": "stream",
     "text": [
      "2025/07/19 17:27:59 ERROR dspy.utils.parallelizer: Error for Example({'claim': 'Archers of Loaf is an indie band. The band who had a song called Shelf in the Room is not.', 'titles': ['Days of the New', 'Archers of Loaf', 'Shelf in the Room']}) (input_keys={'claim'}): litellm.RateLimitError: RateLimitError: Together_aiException - Request was rejected due to request rate limiting. Your rate limits are 60 RPM (1 QPS) and 60000 TPM (1000 TPS). See details: https://docs.together.ai/docs/rate-limits. Set `provide_traceback=True` for traceback.\n"
     ]
    },
    {
     "name": "stdout",
     "output_type": "stream",
     "text": [
      "Average Metric: 1.00 / 1 (100.0%):  29%|██▊       | 10/35 [00:26<00:52,  2.09s/it]"
     ]
    },
    {
     "name": "stderr",
     "output_type": "stream",
     "text": [
      "2025/07/19 17:28:05 ERROR dspy.utils.parallelizer: Error for Example({'claim': 'Mountain Dew is owned by the Pepsi-Cola company. So is the producer of orange juice founded by Anthony T. Rossi.', 'titles': ['Tropicana Products', 'Anthony T. Rossi', 'Mountain Dew']}) (input_keys={'claim'}): litellm.RateLimitError: RateLimitError: Together_aiException - Request was rejected due to request rate limiting. Your rate limits are 60 RPM (1 QPS) and 60000 TPM (1000 TPS). See details: https://docs.together.ai/docs/rate-limits. Set `provide_traceback=True` for traceback.\n"
     ]
    },
    {
     "name": "stdout",
     "output_type": "stream",
     "text": [
      "Average Metric: 1.00 / 1 (100.0%):  31%|███▏      | 11/35 [00:32<01:13,  3.05s/it]"
     ]
    },
    {
     "name": "stderr",
     "output_type": "stream",
     "text": [
      "2025/07/19 17:28:06 WARNING dspy.adapters.json_adapter: Failed to use structured output format, falling back to JSON mode.\n",
      "2025/07/19 17:28:07 ERROR dspy.utils.parallelizer: Error for Example({'claim': 'Africa has a distribution of both the Ternstroemia and the genus that Seemannaralia gerrardii was originally included in.', 'titles': ['Seemannaralia gerrardii', 'Cussonia', 'Ternstroemia']}) (input_keys={'claim'}): litellm.RateLimitError: RateLimitError: Together_aiException - Request was rejected due to request rate limiting. Your rate limits are 60 RPM (1 QPS) and 60000 TPM (1000 TPS). See details: https://docs.together.ai/docs/rate-limits. Set `provide_traceback=True` for traceback.\n"
     ]
    },
    {
     "name": "stdout",
     "output_type": "stream",
     "text": [
      "Average Metric: 1.00 / 1 (100.0%):  34%|███▍      | 12/35 [00:33<01:01,  2.66s/it]"
     ]
    },
    {
     "name": "stderr",
     "output_type": "stream",
     "text": [
      "2025/07/19 17:28:07 ERROR dspy.utils.parallelizer: Error for Example({'claim': 'The member of the group Wilkes-Barre/Scranton International Airport, formed by Kenny Loggins, was aged ten when she started singing in the seventh-most populated city in the United States.', 'titles': ['Kenny Loggins', 'San Antonio', 'Georgia Middleman']}) (input_keys={'claim'}): litellm.RateLimitError: RateLimitError: Together_aiException - Request was rejected due to request rate limiting. Your rate limits are 60 RPM (1 QPS) and 60000 TPM (1000 TPS). See details: https://docs.together.ai/docs/rate-limits. Set `provide_traceback=True` for traceback.\n",
      "2025/07/19 17:28:07 WARNING dspy.adapters.json_adapter: Failed to use structured output format, falling back to JSON mode.\n"
     ]
    },
    {
     "name": "stdout",
     "output_type": "stream",
     "text": [
      "Average Metric: 2.00 / 2 (100.0%):  40%|████      | 14/35 [00:34<00:34,  1.66s/it]"
     ]
    },
    {
     "name": "stderr",
     "output_type": "stream",
     "text": [
      "2025/07/19 17:28:10 ERROR dspy.utils.parallelizer: Error for Example({'claim': 'The director of The Moth Diaries (born January 12, 1953) was a French Canadian filmmaker who created a film about Bettie Page in 2005.', 'titles': ['The Moth Diaries (film)', 'Mary Harron', 'The Notorious Bettie Page']}) (input_keys={'claim'}): litellm.RateLimitError: RateLimitError: Together_aiException - Request was rejected due to request rate limiting. Your rate limits are 60 RPM (1 QPS) and 60000 TPM (1000 TPS). See details: https://docs.together.ai/docs/rate-limits. Set `provide_traceback=True` for traceback.\n"
     ]
    },
    {
     "name": "stdout",
     "output_type": "stream",
     "text": [
      "Average Metric: 2.00 / 2 (100.0%):  40%|████      | 14/35 [00:36<00:34,  1.66s/it]"
     ]
    },
    {
     "name": "stderr",
     "output_type": "stream",
     "text": [
      "2025/07/19 17:28:10 WARNING dspy.adapters.json_adapter: Failed to use structured output format, falling back to JSON mode.\n"
     ]
    },
    {
     "name": "stdout",
     "output_type": "stream",
     "text": [
      "Average Metric: 2.00 / 2 (100.0%):  43%|████▎     | 15/35 [00:36<00:35,  1.78s/it]"
     ]
    },
    {
     "name": "stderr",
     "output_type": "stream",
     "text": [
      "2025/07/19 17:28:10 ERROR dspy.utils.parallelizer: Error for Example({'claim': 'Irish footballer, John Francis O\\'Shea, joined a company in 1950. This company made the TV movie \"The Coastwatchers\"', 'titles': [\"John O'Shea\", 'Pacific Films', 'The Coastwatchers (TV movie)']}) (input_keys={'claim'}): litellm.RateLimitError: RateLimitError: Together_aiException - Request was rejected due to request rate limiting. Your rate limits are 60 RPM (1 QPS) and 60000 TPM (1000 TPS). See details: https://docs.together.ai/docs/rate-limits. Set `provide_traceback=True` for traceback.\n"
     ]
    },
    {
     "name": "stdout",
     "output_type": "stream",
     "text": [
      "Average Metric: 2.00 / 2 (100.0%):  43%|████▎     | 15/35 [00:36<00:35,  1.78s/it]"
     ]
    },
    {
     "name": "stderr",
     "output_type": "stream",
     "text": [
      "2025/07/19 17:28:10 ERROR dspy.utils.parallelizer: Error for Example({'claim': 'Christopher Whitelaw Pine appeared in the films that inspired Good Luck! and \"Into the Woods\".', 'titles': ['Just My Luck (2006 film)', 'Good Luck!', 'Chris Pine']}) (input_keys={'claim'}): litellm.RateLimitError: RateLimitError: Together_aiException - Request was rejected due to request rate limiting. Your rate limits are 60 RPM (1 QPS) and 60000 TPM (1000 TPS). See details: https://docs.together.ai/docs/rate-limits. Set `provide_traceback=True` for traceback.\n"
     ]
    },
    {
     "name": "stdout",
     "output_type": "stream",
     "text": [
      "Average Metric: 2.00 / 2 (100.0%):  49%|████▊     | 17/35 [00:36<00:19,  1.10s/it]"
     ]
    },
    {
     "name": "stderr",
     "output_type": "stream",
     "text": [
      "2025/07/19 17:28:12 ERROR dspy.utils.parallelizer: Error for Example({'claim': 'The individual who played Herman Boone in Remember the Titans, and David Hewlett, are both actors.', 'titles': ['David Hewlett', 'Denzel Washington', 'Herman Boone']}) (input_keys={'claim'}): litellm.RateLimitError: RateLimitError: Together_aiException - Request was rejected due to request rate limiting. Your rate limits are 60 RPM (1 QPS) and 60000 TPM (1000 TPS). See details: https://docs.together.ai/docs/rate-limits. Set `provide_traceback=True` for traceback.\n"
     ]
    },
    {
     "name": "stdout",
     "output_type": "stream",
     "text": [
      "Average Metric: 2.67 / 3 (88.9%):  54%|█████▍    | 19/35 [00:40<00:22,  1.39s/it] "
     ]
    },
    {
     "name": "stderr",
     "output_type": "stream",
     "text": [
      "2025/07/19 17:28:14 WARNING dspy.adapters.json_adapter: Failed to use structured output format, falling back to JSON mode.\n"
     ]
    },
    {
     "name": "stdout",
     "output_type": "stream",
     "text": [
      "Average Metric: 3.67 / 5 (73.3%):  60%|██████    | 21/35 [00:42<00:17,  1.26s/it]"
     ]
    },
    {
     "name": "stderr",
     "output_type": "stream",
     "text": [
      "2025/07/19 17:28:17 ERROR dspy.utils.parallelizer: Error for Example({'claim': 'Jonathan Howsmon Davis lives closer to Canada than this Japanese singer, whose fifth solo studio album is called Singing Bird.', 'titles': ['Koshi Inaba', 'Jonathan Davis', 'Singing Bird']}) (input_keys={'claim'}): litellm.RateLimitError: RateLimitError: Together_aiException - Request was rejected due to request rate limiting. Your rate limits are 60 RPM (1 QPS) and 60000 TPM (1000 TPS). See details: https://docs.together.ai/docs/rate-limits. Set `provide_traceback=True` for traceback.\n"
     ]
    },
    {
     "name": "stdout",
     "output_type": "stream",
     "text": [
      "Average Metric: 3.67 / 5 (73.3%):  63%|██████▎   | 22/35 [00:43<00:17,  1.31s/it]"
     ]
    },
    {
     "name": "stderr",
     "output_type": "stream",
     "text": [
      "2025/07/19 17:28:18 ERROR dspy.utils.parallelizer: Error for Example({'claim': 'Avery Waddell is the director of the banned hardcore pornographic film War Dogs. and also directed the film Road Trip starring Breckin Meyer. Todd Phillip also directed a film starring Breckin Meyer.', 'titles': ['Avery Waddell', 'Todd Phillips', 'Road Trip (film)']}) (input_keys={'claim'}): litellm.RateLimitError: RateLimitError: Together_aiException - Request was rejected due to request rate limiting. Your rate limits are 60 RPM (1 QPS) and 60000 TPM (1000 TPS). See details: https://docs.together.ai/docs/rate-limits. Set `provide_traceback=True` for traceback.\n"
     ]
    },
    {
     "name": "stdout",
     "output_type": "stream",
     "text": [
      "Average Metric: 3.67 / 5 (73.3%):  66%|██████▌   | 23/35 [00:44<00:13,  1.10s/it]"
     ]
    },
    {
     "name": "stderr",
     "output_type": "stream",
     "text": [
      "2025/07/19 17:28:19 ERROR dspy.utils.parallelizer: Error for Example({'claim': 'This woman directed the 2005 Disney Channel Original Movie Go Figure whose soundtrack was released on June 7th. She also directed the comedy movie Sugar & Spice.', 'titles': ['Go Figure (film)', 'Sugar &amp; Spice', 'Francine McDougall']}) (input_keys={'claim'}): litellm.RateLimitError: RateLimitError: Together_aiException - Request was rejected due to request rate limiting. Your rate limits are 60 RPM (1 QPS) and 60000 TPM (1000 TPS). See details: https://docs.together.ai/docs/rate-limits. Set `provide_traceback=True` for traceback.\n"
     ]
    },
    {
     "name": "stdout",
     "output_type": "stream",
     "text": [
      "Average Metric: 3.67 / 5 (73.3%):  69%|██████▊   | 24/35 [00:45<00:12,  1.11s/it]"
     ]
    },
    {
     "name": "stderr",
     "output_type": "stream",
     "text": [
      "2025/07/19 17:28:19 ERROR dspy.utils.parallelizer: Error for Example({'claim': 'Dairy Farm International holdings is a member of a British company. This British company whose majority of business interests are in Asia is related to the London Based Trading house Matheson & Company.', 'titles': ['Dairy Farm International Holdings', 'Matheson &amp; Company', 'Jardine Matheson']}) (input_keys={'claim'}): Both structured output format and JSON mode failed. Please choose a model that supports `response_format` argument. Original error: litellm.RateLimitError: RateLimitError: Together_aiException - Request was rejected due to request rate limiting. Your rate limits are 60 RPM (1 QPS) and 60000 TPM (1000 TPS). See details: https://docs.together.ai/docs/rate-limits. Set `provide_traceback=True` for traceback.\n"
     ]
    },
    {
     "name": "stdout",
     "output_type": "stream",
     "text": [
      "Average Metric: 4.33 / 6 (72.2%):  74%|███████▍  | 26/35 [00:48<00:12,  1.41s/it]"
     ]
    },
    {
     "name": "stderr",
     "output_type": "stream",
     "text": [
      "2025/07/19 17:28:24 ERROR dspy.utils.parallelizer: Error for Example({'claim': 'Tim Swanson, who played keyboard for the \"Sweet Nothings\" album, was a member of a different jazz band. This band and Lit were not formed in the same states.', 'titles': ['Lit (band)', 'Sweet Nothings (album)', 'Ideamen']}) (input_keys={'claim'}): litellm.RateLimitError: RateLimitError: Together_aiException - Request was rejected due to request rate limiting. Your rate limits are 60 RPM (1 QPS) and 60000 TPM (1000 TPS). See details: https://docs.together.ai/docs/rate-limits. Set `provide_traceback=True` for traceback.\n"
     ]
    },
    {
     "name": "stdout",
     "output_type": "stream",
     "text": [
      "Average Metric: 4.33 / 6 (72.2%):  77%|███████▋  | 27/35 [00:51<00:13,  1.68s/it]"
     ]
    },
    {
     "name": "stderr",
     "output_type": "stream",
     "text": [
      "2025/07/19 17:28:24 ERROR dspy.utils.parallelizer: Error for Example({'claim': 'The actor Giancarlo Giuseppe Alessandro Esposito starred in the 2016 film that also starred Olivia Luccardi. Giancarlo is best known for his portrayal of Gustavo \"Gus\" Fring on the AMC shows \"Breaking Bad\" and \"Breaking Bad\".', 'titles': ['Money Monster', 'Giancarlo Esposito', 'Olivia Luccardi']}) (input_keys={'claim'}): litellm.RateLimitError: RateLimitError: Together_aiException - Request was rejected due to request rate limiting. Your rate limits are 60 RPM (1 QPS) and 60000 TPM (1000 TPS). See details: https://docs.together.ai/docs/rate-limits. Set `provide_traceback=True` for traceback.\n"
     ]
    },
    {
     "name": "stdout",
     "output_type": "stream",
     "text": [
      "Average Metric: 4.33 / 6 (72.2%):  77%|███████▋  | 27/35 [00:51<00:13,  1.68s/it]"
     ]
    },
    {
     "name": "stderr",
     "output_type": "stream",
     "text": [
      "2025/07/19 17:28:28 ERROR dspy.utils.parallelizer: Error for Example({'claim': 'The director Jonathan Demme presented Made in Texas at a theater in Lower Manhattan which featured work from the filmmaker Dziga Vertov also known as Denis Kaufman.', 'titles': ['Collective for Living Cinema', 'Made in Texas', 'Dziga Vertov']}) (input_keys={'claim'}): litellm.RateLimitError: RateLimitError: Together_aiException - Request was rejected due to request rate limiting. Your rate limits are 60 RPM (1 QPS) and 60000 TPM (1000 TPS). See details: https://docs.together.ai/docs/rate-limits. Set `provide_traceback=True` for traceback.\n"
     ]
    },
    {
     "name": "stdout",
     "output_type": "stream",
     "text": [
      "Average Metric: 4.33 / 6 (72.2%):  83%|████████▎ | 29/35 [00:55<00:11,  1.86s/it]"
     ]
    },
    {
     "name": "stderr",
     "output_type": "stream",
     "text": [
      "2025/07/19 17:28:31 WARNING dspy.adapters.json_adapter: Failed to use structured output format, falling back to JSON mode.\n",
      "2025/07/19 17:28:32 ERROR dspy.utils.parallelizer: Error for Example({'claim': 'Bowdoin College was established before another university. This university was attended by John Wesley Hughes.', 'titles': ['Vanderbilt University', 'John Wesley Hughes', 'Bowdoin College']}) (input_keys={'claim'}): litellm.RateLimitError: RateLimitError: Together_aiException - Request was rejected due to request rate limiting. Your rate limits are 60 RPM (1 QPS) and 60000 TPM (1000 TPS). See details: https://docs.together.ai/docs/rate-limits. Set `provide_traceback=True` for traceback.\n"
     ]
    },
    {
     "name": "stdout",
     "output_type": "stream",
     "text": [
      "Average Metric: 6.67 / 11 (60.6%): 100%|██████████| 35/35 [01:38<00:00,  2.81s/it]"
     ]
    },
    {
     "name": "stderr",
     "output_type": "stream",
     "text": [
      "2025/07/19 17:29:12 INFO dspy.evaluate.evaluate: Average Metric: 6.666666666666667 / 35 (19.0%)\n",
      "2025/07/19 17:29:12 INFO dspy.teleprompt.mipro_optimizer_v2: Score: 19.05 on minibatch of size 35 with parameters ['Predictor 0: Instruction 3', 'Predictor 0: Few-Shot Set 1', 'Predictor 1: Instruction 5', 'Predictor 1: Few-Shot Set 1'].\n",
      "2025/07/19 17:29:12 INFO dspy.teleprompt.mipro_optimizer_v2: Minibatch scores so far: [2.86, 8.57, 18.1, 14.29, 3.81, 2.86, 6.67, 19.05]\n",
      "2025/07/19 17:29:12 INFO dspy.teleprompt.mipro_optimizer_v2: Full eval scores so far: [2.08, 22.08]\n",
      "2025/07/19 17:29:12 INFO dspy.teleprompt.mipro_optimizer_v2: Best full score so far: 22.08\n",
      "2025/07/19 17:29:12 INFO dspy.teleprompt.mipro_optimizer_v2: ==========================================\n",
      "\n",
      "\n",
      "2025/07/19 17:29:12 INFO dspy.teleprompt.mipro_optimizer_v2: == Trial 11 / 35 - Minibatch ==\n"
     ]
    },
    {
     "name": "stdout",
     "output_type": "stream",
     "text": [
      "\n",
      "  0%|          | 0/35 [00:00<?, ?it/s]"
     ]
    },
    {
     "name": "stderr",
     "output_type": "stream",
     "text": [
      "2025/07/19 17:29:29 ERROR dspy.utils.parallelizer: Error for Example({'claim': 'Anthony Sandler is the Chief of Pediatric Surgery at a large hospital. MedStar Washington Hospital Center is the largest private hospital in Washington, D.C. not this hospital.', 'titles': ['MedStar Washington Hospital Center', \"Children's National Medical Center\", 'Anthony Sandler']}) (input_keys={'claim'}): litellm.RateLimitError: RateLimitError: Together_aiException - Request was rejected due to request rate limiting. Your rate limits are 60 RPM (1 QPS) and 60000 TPM (1000 TPS). See details: https://docs.together.ai/docs/rate-limits. Set `provide_traceback=True` for traceback.\n"
     ]
    },
    {
     "name": "stdout",
     "output_type": "stream",
     "text": [
      "Average Metric: 0.00 / 0 (0%):   3%|▎         | 1/35 [00:16<09:35, 16.92s/it]"
     ]
    },
    {
     "name": "stderr",
     "output_type": "stream",
     "text": [
      "2025/07/19 17:29:30 ERROR dspy.utils.parallelizer: Error for Example({'claim': 'Passionate Love is a Korean television series starring Sung Hoon and the actress starring in a movie that was filmed in 2012.', 'titles': ['Choi Yoon-young', 'As One (film)', 'Passionate Love']}) (input_keys={'claim'}): litellm.RateLimitError: RateLimitError: Together_aiException - Request was rejected due to request rate limiting. Your rate limits are 60 RPM (1 QPS) and 60000 TPM (1000 TPS). See details: https://docs.together.ai/docs/rate-limits. Set `provide_traceback=True` for traceback.\n"
     ]
    },
    {
     "name": "stdout",
     "output_type": "stream",
     "text": [
      "Average Metric: 0.00 / 0 (0%):   6%|▌         | 2/35 [00:17<04:10,  7.59s/it]"
     ]
    },
    {
     "name": "stderr",
     "output_type": "stream",
     "text": [
      "2025/07/19 17:29:30 ERROR dspy.utils.parallelizer: Error for Example({'claim': 'Irish footballer, John Francis O\\'Shea, joined a company in 1950. This company made the TV movie \"The Coastwatchers\"', 'titles': [\"John O'Shea\", 'Pacific Films', 'The Coastwatchers (TV movie)']}) (input_keys={'claim'}): litellm.RateLimitError: RateLimitError: Together_aiException - Request was rejected due to request rate limiting. Your rate limits are 60 RPM (1 QPS) and 60000 TPM (1000 TPS). See details: https://docs.together.ai/docs/rate-limits. Set `provide_traceback=True` for traceback.\n"
     ]
    },
    {
     "name": "stdout",
     "output_type": "stream",
     "text": [
      "Average Metric: 0.00 / 0 (0%):   9%|▊         | 3/35 [00:18<02:20,  4.39s/it]"
     ]
    },
    {
     "name": "stderr",
     "output_type": "stream",
     "text": [
      "2025/07/19 17:29:30 ERROR dspy.utils.parallelizer: Error for Example({'claim': 'The actor, who starred in the thriller 400 Boys, plays Marilyn Monroe in a film based on the novel \"Northern Lights\".', 'titles': ['Charlie Rowe', '400 Boys', 'The Golden Compass (film)']}) (input_keys={'claim'}): litellm.RateLimitError: RateLimitError: Together_aiException - Request was rejected due to request rate limiting. Your rate limits are 60 RPM (1 QPS) and 60000 TPM (1000 TPS). See details: https://docs.together.ai/docs/rate-limits. Set `provide_traceback=True` for traceback.\n"
     ]
    },
    {
     "name": "stdout",
     "output_type": "stream",
     "text": [
      "Average Metric: 0.00 / 0 (0%):   9%|▊         | 3/35 [00:18<02:20,  4.39s/it]"
     ]
    },
    {
     "name": "stderr",
     "output_type": "stream",
     "text": [
      "2025/07/19 17:29:30 ERROR dspy.utils.parallelizer: Error for Example({'claim': 'The member of the group Wilkes-Barre/Scranton International Airport, formed by Kenny Loggins, was aged ten when she started singing in the seventh-most populated city in the United States.', 'titles': ['Kenny Loggins', 'San Antonio', 'Georgia Middleman']}) (input_keys={'claim'}): litellm.RateLimitError: RateLimitError: Together_aiException - Request was rejected due to request rate limiting. Your rate limits are 60 RPM (1 QPS) and 60000 TPM (1000 TPS). See details: https://docs.together.ai/docs/rate-limits. Set `provide_traceback=True` for traceback.\n"
     ]
    },
    {
     "name": "stdout",
     "output_type": "stream",
     "text": [
      "Average Metric: 0.00 / 0 (0%):  11%|█▏        | 4/35 [00:18<01:24,  2.74s/it]"
     ]
    },
    {
     "name": "stderr",
     "output_type": "stream",
     "text": [
      "2025/07/19 17:29:32 ERROR dspy.utils.parallelizer: Error for Example({'claim': 'The owner of Tatoosh (yacht) has a sister named Jo Lynn \"Jody\". He is an South African business magnate, investor and philanthropist.', 'titles': ['Jody Allen', 'Paul Allen', 'Tatoosh (yacht)']}) (input_keys={'claim'}): litellm.RateLimitError: RateLimitError: Together_aiException - Request was rejected due to request rate limiting. Your rate limits are 60 RPM (1 QPS) and 60000 TPM (1000 TPS). See details: https://docs.together.ai/docs/rate-limits. Set `provide_traceback=True` for traceback.\n"
     ]
    },
    {
     "name": "stdout",
     "output_type": "stream",
     "text": [
      "Average Metric: 0.00 / 0 (0%):  17%|█▋        | 6/35 [00:20<00:51,  1.77s/it]"
     ]
    },
    {
     "name": "stderr",
     "output_type": "stream",
     "text": [
      "2025/07/19 17:29:33 ERROR dspy.utils.parallelizer: Error for Example({'claim': 'Mountain Dew is owned by the Pepsi-Cola company. So is the producer of orange juice founded by Anthony T. Rossi.', 'titles': ['Tropicana Products', 'Anthony T. Rossi', 'Mountain Dew']}) (input_keys={'claim'}): litellm.RateLimitError: RateLimitError: Together_aiException - Request was rejected due to request rate limiting. Your rate limits are 60 RPM (1 QPS) and 60000 TPM (1000 TPS). See details: https://docs.together.ai/docs/rate-limits. Set `provide_traceback=True` for traceback.\n"
     ]
    },
    {
     "name": "stdout",
     "output_type": "stream",
     "text": [
      "Average Metric: 0.00 / 0 (0%):  17%|█▋        | 6/35 [00:21<00:51,  1.77s/it]"
     ]
    },
    {
     "name": "stderr",
     "output_type": "stream",
     "text": [
      "2025/07/19 17:29:33 ERROR dspy.utils.parallelizer: Error for Example({'claim': 'The director of The Moth Diaries (born January 12, 1953) was a French Canadian filmmaker who created a film about Bettie Page in 2005.', 'titles': ['The Moth Diaries (film)', 'Mary Harron', 'The Notorious Bettie Page']}) (input_keys={'claim'}): litellm.RateLimitError: RateLimitError: Together_aiException - Request was rejected due to request rate limiting. Your rate limits are 60 RPM (1 QPS) and 60000 TPM (1000 TPS). See details: https://docs.together.ai/docs/rate-limits. Set `provide_traceback=True` for traceback.\n"
     ]
    },
    {
     "name": "stdout",
     "output_type": "stream",
     "text": [
      "Average Metric: 0.00 / 0 (0%):  23%|██▎       | 8/35 [00:21<00:29,  1.09s/it]"
     ]
    },
    {
     "name": "stderr",
     "output_type": "stream",
     "text": [
      "2025/07/19 17:29:34 WARNING dspy.adapters.json_adapter: Failed to use structured output format, falling back to JSON mode.\n",
      "2025/07/19 17:29:37 ERROR dspy.utils.parallelizer: Error for Example({'claim': 'Lari Michele White is the county music artist that first gained national attention as a winner on \"You Can Be a Star\". She then went on to provide background vocals on the first single of the album, Now and Then.', 'titles': ['Lari White', 'Take It Like a Man (Michelle Wright song)', 'Now and Then (Michelle Wright album)']}) (input_keys={'claim'}): litellm.RateLimitError: RateLimitError: Together_aiException - Request was rejected due to request rate limiting. Your rate limits are 60 RPM (1 QPS) and 60000 TPM (1000 TPS). See details: https://docs.together.ai/docs/rate-limits. Set `provide_traceback=True` for traceback.\n"
     ]
    },
    {
     "name": "stdout",
     "output_type": "stream",
     "text": [
      "Average Metric: 0.00 / 0 (0%):  26%|██▌       | 9/35 [00:24<00:46,  1.81s/it]"
     ]
    },
    {
     "name": "stderr",
     "output_type": "stream",
     "text": [
      "2025/07/19 17:29:37 ERROR dspy.utils.parallelizer: Error for Example({'claim': 'Neither the director of the 1943 film \"Young and Willing\" nor Edward Burns are from Guatemala.', 'titles': ['Edward H. Griffith', 'Edward Burns', 'Young and Willing']}) (input_keys={'claim'}): litellm.RateLimitError: RateLimitError: Together_aiException - Request was rejected due to request rate limiting. Your rate limits are 60 RPM (1 QPS) and 60000 TPM (1000 TPS). See details: https://docs.together.ai/docs/rate-limits. Set `provide_traceback=True` for traceback.\n"
     ]
    },
    {
     "name": "stdout",
     "output_type": "stream",
     "text": [
      "Average Metric: 0.00 / 0 (0%):  29%|██▊       | 10/35 [00:25<00:33,  1.34s/it]"
     ]
    },
    {
     "name": "stderr",
     "output_type": "stream",
     "text": [
      "2025/07/19 17:29:40 ERROR dspy.utils.parallelizer: Error for Example({'claim': 'The band Billy Anderson produces has the guitarist Gorden Mack, and the band Daughtry.', 'titles': ['Daughtry (band)', 'Billy Anderson (producer)', 'Red House Painters']}) (input_keys={'claim'}): litellm.RateLimitError: RateLimitError: Together_aiException - Request was rejected due to request rate limiting. Your rate limits are 60 RPM (1 QPS) and 60000 TPM (1000 TPS). See details: https://docs.together.ai/docs/rate-limits. Set `provide_traceback=True` for traceback.\n"
     ]
    },
    {
     "name": "stdout",
     "output_type": "stream",
     "text": [
      "Average Metric: 0.00 / 0 (0%):  29%|██▊       | 10/35 [00:28<00:33,  1.34s/it]"
     ]
    },
    {
     "name": "stderr",
     "output_type": "stream",
     "text": [
      "2025/07/19 17:29:41 ERROR dspy.utils.parallelizer: Error for Example({'claim': 'The individual who played Herman Boone in Remember the Titans, and David Hewlett, are both actors.', 'titles': ['David Hewlett', 'Denzel Washington', 'Herman Boone']}) (input_keys={'claim'}): litellm.RateLimitError: RateLimitError: Together_aiException - Request was rejected due to request rate limiting. Your rate limits are 60 RPM (1 QPS) and 60000 TPM (1000 TPS). See details: https://docs.together.ai/docs/rate-limits. Set `provide_traceback=True` for traceback.\n"
     ]
    },
    {
     "name": "stdout",
     "output_type": "stream",
     "text": [
      "Average Metric: 0.00 / 0 (0%):  31%|███▏      | 11/35 [00:28<00:48,  2.03s/it]"
     ]
    },
    {
     "name": "stderr",
     "output_type": "stream",
     "text": [
      "2025/07/19 17:29:42 ERROR dspy.utils.parallelizer: Error for Example({'claim': 'This series developer created T-Dog on the Walking Dead. He is the Hungarian-born US film director renowned for adapting Stephen King novellas to the screen, including The Mist and The Green Mile.', 'titles': ['The Mist (film)', 'Frank Darabont', 'T-Dog (The Walking Dead)']}) (input_keys={'claim'}): Both structured output format and JSON mode failed. Please choose a model that supports `response_format` argument. Original error: litellm.RateLimitError: RateLimitError: Together_aiException - Request was rejected due to request rate limiting. Your rate limits are 60 RPM (1 QPS) and 60000 TPM (1000 TPS). See details: https://docs.together.ai/docs/rate-limits. Set `provide_traceback=True` for traceback.\n"
     ]
    },
    {
     "name": "stdout",
     "output_type": "stream",
     "text": [
      "Average Metric: 0.00 / 0 (0%):  37%|███▋      | 13/35 [00:30<00:33,  1.53s/it]"
     ]
    },
    {
     "name": "stderr",
     "output_type": "stream",
     "text": [
      "2025/07/19 17:29:47 ERROR dspy.utils.parallelizer: Error for Example({'claim': 'This American composer composed Troubled Island. He was born in 1895 was married to his frequent collaborator Verna Arvey.', 'titles': ['William Grant Still', 'A Bayou Legend', 'Troubled Island']}) (input_keys={'claim'}): litellm.RateLimitError: RateLimitError: Together_aiException - Request was rejected due to request rate limiting. Your rate limits are 60 RPM (1 QPS) and 60000 TPM (1000 TPS). See details: https://docs.together.ai/docs/rate-limits. Set `provide_traceback=True` for traceback.\n"
     ]
    },
    {
     "name": "stdout",
     "output_type": "stream",
     "text": [
      "Average Metric: 0.00 / 0 (0%):  40%|████      | 14/35 [00:35<00:49,  2.33s/it]"
     ]
    },
    {
     "name": "stderr",
     "output_type": "stream",
     "text": [
      "2025/07/19 17:29:47 ERROR dspy.utils.parallelizer: Error for Example({'claim': 'The director Jonathan Demme presented Made in Texas at a theater in Lower Manhattan which featured work from the filmmaker Dziga Vertov also known as Denis Kaufman.', 'titles': ['Collective for Living Cinema', 'Made in Texas', 'Dziga Vertov']}) (input_keys={'claim'}): litellm.RateLimitError: RateLimitError: Together_aiException - Request was rejected due to request rate limiting. Your rate limits are 60 RPM (1 QPS) and 60000 TPM (1000 TPS). See details: https://docs.together.ai/docs/rate-limits. Set `provide_traceback=True` for traceback.\n"
     ]
    },
    {
     "name": "stdout",
     "output_type": "stream",
     "text": [
      "Average Metric: 0.00 / 0 (0%):  40%|████      | 14/35 [00:35<00:49,  2.33s/it]"
     ]
    },
    {
     "name": "stderr",
     "output_type": "stream",
     "text": [
      "2025/07/19 17:29:47 ERROR dspy.utils.parallelizer: Error for Example({'claim': 'The kind of dog Banana Joe V Tani Kazari is and Villanuco de Las Encartaciones are not both breeds of dog.', 'titles': ['Affenpinscher', 'German Pinscher', 'Villanuco de Las Encartaciones']}) (input_keys={'claim'}): litellm.RateLimitError: RateLimitError: Together_aiException - Request was rejected due to request rate limiting. Your rate limits are 60 RPM (1 QPS) and 60000 TPM (1000 TPS). See details: https://docs.together.ai/docs/rate-limits. Set `provide_traceback=True` for traceback.\n"
     ]
    },
    {
     "name": "stdout",
     "output_type": "stream",
     "text": [
      "Average Metric: 0.00 / 1 (0.0%):  49%|████▊     | 17/35 [00:37<00:26,  1.46s/it]"
     ]
    },
    {
     "name": "stderr",
     "output_type": "stream",
     "text": [
      "2025/07/19 17:29:50 ERROR dspy.utils.parallelizer: Error for Example({'claim': 'Both the character, who is sometimes called the  \"Mad Hatter\" in adaptations of the book. and March Hare are characters in the book Alice\\'s Adventures in Wonderland', 'titles': [\"Hatter (Alice's Adventures in Wonderland)\", 'Mad Hatter (comics)', 'March Hare']}) (input_keys={'claim'}): litellm.RateLimitError: RateLimitError: Together_aiException - Request was rejected due to request rate limiting. Your rate limits are 60 RPM (1 QPS) and 60000 TPM (1000 TPS). See details: https://docs.together.ai/docs/rate-limits. Set `provide_traceback=True` for traceback.\n"
     ]
    },
    {
     "name": "stdout",
     "output_type": "stream",
     "text": [
      "Average Metric: 0.00 / 1 (0.0%):  51%|█████▏    | 18/35 [00:38<00:23,  1.41s/it]"
     ]
    },
    {
     "name": "stderr",
     "output_type": "stream",
     "text": [
      "2025/07/19 17:29:51 ERROR dspy.utils.parallelizer: Error for Example({'claim': 'Mother Mother (song) was the last song by a female solo artist to top this chart until the song was the first song released by Lorde by New Zealand singer Lorde. Also to be released later on her debut studio album.', 'titles': ['Royals (song)', 'Mother Mother (song)', 'Tennis Court (song)']}) (input_keys={'claim'}): litellm.RateLimitError: RateLimitError: Together_aiException - Request was rejected due to request rate limiting. Your rate limits are 60 RPM (1 QPS) and 60000 TPM (1000 TPS). See details: https://docs.together.ai/docs/rate-limits. Set `provide_traceback=True` for traceback.\n"
     ]
    },
    {
     "name": "stdout",
     "output_type": "stream",
     "text": [
      "Average Metric: 0.00 / 1 (0.0%):  54%|█████▍    | 19/35 [00:39<00:20,  1.27s/it]"
     ]
    },
    {
     "name": "stderr",
     "output_type": "stream",
     "text": [
      "2025/07/19 17:29:51 ERROR dspy.utils.parallelizer: Error for Example({'claim': 'The director of action movie Batman: Mask of the Phantasm, produced Avengers Assemble that premiered on Disney XD on May 26, 2013.', 'titles': ['Eric Radomski', 'Batman: Mask of the Phantasm', 'Avengers Assemble (TV series)']}) (input_keys={'claim'}): litellm.RateLimitError: RateLimitError: Together_aiException - Request was rejected due to request rate limiting. Your rate limits are 60 RPM (1 QPS) and 60000 TPM (1000 TPS). See details: https://docs.together.ai/docs/rate-limits. Set `provide_traceback=True` for traceback.\n"
     ]
    },
    {
     "name": "stdout",
     "output_type": "stream",
     "text": [
      "Average Metric: 0.00 / 1 (0.0%):  57%|█████▋    | 20/35 [00:39<00:15,  1.05s/it]"
     ]
    },
    {
     "name": "stderr",
     "output_type": "stream",
     "text": [
      "2025/07/19 17:29:52 ERROR dspy.utils.parallelizer: Error for Example({'claim': 'The father of director Guðný Halldórsdóttir and Timothy Leary are not from the same place.', 'titles': ['Halldór Laxness', 'Timothy Leary', 'Guðný Halldórsdóttir']}) (input_keys={'claim'}): litellm.RateLimitError: RateLimitError: Together_aiException - Request was rejected due to request rate limiting. Your rate limits are 60 RPM (1 QPS) and 60000 TPM (1000 TPS). See details: https://docs.together.ai/docs/rate-limits. Set `provide_traceback=True` for traceback.\n"
     ]
    },
    {
     "name": "stdout",
     "output_type": "stream",
     "text": [
      "Average Metric: 0.00 / 1 (0.0%):  60%|██████    | 21/35 [00:39<00:11,  1.19it/s]"
     ]
    },
    {
     "name": "stderr",
     "output_type": "stream",
     "text": [
      "2025/07/19 17:29:53 WARNING dspy.adapters.json_adapter: Failed to use structured output format, falling back to JSON mode.\n",
      "2025/07/19 17:29:57 ERROR dspy.utils.parallelizer: Error for Example({'claim': 'German Frank Sinatra has won more awards than this Skinny Puppy band member, for whom the Rx (band) was a one-off side project.', 'titles': ['Frank Sinatra', 'Rx (band)', 'Nivek Ogre']}) (input_keys={'claim'}): litellm.RateLimitError: RateLimitError: Together_aiException - Request was rejected due to request rate limiting. Your rate limits are 60 RPM (1 QPS) and 60000 TPM (1000 TPS). See details: https://docs.together.ai/docs/rate-limits. Set `provide_traceback=True` for traceback.\n"
     ]
    },
    {
     "name": "stdout",
     "output_type": "stream",
     "text": [
      "Average Metric: 0.00 / 1 (0.0%):  63%|██████▎   | 22/35 [00:45<00:27,  2.14s/it]"
     ]
    },
    {
     "name": "stderr",
     "output_type": "stream",
     "text": [
      "2025/07/19 17:29:57 ERROR dspy.utils.parallelizer: Error for Example({'claim': 'Ellesmere Port Town Football Club are currently members of the league, whose current principal sponsor is the Football Conference, that Ford Motors F.C. is a part of.', 'titles': ['Ford Motors F.C.', 'West Cheshire Association Football League', 'Ellesmere Port Town F.C.']}) (input_keys={'claim'}): litellm.RateLimitError: RateLimitError: Together_aiException - Request was rejected due to request rate limiting. Your rate limits are 60 RPM (1 QPS) and 60000 TPM (1000 TPS). See details: https://docs.together.ai/docs/rate-limits. Set `provide_traceback=True` for traceback.\n"
     ]
    },
    {
     "name": "stdout",
     "output_type": "stream",
     "text": [
      "Average Metric: 0.00 / 1 (0.0%):  63%|██████▎   | 22/35 [00:45<00:27,  2.14s/it]"
     ]
    },
    {
     "name": "stderr",
     "output_type": "stream",
     "text": [
      "2025/07/19 17:29:58 ERROR dspy.utils.parallelizer: Error for Example({'claim': \"Tom Kristensen won the Nation's Cup with Petter Solberg in Bushy Park, Barbados in August 1993. He also won the 24 Hours of Le Mans nine times.\", 'titles': ['Tom Kristensen (racing driver)', 'Bushy Park, Barbados', '2014 Race of Champions']}) (input_keys={'claim'}): litellm.RateLimitError: RateLimitError: Together_aiException - Request was rejected due to request rate limiting. Your rate limits are 60 RPM (1 QPS) and 60000 TPM (1000 TPS). See details: https://docs.together.ai/docs/rate-limits. Set `provide_traceback=True` for traceback.\n"
     ]
    },
    {
     "name": "stdout",
     "output_type": "stream",
     "text": [
      "Average Metric: 0.00 / 1 (0.0%):  69%|██████▊   | 24/35 [00:46<00:15,  1.43s/it]"
     ]
    },
    {
     "name": "stderr",
     "output_type": "stream",
     "text": [
      "2025/07/19 17:30:00 ERROR dspy.utils.parallelizer: Error for Example({'claim': 'Guillermo del Toro directed the film which had the man, who starred in Bone Dry alongside Lance Henriksen, play the role of Jared Nomak.', 'titles': ['Bone Dry', 'Luke Goss', 'Blade II']}) (input_keys={'claim'}): litellm.RateLimitError: RateLimitError: Together_aiException - Request was rejected due to request rate limiting. Your rate limits are 60 RPM (1 QPS) and 60000 TPM (1000 TPS). See details: https://docs.together.ai/docs/rate-limits. Set `provide_traceback=True` for traceback.\n"
     ]
    },
    {
     "name": "stdout",
     "output_type": "stream",
     "text": [
      "Average Metric: 0.00 / 1 (0.0%):  71%|███████▏  | 25/35 [00:48<00:14,  1.44s/it]"
     ]
    },
    {
     "name": "stderr",
     "output_type": "stream",
     "text": [
      "2025/07/19 17:30:02 ERROR dspy.utils.parallelizer: Error for Example({'claim': 'Danyang, Jiangusu and this city are both cities in China. This city was the birthplace of Chen Xiuke.', 'titles': ['Danyang, Jiangsu', 'Dongfang, Hainan', 'Chen Xiuke']}) (input_keys={'claim'}): Both structured output format and JSON mode failed. Please choose a model that supports `response_format` argument. Original error: litellm.RateLimitError: RateLimitError: Together_aiException - Request was rejected due to request rate limiting. Your rate limits are 60 RPM (1 QPS) and 60000 TPM (1000 TPS). See details: https://docs.together.ai/docs/rate-limits. Set `provide_traceback=True` for traceback.\n"
     ]
    },
    {
     "name": "stdout",
     "output_type": "stream",
     "text": [
      "Average Metric: 0.00 / 1 (0.0%):  74%|███████▍  | 26/35 [00:50<00:14,  1.61s/it]"
     ]
    },
    {
     "name": "stderr",
     "output_type": "stream",
     "text": [
      "2025/07/19 17:30:04 ERROR dspy.utils.parallelizer: Error for Example({'claim': 'Dairy Farm International holdings is a member of a British company. This British company whose majority of business interests are in Asia is related to the London Based Trading house Matheson & Company.', 'titles': ['Dairy Farm International Holdings', 'Matheson &amp; Company', 'Jardine Matheson']}) (input_keys={'claim'}): litellm.RateLimitError: RateLimitError: Together_aiException - Request was rejected due to request rate limiting. Your rate limits are 60 RPM (1 QPS) and 60000 TPM (1000 TPS). See details: https://docs.together.ai/docs/rate-limits. Set `provide_traceback=True` for traceback.\n"
     ]
    },
    {
     "name": "stdout",
     "output_type": "stream",
     "text": [
      "Average Metric: 0.00 / 1 (0.0%):  77%|███████▋  | 27/35 [00:52<00:13,  1.70s/it]"
     ]
    },
    {
     "name": "stderr",
     "output_type": "stream",
     "text": [
      "2025/07/19 17:30:04 ERROR dspy.utils.parallelizer: Error for Example({'claim': 'Sophia Grace & Rosie featured a cover song on their Youtube channel. The pop song from is from an album released under the Syco Music and Columbia Records labels.', 'titles': ['Touch (Little Mix song)', 'Glory Days (Little Mix album)', 'Sophia Grace &amp; Rosie']}) (input_keys={'claim'}): litellm.RateLimitError: RateLimitError: Together_aiException - Request was rejected due to request rate limiting. Your rate limits are 60 RPM (1 QPS) and 60000 TPM (1000 TPS). See details: https://docs.together.ai/docs/rate-limits. Set `provide_traceback=True` for traceback.\n"
     ]
    },
    {
     "name": "stdout",
     "output_type": "stream",
     "text": [
      "Average Metric: 0.00 / 1 (0.0%):  77%|███████▋  | 27/35 [00:52<00:13,  1.70s/it]"
     ]
    },
    {
     "name": "stderr",
     "output_type": "stream",
     "text": [
      "2025/07/19 17:30:08 ERROR dspy.utils.parallelizer: Error for Example({'claim': 'The American actress voices a character in King of the Hill, which is also American. She also wrote the song Tiggy is famous for remixing.', 'titles': ['Sandy Fox', 'King of the Hill', 'Tiggy']}) (input_keys={'claim'}): litellm.RateLimitError: RateLimitError: Together_aiException - Request was rejected due to request rate limiting. Your rate limits are 60 RPM (1 QPS) and 60000 TPM (1000 TPS). See details: https://docs.together.ai/docs/rate-limits. Set `provide_traceback=True` for traceback.\n"
     ]
    },
    {
     "name": "stdout",
     "output_type": "stream",
     "text": [
      "Average Metric: 0.00 / 1 (0.0%):  83%|████████▎ | 29/35 [00:56<00:11,  1.87s/it]"
     ]
    },
    {
     "name": "stderr",
     "output_type": "stream",
     "text": [
      "2025/07/19 17:30:10 ERROR dspy.utils.parallelizer: Error for Example({'claim': \"The real life person that James Woods' character is based on in the television film was awarded the Medal of Honor. Steven Vincent Leigh appeared in this film in 1987.\", 'titles': ['James Stockdale', 'Steven Vincent Leigh', 'In Love and War (1987 film)']}) (input_keys={'claim'}): litellm.RateLimitError: RateLimitError: Together_aiException - Request was rejected due to request rate limiting. Your rate limits are 60 RPM (1 QPS) and 60000 TPM (1000 TPS). See details: https://docs.together.ai/docs/rate-limits. Set `provide_traceback=True` for traceback.\n"
     ]
    },
    {
     "name": "stdout",
     "output_type": "stream",
     "text": [
      "Average Metric: 0.00 / 1 (0.0%):  86%|████████▌ | 30/35 [00:58<00:09,  1.93s/it]"
     ]
    },
    {
     "name": "stderr",
     "output_type": "stream",
     "text": [
      "2025/07/19 17:30:12 ERROR dspy.utils.parallelizer: Error for Example({'claim': \"The star of Spaceball's most renouwned onscreen performance was as Dell Griffith. He was in an Canadian comedy film from 1987.\", 'titles': ['Spaceballs', 'Planes, Trains and Automobiles', 'John Candy']}) (input_keys={'claim'}): litellm.RateLimitError: RateLimitError: Together_aiException - Request was rejected due to request rate limiting. Your rate limits are 60 RPM (1 QPS) and 60000 TPM (1000 TPS). See details: https://docs.together.ai/docs/rate-limits. Set `provide_traceback=True` for traceback.\n"
     ]
    },
    {
     "name": "stdout",
     "output_type": "stream",
     "text": [
      "Average Metric: 0.33 / 5 (6.7%): 100%|██████████| 35/35 [01:35<00:00,  2.72s/it]"
     ]
    },
    {
     "name": "stderr",
     "output_type": "stream",
     "text": [
      "2025/07/19 17:30:47 INFO dspy.evaluate.evaluate: Average Metric: 0.3333333333333333 / 35 (1.0%)\n",
      "2025/07/19 17:30:47 INFO dspy.teleprompt.mipro_optimizer_v2: Score: 0.95 on minibatch of size 35 with parameters ['Predictor 0: Instruction 1', 'Predictor 0: Few-Shot Set 3', 'Predictor 1: Instruction 4', 'Predictor 1: Few-Shot Set 4'].\n",
      "2025/07/19 17:30:47 INFO dspy.teleprompt.mipro_optimizer_v2: Minibatch scores so far: [2.86, 8.57, 18.1, 14.29, 3.81, 2.86, 6.67, 19.05, 0.95]\n",
      "2025/07/19 17:30:47 INFO dspy.teleprompt.mipro_optimizer_v2: Full eval scores so far: [2.08, 22.08]\n",
      "2025/07/19 17:30:47 INFO dspy.teleprompt.mipro_optimizer_v2: Best full score so far: 22.08\n",
      "2025/07/19 17:30:47 INFO dspy.teleprompt.mipro_optimizer_v2: ==========================================\n",
      "\n",
      "\n",
      "2025/07/19 17:30:47 INFO dspy.teleprompt.mipro_optimizer_v2: == Trial 12 / 35 - Minibatch ==\n"
     ]
    },
    {
     "name": "stdout",
     "output_type": "stream",
     "text": [
      "\n",
      "Average Metric: 0.00 / 2 (0.0%):   6%|▌         | 2/35 [00:06<01:38,  2.97s/it]"
     ]
    },
    {
     "name": "stderr",
     "output_type": "stream",
     "text": [
      "2025/07/19 17:31:02 ERROR dspy.utils.parallelizer: Error for Example({'claim': 'German Frank Sinatra has won more awards than this Skinny Puppy band member, for whom the Rx (band) was a one-off side project.', 'titles': ['Frank Sinatra', 'Rx (band)', 'Nivek Ogre']}) (input_keys={'claim'}): litellm.RateLimitError: RateLimitError: Together_aiException - Request was rejected due to request rate limiting. Your rate limits are 60 RPM (1 QPS) and 60000 TPM (1000 TPS). See details: https://docs.together.ai/docs/rate-limits. Set `provide_traceback=True` for traceback.\n"
     ]
    },
    {
     "name": "stdout",
     "output_type": "stream",
     "text": [
      "Average Metric: 0.00 / 2 (0.0%):   9%|▊         | 3/35 [00:14<02:53,  5.43s/it]"
     ]
    },
    {
     "name": "stderr",
     "output_type": "stream",
     "text": [
      "2025/07/19 17:31:03 ERROR dspy.utils.parallelizer: Error for Example({'claim': 'The person who had his voice featured in the 2012 film The Polar Bears, stars as Oliver in a film directed by Luca Guadagnino.', 'titles': ['Call Me by Your Name (film)', 'The Polar Bears', 'Armie Hammer']}) (input_keys={'claim'}): litellm.RateLimitError: RateLimitError: Together_aiException - Request was rejected due to request rate limiting. Your rate limits are 60 RPM (1 QPS) and 60000 TPM (1000 TPS). See details: https://docs.together.ai/docs/rate-limits. Set `provide_traceback=True` for traceback.\n"
     ]
    },
    {
     "name": "stdout",
     "output_type": "stream",
     "text": [
      "Average Metric: 0.00 / 2 (0.0%):  11%|█▏        | 4/35 [00:16<02:01,  3.92s/it]"
     ]
    },
    {
     "name": "stderr",
     "output_type": "stream",
     "text": [
      "2025/07/19 17:31:05 WARNING dspy.adapters.json_adapter: Failed to use structured output format, falling back to JSON mode.\n",
      "2025/07/19 17:31:06 ERROR dspy.utils.parallelizer: Error for Example({'claim': 'Passionate Love is a Korean television series starring Sung Hoon and the actress starring in a movie that was filmed in 2012.', 'titles': ['Choi Yoon-young', 'As One (film)', 'Passionate Love']}) (input_keys={'claim'}): litellm.RateLimitError: RateLimitError: Together_aiException - Request was rejected due to request rate limiting. Your rate limits are 60 RPM (1 QPS) and 60000 TPM (1000 TPS). See details: https://docs.together.ai/docs/rate-limits. Set `provide_traceback=True` for traceback.\n"
     ]
    },
    {
     "name": "stdout",
     "output_type": "stream",
     "text": [
      "Average Metric: 0.00 / 2 (0.0%):  14%|█▍        | 5/35 [00:19<01:49,  3.64s/it]"
     ]
    },
    {
     "name": "stderr",
     "output_type": "stream",
     "text": [
      "2025/07/19 17:31:06 ERROR dspy.utils.parallelizer: Error for Example({'claim': 'This series developer created T-Dog on the Walking Dead. He is the Hungarian-born US film director renowned for adapting Stephen King novellas to the screen, including The Mist and The Green Mile.', 'titles': ['The Mist (film)', 'Frank Darabont', 'T-Dog (The Walking Dead)']}) (input_keys={'claim'}): litellm.RateLimitError: RateLimitError: Together_aiException - Request was rejected due to request rate limiting. Your rate limits are 60 RPM (1 QPS) and 60000 TPM (1000 TPS). See details: https://docs.together.ai/docs/rate-limits. Set `provide_traceback=True` for traceback.\n"
     ]
    },
    {
     "name": "stdout",
     "output_type": "stream",
     "text": [
      "Average Metric: 0.00 / 2 (0.0%):  14%|█▍        | 5/35 [00:19<01:49,  3.64s/it]"
     ]
    },
    {
     "name": "stderr",
     "output_type": "stream",
     "text": [
      "2025/07/19 17:31:07 ERROR dspy.utils.parallelizer: Error for Example({'claim': 'An actor born in 1955 that acted in the movie that was the inspiration for Blackmail (2005 film) was nominated for Golden Globe Award.', 'titles': ['Blackmail (2005 film)', 'Ransom (1996 film)', 'Gary Sinise']}) (input_keys={'claim'}): litellm.RateLimitError: RateLimitError: Together_aiException - Request was rejected due to request rate limiting. Your rate limits are 60 RPM (1 QPS) and 60000 TPM (1000 TPS). See details: https://docs.together.ai/docs/rate-limits. Set `provide_traceback=True` for traceback.\n"
     ]
    },
    {
     "name": "stdout",
     "output_type": "stream",
     "text": [
      "Average Metric: 0.00 / 2 (0.0%):  20%|██        | 7/35 [00:19<00:51,  1.83s/it]"
     ]
    },
    {
     "name": "stderr",
     "output_type": "stream",
     "text": [
      "2025/07/19 17:31:07 ERROR dspy.utils.parallelizer: Error for Example({'claim': 'This Greek poet was born before Cornel West. His works were translated to English by David Connolly.', 'titles': ['David Connolly (translator)', 'Odysseas Elytis', 'Cornel West']}) (input_keys={'claim'}): litellm.RateLimitError: RateLimitError: Together_aiException - Request was rejected due to request rate limiting. Your rate limits are 60 RPM (1 QPS) and 60000 TPM (1000 TPS). See details: https://docs.together.ai/docs/rate-limits. Set `provide_traceback=True` for traceback.\n"
     ]
    },
    {
     "name": "stdout",
     "output_type": "stream",
     "text": [
      "Average Metric: 0.00 / 2 (0.0%):  20%|██        | 7/35 [00:19<00:51,  1.83s/it]"
     ]
    },
    {
     "name": "stderr",
     "output_type": "stream",
     "text": [
      "2025/07/19 17:31:09 ERROR dspy.utils.parallelizer: Error for Example({'claim': 'Helen Mirren, a client of the designer who designed the wedding dress of Sarah Ferguson, played Lindka in \"The Queen\".', 'titles': ['Wedding dress of Sarah Ferguson', 'Lindka Cierach', 'Helen Mirren']}) (input_keys={'claim'}): litellm.RateLimitError: RateLimitError: Together_aiException - Request was rejected due to request rate limiting. Your rate limits are 60 RPM (1 QPS) and 60000 TPM (1000 TPS). See details: https://docs.together.ai/docs/rate-limits. Set `provide_traceback=True` for traceback.\n"
     ]
    },
    {
     "name": "stdout",
     "output_type": "stream",
     "text": [
      "Average Metric: 0.00 / 2 (0.0%):  26%|██▌       | 9/35 [00:21<00:39,  1.52s/it]"
     ]
    },
    {
     "name": "stderr",
     "output_type": "stream",
     "text": [
      "2025/07/19 17:31:12 ERROR dspy.utils.parallelizer: Error for Example({'claim': 'Christopher Whitelaw Pine appeared in the films that inspired Good Luck! and \"Into the Woods\".', 'titles': ['Just My Luck (2006 film)', 'Good Luck!', 'Chris Pine']}) (input_keys={'claim'}): litellm.RateLimitError: RateLimitError: Together_aiException - Request was rejected due to request rate limiting. Your rate limits are 60 RPM (1 QPS) and 60000 TPM (1000 TPS). See details: https://docs.together.ai/docs/rate-limits. Set `provide_traceback=True` for traceback.\n"
     ]
    },
    {
     "name": "stdout",
     "output_type": "stream",
     "text": [
      "Average Metric: 0.00 / 2 (0.0%):  29%|██▊       | 10/35 [00:25<00:49,  1.99s/it]"
     ]
    },
    {
     "name": "stderr",
     "output_type": "stream",
     "text": [
      "2025/07/19 17:31:12 ERROR dspy.utils.parallelizer: Error for Example({'claim': 'The actress that starred as a parent in Sky High (2005 film) is married to John Travolta. She also starred in a summer 1994 film about a pregnant woman who is stranded at a trading post during the American Civil War.', 'titles': ['Sky High (2005 film)', 'Cheyenne Warrior', 'Kelly Preston']}) (input_keys={'claim'}): litellm.RateLimitError: RateLimitError: Together_aiException - Request was rejected due to request rate limiting. Your rate limits are 60 RPM (1 QPS) and 60000 TPM (1000 TPS). See details: https://docs.together.ai/docs/rate-limits. Set `provide_traceback=True` for traceback.\n"
     ]
    },
    {
     "name": "stdout",
     "output_type": "stream",
     "text": [
      "Average Metric: 0.33 / 3 (11.1%):  34%|███▍      | 12/35 [00:26<00:35,  1.52s/it]"
     ]
    },
    {
     "name": "stderr",
     "output_type": "stream",
     "text": [
      "2025/07/19 17:31:15 WARNING dspy.adapters.json_adapter: Failed to use structured output format, falling back to JSON mode.\n",
      "2025/07/19 17:31:15 ERROR dspy.utils.parallelizer: Error for Example({'claim': 'Bowdoin College was established before another university. This university was attended by John Wesley Hughes.', 'titles': ['Vanderbilt University', 'John Wesley Hughes', 'Bowdoin College']}) (input_keys={'claim'}): Both structured output format and JSON mode failed. Please choose a model that supports `response_format` argument. Original error: litellm.RateLimitError: RateLimitError: Together_aiException - Request was rejected due to request rate limiting. Your rate limits are 60 RPM (1 QPS) and 60000 TPM (1000 TPS). See details: https://docs.together.ai/docs/rate-limits. Set `provide_traceback=True` for traceback.\n"
     ]
    },
    {
     "name": "stdout",
     "output_type": "stream",
     "text": [
      "Average Metric: 0.33 / 3 (11.1%):  37%|███▋      | 13/35 [00:27<00:30,  1.37s/it]"
     ]
    },
    {
     "name": "stderr",
     "output_type": "stream",
     "text": [
      "2025/07/19 17:31:17 WARNING dspy.adapters.json_adapter: Failed to use structured output format, falling back to JSON mode.\n"
     ]
    },
    {
     "name": "stdout",
     "output_type": "stream",
     "text": [
      "Average Metric: 0.67 / 4 (16.7%):  40%|████      | 14/35 [00:32<00:45,  2.15s/it]"
     ]
    },
    {
     "name": "stderr",
     "output_type": "stream",
     "text": [
      "2025/07/19 17:31:21 ERROR dspy.utils.parallelizer: Error for Example({'claim': 'The novelist that wrote The Watchful Gods and Other Stories is Californian. Billie Letts is also Californian.', 'titles': ['Walter Van Tilburg Clark', 'The Watchful Gods and Other Stories', 'Billie Letts']}) (input_keys={'claim'}): litellm.RateLimitError: RateLimitError: Together_aiException - Request was rejected due to request rate limiting. Your rate limits are 60 RPM (1 QPS) and 60000 TPM (1000 TPS). See details: https://docs.together.ai/docs/rate-limits. Set `provide_traceback=True` for traceback.\n"
     ]
    },
    {
     "name": "stdout",
     "output_type": "stream",
     "text": [
      "Average Metric: 0.67 / 4 (16.7%):  43%|████▎     | 15/35 [00:33<00:40,  2.02s/it]"
     ]
    },
    {
     "name": "stderr",
     "output_type": "stream",
     "text": [
      "2025/07/19 17:31:26 ERROR dspy.utils.parallelizer: Error for Example({'claim': 'Neither the director of the 1943 film \"Young and Willing\" nor Edward Burns are from Guatemala.', 'titles': ['Edward H. Griffith', 'Edward Burns', 'Young and Willing']}) (input_keys={'claim'}): Both structured output format and JSON mode failed. Please choose a model that supports `response_format` argument. Original error: litellm.RateLimitError: RateLimitError: Together_aiException - Request was rejected due to request rate limiting. Your rate limits are 60 RPM (1 QPS) and 60000 TPM (1000 TPS). See details: https://docs.together.ai/docs/rate-limits. Set `provide_traceback=True` for traceback.\n"
     ]
    },
    {
     "name": "stdout",
     "output_type": "stream",
     "text": [
      "Average Metric: 0.67 / 4 (16.7%):  46%|████▌     | 16/35 [00:38<00:52,  2.78s/it]"
     ]
    },
    {
     "name": "stderr",
     "output_type": "stream",
     "text": [
      "2025/07/19 17:31:26 WARNING dspy.adapters.json_adapter: Failed to use structured output format, falling back to JSON mode.\n",
      "2025/07/19 17:31:26 ERROR dspy.utils.parallelizer: Error for Example({'claim': 'The owner of Tatoosh (yacht) has a sister named Jo Lynn \"Jody\". He is an South African business magnate, investor and philanthropist.', 'titles': ['Jody Allen', 'Paul Allen', 'Tatoosh (yacht)']}) (input_keys={'claim'}): litellm.RateLimitError: RateLimitError: Together_aiException - Request was rejected due to request rate limiting. Your rate limits are 60 RPM (1 QPS) and 60000 TPM (1000 TPS). See details: https://docs.together.ai/docs/rate-limits. Set `provide_traceback=True` for traceback.\n"
     ]
    },
    {
     "name": "stdout",
     "output_type": "stream",
     "text": [
      "Average Metric: 0.67 / 4 (16.7%):  49%|████▊     | 17/35 [00:39<00:39,  2.18s/it]"
     ]
    },
    {
     "name": "stderr",
     "output_type": "stream",
     "text": [
      "2025/07/19 17:31:27 ERROR dspy.utils.parallelizer: Error for Example({'claim': 'The actor Giancarlo Giuseppe Alessandro Esposito starred in the 2016 film that also starred Olivia Luccardi. Giancarlo is best known for his portrayal of Gustavo \"Gus\" Fring on the AMC shows \"Breaking Bad\" and \"Breaking Bad\".', 'titles': ['Money Monster', 'Giancarlo Esposito', 'Olivia Luccardi']}) (input_keys={'claim'}): litellm.RateLimitError: RateLimitError: Together_aiException - Request was rejected due to request rate limiting. Your rate limits are 60 RPM (1 QPS) and 60000 TPM (1000 TPS). See details: https://docs.together.ai/docs/rate-limits. Set `provide_traceback=True` for traceback.\n"
     ]
    },
    {
     "name": "stdout",
     "output_type": "stream",
     "text": [
      "Average Metric: 0.67 / 4 (16.7%):  49%|████▊     | 17/35 [00:39<00:39,  2.18s/it]"
     ]
    },
    {
     "name": "stderr",
     "output_type": "stream",
     "text": [
      "2025/07/19 17:31:28 ERROR dspy.utils.parallelizer: Error for Example({'claim': 'The genera that the Gordonia-Alatamaha State Park is named after and Osbeckia are not in the same family.', 'titles': ['Gordonia (plant)', 'Osbeckia', 'Gordonia-Alatamaha State Park']}) (input_keys={'claim'}): litellm.RateLimitError: RateLimitError: Together_aiException - Request was rejected due to request rate limiting. Your rate limits are 60 RPM (1 QPS) and 60000 TPM (1000 TPS). See details: https://docs.together.ai/docs/rate-limits. Set `provide_traceback=True` for traceback.\n"
     ]
    },
    {
     "name": "stdout",
     "output_type": "stream",
     "text": [
      "Average Metric: 0.67 / 4 (16.7%):  54%|█████▍    | 19/35 [00:40<00:24,  1.52s/it]"
     ]
    },
    {
     "name": "stderr",
     "output_type": "stream",
     "text": [
      "2025/07/19 17:31:34 ERROR dspy.utils.parallelizer: Error for Example({'claim': 'Candlelight Red the musical group has released twice as many albums as the band who also performs as One Unique Signal.', 'titles': ['Candlelight Red', 'The Telescopes', 'One Unique Signal']}) (input_keys={'claim'}): litellm.RateLimitError: RateLimitError: Together_aiException - Request was rejected due to request rate limiting. Your rate limits are 60 RPM (1 QPS) and 60000 TPM (1000 TPS). See details: https://docs.together.ai/docs/rate-limits. Set `provide_traceback=True` for traceback.\n"
     ]
    },
    {
     "name": "stdout",
     "output_type": "stream",
     "text": [
      "Average Metric: 0.67 / 4 (16.7%):  57%|█████▋    | 20/35 [00:46<00:38,  2.54s/it]"
     ]
    },
    {
     "name": "stderr",
     "output_type": "stream",
     "text": [
      "2025/07/19 17:31:34 ERROR dspy.utils.parallelizer: Error for Example({'claim': 'The director of action movie Batman: Mask of the Phantasm, produced Avengers Assemble that premiered on Disney XD on May 26, 2013.', 'titles': ['Eric Radomski', 'Batman: Mask of the Phantasm', 'Avengers Assemble (TV series)']}) (input_keys={'claim'}): Both structured output format and JSON mode failed. Please choose a model that supports `response_format` argument. Original error: litellm.RateLimitError: RateLimitError: Together_aiException - Request was rejected due to request rate limiting. Your rate limits are 60 RPM (1 QPS) and 60000 TPM (1000 TPS). See details: https://docs.together.ai/docs/rate-limits. Set `provide_traceback=True` for traceback.\n"
     ]
    },
    {
     "name": "stdout",
     "output_type": "stream",
     "text": [
      "Average Metric: 1.00 / 5 (20.0%):  63%|██████▎   | 22/35 [00:50<00:31,  2.42s/it]"
     ]
    },
    {
     "name": "stderr",
     "output_type": "stream",
     "text": [
      "2025/07/19 17:31:38 ERROR dspy.utils.parallelizer: Error for Example({'claim': 'The director of The Moth Diaries (born January 12, 1953) was a French Canadian filmmaker who created a film about Bettie Page in 2005.', 'titles': ['The Moth Diaries (film)', 'Mary Harron', 'The Notorious Bettie Page']}) (input_keys={'claim'}): litellm.RateLimitError: RateLimitError: Together_aiException - Request was rejected due to request rate limiting. Your rate limits are 60 RPM (1 QPS) and 60000 TPM (1000 TPS). See details: https://docs.together.ai/docs/rate-limits. Set `provide_traceback=True` for traceback.\n"
     ]
    },
    {
     "name": "stdout",
     "output_type": "stream",
     "text": [
      "Average Metric: 1.00 / 5 (20.0%):  66%|██████▌   | 23/35 [00:50<00:22,  1.83s/it]"
     ]
    },
    {
     "name": "stderr",
     "output_type": "stream",
     "text": [
      "2025/07/19 17:31:44 WARNING dspy.adapters.json_adapter: Failed to use structured output format, falling back to JSON mode.\n",
      "2025/07/19 17:31:45 ERROR dspy.utils.parallelizer: Error for Example({'claim': 'Jonathan Howsmon Davis lives closer to Canada than this Japanese singer, whose fifth solo studio album is called Singing Bird.', 'titles': ['Koshi Inaba', 'Jonathan Davis', 'Singing Bird']}) (input_keys={'claim'}): litellm.RateLimitError: RateLimitError: Together_aiException - Request was rejected due to request rate limiting. Your rate limits are 60 RPM (1 QPS) and 60000 TPM (1000 TPS). See details: https://docs.together.ai/docs/rate-limits. Set `provide_traceback=True` for traceback.\n"
     ]
    },
    {
     "name": "stdout",
     "output_type": "stream",
     "text": [
      "Average Metric: 1.00 / 5 (20.0%):  66%|██████▌   | 23/35 [00:57<00:22,  1.83s/it]"
     ]
    },
    {
     "name": "stderr",
     "output_type": "stream",
     "text": [
      "2025/07/19 17:31:45 ERROR dspy.utils.parallelizer: Error for Example({'claim': 'The director Jonathan Demme presented Made in Texas at a theater in Lower Manhattan which featured work from the filmmaker Dziga Vertov also known as Denis Kaufman.', 'titles': ['Collective for Living Cinema', 'Made in Texas', 'Dziga Vertov']}) (input_keys={'claim'}): litellm.RateLimitError: RateLimitError: Together_aiException - Request was rejected due to request rate limiting. Your rate limits are 60 RPM (1 QPS) and 60000 TPM (1000 TPS). See details: https://docs.together.ai/docs/rate-limits. Set `provide_traceback=True` for traceback.\n"
     ]
    },
    {
     "name": "stdout",
     "output_type": "stream",
     "text": [
      "Average Metric: 1.33 / 7 (19.0%):  77%|███████▋  | 27/35 [00:59<00:14,  1.77s/it]"
     ]
    },
    {
     "name": "stderr",
     "output_type": "stream",
     "text": [
      "2025/07/19 17:31:46 ERROR dspy.utils.parallelizer: Error for Example({'claim': 'Grand Forks International Airport is closer to the town it is near, than the airport close by to The Texas Air & Space Museum.', 'titles': ['Texas Air &amp; Space Museum', 'Rick Husband Amarillo International Airport', 'Grand Forks International Airport']}) (input_keys={'claim'}): litellm.RateLimitError: RateLimitError: Together_aiException - Request was rejected due to request rate limiting. Your rate limits are 60 RPM (1 QPS) and 60000 TPM (1000 TPS). See details: https://docs.together.ai/docs/rate-limits. Set `provide_traceback=True` for traceback.\n"
     ]
    },
    {
     "name": "stdout",
     "output_type": "stream",
     "text": [
      "Average Metric: 1.33 / 7 (19.0%):  77%|███████▋  | 27/35 [00:59<00:14,  1.77s/it]"
     ]
    },
    {
     "name": "stderr",
     "output_type": "stream",
     "text": [
      "2025/07/19 17:31:46 ERROR dspy.utils.parallelizer: Error for Example({'claim': '\"Licence Revoked\" was the original title during production of a war film that has the actor from Maniac Cop 2. The actor stars as villain Franz Sanchez in \"Licence Revoked\".', 'titles': ['Licence to Kill', 'Robert Davi', 'Maniac Cop 2']}) (input_keys={'claim'}): litellm.RateLimitError: RateLimitError: Together_aiException - Request was rejected due to request rate limiting. Your rate limits are 60 RPM (1 QPS) and 60000 TPM (1000 TPS). See details: https://docs.together.ai/docs/rate-limits. Set `provide_traceback=True` for traceback.\n"
     ]
    },
    {
     "name": "stdout",
     "output_type": "stream",
     "text": [
      "Average Metric: 1.33 / 7 (19.0%):  80%|████████  | 28/35 [00:59<00:12,  1.77s/it]"
     ]
    },
    {
     "name": "stderr",
     "output_type": "stream",
     "text": [
      "2025/07/19 17:31:48 ERROR dspy.utils.parallelizer: Error for Example({'claim': 'Avery Waddell is the director of the banned hardcore pornographic film War Dogs. and also directed the film Road Trip starring Breckin Meyer. Todd Phillip also directed a film starring Breckin Meyer.', 'titles': ['Avery Waddell', 'Todd Phillips', 'Road Trip (film)']}) (input_keys={'claim'}): litellm.RateLimitError: RateLimitError: Together_aiException - Request was rejected due to request rate limiting. Your rate limits are 60 RPM (1 QPS) and 60000 TPM (1000 TPS). See details: https://docs.together.ai/docs/rate-limits. Set `provide_traceback=True` for traceback.\n"
     ]
    },
    {
     "name": "stdout",
     "output_type": "stream",
     "text": [
      "Average Metric: 3.33 / 12 (27.8%): 100%|██████████| 35/35 [01:39<00:00,  2.83s/it]"
     ]
    },
    {
     "name": "stderr",
     "output_type": "stream",
     "text": [
      "2025/07/19 17:32:26 INFO dspy.evaluate.evaluate: Average Metric: 3.333333333333333 / 35 (9.5%)\n",
      "2025/07/19 17:32:26 INFO dspy.teleprompt.mipro_optimizer_v2: Score: 9.52 on minibatch of size 35 with parameters ['Predictor 0: Instruction 5', 'Predictor 0: Few-Shot Set 11', 'Predictor 1: Instruction 5', 'Predictor 1: Few-Shot Set 1'].\n",
      "2025/07/19 17:32:26 INFO dspy.teleprompt.mipro_optimizer_v2: Minibatch scores so far: [2.86, 8.57, 18.1, 14.29, 3.81, 2.86, 6.67, 19.05, 0.95, 9.52]\n",
      "2025/07/19 17:32:26 INFO dspy.teleprompt.mipro_optimizer_v2: Full eval scores so far: [2.08, 22.08]\n",
      "2025/07/19 17:32:26 INFO dspy.teleprompt.mipro_optimizer_v2: Best full score so far: 22.08\n",
      "2025/07/19 17:32:26 INFO dspy.teleprompt.mipro_optimizer_v2: ==========================================\n",
      "\n",
      "\n",
      "2025/07/19 17:32:26 INFO dspy.teleprompt.mipro_optimizer_v2: ===== Trial 13 / 35 - Full Evaluation =====\n",
      "2025/07/19 17:32:26 INFO dspy.teleprompt.mipro_optimizer_v2: Doing full eval on next top averaging program (Avg Score: 19.05) from minibatch trials...\n"
     ]
    },
    {
     "name": "stdout",
     "output_type": "stream",
     "text": [
      "\n",
      "Average Metric: 1.00 / 2 (50.0%):   2%|▎         | 2/80 [00:09<05:30,  4.23s/it]"
     ]
    },
    {
     "name": "stderr",
     "output_type": "stream",
     "text": [
      "2025/07/19 17:32:43 ERROR dspy.utils.parallelizer: Error for Example({'claim': 'The actor, who played Spellingg Bee\" in \"That\\'s My Bush!\", from Stockton, CA appeared in Psych, an American detective comedy-drama television series created by Steve Franks.', 'titles': ['Kurt Fuller', \"That's My Bush!\", 'Psych']}) (input_keys={'claim'}): litellm.RateLimitError: RateLimitError: Together_aiException - Request was rejected due to request rate limiting. Your rate limits are 60 RPM (1 QPS) and 60000 TPM (1000 TPS). See details: https://docs.together.ai/docs/rate-limits. Set `provide_traceback=True` for traceback.\n"
     ]
    },
    {
     "name": "stdout",
     "output_type": "stream",
     "text": [
      "Average Metric: 1.00 / 2 (50.0%):   4%|▍         | 3/80 [00:16<07:03,  5.50s/it]"
     ]
    },
    {
     "name": "stderr",
     "output_type": "stream",
     "text": [
      "2025/07/19 17:32:43 ERROR dspy.utils.parallelizer: Error for Example({'claim': 'The director of From the Manger to the Cross also acted in it. The director Denis Villeneuve has won more Those Who Make Revolution Halfway than this director.', 'titles': ['Denis Villeneuve', 'Sidney Olcott', 'From the Manger to the Cross']}) (input_keys={'claim'}): litellm.RateLimitError: RateLimitError: Together_aiException - Request was rejected due to request rate limiting. Your rate limits are 60 RPM (1 QPS) and 60000 TPM (1000 TPS). See details: https://docs.together.ai/docs/rate-limits. Set `provide_traceback=True` for traceback.\n"
     ]
    },
    {
     "name": "stdout",
     "output_type": "stream",
     "text": [
      "Average Metric: 1.00 / 2 (50.0%):   4%|▍         | 3/80 [00:16<07:03,  5.50s/it]"
     ]
    },
    {
     "name": "stderr",
     "output_type": "stream",
     "text": [
      "2025/07/19 17:32:45 ERROR dspy.utils.parallelizer: Error for Example({'claim': 'Lari Michele White is the county music artist that first gained national attention as a winner on \"You Can Be a Star\". She then went on to provide background vocals on the first single of the album, Now and Then.', 'titles': ['Lari White', 'Take It Like a Man (Michelle Wright song)', 'Now and Then (Michelle Wright album)']}) (input_keys={'claim'}): litellm.RateLimitError: RateLimitError: Together_aiException - Request was rejected due to request rate limiting. Your rate limits are 60 RPM (1 QPS) and 60000 TPM (1000 TPS). See details: https://docs.together.ai/docs/rate-limits. Set `provide_traceback=True` for traceback.\n"
     ]
    },
    {
     "name": "stdout",
     "output_type": "stream",
     "text": [
      "Average Metric: 1.00 / 2 (50.0%):   6%|▋         | 5/80 [00:18<03:28,  2.79s/it]"
     ]
    },
    {
     "name": "stderr",
     "output_type": "stream",
     "text": [
      "2025/07/19 17:32:46 ERROR dspy.utils.parallelizer: Error for Example({'claim': 'Markounda is a sub-prefecture that borders an Central African Republic country bordered by Libya and the Sudan and is known for the Dar Sila region.', 'titles': ['Markounda', 'Sila Region', 'Chad']}) (input_keys={'claim'}): litellm.RateLimitError: RateLimitError: Together_aiException - Request was rejected due to request rate limiting. Your rate limits are 60 RPM (1 QPS) and 60000 TPM (1000 TPS). See details: https://docs.together.ai/docs/rate-limits. Set `provide_traceback=True` for traceback.\n"
     ]
    },
    {
     "name": "stdout",
     "output_type": "stream",
     "text": [
      "Average Metric: 1.00 / 2 (50.0%):   8%|▊         | 6/80 [00:19<02:46,  2.25s/it]"
     ]
    },
    {
     "name": "stderr",
     "output_type": "stream",
     "text": [
      "2025/07/19 17:32:47 ERROR dspy.utils.parallelizer: Error for Example({'claim': 'Tim Swanson, who played keyboard for the \"Sweet Nothings\" album, was a member of a different jazz band. This band and Lit were not formed in the same states.', 'titles': ['Lit (band)', 'Sweet Nothings (album)', 'Ideamen']}) (input_keys={'claim'}): litellm.RateLimitError: RateLimitError: Together_aiException - Request was rejected due to request rate limiting. Your rate limits are 60 RPM (1 QPS) and 60000 TPM (1000 TPS). See details: https://docs.together.ai/docs/rate-limits. Set `provide_traceback=True` for traceback.\n"
     ]
    },
    {
     "name": "stdout",
     "output_type": "stream",
     "text": [
      "Average Metric: 1.67 / 3 (55.6%):  10%|█         | 8/80 [00:22<02:26,  2.04s/it]"
     ]
    },
    {
     "name": "stderr",
     "output_type": "stream",
     "text": [
      "2025/07/19 17:32:49 WARNING dspy.adapters.json_adapter: Failed to use structured output format, falling back to JSON mode.\n",
      "2025/07/19 17:32:49 ERROR dspy.utils.parallelizer: Error for Example({'claim': 'Lincoln Barrett is the real name of the welsh electronic music producer DJ who have been visited the night club  in Vienna hundreds of times. The Waves of Vienna festival takes place in the same nightclub.', 'titles': ['Flex (club)', 'Waves Vienna', 'High Contrast']}) (input_keys={'claim'}): litellm.RateLimitError: RateLimitError: Together_aiException - Request was rejected due to request rate limiting. Your rate limits are 60 RPM (1 QPS) and 60000 TPM (1000 TPS). See details: https://docs.together.ai/docs/rate-limits. Set `provide_traceback=True` for traceback.\n"
     ]
    },
    {
     "name": "stdout",
     "output_type": "stream",
     "text": [
      "Average Metric: 2.33 / 4 (58.3%):  12%|█▎        | 10/80 [00:24<01:43,  1.47s/it]"
     ]
    },
    {
     "name": "stderr",
     "output_type": "stream",
     "text": [
      "2025/07/19 17:32:51 WARNING dspy.adapters.json_adapter: Failed to use structured output format, falling back to JSON mode.\n",
      "2025/07/19 17:32:53 ERROR dspy.utils.parallelizer: Error for Example({'claim': \"The defending champion who lost the Singles title at the 1994 Waldbaum's Hamlet Cup, and Max Mirnyi have both been tennis players.\", 'titles': ['Max Mirnyi', \"1994 Waldbaum's Hamlet Cup – Singles\", 'Marc Rosset']}) (input_keys={'claim'}): litellm.RateLimitError: RateLimitError: Together_aiException - Request was rejected due to request rate limiting. Your rate limits are 60 RPM (1 QPS) and 60000 TPM (1000 TPS). See details: https://docs.together.ai/docs/rate-limits. Set `provide_traceback=True` for traceback.\n"
     ]
    },
    {
     "name": "stdout",
     "output_type": "stream",
     "text": [
      "Average Metric: 2.67 / 5 (53.3%):  15%|█▌        | 12/80 [00:26<01:33,  1.37s/it]"
     ]
    },
    {
     "name": "stderr",
     "output_type": "stream",
     "text": [
      "2025/07/19 17:32:54 ERROR dspy.utils.parallelizer: Error for Example({'claim': 'Jonathan Howsmon Davis lives closer to Canada than this Japanese singer, whose fifth solo studio album is called Singing Bird.', 'titles': ['Koshi Inaba', 'Jonathan Davis', 'Singing Bird']}) (input_keys={'claim'}): litellm.RateLimitError: RateLimitError: Together_aiException - Request was rejected due to request rate limiting. Your rate limits are 60 RPM (1 QPS) and 60000 TPM (1000 TPS). See details: https://docs.together.ai/docs/rate-limits. Set `provide_traceback=True` for traceback.\n"
     ]
    },
    {
     "name": "stdout",
     "output_type": "stream",
     "text": [
      "Average Metric: 2.67 / 5 (53.3%):  16%|█▋        | 13/80 [00:27<01:09,  1.03s/it]"
     ]
    },
    {
     "name": "stderr",
     "output_type": "stream",
     "text": [
      "2025/07/19 17:32:56 ERROR dspy.utils.parallelizer: Error for Example({'claim': 'The city containing the Parafield railway station is very near the airport and the Mawson Lakes campus of the University of South Australia.', 'titles': ['Parafield, South Australia', 'Parafield railway station', 'Parafield Airport']}) (input_keys={'claim'}): litellm.RateLimitError: RateLimitError: Together_aiException - Request was rejected due to request rate limiting. Your rate limits are 60 RPM (1 QPS) and 60000 TPM (1000 TPS). See details: https://docs.together.ai/docs/rate-limits. Set `provide_traceback=True` for traceback.\n"
     ]
    },
    {
     "name": "stdout",
     "output_type": "stream",
     "text": [
      "Average Metric: 2.67 / 5 (53.3%):  18%|█▊        | 14/80 [00:29<01:25,  1.30s/it]"
     ]
    },
    {
     "name": "stderr",
     "output_type": "stream",
     "text": [
      "2025/07/19 17:32:56 ERROR dspy.utils.parallelizer: Error for Example({'claim': 'Mother Mother (song) was the last song by a female solo artist to top this chart until the song was the first song released by Lorde by New Zealand singer Lorde. Also to be released later on her debut studio album.', 'titles': ['Royals (song)', 'Mother Mother (song)', 'Tennis Court (song)']}) (input_keys={'claim'}): litellm.RateLimitError: RateLimitError: Together_aiException - Request was rejected due to request rate limiting. Your rate limits are 60 RPM (1 QPS) and 60000 TPM (1000 TPS). See details: https://docs.together.ai/docs/rate-limits. Set `provide_traceback=True` for traceback.\n"
     ]
    },
    {
     "name": "stdout",
     "output_type": "stream",
     "text": [
      "Average Metric: 2.67 / 5 (53.3%):  19%|█▉        | 15/80 [00:29<01:12,  1.11s/it]"
     ]
    },
    {
     "name": "stderr",
     "output_type": "stream",
     "text": [
      "2025/07/19 17:33:02 ERROR dspy.utils.parallelizer: Error for Example({'claim': 'Neither the director of the 1943 film \"Young and Willing\" nor Edward Burns are from Guatemala.', 'titles': ['Edward H. Griffith', 'Edward Burns', 'Young and Willing']}) (input_keys={'claim'}): litellm.RateLimitError: RateLimitError: Together_aiException - Request was rejected due to request rate limiting. Your rate limits are 60 RPM (1 QPS) and 60000 TPM (1000 TPS). See details: https://docs.together.ai/docs/rate-limits. Set `provide_traceback=True` for traceback.\n"
     ]
    },
    {
     "name": "stdout",
     "output_type": "stream",
     "text": [
      "Average Metric: 2.67 / 5 (53.3%):  20%|██        | 16/80 [00:35<02:43,  2.56s/it]"
     ]
    },
    {
     "name": "stderr",
     "output_type": "stream",
     "text": [
      "2025/07/19 17:33:05 ERROR dspy.utils.parallelizer: Error for Example({'claim': 'The band Billy Anderson produces has the guitarist Gorden Mack, and the band Daughtry.', 'titles': ['Daughtry (band)', 'Billy Anderson (producer)', 'Red House Painters']}) (input_keys={'claim'}): litellm.RateLimitError: RateLimitError: Together_aiException - Request was rejected due to request rate limiting. Your rate limits are 60 RPM (1 QPS) and 60000 TPM (1000 TPS). See details: https://docs.together.ai/docs/rate-limits. Set `provide_traceback=True` for traceback.\n"
     ]
    },
    {
     "name": "stdout",
     "output_type": "stream",
     "text": [
      "Average Metric: 2.67 / 5 (53.3%):  21%|██▏       | 17/80 [00:38<02:51,  2.73s/it]"
     ]
    },
    {
     "name": "stderr",
     "output_type": "stream",
     "text": [
      "2025/07/19 17:33:08 WARNING dspy.adapters.json_adapter: Failed to use structured output format, falling back to JSON mode.\n"
     ]
    },
    {
     "name": "stdout",
     "output_type": "stream",
     "text": [
      "Average Metric: 3.33 / 6 (55.6%):  22%|██▎       | 18/80 [00:43<03:22,  3.27s/it]"
     ]
    },
    {
     "name": "stderr",
     "output_type": "stream",
     "text": [
      "2025/07/19 17:33:10 ERROR dspy.utils.parallelizer: Error for Example({'claim': 'This equatorial island is known for Breacachadh which is also known as Breachacha Castle. It is also home to Dùn Dubh.', 'titles': ['Dùn Dubh', 'Breachacha Castle', 'Coll']}) (input_keys={'claim'}): litellm.RateLimitError: RateLimitError: Together_aiException - Request was rejected due to request rate limiting. Your rate limits are 60 RPM (1 QPS) and 60000 TPM (1000 TPS). See details: https://docs.together.ai/docs/rate-limits. Set `provide_traceback=True` for traceback.\n"
     ]
    },
    {
     "name": "stdout",
     "output_type": "stream",
     "text": [
      "Average Metric: 3.33 / 6 (55.6%):  24%|██▍       | 19/80 [00:43<02:22,  2.33s/it]"
     ]
    },
    {
     "name": "stderr",
     "output_type": "stream",
     "text": [
      "2025/07/19 17:33:14 ERROR dspy.utils.parallelizer: Error for Example({'claim': 'The director Jonathan Demme presented Made in Texas at a theater in Lower Manhattan which featured work from the filmmaker Dziga Vertov also known as Denis Kaufman.', 'titles': ['Collective for Living Cinema', 'Made in Texas', 'Dziga Vertov']}) (input_keys={'claim'}): litellm.RateLimitError: RateLimitError: Together_aiException - Request was rejected due to request rate limiting. Your rate limits are 60 RPM (1 QPS) and 60000 TPM (1000 TPS). See details: https://docs.together.ai/docs/rate-limits. Set `provide_traceback=True` for traceback.\n"
     ]
    },
    {
     "name": "stdout",
     "output_type": "stream",
     "text": [
      "Average Metric: 3.33 / 6 (55.6%):  24%|██▍       | 19/80 [00:47<02:22,  2.33s/it]"
     ]
    },
    {
     "name": "stderr",
     "output_type": "stream",
     "text": [
      "2025/07/19 17:33:14 ERROR dspy.utils.parallelizer: Error for Example({'claim': 'Anthony Sandler is the Chief of Pediatric Surgery at a large hospital. MedStar Washington Hospital Center is the largest private hospital in Washington, D.C. not this hospital.', 'titles': ['MedStar Washington Hospital Center', \"Children's National Medical Center\", 'Anthony Sandler']}) (input_keys={'claim'}): litellm.RateLimitError: RateLimitError: Together_aiException - Request was rejected due to request rate limiting. Your rate limits are 60 RPM (1 QPS) and 60000 TPM (1000 TPS). See details: https://docs.together.ai/docs/rate-limits. Set `provide_traceback=True` for traceback.\n"
     ]
    },
    {
     "name": "stdout",
     "output_type": "stream",
     "text": [
      "Average Metric: 3.33 / 6 (55.6%):  25%|██▌       | 20/80 [00:47<02:52,  2.88s/it]"
     ]
    },
    {
     "name": "stderr",
     "output_type": "stream",
     "text": [
      "2025/07/19 17:33:16 ERROR dspy.utils.parallelizer: Error for Example({'claim': '\"Licence Revoked\" was the original title during production of a war film that has the actor from Maniac Cop 2. The actor stars as villain Franz Sanchez in \"Licence Revoked\".', 'titles': ['Licence to Kill', 'Robert Davi', 'Maniac Cop 2']}) (input_keys={'claim'}): litellm.RateLimitError: RateLimitError: Together_aiException - Request was rejected due to request rate limiting. Your rate limits are 60 RPM (1 QPS) and 60000 TPM (1000 TPS). See details: https://docs.together.ai/docs/rate-limits. Set `provide_traceback=True` for traceback.\n"
     ]
    },
    {
     "name": "stdout",
     "output_type": "stream",
     "text": [
      "Average Metric: 3.33 / 6 (55.6%):  26%|██▋       | 21/80 [00:49<02:49,  2.88s/it]"
     ]
    },
    {
     "name": "stderr",
     "output_type": "stream",
     "text": [
      "2025/07/19 17:33:16 WARNING dspy.adapters.json_adapter: Failed to use structured output format, falling back to JSON mode.\n"
     ]
    },
    {
     "name": "stdout",
     "output_type": "stream",
     "text": [
      "Average Metric: 4.67 / 8 (58.3%):  30%|███       | 24/80 [00:51<01:26,  1.54s/it]"
     ]
    },
    {
     "name": "stderr",
     "output_type": "stream",
     "text": [
      "2025/07/19 17:33:23 ERROR dspy.utils.parallelizer: Error for Example({'claim': 'This character as featured in the comic book, Hellblazer Special: Bad Blood. He is  is the fictional antihero from comic books published by DC Comics, who sometimes acts as a cab driver, and was created by Alan Moore, Steve Bissette, and John Totleben.', 'titles': ['Chas Chandler (comics)', 'Hellblazer Special: Bad Blood', 'John Constantine']}) (input_keys={'claim'}): litellm.RateLimitError: RateLimitError: Together_aiException - Request was rejected due to request rate limiting. Your rate limits are 60 RPM (1 QPS) and 60000 TPM (1000 TPS). See details: https://docs.together.ai/docs/rate-limits. Set `provide_traceback=True` for traceback.\n"
     ]
    },
    {
     "name": "stdout",
     "output_type": "stream",
     "text": [
      "Average Metric: 4.67 / 8 (58.3%):  31%|███▏      | 25/80 [00:56<02:07,  2.32s/it]"
     ]
    },
    {
     "name": "stderr",
     "output_type": "stream",
     "text": [
      "2025/07/19 17:33:24 ERROR dspy.utils.parallelizer: Error for Example({'claim': \"The MTV show that was hosted by a member of this band, whom Street Music artist and American hip hop musician Defari was part of, was You Can't See Me.\", 'titles': ['Likwit Crew', 'Street Music', 'Xzibit']}) (input_keys={'claim'}): litellm.RateLimitError: RateLimitError: Together_aiException - Request was rejected due to request rate limiting. Your rate limits are 60 RPM (1 QPS) and 60000 TPM (1000 TPS). See details: https://docs.together.ai/docs/rate-limits. Set `provide_traceback=True` for traceback.\n"
     ]
    },
    {
     "name": "stdout",
     "output_type": "stream",
     "text": [
      "Average Metric: 4.67 / 8 (58.3%):  32%|███▎      | 26/80 [00:57<01:48,  2.01s/it]"
     ]
    },
    {
     "name": "stderr",
     "output_type": "stream",
     "text": [
      "2025/07/19 17:33:25 ERROR dspy.utils.parallelizer: Error for Example({'claim': 'This woman directed the 2005 Disney Channel Original Movie Go Figure whose soundtrack was released on June 7th. She also directed the comedy movie Sugar & Spice.', 'titles': ['Go Figure (film)', 'Sugar &amp; Spice', 'Francine McDougall']}) (input_keys={'claim'}): litellm.RateLimitError: RateLimitError: Together_aiException - Request was rejected due to request rate limiting. Your rate limits are 60 RPM (1 QPS) and 60000 TPM (1000 TPS). See details: https://docs.together.ai/docs/rate-limits. Set `provide_traceback=True` for traceback.\n"
     ]
    },
    {
     "name": "stdout",
     "output_type": "stream",
     "text": [
      "Average Metric: 4.67 / 8 (58.3%):  34%|███▍      | 27/80 [00:58<01:33,  1.77s/it]"
     ]
    },
    {
     "name": "stderr",
     "output_type": "stream",
     "text": [
      "2025/07/19 17:33:25 ERROR dspy.utils.parallelizer: Error for Example({'claim': 'Christopher Whitelaw Pine appeared in the films that inspired Good Luck! and \"Into the Woods\".', 'titles': ['Just My Luck (2006 film)', 'Good Luck!', 'Chris Pine']}) (input_keys={'claim'}): Both structured output format and JSON mode failed. Please choose a model that supports `response_format` argument. Original error: litellm.RateLimitError: RateLimitError: Together_aiException - Request was rejected due to request rate limiting. Your rate limits are 60 RPM (1 QPS) and 60000 TPM (1000 TPS). See details: https://docs.together.ai/docs/rate-limits. Set `provide_traceback=True` for traceback.\n"
     ]
    },
    {
     "name": "stdout",
     "output_type": "stream",
     "text": [
      "Average Metric: 4.67 / 8 (58.3%):  34%|███▍      | 27/80 [00:58<01:33,  1.77s/it]"
     ]
    },
    {
     "name": "stderr",
     "output_type": "stream",
     "text": [
      "2025/07/19 17:33:27 ERROR dspy.utils.parallelizer: Error for Example({'claim': 'The owner of Tatoosh (yacht) has a sister named Jo Lynn \"Jody\". He is an South African business magnate, investor and philanthropist.', 'titles': ['Jody Allen', 'Paul Allen', 'Tatoosh (yacht)']}) (input_keys={'claim'}): litellm.RateLimitError: RateLimitError: Together_aiException - Request was rejected due to request rate limiting. Your rate limits are 60 RPM (1 QPS) and 60000 TPM (1000 TPS). See details: https://docs.together.ai/docs/rate-limits. Set `provide_traceback=True` for traceback.\n"
     ]
    },
    {
     "name": "stdout",
     "output_type": "stream",
     "text": [
      "Average Metric: 4.67 / 8 (58.3%):  36%|███▋      | 29/80 [01:00<01:07,  1.32s/it]"
     ]
    },
    {
     "name": "stderr",
     "output_type": "stream",
     "text": [
      "2025/07/19 17:33:28 ERROR dspy.utils.parallelizer: Error for Example({'claim': \"Daniel Boone's trail ran through Arcadia, Tennessee in 1775. This unofficial trail, which leads into Kentucky, was near one of locales of the Green-Jones War. It was turned down to become the National Road.\", 'titles': ['Wilderness Road', 'Arcadia, Tennessee', 'Greene–Jones War']}) (input_keys={'claim'}): litellm.RateLimitError: RateLimitError: Together_aiException - Request was rejected due to request rate limiting. Your rate limits are 60 RPM (1 QPS) and 60000 TPM (1000 TPS). See details: https://docs.together.ai/docs/rate-limits. Set `provide_traceback=True` for traceback.\n"
     ]
    },
    {
     "name": "stdout",
     "output_type": "stream",
     "text": [
      "Average Metric: 4.67 / 8 (58.3%):  38%|███▊      | 30/80 [01:01<01:07,  1.35s/it]"
     ]
    },
    {
     "name": "stderr",
     "output_type": "stream",
     "text": [
      "2025/07/19 17:33:29 ERROR dspy.utils.parallelizer: Error for Example({'claim': 'Delta–Mendota Canal is an aqueduct used to divert a canal. The All-American Canal is longer than that canal.', 'titles': ['Delta–Mendota Canal', 'Madera Canal', 'All-American Canal']}) (input_keys={'claim'}): litellm.RateLimitError: RateLimitError: Together_aiException - Request was rejected due to request rate limiting. Your rate limits are 60 RPM (1 QPS) and 60000 TPM (1000 TPS). See details: https://docs.together.ai/docs/rate-limits. Set `provide_traceback=True` for traceback.\n"
     ]
    },
    {
     "name": "stdout",
     "output_type": "stream",
     "text": [
      "Average Metric: 4.67 / 8 (58.3%):  39%|███▉      | 31/80 [01:02<00:57,  1.17s/it]"
     ]
    },
    {
     "name": "stderr",
     "output_type": "stream",
     "text": [
      "2025/07/19 17:33:31 ERROR dspy.utils.parallelizer: Error for Example({'claim': 'Danyang, Jiangusu and this city are both cities in China. This city was the birthplace of Chen Xiuke.', 'titles': ['Danyang, Jiangsu', 'Dongfang, Hainan', 'Chen Xiuke']}) (input_keys={'claim'}): litellm.RateLimitError: RateLimitError: Together_aiException - Request was rejected due to request rate limiting. Your rate limits are 60 RPM (1 QPS) and 60000 TPM (1000 TPS). See details: https://docs.together.ai/docs/rate-limits. Set `provide_traceback=True` for traceback.\n"
     ]
    },
    {
     "name": "stdout",
     "output_type": "stream",
     "text": [
      "Average Metric: 4.67 / 8 (58.3%):  40%|████      | 32/80 [01:04<01:09,  1.44s/it]"
     ]
    },
    {
     "name": "stderr",
     "output_type": "stream",
     "text": [
      "2025/07/19 17:33:34 ERROR dspy.utils.parallelizer: Error for Example({'claim': 'An Greek actor who was a CIA operative in Chuck Versus the A-Team was born in 1974. The actor plays a character in commercials for Old Spice.', 'titles': ['Make a Smellmitment', 'Chuck Versus the A-Team', 'Isaiah Mustafa']}) (input_keys={'claim'}): litellm.RateLimitError: RateLimitError: Together_aiException - Request was rejected due to request rate limiting. Your rate limits are 60 RPM (1 QPS) and 60000 TPM (1000 TPS). See details: https://docs.together.ai/docs/rate-limits. Set `provide_traceback=True` for traceback.\n"
     ]
    },
    {
     "name": "stdout",
     "output_type": "stream",
     "text": [
      "Average Metric: 5.00 / 10 (50.0%):  44%|████▍     | 35/80 [01:11<01:31,  2.03s/it]"
     ]
    },
    {
     "name": "stderr",
     "output_type": "stream",
     "text": [
      "2025/07/19 17:33:40 ERROR dspy.utils.parallelizer: Error for Example({'claim': 'The actor, who starred in the thriller 400 Boys, plays Marilyn Monroe in a film based on the novel \"Northern Lights\".', 'titles': ['Charlie Rowe', '400 Boys', 'The Golden Compass (film)']}) (input_keys={'claim'}): litellm.RateLimitError: RateLimitError: Together_aiException - Request was rejected due to request rate limiting. Your rate limits are 60 RPM (1 QPS) and 60000 TPM (1000 TPS). See details: https://docs.together.ai/docs/rate-limits. Set `provide_traceback=True` for traceback.\n"
     ]
    },
    {
     "name": "stdout",
     "output_type": "stream",
     "text": [
      "Average Metric: 5.00 / 10 (50.0%):  45%|████▌     | 36/80 [01:13<01:31,  2.08s/it]"
     ]
    },
    {
     "name": "stderr",
     "output_type": "stream",
     "text": [
      "2025/07/19 17:33:42 ERROR dspy.utils.parallelizer: Error for Example({'claim': 'Bowdoin College was established before another university. This university was attended by John Wesley Hughes.', 'titles': ['Vanderbilt University', 'John Wesley Hughes', 'Bowdoin College']}) (input_keys={'claim'}): litellm.RateLimitError: RateLimitError: Together_aiException - Request was rejected due to request rate limiting. Your rate limits are 60 RPM (1 QPS) and 60000 TPM (1000 TPS). See details: https://docs.together.ai/docs/rate-limits. Set `provide_traceback=True` for traceback.\n"
     ]
    },
    {
     "name": "stdout",
     "output_type": "stream",
     "text": [
      "Average Metric: 5.00 / 10 (50.0%):  46%|████▋     | 37/80 [01:15<01:30,  2.11s/it]"
     ]
    },
    {
     "name": "stderr",
     "output_type": "stream",
     "text": [
      "2025/07/19 17:33:42 ERROR dspy.utils.parallelizer: Error for Example({'claim': 'This series developer created T-Dog on the Walking Dead. He is the Hungarian-born US film director renowned for adapting Stephen King novellas to the screen, including The Mist and The Green Mile.', 'titles': ['The Mist (film)', 'Frank Darabont', 'T-Dog (The Walking Dead)']}) (input_keys={'claim'}): litellm.RateLimitError: RateLimitError: Together_aiException - Request was rejected due to request rate limiting. Your rate limits are 60 RPM (1 QPS) and 60000 TPM (1000 TPS). See details: https://docs.together.ai/docs/rate-limits. Set `provide_traceback=True` for traceback.\n"
     ]
    },
    {
     "name": "stdout",
     "output_type": "stream",
     "text": [
      "Average Metric: 5.00 / 10 (50.0%):  48%|████▊     | 38/80 [01:15<01:03,  1.52s/it]"
     ]
    },
    {
     "name": "stderr",
     "output_type": "stream",
     "text": [
      "2025/07/19 17:33:46 ERROR dspy.utils.parallelizer: Error for Example({'claim': 'The star of Nothing to Report and Gary Barlow have a profession in common.', 'titles': ['Gary Barlow', 'Chris Jericho', 'Nothing to Report']}) (input_keys={'claim'}): litellm.RateLimitError: RateLimitError: Together_aiException - Request was rejected due to request rate limiting. Your rate limits are 60 RPM (1 QPS) and 60000 TPM (1000 TPS). See details: https://docs.together.ai/docs/rate-limits. Set `provide_traceback=True` for traceback.\n"
     ]
    },
    {
     "name": "stdout",
     "output_type": "stream",
     "text": [
      "Average Metric: 5.00 / 10 (50.0%):  49%|████▉     | 39/80 [01:19<01:34,  2.29s/it]"
     ]
    },
    {
     "name": "stderr",
     "output_type": "stream",
     "text": [
      "2025/07/19 17:33:49 ERROR dspy.utils.parallelizer: Error for Example({'claim': 'Brady Seals has released more solo albums than the rapper who Avril Lavigne featured on the song Get Over Me with.', 'titles': ['Nick Carter (musician)', 'Brady Seals', 'Get Over Me']}) (input_keys={'claim'}): litellm.RateLimitError: RateLimitError: Together_aiException - Request was rejected due to request rate limiting. Your rate limits are 60 RPM (1 QPS) and 60000 TPM (1000 TPS). See details: https://docs.together.ai/docs/rate-limits. Set `provide_traceback=True` for traceback.\n"
     ]
    },
    {
     "name": "stdout",
     "output_type": "stream",
     "text": [
      "Average Metric: 6.67 / 13 (51.3%):  54%|█████▍    | 43/80 [01:27<01:26,  2.33s/it]"
     ]
    },
    {
     "name": "stderr",
     "output_type": "stream",
     "text": [
      "2025/07/19 17:33:59 ERROR dspy.utils.parallelizer: Error for Example({'claim': 'Candlelight Red the musical group has released twice as many albums as the band who also performs as One Unique Signal.', 'titles': ['Candlelight Red', 'The Telescopes', 'One Unique Signal']}) (input_keys={'claim'}): litellm.RateLimitError: RateLimitError: Together_aiException - Request was rejected due to request rate limiting. Your rate limits are 60 RPM (1 QPS) and 60000 TPM (1000 TPS). See details: https://docs.together.ai/docs/rate-limits. Set `provide_traceback=True` for traceback.\n"
     ]
    },
    {
     "name": "stdout",
     "output_type": "stream",
     "text": [
      "Average Metric: 6.67 / 13 (51.3%):  55%|█████▌    | 44/80 [01:32<01:50,  3.07s/it]"
     ]
    },
    {
     "name": "stderr",
     "output_type": "stream",
     "text": [
      "2025/07/19 17:34:00 ERROR dspy.utils.parallelizer: Error for Example({'claim': 'The actress that starred as a parent in Sky High (2005 film) is married to John Travolta. She also starred in a summer 1994 film about a pregnant woman who is stranded at a trading post during the American Civil War.', 'titles': ['Sky High (2005 film)', 'Cheyenne Warrior', 'Kelly Preston']}) (input_keys={'claim'}): litellm.RateLimitError: RateLimitError: Together_aiException - Request was rejected due to request rate limiting. Your rate limits are 60 RPM (1 QPS) and 60000 TPM (1000 TPS). See details: https://docs.together.ai/docs/rate-limits. Set `provide_traceback=True` for traceback.\n"
     ]
    },
    {
     "name": "stdout",
     "output_type": "stream",
     "text": [
      "Average Metric: 7.33 / 14 (52.4%):  57%|█████▊    | 46/80 [01:40<02:04,  3.67s/it]"
     ]
    },
    {
     "name": "stderr",
     "output_type": "stream",
     "text": [
      "2025/07/19 17:34:07 ERROR dspy.utils.parallelizer: Error for Example({'claim': 'The American actress voices a character in King of the Hill, which is also American. She also wrote the song Tiggy is famous for remixing.', 'titles': ['Sandy Fox', 'King of the Hill', 'Tiggy']}) (input_keys={'claim'}): litellm.RateLimitError: RateLimitError: Together_aiException - Request was rejected due to request rate limiting. Your rate limits are 60 RPM (1 QPS) and 60000 TPM (1000 TPS). See details: https://docs.together.ai/docs/rate-limits. Set `provide_traceback=True` for traceback.\n"
     ]
    },
    {
     "name": "stdout",
     "output_type": "stream",
     "text": [
      "Average Metric: 7.33 / 14 (52.4%):  59%|█████▉    | 47/80 [01:40<01:27,  2.66s/it]"
     ]
    },
    {
     "name": "stderr",
     "output_type": "stream",
     "text": [
      "2025/07/19 17:34:08 ERROR dspy.utils.parallelizer: Error for Example({'claim': 'There are top three sections for the hockey meeting JC Lipon placed 91st overall in. Of the top three, the one who is both a American professional ice hockey forward and an alternate captain of the Colorado Avalanche organization of the National Hockey League is Nathan MacKinnon.', 'titles': ['2013 NHL Entry Draft', 'Nathan MacKinnon', 'JC Lipon']}) (input_keys={'claim'}): litellm.RateLimitError: RateLimitError: Together_aiException - Request was rejected due to request rate limiting. Your rate limits are 60 RPM (1 QPS) and 60000 TPM (1000 TPS). See details: https://docs.together.ai/docs/rate-limits. Set `provide_traceback=True` for traceback.\n"
     ]
    },
    {
     "name": "stdout",
     "output_type": "stream",
     "text": [
      "Average Metric: 7.33 / 14 (52.4%):  60%|██████    | 48/80 [01:41<01:14,  2.32s/it]"
     ]
    },
    {
     "name": "stderr",
     "output_type": "stream",
     "text": [
      "2025/07/19 17:34:08 ERROR dspy.utils.parallelizer: Error for Example({'claim': 'Radiation Vibe is the first chart-topping single from the debut album of the band formed in 1995 that came out with an album called \"Welcome Interstate Managers\\'.', 'titles': [\"Stacy's Mom\", 'Fountains of Wayne', 'Radiation Vibe']}) (input_keys={'claim'}): litellm.RateLimitError: RateLimitError: Together_aiException - Request was rejected due to request rate limiting. Your rate limits are 60 RPM (1 QPS) and 60000 TPM (1000 TPS). See details: https://docs.together.ai/docs/rate-limits. Set `provide_traceback=True` for traceback.\n"
     ]
    },
    {
     "name": "stdout",
     "output_type": "stream",
     "text": [
      "Average Metric: 7.33 / 14 (52.4%):  60%|██████    | 48/80 [01:41<01:14,  2.32s/it]"
     ]
    },
    {
     "name": "stderr",
     "output_type": "stream",
     "text": [
      "2025/07/19 17:34:09 ERROR dspy.utils.parallelizer: Error for Example({'claim': 'This American composer composed Troubled Island. He was born in 1895 was married to his frequent collaborator Verna Arvey.', 'titles': ['William Grant Still', 'A Bayou Legend', 'Troubled Island']}) (input_keys={'claim'}): litellm.RateLimitError: RateLimitError: Together_aiException - Request was rejected due to request rate limiting. Your rate limits are 60 RPM (1 QPS) and 60000 TPM (1000 TPS). See details: https://docs.together.ai/docs/rate-limits. Set `provide_traceback=True` for traceback.\n"
     ]
    },
    {
     "name": "stdout",
     "output_type": "stream",
     "text": [
      "Average Metric: 7.33 / 14 (52.4%):  62%|██████▎   | 50/80 [01:42<00:38,  1.28s/it]"
     ]
    },
    {
     "name": "stderr",
     "output_type": "stream",
     "text": [
      "2025/07/19 17:34:09 ERROR dspy.utils.parallelizer: Error for Example({'claim': 'The novelist that wrote The Watchful Gods and Other Stories is Californian. Billie Letts is also Californian.', 'titles': ['Walter Van Tilburg Clark', 'The Watchful Gods and Other Stories', 'Billie Letts']}) (input_keys={'claim'}): litellm.RateLimitError: RateLimitError: Together_aiException - Request was rejected due to request rate limiting. Your rate limits are 60 RPM (1 QPS) and 60000 TPM (1000 TPS). See details: https://docs.together.ai/docs/rate-limits. Set `provide_traceback=True` for traceback.\n"
     ]
    },
    {
     "name": "stdout",
     "output_type": "stream",
     "text": [
      "Average Metric: 7.33 / 14 (52.4%):  62%|██████▎   | 50/80 [01:42<00:38,  1.28s/it]"
     ]
    },
    {
     "name": "stderr",
     "output_type": "stream",
     "text": [
      "2025/07/19 17:34:09 WARNING dspy.adapters.json_adapter: Failed to use structured output format, falling back to JSON mode.\n"
     ]
    },
    {
     "name": "stdout",
     "output_type": "stream",
     "text": [
      "Average Metric: 8.33 / 15 (55.6%):  65%|██████▌   | 52/80 [01:48<01:04,  2.31s/it]"
     ]
    },
    {
     "name": "stderr",
     "output_type": "stream",
     "text": [
      "2025/07/19 17:34:15 ERROR dspy.utils.parallelizer: Error for Example({'claim': 'Passionate Love is a Korean television series starring Sung Hoon and the actress starring in a movie that was filmed in 2012.', 'titles': ['Choi Yoon-young', 'As One (film)', 'Passionate Love']}) (input_keys={'claim'}): litellm.RateLimitError: RateLimitError: Together_aiException - Request was rejected due to request rate limiting. Your rate limits are 60 RPM (1 QPS) and 60000 TPM (1000 TPS). See details: https://docs.together.ai/docs/rate-limits. Set `provide_traceback=True` for traceback.\n"
     ]
    },
    {
     "name": "stdout",
     "output_type": "stream",
     "text": [
      "Average Metric: 8.33 / 15 (55.6%):  65%|██████▌   | 52/80 [01:48<01:04,  2.31s/it]"
     ]
    },
    {
     "name": "stderr",
     "output_type": "stream",
     "text": [
      "2025/07/19 17:34:17 ERROR dspy.utils.parallelizer: Error for Example({'claim': 'Grand Forks International Airport is closer to the town it is near, than the airport close by to The Texas Air & Space Museum.', 'titles': ['Texas Air &amp; Space Museum', 'Rick Husband Amarillo International Airport', 'Grand Forks International Airport']}) (input_keys={'claim'}): litellm.RateLimitError: RateLimitError: Together_aiException - Request was rejected due to request rate limiting. Your rate limits are 60 RPM (1 QPS) and 60000 TPM (1000 TPS). See details: https://docs.together.ai/docs/rate-limits. Set `provide_traceback=True` for traceback.\n"
     ]
    },
    {
     "name": "stdout",
     "output_type": "stream",
     "text": [
      "Average Metric: 8.33 / 15 (55.6%):  68%|██████▊   | 54/80 [01:50<00:46,  1.79s/it]"
     ]
    },
    {
     "name": "stderr",
     "output_type": "stream",
     "text": [
      "2025/07/19 17:34:19 ERROR dspy.utils.parallelizer: Error for Example({'claim': 'Sophia Grace & Rosie featured a cover song on their Youtube channel. The pop song from is from an album released under the Syco Music and Columbia Records labels.', 'titles': ['Touch (Little Mix song)', 'Glory Days (Little Mix album)', 'Sophia Grace &amp; Rosie']}) (input_keys={'claim'}): Adapter JSONAdapter failed to parse the LM response. \n",
      "\n",
      "LM Response: {\n",
      "  \"next_thought\": \"The song featured on Sophia Grace & Rosie's YouTube channel is likely a cover song, and it is from an album released under the Syco Music and Columbia Records labels. I need to identify the exact song and artist. From Wikipedia, I found that a song called \"   ,   \" was released by Grace VanderWaal under Syco Music and Columbia Records. I will look up more information about this song, but it seems like it might be the correct song, so I will proceed with finishing the task for now. However, upon reviewing the Wikipedia results, I noticed it's unclear if this song is a cover of another song, so I should confirm by looking up if there is any evidence of the song being a cover of another song. I should also look up if there is any other song that could be the correct song. However, based on the lack of other results and the fact that the song is from Syco Music and Columbia Records, I am fairly certain this is the correct song. I should also look up if there are any other songs that could be a cover of this song, but it seems like it is unlikely. I will proceed with finishing the task for now and confirm by looking up if there are any other songs that could be a cover of this song. I'll start by looking for information on whether the song is a cover of another song and if there are any other songs that could be the correct song.  The artist of the song is Grace VanderWaal and I need to find the album that the song is from. I will start by searching for the album that the song \"    :\"\"\n",
      "  } \n",
      "\n",
      "Expected to find output fields in the LM response: [next_thought, next_tool_name, next_tool_args] \n",
      "\n",
      "Actual output fields parsed from the LM response: [next_thought] \n",
      "\n",
      ". Set `provide_traceback=True` for traceback.\n"
     ]
    },
    {
     "name": "stdout",
     "output_type": "stream",
     "text": [
      "Average Metric: 8.67 / 16 (54.2%):  70%|███████   | 56/80 [01:53<00:36,  1.51s/it]"
     ]
    },
    {
     "name": "stderr",
     "output_type": "stream",
     "text": [
      "2025/07/19 17:34:20 WARNING dspy.adapters.json_adapter: Failed to use structured output format, falling back to JSON mode.\n",
      "2025/07/19 17:34:21 ERROR dspy.utils.parallelizer: Error for Example({'claim': 'The director of The Moth Diaries (born January 12, 1953) was a French Canadian filmmaker who created a film about Bettie Page in 2005.', 'titles': ['The Moth Diaries (film)', 'Mary Harron', 'The Notorious Bettie Page']}) (input_keys={'claim'}): litellm.RateLimitError: RateLimitError: Together_aiException - Request was rejected due to request rate limiting. Your rate limits are 60 RPM (1 QPS) and 60000 TPM (1000 TPS). See details: https://docs.together.ai/docs/rate-limits. Set `provide_traceback=True` for traceback.\n"
     ]
    },
    {
     "name": "stdout",
     "output_type": "stream",
     "text": [
      "Average Metric: 8.67 / 16 (54.2%):  71%|███████▏  | 57/80 [01:54<00:34,  1.51s/it]"
     ]
    },
    {
     "name": "stderr",
     "output_type": "stream",
     "text": [
      "2025/07/19 17:34:25 WARNING dspy.adapters.json_adapter: Failed to use structured output format, falling back to JSON mode.\n",
      "2025/07/19 17:34:25 ERROR dspy.utils.parallelizer: Error for Example({'claim': 'The father of director Guðný Halldórsdóttir and Timothy Leary are not from the same place.', 'titles': ['Halldór Laxness', 'Timothy Leary', 'Guðný Halldórsdóttir']}) (input_keys={'claim'}): litellm.RateLimitError: RateLimitError: Together_aiException - Request was rejected due to request rate limiting. Your rate limits are 60 RPM (1 QPS) and 60000 TPM (1000 TPS). See details: https://docs.together.ai/docs/rate-limits. Set `provide_traceback=True` for traceback.\n"
     ]
    },
    {
     "name": "stdout",
     "output_type": "stream",
     "text": [
      "Average Metric: 9.00 / 17 (52.9%):  74%|███████▍  | 59/80 [02:01<00:48,  2.30s/it]"
     ]
    },
    {
     "name": "stderr",
     "output_type": "stream",
     "text": [
      "2025/07/19 17:34:31 ERROR dspy.utils.parallelizer: Error for Example({'claim': 'Cork has several third level colleges including NMIO, the Crawford College of Art and Design and one other. The 2016 population of the county where the other school is located was 542,196.', 'titles': ['Education in Cork', 'National Maritime College of Ireland', 'County Cork']}) (input_keys={'claim'}): Both structured output format and JSON mode failed. Please choose a model that supports `response_format` argument. Original error: litellm.RateLimitError: RateLimitError: Together_aiException - Request was rejected due to request rate limiting. Your rate limits are 60 RPM (1 QPS) and 60000 TPM (1000 TPS). See details: https://docs.together.ai/docs/rate-limits. Set `provide_traceback=True` for traceback.\n"
     ]
    },
    {
     "name": "stdout",
     "output_type": "stream",
     "text": [
      "Average Metric: 9.00 / 17 (52.9%):  75%|███████▌  | 60/80 [02:04<00:49,  2.46s/it]"
     ]
    },
    {
     "name": "stderr",
     "output_type": "stream",
     "text": [
      "2025/07/19 17:34:31 WARNING dspy.adapters.json_adapter: Failed to use structured output format, falling back to JSON mode.\n",
      "2025/07/19 17:34:33 WARNING dspy.adapters.json_adapter: Failed to use structured output format, falling back to JSON mode.\n",
      "2025/07/19 17:34:33 ERROR dspy.utils.parallelizer: Error for Example({'claim': 'Archers of Loaf is an indie band. The band who had a song called Shelf in the Room is not.', 'titles': ['Days of the New', 'Archers of Loaf', 'Shelf in the Room']}) (input_keys={'claim'}): litellm.RateLimitError: RateLimitError: Together_aiException - Request was rejected due to request rate limiting. Your rate limits are 60 RPM (1 QPS) and 60000 TPM (1000 TPS). See details: https://docs.together.ai/docs/rate-limits. Set `provide_traceback=True` for traceback.\n"
     ]
    },
    {
     "name": "stdout",
     "output_type": "stream",
     "text": [
      "Average Metric: 9.00 / 17 (52.9%):  76%|███████▋  | 61/80 [02:06<00:46,  2.43s/it]"
     ]
    },
    {
     "name": "stderr",
     "output_type": "stream",
     "text": [
      "2025/07/19 17:34:33 ERROR dspy.utils.parallelizer: Error for Example({'claim': 'An actor was in the film, Focus, that was directed by Glenn Ficarra. This actor was also in the 2016 film \"White Girl\".', 'titles': ['Adrian Martinez (actor)', 'Focus (2015 film)', 'White Girl (2016 film)']}) (input_keys={'claim'}): litellm.RateLimitError: RateLimitError: Together_aiException - Request was rejected due to request rate limiting. Your rate limits are 60 RPM (1 QPS) and 60000 TPM (1000 TPS). See details: https://docs.together.ai/docs/rate-limits. Set `provide_traceback=True` for traceback.\n"
     ]
    },
    {
     "name": "stdout",
     "output_type": "stream",
     "text": [
      "Average Metric: 9.00 / 18 (50.0%):  79%|███████▉  | 63/80 [02:07<00:24,  1.42s/it]"
     ]
    },
    {
     "name": "stderr",
     "output_type": "stream",
     "text": [
      "2025/07/19 17:34:34 ERROR dspy.utils.parallelizer: Error for Example({'claim': 'The actor Giancarlo Giuseppe Alessandro Esposito starred in the 2016 film that also starred Olivia Luccardi. Giancarlo is best known for his portrayal of Gustavo \"Gus\" Fring on the AMC shows \"Breaking Bad\" and \"Breaking Bad\".', 'titles': ['Money Monster', 'Giancarlo Esposito', 'Olivia Luccardi']}) (input_keys={'claim'}): Both structured output format and JSON mode failed. Please choose a model that supports `response_format` argument. Original error: litellm.RateLimitError: RateLimitError: Together_aiException - Request was rejected due to request rate limiting. Your rate limits are 60 RPM (1 QPS) and 60000 TPM (1000 TPS). See details: https://docs.together.ai/docs/rate-limits. Set `provide_traceback=True` for traceback.\n"
     ]
    },
    {
     "name": "stdout",
     "output_type": "stream",
     "text": [
      "Average Metric: 9.00 / 18 (50.0%):  80%|████████  | 64/80 [02:07<00:16,  1.05s/it]"
     ]
    },
    {
     "name": "stderr",
     "output_type": "stream",
     "text": [
      "2025/07/19 17:34:34 ERROR dspy.utils.parallelizer: Error for Example({'claim': \"The star of Spaceball's most renouwned onscreen performance was as Dell Griffith. He was in an Canadian comedy film from 1987.\", 'titles': ['Spaceballs', 'Planes, Trains and Automobiles', 'John Candy']}) (input_keys={'claim'}): litellm.RateLimitError: RateLimitError: Together_aiException - Request was rejected due to request rate limiting. Your rate limits are 60 RPM (1 QPS) and 60000 TPM (1000 TPS). See details: https://docs.together.ai/docs/rate-limits. Set `provide_traceback=True` for traceback.\n"
     ]
    },
    {
     "name": "stdout",
     "output_type": "stream",
     "text": [
      "Average Metric: 9.00 / 19 (47.4%):  82%|████████▎ | 66/80 [02:09<00:14,  1.01s/it]"
     ]
    },
    {
     "name": "stderr",
     "output_type": "stream",
     "text": [
      "2025/07/19 17:34:36 WARNING dspy.adapters.json_adapter: Failed to use structured output format, falling back to JSON mode.\n"
     ]
    },
    {
     "name": "stdout",
     "output_type": "stream",
     "text": [
      "Average Metric: 10.00 / 20 (50.0%):  84%|████████▍ | 67/80 [02:09<00:11,  1.09it/s]"
     ]
    },
    {
     "name": "stderr",
     "output_type": "stream",
     "text": [
      "2025/07/19 17:34:38 ERROR dspy.utils.parallelizer: Error for Example({'claim': 'The member of the group Wilkes-Barre/Scranton International Airport, formed by Kenny Loggins, was aged ten when she started singing in the seventh-most populated city in the United States.', 'titles': ['Kenny Loggins', 'San Antonio', 'Georgia Middleman']}) (input_keys={'claim'}): litellm.RateLimitError: RateLimitError: Together_aiException - Request was rejected due to request rate limiting. Your rate limits are 60 RPM (1 QPS) and 60000 TPM (1000 TPS). See details: https://docs.together.ai/docs/rate-limits. Set `provide_traceback=True` for traceback.\n",
      "2025/07/19 17:34:38 WARNING dspy.adapters.json_adapter: Failed to use structured output format, falling back to JSON mode.\n"
     ]
    },
    {
     "name": "stdout",
     "output_type": "stream",
     "text": [
      "Average Metric: 10.00 / 20 (50.0%):  85%|████████▌ | 68/80 [02:11<00:13,  1.14s/it]"
     ]
    },
    {
     "name": "stderr",
     "output_type": "stream",
     "text": [
      "2025/07/19 17:34:38 ERROR dspy.utils.parallelizer: Error for Example({'claim': 'Irish footballer, John Francis O\\'Shea, joined a company in 1950. This company made the TV movie \"The Coastwatchers\"', 'titles': [\"John O'Shea\", 'Pacific Films', 'The Coastwatchers (TV movie)']}) (input_keys={'claim'}): Both structured output format and JSON mode failed. Please choose a model that supports `response_format` argument. Original error: litellm.RateLimitError: RateLimitError: Together_aiException - Request was rejected due to request rate limiting. Your rate limits are 60 RPM (1 QPS) and 60000 TPM (1000 TPS). See details: https://docs.together.ai/docs/rate-limits. Set `provide_traceback=True` for traceback.\n"
     ]
    },
    {
     "name": "stdout",
     "output_type": "stream",
     "text": [
      "Average Metric: 10.67 / 22 (48.5%):  89%|████████▉ | 71/80 [02:16<00:13,  1.47s/it]"
     ]
    },
    {
     "name": "stderr",
     "output_type": "stream",
     "text": [
      "2025/07/19 17:34:45 ERROR dspy.utils.parallelizer: Error for Example({'claim': 'The individual who played Herman Boone in Remember the Titans, and David Hewlett, are both actors.', 'titles': ['David Hewlett', 'Denzel Washington', 'Herman Boone']}) (input_keys={'claim'}): litellm.RateLimitError: RateLimitError: Together_aiException - Request was rejected due to request rate limiting. Your rate limits are 60 RPM (1 QPS) and 60000 TPM (1000 TPS). See details: https://docs.together.ai/docs/rate-limits. Set `provide_traceback=True` for traceback.\n"
     ]
    },
    {
     "name": "stdout",
     "output_type": "stream",
     "text": [
      "Average Metric: 10.67 / 22 (48.5%):  90%|█████████ | 72/80 [02:18<00:11,  1.44s/it]"
     ]
    },
    {
     "name": "stderr",
     "output_type": "stream",
     "text": [
      "2025/07/19 17:34:47 ERROR dspy.utils.parallelizer: Error for Example({'claim': \"The owner of Viva (UK and Ireland) changed it's name in late 2004. Their new acronym stand for Gesellschaft mit beschränkter Haftung.\", 'titles': ['Gesellschaft mit beschränkter Haftung', 'Viva (UK and Ireland)', 'VIVA Media']}) (input_keys={'claim'}): litellm.RateLimitError: RateLimitError: Together_aiException - Request was rejected due to request rate limiting. Your rate limits are 60 RPM (1 QPS) and 60000 TPM (1000 TPS). See details: https://docs.together.ai/docs/rate-limits. Set `provide_traceback=True` for traceback.\n"
     ]
    },
    {
     "name": "stdout",
     "output_type": "stream",
     "text": [
      "Average Metric: 10.67 / 22 (48.5%):  91%|█████████▏| 73/80 [02:20<00:11,  1.62s/it]"
     ]
    },
    {
     "name": "stderr",
     "output_type": "stream",
     "text": [
      "2025/07/19 17:34:49 ERROR dspy.utils.parallelizer: Error for Example({'claim': 'The person who had his voice featured in the 2012 film The Polar Bears, stars as Oliver in a film directed by Luca Guadagnino.', 'titles': ['Call Me by Your Name (film)', 'The Polar Bears', 'Armie Hammer']}) (input_keys={'claim'}): litellm.RateLimitError: RateLimitError: Together_aiException - Request was rejected due to request rate limiting. Your rate limits are 60 RPM (1 QPS) and 60000 TPM (1000 TPS). See details: https://docs.together.ai/docs/rate-limits. Set `provide_traceback=True` for traceback.\n"
     ]
    },
    {
     "name": "stdout",
     "output_type": "stream",
     "text": [
      "Average Metric: 10.67 / 22 (48.5%):  92%|█████████▎| 74/80 [02:22<00:10,  1.73s/it]"
     ]
    },
    {
     "name": "stderr",
     "output_type": "stream",
     "text": [
      "2025/07/19 17:34:50 ERROR dspy.utils.parallelizer: Error for Example({'claim': 'Guillermo del Toro directed the film which had the man, who starred in Bone Dry alongside Lance Henriksen, play the role of Jared Nomak.', 'titles': ['Bone Dry', 'Luke Goss', 'Blade II']}) (input_keys={'claim'}): litellm.RateLimitError: RateLimitError: Together_aiException - Request was rejected due to request rate limiting. Your rate limits are 60 RPM (1 QPS) and 60000 TPM (1000 TPS). See details: https://docs.together.ai/docs/rate-limits. Set `provide_traceback=True` for traceback.\n"
     ]
    },
    {
     "name": "stdout",
     "output_type": "stream",
     "text": [
      "Average Metric: 10.67 / 22 (48.5%):  94%|█████████▍| 75/80 [02:23<00:07,  1.59s/it]"
     ]
    },
    {
     "name": "stderr",
     "output_type": "stream",
     "text": [
      "2025/07/19 17:34:51 ERROR dspy.utils.parallelizer: Error for Example({'claim': 'Ellesmere Port Town Football Club are currently members of the league, whose current principal sponsor is the Football Conference, that Ford Motors F.C. is a part of.', 'titles': ['Ford Motors F.C.', 'West Cheshire Association Football League', 'Ellesmere Port Town F.C.']}) (input_keys={'claim'}): litellm.RateLimitError: RateLimitError: Together_aiException - Request was rejected due to request rate limiting. Your rate limits are 60 RPM (1 QPS) and 60000 TPM (1000 TPS). See details: https://docs.together.ai/docs/rate-limits. Set `provide_traceback=True` for traceback.\n"
     ]
    },
    {
     "name": "stdout",
     "output_type": "stream",
     "text": [
      "Average Metric: 11.00 / 23 (47.8%):  96%|█████████▋| 77/80 [02:26<00:04,  1.60s/it]"
     ]
    },
    {
     "name": "stderr",
     "output_type": "stream",
     "text": [
      "2025/07/19 17:34:57 WARNING dspy.adapters.json_adapter: Failed to use structured output format, falling back to JSON mode.\n",
      "2025/07/19 17:35:00 WARNING dspy.adapters.json_adapter: Failed to use structured output format, falling back to JSON mode.\n"
     ]
    },
    {
     "name": "stdout",
     "output_type": "stream",
     "text": [
      "Average Metric: 12.67 / 26 (48.7%): 100%|██████████| 80/80 [02:53<00:00,  2.17s/it]"
     ]
    },
    {
     "name": "stderr",
     "output_type": "stream",
     "text": [
      "2025/07/19 17:35:20 INFO dspy.evaluate.evaluate: Average Metric: 12.666666666666664 / 80 (15.8%)\n",
      "2025/07/19 17:35:20 INFO dspy.teleprompt.mipro_optimizer_v2: Full eval scores so far: [2.08, 22.08, 15.83]\n",
      "2025/07/19 17:35:20 INFO dspy.teleprompt.mipro_optimizer_v2: Best full score so far: 22.08\n",
      "2025/07/19 17:35:20 INFO dspy.teleprompt.mipro_optimizer_v2: =======================\n",
      "2025/07/19 17:35:20 INFO dspy.teleprompt.mipro_optimizer_v2: \n",
      "\n",
      "2025/07/19 17:35:20 INFO dspy.teleprompt.mipro_optimizer_v2: == Trial 14 / 35 - Minibatch ==\n"
     ]
    },
    {
     "name": "stdout",
     "output_type": "stream",
     "text": [
      "\n",
      "Average Metric: 0.67 / 1 (66.7%):   3%|▎         | 1/35 [00:06<03:44,  6.59s/it]"
     ]
    },
    {
     "name": "stderr",
     "output_type": "stream",
     "text": [
      "2025/07/19 17:35:38 ERROR dspy.utils.parallelizer: Error for Example({'claim': '\"Licence Revoked\" was the original title during production of a war film that has the actor from Maniac Cop 2. The actor stars as villain Franz Sanchez in \"Licence Revoked\".', 'titles': ['Licence to Kill', 'Robert Davi', 'Maniac Cop 2']}) (input_keys={'claim'}): Adapter JSONAdapter failed to parse the LM response. \n",
      "\n",
      "LM Response: {\n",
      "  \"next_thought\": \"According to Wikipedia, the war film that featured an actor from \"         } \n",
      "\n",
      "Expected to find output fields in the LM response: [next_thought, next_tool_name, next_tool_args] \n",
      "\n",
      "Actual output fields parsed from the LM response: [next_thought] \n",
      "\n",
      ". Set `provide_traceback=True` for traceback.\n"
     ]
    },
    {
     "name": "stdout",
     "output_type": "stream",
     "text": [
      "Average Metric: 0.67 / 1 (66.7%):   6%|▌         | 2/35 [00:18<05:11,  9.45s/it]"
     ]
    },
    {
     "name": "stderr",
     "output_type": "stream",
     "text": [
      "2025/07/19 17:35:40 ERROR dspy.utils.parallelizer: Error for Example({'claim': 'Archers of Loaf is an indie band. The band who had a song called Shelf in the Room is not.', 'titles': ['Days of the New', 'Archers of Loaf', 'Shelf in the Room']}) (input_keys={'claim'}): litellm.RateLimitError: RateLimitError: Together_aiException - Request was rejected due to request rate limiting. Your rate limits are 60 RPM (1 QPS) and 60000 TPM (1000 TPS). See details: https://docs.together.ai/docs/rate-limits. Set `provide_traceback=True` for traceback.\n"
     ]
    },
    {
     "name": "stdout",
     "output_type": "stream",
     "text": [
      "Average Metric: 0.67 / 1 (66.7%):   9%|▊         | 3/35 [00:19<03:07,  5.86s/it]"
     ]
    },
    {
     "name": "stderr",
     "output_type": "stream",
     "text": [
      "2025/07/19 17:35:42 ERROR dspy.utils.parallelizer: Error for Example({'claim': 'The actor, who played Spellingg Bee\" in \"That\\'s My Bush!\", from Stockton, CA appeared in Psych, an American detective comedy-drama television series created by Steve Franks.', 'titles': ['Kurt Fuller', \"That's My Bush!\", 'Psych']}) (input_keys={'claim'}): litellm.RateLimitError: RateLimitError: Together_aiException - Request was rejected due to request rate limiting. Your rate limits are 60 RPM (1 QPS) and 60000 TPM (1000 TPS). See details: https://docs.together.ai/docs/rate-limits. Set `provide_traceback=True` for traceback.\n"
     ]
    },
    {
     "name": "stdout",
     "output_type": "stream",
     "text": [
      "Average Metric: 0.67 / 1 (66.7%):  11%|█▏        | 4/35 [00:21<02:15,  4.37s/it]"
     ]
    },
    {
     "name": "stderr",
     "output_type": "stream",
     "text": [
      "2025/07/19 17:35:43 WARNING dspy.adapters.json_adapter: Failed to use structured output format, falling back to JSON mode.\n",
      "2025/07/19 17:35:43 WARNING dspy.adapters.json_adapter: Failed to use structured output format, falling back to JSON mode.\n",
      "2025/07/19 17:35:45 WARNING dspy.adapters.json_adapter: Failed to use structured output format, falling back to JSON mode.\n"
     ]
    },
    {
     "name": "stdout",
     "output_type": "stream",
     "text": [
      "Average Metric: 0.67 / 2 (33.3%):  14%|█▍        | 5/35 [00:27<02:22,  4.77s/it]"
     ]
    },
    {
     "name": "stderr",
     "output_type": "stream",
     "text": [
      "2025/07/19 17:35:52 ERROR dspy.utils.parallelizer: Error for Example({'claim': 'Il trovatore has more acts than the 1994 Hungarian-Swiss-Italian fantasy film which was loosely inspired by. This Hungarian-Swiss-Italian fantasy film was directed by Ildikó Enyedi and called Magic Hunter.', 'titles': ['Der Freischütz', 'Il trovatore', 'Magic Hunter']}) (input_keys={'claim'}): Both structured output format and JSON mode failed. Please choose a model that supports `response_format` argument. Original error: litellm.RateLimitError: RateLimitError: Together_aiException - Request was rejected due to request rate limiting. Your rate limits are 60 RPM (1 QPS) and 60000 TPM (1000 TPS). See details: https://docs.together.ai/docs/rate-limits. Set `provide_traceback=True` for traceback.\n"
     ]
    },
    {
     "name": "stdout",
     "output_type": "stream",
     "text": [
      "Average Metric: 0.67 / 2 (33.3%):  17%|█▋        | 6/35 [00:32<02:21,  4.89s/it]"
     ]
    },
    {
     "name": "stderr",
     "output_type": "stream",
     "text": [
      "2025/07/19 17:35:54 WARNING dspy.adapters.json_adapter: Failed to use structured output format, falling back to JSON mode.\n",
      "2025/07/19 17:35:54 ERROR dspy.utils.parallelizer: Error for Example({'claim': 'In addition to Creative Artists Agency and the individual who left the group in January 2010 to pursue her academic career, Yubin and Yeeun were the other two final members of the group whose third mini album was named Wonder Party.', 'titles': ['Sunmi', 'Wonder Party', 'Wonder Girls']}) (input_keys={'claim'}): Both structured output format and JSON mode failed. Please choose a model that supports `response_format` argument. Original error: litellm.RateLimitError: RateLimitError: Together_aiException - Request was rejected due to request rate limiting. Your rate limits are 60 RPM (1 QPS) and 60000 TPM (1000 TPS). See details: https://docs.together.ai/docs/rate-limits. Set `provide_traceback=True` for traceback.\n"
     ]
    },
    {
     "name": "stdout",
     "output_type": "stream",
     "text": [
      "Average Metric: 1.67 / 3 (55.6%):  23%|██▎       | 8/35 [00:35<01:24,  3.13s/it]"
     ]
    },
    {
     "name": "stderr",
     "output_type": "stream",
     "text": [
      "2025/07/19 17:36:00 ERROR dspy.utils.parallelizer: Error for Example({'claim': 'There are top three sections for the hockey meeting JC Lipon placed 91st overall in. Of the top three, the one who is both a American professional ice hockey forward and an alternate captain of the Colorado Avalanche organization of the National Hockey League is Nathan MacKinnon.', 'titles': ['2013 NHL Entry Draft', 'Nathan MacKinnon', 'JC Lipon']}) (input_keys={'claim'}): litellm.RateLimitError: RateLimitError: Together_aiException - Request was rejected due to request rate limiting. Your rate limits are 60 RPM (1 QPS) and 60000 TPM (1000 TPS). See details: https://docs.together.ai/docs/rate-limits. Set `provide_traceback=True` for traceback.\n"
     ]
    },
    {
     "name": "stdout",
     "output_type": "stream",
     "text": [
      "Average Metric: 1.67 / 3 (55.6%):  26%|██▌       | 9/35 [00:40<01:32,  3.56s/it]"
     ]
    },
    {
     "name": "stderr",
     "output_type": "stream",
     "text": [
      "2025/07/19 17:36:00 WARNING dspy.adapters.json_adapter: Failed to use structured output format, falling back to JSON mode.\n",
      "2025/07/19 17:36:00 WARNING dspy.adapters.json_adapter: Failed to use structured output format, falling back to JSON mode.\n",
      "2025/07/19 17:36:01 WARNING dspy.adapters.json_adapter: Failed to use structured output format, falling back to JSON mode.\n"
     ]
    },
    {
     "name": "stdout",
     "output_type": "stream",
     "text": [
      "Average Metric: 2.00 / 4 (50.0%):  29%|██▊       | 10/35 [00:42<01:19,  3.16s/it]"
     ]
    },
    {
     "name": "stderr",
     "output_type": "stream",
     "text": [
      "2025/07/19 17:36:03 ERROR dspy.utils.parallelizer: Error for Example({'claim': 'Helen Mirren, a client of the designer who designed the wedding dress of Sarah Ferguson, played Lindka in \"The Queen\".', 'titles': ['Wedding dress of Sarah Ferguson', 'Lindka Cierach', 'Helen Mirren']}) (input_keys={'claim'}): litellm.RateLimitError: RateLimitError: Together_aiException - Request was rejected due to request rate limiting. Your rate limits are 60 RPM (1 QPS) and 60000 TPM (1000 TPS). See details: https://docs.together.ai/docs/rate-limits. Set `provide_traceback=True` for traceback.\n"
     ]
    },
    {
     "name": "stdout",
     "output_type": "stream",
     "text": [
      "Average Metric: 2.00 / 4 (50.0%):  29%|██▊       | 10/35 [00:42<01:19,  3.16s/it]"
     ]
    },
    {
     "name": "stderr",
     "output_type": "stream",
     "text": [
      "2025/07/19 17:36:03 WARNING dspy.adapters.json_adapter: Failed to use structured output format, falling back to JSON mode.\n"
     ]
    },
    {
     "name": "stdout",
     "output_type": "stream",
     "text": [
      "Average Metric: 2.33 / 6 (38.9%):  37%|███▋      | 13/35 [00:44<00:39,  1.81s/it]"
     ]
    },
    {
     "name": "stderr",
     "output_type": "stream",
     "text": [
      "2025/07/19 17:36:06 ERROR dspy.utils.parallelizer: Error for Example({'claim': 'The director of The Moth Diaries (born January 12, 1953) was a French Canadian filmmaker who created a film about Bettie Page in 2005.', 'titles': ['The Moth Diaries (film)', 'Mary Harron', 'The Notorious Bettie Page']}) (input_keys={'claim'}): litellm.RateLimitError: RateLimitError: Together_aiException - Request was rejected due to request rate limiting. Your rate limits are 60 RPM (1 QPS) and 60000 TPM (1000 TPS). See details: https://docs.together.ai/docs/rate-limits. Set `provide_traceback=True` for traceback.\n"
     ]
    },
    {
     "name": "stdout",
     "output_type": "stream",
     "text": [
      "Average Metric: 3.67 / 9 (40.7%):  46%|████▌     | 16/35 [00:48<00:29,  1.56s/it]"
     ]
    },
    {
     "name": "stderr",
     "output_type": "stream",
     "text": [
      "2025/07/19 17:36:09 ERROR dspy.utils.parallelizer: Error for Example({'claim': 'Delta–Mendota Canal is an aqueduct used to divert a canal. The All-American Canal is longer than that canal.', 'titles': ['Delta–Mendota Canal', 'Madera Canal', 'All-American Canal']}) (input_keys={'claim'}): litellm.RateLimitError: RateLimitError: Together_aiException - Request was rejected due to request rate limiting. Your rate limits are 60 RPM (1 QPS) and 60000 TPM (1000 TPS). See details: https://docs.together.ai/docs/rate-limits. Set `provide_traceback=True` for traceback.\n"
     ]
    },
    {
     "name": "stdout",
     "output_type": "stream",
     "text": [
      "Average Metric: 3.67 / 9 (40.7%):  51%|█████▏    | 18/35 [00:49<00:15,  1.08it/s]"
     ]
    },
    {
     "name": "stderr",
     "output_type": "stream",
     "text": [
      "2025/07/19 17:36:09 ERROR dspy.utils.parallelizer: Error for Example({'claim': 'The summer 2016 romantic drama \"Me Before You\" is directed by Thea Sharrock. The star of the film The Lost Future (who also appears in The Hunger Games) stars as the character Will Traynor.', 'titles': ['The Lost Future', 'Me Before You (film)', 'Sam Claflin']}) (input_keys={'claim'}): Both structured output format and JSON mode failed. Please choose a model that supports `response_format` argument. Original error: litellm.RateLimitError: RateLimitError: Together_aiException - Request was rejected due to request rate limiting. Your rate limits are 60 RPM (1 QPS) and 60000 TPM (1000 TPS). See details: https://docs.together.ai/docs/rate-limits. Set `provide_traceback=True` for traceback.\n"
     ]
    },
    {
     "name": "stdout",
     "output_type": "stream",
     "text": [
      "Average Metric: 3.67 / 9 (40.7%):  51%|█████▏    | 18/35 [00:49<00:15,  1.08it/s]"
     ]
    },
    {
     "name": "stderr",
     "output_type": "stream",
     "text": [
      "2025/07/19 17:36:09 WARNING dspy.adapters.json_adapter: Failed to use structured output format, falling back to JSON mode.\n",
      "2025/07/19 17:36:09 WARNING dspy.adapters.json_adapter: Failed to use structured output format, falling back to JSON mode.\n"
     ]
    },
    {
     "name": "stdout",
     "output_type": "stream",
     "text": [
      "Average Metric: 4.00 / 10 (40.0%):  57%|█████▋    | 20/35 [00:51<00:14,  1.05it/s]"
     ]
    },
    {
     "name": "stderr",
     "output_type": "stream",
     "text": [
      "2025/07/19 17:36:13 ERROR dspy.utils.parallelizer: Error for Example({'claim': \"The real life person that James Woods' character is based on in the television film was awarded the Medal of Honor. Steven Vincent Leigh appeared in this film in 1987.\", 'titles': ['James Stockdale', 'Steven Vincent Leigh', 'In Love and War (1987 film)']}) (input_keys={'claim'}): Both structured output format and JSON mode failed. Please choose a model that supports `response_format` argument. Original error: litellm.RateLimitError: RateLimitError: Together_aiException - Request was rejected due to request rate limiting. Your rate limits are 60 RPM (1 QPS) and 60000 TPM (1000 TPS). See details: https://docs.together.ai/docs/rate-limits. Set `provide_traceback=True` for traceback.\n"
     ]
    },
    {
     "name": "stdout",
     "output_type": "stream",
     "text": [
      "Average Metric: 4.00 / 10 (40.0%):  60%|██████    | 21/35 [00:52<00:15,  1.14s/it]"
     ]
    },
    {
     "name": "stderr",
     "output_type": "stream",
     "text": [
      "2025/07/19 17:36:17 ERROR dspy.utils.parallelizer: Error for Example({'claim': 'Mountain Dew is owned by the Pepsi-Cola company. So is the producer of orange juice founded by Anthony T. Rossi.', 'titles': ['Tropicana Products', 'Anthony T. Rossi', 'Mountain Dew']}) (input_keys={'claim'}): litellm.RateLimitError: RateLimitError: Together_aiException - Request was rejected due to request rate limiting. Your rate limits are 60 RPM (1 QPS) and 60000 TPM (1000 TPS). See details: https://docs.together.ai/docs/rate-limits. Set `provide_traceback=True` for traceback.\n"
     ]
    },
    {
     "name": "stdout",
     "output_type": "stream",
     "text": [
      "Average Metric: 4.00 / 10 (40.0%):  63%|██████▎   | 22/35 [00:56<00:23,  1.79s/it]"
     ]
    },
    {
     "name": "stderr",
     "output_type": "stream",
     "text": [
      "2025/07/19 17:36:17 ERROR dspy.utils.parallelizer: Error for Example({'claim': 'Grand Forks International Airport is closer to the town it is near, than the airport close by to The Texas Air & Space Museum.', 'titles': ['Texas Air &amp; Space Museum', 'Rick Husband Amarillo International Airport', 'Grand Forks International Airport']}) (input_keys={'claim'}): litellm.RateLimitError: RateLimitError: Together_aiException - Request was rejected due to request rate limiting. Your rate limits are 60 RPM (1 QPS) and 60000 TPM (1000 TPS). See details: https://docs.together.ai/docs/rate-limits. Set `provide_traceback=True` for traceback.\n"
     ]
    },
    {
     "name": "stdout",
     "output_type": "stream",
     "text": [
      "Average Metric: 4.00 / 10 (40.0%):  63%|██████▎   | 22/35 [00:56<00:23,  1.79s/it]"
     ]
    },
    {
     "name": "stderr",
     "output_type": "stream",
     "text": [
      "2025/07/19 17:36:17 ERROR dspy.utils.parallelizer: Error for Example({'claim': 'The American actress voices a character in King of the Hill, which is also American. She also wrote the song Tiggy is famous for remixing.', 'titles': ['Sandy Fox', 'King of the Hill', 'Tiggy']}) (input_keys={'claim'}): Both structured output format and JSON mode failed. Please choose a model that supports `response_format` argument. Original error: litellm.RateLimitError: RateLimitError: Together_aiException - Request was rejected due to request rate limiting. Your rate limits are 60 RPM (1 QPS) and 60000 TPM (1000 TPS). See details: https://docs.together.ai/docs/rate-limits. Set `provide_traceback=True` for traceback.\n"
     ]
    },
    {
     "name": "stdout",
     "output_type": "stream",
     "text": [
      "Average Metric: 4.00 / 10 (40.0%):  66%|██████▌   | 23/35 [00:56<00:16,  1.40s/it]"
     ]
    },
    {
     "name": "stderr",
     "output_type": "stream",
     "text": [
      "2025/07/19 17:36:17 ERROR dspy.utils.parallelizer: Error for Example({'claim': 'The elder sister of the actress that played Margaret Devlin in  The Oregon Trail (TV series) is best known for her role as the eldest Von Trapp daughter in \"Liesl\".', 'titles': ['Darleen Carr', 'The Oregon Trail (TV series)', 'Charmian Carr']}) (input_keys={'claim'}): Both structured output format and JSON mode failed. Please choose a model that supports `response_format` argument. Original error: litellm.RateLimitError: RateLimitError: Together_aiException - Request was rejected due to request rate limiting. Your rate limits are 60 RPM (1 QPS) and 60000 TPM (1000 TPS). See details: https://docs.together.ai/docs/rate-limits. Set `provide_traceback=True` for traceback.\n"
     ]
    },
    {
     "name": "stdout",
     "output_type": "stream",
     "text": [
      "Average Metric: 4.00 / 10 (40.0%):  69%|██████▊   | 24/35 [00:57<00:15,  1.40s/it]"
     ]
    },
    {
     "name": "stderr",
     "output_type": "stream",
     "text": [
      "2025/07/19 17:36:19 ERROR dspy.utils.parallelizer: Error for Example({'claim': 'Sophia Grace & Rosie featured a cover song on their Youtube channel. The pop song from is from an album released under the Syco Music and Columbia Records labels.', 'titles': ['Touch (Little Mix song)', 'Glory Days (Little Mix album)', 'Sophia Grace &amp; Rosie']}) (input_keys={'claim'}): Adapter JSONAdapter failed to parse the LM response. \n",
      "\n",
      "LM Response: {\n",
      "  \"next_thought\": \"The song featured on Sophia Grace & Rosie's YouTube channel is likely a cover song, and it is from an album released under the Syco Music and Columbia Records labels. I need to identify the exact song and artist. From Wikipedia, I found that a song called \"   ,   \" was released by Grace VanderWaal under Syco Music and Columbia Records. I will look up more information about this song, but it seems like it might be the correct song, so I will proceed with finishing the task for now. However, upon reviewing the Wikipedia results, I noticed it's unclear if this song is a cover of another song, so I should confirm by looking up if there is any evidence of the song being a cover of another song. I should also look up if there is any other song that could be the correct song. However, based on the lack of other results and the fact that the song is from Syco Music and Columbia Records, I am fairly certain this is the correct song. I should also look up if there are any other songs that could be a cover of this song, but it seems like it is unlikely. I will proceed with finishing the task for now and confirm by looking up if there are any other songs that could be a cover of this song. I'll start by looking for information on whether the song is a cover of another song and if there are any other songs that could be the correct song.  The artist of the song is Grace VanderWaal and I need to find the album that the song is from. I will start by searching for the album that the song \"    :\"\"\n",
      "  } \n",
      "\n",
      "Expected to find output fields in the LM response: [next_thought, next_tool_name, next_tool_args] \n",
      "\n",
      "Actual output fields parsed from the LM response: [next_thought] \n",
      "\n",
      ". Set `provide_traceback=True` for traceback.\n"
     ]
    },
    {
     "name": "stdout",
     "output_type": "stream",
     "text": [
      "Average Metric: 4.33 / 11 (39.4%):  74%|███████▍  | 26/35 [00:59<00:09,  1.05s/it]"
     ]
    },
    {
     "name": "stderr",
     "output_type": "stream",
     "text": [
      "2025/07/19 17:36:20 ERROR dspy.utils.parallelizer: Error for Example({'claim': 'This American composer composed Troubled Island. He was born in 1895 was married to his frequent collaborator Verna Arvey.', 'titles': ['William Grant Still', 'A Bayou Legend', 'Troubled Island']}) (input_keys={'claim'}): litellm.RateLimitError: RateLimitError: Together_aiException - Request was rejected due to request rate limiting. Your rate limits are 60 RPM (1 QPS) and 60000 TPM (1000 TPS). See details: https://docs.together.ai/docs/rate-limits. Set `provide_traceback=True` for traceback.\n"
     ]
    },
    {
     "name": "stdout",
     "output_type": "stream",
     "text": [
      "Average Metric: 4.33 / 12 (36.1%):  83%|████████▎ | 29/35 [01:05<00:10,  1.69s/it]"
     ]
    },
    {
     "name": "stderr",
     "output_type": "stream",
     "text": [
      "2025/07/19 17:36:28 ERROR dspy.utils.parallelizer: Error for Example({'claim': 'Radiation Vibe is the first chart-topping single from the debut album of the band formed in 1995 that came out with an album called \"Welcome Interstate Managers\\'.', 'titles': [\"Stacy's Mom\", 'Fountains of Wayne', 'Radiation Vibe']}) (input_keys={'claim'}): litellm.RateLimitError: RateLimitError: Together_aiException - Request was rejected due to request rate limiting. Your rate limits are 60 RPM (1 QPS) and 60000 TPM (1000 TPS). See details: https://docs.together.ai/docs/rate-limits. Set `provide_traceback=True` for traceback.\n"
     ]
    },
    {
     "name": "stdout",
     "output_type": "stream",
     "text": [
      "Average Metric: 4.33 / 13 (33.3%):  89%|████████▊ | 31/35 [01:09<00:07,  1.92s/it]"
     ]
    },
    {
     "name": "stderr",
     "output_type": "stream",
     "text": [
      "2025/07/19 17:36:32 ERROR dspy.utils.parallelizer: Error for Example({'claim': 'Brady Seals has released more solo albums than the rapper who Avril Lavigne featured on the song Get Over Me with.', 'titles': ['Nick Carter (musician)', 'Brady Seals', 'Get Over Me']}) (input_keys={'claim'}): litellm.RateLimitError: RateLimitError: Together_aiException - Request was rejected due to request rate limiting. Your rate limits are 60 RPM (1 QPS) and 60000 TPM (1000 TPS). See details: https://docs.together.ai/docs/rate-limits. Set `provide_traceback=True` for traceback.\n"
     ]
    },
    {
     "name": "stdout",
     "output_type": "stream",
     "text": [
      "Average Metric: 7.33 / 16 (45.8%): 100%|██████████| 35/35 [01:16<00:00,  2.18s/it]"
     ]
    },
    {
     "name": "stderr",
     "output_type": "stream",
     "text": [
      "2025/07/19 17:36:36 INFO dspy.evaluate.evaluate: Average Metric: 7.333333333333333 / 35 (21.0%)\n",
      "2025/07/19 17:36:36 INFO dspy.teleprompt.mipro_optimizer_v2: Score: 20.95 on minibatch of size 35 with parameters ['Predictor 0: Instruction 3', 'Predictor 0: Few-Shot Set 1', 'Predictor 1: Instruction 5', 'Predictor 1: Few-Shot Set 4'].\n",
      "2025/07/19 17:36:36 INFO dspy.teleprompt.mipro_optimizer_v2: Minibatch scores so far: [2.86, 8.57, 18.1, 14.29, 3.81, 2.86, 6.67, 19.05, 0.95, 9.52, 20.95]\n",
      "2025/07/19 17:36:36 INFO dspy.teleprompt.mipro_optimizer_v2: Full eval scores so far: [2.08, 22.08, 15.83]\n",
      "2025/07/19 17:36:36 INFO dspy.teleprompt.mipro_optimizer_v2: Best full score so far: 22.08\n",
      "2025/07/19 17:36:36 INFO dspy.teleprompt.mipro_optimizer_v2: ==========================================\n",
      "\n",
      "\n",
      "2025/07/19 17:36:36 INFO dspy.teleprompt.mipro_optimizer_v2: == Trial 15 / 35 - Minibatch ==\n"
     ]
    },
    {
     "name": "stdout",
     "output_type": "stream",
     "text": [
      "\n",
      "  0%|          | 0/35 [00:00<?, ?it/s]"
     ]
    },
    {
     "name": "stderr",
     "output_type": "stream",
     "text": [
      "2025/07/19 17:36:52 ERROR dspy.utils.parallelizer: Error for Example({'claim': 'Danyang, Jiangusu and this city are both cities in China. This city was the birthplace of Chen Xiuke.', 'titles': ['Danyang, Jiangsu', 'Dongfang, Hainan', 'Chen Xiuke']}) (input_keys={'claim'}): litellm.RateLimitError: RateLimitError: Together_aiException - Request was rejected due to request rate limiting. Your rate limits are 60 RPM (1 QPS) and 60000 TPM (1000 TPS). See details: https://docs.together.ai/docs/rate-limits. Set `provide_traceback=True` for traceback.\n"
     ]
    },
    {
     "name": "stdout",
     "output_type": "stream",
     "text": [
      "Average Metric: 0.00 / 0 (0%):   3%|▎         | 1/35 [00:15<08:49, 15.59s/it]"
     ]
    },
    {
     "name": "stderr",
     "output_type": "stream",
     "text": [
      "2025/07/19 17:36:53 ERROR dspy.utils.parallelizer: Error for Example({'claim': 'The city containing the Parafield railway station is very near the airport and the Mawson Lakes campus of the University of South Australia.', 'titles': ['Parafield, South Australia', 'Parafield railway station', 'Parafield Airport']}) (input_keys={'claim'}): litellm.RateLimitError: RateLimitError: Together_aiException - Request was rejected due to request rate limiting. Your rate limits are 60 RPM (1 QPS) and 60000 TPM (1000 TPS). See details: https://docs.together.ai/docs/rate-limits. Set `provide_traceback=True` for traceback.\n"
     ]
    },
    {
     "name": "stdout",
     "output_type": "stream",
     "text": [
      "Average Metric: 0.00 / 0 (0%):   6%|▌         | 2/35 [00:15<03:36,  6.57s/it]"
     ]
    },
    {
     "name": "stderr",
     "output_type": "stream",
     "text": [
      "2025/07/19 17:36:54 WARNING dspy.adapters.json_adapter: Failed to use structured output format, falling back to JSON mode.\n",
      "2025/07/19 17:36:56 ERROR dspy.utils.parallelizer: Error for Example({'claim': 'The individual who played Herman Boone in Remember the Titans, and David Hewlett, are both actors.', 'titles': ['David Hewlett', 'Denzel Washington', 'Herman Boone']}) (input_keys={'claim'}): litellm.RateLimitError: RateLimitError: Together_aiException - Request was rejected due to request rate limiting. Your rate limits are 60 RPM (1 QPS) and 60000 TPM (1000 TPS). See details: https://docs.together.ai/docs/rate-limits. Set `provide_traceback=True` for traceback.\n"
     ]
    },
    {
     "name": "stdout",
     "output_type": "stream",
     "text": [
      "Average Metric: 0.00 / 0 (0%):   9%|▊         | 3/35 [00:19<02:44,  5.13s/it]"
     ]
    },
    {
     "name": "stderr",
     "output_type": "stream",
     "text": [
      "2025/07/19 17:36:56 ERROR dspy.utils.parallelizer: Error for Example({'claim': 'In addition to Creative Artists Agency and the individual who left the group in January 2010 to pursue her academic career, Yubin and Yeeun were the other two final members of the group whose third mini album was named Wonder Party.', 'titles': ['Sunmi', 'Wonder Party', 'Wonder Girls']}) (input_keys={'claim'}): litellm.RateLimitError: RateLimitError: Together_aiException - Request was rejected due to request rate limiting. Your rate limits are 60 RPM (1 QPS) and 60000 TPM (1000 TPS). See details: https://docs.together.ai/docs/rate-limits. Set `provide_traceback=True` for traceback.\n"
     ]
    },
    {
     "name": "stdout",
     "output_type": "stream",
     "text": [
      "Average Metric: 0.00 / 0 (0%):  11%|█▏        | 4/35 [00:19<01:40,  3.26s/it]"
     ]
    },
    {
     "name": "stderr",
     "output_type": "stream",
     "text": [
      "2025/07/19 17:36:59 ERROR dspy.utils.parallelizer: Error for Example({'claim': 'This equatorial island is known for Breacachadh which is also known as Breachacha Castle. It is also home to Dùn Dubh.', 'titles': ['Dùn Dubh', 'Breachacha Castle', 'Coll']}) (input_keys={'claim'}): litellm.RateLimitError: RateLimitError: Together_aiException - Request was rejected due to request rate limiting. Your rate limits are 60 RPM (1 QPS) and 60000 TPM (1000 TPS). See details: https://docs.together.ai/docs/rate-limits. Set `provide_traceback=True` for traceback.\n"
     ]
    },
    {
     "name": "stdout",
     "output_type": "stream",
     "text": [
      "Average Metric: 0.00 / 0 (0%):  14%|█▍        | 5/35 [00:22<01:33,  3.11s/it]"
     ]
    },
    {
     "name": "stderr",
     "output_type": "stream",
     "text": [
      "2025/07/19 17:37:02 WARNING dspy.adapters.json_adapter: Failed to use structured output format, falling back to JSON mode.\n"
     ]
    },
    {
     "name": "stdout",
     "output_type": "stream",
     "text": [
      "Average Metric: 0.33 / 1 (33.3%):  17%|█▋        | 6/35 [00:25<01:29,  3.09s/it]"
     ]
    },
    {
     "name": "stderr",
     "output_type": "stream",
     "text": [
      "2025/07/19 17:37:03 ERROR dspy.utils.parallelizer: Error for Example({'claim': 'Avery Waddell is the director of the banned hardcore pornographic film War Dogs. and also directed the film Road Trip starring Breckin Meyer. Todd Phillip also directed a film starring Breckin Meyer.', 'titles': ['Avery Waddell', 'Todd Phillips', 'Road Trip (film)']}) (input_keys={'claim'}): litellm.RateLimitError: RateLimitError: Together_aiException - Request was rejected due to request rate limiting. Your rate limits are 60 RPM (1 QPS) and 60000 TPM (1000 TPS). See details: https://docs.together.ai/docs/rate-limits. Set `provide_traceback=True` for traceback.\n"
     ]
    },
    {
     "name": "stdout",
     "output_type": "stream",
     "text": [
      "Average Metric: 0.33 / 1 (33.3%):  20%|██        | 7/35 [00:26<01:09,  2.48s/it]"
     ]
    },
    {
     "name": "stderr",
     "output_type": "stream",
     "text": [
      "2025/07/19 17:37:04 WARNING dspy.adapters.json_adapter: Failed to use structured output format, falling back to JSON mode.\n"
     ]
    },
    {
     "name": "stdout",
     "output_type": "stream",
     "text": [
      "Average Metric: 0.67 / 2 (33.3%):  23%|██▎       | 8/35 [00:27<00:48,  1.81s/it]"
     ]
    },
    {
     "name": "stderr",
     "output_type": "stream",
     "text": [
      "2025/07/19 17:37:04 ERROR dspy.utils.parallelizer: Error for Example({'claim': 'Markounda is a sub-prefecture that borders an Central African Republic country bordered by Libya and the Sudan and is known for the Dar Sila region.', 'titles': ['Markounda', 'Sila Region', 'Chad']}) (input_keys={'claim'}): litellm.RateLimitError: RateLimitError: Together_aiException - Request was rejected due to request rate limiting. Your rate limits are 60 RPM (1 QPS) and 60000 TPM (1000 TPS). See details: https://docs.together.ai/docs/rate-limits. Set `provide_traceback=True` for traceback.\n"
     ]
    },
    {
     "name": "stdout",
     "output_type": "stream",
     "text": [
      "Average Metric: 0.67 / 2 (33.3%):  26%|██▌       | 9/35 [00:27<00:33,  1.29s/it]"
     ]
    },
    {
     "name": "stderr",
     "output_type": "stream",
     "text": [
      "2025/07/19 17:37:09 ERROR dspy.utils.parallelizer: Error for Example({'claim': 'Bowdoin College was established before another university. This university was attended by John Wesley Hughes.', 'titles': ['Vanderbilt University', 'John Wesley Hughes', 'Bowdoin College']}) (input_keys={'claim'}): litellm.RateLimitError: RateLimitError: Together_aiException - Request was rejected due to request rate limiting. Your rate limits are 60 RPM (1 QPS) and 60000 TPM (1000 TPS). See details: https://docs.together.ai/docs/rate-limits. Set `provide_traceback=True` for traceback.\n"
     ]
    },
    {
     "name": "stdout",
     "output_type": "stream",
     "text": [
      "Average Metric: 0.67 / 2 (33.3%):  29%|██▊       | 10/35 [00:32<01:02,  2.50s/it]"
     ]
    },
    {
     "name": "stderr",
     "output_type": "stream",
     "text": [
      "2025/07/19 17:37:11 ERROR dspy.utils.parallelizer: Error for Example({'claim': '\"Licence Revoked\" was the original title during production of a war film that has the actor from Maniac Cop 2. The actor stars as villain Franz Sanchez in \"Licence Revoked\".', 'titles': ['Licence to Kill', 'Robert Davi', 'Maniac Cop 2']}) (input_keys={'claim'}): litellm.RateLimitError: RateLimitError: Together_aiException - Request was rejected due to request rate limiting. Your rate limits are 60 RPM (1 QPS) and 60000 TPM (1000 TPS). See details: https://docs.together.ai/docs/rate-limits. Set `provide_traceback=True` for traceback.\n"
     ]
    },
    {
     "name": "stdout",
     "output_type": "stream",
     "text": [
      "Average Metric: 0.67 / 2 (33.3%):  31%|███▏      | 11/35 [00:34<00:56,  2.34s/it]"
     ]
    },
    {
     "name": "stderr",
     "output_type": "stream",
     "text": [
      "2025/07/19 17:37:12 ERROR dspy.utils.parallelizer: Error for Example({'claim': \"The owner of Viva (UK and Ireland) changed it's name in late 2004. Their new acronym stand for Gesellschaft mit beschränkter Haftung.\", 'titles': ['Gesellschaft mit beschränkter Haftung', 'Viva (UK and Ireland)', 'VIVA Media']}) (input_keys={'claim'}): Both structured output format and JSON mode failed. Please choose a model that supports `response_format` argument. Original error: litellm.RateLimitError: RateLimitError: Together_aiException - Request was rejected due to request rate limiting. Your rate limits are 60 RPM (1 QPS) and 60000 TPM (1000 TPS). See details: https://docs.together.ai/docs/rate-limits. Set `provide_traceback=True` for traceback.\n"
     ]
    },
    {
     "name": "stdout",
     "output_type": "stream",
     "text": [
      "Average Metric: 0.67 / 2 (33.3%):  34%|███▍      | 12/35 [00:35<00:46,  2.02s/it]"
     ]
    },
    {
     "name": "stderr",
     "output_type": "stream",
     "text": [
      "2025/07/19 17:37:14 ERROR dspy.utils.parallelizer: Error for Example({'claim': 'Africa has a distribution of both the Ternstroemia and the genus that Seemannaralia gerrardii was originally included in.', 'titles': ['Seemannaralia gerrardii', 'Cussonia', 'Ternstroemia']}) (input_keys={'claim'}): litellm.RateLimitError: RateLimitError: Together_aiException - Request was rejected due to request rate limiting. Your rate limits are 60 RPM (1 QPS) and 60000 TPM (1000 TPS). See details: https://docs.together.ai/docs/rate-limits. Set `provide_traceback=True` for traceback.\n"
     ]
    },
    {
     "name": "stdout",
     "output_type": "stream",
     "text": [
      "Average Metric: 0.67 / 2 (33.3%):  37%|███▋      | 13/35 [00:37<00:42,  1.91s/it]"
     ]
    },
    {
     "name": "stderr",
     "output_type": "stream",
     "text": [
      "2025/07/19 17:37:17 ERROR dspy.utils.parallelizer: Error for Example({'claim': 'Candlelight Red the musical group has released twice as many albums as the band who also performs as One Unique Signal.', 'titles': ['Candlelight Red', 'The Telescopes', 'One Unique Signal']}) (input_keys={'claim'}): litellm.RateLimitError: RateLimitError: Together_aiException - Request was rejected due to request rate limiting. Your rate limits are 60 RPM (1 QPS) and 60000 TPM (1000 TPS). See details: https://docs.together.ai/docs/rate-limits. Set `provide_traceback=True` for traceback.\n"
     ]
    },
    {
     "name": "stdout",
     "output_type": "stream",
     "text": [
      "Average Metric: 1.33 / 3 (44.4%):  43%|████▎     | 15/35 [00:43<00:51,  2.56s/it]"
     ]
    },
    {
     "name": "stderr",
     "output_type": "stream",
     "text": [
      "2025/07/19 17:37:23 ERROR dspy.utils.parallelizer: Error for Example({'claim': 'Radiation Vibe is the first chart-topping single from the debut album of the band formed in 1995 that came out with an album called \"Welcome Interstate Managers\\'.', 'titles': [\"Stacy's Mom\", 'Fountains of Wayne', 'Radiation Vibe']}) (input_keys={'claim'}): litellm.RateLimitError: RateLimitError: Together_aiException - Request was rejected due to request rate limiting. Your rate limits are 60 RPM (1 QPS) and 60000 TPM (1000 TPS). See details: https://docs.together.ai/docs/rate-limits. Set `provide_traceback=True` for traceback.\n"
     ]
    },
    {
     "name": "stdout",
     "output_type": "stream",
     "text": [
      "Average Metric: 1.67 / 4 (41.7%):  49%|████▊     | 17/35 [00:47<00:41,  2.31s/it]"
     ]
    },
    {
     "name": "stderr",
     "output_type": "stream",
     "text": [
      "2025/07/19 17:37:25 WARNING dspy.clients.lm: LM response was truncated due to exceeding max_tokens=4000. You can inspect the latest LM interactions with `dspy.inspect_history()`. To avoid truncation, consider passing a larger max_tokens when setting up dspy.LM. You may also consider increasing the temperature (currently 0.7)  if the reason for truncation is repetition.\n",
      "2025/07/19 17:37:25 ERROR dspy.utils.parallelizer: Error for Example({'claim': 'One of the screenwriters who worked on \"The Janus Directive\" collaborated on Martian Manhunter, which was based on a fictional superhero.', 'titles': ['Janus Directive', 'Martian Manhunter', 'Tom Mandrake']}) (input_keys={'claim'}): Adapter JSONAdapter failed to parse the LM response. \n",
      "\n",
      "LM Response: {\n",
      "  \"next_thought\": \"I need to check if any of the screenwriters who worked on \"     , \"The Janus Directive\"                                                                                                                                                                                                                                                                                                                                                                                                                                                                                                                                                                                                                                                                                                                                                                                                                                                                                                                                                                                                                                                                                                                                                                                                                                                                                                                                                                                                                                                                                                                                                                                                                                                                                                                                                                                                                                                                                                                                                                                                                                                                                                                                                                                                                                                                                                                                                                                                                                                                                                                                                                                                                                                                                                                                                                                                                                                                                                                                                                                                                                                                                                                                                                                                                                                                                                                                                                                                                                                                                                                                                                                                                                                                                                                                                                                                                                                                                                                                                                                                                                                                                                                                   \n",
      "\n",
      "Expected to find output fields in the LM response: [next_thought, next_tool_name, next_tool_args] \n",
      "\n",
      "Actual output fields parsed from the LM response: [next_thought] \n",
      "\n",
      ". Set `provide_traceback=True` for traceback.\n"
     ]
    },
    {
     "name": "stdout",
     "output_type": "stream",
     "text": [
      "Average Metric: 1.67 / 4 (41.7%):  49%|████▊     | 17/35 [00:47<00:41,  2.31s/it]"
     ]
    },
    {
     "name": "stderr",
     "output_type": "stream",
     "text": [
      "2025/07/19 17:37:28 WARNING dspy.adapters.json_adapter: Failed to use structured output format, falling back to JSON mode.\n",
      "2025/07/19 17:37:29 ERROR dspy.utils.parallelizer: Error for Example({'claim': 'The father of director Guðný Halldórsdóttir and Timothy Leary are not from the same place.', 'titles': ['Halldór Laxness', 'Timothy Leary', 'Guðný Halldórsdóttir']}) (input_keys={'claim'}): litellm.RateLimitError: RateLimitError: Together_aiException - Request was rejected due to request rate limiting. Your rate limits are 60 RPM (1 QPS) and 60000 TPM (1000 TPS). See details: https://docs.together.ai/docs/rate-limits. Set `provide_traceback=True` for traceback.\n"
     ]
    },
    {
     "name": "stdout",
     "output_type": "stream",
     "text": [
      "Average Metric: 1.67 / 4 (41.7%):  54%|█████▍    | 19/35 [00:52<00:36,  2.26s/it]"
     ]
    },
    {
     "name": "stderr",
     "output_type": "stream",
     "text": [
      "2025/07/19 17:37:29 ERROR dspy.utils.parallelizer: Error for Example({'claim': 'Irish footballer, John Francis O\\'Shea, joined a company in 1950. This company made the TV movie \"The Coastwatchers\"', 'titles': [\"John O'Shea\", 'Pacific Films', 'The Coastwatchers (TV movie)']}) (input_keys={'claim'}): litellm.RateLimitError: RateLimitError: Together_aiException - Request was rejected due to request rate limiting. Your rate limits are 60 RPM (1 QPS) and 60000 TPM (1000 TPS). See details: https://docs.together.ai/docs/rate-limits. Set `provide_traceback=True` for traceback.\n"
     ]
    },
    {
     "name": "stdout",
     "output_type": "stream",
     "text": [
      "Average Metric: 1.67 / 4 (41.7%):  57%|█████▋    | 20/35 [00:52<00:25,  1.73s/it]"
     ]
    },
    {
     "name": "stderr",
     "output_type": "stream",
     "text": [
      "2025/07/19 17:37:31 ERROR dspy.utils.parallelizer: Error for Example({'claim': 'This woman directed the 2005 Disney Channel Original Movie Go Figure whose soundtrack was released on June 7th. She also directed the comedy movie Sugar & Spice.', 'titles': ['Go Figure (film)', 'Sugar &amp; Spice', 'Francine McDougall']}) (input_keys={'claim'}): litellm.RateLimitError: RateLimitError: Together_aiException - Request was rejected due to request rate limiting. Your rate limits are 60 RPM (1 QPS) and 60000 TPM (1000 TPS). See details: https://docs.together.ai/docs/rate-limits. Set `provide_traceback=True` for traceback.\n"
     ]
    },
    {
     "name": "stdout",
     "output_type": "stream",
     "text": [
      "Average Metric: 1.67 / 4 (41.7%):  60%|██████    | 21/35 [00:53<00:23,  1.67s/it]"
     ]
    },
    {
     "name": "stderr",
     "output_type": "stream",
     "text": [
      "2025/07/19 17:37:31 WARNING dspy.adapters.json_adapter: Failed to use structured output format, falling back to JSON mode.\n",
      "2025/07/19 17:37:35 ERROR dspy.utils.parallelizer: Error for Example({'claim': 'Both the character, who is sometimes called the  \"Mad Hatter\" in adaptations of the book. and March Hare are characters in the book Alice\\'s Adventures in Wonderland', 'titles': [\"Hatter (Alice's Adventures in Wonderland)\", 'Mad Hatter (comics)', 'March Hare']}) (input_keys={'claim'}): litellm.RateLimitError: RateLimitError: Together_aiException - Request was rejected due to request rate limiting. Your rate limits are 60 RPM (1 QPS) and 60000 TPM (1000 TPS). See details: https://docs.together.ai/docs/rate-limits. Set `provide_traceback=True` for traceback.\n"
     ]
    },
    {
     "name": "stdout",
     "output_type": "stream",
     "text": [
      "Average Metric: 1.67 / 4 (41.7%):  63%|██████▎   | 22/35 [00:58<00:32,  2.50s/it]"
     ]
    },
    {
     "name": "stderr",
     "output_type": "stream",
     "text": [
      "2025/07/19 17:37:35 ERROR dspy.utils.parallelizer: Error for Example({'claim': 'The genera that the Gordonia-Alatamaha State Park is named after and Osbeckia are not in the same family.', 'titles': ['Gordonia (plant)', 'Osbeckia', 'Gordonia-Alatamaha State Park']}) (input_keys={'claim'}): Both structured output format and JSON mode failed. Please choose a model that supports `response_format` argument. Original error: litellm.RateLimitError: RateLimitError: Together_aiException - Request was rejected due to request rate limiting. Your rate limits are 60 RPM (1 QPS) and 60000 TPM (1000 TPS). See details: https://docs.together.ai/docs/rate-limits. Set `provide_traceback=True` for traceback.\n"
     ]
    },
    {
     "name": "stdout",
     "output_type": "stream",
     "text": [
      "Average Metric: 1.67 / 4 (41.7%):  66%|██████▌   | 23/35 [00:58<00:22,  1.84s/it]"
     ]
    },
    {
     "name": "stderr",
     "output_type": "stream",
     "text": [
      "2025/07/19 17:37:42 WARNING dspy.adapters.json_adapter: Failed to use structured output format, falling back to JSON mode.\n",
      "2025/07/19 17:37:42 ERROR dspy.utils.parallelizer: Error for Example({'claim': 'The 1935 propaganda documentary, on which Karl Attenberger worked with Leni Riefenstahl, and The End of America were not both made in the same year.', 'titles': ['Triumph of the Will', 'The End of America (film)', 'Karl Attenberger']}) (input_keys={'claim'}): Both structured output format and JSON mode failed. Please choose a model that supports `response_format` argument. Original error: litellm.RateLimitError: RateLimitError: Together_aiException - Request was rejected due to request rate limiting. Your rate limits are 60 RPM (1 QPS) and 60000 TPM (1000 TPS). See details: https://docs.together.ai/docs/rate-limits. Set `provide_traceback=True` for traceback.\n"
     ]
    },
    {
     "name": "stdout",
     "output_type": "stream",
     "text": [
      "Average Metric: 1.67 / 4 (41.7%):  69%|██████▊   | 24/35 [01:05<00:34,  3.13s/it]"
     ]
    },
    {
     "name": "stderr",
     "output_type": "stream",
     "text": [
      "2025/07/19 17:37:42 ERROR dspy.utils.parallelizer: Error for Example({'claim': 'The owner of Tatoosh (yacht) has a sister named Jo Lynn \"Jody\". He is an South African business magnate, investor and philanthropist.', 'titles': ['Jody Allen', 'Paul Allen', 'Tatoosh (yacht)']}) (input_keys={'claim'}): litellm.RateLimitError: RateLimitError: Together_aiException - Request was rejected due to request rate limiting. Your rate limits are 60 RPM (1 QPS) and 60000 TPM (1000 TPS). See details: https://docs.together.ai/docs/rate-limits. Set `provide_traceback=True` for traceback.\n"
     ]
    },
    {
     "name": "stdout",
     "output_type": "stream",
     "text": [
      "Average Metric: 1.67 / 4 (41.7%):  69%|██████▊   | 24/35 [01:05<00:34,  3.13s/it]"
     ]
    },
    {
     "name": "stderr",
     "output_type": "stream",
     "text": [
      "2025/07/19 17:37:43 ERROR dspy.utils.parallelizer: Error for Example({'claim': 'Ellesmere Port Town Football Club are currently members of the league, whose current principal sponsor is the Football Conference, that Ford Motors F.C. is a part of.', 'titles': ['Ford Motors F.C.', 'West Cheshire Association Football League', 'Ellesmere Port Town F.C.']}) (input_keys={'claim'}): litellm.RateLimitError: RateLimitError: Together_aiException - Request was rejected due to request rate limiting. Your rate limits are 60 RPM (1 QPS) and 60000 TPM (1000 TPS). See details: https://docs.together.ai/docs/rate-limits. Set `provide_traceback=True` for traceback.\n"
     ]
    },
    {
     "name": "stdout",
     "output_type": "stream",
     "text": [
      "Average Metric: 1.67 / 4 (41.7%):  74%|███████▍  | 26/35 [01:05<00:17,  1.93s/it]"
     ]
    },
    {
     "name": "stderr",
     "output_type": "stream",
     "text": [
      "2025/07/19 17:37:43 ERROR dspy.utils.parallelizer: Error for Example({'claim': 'Delta–Mendota Canal is an aqueduct used to divert a canal. The All-American Canal is longer than that canal.', 'titles': ['Delta–Mendota Canal', 'Madera Canal', 'All-American Canal']}) (input_keys={'claim'}): litellm.RateLimitError: RateLimitError: Together_aiException - Request was rejected due to request rate limiting. Your rate limits are 60 RPM (1 QPS) and 60000 TPM (1000 TPS). See details: https://docs.together.ai/docs/rate-limits. Set `provide_traceback=True` for traceback.\n"
     ]
    },
    {
     "name": "stdout",
     "output_type": "stream",
     "text": [
      "Average Metric: 3.00 / 6 (50.0%):  83%|████████▎ | 29/35 [01:08<00:08,  1.44s/it]"
     ]
    },
    {
     "name": "stderr",
     "output_type": "stream",
     "text": [
      "2025/07/19 17:37:46 WARNING dspy.adapters.json_adapter: Failed to use structured output format, falling back to JSON mode.\n"
     ]
    },
    {
     "name": "stdout",
     "output_type": "stream",
     "text": [
      "Average Metric: 3.33 / 7 (47.6%):  86%|████████▌ | 30/35 [01:10<00:08,  1.64s/it]"
     ]
    },
    {
     "name": "stderr",
     "output_type": "stream",
     "text": [
      "2025/07/19 17:37:48 WARNING dspy.adapters.json_adapter: Failed to use structured output format, falling back to JSON mode.\n",
      "2025/07/19 17:37:50 WARNING dspy.adapters.json_adapter: Failed to use structured output format, falling back to JSON mode.\n"
     ]
    },
    {
     "name": "stdout",
     "output_type": "stream",
     "text": [
      "Average Metric: 6.33 / 12 (52.8%): 100%|██████████| 35/35 [01:32<00:00,  2.63s/it]"
     ]
    },
    {
     "name": "stderr",
     "output_type": "stream",
     "text": [
      "2025/07/19 17:38:09 INFO dspy.evaluate.evaluate: Average Metric: 6.333333333333334 / 35 (18.1%)\n",
      "2025/07/19 17:38:09 INFO dspy.teleprompt.mipro_optimizer_v2: Score: 18.1 on minibatch of size 35 with parameters ['Predictor 0: Instruction 2', 'Predictor 0: Few-Shot Set 8', 'Predictor 1: Instruction 3', 'Predictor 1: Few-Shot Set 4'].\n",
      "2025/07/19 17:38:09 INFO dspy.teleprompt.mipro_optimizer_v2: Minibatch scores so far: [2.86, 8.57, 18.1, 14.29, 3.81, 2.86, 6.67, 19.05, 0.95, 9.52, 20.95, 18.1]\n",
      "2025/07/19 17:38:09 INFO dspy.teleprompt.mipro_optimizer_v2: Full eval scores so far: [2.08, 22.08, 15.83]\n",
      "2025/07/19 17:38:09 INFO dspy.teleprompt.mipro_optimizer_v2: Best full score so far: 22.08\n",
      "2025/07/19 17:38:09 INFO dspy.teleprompt.mipro_optimizer_v2: ==========================================\n",
      "\n",
      "\n",
      "2025/07/19 17:38:09 INFO dspy.teleprompt.mipro_optimizer_v2: == Trial 16 / 35 - Minibatch ==\n"
     ]
    },
    {
     "name": "stdout",
     "output_type": "stream",
     "text": [
      "\n",
      "  0%|          | 0/35 [00:00<?, ?it/s]"
     ]
    },
    {
     "name": "stderr",
     "output_type": "stream",
     "text": [
      "2025/07/19 17:38:25 ERROR dspy.utils.parallelizer: Error for Example({'claim': 'Helen Mirren, a client of the designer who designed the wedding dress of Sarah Ferguson, played Lindka in \"The Queen\".', 'titles': ['Wedding dress of Sarah Ferguson', 'Lindka Cierach', 'Helen Mirren']}) (input_keys={'claim'}): litellm.RateLimitError: RateLimitError: Together_aiException - Request was rejected due to request rate limiting. Your rate limits are 60 RPM (1 QPS) and 60000 TPM (1000 TPS). See details: https://docs.together.ai/docs/rate-limits. Set `provide_traceback=True` for traceback.\n",
      "2025/07/19 17:38:25 ERROR dspy.utils.parallelizer: Error for Example({'claim': 'Neither the director of the 1943 film \"Young and Willing\" nor Edward Burns are from Guatemala.', 'titles': ['Edward H. Griffith', 'Edward Burns', 'Young and Willing']}) (input_keys={'claim'}): litellm.RateLimitError: RateLimitError: Together_aiException - Request was rejected due to request rate limiting. Your rate limits are 60 RPM (1 QPS) and 60000 TPM (1000 TPS). See details: https://docs.together.ai/docs/rate-limits. Set `provide_traceback=True` for traceback.\n"
     ]
    },
    {
     "name": "stdout",
     "output_type": "stream",
     "text": [
      "Average Metric: 0.00 / 0 (0%):   6%|▌         | 2/35 [00:15<03:34,  6.49s/it]"
     ]
    },
    {
     "name": "stderr",
     "output_type": "stream",
     "text": [
      "2025/07/19 17:38:26 ERROR dspy.utils.parallelizer: Error for Example({'claim': 'The actor Giancarlo Giuseppe Alessandro Esposito starred in the 2016 film that also starred Olivia Luccardi. Giancarlo is best known for his portrayal of Gustavo \"Gus\" Fring on the AMC shows \"Breaking Bad\" and \"Breaking Bad\".', 'titles': ['Money Monster', 'Giancarlo Esposito', 'Olivia Luccardi']}) (input_keys={'claim'}): litellm.RateLimitError: RateLimitError: Together_aiException - Request was rejected due to request rate limiting. Your rate limits are 60 RPM (1 QPS) and 60000 TPM (1000 TPS). See details: https://docs.together.ai/docs/rate-limits. Set `provide_traceback=True` for traceback.\n"
     ]
    },
    {
     "name": "stdout",
     "output_type": "stream",
     "text": [
      "Average Metric: 0.00 / 0 (0%):   6%|▌         | 2/35 [00:16<03:34,  6.49s/it]"
     ]
    },
    {
     "name": "stderr",
     "output_type": "stream",
     "text": [
      "2025/07/19 17:38:26 ERROR dspy.utils.parallelizer: Error for Example({'claim': 'Mountain Dew is owned by the Pepsi-Cola company. So is the producer of orange juice founded by Anthony T. Rossi.', 'titles': ['Tropicana Products', 'Anthony T. Rossi', 'Mountain Dew']}) (input_keys={'claim'}): litellm.RateLimitError: RateLimitError: Together_aiException - Request was rejected due to request rate limiting. Your rate limits are 60 RPM (1 QPS) and 60000 TPM (1000 TPS). See details: https://docs.together.ai/docs/rate-limits. Set `provide_traceback=True` for traceback.\n"
     ]
    },
    {
     "name": "stdout",
     "output_type": "stream",
     "text": [
      "Average Metric: 0.00 / 0 (0%):   9%|▊         | 3/35 [00:16<02:09,  4.04s/it]"
     ]
    },
    {
     "name": "stderr",
     "output_type": "stream",
     "text": [
      "2025/07/19 17:38:27 ERROR dspy.utils.parallelizer: Error for Example({'claim': 'The star of Nothing to Report and Gary Barlow have a profession in common.', 'titles': ['Gary Barlow', 'Chris Jericho', 'Nothing to Report']}) (input_keys={'claim'}): litellm.RateLimitError: RateLimitError: Together_aiException - Request was rejected due to request rate limiting. Your rate limits are 60 RPM (1 QPS) and 60000 TPM (1000 TPS). See details: https://docs.together.ai/docs/rate-limits. Set `provide_traceback=True` for traceback.\n"
     ]
    },
    {
     "name": "stdout",
     "output_type": "stream",
     "text": [
      "Average Metric: 0.33 / 1 (33.3%):  17%|█▋        | 6/35 [00:20<01:01,  2.11s/it]"
     ]
    },
    {
     "name": "stderr",
     "output_type": "stream",
     "text": [
      "2025/07/19 17:38:30 ERROR dspy.utils.parallelizer: Error for Example({'claim': 'Lari Michele White is the county music artist that first gained national attention as a winner on \"You Can Be a Star\". She then went on to provide background vocals on the first single of the album, Now and Then.', 'titles': ['Lari White', 'Take It Like a Man (Michelle Wright song)', 'Now and Then (Michelle Wright album)']}) (input_keys={'claim'}): litellm.RateLimitError: RateLimitError: Together_aiException - Request was rejected due to request rate limiting. Your rate limits are 60 RPM (1 QPS) and 60000 TPM (1000 TPS). See details: https://docs.together.ai/docs/rate-limits. Set `provide_traceback=True` for traceback.\n"
     ]
    },
    {
     "name": "stdout",
     "output_type": "stream",
     "text": [
      "Average Metric: 0.33 / 1 (33.3%):  20%|██        | 7/35 [00:20<00:43,  1.55s/it]"
     ]
    },
    {
     "name": "stderr",
     "output_type": "stream",
     "text": [
      "2025/07/19 17:38:30 ERROR dspy.utils.parallelizer: Error for Example({'claim': 'The novelist that wrote The Watchful Gods and Other Stories is Californian. Billie Letts is also Californian.', 'titles': ['Walter Van Tilburg Clark', 'The Watchful Gods and Other Stories', 'Billie Letts']}) (input_keys={'claim'}): litellm.RateLimitError: RateLimitError: Together_aiException - Request was rejected due to request rate limiting. Your rate limits are 60 RPM (1 QPS) and 60000 TPM (1000 TPS). See details: https://docs.together.ai/docs/rate-limits. Set `provide_traceback=True` for traceback.\n"
     ]
    },
    {
     "name": "stdout",
     "output_type": "stream",
     "text": [
      "Average Metric: 0.33 / 1 (33.3%):  20%|██        | 7/35 [00:20<00:43,  1.55s/it]"
     ]
    },
    {
     "name": "stderr",
     "output_type": "stream",
     "text": [
      "2025/07/19 17:38:38 ERROR dspy.utils.parallelizer: Error for Example({'claim': 'Christopher Whitelaw Pine appeared in the films that inspired Good Luck! and \"Into the Woods\".', 'titles': ['Just My Luck (2006 film)', 'Good Luck!', 'Chris Pine']}) (input_keys={'claim'}): litellm.RateLimitError: RateLimitError: Together_aiException - Request was rejected due to request rate limiting. Your rate limits are 60 RPM (1 QPS) and 60000 TPM (1000 TPS). See details: https://docs.together.ai/docs/rate-limits. Set `provide_traceback=True` for traceback.\n"
     ]
    },
    {
     "name": "stdout",
     "output_type": "stream",
     "text": [
      "Average Metric: 0.33 / 1 (33.3%):  26%|██▌       | 9/35 [00:28<01:10,  2.72s/it]"
     ]
    },
    {
     "name": "stderr",
     "output_type": "stream",
     "text": [
      "2025/07/19 17:38:44 ERROR dspy.utils.parallelizer: Error for Example({'claim': 'Archers of Loaf is an indie band. The band who had a song called Shelf in the Room is not.', 'titles': ['Days of the New', 'Archers of Loaf', 'Shelf in the Room']}) (input_keys={'claim'}): litellm.RateLimitError: RateLimitError: Together_aiException - Request was rejected due to request rate limiting. Your rate limits are 60 RPM (1 QPS) and 60000 TPM (1000 TPS). See details: https://docs.together.ai/docs/rate-limits. Set `provide_traceback=True` for traceback.\n"
     ]
    },
    {
     "name": "stdout",
     "output_type": "stream",
     "text": [
      "Average Metric: 0.33 / 1 (33.3%):  29%|██▊       | 10/35 [00:34<01:26,  3.47s/it]"
     ]
    },
    {
     "name": "stderr",
     "output_type": "stream",
     "text": [
      "2025/07/19 17:38:44 ERROR dspy.utils.parallelizer: Error for Example({'claim': 'Radiation Vibe is the first chart-topping single from the debut album of the band formed in 1995 that came out with an album called \"Welcome Interstate Managers\\'.', 'titles': [\"Stacy's Mom\", 'Fountains of Wayne', 'Radiation Vibe']}) (input_keys={'claim'}): litellm.RateLimitError: RateLimitError: Together_aiException - Request was rejected due to request rate limiting. Your rate limits are 60 RPM (1 QPS) and 60000 TPM (1000 TPS). See details: https://docs.together.ai/docs/rate-limits. Set `provide_traceback=True` for traceback.\n"
     ]
    },
    {
     "name": "stdout",
     "output_type": "stream",
     "text": [
      "Average Metric: 0.33 / 1 (33.3%):  31%|███▏      | 11/35 [00:35<01:05,  2.74s/it]"
     ]
    },
    {
     "name": "stderr",
     "output_type": "stream",
     "text": [
      "2025/07/19 17:38:44 ERROR dspy.utils.parallelizer: Error for Example({'claim': 'Ellesmere Port Town Football Club are currently members of the league, whose current principal sponsor is the Football Conference, that Ford Motors F.C. is a part of.', 'titles': ['Ford Motors F.C.', 'West Cheshire Association Football League', 'Ellesmere Port Town F.C.']}) (input_keys={'claim'}): litellm.RateLimitError: RateLimitError: Together_aiException - Request was rejected due to request rate limiting. Your rate limits are 60 RPM (1 QPS) and 60000 TPM (1000 TPS). See details: https://docs.together.ai/docs/rate-limits. Set `provide_traceback=True` for traceback.\n"
     ]
    },
    {
     "name": "stdout",
     "output_type": "stream",
     "text": [
      "Average Metric: 0.33 / 1 (33.3%):  31%|███▏      | 11/35 [00:35<01:05,  2.74s/it]"
     ]
    },
    {
     "name": "stderr",
     "output_type": "stream",
     "text": [
      "2025/07/19 17:38:44 ERROR dspy.utils.parallelizer: Error for Example({'claim': 'Anthony Sandler is the Chief of Pediatric Surgery at a large hospital. MedStar Washington Hospital Center is the largest private hospital in Washington, D.C. not this hospital.', 'titles': ['MedStar Washington Hospital Center', \"Children's National Medical Center\", 'Anthony Sandler']}) (input_keys={'claim'}): litellm.RateLimitError: RateLimitError: Together_aiException - Request was rejected due to request rate limiting. Your rate limits are 60 RPM (1 QPS) and 60000 TPM (1000 TPS). See details: https://docs.together.ai/docs/rate-limits. Set `provide_traceback=True` for traceback.\n"
     ]
    },
    {
     "name": "stdout",
     "output_type": "stream",
     "text": [
      "Average Metric: 0.33 / 1 (33.3%):  37%|███▋      | 13/35 [00:35<00:35,  1.61s/it]"
     ]
    },
    {
     "name": "stderr",
     "output_type": "stream",
     "text": [
      "2025/07/19 17:38:45 ERROR dspy.utils.parallelizer: Error for Example({'claim': \"The owner of Viva (UK and Ireland) changed it's name in late 2004. Their new acronym stand for Gesellschaft mit beschränkter Haftung.\", 'titles': ['Gesellschaft mit beschränkter Haftung', 'Viva (UK and Ireland)', 'VIVA Media']}) (input_keys={'claim'}): litellm.RateLimitError: RateLimitError: Together_aiException - Request was rejected due to request rate limiting. Your rate limits are 60 RPM (1 QPS) and 60000 TPM (1000 TPS). See details: https://docs.together.ai/docs/rate-limits. Set `provide_traceback=True` for traceback.\n"
     ]
    },
    {
     "name": "stdout",
     "output_type": "stream",
     "text": [
      "Average Metric: 0.33 / 1 (33.3%):  40%|████      | 14/35 [00:35<00:27,  1.30s/it]"
     ]
    },
    {
     "name": "stderr",
     "output_type": "stream",
     "text": [
      "2025/07/19 17:38:46 ERROR dspy.utils.parallelizer: Error for Example({'claim': 'The Stanley Kubrick thriller that Nicole Kidman worked with Tom Cruise on, starring Vinessa Elizabeth Shaw, was based on the novella \"Traumnovelle\" (\"Dream Story\") .', 'titles': ['Vinessa Shaw', 'Eyes Wide Shut', 'Nicole Kidman filmography']}) (input_keys={'claim'}): litellm.RateLimitError: RateLimitError: Together_aiException - Request was rejected due to request rate limiting. Your rate limits are 60 RPM (1 QPS) and 60000 TPM (1000 TPS). See details: https://docs.together.ai/docs/rate-limits. Set `provide_traceback=True` for traceback.\n"
     ]
    },
    {
     "name": "stdout",
     "output_type": "stream",
     "text": [
      "Average Metric: 0.33 / 1 (33.3%):  43%|████▎     | 15/35 [00:36<00:25,  1.27s/it]"
     ]
    },
    {
     "name": "stderr",
     "output_type": "stream",
     "text": [
      "2025/07/19 17:38:52 ERROR dspy.utils.parallelizer: Error for Example({'claim': 'The director of From the Manger to the Cross also acted in it. The director Denis Villeneuve has won more Those Who Make Revolution Halfway than this director.', 'titles': ['Denis Villeneuve', 'Sidney Olcott', 'From the Manger to the Cross']}) (input_keys={'claim'}): litellm.RateLimitError: RateLimitError: Together_aiException - Request was rejected due to request rate limiting. Your rate limits are 60 RPM (1 QPS) and 60000 TPM (1000 TPS). See details: https://docs.together.ai/docs/rate-limits. Set `provide_traceback=True` for traceback.\n"
     ]
    },
    {
     "name": "stdout",
     "output_type": "stream",
     "text": [
      "Average Metric: 0.33 / 1 (33.3%):  46%|████▌     | 16/35 [00:42<00:48,  2.57s/it]"
     ]
    },
    {
     "name": "stderr",
     "output_type": "stream",
     "text": [
      "2025/07/19 17:38:57 ERROR dspy.utils.parallelizer: Error for Example({'claim': 'The individual who played Herman Boone in Remember the Titans, and David Hewlett, are both actors.', 'titles': ['David Hewlett', 'Denzel Washington', 'Herman Boone']}) (input_keys={'claim'}): litellm.RateLimitError: RateLimitError: Together_aiException - Request was rejected due to request rate limiting. Your rate limits are 60 RPM (1 QPS) and 60000 TPM (1000 TPS). See details: https://docs.together.ai/docs/rate-limits. Set `provide_traceback=True` for traceback.\n"
     ]
    },
    {
     "name": "stdout",
     "output_type": "stream",
     "text": [
      "Average Metric: 0.33 / 1 (33.3%):  49%|████▊     | 17/35 [00:47<00:56,  3.14s/it]"
     ]
    },
    {
     "name": "stderr",
     "output_type": "stream",
     "text": [
      "2025/07/19 17:39:00 ERROR dspy.utils.parallelizer: Error for Example({'claim': 'The director Jonathan Demme presented Made in Texas at a theater in Lower Manhattan which featured work from the filmmaker Dziga Vertov also known as Denis Kaufman.', 'titles': ['Collective for Living Cinema', 'Made in Texas', 'Dziga Vertov']}) (input_keys={'claim'}): litellm.RateLimitError: RateLimitError: Together_aiException - Request was rejected due to request rate limiting. Your rate limits are 60 RPM (1 QPS) and 60000 TPM (1000 TPS). See details: https://docs.together.ai/docs/rate-limits. Set `provide_traceback=True` for traceback.\n"
     ]
    },
    {
     "name": "stdout",
     "output_type": "stream",
     "text": [
      "Average Metric: 0.33 / 1 (33.3%):  51%|█████▏    | 18/35 [00:51<00:55,  3.29s/it]"
     ]
    },
    {
     "name": "stderr",
     "output_type": "stream",
     "text": [
      "2025/07/19 17:39:01 ERROR dspy.utils.parallelizer: Error for Example({'claim': 'Tim Swanson, who played keyboard for the \"Sweet Nothings\" album, was a member of a different jazz band. This band and Lit were not formed in the same states.', 'titles': ['Lit (band)', 'Sweet Nothings (album)', 'Ideamen']}) (input_keys={'claim'}): litellm.RateLimitError: RateLimitError: Together_aiException - Request was rejected due to request rate limiting. Your rate limits are 60 RPM (1 QPS) and 60000 TPM (1000 TPS). See details: https://docs.together.ai/docs/rate-limits. Set `provide_traceback=True` for traceback.\n"
     ]
    },
    {
     "name": "stdout",
     "output_type": "stream",
     "text": [
      "Average Metric: 0.33 / 1 (33.3%):  54%|█████▍    | 19/35 [00:51<00:40,  2.51s/it]"
     ]
    },
    {
     "name": "stderr",
     "output_type": "stream",
     "text": [
      "2025/07/19 17:39:02 ERROR dspy.utils.parallelizer: Error for Example({'claim': 'The genera that the Gordonia-Alatamaha State Park is named after and Osbeckia are not in the same family.', 'titles': ['Gordonia (plant)', 'Osbeckia', 'Gordonia-Alatamaha State Park']}) (input_keys={'claim'}): litellm.RateLimitError: RateLimitError: Together_aiException - Request was rejected due to request rate limiting. Your rate limits are 60 RPM (1 QPS) and 60000 TPM (1000 TPS). See details: https://docs.together.ai/docs/rate-limits. Set `provide_traceback=True` for traceback.\n"
     ]
    },
    {
     "name": "stdout",
     "output_type": "stream",
     "text": [
      "Average Metric: 0.67 / 2 (33.3%):  60%|██████    | 21/35 [00:52<00:20,  1.49s/it]"
     ]
    },
    {
     "name": "stderr",
     "output_type": "stream",
     "text": [
      "2025/07/19 17:39:08 ERROR dspy.utils.parallelizer: Error for Example({'claim': 'Cork has several third level colleges including NMIO, the Crawford College of Art and Design and one other. The 2016 population of the county where the other school is located was 542,196.', 'titles': ['Education in Cork', 'National Maritime College of Ireland', 'County Cork']}) (input_keys={'claim'}): litellm.RateLimitError: RateLimitError: Together_aiException - Request was rejected due to request rate limiting. Your rate limits are 60 RPM (1 QPS) and 60000 TPM (1000 TPS). See details: https://docs.together.ai/docs/rate-limits. Set `provide_traceback=True` for traceback.\n"
     ]
    },
    {
     "name": "stdout",
     "output_type": "stream",
     "text": [
      "Average Metric: 0.67 / 2 (33.3%):  63%|██████▎   | 22/35 [00:58<00:36,  2.81s/it]"
     ]
    },
    {
     "name": "stderr",
     "output_type": "stream",
     "text": [
      "2025/07/19 17:39:09 ERROR dspy.utils.parallelizer: Error for Example({'claim': 'This character as featured in the comic book, Hellblazer Special: Bad Blood. He is  is the fictional antihero from comic books published by DC Comics, who sometimes acts as a cab driver, and was created by Alan Moore, Steve Bissette, and John Totleben.', 'titles': ['Chas Chandler (comics)', 'Hellblazer Special: Bad Blood', 'John Constantine']}) (input_keys={'claim'}): litellm.RateLimitError: RateLimitError: Together_aiException - Request was rejected due to request rate limiting. Your rate limits are 60 RPM (1 QPS) and 60000 TPM (1000 TPS). See details: https://docs.together.ai/docs/rate-limits. Set `provide_traceback=True` for traceback.\n"
     ]
    },
    {
     "name": "stdout",
     "output_type": "stream",
     "text": [
      "Average Metric: 1.33 / 3 (44.4%):  69%|██████▊   | 24/35 [01:02<00:24,  2.24s/it]"
     ]
    },
    {
     "name": "stderr",
     "output_type": "stream",
     "text": [
      "2025/07/19 17:39:11 ERROR dspy.utils.parallelizer: Error for Example({'claim': 'Mother Mother (song) was the last song by a female solo artist to top this chart until the song was the first song released by Lorde by New Zealand singer Lorde. Also to be released later on her debut studio album.', 'titles': ['Royals (song)', 'Mother Mother (song)', 'Tennis Court (song)']}) (input_keys={'claim'}): litellm.RateLimitError: RateLimitError: Together_aiException - Request was rejected due to request rate limiting. Your rate limits are 60 RPM (1 QPS) and 60000 TPM (1000 TPS). See details: https://docs.together.ai/docs/rate-limits. Set `provide_traceback=True` for traceback.\n"
     ]
    },
    {
     "name": "stdout",
     "output_type": "stream",
     "text": [
      "Average Metric: 1.33 / 3 (44.4%):  71%|███████▏  | 25/35 [01:02<00:16,  1.64s/it]"
     ]
    },
    {
     "name": "stderr",
     "output_type": "stream",
     "text": [
      "2025/07/19 17:39:12 ERROR dspy.utils.parallelizer: Error for Example({'claim': 'This series developer created T-Dog on the Walking Dead. He is the Hungarian-born US film director renowned for adapting Stephen King novellas to the screen, including The Mist and The Green Mile.', 'titles': ['The Mist (film)', 'Frank Darabont', 'T-Dog (The Walking Dead)']}) (input_keys={'claim'}): litellm.RateLimitError: RateLimitError: Together_aiException - Request was rejected due to request rate limiting. Your rate limits are 60 RPM (1 QPS) and 60000 TPM (1000 TPS). See details: https://docs.together.ai/docs/rate-limits. Set `provide_traceback=True` for traceback.\n"
     ]
    },
    {
     "name": "stdout",
     "output_type": "stream",
     "text": [
      "Average Metric: 1.33 / 4 (33.3%):  77%|███████▋  | 27/35 [01:03<00:08,  1.07s/it]"
     ]
    },
    {
     "name": "stderr",
     "output_type": "stream",
     "text": [
      "2025/07/19 17:39:15 ERROR dspy.utils.parallelizer: Error for Example({'claim': 'Africa has a distribution of both the Ternstroemia and the genus that Seemannaralia gerrardii was originally included in.', 'titles': ['Seemannaralia gerrardii', 'Cussonia', 'Ternstroemia']}) (input_keys={'claim'}): litellm.RateLimitError: RateLimitError: Together_aiException - Request was rejected due to request rate limiting. Your rate limits are 60 RPM (1 QPS) and 60000 TPM (1000 TPS). See details: https://docs.together.ai/docs/rate-limits. Set `provide_traceback=True` for traceback.\n"
     ]
    },
    {
     "name": "stdout",
     "output_type": "stream",
     "text": [
      "Average Metric: 1.33 / 4 (33.3%):  80%|████████  | 28/35 [01:05<00:09,  1.40s/it]"
     ]
    },
    {
     "name": "stderr",
     "output_type": "stream",
     "text": [
      "2025/07/19 17:39:15 ERROR dspy.utils.parallelizer: Error for Example({'claim': 'Sophia Grace & Rosie featured a cover song on their Youtube channel. The pop song from is from an album released under the Syco Music and Columbia Records labels.', 'titles': ['Touch (Little Mix song)', 'Glory Days (Little Mix album)', 'Sophia Grace &amp; Rosie']}) (input_keys={'claim'}): litellm.RateLimitError: RateLimitError: Together_aiException - Request was rejected due to request rate limiting. Your rate limits are 60 RPM (1 QPS) and 60000 TPM (1000 TPS). See details: https://docs.together.ai/docs/rate-limits. Set `provide_traceback=True` for traceback.\n"
     ]
    },
    {
     "name": "stdout",
     "output_type": "stream",
     "text": [
      "Average Metric: 1.33 / 4 (33.3%):  80%|████████  | 28/35 [01:05<00:09,  1.40s/it]"
     ]
    },
    {
     "name": "stderr",
     "output_type": "stream",
     "text": [
      "2025/07/19 17:39:15 ERROR dspy.utils.parallelizer: Error for Example({'claim': 'The director of The Moth Diaries (born January 12, 1953) was a French Canadian filmmaker who created a film about Bettie Page in 2005.', 'titles': ['The Moth Diaries (film)', 'Mary Harron', 'The Notorious Bettie Page']}) (input_keys={'claim'}): litellm.RateLimitError: RateLimitError: Together_aiException - Request was rejected due to request rate limiting. Your rate limits are 60 RPM (1 QPS) and 60000 TPM (1000 TPS). See details: https://docs.together.ai/docs/rate-limits. Set `provide_traceback=True` for traceback.\n"
     ]
    },
    {
     "name": "stdout",
     "output_type": "stream",
     "text": [
      "Average Metric: 1.33 / 4 (33.3%):  83%|████████▎ | 29/35 [01:05<00:06,  1.10s/it]"
     ]
    },
    {
     "name": "stderr",
     "output_type": "stream",
     "text": [
      "2025/07/19 17:39:18 ERROR dspy.utils.parallelizer: Error for Example({'claim': 'Lincoln Barrett is the real name of the welsh electronic music producer DJ who have been visited the night club  in Vienna hundreds of times. The Waves of Vienna festival takes place in the same nightclub.', 'titles': ['Flex (club)', 'Waves Vienna', 'High Contrast']}) (input_keys={'claim'}): litellm.RateLimitError: RateLimitError: Together_aiException - Request was rejected due to request rate limiting. Your rate limits are 60 RPM (1 QPS) and 60000 TPM (1000 TPS). See details: https://docs.together.ai/docs/rate-limits. Set `provide_traceback=True` for traceback.\n",
      "2025/07/19 17:39:18 ERROR dspy.utils.parallelizer: Error for Example({'claim': 'An Greek actor who was a CIA operative in Chuck Versus the A-Team was born in 1974. The actor plays a character in commercials for Old Spice.', 'titles': ['Make a Smellmitment', 'Chuck Versus the A-Team', 'Isaiah Mustafa']}) (input_keys={'claim'}): litellm.RateLimitError: RateLimitError: Together_aiException - Request was rejected due to request rate limiting. Your rate limits are 60 RPM (1 QPS) and 60000 TPM (1000 TPS). See details: https://docs.together.ai/docs/rate-limits. Set `provide_traceback=True` for traceback.\n"
     ]
    },
    {
     "name": "stdout",
     "output_type": "stream",
     "text": [
      "Average Metric: 2.67 / 7 (38.1%): 100%|██████████| 35/35 [01:35<00:00,  2.71s/it]"
     ]
    },
    {
     "name": "stderr",
     "output_type": "stream",
     "text": [
      "2025/07/19 17:39:44 INFO dspy.evaluate.evaluate: Average Metric: 2.6666666666666665 / 35 (7.6%)\n",
      "2025/07/19 17:39:44 INFO dspy.teleprompt.mipro_optimizer_v2: Score: 7.62 on minibatch of size 35 with parameters ['Predictor 0: Instruction 3', 'Predictor 0: Few-Shot Set 2', 'Predictor 1: Instruction 3', 'Predictor 1: Few-Shot Set 11'].\n",
      "2025/07/19 17:39:44 INFO dspy.teleprompt.mipro_optimizer_v2: Minibatch scores so far: [2.86, 8.57, 18.1, 14.29, 3.81, 2.86, 6.67, 19.05, 0.95, 9.52, 20.95, 18.1, 7.62]\n",
      "2025/07/19 17:39:44 INFO dspy.teleprompt.mipro_optimizer_v2: Full eval scores so far: [2.08, 22.08, 15.83]\n",
      "2025/07/19 17:39:44 INFO dspy.teleprompt.mipro_optimizer_v2: Best full score so far: 22.08\n",
      "2025/07/19 17:39:44 INFO dspy.teleprompt.mipro_optimizer_v2: ==========================================\n",
      "\n",
      "\n",
      "2025/07/19 17:39:44 INFO dspy.teleprompt.mipro_optimizer_v2: == Trial 17 / 35 - Minibatch ==\n"
     ]
    },
    {
     "name": "stdout",
     "output_type": "stream",
     "text": [
      "\n",
      "Average Metric: 0.00 / 1 (0.0%):   3%|▎         | 1/35 [00:05<03:17,  5.80s/it]"
     ]
    },
    {
     "name": "stderr",
     "output_type": "stream",
     "text": [
      "2025/07/19 17:40:00 ERROR dspy.utils.parallelizer: Error for Example({'claim': 'The band Billy Anderson produces has the guitarist Gorden Mack, and the band Daughtry.', 'titles': ['Daughtry (band)', 'Billy Anderson (producer)', 'Red House Painters']}) (input_keys={'claim'}): litellm.RateLimitError: RateLimitError: Together_aiException - Request was rejected due to request rate limiting. Your rate limits are 60 RPM (1 QPS) and 60000 TPM (1000 TPS). See details: https://docs.together.ai/docs/rate-limits. Set `provide_traceback=True` for traceback.\n"
     ]
    },
    {
     "name": "stdout",
     "output_type": "stream",
     "text": [
      "Average Metric: 0.00 / 1 (0.0%):   6%|▌         | 2/35 [00:15<04:33,  8.29s/it]"
     ]
    },
    {
     "name": "stderr",
     "output_type": "stream",
     "text": [
      "2025/07/19 17:40:01 ERROR dspy.utils.parallelizer: Error for Example({'claim': 'Irish footballer, John Francis O\\'Shea, joined a company in 1950. This company made the TV movie \"The Coastwatchers\"', 'titles': [\"John O'Shea\", 'Pacific Films', 'The Coastwatchers (TV movie)']}) (input_keys={'claim'}): litellm.RateLimitError: RateLimitError: Together_aiException - Request was rejected due to request rate limiting. Your rate limits are 60 RPM (1 QPS) and 60000 TPM (1000 TPS). See details: https://docs.together.ai/docs/rate-limits. Set `provide_traceback=True` for traceback.\n"
     ]
    },
    {
     "name": "stdout",
     "output_type": "stream",
     "text": [
      "Average Metric: 0.00 / 1 (0.0%):   9%|▊         | 3/35 [00:16<02:36,  4.90s/it]"
     ]
    },
    {
     "name": "stderr",
     "output_type": "stream",
     "text": [
      "2025/07/19 17:40:02 ERROR dspy.utils.parallelizer: Error for Example({'claim': 'The genera that the Gordonia-Alatamaha State Park is named after and Osbeckia are not in the same family.', 'titles': ['Gordonia (plant)', 'Osbeckia', 'Gordonia-Alatamaha State Park']}) (input_keys={'claim'}): litellm.RateLimitError: RateLimitError: Together_aiException - Request was rejected due to request rate limiting. Your rate limits are 60 RPM (1 QPS) and 60000 TPM (1000 TPS). See details: https://docs.together.ai/docs/rate-limits. Set `provide_traceback=True` for traceback.\n"
     ]
    },
    {
     "name": "stdout",
     "output_type": "stream",
     "text": [
      "Average Metric: 0.00 / 1 (0.0%):  11%|█▏        | 4/35 [00:17<01:47,  3.46s/it]"
     ]
    },
    {
     "name": "stderr",
     "output_type": "stream",
     "text": [
      "2025/07/19 17:40:03 ERROR dspy.utils.parallelizer: Error for Example({'claim': 'Fredric March costarred in 1935 Australian drama film that Frances Drake is best know for, with the husband of Elsa Lanchester.', 'titles': ['Frances Drake', 'Charles Laughton', 'Les Misérables (1935 film)']}) (input_keys={'claim'}): litellm.RateLimitError: RateLimitError: Together_aiException - Request was rejected due to request rate limiting. Your rate limits are 60 RPM (1 QPS) and 60000 TPM (1000 TPS). See details: https://docs.together.ai/docs/rate-limits. Set `provide_traceback=True` for traceback.\n"
     ]
    },
    {
     "name": "stdout",
     "output_type": "stream",
     "text": [
      "Average Metric: 0.00 / 1 (0.0%):  14%|█▍        | 5/35 [00:18<01:17,  2.57s/it]"
     ]
    },
    {
     "name": "stderr",
     "output_type": "stream",
     "text": [
      "2025/07/19 17:40:04 WARNING dspy.adapters.json_adapter: Failed to use structured output format, falling back to JSON mode.\n",
      "2025/07/19 17:40:07 ERROR dspy.utils.parallelizer: Error for Example({'claim': 'Dairy Farm International holdings is a member of a British company. This British company whose majority of business interests are in Asia is related to the London Based Trading house Matheson & Company.', 'titles': ['Dairy Farm International Holdings', 'Matheson &amp; Company', 'Jardine Matheson']}) (input_keys={'claim'}): litellm.RateLimitError: RateLimitError: Together_aiException - Request was rejected due to request rate limiting. Your rate limits are 60 RPM (1 QPS) and 60000 TPM (1000 TPS). See details: https://docs.together.ai/docs/rate-limits. Set `provide_traceback=True` for traceback.\n"
     ]
    },
    {
     "name": "stdout",
     "output_type": "stream",
     "text": [
      "Average Metric: 0.00 / 1 (0.0%):  17%|█▋        | 6/35 [00:22<01:28,  3.06s/it]"
     ]
    },
    {
     "name": "stderr",
     "output_type": "stream",
     "text": [
      "2025/07/19 17:40:08 ERROR dspy.utils.parallelizer: Error for Example({'claim': 'Grand Forks International Airport is closer to the town it is near, than the airport close by to The Texas Air & Space Museum.', 'titles': ['Texas Air &amp; Space Museum', 'Rick Husband Amarillo International Airport', 'Grand Forks International Airport']}) (input_keys={'claim'}): litellm.RateLimitError: RateLimitError: Together_aiException - Request was rejected due to request rate limiting. Your rate limits are 60 RPM (1 QPS) and 60000 TPM (1000 TPS). See details: https://docs.together.ai/docs/rate-limits. Set `provide_traceback=True` for traceback.\n"
     ]
    },
    {
     "name": "stdout",
     "output_type": "stream",
     "text": [
      "Average Metric: 0.00 / 1 (0.0%):  20%|██        | 7/35 [00:23<00:58,  2.11s/it]"
     ]
    },
    {
     "name": "stderr",
     "output_type": "stream",
     "text": [
      "2025/07/19 17:40:08 ERROR dspy.utils.parallelizer: Error for Example({'claim': 'Neither the director of the 1943 film \"Young and Willing\" nor Edward Burns are from Guatemala.', 'titles': ['Edward H. Griffith', 'Edward Burns', 'Young and Willing']}) (input_keys={'claim'}): litellm.RateLimitError: RateLimitError: Together_aiException - Request was rejected due to request rate limiting. Your rate limits are 60 RPM (1 QPS) and 60000 TPM (1000 TPS). See details: https://docs.together.ai/docs/rate-limits. Set `provide_traceback=True` for traceback.\n"
     ]
    },
    {
     "name": "stdout",
     "output_type": "stream",
     "text": [
      "Average Metric: 1.00 / 2 (50.0%):  26%|██▌       | 9/35 [00:25<00:42,  1.65s/it]"
     ]
    },
    {
     "name": "stderr",
     "output_type": "stream",
     "text": [
      "2025/07/19 17:40:10 WARNING dspy.adapters.json_adapter: Failed to use structured output format, falling back to JSON mode.\n",
      "2025/07/19 17:40:12 ERROR dspy.utils.parallelizer: Error for Example({'claim': 'The actress that starred as a parent in Sky High (2005 film) is married to John Travolta. She also starred in a summer 1994 film about a pregnant woman who is stranded at a trading post during the American Civil War.', 'titles': ['Sky High (2005 film)', 'Cheyenne Warrior', 'Kelly Preston']}) (input_keys={'claim'}): litellm.RateLimitError: RateLimitError: Together_aiException - Request was rejected due to request rate limiting. Your rate limits are 60 RPM (1 QPS) and 60000 TPM (1000 TPS). See details: https://docs.together.ai/docs/rate-limits. Set `provide_traceback=True` for traceback.\n"
     ]
    },
    {
     "name": "stdout",
     "output_type": "stream",
     "text": [
      "Average Metric: 1.00 / 2 (50.0%):  29%|██▊       | 10/35 [00:27<00:45,  1.80s/it]"
     ]
    },
    {
     "name": "stderr",
     "output_type": "stream",
     "text": [
      "2025/07/19 17:40:12 ERROR dspy.utils.parallelizer: Error for Example({'claim': 'The founder of Legendary Entertainment produced the movie, The Hangover, which was based in Las Vegas.', 'titles': ['Legendary Entertainment', 'Thomas Tull', 'The Hangover']}) (input_keys={'claim'}): Both structured output format and JSON mode failed. Please choose a model that supports `response_format` argument. Original error: litellm.RateLimitError: RateLimitError: Together_aiException - Request was rejected due to request rate limiting. Your rate limits are 60 RPM (1 QPS) and 60000 TPM (1000 TPS). See details: https://docs.together.ai/docs/rate-limits. Set `provide_traceback=True` for traceback.\n"
     ]
    },
    {
     "name": "stdout",
     "output_type": "stream",
     "text": [
      "Average Metric: 1.00 / 2 (50.0%):  31%|███▏      | 11/35 [00:27<00:31,  1.31s/it]"
     ]
    },
    {
     "name": "stderr",
     "output_type": "stream",
     "text": [
      "2025/07/19 17:40:16 WARNING dspy.adapters.json_adapter: Failed to use structured output format, falling back to JSON mode.\n",
      "2025/07/19 17:40:17 ERROR dspy.utils.parallelizer: Error for Example({'claim': 'The summer 2016 romantic drama \"Me Before You\" is directed by Thea Sharrock. The star of the film The Lost Future (who also appears in The Hunger Games) stars as the character Will Traynor.', 'titles': ['The Lost Future', 'Me Before You (film)', 'Sam Claflin']}) (input_keys={'claim'}): litellm.RateLimitError: RateLimitError: Together_aiException - Request was rejected due to request rate limiting. Your rate limits are 60 RPM (1 QPS) and 60000 TPM (1000 TPS). See details: https://docs.together.ai/docs/rate-limits. Set `provide_traceback=True` for traceback.\n"
     ]
    },
    {
     "name": "stdout",
     "output_type": "stream",
     "text": [
      "Average Metric: 1.00 / 2 (50.0%):  34%|███▍      | 12/35 [00:32<00:52,  2.28s/it]"
     ]
    },
    {
     "name": "stderr",
     "output_type": "stream",
     "text": [
      "2025/07/19 17:40:17 ERROR dspy.utils.parallelizer: Error for Example({'claim': 'The actor, who starred in the thriller 400 Boys, plays Marilyn Monroe in a film based on the novel \"Northern Lights\".', 'titles': ['Charlie Rowe', '400 Boys', 'The Golden Compass (film)']}) (input_keys={'claim'}): litellm.RateLimitError: RateLimitError: Together_aiException - Request was rejected due to request rate limiting. Your rate limits are 60 RPM (1 QPS) and 60000 TPM (1000 TPS). See details: https://docs.together.ai/docs/rate-limits. Set `provide_traceback=True` for traceback.\n"
     ]
    },
    {
     "name": "stdout",
     "output_type": "stream",
     "text": [
      "Average Metric: 1.00 / 2 (50.0%):  37%|███▋      | 13/35 [00:32<00:39,  1.79s/it]"
     ]
    },
    {
     "name": "stderr",
     "output_type": "stream",
     "text": [
      "2025/07/19 17:40:20 ERROR dspy.utils.parallelizer: Error for Example({'claim': 'Brady Seals has released more solo albums than the rapper who Avril Lavigne featured on the song Get Over Me with.', 'titles': ['Nick Carter (musician)', 'Brady Seals', 'Get Over Me']}) (input_keys={'claim'}): litellm.RateLimitError: RateLimitError: Together_aiException - Request was rejected due to request rate limiting. Your rate limits are 60 RPM (1 QPS) and 60000 TPM (1000 TPS). See details: https://docs.together.ai/docs/rate-limits. Set `provide_traceback=True` for traceback.\n"
     ]
    },
    {
     "name": "stdout",
     "output_type": "stream",
     "text": [
      "Average Metric: 1.67 / 3 (55.6%):  43%|████▎     | 15/35 [00:36<00:32,  1.62s/it]"
     ]
    },
    {
     "name": "stderr",
     "output_type": "stream",
     "text": [
      "2025/07/19 17:40:22 ERROR dspy.utils.parallelizer: Error for Example({'claim': 'This character as featured in the comic book, Hellblazer Special: Bad Blood. He is  is the fictional antihero from comic books published by DC Comics, who sometimes acts as a cab driver, and was created by Alan Moore, Steve Bissette, and John Totleben.', 'titles': ['Chas Chandler (comics)', 'Hellblazer Special: Bad Blood', 'John Constantine']}) (input_keys={'claim'}): litellm.RateLimitError: RateLimitError: Together_aiException - Request was rejected due to request rate limiting. Your rate limits are 60 RPM (1 QPS) and 60000 TPM (1000 TPS). See details: https://docs.together.ai/docs/rate-limits. Set `provide_traceback=True` for traceback.\n"
     ]
    },
    {
     "name": "stdout",
     "output_type": "stream",
     "text": [
      "Average Metric: 1.67 / 4 (41.7%):  49%|████▊     | 17/35 [00:37<00:21,  1.19s/it]"
     ]
    },
    {
     "name": "stderr",
     "output_type": "stream",
     "text": [
      "2025/07/19 17:40:25 ERROR dspy.utils.parallelizer: Error for Example({'claim': 'Bowdoin College was established before another university. This university was attended by John Wesley Hughes.', 'titles': ['Vanderbilt University', 'John Wesley Hughes', 'Bowdoin College']}) (input_keys={'claim'}): litellm.RateLimitError: RateLimitError: Together_aiException - Request was rejected due to request rate limiting. Your rate limits are 60 RPM (1 QPS) and 60000 TPM (1000 TPS). See details: https://docs.together.ai/docs/rate-limits. Set `provide_traceback=True` for traceback.\n"
     ]
    },
    {
     "name": "stdout",
     "output_type": "stream",
     "text": [
      "Average Metric: 1.67 / 5 (33.3%):  54%|█████▍    | 19/35 [00:42<00:26,  1.67s/it]"
     ]
    },
    {
     "name": "stderr",
     "output_type": "stream",
     "text": [
      "2025/07/19 17:40:29 ERROR dspy.utils.parallelizer: Error for Example({'claim': 'The director of From the Manger to the Cross also acted in it. The director Denis Villeneuve has won more Those Who Make Revolution Halfway than this director.', 'titles': ['Denis Villeneuve', 'Sidney Olcott', 'From the Manger to the Cross']}) (input_keys={'claim'}): litellm.RateLimitError: RateLimitError: Together_aiException - Request was rejected due to request rate limiting. Your rate limits are 60 RPM (1 QPS) and 60000 TPM (1000 TPS). See details: https://docs.together.ai/docs/rate-limits. Set `provide_traceback=True` for traceback.\n"
     ]
    },
    {
     "name": "stdout",
     "output_type": "stream",
     "text": [
      "Average Metric: 1.67 / 5 (33.3%):  57%|█████▋    | 20/35 [00:44<00:27,  1.82s/it]"
     ]
    },
    {
     "name": "stderr",
     "output_type": "stream",
     "text": [
      "2025/07/19 17:40:29 ERROR dspy.utils.parallelizer: Error for Example({'claim': 'Anthony Sandler is the Chief of Pediatric Surgery at a large hospital. MedStar Washington Hospital Center is the largest private hospital in Washington, D.C. not this hospital.', 'titles': ['MedStar Washington Hospital Center', \"Children's National Medical Center\", 'Anthony Sandler']}) (input_keys={'claim'}): litellm.RateLimitError: RateLimitError: Together_aiException - Request was rejected due to request rate limiting. Your rate limits are 60 RPM (1 QPS) and 60000 TPM (1000 TPS). See details: https://docs.together.ai/docs/rate-limits. Set `provide_traceback=True` for traceback.\n"
     ]
    },
    {
     "name": "stdout",
     "output_type": "stream",
     "text": [
      "Average Metric: 2.33 / 6 (38.9%):  63%|██████▎   | 22/35 [00:46<00:17,  1.35s/it]"
     ]
    },
    {
     "name": "stderr",
     "output_type": "stream",
     "text": [
      "2025/07/19 17:40:31 ERROR dspy.utils.parallelizer: Error for Example({'claim': 'The individual who played Herman Boone in Remember the Titans, and David Hewlett, are both actors.', 'titles': ['David Hewlett', 'Denzel Washington', 'Herman Boone']}) (input_keys={'claim'}): litellm.RateLimitError: RateLimitError: Together_aiException - Request was rejected due to request rate limiting. Your rate limits are 60 RPM (1 QPS) and 60000 TPM (1000 TPS). See details: https://docs.together.ai/docs/rate-limits. Set `provide_traceback=True` for traceback.\n"
     ]
    },
    {
     "name": "stdout",
     "output_type": "stream",
     "text": [
      "Average Metric: 2.33 / 6 (38.9%):  66%|██████▌   | 23/35 [00:46<00:14,  1.19s/it]"
     ]
    },
    {
     "name": "stderr",
     "output_type": "stream",
     "text": [
      "2025/07/19 17:40:33 ERROR dspy.utils.parallelizer: Error for Example({'claim': 'The city containing the Parafield railway station is very near the airport and the Mawson Lakes campus of the University of South Australia.', 'titles': ['Parafield, South Australia', 'Parafield railway station', 'Parafield Airport']}) (input_keys={'claim'}): litellm.RateLimitError: RateLimitError: Together_aiException - Request was rejected due to request rate limiting. Your rate limits are 60 RPM (1 QPS) and 60000 TPM (1000 TPS). See details: https://docs.together.ai/docs/rate-limits. Set `provide_traceback=True` for traceback.\n",
      "2025/07/19 17:40:33 ERROR dspy.utils.parallelizer: Error for Example({'claim': \"The defending champion who lost the Singles title at the 1994 Waldbaum's Hamlet Cup, and Max Mirnyi have both been tennis players.\", 'titles': ['Max Mirnyi', \"1994 Waldbaum's Hamlet Cup – Singles\", 'Marc Rosset']}) (input_keys={'claim'}): litellm.RateLimitError: RateLimitError: Together_aiException - Request was rejected due to request rate limiting. Your rate limits are 60 RPM (1 QPS) and 60000 TPM (1000 TPS). See details: https://docs.together.ai/docs/rate-limits. Set `provide_traceback=True` for traceback.\n"
     ]
    },
    {
     "name": "stdout",
     "output_type": "stream",
     "text": [
      "Average Metric: 2.33 / 6 (38.9%):  69%|██████▊   | 24/35 [00:48<00:14,  1.30s/it]"
     ]
    },
    {
     "name": "stderr",
     "output_type": "stream",
     "text": [
      "2025/07/19 17:40:34 ERROR dspy.utils.parallelizer: Error for Example({'claim': \"The real life person that James Woods' character is based on in the television film was awarded the Medal of Honor. Steven Vincent Leigh appeared in this film in 1987.\", 'titles': ['James Stockdale', 'Steven Vincent Leigh', 'In Love and War (1987 film)']}) (input_keys={'claim'}): litellm.RateLimitError: RateLimitError: Together_aiException - Request was rejected due to request rate limiting. Your rate limits are 60 RPM (1 QPS) and 60000 TPM (1000 TPS). See details: https://docs.together.ai/docs/rate-limits. Set `provide_traceback=True` for traceback.\n"
     ]
    },
    {
     "name": "stdout",
     "output_type": "stream",
     "text": [
      "Average Metric: 2.33 / 6 (38.9%):  74%|███████▍  | 26/35 [00:49<00:08,  1.04it/s]"
     ]
    },
    {
     "name": "stderr",
     "output_type": "stream",
     "text": [
      "2025/07/19 17:40:35 WARNING dspy.adapters.json_adapter: Failed to use structured output format, falling back to JSON mode.\n"
     ]
    },
    {
     "name": "stdout",
     "output_type": "stream",
     "text": [
      "Average Metric: 3.00 / 8 (37.5%):  80%|████████  | 28/35 [00:56<00:15,  2.18s/it]"
     ]
    },
    {
     "name": "stderr",
     "output_type": "stream",
     "text": [
      "2025/07/19 17:40:41 ERROR dspy.utils.parallelizer: Error for Example({'claim': 'Helen Mirren, a client of the designer who designed the wedding dress of Sarah Ferguson, played Lindka in \"The Queen\".', 'titles': ['Wedding dress of Sarah Ferguson', 'Lindka Cierach', 'Helen Mirren']}) (input_keys={'claim'}): litellm.RateLimitError: RateLimitError: Together_aiException - Request was rejected due to request rate limiting. Your rate limits are 60 RPM (1 QPS) and 60000 TPM (1000 TPS). See details: https://docs.together.ai/docs/rate-limits. Set `provide_traceback=True` for traceback.\n"
     ]
    },
    {
     "name": "stdout",
     "output_type": "stream",
     "text": [
      "Average Metric: 3.00 / 8 (37.5%):  83%|████████▎ | 29/35 [00:56<00:09,  1.66s/it]"
     ]
    },
    {
     "name": "stderr",
     "output_type": "stream",
     "text": [
      "2025/07/19 17:40:44 ERROR dspy.utils.parallelizer: Error for Example({'claim': 'German Frank Sinatra has won more awards than this Skinny Puppy band member, for whom the Rx (band) was a one-off side project.', 'titles': ['Frank Sinatra', 'Rx (band)', 'Nivek Ogre']}) (input_keys={'claim'}): Both structured output format and JSON mode failed. Please choose a model that supports `response_format` argument. Original error: litellm.RateLimitError: RateLimitError: Together_aiException - Request was rejected due to request rate limiting. Your rate limits are 60 RPM (1 QPS) and 60000 TPM (1000 TPS). See details: https://docs.together.ai/docs/rate-limits. Set `provide_traceback=True` for traceback.\n"
     ]
    },
    {
     "name": "stdout",
     "output_type": "stream",
     "text": [
      "Average Metric: 4.33 / 13 (33.3%): 100%|██████████| 35/35 [01:14<00:00,  2.12s/it]"
     ]
    },
    {
     "name": "stderr",
     "output_type": "stream",
     "text": [
      "2025/07/19 17:40:59 INFO dspy.evaluate.evaluate: Average Metric: 4.333333333333333 / 35 (12.4%)\n",
      "2025/07/19 17:40:59 INFO dspy.teleprompt.mipro_optimizer_v2: Score: 12.38 on minibatch of size 35 with parameters ['Predictor 0: Instruction 3', 'Predictor 0: Few-Shot Set 4', 'Predictor 1: Instruction 4', 'Predictor 1: Few-Shot Set 4'].\n",
      "2025/07/19 17:40:59 INFO dspy.teleprompt.mipro_optimizer_v2: Minibatch scores so far: [2.86, 8.57, 18.1, 14.29, 3.81, 2.86, 6.67, 19.05, 0.95, 9.52, 20.95, 18.1, 7.62, 12.38]\n",
      "2025/07/19 17:40:59 INFO dspy.teleprompt.mipro_optimizer_v2: Full eval scores so far: [2.08, 22.08, 15.83]\n",
      "2025/07/19 17:40:59 INFO dspy.teleprompt.mipro_optimizer_v2: Best full score so far: 22.08\n",
      "2025/07/19 17:40:59 INFO dspy.teleprompt.mipro_optimizer_v2: ==========================================\n",
      "\n",
      "\n",
      "2025/07/19 17:40:59 INFO dspy.teleprompt.mipro_optimizer_v2: == Trial 18 / 35 - Minibatch ==\n"
     ]
    },
    {
     "name": "stdout",
     "output_type": "stream",
     "text": [
      "\n",
      "  0%|          | 0/35 [00:00<?, ?it/s]"
     ]
    },
    {
     "name": "stderr",
     "output_type": "stream",
     "text": [
      "2025/07/19 17:41:15 ERROR dspy.utils.parallelizer: Error for Example({'claim': 'The director of The Moth Diaries (born January 12, 1953) was a French Canadian filmmaker who created a film about Bettie Page in 2005.', 'titles': ['The Moth Diaries (film)', 'Mary Harron', 'The Notorious Bettie Page']}) (input_keys={'claim'}): litellm.RateLimitError: RateLimitError: Together_aiException - Request was rejected due to request rate limiting. Your rate limits are 60 RPM (1 QPS) and 60000 TPM (1000 TPS). See details: https://docs.together.ai/docs/rate-limits. Set `provide_traceback=True` for traceback.\n"
     ]
    },
    {
     "name": "stdout",
     "output_type": "stream",
     "text": [
      "Average Metric: 0.00 / 0 (0%):   3%|▎         | 1/35 [00:14<08:23, 14.82s/it]"
     ]
    },
    {
     "name": "stderr",
     "output_type": "stream",
     "text": [
      "2025/07/19 17:41:15 ERROR dspy.utils.parallelizer: Error for Example({'claim': 'This character as featured in the comic book, Hellblazer Special: Bad Blood. He is  is the fictional antihero from comic books published by DC Comics, who sometimes acts as a cab driver, and was created by Alan Moore, Steve Bissette, and John Totleben.', 'titles': ['Chas Chandler (comics)', 'Hellblazer Special: Bad Blood', 'John Constantine']}) (input_keys={'claim'}): litellm.RateLimitError: RateLimitError: Together_aiException - Request was rejected due to request rate limiting. Your rate limits are 60 RPM (1 QPS) and 60000 TPM (1000 TPS). See details: https://docs.together.ai/docs/rate-limits. Set `provide_traceback=True` for traceback.\n"
     ]
    },
    {
     "name": "stdout",
     "output_type": "stream",
     "text": [
      "Average Metric: 0.00 / 0 (0%):   6%|▌         | 2/35 [00:15<03:28,  6.31s/it]"
     ]
    },
    {
     "name": "stderr",
     "output_type": "stream",
     "text": [
      "2025/07/19 17:41:15 ERROR dspy.utils.parallelizer: Error for Example({'claim': 'Lari Michele White is the county music artist that first gained national attention as a winner on \"You Can Be a Star\". She then went on to provide background vocals on the first single of the album, Now and Then.', 'titles': ['Lari White', 'Take It Like a Man (Michelle Wright song)', 'Now and Then (Michelle Wright album)']}) (input_keys={'claim'}): litellm.RateLimitError: RateLimitError: Together_aiException - Request was rejected due to request rate limiting. Your rate limits are 60 RPM (1 QPS) and 60000 TPM (1000 TPS). See details: https://docs.together.ai/docs/rate-limits. Set `provide_traceback=True` for traceback.\n",
      "2025/07/19 17:41:15 ERROR dspy.utils.parallelizer: Error for Example({'claim': 'Guillermo del Toro directed the film which had the man, who starred in Bone Dry alongside Lance Henriksen, play the role of Jared Nomak.', 'titles': ['Bone Dry', 'Luke Goss', 'Blade II']}) (input_keys={'claim'}): litellm.RateLimitError: RateLimitError: Together_aiException - Request was rejected due to request rate limiting. Your rate limits are 60 RPM (1 QPS) and 60000 TPM (1000 TPS). See details: https://docs.together.ai/docs/rate-limits. Set `provide_traceback=True` for traceback.\n"
     ]
    },
    {
     "name": "stdout",
     "output_type": "stream",
     "text": [
      "Average Metric: 0.00 / 0 (0%):   9%|▊         | 3/35 [00:15<01:56,  3.66s/it]"
     ]
    },
    {
     "name": "stderr",
     "output_type": "stream",
     "text": [
      "2025/07/19 17:41:17 ERROR dspy.utils.parallelizer: Error for Example({'claim': 'An Greek actor who was a CIA operative in Chuck Versus the A-Team was born in 1974. The actor plays a character in commercials for Old Spice.', 'titles': ['Make a Smellmitment', 'Chuck Versus the A-Team', 'Isaiah Mustafa']}) (input_keys={'claim'}): litellm.RateLimitError: RateLimitError: Together_aiException - Request was rejected due to request rate limiting. Your rate limits are 60 RPM (1 QPS) and 60000 TPM (1000 TPS). See details: https://docs.together.ai/docs/rate-limits. Set `provide_traceback=True` for traceback.\n"
     ]
    },
    {
     "name": "stdout",
     "output_type": "stream",
     "text": [
      "Average Metric: 0.67 / 1 (66.7%):  14%|█▍        | 5/35 [00:17<01:00,  2.03s/it]"
     ]
    },
    {
     "name": "stderr",
     "output_type": "stream",
     "text": [
      "2025/07/19 17:41:18 ERROR dspy.utils.parallelizer: Error for Example({'claim': 'The father of director Guðný Halldórsdóttir and Timothy Leary are not from the same place.', 'titles': ['Halldór Laxness', 'Timothy Leary', 'Guðný Halldórsdóttir']}) (input_keys={'claim'}): litellm.RateLimitError: RateLimitError: Together_aiException - Request was rejected due to request rate limiting. Your rate limits are 60 RPM (1 QPS) and 60000 TPM (1000 TPS). See details: https://docs.together.ai/docs/rate-limits. Set `provide_traceback=True` for traceback.\n"
     ]
    },
    {
     "name": "stdout",
     "output_type": "stream",
     "text": [
      "Average Metric: 0.67 / 1 (66.7%):  20%|██        | 7/35 [00:18<00:36,  1.30s/it]"
     ]
    },
    {
     "name": "stderr",
     "output_type": "stream",
     "text": [
      "2025/07/19 17:41:18 ERROR dspy.utils.parallelizer: Error for Example({'claim': 'Mountain Dew is owned by the Pepsi-Cola company. So is the producer of orange juice founded by Anthony T. Rossi.', 'titles': ['Tropicana Products', 'Anthony T. Rossi', 'Mountain Dew']}) (input_keys={'claim'}): litellm.RateLimitError: RateLimitError: Together_aiException - Request was rejected due to request rate limiting. Your rate limits are 60 RPM (1 QPS) and 60000 TPM (1000 TPS). See details: https://docs.together.ai/docs/rate-limits. Set `provide_traceback=True` for traceback.\n"
     ]
    },
    {
     "name": "stdout",
     "output_type": "stream",
     "text": [
      "Average Metric: 0.67 / 1 (66.7%):  20%|██        | 7/35 [00:18<00:36,  1.30s/it]"
     ]
    },
    {
     "name": "stderr",
     "output_type": "stream",
     "text": [
      "2025/07/19 17:41:18 ERROR dspy.utils.parallelizer: Error for Example({'claim': 'Cork has several third level colleges including NMIO, the Crawford College of Art and Design and one other. The 2016 population of the county where the other school is located was 542,196.', 'titles': ['Education in Cork', 'National Maritime College of Ireland', 'County Cork']}) (input_keys={'claim'}): litellm.RateLimitError: RateLimitError: Together_aiException - Request was rejected due to request rate limiting. Your rate limits are 60 RPM (1 QPS) and 60000 TPM (1000 TPS). See details: https://docs.together.ai/docs/rate-limits. Set `provide_traceback=True` for traceback.\n"
     ]
    },
    {
     "name": "stdout",
     "output_type": "stream",
     "text": [
      "Average Metric: 0.67 / 1 (66.7%):  23%|██▎       | 8/35 [00:18<00:35,  1.30s/it]"
     ]
    },
    {
     "name": "stderr",
     "output_type": "stream",
     "text": [
      "2025/07/19 17:41:20 ERROR dspy.utils.parallelizer: Error for Example({'claim': 'The summer 2016 romantic drama \"Me Before You\" is directed by Thea Sharrock. The star of the film The Lost Future (who also appears in The Hunger Games) stars as the character Will Traynor.', 'titles': ['The Lost Future', 'Me Before You (film)', 'Sam Claflin']}) (input_keys={'claim'}): litellm.RateLimitError: RateLimitError: Together_aiException - Request was rejected due to request rate limiting. Your rate limits are 60 RPM (1 QPS) and 60000 TPM (1000 TPS). See details: https://docs.together.ai/docs/rate-limits. Set `provide_traceback=True` for traceback.\n"
     ]
    },
    {
     "name": "stdout",
     "output_type": "stream",
     "text": [
      "Average Metric: 0.67 / 1 (66.7%):  29%|██▊       | 10/35 [00:19<00:23,  1.05it/s]"
     ]
    },
    {
     "name": "stderr",
     "output_type": "stream",
     "text": [
      "2025/07/19 17:41:31 ERROR dspy.utils.parallelizer: Error for Example({'claim': 'Il trovatore has more acts than the 1994 Hungarian-Swiss-Italian fantasy film which was loosely inspired by. This Hungarian-Swiss-Italian fantasy film was directed by Ildikó Enyedi and called Magic Hunter.', 'titles': ['Der Freischütz', 'Il trovatore', 'Magic Hunter']}) (input_keys={'claim'}): litellm.RateLimitError: RateLimitError: Together_aiException - Request was rejected due to request rate limiting. Your rate limits are 60 RPM (1 QPS) and 60000 TPM (1000 TPS). See details: https://docs.together.ai/docs/rate-limits. Set `provide_traceback=True` for traceback.\n"
     ]
    },
    {
     "name": "stdout",
     "output_type": "stream",
     "text": [
      "Average Metric: 0.67 / 1 (66.7%):  31%|███▏      | 11/35 [00:31<01:11,  2.96s/it]"
     ]
    },
    {
     "name": "stderr",
     "output_type": "stream",
     "text": [
      "2025/07/19 17:41:32 ERROR dspy.utils.parallelizer: Error for Example({'claim': \"The defending champion who lost the Singles title at the 1994 Waldbaum's Hamlet Cup, and Max Mirnyi have both been tennis players.\", 'titles': ['Max Mirnyi', \"1994 Waldbaum's Hamlet Cup – Singles\", 'Marc Rosset']}) (input_keys={'claim'}): litellm.RateLimitError: RateLimitError: Together_aiException - Request was rejected due to request rate limiting. Your rate limits are 60 RPM (1 QPS) and 60000 TPM (1000 TPS). See details: https://docs.together.ai/docs/rate-limits. Set `provide_traceback=True` for traceback.\n"
     ]
    },
    {
     "name": "stdout",
     "output_type": "stream",
     "text": [
      "Average Metric: 0.67 / 1 (66.7%):  31%|███▏      | 11/35 [00:32<01:11,  2.96s/it]"
     ]
    },
    {
     "name": "stderr",
     "output_type": "stream",
     "text": [
      "2025/07/19 17:41:32 ERROR dspy.utils.parallelizer: Error for Example({'claim': 'An actor was in the film, Focus, that was directed by Glenn Ficarra. This actor was also in the 2016 film \"White Girl\".', 'titles': ['Adrian Martinez (actor)', 'Focus (2015 film)', 'White Girl (2016 film)']}) (input_keys={'claim'}): litellm.RateLimitError: RateLimitError: Together_aiException - Request was rejected due to request rate limiting. Your rate limits are 60 RPM (1 QPS) and 60000 TPM (1000 TPS). See details: https://docs.together.ai/docs/rate-limits. Set `provide_traceback=True` for traceback.\n"
     ]
    },
    {
     "name": "stdout",
     "output_type": "stream",
     "text": [
      "Average Metric: 0.67 / 1 (66.7%):  34%|███▍      | 12/35 [00:32<00:59,  2.60s/it]"
     ]
    },
    {
     "name": "stderr",
     "output_type": "stream",
     "text": [
      "2025/07/19 17:41:34 ERROR dspy.utils.parallelizer: Error for Example({'claim': 'Jonathan Howsmon Davis lives closer to Canada than this Japanese singer, whose fifth solo studio album is called Singing Bird.', 'titles': ['Koshi Inaba', 'Jonathan Davis', 'Singing Bird']}) (input_keys={'claim'}): litellm.RateLimitError: RateLimitError: Together_aiException - Request was rejected due to request rate limiting. Your rate limits are 60 RPM (1 QPS) and 60000 TPM (1000 TPS). See details: https://docs.together.ai/docs/rate-limits. Set `provide_traceback=True` for traceback.\n"
     ]
    },
    {
     "name": "stdout",
     "output_type": "stream",
     "text": [
      "Average Metric: 0.67 / 1 (66.7%):  40%|████      | 14/35 [00:34<00:41,  2.00s/it]"
     ]
    },
    {
     "name": "stderr",
     "output_type": "stream",
     "text": [
      "2025/07/19 17:41:35 ERROR dspy.utils.parallelizer: Error for Example({'claim': 'The owner of Tatoosh (yacht) has a sister named Jo Lynn \"Jody\". He is an South African business magnate, investor and philanthropist.', 'titles': ['Jody Allen', 'Paul Allen', 'Tatoosh (yacht)']}) (input_keys={'claim'}): litellm.RateLimitError: RateLimitError: Together_aiException - Request was rejected due to request rate limiting. Your rate limits are 60 RPM (1 QPS) and 60000 TPM (1000 TPS). See details: https://docs.together.ai/docs/rate-limits. Set `provide_traceback=True` for traceback.\n"
     ]
    },
    {
     "name": "stdout",
     "output_type": "stream",
     "text": [
      "Average Metric: 0.67 / 1 (66.7%):  43%|████▎     | 15/35 [00:35<00:33,  1.70s/it]"
     ]
    },
    {
     "name": "stderr",
     "output_type": "stream",
     "text": [
      "2025/07/19 17:41:36 ERROR dspy.utils.parallelizer: Error for Example({'claim': 'The director of action movie Batman: Mask of the Phantasm, produced Avengers Assemble that premiered on Disney XD on May 26, 2013.', 'titles': ['Eric Radomski', 'Batman: Mask of the Phantasm', 'Avengers Assemble (TV series)']}) (input_keys={'claim'}): litellm.RateLimitError: RateLimitError: Together_aiException - Request was rejected due to request rate limiting. Your rate limits are 60 RPM (1 QPS) and 60000 TPM (1000 TPS). See details: https://docs.together.ai/docs/rate-limits. Set `provide_traceback=True` for traceback.\n"
     ]
    },
    {
     "name": "stdout",
     "output_type": "stream",
     "text": [
      "Average Metric: 0.67 / 1 (66.7%):  46%|████▌     | 16/35 [00:36<00:29,  1.53s/it]"
     ]
    },
    {
     "name": "stderr",
     "output_type": "stream",
     "text": [
      "2025/07/19 17:41:40 WARNING dspy.adapters.json_adapter: Failed to use structured output format, falling back to JSON mode.\n"
     ]
    },
    {
     "name": "stdout",
     "output_type": "stream",
     "text": [
      "Average Metric: 0.67 / 2 (33.3%):  49%|████▊     | 17/35 [00:42<00:49,  2.74s/it]"
     ]
    },
    {
     "name": "stderr",
     "output_type": "stream",
     "text": [
      "2025/07/19 17:41:43 ERROR dspy.utils.parallelizer: Error for Example({'claim': 'The star of Nothing to Report and Gary Barlow have a profession in common.', 'titles': ['Gary Barlow', 'Chris Jericho', 'Nothing to Report']}) (input_keys={'claim'}): litellm.RateLimitError: RateLimitError: Together_aiException - Request was rejected due to request rate limiting. Your rate limits are 60 RPM (1 QPS) and 60000 TPM (1000 TPS). See details: https://docs.together.ai/docs/rate-limits. Set `provide_traceback=True` for traceback.\n"
     ]
    },
    {
     "name": "stdout",
     "output_type": "stream",
     "text": [
      "Average Metric: 0.67 / 2 (33.3%):  51%|█████▏    | 18/35 [00:43<00:36,  2.17s/it]"
     ]
    },
    {
     "name": "stderr",
     "output_type": "stream",
     "text": [
      "2025/07/19 17:41:47 WARNING dspy.adapters.json_adapter: Failed to use structured output format, falling back to JSON mode.\n",
      "2025/07/19 17:41:47 ERROR dspy.utils.parallelizer: Error for Example({'claim': 'One of the screenwriters who worked on \"The Janus Directive\" collaborated on Martian Manhunter, which was based on a fictional superhero.', 'titles': ['Janus Directive', 'Martian Manhunter', 'Tom Mandrake']}) (input_keys={'claim'}): litellm.RateLimitError: RateLimitError: Together_aiException - Request was rejected due to request rate limiting. Your rate limits are 60 RPM (1 QPS) and 60000 TPM (1000 TPS). See details: https://docs.together.ai/docs/rate-limits. Set `provide_traceback=True` for traceback.\n"
     ]
    },
    {
     "name": "stdout",
     "output_type": "stream",
     "text": [
      "Average Metric: 0.67 / 2 (33.3%):  54%|█████▍    | 19/35 [00:47<00:44,  2.80s/it]"
     ]
    },
    {
     "name": "stderr",
     "output_type": "stream",
     "text": [
      "2025/07/19 17:41:48 ERROR dspy.utils.parallelizer: Error for Example({'claim': 'The genera that the Gordonia-Alatamaha State Park is named after and Osbeckia are not in the same family.', 'titles': ['Gordonia (plant)', 'Osbeckia', 'Gordonia-Alatamaha State Park']}) (input_keys={'claim'}): litellm.RateLimitError: RateLimitError: Together_aiException - Request was rejected due to request rate limiting. Your rate limits are 60 RPM (1 QPS) and 60000 TPM (1000 TPS). See details: https://docs.together.ai/docs/rate-limits. Set `provide_traceback=True` for traceback.\n"
     ]
    },
    {
     "name": "stdout",
     "output_type": "stream",
     "text": [
      "Average Metric: 0.67 / 2 (33.3%):  57%|█████▋    | 20/35 [00:48<00:34,  2.28s/it]"
     ]
    },
    {
     "name": "stderr",
     "output_type": "stream",
     "text": [
      "2025/07/19 17:41:49 ERROR dspy.utils.parallelizer: Error for Example({'claim': 'This series developer created T-Dog on the Walking Dead. He is the Hungarian-born US film director renowned for adapting Stephen King novellas to the screen, including The Mist and The Green Mile.', 'titles': ['The Mist (film)', 'Frank Darabont', 'T-Dog (The Walking Dead)']}) (input_keys={'claim'}): litellm.RateLimitError: RateLimitError: Together_aiException - Request was rejected due to request rate limiting. Your rate limits are 60 RPM (1 QPS) and 60000 TPM (1000 TPS). See details: https://docs.together.ai/docs/rate-limits. Set `provide_traceback=True` for traceback.\n"
     ]
    },
    {
     "name": "stdout",
     "output_type": "stream",
     "text": [
      "Average Metric: 0.67 / 2 (33.3%):  57%|█████▋    | 20/35 [00:49<00:34,  2.28s/it]"
     ]
    },
    {
     "name": "stderr",
     "output_type": "stream",
     "text": [
      "2025/07/19 17:41:49 ERROR dspy.utils.parallelizer: Error for Example({'claim': 'The kind of dog Banana Joe V Tani Kazari is and Villanuco de Las Encartaciones are not both breeds of dog.', 'titles': ['Affenpinscher', 'German Pinscher', 'Villanuco de Las Encartaciones']}) (input_keys={'claim'}): litellm.RateLimitError: RateLimitError: Together_aiException - Request was rejected due to request rate limiting. Your rate limits are 60 RPM (1 QPS) and 60000 TPM (1000 TPS). See details: https://docs.together.ai/docs/rate-limits. Set `provide_traceback=True` for traceback.\n"
     ]
    },
    {
     "name": "stdout",
     "output_type": "stream",
     "text": [
      "Average Metric: 0.67 / 2 (33.3%):  60%|██████    | 21/35 [00:49<00:26,  1.91s/it]"
     ]
    },
    {
     "name": "stderr",
     "output_type": "stream",
     "text": [
      "2025/07/19 17:41:52 ERROR dspy.utils.parallelizer: Error for Example({'claim': 'The member of the group Wilkes-Barre/Scranton International Airport, formed by Kenny Loggins, was aged ten when she started singing in the seventh-most populated city in the United States.', 'titles': ['Kenny Loggins', 'San Antonio', 'Georgia Middleman']}) (input_keys={'claim'}): litellm.RateLimitError: RateLimitError: Together_aiException - Request was rejected due to request rate limiting. Your rate limits are 60 RPM (1 QPS) and 60000 TPM (1000 TPS). See details: https://docs.together.ai/docs/rate-limits. Set `provide_traceback=True` for traceback.\n"
     ]
    },
    {
     "name": "stdout",
     "output_type": "stream",
     "text": [
      "Average Metric: 0.67 / 3 (22.2%):  69%|██████▊   | 24/35 [00:52<00:15,  1.39s/it]"
     ]
    },
    {
     "name": "stderr",
     "output_type": "stream",
     "text": [
      "2025/07/19 17:41:53 ERROR dspy.utils.parallelizer: Error for Example({'claim': 'Fredric March costarred in 1935 Australian drama film that Frances Drake is best know for, with the husband of Elsa Lanchester.', 'titles': ['Frances Drake', 'Charles Laughton', 'Les Misérables (1935 film)']}) (input_keys={'claim'}): litellm.RateLimitError: RateLimitError: Together_aiException - Request was rejected due to request rate limiting. Your rate limits are 60 RPM (1 QPS) and 60000 TPM (1000 TPS). See details: https://docs.together.ai/docs/rate-limits. Set `provide_traceback=True` for traceback.\n"
     ]
    },
    {
     "name": "stdout",
     "output_type": "stream",
     "text": [
      "Average Metric: 0.67 / 3 (22.2%):  71%|███████▏  | 25/35 [00:53<00:11,  1.18s/it]"
     ]
    },
    {
     "name": "stderr",
     "output_type": "stream",
     "text": [
      "2025/07/19 17:41:54 ERROR dspy.utils.parallelizer: Error for Example({'claim': \"Daniel Boone's trail ran through Arcadia, Tennessee in 1775. This unofficial trail, which leads into Kentucky, was near one of locales of the Green-Jones War. It was turned down to become the National Road.\", 'titles': ['Wilderness Road', 'Arcadia, Tennessee', 'Greene–Jones War']}) (input_keys={'claim'}): Both structured output format and JSON mode failed. Please choose a model that supports `response_format` argument. Original error: litellm.RateLimitError: RateLimitError: Together_aiException - Request was rejected due to request rate limiting. Your rate limits are 60 RPM (1 QPS) and 60000 TPM (1000 TPS). See details: https://docs.together.ai/docs/rate-limits. Set `provide_traceback=True` for traceback.\n"
     ]
    },
    {
     "name": "stdout",
     "output_type": "stream",
     "text": [
      "Average Metric: 0.67 / 3 (22.2%):  74%|███████▍  | 26/35 [00:54<00:11,  1.23s/it]"
     ]
    },
    {
     "name": "stderr",
     "output_type": "stream",
     "text": [
      "2025/07/19 17:41:57 ERROR dspy.utils.parallelizer: Error for Example({'claim': 'Sophia Grace & Rosie featured a cover song on their Youtube channel. The pop song from is from an album released under the Syco Music and Columbia Records labels.', 'titles': ['Touch (Little Mix song)', 'Glory Days (Little Mix album)', 'Sophia Grace &amp; Rosie']}) (input_keys={'claim'}): litellm.RateLimitError: RateLimitError: Together_aiException - Request was rejected due to request rate limiting. Your rate limits are 60 RPM (1 QPS) and 60000 TPM (1000 TPS). See details: https://docs.together.ai/docs/rate-limits. Set `provide_traceback=True` for traceback.\n"
     ]
    },
    {
     "name": "stdout",
     "output_type": "stream",
     "text": [
      "Average Metric: 0.67 / 3 (22.2%):  77%|███████▋  | 27/35 [00:57<00:13,  1.74s/it]"
     ]
    },
    {
     "name": "stderr",
     "output_type": "stream",
     "text": [
      "2025/07/19 17:42:01 ERROR dspy.utils.parallelizer: Error for Example({'claim': 'This American composer composed Troubled Island. He was born in 1895 was married to his frequent collaborator Verna Arvey.', 'titles': ['William Grant Still', 'A Bayou Legend', 'Troubled Island']}) (input_keys={'claim'}): litellm.RateLimitError: RateLimitError: Together_aiException - Request was rejected due to request rate limiting. Your rate limits are 60 RPM (1 QPS) and 60000 TPM (1000 TPS). See details: https://docs.together.ai/docs/rate-limits. Set `provide_traceback=True` for traceback.\n"
     ]
    },
    {
     "name": "stdout",
     "output_type": "stream",
     "text": [
      "Average Metric: 0.67 / 3 (22.2%):  80%|████████  | 28/35 [01:01<00:15,  2.27s/it]"
     ]
    },
    {
     "name": "stderr",
     "output_type": "stream",
     "text": [
      "2025/07/19 17:42:04 ERROR dspy.utils.parallelizer: Error for Example({'claim': 'Grand Forks International Airport is closer to the town it is near, than the airport close by to The Texas Air & Space Museum.', 'titles': ['Texas Air &amp; Space Museum', 'Rick Husband Amarillo International Airport', 'Grand Forks International Airport']}) (input_keys={'claim'}): litellm.RateLimitError: RateLimitError: Together_aiException - Request was rejected due to request rate limiting. Your rate limits are 60 RPM (1 QPS) and 60000 TPM (1000 TPS). See details: https://docs.together.ai/docs/rate-limits. Set `provide_traceback=True` for traceback.\n"
     ]
    },
    {
     "name": "stdout",
     "output_type": "stream",
     "text": [
      "Average Metric: 0.67 / 3 (22.2%):  83%|████████▎ | 29/35 [01:03<00:14,  2.37s/it]"
     ]
    },
    {
     "name": "stderr",
     "output_type": "stream",
     "text": [
      "2025/07/19 17:42:06 ERROR dspy.utils.parallelizer: Error for Example({'claim': 'The actor, who starred in the thriller 400 Boys, plays Marilyn Monroe in a film based on the novel \"Northern Lights\".', 'titles': ['Charlie Rowe', '400 Boys', 'The Golden Compass (film)']}) (input_keys={'claim'}): litellm.RateLimitError: RateLimitError: Together_aiException - Request was rejected due to request rate limiting. Your rate limits are 60 RPM (1 QPS) and 60000 TPM (1000 TPS). See details: https://docs.together.ai/docs/rate-limits. Set `provide_traceback=True` for traceback.\n"
     ]
    },
    {
     "name": "stdout",
     "output_type": "stream",
     "text": [
      "Average Metric: 0.67 / 3 (22.2%):  86%|████████▌ | 30/35 [01:06<00:11,  2.31s/it]"
     ]
    },
    {
     "name": "stderr",
     "output_type": "stream",
     "text": [
      "2025/07/19 17:42:12 ERROR dspy.utils.parallelizer: Error for Example({'claim': 'This equatorial island is known for Breacachadh which is also known as Breachacha Castle. It is also home to Dùn Dubh.', 'titles': ['Dùn Dubh', 'Breachacha Castle', 'Coll']}) (input_keys={'claim'}): litellm.RateLimitError: RateLimitError: Together_aiException - Request was rejected due to request rate limiting. Your rate limits are 60 RPM (1 QPS) and 60000 TPM (1000 TPS). See details: https://docs.together.ai/docs/rate-limits. Set `provide_traceback=True` for traceback.\n"
     ]
    },
    {
     "name": "stdout",
     "output_type": "stream",
     "text": [
      "Average Metric: 2.67 / 7 (38.1%): 100%|██████████| 35/35 [01:51<00:00,  3.18s/it]"
     ]
    },
    {
     "name": "stderr",
     "output_type": "stream",
     "text": [
      "2025/07/19 17:42:51 INFO dspy.evaluate.evaluate: Average Metric: 2.6666666666666665 / 35 (7.6%)\n",
      "2025/07/19 17:42:51 INFO dspy.teleprompt.mipro_optimizer_v2: Score: 7.62 on minibatch of size 35 with parameters ['Predictor 0: Instruction 2', 'Predictor 0: Few-Shot Set 7', 'Predictor 1: Instruction 5', 'Predictor 1: Few-Shot Set 11'].\n",
      "2025/07/19 17:42:51 INFO dspy.teleprompt.mipro_optimizer_v2: Minibatch scores so far: [2.86, 8.57, 18.1, 14.29, 3.81, 2.86, 6.67, 19.05, 0.95, 9.52, 20.95, 18.1, 7.62, 12.38, 7.62]\n",
      "2025/07/19 17:42:51 INFO dspy.teleprompt.mipro_optimizer_v2: Full eval scores so far: [2.08, 22.08, 15.83]\n",
      "2025/07/19 17:42:51 INFO dspy.teleprompt.mipro_optimizer_v2: Best full score so far: 22.08\n",
      "2025/07/19 17:42:51 INFO dspy.teleprompt.mipro_optimizer_v2: ==========================================\n",
      "\n",
      "\n",
      "2025/07/19 17:42:51 INFO dspy.teleprompt.mipro_optimizer_v2: ===== Trial 19 / 35 - Full Evaluation =====\n",
      "2025/07/19 17:42:51 INFO dspy.teleprompt.mipro_optimizer_v2: Doing full eval on next top averaging program (Avg Score: 20.95) from minibatch trials...\n"
     ]
    },
    {
     "name": "stdout",
     "output_type": "stream",
     "text": [
      "\n",
      "Average Metric: 3.67 / 4 (91.7%):   5%|▌         | 4/80 [00:08<02:28,  1.96s/it]"
     ]
    },
    {
     "name": "stderr",
     "output_type": "stream",
     "text": [
      "2025/07/19 17:43:07 WARNING dspy.adapters.json_adapter: Failed to use structured output format, falling back to JSON mode.\n",
      "2025/07/19 17:43:07 ERROR dspy.utils.parallelizer: Error for Example({'claim': 'Lari Michele White is the county music artist that first gained national attention as a winner on \"You Can Be a Star\". She then went on to provide background vocals on the first single of the album, Now and Then.', 'titles': ['Lari White', 'Take It Like a Man (Michelle Wright song)', 'Now and Then (Michelle Wright album)']}) (input_keys={'claim'}): litellm.RateLimitError: RateLimitError: Together_aiException - Request was rejected due to request rate limiting. Your rate limits are 60 RPM (1 QPS) and 60000 TPM (1000 TPS). See details: https://docs.together.ai/docs/rate-limits. Set `provide_traceback=True` for traceback.\n"
     ]
    },
    {
     "name": "stdout",
     "output_type": "stream",
     "text": [
      "Average Metric: 3.67 / 5 (73.3%):   8%|▊         | 6/80 [00:15<03:15,  2.64s/it]"
     ]
    },
    {
     "name": "stderr",
     "output_type": "stream",
     "text": [
      "2025/07/19 17:43:08 WARNING dspy.adapters.json_adapter: Failed to use structured output format, falling back to JSON mode.\n",
      "2025/07/19 17:43:09 ERROR dspy.utils.parallelizer: Error for Example({'claim': 'Markounda is a sub-prefecture that borders an Central African Republic country bordered by Libya and the Sudan and is known for the Dar Sila region.', 'titles': ['Markounda', 'Sila Region', 'Chad']}) (input_keys={'claim'}): litellm.RateLimitError: RateLimitError: Together_aiException - Request was rejected due to request rate limiting. Your rate limits are 60 RPM (1 QPS) and 60000 TPM (1000 TPS). See details: https://docs.together.ai/docs/rate-limits. Set `provide_traceback=True` for traceback.\n"
     ]
    },
    {
     "name": "stdout",
     "output_type": "stream",
     "text": [
      "Average Metric: 4.67 / 6 (77.8%):   9%|▉         | 7/80 [00:17<02:37,  2.15s/it]"
     ]
    },
    {
     "name": "stderr",
     "output_type": "stream",
     "text": [
      "2025/07/19 17:43:09 ERROR dspy.utils.parallelizer: Error for Example({'claim': 'Lincoln Barrett is the real name of the welsh electronic music producer DJ who have been visited the night club  in Vienna hundreds of times. The Waves of Vienna festival takes place in the same nightclub.', 'titles': ['Flex (club)', 'Waves Vienna', 'High Contrast']}) (input_keys={'claim'}): litellm.RateLimitError: RateLimitError: Together_aiException - Request was rejected due to request rate limiting. Your rate limits are 60 RPM (1 QPS) and 60000 TPM (1000 TPS). See details: https://docs.together.ai/docs/rate-limits. Set `provide_traceback=True` for traceback.\n"
     ]
    },
    {
     "name": "stdout",
     "output_type": "stream",
     "text": [
      "Average Metric: 4.67 / 6 (77.8%):  10%|█         | 8/80 [00:17<01:56,  1.62s/it]"
     ]
    },
    {
     "name": "stderr",
     "output_type": "stream",
     "text": [
      "2025/07/19 17:43:09 ERROR dspy.utils.parallelizer: Error for Example({'claim': \"The defending champion who lost the Singles title at the 1994 Waldbaum's Hamlet Cup, and Max Mirnyi have both been tennis players.\", 'titles': ['Max Mirnyi', \"1994 Waldbaum's Hamlet Cup – Singles\", 'Marc Rosset']}) (input_keys={'claim'}): litellm.RateLimitError: RateLimitError: Together_aiException - Request was rejected due to request rate limiting. Your rate limits are 60 RPM (1 QPS) and 60000 TPM (1000 TPS). See details: https://docs.together.ai/docs/rate-limits. Set `provide_traceback=True` for traceback.\n"
     ]
    },
    {
     "name": "stdout",
     "output_type": "stream",
     "text": [
      "Average Metric: 5.67 / 7 (81.0%):  14%|█▍        | 11/80 [00:18<00:54,  1.26it/s]"
     ]
    },
    {
     "name": "stderr",
     "output_type": "stream",
     "text": [
      "2025/07/19 17:43:12 ERROR dspy.utils.parallelizer: Error for Example({'claim': \"The real life person that James Woods' character is based on in the television film was awarded the Medal of Honor. Steven Vincent Leigh appeared in this film in 1987.\", 'titles': ['James Stockdale', 'Steven Vincent Leigh', 'In Love and War (1987 film)']}) (input_keys={'claim'}): litellm.RateLimitError: RateLimitError: Together_aiException - Request was rejected due to request rate limiting. Your rate limits are 60 RPM (1 QPS) and 60000 TPM (1000 TPS). See details: https://docs.together.ai/docs/rate-limits. Set `provide_traceback=True` for traceback.\n"
     ]
    },
    {
     "name": "stdout",
     "output_type": "stream",
     "text": [
      "Average Metric: 6.00 / 8 (75.0%):  16%|█▋        | 13/80 [00:21<01:21,  1.22s/it]"
     ]
    },
    {
     "name": "stderr",
     "output_type": "stream",
     "text": [
      "2025/07/19 17:43:14 WARNING dspy.adapters.json_adapter: Failed to use structured output format, falling back to JSON mode.\n",
      "2025/07/19 17:43:14 WARNING dspy.adapters.json_adapter: Failed to use structured output format, falling back to JSON mode.\n",
      "2025/07/19 17:43:14 ERROR dspy.utils.parallelizer: Error for Example({'claim': 'Jonathan Howsmon Davis lives closer to Canada than this Japanese singer, whose fifth solo studio album is called Singing Bird.', 'titles': ['Koshi Inaba', 'Jonathan Davis', 'Singing Bird']}) (input_keys={'claim'}): litellm.RateLimitError: RateLimitError: Together_aiException - Request was rejected due to request rate limiting. Your rate limits are 60 RPM (1 QPS) and 60000 TPM (1000 TPS). See details: https://docs.together.ai/docs/rate-limits. Set `provide_traceback=True` for traceback.\n"
     ]
    },
    {
     "name": "stdout",
     "output_type": "stream",
     "text": [
      "Average Metric: 6.00 / 8 (75.0%):  18%|█▊        | 14/80 [00:22<01:12,  1.10s/it]"
     ]
    },
    {
     "name": "stderr",
     "output_type": "stream",
     "text": [
      "2025/07/19 17:43:15 ERROR dspy.utils.parallelizer: Error for Example({'claim': 'The summer 2016 romantic drama \"Me Before You\" is directed by Thea Sharrock. The star of the film The Lost Future (who also appears in The Hunger Games) stars as the character Will Traynor.', 'titles': ['The Lost Future', 'Me Before You (film)', 'Sam Claflin']}) (input_keys={'claim'}): Both structured output format and JSON mode failed. Please choose a model that supports `response_format` argument. Original error: litellm.RateLimitError: RateLimitError: Together_aiException - Request was rejected due to request rate limiting. Your rate limits are 60 RPM (1 QPS) and 60000 TPM (1000 TPS). See details: https://docs.together.ai/docs/rate-limits. Set `provide_traceback=True` for traceback.\n"
     ]
    },
    {
     "name": "stdout",
     "output_type": "stream",
     "text": [
      "Average Metric: 6.00 / 8 (75.0%):  19%|█▉        | 15/80 [00:23<01:09,  1.07s/it]"
     ]
    },
    {
     "name": "stderr",
     "output_type": "stream",
     "text": [
      "2025/07/19 17:43:15 WARNING dspy.adapters.json_adapter: Failed to use structured output format, falling back to JSON mode.\n"
     ]
    },
    {
     "name": "stdout",
     "output_type": "stream",
     "text": [
      "Average Metric: 6.67 / 9 (74.1%):  20%|██        | 16/80 [00:24<01:07,  1.05s/it]"
     ]
    },
    {
     "name": "stderr",
     "output_type": "stream",
     "text": [
      "2025/07/19 17:43:18 ERROR dspy.utils.parallelizer: Error for Example({'claim': '\"Licence Revoked\" was the original title during production of a war film that has the actor from Maniac Cop 2. The actor stars as villain Franz Sanchez in \"Licence Revoked\".', 'titles': ['Licence to Kill', 'Robert Davi', 'Maniac Cop 2']}) (input_keys={'claim'}): Adapter JSONAdapter failed to parse the LM response. \n",
      "\n",
      "LM Response: {\n",
      "  \"next_thought\": \"According to Wikipedia, the war film that featured an actor from \"         } \n",
      "\n",
      "Expected to find output fields in the LM response: [next_thought, next_tool_name, next_tool_args] \n",
      "\n",
      "Actual output fields parsed from the LM response: [next_thought] \n",
      "\n",
      ". Set `provide_traceback=True` for traceback.\n"
     ]
    },
    {
     "name": "stdout",
     "output_type": "stream",
     "text": [
      "Average Metric: 6.67 / 9 (74.1%):  21%|██▏       | 17/80 [00:26<01:23,  1.33s/it]"
     ]
    },
    {
     "name": "stderr",
     "output_type": "stream",
     "text": [
      "2025/07/19 17:43:22 ERROR dspy.utils.parallelizer: Error for Example({'claim': 'The city containing the Parafield railway station is very near the airport and the Mawson Lakes campus of the University of South Australia.', 'titles': ['Parafield, South Australia', 'Parafield railway station', 'Parafield Airport']}) (input_keys={'claim'}): Both structured output format and JSON mode failed. Please choose a model that supports `response_format` argument. Original error: litellm.RateLimitError: RateLimitError: Together_aiException - Request was rejected due to request rate limiting. Your rate limits are 60 RPM (1 QPS) and 60000 TPM (1000 TPS). See details: https://docs.together.ai/docs/rate-limits. Set `provide_traceback=True` for traceback.\n"
     ]
    },
    {
     "name": "stdout",
     "output_type": "stream",
     "text": [
      "Average Metric: 6.67 / 10 (66.7%):  24%|██▍       | 19/80 [00:30<01:26,  1.41s/it]"
     ]
    },
    {
     "name": "stderr",
     "output_type": "stream",
     "text": [
      "2025/07/19 17:43:25 ERROR dspy.utils.parallelizer: Error for Example({'claim': 'Mother Mother (song) was the last song by a female solo artist to top this chart until the song was the first song released by Lorde by New Zealand singer Lorde. Also to be released later on her debut studio album.', 'titles': ['Royals (song)', 'Mother Mother (song)', 'Tennis Court (song)']}) (input_keys={'claim'}): Both structured output format and JSON mode failed. Please choose a model that supports `response_format` argument. Original error: litellm.RateLimitError: RateLimitError: Together_aiException - Request was rejected due to request rate limiting. Your rate limits are 60 RPM (1 QPS) and 60000 TPM (1000 TPS). See details: https://docs.together.ai/docs/rate-limits. Set `provide_traceback=True` for traceback.\n"
     ]
    },
    {
     "name": "stdout",
     "output_type": "stream",
     "text": [
      "Average Metric: 7.00 / 11 (63.6%):  26%|██▋       | 21/80 [00:34<01:47,  1.82s/it]"
     ]
    },
    {
     "name": "stderr",
     "output_type": "stream",
     "text": [
      "2025/07/19 17:43:27 WARNING dspy.adapters.json_adapter: Failed to use structured output format, falling back to JSON mode.\n",
      "2025/07/19 17:43:28 ERROR dspy.utils.parallelizer: Error for Example({'claim': 'The actor, who played Spellingg Bee\" in \"That\\'s My Bush!\", from Stockton, CA appeared in Psych, an American detective comedy-drama television series created by Steve Franks.', 'titles': ['Kurt Fuller', \"That's My Bush!\", 'Psych']}) (input_keys={'claim'}): litellm.RateLimitError: RateLimitError: Together_aiException - Request was rejected due to request rate limiting. Your rate limits are 60 RPM (1 QPS) and 60000 TPM (1000 TPS). See details: https://docs.together.ai/docs/rate-limits. Set `provide_traceback=True` for traceback.\n"
     ]
    },
    {
     "name": "stdout",
     "output_type": "stream",
     "text": [
      "Average Metric: 8.33 / 13 (64.1%):  30%|███       | 24/80 [00:40<01:45,  1.88s/it]"
     ]
    },
    {
     "name": "stderr",
     "output_type": "stream",
     "text": [
      "2025/07/19 17:43:34 ERROR dspy.utils.parallelizer: Error for Example({'claim': 'This woman directed the 2005 Disney Channel Original Movie Go Figure whose soundtrack was released on June 7th. She also directed the comedy movie Sugar & Spice.', 'titles': ['Go Figure (film)', 'Sugar &amp; Spice', 'Francine McDougall']}) (input_keys={'claim'}): litellm.RateLimitError: RateLimitError: Together_aiException - Request was rejected due to request rate limiting. Your rate limits are 60 RPM (1 QPS) and 60000 TPM (1000 TPS). See details: https://docs.together.ai/docs/rate-limits. Set `provide_traceback=True` for traceback.\n"
     ]
    },
    {
     "name": "stdout",
     "output_type": "stream",
     "text": [
      "Average Metric: 8.33 / 13 (64.1%):  31%|███▏      | 25/80 [00:42<01:43,  1.88s/it]"
     ]
    },
    {
     "name": "stderr",
     "output_type": "stream",
     "text": [
      "2025/07/19 17:43:34 ERROR dspy.utils.parallelizer: Error for Example({'claim': 'This Greek poet was born before Cornel West. His works were translated to English by David Connolly.', 'titles': ['David Connolly (translator)', 'Odysseas Elytis', 'Cornel West']}) (input_keys={'claim'}): Both structured output format and JSON mode failed. Please choose a model that supports `response_format` argument. Original error: litellm.RateLimitError: RateLimitError: Together_aiException - Request was rejected due to request rate limiting. Your rate limits are 60 RPM (1 QPS) and 60000 TPM (1000 TPS). See details: https://docs.together.ai/docs/rate-limits. Set `provide_traceback=True` for traceback.\n"
     ]
    },
    {
     "name": "stdout",
     "output_type": "stream",
     "text": [
      "Average Metric: 8.33 / 13 (64.1%):  32%|███▎      | 26/80 [00:42<01:15,  1.39s/it]"
     ]
    },
    {
     "name": "stderr",
     "output_type": "stream",
     "text": [
      "2025/07/19 17:43:35 ERROR dspy.utils.parallelizer: Error for Example({'claim': 'An Greek actor who was a CIA operative in Chuck Versus the A-Team was born in 1974. The actor plays a character in commercials for Old Spice.', 'titles': ['Make a Smellmitment', 'Chuck Versus the A-Team', 'Isaiah Mustafa']}) (input_keys={'claim'}): litellm.RateLimitError: RateLimitError: Together_aiException - Request was rejected due to request rate limiting. Your rate limits are 60 RPM (1 QPS) and 60000 TPM (1000 TPS). See details: https://docs.together.ai/docs/rate-limits. Set `provide_traceback=True` for traceback.\n"
     ]
    },
    {
     "name": "stdout",
     "output_type": "stream",
     "text": [
      "Average Metric: 8.33 / 13 (64.1%):  34%|███▍      | 27/80 [00:42<00:57,  1.08s/it]"
     ]
    },
    {
     "name": "stderr",
     "output_type": "stream",
     "text": [
      "2025/07/19 17:43:35 ERROR dspy.utils.parallelizer: Error for Example({'claim': \"Daniel Boone's trail ran through Arcadia, Tennessee in 1775. This unofficial trail, which leads into Kentucky, was near one of locales of the Green-Jones War. It was turned down to become the National Road.\", 'titles': ['Wilderness Road', 'Arcadia, Tennessee', 'Greene–Jones War']}) (input_keys={'claim'}): litellm.RateLimitError: RateLimitError: Together_aiException - Request was rejected due to request rate limiting. Your rate limits are 60 RPM (1 QPS) and 60000 TPM (1000 TPS). See details: https://docs.together.ai/docs/rate-limits. Set `provide_traceback=True` for traceback.\n"
     ]
    },
    {
     "name": "stdout",
     "output_type": "stream",
     "text": [
      "Average Metric: 8.33 / 13 (64.1%):  35%|███▌      | 28/80 [00:43<00:44,  1.17it/s]"
     ]
    },
    {
     "name": "stderr",
     "output_type": "stream",
     "text": [
      "2025/07/19 17:43:36 ERROR dspy.utils.parallelizer: Error for Example({'claim': 'This character as featured in the comic book, Hellblazer Special: Bad Blood. He is  is the fictional antihero from comic books published by DC Comics, who sometimes acts as a cab driver, and was created by Alan Moore, Steve Bissette, and John Totleben.', 'titles': ['Chas Chandler (comics)', 'Hellblazer Special: Bad Blood', 'John Constantine']}) (input_keys={'claim'}): litellm.RateLimitError: RateLimitError: Together_aiException - Request was rejected due to request rate limiting. Your rate limits are 60 RPM (1 QPS) and 60000 TPM (1000 TPS). See details: https://docs.together.ai/docs/rate-limits. Set `provide_traceback=True` for traceback.\n"
     ]
    },
    {
     "name": "stdout",
     "output_type": "stream",
     "text": [
      "Average Metric: 8.33 / 13 (64.1%):  36%|███▋      | 29/80 [00:44<00:47,  1.07it/s]"
     ]
    },
    {
     "name": "stderr",
     "output_type": "stream",
     "text": [
      "2025/07/19 17:43:36 ERROR dspy.utils.parallelizer: Error for Example({'claim': 'The band Billy Anderson produces has the guitarist Gorden Mack, and the band Daughtry.', 'titles': ['Daughtry (band)', 'Billy Anderson (producer)', 'Red House Painters']}) (input_keys={'claim'}): litellm.RateLimitError: RateLimitError: Together_aiException - Request was rejected due to request rate limiting. Your rate limits are 60 RPM (1 QPS) and 60000 TPM (1000 TPS). See details: https://docs.together.ai/docs/rate-limits. Set `provide_traceback=True` for traceback.\n"
     ]
    },
    {
     "name": "stdout",
     "output_type": "stream",
     "text": [
      "Average Metric: 9.33 / 14 (66.7%):  39%|███▉      | 31/80 [00:49<01:29,  1.83s/it]"
     ]
    },
    {
     "name": "stderr",
     "output_type": "stream",
     "text": [
      "2025/07/19 17:43:41 WARNING dspy.adapters.json_adapter: Failed to use structured output format, falling back to JSON mode.\n",
      "2025/07/19 17:43:45 ERROR dspy.utils.parallelizer: Error for Example({'claim': 'This equatorial island is known for Breacachadh which is also known as Breachacha Castle. It is also home to Dùn Dubh.', 'titles': ['Dùn Dubh', 'Breachacha Castle', 'Coll']}) (input_keys={'claim'}): litellm.RateLimitError: RateLimitError: Together_aiException - Request was rejected due to request rate limiting. Your rate limits are 60 RPM (1 QPS) and 60000 TPM (1000 TPS). See details: https://docs.together.ai/docs/rate-limits. Set `provide_traceback=True` for traceback.\n"
     ]
    },
    {
     "name": "stdout",
     "output_type": "stream",
     "text": [
      "Average Metric: 10.00 / 15 (66.7%):  41%|████▏     | 33/80 [00:57<02:24,  3.06s/it]"
     ]
    },
    {
     "name": "stderr",
     "output_type": "stream",
     "text": [
      "2025/07/19 17:43:49 ERROR dspy.utils.parallelizer: Error for Example({'claim': \"The MTV show that was hosted by a member of this band, whom Street Music artist and American hip hop musician Defari was part of, was You Can't See Me.\", 'titles': ['Likwit Crew', 'Street Music', 'Xzibit']}) (input_keys={'claim'}): Both structured output format and JSON mode failed. Please choose a model that supports `response_format` argument. Original error: litellm.RateLimitError: RateLimitError: Together_aiException - Request was rejected due to request rate limiting. Your rate limits are 60 RPM (1 QPS) and 60000 TPM (1000 TPS). See details: https://docs.together.ai/docs/rate-limits. Set `provide_traceback=True` for traceback.\n"
     ]
    },
    {
     "name": "stdout",
     "output_type": "stream",
     "text": [
      "Average Metric: 10.00 / 15 (66.7%):  42%|████▎     | 34/80 [00:58<01:44,  2.28s/it]"
     ]
    },
    {
     "name": "stderr",
     "output_type": "stream",
     "text": [
      "2025/07/19 17:43:54 ERROR dspy.utils.parallelizer: Error for Example({'claim': 'The star of Nothing to Report and Gary Barlow have a profession in common.', 'titles': ['Gary Barlow', 'Chris Jericho', 'Nothing to Report']}) (input_keys={'claim'}): litellm.RateLimitError: RateLimitError: Together_aiException - Request was rejected due to request rate limiting. Your rate limits are 60 RPM (1 QPS) and 60000 TPM (1000 TPS). See details: https://docs.together.ai/docs/rate-limits. Set `provide_traceback=True` for traceback.\n"
     ]
    },
    {
     "name": "stdout",
     "output_type": "stream",
     "text": [
      "Average Metric: 10.00 / 15 (66.7%):  44%|████▍     | 35/80 [01:02<02:06,  2.80s/it]"
     ]
    },
    {
     "name": "stderr",
     "output_type": "stream",
     "text": [
      "2025/07/19 17:43:54 ERROR dspy.utils.parallelizer: Error for Example({'claim': 'This American composer composed Troubled Island. He was born in 1895 was married to his frequent collaborator Verna Arvey.', 'titles': ['William Grant Still', 'A Bayou Legend', 'Troubled Island']}) (input_keys={'claim'}): litellm.RateLimitError: RateLimitError: Together_aiException - Request was rejected due to request rate limiting. Your rate limits are 60 RPM (1 QPS) and 60000 TPM (1000 TPS). See details: https://docs.together.ai/docs/rate-limits. Set `provide_traceback=True` for traceback.\n"
     ]
    },
    {
     "name": "stdout",
     "output_type": "stream",
     "text": [
      "Average Metric: 10.00 / 15 (66.7%):  44%|████▍     | 35/80 [01:02<02:06,  2.80s/it]"
     ]
    },
    {
     "name": "stderr",
     "output_type": "stream",
     "text": [
      "2025/07/19 17:43:54 WARNING dspy.adapters.json_adapter: Failed to use structured output format, falling back to JSON mode.\n"
     ]
    },
    {
     "name": "stdout",
     "output_type": "stream",
     "text": [
      "Average Metric: 10.33 / 16 (64.6%):  46%|████▋     | 37/80 [01:03<01:23,  1.93s/it]"
     ]
    },
    {
     "name": "stderr",
     "output_type": "stream",
     "text": [
      "2025/07/19 17:43:56 ERROR dspy.utils.parallelizer: Error for Example({'claim': 'This series developer created T-Dog on the Walking Dead. He is the Hungarian-born US film director renowned for adapting Stephen King novellas to the screen, including The Mist and The Green Mile.', 'titles': ['The Mist (film)', 'Frank Darabont', 'T-Dog (The Walking Dead)']}) (input_keys={'claim'}): litellm.RateLimitError: RateLimitError: Together_aiException - Request was rejected due to request rate limiting. Your rate limits are 60 RPM (1 QPS) and 60000 TPM (1000 TPS). See details: https://docs.together.ai/docs/rate-limits. Set `provide_traceback=True` for traceback.\n"
     ]
    },
    {
     "name": "stdout",
     "output_type": "stream",
     "text": [
      "Average Metric: 10.33 / 16 (64.6%):  48%|████▊     | 38/80 [01:04<01:03,  1.51s/it]"
     ]
    },
    {
     "name": "stderr",
     "output_type": "stream",
     "text": [
      "2025/07/19 17:43:58 WARNING dspy.adapters.json_adapter: Failed to use structured output format, falling back to JSON mode.\n"
     ]
    },
    {
     "name": "stdout",
     "output_type": "stream",
     "text": [
      "Average Metric: 10.67 / 19 (56.1%):  51%|█████▏    | 41/80 [01:08<00:50,  1.30s/it]"
     ]
    },
    {
     "name": "stderr",
     "output_type": "stream",
     "text": [
      "2025/07/19 17:44:00 ERROR dspy.utils.parallelizer: Error for Example({'claim': 'Radiation Vibe is the first chart-topping single from the debut album of the band formed in 1995 that came out with an album called \"Welcome Interstate Managers\\'.', 'titles': [\"Stacy's Mom\", 'Fountains of Wayne', 'Radiation Vibe']}) (input_keys={'claim'}): litellm.RateLimitError: RateLimitError: Together_aiException - Request was rejected due to request rate limiting. Your rate limits are 60 RPM (1 QPS) and 60000 TPM (1000 TPS). See details: https://docs.together.ai/docs/rate-limits. Set `provide_traceback=True` for traceback.\n"
     ]
    },
    {
     "name": "stdout",
     "output_type": "stream",
     "text": [
      "Average Metric: 10.67 / 19 (56.1%):  52%|█████▎    | 42/80 [01:08<00:44,  1.16s/it]"
     ]
    },
    {
     "name": "stderr",
     "output_type": "stream",
     "text": [
      "2025/07/19 17:44:00 ERROR dspy.utils.parallelizer: Error for Example({'claim': 'Cork has several third level colleges including NMIO, the Crawford College of Art and Design and one other. The 2016 population of the county where the other school is located was 542,196.', 'titles': ['Education in Cork', 'National Maritime College of Ireland', 'County Cork']}) (input_keys={'claim'}): litellm.RateLimitError: RateLimitError: Together_aiException - Request was rejected due to request rate limiting. Your rate limits are 60 RPM (1 QPS) and 60000 TPM (1000 TPS). See details: https://docs.together.ai/docs/rate-limits. Set `provide_traceback=True` for traceback.\n"
     ]
    },
    {
     "name": "stdout",
     "output_type": "stream",
     "text": [
      "Average Metric: 12.00 / 21 (57.1%):  56%|█████▋    | 45/80 [01:10<00:29,  1.19it/s]"
     ]
    },
    {
     "name": "stderr",
     "output_type": "stream",
     "text": [
      "2025/07/19 17:44:04 WARNING dspy.adapters.json_adapter: Failed to use structured output format, falling back to JSON mode.\n"
     ]
    },
    {
     "name": "stdout",
     "output_type": "stream",
     "text": [
      "Average Metric: 12.67 / 25 (50.7%):  61%|██████▏   | 49/80 [01:16<00:45,  1.48s/it]"
     ]
    },
    {
     "name": "stderr",
     "output_type": "stream",
     "text": [
      "2025/07/19 17:44:08 ERROR dspy.utils.parallelizer: Error for Example({'claim': 'Avery Waddell is the director of the banned hardcore pornographic film War Dogs. and also directed the film Road Trip starring Breckin Meyer. Todd Phillip also directed a film starring Breckin Meyer.', 'titles': ['Avery Waddell', 'Todd Phillips', 'Road Trip (film)']}) (input_keys={'claim'}): Both structured output format and JSON mode failed. Please choose a model that supports `response_format` argument. Original error: litellm.RateLimitError: RateLimitError: Together_aiException - Request was rejected due to request rate limiting. Your rate limits are 60 RPM (1 QPS) and 60000 TPM (1000 TPS). See details: https://docs.together.ai/docs/rate-limits. Set `provide_traceback=True` for traceback.\n"
     ]
    },
    {
     "name": "stdout",
     "output_type": "stream",
     "text": [
      "Average Metric: 12.67 / 25 (50.7%):  62%|██████▎   | 50/80 [01:16<00:35,  1.19s/it]"
     ]
    },
    {
     "name": "stderr",
     "output_type": "stream",
     "text": [
      "2025/07/19 17:44:10 ERROR dspy.utils.parallelizer: Error for Example({'claim': 'The owner of Tatoosh (yacht) has a sister named Jo Lynn \"Jody\". He is an South African business magnate, investor and philanthropist.', 'titles': ['Jody Allen', 'Paul Allen', 'Tatoosh (yacht)']}) (input_keys={'claim'}): litellm.RateLimitError: RateLimitError: Together_aiException - Request was rejected due to request rate limiting. Your rate limits are 60 RPM (1 QPS) and 60000 TPM (1000 TPS). See details: https://docs.together.ai/docs/rate-limits. Set `provide_traceback=True` for traceback.\n"
     ]
    },
    {
     "name": "stdout",
     "output_type": "stream",
     "text": [
      "Average Metric: 12.67 / 25 (50.7%):  64%|██████▍   | 51/80 [01:18<00:37,  1.28s/it]"
     ]
    },
    {
     "name": "stderr",
     "output_type": "stream",
     "text": [
      "2025/07/19 17:44:10 ERROR dspy.utils.parallelizer: Error for Example({'claim': 'Danyang, Jiangusu and this city are both cities in China. This city was the birthplace of Chen Xiuke.', 'titles': ['Danyang, Jiangsu', 'Dongfang, Hainan', 'Chen Xiuke']}) (input_keys={'claim'}): litellm.RateLimitError: RateLimitError: Together_aiException - Request was rejected due to request rate limiting. Your rate limits are 60 RPM (1 QPS) and 60000 TPM (1000 TPS). See details: https://docs.together.ai/docs/rate-limits. Set `provide_traceback=True` for traceback.\n"
     ]
    },
    {
     "name": "stdout",
     "output_type": "stream",
     "text": [
      "Average Metric: 13.33 / 26 (51.3%):  66%|██████▋   | 53/80 [01:20<00:31,  1.18s/it]"
     ]
    },
    {
     "name": "stderr",
     "output_type": "stream",
     "text": [
      "2025/07/19 17:44:14 ERROR dspy.utils.parallelizer: Error for Example({'claim': 'Candlelight Red the musical group has released twice as many albums as the band who also performs as One Unique Signal.', 'titles': ['Candlelight Red', 'The Telescopes', 'One Unique Signal']}) (input_keys={'claim'}): litellm.RateLimitError: RateLimitError: Together_aiException - Request was rejected due to request rate limiting. Your rate limits are 60 RPM (1 QPS) and 60000 TPM (1000 TPS). See details: https://docs.together.ai/docs/rate-limits. Set `provide_traceback=True` for traceback.\n"
     ]
    },
    {
     "name": "stdout",
     "output_type": "stream",
     "text": [
      "Average Metric: 14.00 / 27 (51.9%):  69%|██████▉   | 55/80 [01:23<00:28,  1.16s/it]"
     ]
    },
    {
     "name": "stderr",
     "output_type": "stream",
     "text": [
      "2025/07/19 17:44:15 ERROR dspy.utils.parallelizer: Error for Example({'claim': 'Sophia Grace & Rosie featured a cover song on their Youtube channel. The pop song from is from an album released under the Syco Music and Columbia Records labels.', 'titles': ['Touch (Little Mix song)', 'Glory Days (Little Mix album)', 'Sophia Grace &amp; Rosie']}) (input_keys={'claim'}): Adapter JSONAdapter failed to parse the LM response. \n",
      "\n",
      "LM Response: {\n",
      "  \"next_thought\": \"The song featured on Sophia Grace & Rosie's YouTube channel is likely a cover song, and it is from an album released under the Syco Music and Columbia Records labels. I need to identify the exact song and artist. From Wikipedia, I found that a song called \"   ,   \" was released by Grace VanderWaal under Syco Music and Columbia Records. I will look up more information about this song, but it seems like it might be the correct song, so I will proceed with finishing the task for now. However, upon reviewing the Wikipedia results, I noticed it's unclear if this song is a cover of another song, so I should confirm by looking up if there is any evidence of the song being a cover of another song. I should also look up if there is any other song that could be the correct song. However, based on the lack of other results and the fact that the song is from Syco Music and Columbia Records, I am fairly certain this is the correct song. I should also look up if there are any other songs that could be a cover of this song, but it seems like it is unlikely. I will proceed with finishing the task for now and confirm by looking up if there are any other songs that could be a cover of this song. I'll start by looking for information on whether the song is a cover of another song and if there are any other songs that could be the correct song.  The artist of the song is Grace VanderWaal and I need to find the album that the song is from. I will start by searching for the album that the song \"    :\"\"\n",
      "  } \n",
      "\n",
      "Expected to find output fields in the LM response: [next_thought, next_tool_name, next_tool_args] \n",
      "\n",
      "Actual output fields parsed from the LM response: [next_thought] \n",
      "\n",
      ". Set `provide_traceback=True` for traceback.\n"
     ]
    },
    {
     "name": "stdout",
     "output_type": "stream",
     "text": [
      "Average Metric: 14.00 / 27 (51.9%):  70%|███████   | 56/80 [01:23<00:20,  1.17it/s]"
     ]
    },
    {
     "name": "stderr",
     "output_type": "stream",
     "text": [
      "2025/07/19 17:44:18 WARNING dspy.adapters.json_adapter: Failed to use structured output format, falling back to JSON mode.\n",
      "2025/07/19 17:44:19 ERROR dspy.utils.parallelizer: Error for Example({'claim': 'The novelist that wrote The Watchful Gods and Other Stories is Californian. Billie Letts is also Californian.', 'titles': ['Walter Van Tilburg Clark', 'The Watchful Gods and Other Stories', 'Billie Letts']}) (input_keys={'claim'}): litellm.RateLimitError: RateLimitError: Together_aiException - Request was rejected due to request rate limiting. Your rate limits are 60 RPM (1 QPS) and 60000 TPM (1000 TPS). See details: https://docs.together.ai/docs/rate-limits. Set `provide_traceback=True` for traceback.\n"
     ]
    },
    {
     "name": "stdout",
     "output_type": "stream",
     "text": [
      "Average Metric: 14.67 / 28 (52.4%):  72%|███████▎  | 58/80 [01:28<00:39,  1.79s/it]"
     ]
    },
    {
     "name": "stderr",
     "output_type": "stream",
     "text": [
      "2025/07/19 17:44:21 WARNING dspy.adapters.json_adapter: Failed to use structured output format, falling back to JSON mode.\n",
      "2025/07/19 17:44:21 WARNING dspy.adapters.json_adapter: Failed to use structured output format, falling back to JSON mode.\n"
     ]
    },
    {
     "name": "stdout",
     "output_type": "stream",
     "text": [
      "Average Metric: 14.67 / 29 (50.6%):  74%|███████▍  | 59/80 [01:33<00:54,  2.57s/it]"
     ]
    },
    {
     "name": "stderr",
     "output_type": "stream",
     "text": [
      "2025/07/19 17:44:25 ERROR dspy.utils.parallelizer: Error for Example({'claim': 'Brady Seals has released more solo albums than the rapper who Avril Lavigne featured on the song Get Over Me with.', 'titles': ['Nick Carter (musician)', 'Brady Seals', 'Get Over Me']}) (input_keys={'claim'}): litellm.RateLimitError: RateLimitError: Together_aiException - Request was rejected due to request rate limiting. Your rate limits are 60 RPM (1 QPS) and 60000 TPM (1000 TPS). See details: https://docs.together.ai/docs/rate-limits. Set `provide_traceback=True` for traceback.\n"
     ]
    },
    {
     "name": "stdout",
     "output_type": "stream",
     "text": [
      "Average Metric: 15.67 / 31 (50.5%):  76%|███████▋  | 61/80 [01:35<00:34,  1.81s/it]"
     ]
    },
    {
     "name": "stderr",
     "output_type": "stream",
     "text": [
      "2025/07/19 17:44:28 ERROR dspy.utils.parallelizer: Error for Example({'claim': \"Tom Kristensen won the Nation's Cup with Petter Solberg in Bushy Park, Barbados in August 1993. He also won the 24 Hours of Le Mans nine times.\", 'titles': ['Tom Kristensen (racing driver)', 'Bushy Park, Barbados', '2014 Race of Champions']}) (input_keys={'claim'}): Both structured output format and JSON mode failed. Please choose a model that supports `response_format` argument. Original error: litellm.RateLimitError: RateLimitError: Together_aiException - Request was rejected due to request rate limiting. Your rate limits are 60 RPM (1 QPS) and 60000 TPM (1000 TPS). See details: https://docs.together.ai/docs/rate-limits. Set `provide_traceback=True` for traceback.\n"
     ]
    },
    {
     "name": "stdout",
     "output_type": "stream",
     "text": [
      "Average Metric: 15.67 / 31 (50.5%):  79%|███████▉  | 63/80 [01:36<00:22,  1.32s/it]"
     ]
    },
    {
     "name": "stderr",
     "output_type": "stream",
     "text": [
      "2025/07/19 17:44:29 ERROR dspy.utils.parallelizer: Error for Example({'claim': 'Helen Mirren, a client of the designer who designed the wedding dress of Sarah Ferguson, played Lindka in \"The Queen\".', 'titles': ['Wedding dress of Sarah Ferguson', 'Lindka Cierach', 'Helen Mirren']}) (input_keys={'claim'}): litellm.RateLimitError: RateLimitError: Together_aiException - Request was rejected due to request rate limiting. Your rate limits are 60 RPM (1 QPS) and 60000 TPM (1000 TPS). See details: https://docs.together.ai/docs/rate-limits. Set `provide_traceback=True` for traceback.\n"
     ]
    },
    {
     "name": "stdout",
     "output_type": "stream",
     "text": [
      "Average Metric: 15.67 / 31 (50.5%):  80%|████████  | 64/80 [01:37<00:18,  1.13s/it]"
     ]
    },
    {
     "name": "stderr",
     "output_type": "stream",
     "text": [
      "2025/07/19 17:44:31 ERROR dspy.utils.parallelizer: Error for Example({'claim': 'The director of The Moth Diaries (born January 12, 1953) was a French Canadian filmmaker who created a film about Bettie Page in 2005.', 'titles': ['The Moth Diaries (film)', 'Mary Harron', 'The Notorious Bettie Page']}) (input_keys={'claim'}): Both structured output format and JSON mode failed. Please choose a model that supports `response_format` argument. Original error: litellm.RateLimitError: RateLimitError: Together_aiException - Request was rejected due to request rate limiting. Your rate limits are 60 RPM (1 QPS) and 60000 TPM (1000 TPS). See details: https://docs.together.ai/docs/rate-limits. Set `provide_traceback=True` for traceback.\n"
     ]
    },
    {
     "name": "stdout",
     "output_type": "stream",
     "text": [
      "Average Metric: 16.33 / 32 (51.0%):  82%|████████▎ | 66/80 [01:41<00:21,  1.55s/it]"
     ]
    },
    {
     "name": "stderr",
     "output_type": "stream",
     "text": [
      "2025/07/19 17:44:35 ERROR dspy.utils.parallelizer: Error for Example({'claim': \"The star of Spaceball's most renouwned onscreen performance was as Dell Griffith. He was in an Canadian comedy film from 1987.\", 'titles': ['Spaceballs', 'Planes, Trains and Automobiles', 'John Candy']}) (input_keys={'claim'}): litellm.RateLimitError: RateLimitError: Together_aiException - Request was rejected due to request rate limiting. Your rate limits are 60 RPM (1 QPS) and 60000 TPM (1000 TPS). See details: https://docs.together.ai/docs/rate-limits. Set `provide_traceback=True` for traceback.\n"
     ]
    },
    {
     "name": "stdout",
     "output_type": "stream",
     "text": [
      "Average Metric: 16.33 / 32 (51.0%):  84%|████████▍ | 67/80 [01:42<00:20,  1.56s/it]"
     ]
    },
    {
     "name": "stderr",
     "output_type": "stream",
     "text": [
      "2025/07/19 17:44:35 ERROR dspy.utils.parallelizer: Error for Example({'claim': 'There are top three sections for the hockey meeting JC Lipon placed 91st overall in. Of the top three, the one who is both a American professional ice hockey forward and an alternate captain of the Colorado Avalanche organization of the National Hockey League is Nathan MacKinnon.', 'titles': ['2013 NHL Entry Draft', 'Nathan MacKinnon', 'JC Lipon']}) (input_keys={'claim'}): litellm.RateLimitError: RateLimitError: Together_aiException - Request was rejected due to request rate limiting. Your rate limits are 60 RPM (1 QPS) and 60000 TPM (1000 TPS). See details: https://docs.together.ai/docs/rate-limits. Set `provide_traceback=True` for traceback.\n"
     ]
    },
    {
     "name": "stdout",
     "output_type": "stream",
     "text": [
      "Average Metric: 16.33 / 32 (51.0%):  85%|████████▌ | 68/80 [01:43<00:15,  1.32s/it]"
     ]
    },
    {
     "name": "stderr",
     "output_type": "stream",
     "text": [
      "2025/07/19 17:44:37 WARNING dspy.adapters.json_adapter: Failed to use structured output format, falling back to JSON mode.\n"
     ]
    },
    {
     "name": "stdout",
     "output_type": "stream",
     "text": [
      "Average Metric: 17.00 / 33 (51.5%):  86%|████████▋ | 69/80 [01:47<00:22,  2.09s/it]"
     ]
    },
    {
     "name": "stderr",
     "output_type": "stream",
     "text": [
      "2025/07/19 17:44:39 ERROR dspy.utils.parallelizer: Error for Example({'claim': 'An actor was in the film, Focus, that was directed by Glenn Ficarra. This actor was also in the 2016 film \"White Girl\".', 'titles': ['Adrian Martinez (actor)', 'Focus (2015 film)', 'White Girl (2016 film)']}) (input_keys={'claim'}): litellm.RateLimitError: RateLimitError: Together_aiException - Request was rejected due to request rate limiting. Your rate limits are 60 RPM (1 QPS) and 60000 TPM (1000 TPS). See details: https://docs.together.ai/docs/rate-limits. Set `provide_traceback=True` for traceback.\n"
     ]
    },
    {
     "name": "stdout",
     "output_type": "stream",
     "text": [
      "Average Metric: 17.00 / 33 (51.5%):  86%|████████▋ | 69/80 [01:47<00:22,  2.09s/it]"
     ]
    },
    {
     "name": "stderr",
     "output_type": "stream",
     "text": [
      "2025/07/19 17:44:43 ERROR dspy.utils.parallelizer: Error for Example({'claim': 'Grand Forks International Airport is closer to the town it is near, than the airport close by to The Texas Air & Space Museum.', 'titles': ['Texas Air &amp; Space Museum', 'Rick Husband Amarillo International Airport', 'Grand Forks International Airport']}) (input_keys={'claim'}): litellm.RateLimitError: RateLimitError: Together_aiException - Request was rejected due to request rate limiting. Your rate limits are 60 RPM (1 QPS) and 60000 TPM (1000 TPS). See details: https://docs.together.ai/docs/rate-limits. Set `provide_traceback=True` for traceback.\n"
     ]
    },
    {
     "name": "stdout",
     "output_type": "stream",
     "text": [
      "Average Metric: 17.00 / 34 (50.0%):  90%|█████████ | 72/80 [01:51<00:13,  1.64s/it]"
     ]
    },
    {
     "name": "stderr",
     "output_type": "stream",
     "text": [
      "2025/07/19 17:44:44 ERROR dspy.utils.parallelizer: Error for Example({'claim': \"The owner of Viva (UK and Ireland) changed it's name in late 2004. Their new acronym stand for Gesellschaft mit beschränkter Haftung.\", 'titles': ['Gesellschaft mit beschränkter Haftung', 'Viva (UK and Ireland)', 'VIVA Media']}) (input_keys={'claim'}): litellm.RateLimitError: RateLimitError: Together_aiException - Request was rejected due to request rate limiting. Your rate limits are 60 RPM (1 QPS) and 60000 TPM (1000 TPS). See details: https://docs.together.ai/docs/rate-limits. Set `provide_traceback=True` for traceback.\n"
     ]
    },
    {
     "name": "stdout",
     "output_type": "stream",
     "text": [
      "Average Metric: 17.00 / 35 (48.6%):  92%|█████████▎| 74/80 [01:54<00:08,  1.45s/it]"
     ]
    },
    {
     "name": "stderr",
     "output_type": "stream",
     "text": [
      "2025/07/19 17:44:46 WARNING dspy.adapters.json_adapter: Failed to use structured output format, falling back to JSON mode.\n",
      "2025/07/19 17:44:46 ERROR dspy.utils.parallelizer: Error for Example({'claim': 'Ellesmere Port Town Football Club are currently members of the league, whose current principal sponsor is the Football Conference, that Ford Motors F.C. is a part of.', 'titles': ['Ford Motors F.C.', 'West Cheshire Association Football League', 'Ellesmere Port Town F.C.']}) (input_keys={'claim'}): litellm.RateLimitError: RateLimitError: Together_aiException - Request was rejected due to request rate limiting. Your rate limits are 60 RPM (1 QPS) and 60000 TPM (1000 TPS). See details: https://docs.together.ai/docs/rate-limits. Set `provide_traceback=True` for traceback.\n"
     ]
    },
    {
     "name": "stdout",
     "output_type": "stream",
     "text": [
      "Average Metric: 18.67 / 40 (46.7%): 100%|██████████| 80/80 [02:06<00:00,  1.58s/it]"
     ]
    },
    {
     "name": "stderr",
     "output_type": "stream",
     "text": [
      "2025/07/19 17:44:58 INFO dspy.evaluate.evaluate: Average Metric: 18.66666666666666 / 80 (23.3%)\n",
      "2025/07/19 17:44:58 INFO dspy.teleprompt.mipro_optimizer_v2: \u001b[92mNew best full eval score!\u001b[0m Score: 23.33\n",
      "2025/07/19 17:44:58 INFO dspy.teleprompt.mipro_optimizer_v2: Full eval scores so far: [2.08, 22.08, 15.83, 23.33]\n",
      "2025/07/19 17:44:58 INFO dspy.teleprompt.mipro_optimizer_v2: Best full score so far: 23.33\n",
      "2025/07/19 17:44:58 INFO dspy.teleprompt.mipro_optimizer_v2: =======================\n",
      "2025/07/19 17:44:58 INFO dspy.teleprompt.mipro_optimizer_v2: \n",
      "\n",
      "2025/07/19 17:44:58 INFO dspy.teleprompt.mipro_optimizer_v2: == Trial 20 / 35 - Minibatch ==\n"
     ]
    },
    {
     "name": "stdout",
     "output_type": "stream",
     "text": [
      "\n",
      "  0%|          | 0/35 [00:00<?, ?it/s]"
     ]
    },
    {
     "name": "stderr",
     "output_type": "stream",
     "text": [
      "2025/07/19 17:45:14 ERROR dspy.utils.parallelizer: Error for Example({'claim': '\"Licence Revoked\" was the original title during production of a war film that has the actor from Maniac Cop 2. The actor stars as villain Franz Sanchez in \"Licence Revoked\".', 'titles': ['Licence to Kill', 'Robert Davi', 'Maniac Cop 2']}) (input_keys={'claim'}): litellm.RateLimitError: RateLimitError: Together_aiException - Request was rejected due to request rate limiting. Your rate limits are 60 RPM (1 QPS) and 60000 TPM (1000 TPS). See details: https://docs.together.ai/docs/rate-limits. Set `provide_traceback=True` for traceback.\n"
     ]
    },
    {
     "name": "stdout",
     "output_type": "stream",
     "text": [
      "Average Metric: 0.00 / 0 (0%):   3%|▎         | 1/35 [00:15<08:50, 15.59s/it]"
     ]
    },
    {
     "name": "stderr",
     "output_type": "stream",
     "text": [
      "2025/07/19 17:45:14 ERROR dspy.utils.parallelizer: Error for Example({'claim': 'This character as featured in the comic book, Hellblazer Special: Bad Blood. He is  is the fictional antihero from comic books published by DC Comics, who sometimes acts as a cab driver, and was created by Alan Moore, Steve Bissette, and John Totleben.', 'titles': ['Chas Chandler (comics)', 'Hellblazer Special: Bad Blood', 'John Constantine']}) (input_keys={'claim'}): litellm.RateLimitError: RateLimitError: Together_aiException - Request was rejected due to request rate limiting. Your rate limits are 60 RPM (1 QPS) and 60000 TPM (1000 TPS). See details: https://docs.together.ai/docs/rate-limits. Set `provide_traceback=True` for traceback.\n"
     ]
    },
    {
     "name": "stdout",
     "output_type": "stream",
     "text": [
      "Average Metric: 0.00 / 0 (0%):   3%|▎         | 1/35 [00:15<08:50, 15.59s/it]"
     ]
    },
    {
     "name": "stderr",
     "output_type": "stream",
     "text": [
      "2025/07/19 17:45:14 ERROR dspy.utils.parallelizer: Error for Example({'claim': 'The city containing the Parafield railway station is very near the airport and the Mawson Lakes campus of the University of South Australia.', 'titles': ['Parafield, South Australia', 'Parafield railway station', 'Parafield Airport']}) (input_keys={'claim'}): litellm.RateLimitError: RateLimitError: Together_aiException - Request was rejected due to request rate limiting. Your rate limits are 60 RPM (1 QPS) and 60000 TPM (1000 TPS). See details: https://docs.together.ai/docs/rate-limits. Set `provide_traceback=True` for traceback.\n"
     ]
    },
    {
     "name": "stdout",
     "output_type": "stream",
     "text": [
      "Average Metric: 0.00 / 0 (0%):   9%|▊         | 3/35 [00:15<02:10,  4.09s/it]"
     ]
    },
    {
     "name": "stderr",
     "output_type": "stream",
     "text": [
      "2025/07/19 17:45:14 ERROR dspy.utils.parallelizer: Error for Example({'claim': 'The American actress voices a character in King of the Hill, which is also American. She also wrote the song Tiggy is famous for remixing.', 'titles': ['Sandy Fox', 'King of the Hill', 'Tiggy']}) (input_keys={'claim'}): litellm.RateLimitError: RateLimitError: Together_aiException - Request was rejected due to request rate limiting. Your rate limits are 60 RPM (1 QPS) and 60000 TPM (1000 TPS). See details: https://docs.together.ai/docs/rate-limits. Set `provide_traceback=True` for traceback.\n"
     ]
    },
    {
     "name": "stdout",
     "output_type": "stream",
     "text": [
      "Average Metric: 0.00 / 0 (0%):   9%|▊         | 3/35 [00:15<02:10,  4.09s/it]"
     ]
    },
    {
     "name": "stderr",
     "output_type": "stream",
     "text": [
      "2025/07/19 17:45:14 ERROR dspy.utils.parallelizer: Error for Example({'claim': 'The college which the Charleston architect, hired to remodel Louis Gourd House, taught at was founded in 1770.', 'titles': ['College of Charleston', 'Louis Gourd House', 'Albert Simons']}) (input_keys={'claim'}): litellm.RateLimitError: RateLimitError: Together_aiException - Request was rejected due to request rate limiting. Your rate limits are 60 RPM (1 QPS) and 60000 TPM (1000 TPS). See details: https://docs.together.ai/docs/rate-limits. Set `provide_traceback=True` for traceback.\n"
     ]
    },
    {
     "name": "stdout",
     "output_type": "stream",
     "text": [
      "Average Metric: 0.00 / 0 (0%):  14%|█▍        | 5/35 [00:16<01:01,  2.06s/it]"
     ]
    },
    {
     "name": "stderr",
     "output_type": "stream",
     "text": [
      "2025/07/19 17:45:14 ERROR dspy.utils.parallelizer: Error for Example({'claim': 'Archers of Loaf is an indie band. The band who had a song called Shelf in the Room is not.', 'titles': ['Days of the New', 'Archers of Loaf', 'Shelf in the Room']}) (input_keys={'claim'}): litellm.RateLimitError: RateLimitError: Together_aiException - Request was rejected due to request rate limiting. Your rate limits are 60 RPM (1 QPS) and 60000 TPM (1000 TPS). See details: https://docs.together.ai/docs/rate-limits. Set `provide_traceback=True` for traceback.\n"
     ]
    },
    {
     "name": "stdout",
     "output_type": "stream",
     "text": [
      "Average Metric: 0.00 / 0 (0%):  14%|█▍        | 5/35 [00:16<01:01,  2.06s/it]"
     ]
    },
    {
     "name": "stderr",
     "output_type": "stream",
     "text": [
      "2025/07/19 17:45:14 ERROR dspy.utils.parallelizer: Error for Example({'claim': 'Mother Mother (song) was the last song by a female solo artist to top this chart until the song was the first song released by Lorde by New Zealand singer Lorde. Also to be released later on her debut studio album.', 'titles': ['Royals (song)', 'Mother Mother (song)', 'Tennis Court (song)']}) (input_keys={'claim'}): litellm.RateLimitError: RateLimitError: Together_aiException - Request was rejected due to request rate limiting. Your rate limits are 60 RPM (1 QPS) and 60000 TPM (1000 TPS). See details: https://docs.together.ai/docs/rate-limits. Set `provide_traceback=True` for traceback.\n"
     ]
    },
    {
     "name": "stdout",
     "output_type": "stream",
     "text": [
      "Average Metric: 0.00 / 0 (0%):  20%|██        | 7/35 [00:16<00:35,  1.27s/it]"
     ]
    },
    {
     "name": "stderr",
     "output_type": "stream",
     "text": [
      "2025/07/19 17:45:15 ERROR dspy.utils.parallelizer: Error for Example({'claim': 'The elder sister of the actress that played Margaret Devlin in  The Oregon Trail (TV series) is best known for her role as the eldest Von Trapp daughter in \"Liesl\".', 'titles': ['Darleen Carr', 'The Oregon Trail (TV series)', 'Charmian Carr']}) (input_keys={'claim'}): litellm.RateLimitError: RateLimitError: Together_aiException - Request was rejected due to request rate limiting. Your rate limits are 60 RPM (1 QPS) and 60000 TPM (1000 TPS). See details: https://docs.together.ai/docs/rate-limits. Set `provide_traceback=True` for traceback.\n"
     ]
    },
    {
     "name": "stdout",
     "output_type": "stream",
     "text": [
      "Average Metric: 0.00 / 0 (0%):  23%|██▎       | 8/35 [00:17<00:33,  1.23s/it]"
     ]
    },
    {
     "name": "stderr",
     "output_type": "stream",
     "text": [
      "2025/07/19 17:45:16 ERROR dspy.utils.parallelizer: Error for Example({'claim': 'Dairy Farm International holdings is a member of a British company. This British company whose majority of business interests are in Asia is related to the London Based Trading house Matheson & Company.', 'titles': ['Dairy Farm International Holdings', 'Matheson &amp; Company', 'Jardine Matheson']}) (input_keys={'claim'}): litellm.RateLimitError: RateLimitError: Together_aiException - Request was rejected due to request rate limiting. Your rate limits are 60 RPM (1 QPS) and 60000 TPM (1000 TPS). See details: https://docs.together.ai/docs/rate-limits. Set `provide_traceback=True` for traceback.\n"
     ]
    },
    {
     "name": "stdout",
     "output_type": "stream",
     "text": [
      "Average Metric: 0.00 / 0 (0%):  26%|██▌       | 9/35 [00:18<00:28,  1.10s/it]"
     ]
    },
    {
     "name": "stderr",
     "output_type": "stream",
     "text": [
      "2025/07/19 17:45:20 ERROR dspy.utils.parallelizer: Error for Example({'claim': \"The real life person that James Woods' character is based on in the television film was awarded the Medal of Honor. Steven Vincent Leigh appeared in this film in 1987.\", 'titles': ['James Stockdale', 'Steven Vincent Leigh', 'In Love and War (1987 film)']}) (input_keys={'claim'}): litellm.RateLimitError: RateLimitError: Together_aiException - Request was rejected due to request rate limiting. Your rate limits are 60 RPM (1 QPS) and 60000 TPM (1000 TPS). See details: https://docs.together.ai/docs/rate-limits. Set `provide_traceback=True` for traceback.\n"
     ]
    },
    {
     "name": "stdout",
     "output_type": "stream",
     "text": [
      "Average Metric: 0.00 / 0 (0%):  29%|██▊       | 10/35 [00:22<00:48,  1.92s/it]"
     ]
    },
    {
     "name": "stderr",
     "output_type": "stream",
     "text": [
      "2025/07/19 17:45:21 ERROR dspy.utils.parallelizer: Error for Example({'claim': 'Lari Michele White is the county music artist that first gained national attention as a winner on \"You Can Be a Star\". She then went on to provide background vocals on the first single of the album, Now and Then.', 'titles': ['Lari White', 'Take It Like a Man (Michelle Wright song)', 'Now and Then (Michelle Wright album)']}) (input_keys={'claim'}): litellm.RateLimitError: RateLimitError: Together_aiException - Request was rejected due to request rate limiting. Your rate limits are 60 RPM (1 QPS) and 60000 TPM (1000 TPS). See details: https://docs.together.ai/docs/rate-limits. Set `provide_traceback=True` for traceback.\n"
     ]
    },
    {
     "name": "stdout",
     "output_type": "stream",
     "text": [
      "Average Metric: 0.33 / 1 (33.3%):  34%|███▍      | 12/35 [00:24<00:36,  1.59s/it]"
     ]
    },
    {
     "name": "stderr",
     "output_type": "stream",
     "text": [
      "2025/07/19 17:45:23 ERROR dspy.utils.parallelizer: Error for Example({'claim': 'Fredric March costarred in 1935 Australian drama film that Frances Drake is best know for, with the husband of Elsa Lanchester.', 'titles': ['Frances Drake', 'Charles Laughton', 'Les Misérables (1935 film)']}) (input_keys={'claim'}): litellm.RateLimitError: RateLimitError: Together_aiException - Request was rejected due to request rate limiting. Your rate limits are 60 RPM (1 QPS) and 60000 TPM (1000 TPS). See details: https://docs.together.ai/docs/rate-limits. Set `provide_traceback=True` for traceback.\n"
     ]
    },
    {
     "name": "stdout",
     "output_type": "stream",
     "text": [
      "Average Metric: 0.33 / 1 (33.3%):  37%|███▋      | 13/35 [00:24<00:26,  1.19s/it]"
     ]
    },
    {
     "name": "stderr",
     "output_type": "stream",
     "text": [
      "2025/07/19 17:45:28 ERROR dspy.utils.parallelizer: Error for Example({'claim': 'The player who teamed up with Elena Bovina for the  2003 Family Circle Cup – Doubles. Her and Renáta Tomanová were both tennis players.', 'titles': ['2003 Family Circle Cup – Doubles', 'Rennae Stubbs', 'Renáta Tomanová']}) (input_keys={'claim'}): litellm.RateLimitError: RateLimitError: Together_aiException - Request was rejected due to request rate limiting. Your rate limits are 60 RPM (1 QPS) and 60000 TPM (1000 TPS). See details: https://docs.together.ai/docs/rate-limits. Set `provide_traceback=True` for traceback.\n"
     ]
    },
    {
     "name": "stdout",
     "output_type": "stream",
     "text": [
      "Average Metric: 0.33 / 1 (33.3%):  40%|████      | 14/35 [00:30<00:50,  2.40s/it]"
     ]
    },
    {
     "name": "stderr",
     "output_type": "stream",
     "text": [
      "2025/07/19 17:45:30 ERROR dspy.utils.parallelizer: Error for Example({'claim': 'Anthony Sandler is the Chief of Pediatric Surgery at a large hospital. MedStar Washington Hospital Center is the largest private hospital in Washington, D.C. not this hospital.', 'titles': ['MedStar Washington Hospital Center', \"Children's National Medical Center\", 'Anthony Sandler']}) (input_keys={'claim'}): litellm.RateLimitError: RateLimitError: Together_aiException - Request was rejected due to request rate limiting. Your rate limits are 60 RPM (1 QPS) and 60000 TPM (1000 TPS). See details: https://docs.together.ai/docs/rate-limits. Set `provide_traceback=True` for traceback.\n"
     ]
    },
    {
     "name": "stdout",
     "output_type": "stream",
     "text": [
      "Average Metric: 0.33 / 1 (33.3%):  43%|████▎     | 15/35 [00:32<00:48,  2.41s/it]"
     ]
    },
    {
     "name": "stderr",
     "output_type": "stream",
     "text": [
      "2025/07/19 17:45:31 ERROR dspy.utils.parallelizer: Error for Example({'claim': 'Sophia Grace & Rosie featured a cover song on their Youtube channel. The pop song from is from an album released under the Syco Music and Columbia Records labels.', 'titles': ['Touch (Little Mix song)', 'Glory Days (Little Mix album)', 'Sophia Grace &amp; Rosie']}) (input_keys={'claim'}): litellm.RateLimitError: RateLimitError: Together_aiException - Request was rejected due to request rate limiting. Your rate limits are 60 RPM (1 QPS) and 60000 TPM (1000 TPS). See details: https://docs.together.ai/docs/rate-limits. Set `provide_traceback=True` for traceback.\n"
     ]
    },
    {
     "name": "stdout",
     "output_type": "stream",
     "text": [
      "Average Metric: 0.33 / 1 (33.3%):  43%|████▎     | 15/35 [00:32<00:48,  2.41s/it]"
     ]
    },
    {
     "name": "stderr",
     "output_type": "stream",
     "text": [
      "2025/07/19 17:45:31 ERROR dspy.utils.parallelizer: Error for Example({'claim': 'Candlelight Red the musical group has released twice as many albums as the band who also performs as One Unique Signal.', 'titles': ['Candlelight Red', 'The Telescopes', 'One Unique Signal']}) (input_keys={'claim'}): litellm.RateLimitError: RateLimitError: Together_aiException - Request was rejected due to request rate limiting. Your rate limits are 60 RPM (1 QPS) and 60000 TPM (1000 TPS). See details: https://docs.together.ai/docs/rate-limits. Set `provide_traceback=True` for traceback.\n"
     ]
    },
    {
     "name": "stdout",
     "output_type": "stream",
     "text": [
      "Average Metric: 0.33 / 1 (33.3%):  46%|████▌     | 16/35 [00:32<00:34,  1.80s/it]"
     ]
    },
    {
     "name": "stderr",
     "output_type": "stream",
     "text": [
      "2025/07/19 17:45:37 ERROR dspy.utils.parallelizer: Error for Example({'claim': 'Jonathan Howsmon Davis lives closer to Canada than this Japanese singer, whose fifth solo studio album is called Singing Bird.', 'titles': ['Koshi Inaba', 'Jonathan Davis', 'Singing Bird']}) (input_keys={'claim'}): litellm.RateLimitError: RateLimitError: Together_aiException - Request was rejected due to request rate limiting. Your rate limits are 60 RPM (1 QPS) and 60000 TPM (1000 TPS). See details: https://docs.together.ai/docs/rate-limits. Set `provide_traceback=True` for traceback.\n"
     ]
    },
    {
     "name": "stdout",
     "output_type": "stream",
     "text": [
      "Average Metric: 0.33 / 1 (33.3%):  51%|█████▏    | 18/35 [00:38<00:39,  2.31s/it]"
     ]
    },
    {
     "name": "stderr",
     "output_type": "stream",
     "text": [
      "2025/07/19 17:45:38 ERROR dspy.utils.parallelizer: Error for Example({'claim': 'Tim Swanson, who played keyboard for the \"Sweet Nothings\" album, was a member of a different jazz band. This band and Lit were not formed in the same states.', 'titles': ['Lit (band)', 'Sweet Nothings (album)', 'Ideamen']}) (input_keys={'claim'}): litellm.RateLimitError: RateLimitError: Together_aiException - Request was rejected due to request rate limiting. Your rate limits are 60 RPM (1 QPS) and 60000 TPM (1000 TPS). See details: https://docs.together.ai/docs/rate-limits. Set `provide_traceback=True` for traceback.\n"
     ]
    },
    {
     "name": "stdout",
     "output_type": "stream",
     "text": [
      "Average Metric: 0.33 / 1 (33.3%):  54%|█████▍    | 19/35 [00:39<00:31,  1.98s/it]"
     ]
    },
    {
     "name": "stderr",
     "output_type": "stream",
     "text": [
      "2025/07/19 17:45:40 ERROR dspy.utils.parallelizer: Error for Example({'claim': 'Ellesmere Port Town Football Club are currently members of the league, whose current principal sponsor is the Football Conference, that Ford Motors F.C. is a part of.', 'titles': ['Ford Motors F.C.', 'West Cheshire Association Football League', 'Ellesmere Port Town F.C.']}) (input_keys={'claim'}): litellm.RateLimitError: RateLimitError: Together_aiException - Request was rejected due to request rate limiting. Your rate limits are 60 RPM (1 QPS) and 60000 TPM (1000 TPS). See details: https://docs.together.ai/docs/rate-limits. Set `provide_traceback=True` for traceback.\n"
     ]
    },
    {
     "name": "stdout",
     "output_type": "stream",
     "text": [
      "Average Metric: 0.33 / 1 (33.3%):  57%|█████▋    | 20/35 [00:42<00:32,  2.18s/it]"
     ]
    },
    {
     "name": "stderr",
     "output_type": "stream",
     "text": [
      "2025/07/19 17:45:41 ERROR dspy.utils.parallelizer: Error for Example({'claim': 'Avery Waddell is the director of the banned hardcore pornographic film War Dogs. and also directed the film Road Trip starring Breckin Meyer. Todd Phillip also directed a film starring Breckin Meyer.', 'titles': ['Avery Waddell', 'Todd Phillips', 'Road Trip (film)']}) (input_keys={'claim'}): litellm.RateLimitError: RateLimitError: Together_aiException - Request was rejected due to request rate limiting. Your rate limits are 60 RPM (1 QPS) and 60000 TPM (1000 TPS). See details: https://docs.together.ai/docs/rate-limits. Set `provide_traceback=True` for traceback.\n"
     ]
    },
    {
     "name": "stdout",
     "output_type": "stream",
     "text": [
      "Average Metric: 0.33 / 1 (33.3%):  57%|█████▋    | 20/35 [00:42<00:32,  2.18s/it]"
     ]
    },
    {
     "name": "stderr",
     "output_type": "stream",
     "text": [
      "2025/07/19 17:45:41 ERROR dspy.utils.parallelizer: Error for Example({'claim': 'The writer of the song I Was Here is also a producer. He won his fourth Grammy for the song by Rihanna from the album Loud.', 'titles': ['I Was Here (song)', 'Kuk Harrell', 'Only Girl (In the World)']}) (input_keys={'claim'}): litellm.RateLimitError: RateLimitError: Together_aiException - Request was rejected due to request rate limiting. Your rate limits are 60 RPM (1 QPS) and 60000 TPM (1000 TPS). See details: https://docs.together.ai/docs/rate-limits. Set `provide_traceback=True` for traceback.\n"
     ]
    },
    {
     "name": "stdout",
     "output_type": "stream",
     "text": [
      "Average Metric: 0.33 / 1 (33.3%):  60%|██████    | 21/35 [00:42<00:30,  2.18s/it]"
     ]
    },
    {
     "name": "stderr",
     "output_type": "stream",
     "text": [
      "2025/07/19 17:45:42 ERROR dspy.utils.parallelizer: Error for Example({'claim': 'The Stanley Kubrick thriller that Nicole Kidman worked with Tom Cruise on, starring Vinessa Elizabeth Shaw, was based on the novella \"Traumnovelle\" (\"Dream Story\") .', 'titles': ['Vinessa Shaw', 'Eyes Wide Shut', 'Nicole Kidman filmography']}) (input_keys={'claim'}): litellm.RateLimitError: RateLimitError: Together_aiException - Request was rejected due to request rate limiting. Your rate limits are 60 RPM (1 QPS) and 60000 TPM (1000 TPS). See details: https://docs.together.ai/docs/rate-limits. Set `provide_traceback=True` for traceback.\n"
     ]
    },
    {
     "name": "stdout",
     "output_type": "stream",
     "text": [
      "Average Metric: 0.33 / 1 (33.3%):  66%|██████▌   | 23/35 [00:43<00:15,  1.25s/it]"
     ]
    },
    {
     "name": "stderr",
     "output_type": "stream",
     "text": [
      "2025/07/19 17:45:52 ERROR dspy.utils.parallelizer: Error for Example({'claim': 'Irish footballer, John Francis O\\'Shea, joined a company in 1950. This company made the TV movie \"The Coastwatchers\"', 'titles': [\"John O'Shea\", 'Pacific Films', 'The Coastwatchers (TV movie)']}) (input_keys={'claim'}): litellm.RateLimitError: RateLimitError: Together_aiException - Request was rejected due to request rate limiting. Your rate limits are 60 RPM (1 QPS) and 60000 TPM (1000 TPS). See details: https://docs.together.ai/docs/rate-limits. Set `provide_traceback=True` for traceback.\n"
     ]
    },
    {
     "name": "stdout",
     "output_type": "stream",
     "text": [
      "Average Metric: 0.33 / 1 (33.3%):  66%|██████▌   | 23/35 [00:53<00:15,  1.25s/it]"
     ]
    },
    {
     "name": "stderr",
     "output_type": "stream",
     "text": [
      "2025/07/19 17:45:52 ERROR dspy.utils.parallelizer: Error for Example({'claim': 'This woman directed the 2005 Disney Channel Original Movie Go Figure whose soundtrack was released on June 7th. She also directed the comedy movie Sugar & Spice.', 'titles': ['Go Figure (film)', 'Sugar &amp; Spice', 'Francine McDougall']}) (input_keys={'claim'}): litellm.RateLimitError: RateLimitError: Together_aiException - Request was rejected due to request rate limiting. Your rate limits are 60 RPM (1 QPS) and 60000 TPM (1000 TPS). See details: https://docs.together.ai/docs/rate-limits. Set `provide_traceback=True` for traceback.\n"
     ]
    },
    {
     "name": "stdout",
     "output_type": "stream",
     "text": [
      "Average Metric: 0.33 / 1 (33.3%):  69%|██████▊   | 24/35 [00:53<00:32,  2.98s/it]"
     ]
    },
    {
     "name": "stderr",
     "output_type": "stream",
     "text": [
      "2025/07/19 17:45:54 ERROR dspy.utils.parallelizer: Error for Example({'claim': 'The actress that starred as a parent in Sky High (2005 film) is married to John Travolta. She also starred in a summer 1994 film about a pregnant woman who is stranded at a trading post during the American Civil War.', 'titles': ['Sky High (2005 film)', 'Cheyenne Warrior', 'Kelly Preston']}) (input_keys={'claim'}): litellm.RateLimitError: RateLimitError: Together_aiException - Request was rejected due to request rate limiting. Your rate limits are 60 RPM (1 QPS) and 60000 TPM (1000 TPS). See details: https://docs.together.ai/docs/rate-limits. Set `provide_traceback=True` for traceback.\n"
     ]
    },
    {
     "name": "stdout",
     "output_type": "stream",
     "text": [
      "Average Metric: 0.33 / 1 (33.3%):  74%|███████▍  | 26/35 [00:55<00:20,  2.29s/it]"
     ]
    },
    {
     "name": "stderr",
     "output_type": "stream",
     "text": [
      "2025/07/19 17:46:00 ERROR dspy.utils.parallelizer: Error for Example({'claim': 'The owner of Tatoosh (yacht) has a sister named Jo Lynn \"Jody\". He is an South African business magnate, investor and philanthropist.', 'titles': ['Jody Allen', 'Paul Allen', 'Tatoosh (yacht)']}) (input_keys={'claim'}): litellm.RateLimitError: RateLimitError: Together_aiException - Request was rejected due to request rate limiting. Your rate limits are 60 RPM (1 QPS) and 60000 TPM (1000 TPS). See details: https://docs.together.ai/docs/rate-limits. Set `provide_traceback=True` for traceback.\n"
     ]
    },
    {
     "name": "stdout",
     "output_type": "stream",
     "text": [
      "Average Metric: 0.33 / 1 (33.3%):  77%|███████▋  | 27/35 [01:02<00:25,  3.14s/it]"
     ]
    },
    {
     "name": "stderr",
     "output_type": "stream",
     "text": [
      "2025/07/19 17:46:00 ERROR dspy.utils.parallelizer: Error for Example({'claim': \"The defending champion who lost the Singles title at the 1994 Waldbaum's Hamlet Cup, and Max Mirnyi have both been tennis players.\", 'titles': ['Max Mirnyi', \"1994 Waldbaum's Hamlet Cup – Singles\", 'Marc Rosset']}) (input_keys={'claim'}): litellm.RateLimitError: RateLimitError: Together_aiException - Request was rejected due to request rate limiting. Your rate limits are 60 RPM (1 QPS) and 60000 TPM (1000 TPS). See details: https://docs.together.ai/docs/rate-limits. Set `provide_traceback=True` for traceback.\n"
     ]
    },
    {
     "name": "stdout",
     "output_type": "stream",
     "text": [
      "Average Metric: 1.33 / 3 (44.4%):  86%|████████▌ | 30/35 [01:15<00:19,  3.87s/it]"
     ]
    },
    {
     "name": "stderr",
     "output_type": "stream",
     "text": [
      "2025/07/19 17:46:17 ERROR dspy.utils.parallelizer: Error for Example({'claim': 'The star of Nothing to Report and Gary Barlow have a profession in common.', 'titles': ['Gary Barlow', 'Chris Jericho', 'Nothing to Report']}) (input_keys={'claim'}): litellm.RateLimitError: RateLimitError: Together_aiException - Request was rejected due to request rate limiting. Your rate limits are 60 RPM (1 QPS) and 60000 TPM (1000 TPS). See details: https://docs.together.ai/docs/rate-limits. Set `provide_traceback=True` for traceback.\n"
     ]
    },
    {
     "name": "stdout",
     "output_type": "stream",
     "text": [
      "Average Metric: 2.33 / 7 (33.3%): 100%|██████████| 35/35 [01:33<00:00,  2.67s/it]"
     ]
    },
    {
     "name": "stderr",
     "output_type": "stream",
     "text": [
      "2025/07/19 17:46:31 INFO dspy.evaluate.evaluate: Average Metric: 2.3333333333333335 / 35 (6.7%)\n",
      "2025/07/19 17:46:31 INFO dspy.teleprompt.mipro_optimizer_v2: Score: 6.67 on minibatch of size 35 with parameters ['Predictor 0: Instruction 3', 'Predictor 0: Few-Shot Set 3', 'Predictor 1: Instruction 2', 'Predictor 1: Few-Shot Set 4'].\n",
      "2025/07/19 17:46:31 INFO dspy.teleprompt.mipro_optimizer_v2: Minibatch scores so far: [2.86, 8.57, 18.1, 14.29, 3.81, 2.86, 6.67, 19.05, 0.95, 9.52, 20.95, 18.1, 7.62, 12.38, 7.62, 6.67]\n",
      "2025/07/19 17:46:31 INFO dspy.teleprompt.mipro_optimizer_v2: Full eval scores so far: [2.08, 22.08, 15.83, 23.33]\n",
      "2025/07/19 17:46:32 INFO dspy.teleprompt.mipro_optimizer_v2: Best full score so far: 23.33\n",
      "2025/07/19 17:46:32 INFO dspy.teleprompt.mipro_optimizer_v2: ==========================================\n",
      "\n",
      "\n",
      "2025/07/19 17:46:32 INFO dspy.teleprompt.mipro_optimizer_v2: == Trial 21 / 35 - Minibatch ==\n"
     ]
    },
    {
     "name": "stdout",
     "output_type": "stream",
     "text": [
      "\n",
      "  0%|          | 0/35 [00:00<?, ?it/s]"
     ]
    },
    {
     "name": "stderr",
     "output_type": "stream",
     "text": [
      "2025/07/19 17:46:51 ERROR dspy.utils.parallelizer: Error for Example({'claim': 'The father of director Guðný Halldórsdóttir and Timothy Leary are not from the same place.', 'titles': ['Halldór Laxness', 'Timothy Leary', 'Guðný Halldórsdóttir']}) (input_keys={'claim'}): litellm.RateLimitError: RateLimitError: Together_aiException - Request was rejected due to request rate limiting. Your rate limits are 60 RPM (1 QPS) and 60000 TPM (1000 TPS). See details: https://docs.together.ai/docs/rate-limits. Set `provide_traceback=True` for traceback.\n"
     ]
    },
    {
     "name": "stdout",
     "output_type": "stream",
     "text": [
      "Average Metric: 0.00 / 0 (0%):   3%|▎         | 1/35 [00:19<10:46, 19.03s/it]"
     ]
    },
    {
     "name": "stderr",
     "output_type": "stream",
     "text": [
      "2025/07/19 17:46:51 ERROR dspy.utils.parallelizer: Error for Example({'claim': 'Neither the director of the 1943 film \"Young and Willing\" nor Edward Burns are from Guatemala.', 'titles': ['Edward H. Griffith', 'Edward Burns', 'Young and Willing']}) (input_keys={'claim'}): litellm.RateLimitError: RateLimitError: Together_aiException - Request was rejected due to request rate limiting. Your rate limits are 60 RPM (1 QPS) and 60000 TPM (1000 TPS). See details: https://docs.together.ai/docs/rate-limits. Set `provide_traceback=True` for traceback.\n"
     ]
    },
    {
     "name": "stdout",
     "output_type": "stream",
     "text": [
      "Average Metric: 0.00 / 0 (0%):   3%|▎         | 1/35 [00:19<10:46, 19.03s/it]"
     ]
    },
    {
     "name": "stderr",
     "output_type": "stream",
     "text": [
      "2025/07/19 17:46:51 ERROR dspy.utils.parallelizer: Error for Example({'claim': 'The star of Nothing to Report and Gary Barlow have a profession in common.', 'titles': ['Gary Barlow', 'Chris Jericho', 'Nothing to Report']}) (input_keys={'claim'}): litellm.RateLimitError: RateLimitError: Together_aiException - Request was rejected due to request rate limiting. Your rate limits are 60 RPM (1 QPS) and 60000 TPM (1000 TPS). See details: https://docs.together.ai/docs/rate-limits. Set `provide_traceback=True` for traceback.\n"
     ]
    },
    {
     "name": "stdout",
     "output_type": "stream",
     "text": [
      "Average Metric: 0.00 / 0 (0%):   9%|▊         | 3/35 [00:19<02:39,  4.98s/it]"
     ]
    },
    {
     "name": "stderr",
     "output_type": "stream",
     "text": [
      "2025/07/19 17:46:52 ERROR dspy.utils.parallelizer: Error for Example({'claim': 'The actor, who starred in the thriller 400 Boys, plays Marilyn Monroe in a film based on the novel \"Northern Lights\".', 'titles': ['Charlie Rowe', '400 Boys', 'The Golden Compass (film)']}) (input_keys={'claim'}): litellm.RateLimitError: RateLimitError: Together_aiException - Request was rejected due to request rate limiting. Your rate limits are 60 RPM (1 QPS) and 60000 TPM (1000 TPS). See details: https://docs.together.ai/docs/rate-limits. Set `provide_traceback=True` for traceback.\n"
     ]
    },
    {
     "name": "stdout",
     "output_type": "stream",
     "text": [
      "Average Metric: 0.00 / 0 (0%):   9%|▊         | 3/35 [00:20<02:39,  4.98s/it]"
     ]
    },
    {
     "name": "stderr",
     "output_type": "stream",
     "text": [
      "2025/07/19 17:46:53 ERROR dspy.utils.parallelizer: Error for Example({'claim': 'Candlelight Red the musical group has released twice as many albums as the band who also performs as One Unique Signal.', 'titles': ['Candlelight Red', 'The Telescopes', 'One Unique Signal']}) (input_keys={'claim'}): litellm.RateLimitError: RateLimitError: Together_aiException - Request was rejected due to request rate limiting. Your rate limits are 60 RPM (1 QPS) and 60000 TPM (1000 TPS). See details: https://docs.together.ai/docs/rate-limits. Set `provide_traceback=True` for traceback.\n"
     ]
    },
    {
     "name": "stdout",
     "output_type": "stream",
     "text": [
      "Average Metric: 0.00 / 0 (0%):  14%|█▍        | 5/35 [00:21<01:27,  2.93s/it]"
     ]
    },
    {
     "name": "stderr",
     "output_type": "stream",
     "text": [
      "2025/07/19 17:46:53 ERROR dspy.utils.parallelizer: Error for Example({'claim': 'The college which the Charleston architect, hired to remodel Louis Gourd House, taught at was founded in 1770.', 'titles': ['College of Charleston', 'Louis Gourd House', 'Albert Simons']}) (input_keys={'claim'}): litellm.RateLimitError: RateLimitError: Together_aiException - Request was rejected due to request rate limiting. Your rate limits are 60 RPM (1 QPS) and 60000 TPM (1000 TPS). See details: https://docs.together.ai/docs/rate-limits. Set `provide_traceback=True` for traceback.\n"
     ]
    },
    {
     "name": "stdout",
     "output_type": "stream",
     "text": [
      "Average Metric: 0.00 / 0 (0%):  14%|█▍        | 5/35 [00:21<01:27,  2.93s/it]"
     ]
    },
    {
     "name": "stderr",
     "output_type": "stream",
     "text": [
      "2025/07/19 17:46:54 WARNING dspy.adapters.json_adapter: Failed to use structured output format, falling back to JSON mode.\n",
      "2025/07/19 17:46:56 WARNING dspy.adapters.json_adapter: Failed to use structured output format, falling back to JSON mode.\n"
     ]
    },
    {
     "name": "stdout",
     "output_type": "stream",
     "text": [
      "Average Metric: 0.33 / 1 (33.3%):  20%|██        | 7/35 [00:28<01:31,  3.26s/it]"
     ]
    },
    {
     "name": "stderr",
     "output_type": "stream",
     "text": [
      "2025/07/19 17:47:01 ERROR dspy.utils.parallelizer: Error for Example({'claim': 'The elder sister of the actress that played Margaret Devlin in  The Oregon Trail (TV series) is best known for her role as the eldest Von Trapp daughter in \"Liesl\".', 'titles': ['Darleen Carr', 'The Oregon Trail (TV series)', 'Charmian Carr']}) (input_keys={'claim'}): litellm.RateLimitError: RateLimitError: Together_aiException - Request was rejected due to request rate limiting. Your rate limits are 60 RPM (1 QPS) and 60000 TPM (1000 TPS). See details: https://docs.together.ai/docs/rate-limits. Set `provide_traceback=True` for traceback.\n"
     ]
    },
    {
     "name": "stdout",
     "output_type": "stream",
     "text": [
      "Average Metric: 1.00 / 2 (50.0%):  26%|██▌       | 9/35 [00:30<01:02,  2.41s/it]"
     ]
    },
    {
     "name": "stderr",
     "output_type": "stream",
     "text": [
      "2025/07/19 17:47:04 ERROR dspy.utils.parallelizer: Error for Example({'claim': 'Guillermo del Toro directed the film which had the man, who starred in Bone Dry alongside Lance Henriksen, play the role of Jared Nomak.', 'titles': ['Bone Dry', 'Luke Goss', 'Blade II']}) (input_keys={'claim'}): litellm.RateLimitError: RateLimitError: Together_aiException - Request was rejected due to request rate limiting. Your rate limits are 60 RPM (1 QPS) and 60000 TPM (1000 TPS). See details: https://docs.together.ai/docs/rate-limits. Set `provide_traceback=True` for traceback.\n"
     ]
    },
    {
     "name": "stdout",
     "output_type": "stream",
     "text": [
      "Average Metric: 1.00 / 2 (50.0%):  29%|██▊       | 10/35 [00:32<00:53,  2.14s/it]"
     ]
    },
    {
     "name": "stderr",
     "output_type": "stream",
     "text": [
      "2025/07/19 17:47:05 ERROR dspy.utils.parallelizer: Error for Example({'claim': \"The owner of Viva (UK and Ireland) changed it's name in late 2004. Their new acronym stand for Gesellschaft mit beschränkter Haftung.\", 'titles': ['Gesellschaft mit beschränkter Haftung', 'Viva (UK and Ireland)', 'VIVA Media']}) (input_keys={'claim'}): litellm.RateLimitError: RateLimitError: Together_aiException - Request was rejected due to request rate limiting. Your rate limits are 60 RPM (1 QPS) and 60000 TPM (1000 TPS). See details: https://docs.together.ai/docs/rate-limits. Set `provide_traceback=True` for traceback.\n"
     ]
    },
    {
     "name": "stdout",
     "output_type": "stream",
     "text": [
      "Average Metric: 1.00 / 2 (50.0%):  31%|███▏      | 11/35 [00:33<00:45,  1.91s/it]"
     ]
    },
    {
     "name": "stderr",
     "output_type": "stream",
     "text": [
      "2025/07/19 17:47:05 ERROR dspy.utils.parallelizer: Error for Example({'claim': 'Cork has several third level colleges including NMIO, the Crawford College of Art and Design and one other. The 2016 population of the county where the other school is located was 542,196.', 'titles': ['Education in Cork', 'National Maritime College of Ireland', 'County Cork']}) (input_keys={'claim'}): Both structured output format and JSON mode failed. Please choose a model that supports `response_format` argument. Original error: litellm.RateLimitError: RateLimitError: Together_aiException - Request was rejected due to request rate limiting. Your rate limits are 60 RPM (1 QPS) and 60000 TPM (1000 TPS). See details: https://docs.together.ai/docs/rate-limits. Set `provide_traceback=True` for traceback.\n"
     ]
    },
    {
     "name": "stdout",
     "output_type": "stream",
     "text": [
      "Average Metric: 1.00 / 2 (50.0%):  34%|███▍      | 12/35 [00:33<00:33,  1.44s/it]"
     ]
    },
    {
     "name": "stderr",
     "output_type": "stream",
     "text": [
      "2025/07/19 17:47:10 ERROR dspy.utils.parallelizer: Error for Example({'claim': 'Tim Swanson, who played keyboard for the \"Sweet Nothings\" album, was a member of a different jazz band. This band and Lit were not formed in the same states.', 'titles': ['Lit (band)', 'Sweet Nothings (album)', 'Ideamen']}) (input_keys={'claim'}): litellm.RateLimitError: RateLimitError: Together_aiException - Request was rejected due to request rate limiting. Your rate limits are 60 RPM (1 QPS) and 60000 TPM (1000 TPS). See details: https://docs.together.ai/docs/rate-limits. Set `provide_traceback=True` for traceback.\n"
     ]
    },
    {
     "name": "stdout",
     "output_type": "stream",
     "text": [
      "Average Metric: 1.00 / 2 (50.0%):  34%|███▍      | 12/35 [00:38<00:33,  1.44s/it]"
     ]
    },
    {
     "name": "stderr",
     "output_type": "stream",
     "text": [
      "2025/07/19 17:47:10 ERROR dspy.utils.parallelizer: Error for Example({'claim': 'Markounda is a sub-prefecture that borders an Central African Republic country bordered by Libya and the Sudan and is known for the Dar Sila region.', 'titles': ['Markounda', 'Sila Region', 'Chad']}) (input_keys={'claim'}): litellm.RateLimitError: RateLimitError: Together_aiException - Request was rejected due to request rate limiting. Your rate limits are 60 RPM (1 QPS) and 60000 TPM (1000 TPS). See details: https://docs.together.ai/docs/rate-limits. Set `provide_traceback=True` for traceback.\n"
     ]
    },
    {
     "name": "stdout",
     "output_type": "stream",
     "text": [
      "Average Metric: 1.00 / 2 (50.0%):  37%|███▋      | 13/35 [00:38<00:49,  2.27s/it]"
     ]
    },
    {
     "name": "stderr",
     "output_type": "stream",
     "text": [
      "2025/07/19 17:47:10 ERROR dspy.utils.parallelizer: Error for Example({'claim': 'Both the character, who is sometimes called the  \"Mad Hatter\" in adaptations of the book. and March Hare are characters in the book Alice\\'s Adventures in Wonderland', 'titles': [\"Hatter (Alice's Adventures in Wonderland)\", 'Mad Hatter (comics)', 'March Hare']}) (input_keys={'claim'}): litellm.RateLimitError: RateLimitError: Together_aiException - Request was rejected due to request rate limiting. Your rate limits are 60 RPM (1 QPS) and 60000 TPM (1000 TPS). See details: https://docs.together.ai/docs/rate-limits. Set `provide_traceback=True` for traceback.\n"
     ]
    },
    {
     "name": "stdout",
     "output_type": "stream",
     "text": [
      "Average Metric: 1.00 / 2 (50.0%):  40%|████      | 14/35 [00:38<00:47,  2.27s/it]"
     ]
    },
    {
     "name": "stderr",
     "output_type": "stream",
     "text": [
      "2025/07/19 17:47:10 ERROR dspy.utils.parallelizer: Error for Example({'claim': 'One of the screenwriters who worked on \"The Janus Directive\" collaborated on Martian Manhunter, which was based on a fictional superhero.', 'titles': ['Janus Directive', 'Martian Manhunter', 'Tom Mandrake']}) (input_keys={'claim'}): litellm.RateLimitError: RateLimitError: Together_aiException - Request was rejected due to request rate limiting. Your rate limits are 60 RPM (1 QPS) and 60000 TPM (1000 TPS). See details: https://docs.together.ai/docs/rate-limits. Set `provide_traceback=True` for traceback.\n"
     ]
    },
    {
     "name": "stdout",
     "output_type": "stream",
     "text": [
      "Average Metric: 1.00 / 2 (50.0%):  43%|████▎     | 15/35 [00:38<00:45,  2.27s/it]"
     ]
    },
    {
     "name": "stderr",
     "output_type": "stream",
     "text": [
      "2025/07/19 17:47:15 ERROR dspy.utils.parallelizer: Error for Example({'claim': 'The actor, who played Spellingg Bee\" in \"That\\'s My Bush!\", from Stockton, CA appeared in Psych, an American detective comedy-drama television series created by Steve Franks.', 'titles': ['Kurt Fuller', \"That's My Bush!\", 'Psych']}) (input_keys={'claim'}): litellm.RateLimitError: RateLimitError: Together_aiException - Request was rejected due to request rate limiting. Your rate limits are 60 RPM (1 QPS) and 60000 TPM (1000 TPS). See details: https://docs.together.ai/docs/rate-limits. Set `provide_traceback=True` for traceback.\n"
     ]
    },
    {
     "name": "stdout",
     "output_type": "stream",
     "text": [
      "Average Metric: 1.67 / 3 (55.6%):  51%|█████▏    | 18/35 [00:47<00:35,  2.06s/it]"
     ]
    },
    {
     "name": "stderr",
     "output_type": "stream",
     "text": [
      "2025/07/19 17:47:19 ERROR dspy.utils.parallelizer: Error for Example({'claim': 'The person who had his voice featured in the 2012 film The Polar Bears, stars as Oliver in a film directed by Luca Guadagnino.', 'titles': ['Call Me by Your Name (film)', 'The Polar Bears', 'Armie Hammer']}) (input_keys={'claim'}): litellm.RateLimitError: RateLimitError: Together_aiException - Request was rejected due to request rate limiting. Your rate limits are 60 RPM (1 QPS) and 60000 TPM (1000 TPS). See details: https://docs.together.ai/docs/rate-limits. Set `provide_traceback=True` for traceback.\n"
     ]
    },
    {
     "name": "stdout",
     "output_type": "stream",
     "text": [
      "Average Metric: 1.67 / 3 (55.6%):  54%|█████▍    | 19/35 [00:47<00:27,  1.69s/it]"
     ]
    },
    {
     "name": "stderr",
     "output_type": "stream",
     "text": [
      "2025/07/19 17:47:21 ERROR dspy.utils.parallelizer: Error for Example({'claim': 'This series developer created T-Dog on the Walking Dead. He is the Hungarian-born US film director renowned for adapting Stephen King novellas to the screen, including The Mist and The Green Mile.', 'titles': ['The Mist (film)', 'Frank Darabont', 'T-Dog (The Walking Dead)']}) (input_keys={'claim'}): litellm.RateLimitError: RateLimitError: Together_aiException - Request was rejected due to request rate limiting. Your rate limits are 60 RPM (1 QPS) and 60000 TPM (1000 TPS). See details: https://docs.together.ai/docs/rate-limits. Set `provide_traceback=True` for traceback.\n"
     ]
    },
    {
     "name": "stdout",
     "output_type": "stream",
     "text": [
      "Average Metric: 1.67 / 3 (55.6%):  57%|█████▋    | 20/35 [00:49<00:27,  1.82s/it]"
     ]
    },
    {
     "name": "stderr",
     "output_type": "stream",
     "text": [
      "2025/07/19 17:47:24 ERROR dspy.utils.parallelizer: Error for Example({'claim': \"The star of Spaceball's most renouwned onscreen performance was as Dell Griffith. He was in an Canadian comedy film from 1987.\", 'titles': ['Spaceballs', 'Planes, Trains and Automobiles', 'John Candy']}) (input_keys={'claim'}): litellm.RateLimitError: RateLimitError: Together_aiException - Request was rejected due to request rate limiting. Your rate limits are 60 RPM (1 QPS) and 60000 TPM (1000 TPS). See details: https://docs.together.ai/docs/rate-limits. Set `provide_traceback=True` for traceback.\n"
     ]
    },
    {
     "name": "stdout",
     "output_type": "stream",
     "text": [
      "Average Metric: 1.67 / 3 (55.6%):  60%|██████    | 21/35 [00:52<00:27,  1.95s/it]"
     ]
    },
    {
     "name": "stderr",
     "output_type": "stream",
     "text": [
      "2025/07/19 17:47:26 ERROR dspy.utils.parallelizer: Error for Example({'claim': 'The director of action movie Batman: Mask of the Phantasm, produced Avengers Assemble that premiered on Disney XD on May 26, 2013.', 'titles': ['Eric Radomski', 'Batman: Mask of the Phantasm', 'Avengers Assemble (TV series)']}) (input_keys={'claim'}): litellm.RateLimitError: RateLimitError: Together_aiException - Request was rejected due to request rate limiting. Your rate limits are 60 RPM (1 QPS) and 60000 TPM (1000 TPS). See details: https://docs.together.ai/docs/rate-limits. Set `provide_traceback=True` for traceback.\n"
     ]
    },
    {
     "name": "stdout",
     "output_type": "stream",
     "text": [
      "Average Metric: 1.67 / 3 (55.6%):  63%|██████▎   | 22/35 [00:54<00:25,  1.99s/it]"
     ]
    },
    {
     "name": "stderr",
     "output_type": "stream",
     "text": [
      "2025/07/19 17:47:28 ERROR dspy.utils.parallelizer: Error for Example({'claim': 'Africa has a distribution of both the Ternstroemia and the genus that Seemannaralia gerrardii was originally included in.', 'titles': ['Seemannaralia gerrardii', 'Cussonia', 'Ternstroemia']}) (input_keys={'claim'}): litellm.RateLimitError: RateLimitError: Together_aiException - Request was rejected due to request rate limiting. Your rate limits are 60 RPM (1 QPS) and 60000 TPM (1000 TPS). See details: https://docs.together.ai/docs/rate-limits. Set `provide_traceback=True` for traceback.\n"
     ]
    },
    {
     "name": "stdout",
     "output_type": "stream",
     "text": [
      "Average Metric: 1.67 / 3 (55.6%):  66%|██████▌   | 23/35 [00:56<00:22,  1.91s/it]"
     ]
    },
    {
     "name": "stderr",
     "output_type": "stream",
     "text": [
      "2025/07/19 17:47:28 ERROR dspy.utils.parallelizer: Error for Example({'claim': 'An actor was in the film, Focus, that was directed by Glenn Ficarra. This actor was also in the 2016 film \"White Girl\".', 'titles': ['Adrian Martinez (actor)', 'Focus (2015 film)', 'White Girl (2016 film)']}) (input_keys={'claim'}): litellm.RateLimitError: RateLimitError: Together_aiException - Request was rejected due to request rate limiting. Your rate limits are 60 RPM (1 QPS) and 60000 TPM (1000 TPS). See details: https://docs.together.ai/docs/rate-limits. Set `provide_traceback=True` for traceback.\n"
     ]
    },
    {
     "name": "stdout",
     "output_type": "stream",
     "text": [
      "Average Metric: 1.67 / 3 (55.6%):  69%|██████▊   | 24/35 [00:56<00:17,  1.56s/it]"
     ]
    },
    {
     "name": "stderr",
     "output_type": "stream",
     "text": [
      "2025/07/19 17:47:32 ERROR dspy.utils.parallelizer: Error for Example({'claim': 'This American composer composed Troubled Island. He was born in 1895 was married to his frequent collaborator Verna Arvey.', 'titles': ['William Grant Still', 'A Bayou Legend', 'Troubled Island']}) (input_keys={'claim'}): litellm.RateLimitError: RateLimitError: Together_aiException - Request was rejected due to request rate limiting. Your rate limits are 60 RPM (1 QPS) and 60000 TPM (1000 TPS). See details: https://docs.together.ai/docs/rate-limits. Set `provide_traceback=True` for traceback.\n"
     ]
    },
    {
     "name": "stdout",
     "output_type": "stream",
     "text": [
      "Average Metric: 1.67 / 3 (55.6%):  71%|███████▏  | 25/35 [01:00<00:22,  2.28s/it]"
     ]
    },
    {
     "name": "stderr",
     "output_type": "stream",
     "text": [
      "2025/07/19 17:47:34 ERROR dspy.utils.parallelizer: Error for Example({'claim': 'In addition to Creative Artists Agency and the individual who left the group in January 2010 to pursue her academic career, Yubin and Yeeun were the other two final members of the group whose third mini album was named Wonder Party.', 'titles': ['Sunmi', 'Wonder Party', 'Wonder Girls']}) (input_keys={'claim'}): litellm.RateLimitError: RateLimitError: Together_aiException - Request was rejected due to request rate limiting. Your rate limits are 60 RPM (1 QPS) and 60000 TPM (1000 TPS). See details: https://docs.together.ai/docs/rate-limits. Set `provide_traceback=True` for traceback.\n"
     ]
    },
    {
     "name": "stdout",
     "output_type": "stream",
     "text": [
      "Average Metric: 1.67 / 3 (55.6%):  74%|███████▍  | 26/35 [01:02<00:19,  2.20s/it]"
     ]
    },
    {
     "name": "stderr",
     "output_type": "stream",
     "text": [
      "2025/07/19 17:47:36 ERROR dspy.utils.parallelizer: Error for Example({'claim': 'Mountain Dew is owned by the Pepsi-Cola company. So is the producer of orange juice founded by Anthony T. Rossi.', 'titles': ['Tropicana Products', 'Anthony T. Rossi', 'Mountain Dew']}) (input_keys={'claim'}): litellm.RateLimitError: RateLimitError: Together_aiException - Request was rejected due to request rate limiting. Your rate limits are 60 RPM (1 QPS) and 60000 TPM (1000 TPS). See details: https://docs.together.ai/docs/rate-limits. Set `provide_traceback=True` for traceback.\n"
     ]
    },
    {
     "name": "stdout",
     "output_type": "stream",
     "text": [
      "Average Metric: 1.67 / 3 (55.6%):  77%|███████▋  | 27/35 [01:04<00:17,  2.15s/it]"
     ]
    },
    {
     "name": "stderr",
     "output_type": "stream",
     "text": [
      "2025/07/19 17:47:36 ERROR dspy.utils.parallelizer: Error for Example({'claim': 'The member of the group Wilkes-Barre/Scranton International Airport, formed by Kenny Loggins, was aged ten when she started singing in the seventh-most populated city in the United States.', 'titles': ['Kenny Loggins', 'San Antonio', 'Georgia Middleman']}) (input_keys={'claim'}): litellm.RateLimitError: RateLimitError: Together_aiException - Request was rejected due to request rate limiting. Your rate limits are 60 RPM (1 QPS) and 60000 TPM (1000 TPS). See details: https://docs.together.ai/docs/rate-limits. Set `provide_traceback=True` for traceback.\n"
     ]
    },
    {
     "name": "stdout",
     "output_type": "stream",
     "text": [
      "Average Metric: 1.67 / 3 (55.6%):  80%|████████  | 28/35 [01:04<00:10,  1.56s/it]"
     ]
    },
    {
     "name": "stderr",
     "output_type": "stream",
     "text": [
      "2025/07/19 17:47:45 ERROR dspy.utils.parallelizer: Error for Example({'claim': 'Helen Mirren, a client of the designer who designed the wedding dress of Sarah Ferguson, played Lindka in \"The Queen\".', 'titles': ['Wedding dress of Sarah Ferguson', 'Lindka Cierach', 'Helen Mirren']}) (input_keys={'claim'}): litellm.RateLimitError: RateLimitError: Together_aiException - Request was rejected due to request rate limiting. Your rate limits are 60 RPM (1 QPS) and 60000 TPM (1000 TPS). See details: https://docs.together.ai/docs/rate-limits. Set `provide_traceback=True` for traceback.\n"
     ]
    },
    {
     "name": "stdout",
     "output_type": "stream",
     "text": [
      "Average Metric: 2.33 / 4 (58.3%):  86%|████████▌ | 30/35 [01:14<00:14,  2.99s/it]"
     ]
    },
    {
     "name": "stderr",
     "output_type": "stream",
     "text": [
      "2025/07/19 17:47:50 ERROR dspy.utils.parallelizer: Error for Example({'claim': 'Lari Michele White is the county music artist that first gained national attention as a winner on \"You Can Be a Star\". She then went on to provide background vocals on the first single of the album, Now and Then.', 'titles': ['Lari White', 'Take It Like a Man (Michelle Wright song)', 'Now and Then (Michelle Wright album)']}) (input_keys={'claim'}): litellm.RateLimitError: RateLimitError: Together_aiException - Request was rejected due to request rate limiting. Your rate limits are 60 RPM (1 QPS) and 60000 TPM (1000 TPS). See details: https://docs.together.ai/docs/rate-limits. Set `provide_traceback=True` for traceback.\n"
     ]
    },
    {
     "name": "stdout",
     "output_type": "stream",
     "text": [
      "Average Metric: 2.67 / 8 (33.3%): 100%|██████████| 35/35 [01:44<00:00,  2.99s/it]"
     ]
    },
    {
     "name": "stderr",
     "output_type": "stream",
     "text": [
      "2025/07/19 17:48:16 INFO dspy.evaluate.evaluate: Average Metric: 2.6666666666666665 / 35 (7.6%)\n",
      "2025/07/19 17:48:16 INFO dspy.teleprompt.mipro_optimizer_v2: Score: 7.62 on minibatch of size 35 with parameters ['Predictor 0: Instruction 3', 'Predictor 0: Few-Shot Set 3', 'Predictor 1: Instruction 4', 'Predictor 1: Few-Shot Set 3'].\n",
      "2025/07/19 17:48:16 INFO dspy.teleprompt.mipro_optimizer_v2: Minibatch scores so far: [2.86, 8.57, 18.1, 14.29, 3.81, 2.86, 6.67, 19.05, 0.95, 9.52, 20.95, 18.1, 7.62, 12.38, 7.62, 6.67, 7.62]\n",
      "2025/07/19 17:48:16 INFO dspy.teleprompt.mipro_optimizer_v2: Full eval scores so far: [2.08, 22.08, 15.83, 23.33]\n",
      "2025/07/19 17:48:16 INFO dspy.teleprompt.mipro_optimizer_v2: Best full score so far: 23.33\n",
      "2025/07/19 17:48:16 INFO dspy.teleprompt.mipro_optimizer_v2: ==========================================\n",
      "\n",
      "\n",
      "2025/07/19 17:48:16 INFO dspy.teleprompt.mipro_optimizer_v2: == Trial 22 / 35 - Minibatch ==\n"
     ]
    },
    {
     "name": "stdout",
     "output_type": "stream",
     "text": [
      "\n",
      "  0%|          | 0/35 [00:00<?, ?it/s]"
     ]
    },
    {
     "name": "stderr",
     "output_type": "stream",
     "text": [
      "2025/07/19 17:48:33 ERROR dspy.utils.parallelizer: Error for Example({'claim': 'The director of The Moth Diaries (born January 12, 1953) was a French Canadian filmmaker who created a film about Bettie Page in 2005.', 'titles': ['The Moth Diaries (film)', 'Mary Harron', 'The Notorious Bettie Page']}) (input_keys={'claim'}): litellm.RateLimitError: RateLimitError: Together_aiException - Request was rejected due to request rate limiting. Your rate limits are 60 RPM (1 QPS) and 60000 TPM (1000 TPS). See details: https://docs.together.ai/docs/rate-limits. Set `provide_traceback=True` for traceback.\n"
     ]
    },
    {
     "name": "stdout",
     "output_type": "stream",
     "text": [
      "Average Metric: 0.00 / 0 (0%):   3%|▎         | 1/35 [00:16<09:22, 16.55s/it]"
     ]
    },
    {
     "name": "stderr",
     "output_type": "stream",
     "text": [
      "2025/07/19 17:48:35 ERROR dspy.utils.parallelizer: Error for Example({'claim': 'The writer of the song I Was Here is also a producer. He won his fourth Grammy for the song by Rihanna from the album Loud.', 'titles': ['I Was Here (song)', 'Kuk Harrell', 'Only Girl (In the World)']}) (input_keys={'claim'}): litellm.RateLimitError: RateLimitError: Together_aiException - Request was rejected due to request rate limiting. Your rate limits are 60 RPM (1 QPS) and 60000 TPM (1000 TPS). See details: https://docs.together.ai/docs/rate-limits. Set `provide_traceback=True` for traceback.\n"
     ]
    },
    {
     "name": "stdout",
     "output_type": "stream",
     "text": [
      "Average Metric: 0.00 / 0 (0%):   6%|▌         | 2/35 [00:18<04:27,  8.12s/it]"
     ]
    },
    {
     "name": "stderr",
     "output_type": "stream",
     "text": [
      "2025/07/19 17:48:35 ERROR dspy.utils.parallelizer: Error for Example({'claim': 'The individual who played Herman Boone in Remember the Titans, and David Hewlett, are both actors.', 'titles': ['David Hewlett', 'Denzel Washington', 'Herman Boone']}) (input_keys={'claim'}): litellm.RateLimitError: RateLimitError: Together_aiException - Request was rejected due to request rate limiting. Your rate limits are 60 RPM (1 QPS) and 60000 TPM (1000 TPS). See details: https://docs.together.ai/docs/rate-limits. Set `provide_traceback=True` for traceback.\n"
     ]
    },
    {
     "name": "stdout",
     "output_type": "stream",
     "text": [
      "Average Metric: 0.00 / 0 (0%):   9%|▊         | 3/35 [00:18<02:23,  4.47s/it]"
     ]
    },
    {
     "name": "stderr",
     "output_type": "stream",
     "text": [
      "2025/07/19 17:48:36 ERROR dspy.utils.parallelizer: Error for Example({'claim': 'Christopher Whitelaw Pine appeared in the films that inspired Good Luck! and \"Into the Woods\".', 'titles': ['Just My Luck (2006 film)', 'Good Luck!', 'Chris Pine']}) (input_keys={'claim'}): litellm.RateLimitError: RateLimitError: Together_aiException - Request was rejected due to request rate limiting. Your rate limits are 60 RPM (1 QPS) and 60000 TPM (1000 TPS). See details: https://docs.together.ai/docs/rate-limits. Set `provide_traceback=True` for traceback.\n"
     ]
    },
    {
     "name": "stdout",
     "output_type": "stream",
     "text": [
      "Average Metric: 0.00 / 0 (0%):  11%|█▏        | 4/35 [00:19<01:25,  2.75s/it]"
     ]
    },
    {
     "name": "stderr",
     "output_type": "stream",
     "text": [
      "2025/07/19 17:48:37 ERROR dspy.utils.parallelizer: Error for Example({'claim': 'Guillermo del Toro directed the film which had the man, who starred in Bone Dry alongside Lance Henriksen, play the role of Jared Nomak.', 'titles': ['Bone Dry', 'Luke Goss', 'Blade II']}) (input_keys={'claim'}): litellm.RateLimitError: RateLimitError: Together_aiException - Request was rejected due to request rate limiting. Your rate limits are 60 RPM (1 QPS) and 60000 TPM (1000 TPS). See details: https://docs.together.ai/docs/rate-limits. Set `provide_traceback=True` for traceback.\n"
     ]
    },
    {
     "name": "stdout",
     "output_type": "stream",
     "text": [
      "Average Metric: 0.00 / 0 (0%):  14%|█▍        | 5/35 [00:20<01:10,  2.36s/it]"
     ]
    },
    {
     "name": "stderr",
     "output_type": "stream",
     "text": [
      "2025/07/19 17:48:38 ERROR dspy.utils.parallelizer: Error for Example({'claim': 'Bowdoin College was established before another university. This university was attended by John Wesley Hughes.', 'titles': ['Vanderbilt University', 'John Wesley Hughes', 'Bowdoin College']}) (input_keys={'claim'}): litellm.RateLimitError: RateLimitError: Together_aiException - Request was rejected due to request rate limiting. Your rate limits are 60 RPM (1 QPS) and 60000 TPM (1000 TPS). See details: https://docs.together.ai/docs/rate-limits. Set `provide_traceback=True` for traceback.\n"
     ]
    },
    {
     "name": "stdout",
     "output_type": "stream",
     "text": [
      "Average Metric: 0.00 / 0 (0%):  17%|█▋        | 6/35 [00:21<00:50,  1.76s/it]"
     ]
    },
    {
     "name": "stderr",
     "output_type": "stream",
     "text": [
      "2025/07/19 17:48:42 ERROR dspy.utils.parallelizer: Error for Example({'claim': 'Passionate Love is a Korean television series starring Sung Hoon and the actress starring in a movie that was filmed in 2012.', 'titles': ['Choi Yoon-young', 'As One (film)', 'Passionate Love']}) (input_keys={'claim'}): litellm.RateLimitError: RateLimitError: Together_aiException - Request was rejected due to request rate limiting. Your rate limits are 60 RPM (1 QPS) and 60000 TPM (1000 TPS). See details: https://docs.together.ai/docs/rate-limits. Set `provide_traceback=True` for traceback.\n"
     ]
    },
    {
     "name": "stdout",
     "output_type": "stream",
     "text": [
      "Average Metric: 0.00 / 0 (0%):  20%|██        | 7/35 [00:25<01:10,  2.51s/it]"
     ]
    },
    {
     "name": "stderr",
     "output_type": "stream",
     "text": [
      "2025/07/19 17:48:45 ERROR dspy.utils.parallelizer: Error for Example({'claim': \"The owner of Viva (UK and Ireland) changed it's name in late 2004. Their new acronym stand for Gesellschaft mit beschränkter Haftung.\", 'titles': ['Gesellschaft mit beschränkter Haftung', 'Viva (UK and Ireland)', 'VIVA Media']}) (input_keys={'claim'}): litellm.RateLimitError: RateLimitError: Together_aiException - Request was rejected due to request rate limiting. Your rate limits are 60 RPM (1 QPS) and 60000 TPM (1000 TPS). See details: https://docs.together.ai/docs/rate-limits. Set `provide_traceback=True` for traceback.\n"
     ]
    },
    {
     "name": "stdout",
     "output_type": "stream",
     "text": [
      "Average Metric: 0.00 / 0 (0%):  23%|██▎       | 8/35 [00:28<01:14,  2.77s/it]"
     ]
    },
    {
     "name": "stderr",
     "output_type": "stream",
     "text": [
      "2025/07/19 17:48:46 ERROR dspy.utils.parallelizer: Error for Example({'claim': 'Tim Swanson, who played keyboard for the \"Sweet Nothings\" album, was a member of a different jazz band. This band and Lit were not formed in the same states.', 'titles': ['Lit (band)', 'Sweet Nothings (album)', 'Ideamen']}) (input_keys={'claim'}): litellm.RateLimitError: RateLimitError: Together_aiException - Request was rejected due to request rate limiting. Your rate limits are 60 RPM (1 QPS) and 60000 TPM (1000 TPS). See details: https://docs.together.ai/docs/rate-limits. Set `provide_traceback=True` for traceback.\n"
     ]
    },
    {
     "name": "stdout",
     "output_type": "stream",
     "text": [
      "Average Metric: 0.00 / 0 (0%):  26%|██▌       | 9/35 [00:29<00:55,  2.13s/it]"
     ]
    },
    {
     "name": "stderr",
     "output_type": "stream",
     "text": [
      "2025/07/19 17:48:48 ERROR dspy.utils.parallelizer: Error for Example({'claim': 'Sophia Grace & Rosie featured a cover song on their Youtube channel. The pop song from is from an album released under the Syco Music and Columbia Records labels.', 'titles': ['Touch (Little Mix song)', 'Glory Days (Little Mix album)', 'Sophia Grace &amp; Rosie']}) (input_keys={'claim'}): litellm.RateLimitError: RateLimitError: Together_aiException - Request was rejected due to request rate limiting. Your rate limits are 60 RPM (1 QPS) and 60000 TPM (1000 TPS). See details: https://docs.together.ai/docs/rate-limits. Set `provide_traceback=True` for traceback.\n"
     ]
    },
    {
     "name": "stdout",
     "output_type": "stream",
     "text": [
      "Average Metric: 0.00 / 0 (0%):  29%|██▊       | 10/35 [00:31<00:49,  1.99s/it]"
     ]
    },
    {
     "name": "stderr",
     "output_type": "stream",
     "text": [
      "2025/07/19 17:48:52 ERROR dspy.utils.parallelizer: Error for Example({'claim': 'The summer 2016 romantic drama \"Me Before You\" is directed by Thea Sharrock. The star of the film The Lost Future (who also appears in The Hunger Games) stars as the character Will Traynor.', 'titles': ['The Lost Future', 'Me Before You (film)', 'Sam Claflin']}) (input_keys={'claim'}): litellm.RateLimitError: RateLimitError: Together_aiException - Request was rejected due to request rate limiting. Your rate limits are 60 RPM (1 QPS) and 60000 TPM (1000 TPS). See details: https://docs.together.ai/docs/rate-limits. Set `provide_traceback=True` for traceback.\n"
     ]
    },
    {
     "name": "stdout",
     "output_type": "stream",
     "text": [
      "Average Metric: 0.00 / 0 (0%):  31%|███▏      | 11/35 [00:35<01:04,  2.70s/it]"
     ]
    },
    {
     "name": "stderr",
     "output_type": "stream",
     "text": [
      "2025/07/19 17:48:54 ERROR dspy.utils.parallelizer: Error for Example({'claim': 'One of the screenwriters who worked on \"The Janus Directive\" collaborated on Martian Manhunter, which was based on a fictional superhero.', 'titles': ['Janus Directive', 'Martian Manhunter', 'Tom Mandrake']}) (input_keys={'claim'}): litellm.RateLimitError: RateLimitError: Together_aiException - Request was rejected due to request rate limiting. Your rate limits are 60 RPM (1 QPS) and 60000 TPM (1000 TPS). See details: https://docs.together.ai/docs/rate-limits. Set `provide_traceback=True` for traceback.\n"
     ]
    },
    {
     "name": "stdout",
     "output_type": "stream",
     "text": [
      "Average Metric: 0.00 / 0 (0%):  34%|███▍      | 12/35 [00:37<00:58,  2.54s/it]"
     ]
    },
    {
     "name": "stderr",
     "output_type": "stream",
     "text": [
      "2025/07/19 17:48:54 ERROR dspy.utils.parallelizer: Error for Example({'claim': 'Markounda is a sub-prefecture that borders an Central African Republic country bordered by Libya and the Sudan and is known for the Dar Sila region.', 'titles': ['Markounda', 'Sila Region', 'Chad']}) (input_keys={'claim'}): litellm.RateLimitError: RateLimitError: Together_aiException - Request was rejected due to request rate limiting. Your rate limits are 60 RPM (1 QPS) and 60000 TPM (1000 TPS). See details: https://docs.together.ai/docs/rate-limits. Set `provide_traceback=True` for traceback.\n"
     ]
    },
    {
     "name": "stdout",
     "output_type": "stream",
     "text": [
      "Average Metric: 0.00 / 0 (0%):  34%|███▍      | 12/35 [00:37<00:58,  2.54s/it]"
     ]
    },
    {
     "name": "stderr",
     "output_type": "stream",
     "text": [
      "2025/07/19 17:48:56 ERROR dspy.utils.parallelizer: Error for Example({'claim': 'The city containing the Parafield railway station is very near the airport and the Mawson Lakes campus of the University of South Australia.', 'titles': ['Parafield, South Australia', 'Parafield railway station', 'Parafield Airport']}) (input_keys={'claim'}): litellm.RateLimitError: RateLimitError: Together_aiException - Request was rejected due to request rate limiting. Your rate limits are 60 RPM (1 QPS) and 60000 TPM (1000 TPS). See details: https://docs.together.ai/docs/rate-limits. Set `provide_traceback=True` for traceback.\n"
     ]
    },
    {
     "name": "stdout",
     "output_type": "stream",
     "text": [
      "Average Metric: 0.00 / 0 (0%):  40%|████      | 14/35 [00:39<00:37,  1.80s/it]"
     ]
    },
    {
     "name": "stderr",
     "output_type": "stream",
     "text": [
      "2025/07/19 17:48:58 ERROR dspy.utils.parallelizer: Error for Example({'claim': 'Grand Forks International Airport is closer to the town it is near, than the airport close by to The Texas Air & Space Museum.', 'titles': ['Texas Air &amp; Space Museum', 'Rick Husband Amarillo International Airport', 'Grand Forks International Airport']}) (input_keys={'claim'}): litellm.RateLimitError: RateLimitError: Together_aiException - Request was rejected due to request rate limiting. Your rate limits are 60 RPM (1 QPS) and 60000 TPM (1000 TPS). See details: https://docs.together.ai/docs/rate-limits. Set `provide_traceback=True` for traceback.\n"
     ]
    },
    {
     "name": "stdout",
     "output_type": "stream",
     "text": [
      "Average Metric: 0.00 / 0 (0%):  43%|████▎     | 15/35 [00:41<00:37,  1.88s/it]"
     ]
    },
    {
     "name": "stderr",
     "output_type": "stream",
     "text": [
      "2025/07/19 17:49:00 ERROR dspy.utils.parallelizer: Error for Example({'claim': 'Radiation Vibe is the first chart-topping single from the debut album of the band formed in 1995 that came out with an album called \"Welcome Interstate Managers\\'.', 'titles': [\"Stacy's Mom\", 'Fountains of Wayne', 'Radiation Vibe']}) (input_keys={'claim'}): litellm.RateLimitError: RateLimitError: Together_aiException - Request was rejected due to request rate limiting. Your rate limits are 60 RPM (1 QPS) and 60000 TPM (1000 TPS). See details: https://docs.together.ai/docs/rate-limits. Set `provide_traceback=True` for traceback.\n"
     ]
    },
    {
     "name": "stdout",
     "output_type": "stream",
     "text": [
      "Average Metric: 0.00 / 0 (0%):  46%|████▌     | 16/35 [00:42<00:33,  1.75s/it]"
     ]
    },
    {
     "name": "stderr",
     "output_type": "stream",
     "text": [
      "2025/07/19 17:49:00 ERROR dspy.utils.parallelizer: Error for Example({'claim': 'Danyang, Jiangusu and this city are both cities in China. This city was the birthplace of Chen Xiuke.', 'titles': ['Danyang, Jiangsu', 'Dongfang, Hainan', 'Chen Xiuke']}) (input_keys={'claim'}): litellm.RateLimitError: RateLimitError: Together_aiException - Request was rejected due to request rate limiting. Your rate limits are 60 RPM (1 QPS) and 60000 TPM (1000 TPS). See details: https://docs.together.ai/docs/rate-limits. Set `provide_traceback=True` for traceback.\n"
     ]
    },
    {
     "name": "stdout",
     "output_type": "stream",
     "text": [
      "Average Metric: 0.00 / 0 (0%):  49%|████▊     | 17/35 [00:43<00:24,  1.39s/it]"
     ]
    },
    {
     "name": "stderr",
     "output_type": "stream",
     "text": [
      "2025/07/19 17:49:02 WARNING dspy.adapters.json_adapter: Failed to use structured output format, falling back to JSON mode.\n"
     ]
    },
    {
     "name": "stdout",
     "output_type": "stream",
     "text": [
      "Average Metric: 0.00 / 1 (0.0%):  51%|█████▏    | 18/35 [00:47<00:36,  2.16s/it]"
     ]
    },
    {
     "name": "stderr",
     "output_type": "stream",
     "text": [
      "2025/07/19 17:49:05 ERROR dspy.utils.parallelizer: Error for Example({'claim': \"The star of Spaceball's most renouwned onscreen performance was as Dell Griffith. He was in an Canadian comedy film from 1987.\", 'titles': ['Spaceballs', 'Planes, Trains and Automobiles', 'John Candy']}) (input_keys={'claim'}): litellm.RateLimitError: RateLimitError: Together_aiException - Request was rejected due to request rate limiting. Your rate limits are 60 RPM (1 QPS) and 60000 TPM (1000 TPS). See details: https://docs.together.ai/docs/rate-limits. Set `provide_traceback=True` for traceback.\n"
     ]
    },
    {
     "name": "stdout",
     "output_type": "stream",
     "text": [
      "Average Metric: 0.00 / 1 (0.0%):  54%|█████▍    | 19/35 [00:48<00:27,  1.71s/it]"
     ]
    },
    {
     "name": "stderr",
     "output_type": "stream",
     "text": [
      "2025/07/19 17:49:10 ERROR dspy.utils.parallelizer: Error for Example({'claim': 'Cork has several third level colleges including NMIO, the Crawford College of Art and Design and one other. The 2016 population of the county where the other school is located was 542,196.', 'titles': ['Education in Cork', 'National Maritime College of Ireland', 'County Cork']}) (input_keys={'claim'}): litellm.RateLimitError: RateLimitError: Together_aiException - Request was rejected due to request rate limiting. Your rate limits are 60 RPM (1 QPS) and 60000 TPM (1000 TPS). See details: https://docs.together.ai/docs/rate-limits. Set `provide_traceback=True` for traceback.\n"
     ]
    },
    {
     "name": "stdout",
     "output_type": "stream",
     "text": [
      "Average Metric: 1.00 / 2 (50.0%):  60%|██████    | 21/35 [00:55<00:37,  2.69s/it]"
     ]
    },
    {
     "name": "stderr",
     "output_type": "stream",
     "text": [
      "2025/07/19 17:49:15 ERROR dspy.utils.parallelizer: Error for Example({'claim': 'Irish footballer, John Francis O\\'Shea, joined a company in 1950. This company made the TV movie \"The Coastwatchers\"', 'titles': [\"John O'Shea\", 'Pacific Films', 'The Coastwatchers (TV movie)']}) (input_keys={'claim'}): litellm.RateLimitError: RateLimitError: Together_aiException - Request was rejected due to request rate limiting. Your rate limits are 60 RPM (1 QPS) and 60000 TPM (1000 TPS). See details: https://docs.together.ai/docs/rate-limits. Set `provide_traceback=True` for traceback.\n"
     ]
    },
    {
     "name": "stdout",
     "output_type": "stream",
     "text": [
      "Average Metric: 1.00 / 2 (50.0%):  63%|██████▎   | 22/35 [00:58<00:33,  2.56s/it]"
     ]
    },
    {
     "name": "stderr",
     "output_type": "stream",
     "text": [
      "2025/07/19 17:49:15 ERROR dspy.utils.parallelizer: Error for Example({'claim': 'Helen Mirren, a client of the designer who designed the wedding dress of Sarah Ferguson, played Lindka in \"The Queen\".', 'titles': ['Wedding dress of Sarah Ferguson', 'Lindka Cierach', 'Helen Mirren']}) (input_keys={'claim'}): litellm.RateLimitError: RateLimitError: Together_aiException - Request was rejected due to request rate limiting. Your rate limits are 60 RPM (1 QPS) and 60000 TPM (1000 TPS). See details: https://docs.together.ai/docs/rate-limits. Set `provide_traceback=True` for traceback.\n"
     ]
    },
    {
     "name": "stdout",
     "output_type": "stream",
     "text": [
      "Average Metric: 1.00 / 2 (50.0%):  63%|██████▎   | 22/35 [00:58<00:33,  2.56s/it]"
     ]
    },
    {
     "name": "stderr",
     "output_type": "stream",
     "text": [
      "2025/07/19 17:49:15 ERROR dspy.utils.parallelizer: Error for Example({'claim': \"The defending champion who lost the Singles title at the 1994 Waldbaum's Hamlet Cup, and Max Mirnyi have both been tennis players.\", 'titles': ['Max Mirnyi', \"1994 Waldbaum's Hamlet Cup – Singles\", 'Marc Rosset']}) (input_keys={'claim'}): litellm.RateLimitError: RateLimitError: Together_aiException - Request was rejected due to request rate limiting. Your rate limits are 60 RPM (1 QPS) and 60000 TPM (1000 TPS). See details: https://docs.together.ai/docs/rate-limits. Set `provide_traceback=True` for traceback.\n"
     ]
    },
    {
     "name": "stdout",
     "output_type": "stream",
     "text": [
      "Average Metric: 1.67 / 3 (55.6%):  71%|███████▏  | 25/35 [00:59<00:14,  1.48s/it]"
     ]
    },
    {
     "name": "stderr",
     "output_type": "stream",
     "text": [
      "2025/07/19 17:49:17 ERROR dspy.utils.parallelizer: Error for Example({'claim': 'Il trovatore has more acts than the 1994 Hungarian-Swiss-Italian fantasy film which was loosely inspired by. This Hungarian-Swiss-Italian fantasy film was directed by Ildikó Enyedi and called Magic Hunter.', 'titles': ['Der Freischütz', 'Il trovatore', 'Magic Hunter']}) (input_keys={'claim'}): litellm.RateLimitError: RateLimitError: Together_aiException - Request was rejected due to request rate limiting. Your rate limits are 60 RPM (1 QPS) and 60000 TPM (1000 TPS). See details: https://docs.together.ai/docs/rate-limits. Set `provide_traceback=True` for traceback.\n"
     ]
    },
    {
     "name": "stdout",
     "output_type": "stream",
     "text": [
      "Average Metric: 1.67 / 3 (55.6%):  74%|███████▍  | 26/35 [01:00<00:10,  1.13s/it]"
     ]
    },
    {
     "name": "stderr",
     "output_type": "stream",
     "text": [
      "2025/07/19 17:49:21 ERROR dspy.utils.parallelizer: Error for Example({'claim': 'Ellesmere Port Town Football Club are currently members of the league, whose current principal sponsor is the Football Conference, that Ford Motors F.C. is a part of.', 'titles': ['Ford Motors F.C.', 'West Cheshire Association Football League', 'Ellesmere Port Town F.C.']}) (input_keys={'claim'}): litellm.RateLimitError: RateLimitError: Together_aiException - Request was rejected due to request rate limiting. Your rate limits are 60 RPM (1 QPS) and 60000 TPM (1000 TPS). See details: https://docs.together.ai/docs/rate-limits. Set `provide_traceback=True` for traceback.\n"
     ]
    },
    {
     "name": "stdout",
     "output_type": "stream",
     "text": [
      "Average Metric: 1.67 / 3 (55.6%):  77%|███████▋  | 27/35 [01:04<00:15,  1.97s/it]"
     ]
    },
    {
     "name": "stderr",
     "output_type": "stream",
     "text": [
      "2025/07/19 17:49:23 ERROR dspy.utils.parallelizer: Error for Example({'claim': 'The director of From the Manger to the Cross also acted in it. The director Denis Villeneuve has won more Those Who Make Revolution Halfway than this director.', 'titles': ['Denis Villeneuve', 'Sidney Olcott', 'From the Manger to the Cross']}) (input_keys={'claim'}): litellm.RateLimitError: RateLimitError: Together_aiException - Request was rejected due to request rate limiting. Your rate limits are 60 RPM (1 QPS) and 60000 TPM (1000 TPS). See details: https://docs.together.ai/docs/rate-limits. Set `provide_traceback=True` for traceback.\n"
     ]
    },
    {
     "name": "stdout",
     "output_type": "stream",
     "text": [
      "Average Metric: 2.33 / 4 (58.3%):  83%|████████▎ | 29/35 [01:07<00:10,  1.83s/it]"
     ]
    },
    {
     "name": "stderr",
     "output_type": "stream",
     "text": [
      "2025/07/19 17:49:35 ERROR dspy.utils.parallelizer: Error for Example({'claim': 'Fredric March costarred in 1935 Australian drama film that Frances Drake is best know for, with the husband of Elsa Lanchester.', 'titles': ['Frances Drake', 'Charles Laughton', 'Les Misérables (1935 film)']}) (input_keys={'claim'}): litellm.RateLimitError: RateLimitError: Together_aiException - Request was rejected due to request rate limiting. Your rate limits are 60 RPM (1 QPS) and 60000 TPM (1000 TPS). See details: https://docs.together.ai/docs/rate-limits. Set `provide_traceback=True` for traceback.\n"
     ]
    },
    {
     "name": "stdout",
     "output_type": "stream",
     "text": [
      "Average Metric: 2.33 / 4 (58.3%):  86%|████████▌ | 30/35 [01:18<00:22,  4.44s/it]"
     ]
    },
    {
     "name": "stderr",
     "output_type": "stream",
     "text": [
      "2025/07/19 17:49:55 ERROR dspy.utils.parallelizer: Error for Example({'claim': 'The person who had his voice featured in the 2012 film The Polar Bears, stars as Oliver in a film directed by Luca Guadagnino.', 'titles': ['Call Me by Your Name (film)', 'The Polar Bears', 'Armie Hammer']}) (input_keys={'claim'}): litellm.RateLimitError: RateLimitError: Together_aiException - Request was rejected due to request rate limiting. Your rate limits are 60 RPM (1 QPS) and 60000 TPM (1000 TPS). See details: https://docs.together.ai/docs/rate-limits. Set `provide_traceback=True` for traceback.\n"
     ]
    },
    {
     "name": "stdout",
     "output_type": "stream",
     "text": [
      "Average Metric: 2.33 / 5 (46.7%):  91%|█████████▏| 32/35 [01:43<00:23,  7.84s/it]"
     ]
    },
    {
     "name": "stderr",
     "output_type": "stream",
     "text": [
      "2025/07/19 17:50:02 WARNING dspy.adapters.json_adapter: Failed to use structured output format, falling back to JSON mode.\n"
     ]
    },
    {
     "name": "stdout",
     "output_type": "stream",
     "text": [
      "Average Metric: 2.67 / 8 (33.3%): 100%|██████████| 35/35 [02:03<00:00,  3.52s/it]"
     ]
    },
    {
     "name": "stderr",
     "output_type": "stream",
     "text": [
      "2025/07/19 17:50:20 INFO dspy.evaluate.evaluate: Average Metric: 2.6666666666666665 / 35 (7.6%)\n",
      "2025/07/19 17:50:20 INFO dspy.teleprompt.mipro_optimizer_v2: Score: 7.62 on minibatch of size 35 with parameters ['Predictor 0: Instruction 3', 'Predictor 0: Few-Shot Set 10', 'Predictor 1: Instruction 5', 'Predictor 1: Few-Shot Set 4'].\n",
      "2025/07/19 17:50:20 INFO dspy.teleprompt.mipro_optimizer_v2: Minibatch scores so far: [2.86, 8.57, 18.1, 14.29, 3.81, 2.86, 6.67, 19.05, 0.95, 9.52, 20.95, 18.1, 7.62, 12.38, 7.62, 6.67, 7.62, 7.62]\n",
      "2025/07/19 17:50:20 INFO dspy.teleprompt.mipro_optimizer_v2: Full eval scores so far: [2.08, 22.08, 15.83, 23.33]\n",
      "2025/07/19 17:50:20 INFO dspy.teleprompt.mipro_optimizer_v2: Best full score so far: 23.33\n",
      "2025/07/19 17:50:20 INFO dspy.teleprompt.mipro_optimizer_v2: ==========================================\n",
      "\n",
      "\n",
      "2025/07/19 17:50:20 INFO dspy.teleprompt.mipro_optimizer_v2: == Trial 23 / 35 - Minibatch ==\n"
     ]
    },
    {
     "name": "stdout",
     "output_type": "stream",
     "text": [
      "\n",
      "  0%|          | 0/35 [00:00<?, ?it/s]"
     ]
    },
    {
     "name": "stderr",
     "output_type": "stream",
     "text": [
      "2025/07/19 17:50:36 ERROR dspy.utils.parallelizer: Error for Example({'claim': 'Markounda is a sub-prefecture that borders an Central African Republic country bordered by Libya and the Sudan and is known for the Dar Sila region.', 'titles': ['Markounda', 'Sila Region', 'Chad']}) (input_keys={'claim'}): litellm.RateLimitError: RateLimitError: Together_aiException - Request was rejected due to request rate limiting. Your rate limits are 60 RPM (1 QPS) and 60000 TPM (1000 TPS). See details: https://docs.together.ai/docs/rate-limits. Set `provide_traceback=True` for traceback.\n"
     ]
    },
    {
     "name": "stdout",
     "output_type": "stream",
     "text": [
      "Average Metric: 0.00 / 0 (0%):   3%|▎         | 1/35 [00:15<09:00, 15.91s/it]"
     ]
    },
    {
     "name": "stderr",
     "output_type": "stream",
     "text": [
      "2025/07/19 17:50:38 ERROR dspy.utils.parallelizer: Error for Example({'claim': 'Tim Swanson, who played keyboard for the \"Sweet Nothings\" album, was a member of a different jazz band. This band and Lit were not formed in the same states.', 'titles': ['Lit (band)', 'Sweet Nothings (album)', 'Ideamen']}) (input_keys={'claim'}): litellm.RateLimitError: RateLimitError: Together_aiException - Request was rejected due to request rate limiting. Your rate limits are 60 RPM (1 QPS) and 60000 TPM (1000 TPS). See details: https://docs.together.ai/docs/rate-limits. Set `provide_traceback=True` for traceback.\n",
      "2025/07/19 17:50:38 ERROR dspy.utils.parallelizer: Error for Example({'claim': 'An Greek actor who was a CIA operative in Chuck Versus the A-Team was born in 1974. The actor plays a character in commercials for Old Spice.', 'titles': ['Make a Smellmitment', 'Chuck Versus the A-Team', 'Isaiah Mustafa']}) (input_keys={'claim'}): litellm.RateLimitError: RateLimitError: Together_aiException - Request was rejected due to request rate limiting. Your rate limits are 60 RPM (1 QPS) and 60000 TPM (1000 TPS). See details: https://docs.together.ai/docs/rate-limits. Set `provide_traceback=True` for traceback.\n"
     ]
    },
    {
     "name": "stdout",
     "output_type": "stream",
     "text": [
      "Average Metric: 0.00 / 0 (0%):   6%|▌         | 2/35 [00:17<04:14,  7.71s/it]"
     ]
    },
    {
     "name": "stderr",
     "output_type": "stream",
     "text": [
      "2025/07/19 17:50:39 ERROR dspy.utils.parallelizer: Error for Example({'claim': 'An actor born in 1955 that acted in the movie that was the inspiration for Blackmail (2005 film) was nominated for Golden Globe Award.', 'titles': ['Blackmail (2005 film)', 'Ransom (1996 film)', 'Gary Sinise']}) (input_keys={'claim'}): litellm.RateLimitError: RateLimitError: Together_aiException - Request was rejected due to request rate limiting. Your rate limits are 60 RPM (1 QPS) and 60000 TPM (1000 TPS). See details: https://docs.together.ai/docs/rate-limits. Set `provide_traceback=True` for traceback.\n"
     ]
    },
    {
     "name": "stdout",
     "output_type": "stream",
     "text": [
      "Average Metric: 0.00 / 0 (0%):  11%|█▏        | 4/35 [00:18<01:34,  3.05s/it]"
     ]
    },
    {
     "name": "stderr",
     "output_type": "stream",
     "text": [
      "2025/07/19 17:50:40 ERROR dspy.utils.parallelizer: Error for Example({'claim': 'Sophia Grace & Rosie featured a cover song on their Youtube channel. The pop song from is from an album released under the Syco Music and Columbia Records labels.', 'titles': ['Touch (Little Mix song)', 'Glory Days (Little Mix album)', 'Sophia Grace &amp; Rosie']}) (input_keys={'claim'}): litellm.RateLimitError: RateLimitError: Together_aiException - Request was rejected due to request rate limiting. Your rate limits are 60 RPM (1 QPS) and 60000 TPM (1000 TPS). See details: https://docs.together.ai/docs/rate-limits. Set `provide_traceback=True` for traceback.\n"
     ]
    },
    {
     "name": "stdout",
     "output_type": "stream",
     "text": [
      "Average Metric: 0.00 / 0 (0%):  14%|█▍        | 5/35 [00:19<01:13,  2.46s/it]"
     ]
    },
    {
     "name": "stderr",
     "output_type": "stream",
     "text": [
      "2025/07/19 17:50:41 ERROR dspy.utils.parallelizer: Error for Example({'claim': 'Brady Seals has released more solo albums than the rapper who Avril Lavigne featured on the song Get Over Me with.', 'titles': ['Nick Carter (musician)', 'Brady Seals', 'Get Over Me']}) (input_keys={'claim'}): litellm.RateLimitError: RateLimitError: Together_aiException - Request was rejected due to request rate limiting. Your rate limits are 60 RPM (1 QPS) and 60000 TPM (1000 TPS). See details: https://docs.together.ai/docs/rate-limits. Set `provide_traceback=True` for traceback.\n"
     ]
    },
    {
     "name": "stdout",
     "output_type": "stream",
     "text": [
      "Average Metric: 0.00 / 0 (0%):  17%|█▋        | 6/35 [00:20<01:00,  2.08s/it]"
     ]
    },
    {
     "name": "stderr",
     "output_type": "stream",
     "text": [
      "2025/07/19 17:50:43 ERROR dspy.utils.parallelizer: Error for Example({'claim': 'Mountain Dew is owned by the Pepsi-Cola company. So is the producer of orange juice founded by Anthony T. Rossi.', 'titles': ['Tropicana Products', 'Anthony T. Rossi', 'Mountain Dew']}) (input_keys={'claim'}): litellm.RateLimitError: RateLimitError: Together_aiException - Request was rejected due to request rate limiting. Your rate limits are 60 RPM (1 QPS) and 60000 TPM (1000 TPS). See details: https://docs.together.ai/docs/rate-limits. Set `provide_traceback=True` for traceback.\n"
     ]
    },
    {
     "name": "stdout",
     "output_type": "stream",
     "text": [
      "Average Metric: 0.00 / 0 (0%):  20%|██        | 7/35 [00:22<00:54,  1.95s/it]"
     ]
    },
    {
     "name": "stderr",
     "output_type": "stream",
     "text": [
      "2025/07/19 17:50:47 WARNING dspy.adapters.json_adapter: Failed to use structured output format, falling back to JSON mode.\n",
      "2025/07/19 17:50:47 ERROR dspy.utils.parallelizer: Error for Example({'claim': 'Delta–Mendota Canal is an aqueduct used to divert a canal. The All-American Canal is longer than that canal.', 'titles': ['Delta–Mendota Canal', 'Madera Canal', 'All-American Canal']}) (input_keys={'claim'}): litellm.RateLimitError: RateLimitError: Together_aiException - Request was rejected due to request rate limiting. Your rate limits are 60 RPM (1 QPS) and 60000 TPM (1000 TPS). See details: https://docs.together.ai/docs/rate-limits. Set `provide_traceback=True` for traceback.\n"
     ]
    },
    {
     "name": "stdout",
     "output_type": "stream",
     "text": [
      "Average Metric: 0.67 / 1 (66.7%):  26%|██▌       | 9/35 [00:28<00:59,  2.28s/it]"
     ]
    },
    {
     "name": "stderr",
     "output_type": "stream",
     "text": [
      "2025/07/19 17:50:49 ERROR dspy.utils.parallelizer: Error for Example({'claim': 'The director of From the Manger to the Cross also acted in it. The director Denis Villeneuve has won more Those Who Make Revolution Halfway than this director.', 'titles': ['Denis Villeneuve', 'Sidney Olcott', 'From the Manger to the Cross']}) (input_keys={'claim'}): litellm.RateLimitError: RateLimitError: Together_aiException - Request was rejected due to request rate limiting. Your rate limits are 60 RPM (1 QPS) and 60000 TPM (1000 TPS). See details: https://docs.together.ai/docs/rate-limits. Set `provide_traceback=True` for traceback.\n"
     ]
    },
    {
     "name": "stdout",
     "output_type": "stream",
     "text": [
      "Average Metric: 0.67 / 1 (66.7%):  29%|██▊       | 10/35 [00:29<00:47,  1.90s/it]"
     ]
    },
    {
     "name": "stderr",
     "output_type": "stream",
     "text": [
      "2025/07/19 17:50:52 ERROR dspy.utils.parallelizer: Error for Example({'claim': \"The real life person that James Woods' character is based on in the television film was awarded the Medal of Honor. Steven Vincent Leigh appeared in this film in 1987.\", 'titles': ['James Stockdale', 'Steven Vincent Leigh', 'In Love and War (1987 film)']}) (input_keys={'claim'}): litellm.RateLimitError: RateLimitError: Together_aiException - Request was rejected due to request rate limiting. Your rate limits are 60 RPM (1 QPS) and 60000 TPM (1000 TPS). See details: https://docs.together.ai/docs/rate-limits. Set `provide_traceback=True` for traceback.\n"
     ]
    },
    {
     "name": "stdout",
     "output_type": "stream",
     "text": [
      "Average Metric: 0.67 / 1 (66.7%):  31%|███▏      | 11/35 [00:31<00:47,  1.98s/it]"
     ]
    },
    {
     "name": "stderr",
     "output_type": "stream",
     "text": [
      "2025/07/19 17:50:53 WARNING dspy.adapters.json_adapter: Failed to use structured output format, falling back to JSON mode.\n",
      "2025/07/19 17:50:57 ERROR dspy.utils.parallelizer: Error for Example({'claim': 'Danyang, Jiangusu and this city are both cities in China. This city was the birthplace of Chen Xiuke.', 'titles': ['Danyang, Jiangsu', 'Dongfang, Hainan', 'Chen Xiuke']}) (input_keys={'claim'}): litellm.RateLimitError: RateLimitError: Together_aiException - Request was rejected due to request rate limiting. Your rate limits are 60 RPM (1 QPS) and 60000 TPM (1000 TPS). See details: https://docs.together.ai/docs/rate-limits. Set `provide_traceback=True` for traceback.\n"
     ]
    },
    {
     "name": "stdout",
     "output_type": "stream",
     "text": [
      "Average Metric: 0.67 / 1 (66.7%):  34%|███▍      | 12/35 [00:37<01:10,  3.08s/it]"
     ]
    },
    {
     "name": "stderr",
     "output_type": "stream",
     "text": [
      "2025/07/19 17:51:01 ERROR dspy.utils.parallelizer: Error for Example({'claim': 'This Greek poet was born before Cornel West. His works were translated to English by David Connolly.', 'titles': ['David Connolly (translator)', 'Odysseas Elytis', 'Cornel West']}) (input_keys={'claim'}): Both structured output format and JSON mode failed. Please choose a model that supports `response_format` argument. Original error: litellm.RateLimitError: RateLimitError: Together_aiException - Request was rejected due to request rate limiting. Your rate limits are 60 RPM (1 QPS) and 60000 TPM (1000 TPS). See details: https://docs.together.ai/docs/rate-limits. Set `provide_traceback=True` for traceback.\n"
     ]
    },
    {
     "name": "stdout",
     "output_type": "stream",
     "text": [
      "Average Metric: 0.67 / 1 (66.7%):  37%|███▋      | 13/35 [00:41<01:15,  3.44s/it]"
     ]
    },
    {
     "name": "stderr",
     "output_type": "stream",
     "text": [
      "2025/07/19 17:51:02 ERROR dspy.utils.parallelizer: Error for Example({'claim': 'The genera that the Gordonia-Alatamaha State Park is named after and Osbeckia are not in the same family.', 'titles': ['Gordonia (plant)', 'Osbeckia', 'Gordonia-Alatamaha State Park']}) (input_keys={'claim'}): litellm.RateLimitError: RateLimitError: Together_aiException - Request was rejected due to request rate limiting. Your rate limits are 60 RPM (1 QPS) and 60000 TPM (1000 TPS). See details: https://docs.together.ai/docs/rate-limits. Set `provide_traceback=True` for traceback.\n"
     ]
    },
    {
     "name": "stdout",
     "output_type": "stream",
     "text": [
      "Average Metric: 0.67 / 1 (66.7%):  40%|████      | 14/35 [00:41<00:53,  2.55s/it]"
     ]
    },
    {
     "name": "stderr",
     "output_type": "stream",
     "text": [
      "2025/07/19 17:51:02 ERROR dspy.utils.parallelizer: Error for Example({'claim': 'The father of director Guðný Halldórsdóttir and Timothy Leary are not from the same place.', 'titles': ['Halldór Laxness', 'Timothy Leary', 'Guðný Halldórsdóttir']}) (input_keys={'claim'}): litellm.RateLimitError: RateLimitError: Together_aiException - Request was rejected due to request rate limiting. Your rate limits are 60 RPM (1 QPS) and 60000 TPM (1000 TPS). See details: https://docs.together.ai/docs/rate-limits. Set `provide_traceback=True` for traceback.\n"
     ]
    },
    {
     "name": "stdout",
     "output_type": "stream",
     "text": [
      "Average Metric: 0.67 / 1 (66.7%):  40%|████      | 14/35 [00:41<00:53,  2.55s/it]"
     ]
    },
    {
     "name": "stderr",
     "output_type": "stream",
     "text": [
      "2025/07/19 17:51:06 ERROR dspy.utils.parallelizer: Error for Example({'claim': 'Ellesmere Port Town Football Club are currently members of the league, whose current principal sponsor is the Football Conference, that Ford Motors F.C. is a part of.', 'titles': ['Ford Motors F.C.', 'West Cheshire Association Football League', 'Ellesmere Port Town F.C.']}) (input_keys={'claim'}): litellm.RateLimitError: RateLimitError: Together_aiException - Request was rejected due to request rate limiting. Your rate limits are 60 RPM (1 QPS) and 60000 TPM (1000 TPS). See details: https://docs.together.ai/docs/rate-limits. Set `provide_traceback=True` for traceback.\n"
     ]
    },
    {
     "name": "stdout",
     "output_type": "stream",
     "text": [
      "Average Metric: 0.67 / 2 (33.3%):  49%|████▊     | 17/35 [00:47<00:37,  2.07s/it]"
     ]
    },
    {
     "name": "stderr",
     "output_type": "stream",
     "text": [
      "2025/07/19 17:51:08 ERROR dspy.utils.parallelizer: Error for Example({'claim': 'Jonathan Howsmon Davis lives closer to Canada than this Japanese singer, whose fifth solo studio album is called Singing Bird.', 'titles': ['Koshi Inaba', 'Jonathan Davis', 'Singing Bird']}) (input_keys={'claim'}): litellm.RateLimitError: RateLimitError: Together_aiException - Request was rejected due to request rate limiting. Your rate limits are 60 RPM (1 QPS) and 60000 TPM (1000 TPS). See details: https://docs.together.ai/docs/rate-limits. Set `provide_traceback=True` for traceback.\n"
     ]
    },
    {
     "name": "stdout",
     "output_type": "stream",
     "text": [
      "Average Metric: 0.67 / 2 (33.3%):  51%|█████▏    | 18/35 [00:47<00:28,  1.69s/it]"
     ]
    },
    {
     "name": "stderr",
     "output_type": "stream",
     "text": [
      "2025/07/19 17:51:08 ERROR dspy.utils.parallelizer: Error for Example({'claim': 'An actor was in the film, Focus, that was directed by Glenn Ficarra. This actor was also in the 2016 film \"White Girl\".', 'titles': ['Adrian Martinez (actor)', 'Focus (2015 film)', 'White Girl (2016 film)']}) (input_keys={'claim'}): litellm.RateLimitError: RateLimitError: Together_aiException - Request was rejected due to request rate limiting. Your rate limits are 60 RPM (1 QPS) and 60000 TPM (1000 TPS). See details: https://docs.together.ai/docs/rate-limits. Set `provide_traceback=True` for traceback.\n"
     ]
    },
    {
     "name": "stdout",
     "output_type": "stream",
     "text": [
      "Average Metric: 0.67 / 2 (33.3%):  51%|█████▏    | 18/35 [00:47<00:28,  1.69s/it]"
     ]
    },
    {
     "name": "stderr",
     "output_type": "stream",
     "text": [
      "2025/07/19 17:51:11 ERROR dspy.utils.parallelizer: Error for Example({'claim': 'The elder sister of the actress that played Margaret Devlin in  The Oregon Trail (TV series) is best known for her role as the eldest Von Trapp daughter in \"Liesl\".', 'titles': ['Darleen Carr', 'The Oregon Trail (TV series)', 'Charmian Carr']}) (input_keys={'claim'}): litellm.RateLimitError: RateLimitError: Together_aiException - Request was rejected due to request rate limiting. Your rate limits are 60 RPM (1 QPS) and 60000 TPM (1000 TPS). See details: https://docs.together.ai/docs/rate-limits. Set `provide_traceback=True` for traceback.\n"
     ]
    },
    {
     "name": "stdout",
     "output_type": "stream",
     "text": [
      "Average Metric: 0.67 / 2 (33.3%):  57%|█████▋    | 20/35 [00:50<00:24,  1.65s/it]"
     ]
    },
    {
     "name": "stderr",
     "output_type": "stream",
     "text": [
      "2025/07/19 17:51:14 ERROR dspy.utils.parallelizer: Error for Example({'claim': 'The kind of dog Banana Joe V Tani Kazari is and Villanuco de Las Encartaciones are not both breeds of dog.', 'titles': ['Affenpinscher', 'German Pinscher', 'Villanuco de Las Encartaciones']}) (input_keys={'claim'}): litellm.RateLimitError: RateLimitError: Together_aiException - Request was rejected due to request rate limiting. Your rate limits are 60 RPM (1 QPS) and 60000 TPM (1000 TPS). See details: https://docs.together.ai/docs/rate-limits. Set `provide_traceback=True` for traceback.\n"
     ]
    },
    {
     "name": "stdout",
     "output_type": "stream",
     "text": [
      "Average Metric: 0.67 / 2 (33.3%):  60%|██████    | 21/35 [00:53<00:27,  1.94s/it]"
     ]
    },
    {
     "name": "stderr",
     "output_type": "stream",
     "text": [
      "2025/07/19 17:51:16 ERROR dspy.utils.parallelizer: Error for Example({'claim': \"The owner of Viva (UK and Ireland) changed it's name in late 2004. Their new acronym stand for Gesellschaft mit beschränkter Haftung.\", 'titles': ['Gesellschaft mit beschränkter Haftung', 'Viva (UK and Ireland)', 'VIVA Media']}) (input_keys={'claim'}): litellm.RateLimitError: RateLimitError: Together_aiException - Request was rejected due to request rate limiting. Your rate limits are 60 RPM (1 QPS) and 60000 TPM (1000 TPS). See details: https://docs.together.ai/docs/rate-limits. Set `provide_traceback=True` for traceback.\n"
     ]
    },
    {
     "name": "stdout",
     "output_type": "stream",
     "text": [
      "Average Metric: 0.67 / 2 (33.3%):  63%|██████▎   | 22/35 [00:55<00:25,  1.98s/it]"
     ]
    },
    {
     "name": "stderr",
     "output_type": "stream",
     "text": [
      "2025/07/19 17:51:16 ERROR dspy.utils.parallelizer: Error for Example({'claim': 'The city containing the Parafield railway station is very near the airport and the Mawson Lakes campus of the University of South Australia.', 'titles': ['Parafield, South Australia', 'Parafield railway station', 'Parafield Airport']}) (input_keys={'claim'}): litellm.RateLimitError: RateLimitError: Together_aiException - Request was rejected due to request rate limiting. Your rate limits are 60 RPM (1 QPS) and 60000 TPM (1000 TPS). See details: https://docs.together.ai/docs/rate-limits. Set `provide_traceback=True` for traceback.\n"
     ]
    },
    {
     "name": "stdout",
     "output_type": "stream",
     "text": [
      "Average Metric: 0.67 / 2 (33.3%):  66%|██████▌   | 23/35 [00:56<00:18,  1.50s/it]"
     ]
    },
    {
     "name": "stderr",
     "output_type": "stream",
     "text": [
      "2025/07/19 17:51:17 ERROR dspy.utils.parallelizer: Error for Example({'claim': 'This woman directed the 2005 Disney Channel Original Movie Go Figure whose soundtrack was released on June 7th. She also directed the comedy movie Sugar & Spice.', 'titles': ['Go Figure (film)', 'Sugar &amp; Spice', 'Francine McDougall']}) (input_keys={'claim'}): litellm.RateLimitError: RateLimitError: Together_aiException - Request was rejected due to request rate limiting. Your rate limits are 60 RPM (1 QPS) and 60000 TPM (1000 TPS). See details: https://docs.together.ai/docs/rate-limits. Set `provide_traceback=True` for traceback.\n"
     ]
    },
    {
     "name": "stdout",
     "output_type": "stream",
     "text": [
      "Average Metric: 0.67 / 3 (22.2%):  71%|███████▏  | 25/35 [00:58<00:12,  1.22s/it]"
     ]
    },
    {
     "name": "stderr",
     "output_type": "stream",
     "text": [
      "2025/07/19 17:51:18 ERROR dspy.utils.parallelizer: Error for Example({'claim': 'Neither the director of the 1943 film \"Young and Willing\" nor Edward Burns are from Guatemala.', 'titles': ['Edward H. Griffith', 'Edward Burns', 'Young and Willing']}) (input_keys={'claim'}): litellm.RateLimitError: RateLimitError: Together_aiException - Request was rejected due to request rate limiting. Your rate limits are 60 RPM (1 QPS) and 60000 TPM (1000 TPS). See details: https://docs.together.ai/docs/rate-limits. Set `provide_traceback=True` for traceback.\n"
     ]
    },
    {
     "name": "stdout",
     "output_type": "stream",
     "text": [
      "Average Metric: 0.67 / 3 (22.2%):  71%|███████▏  | 25/35 [00:58<00:12,  1.22s/it]"
     ]
    },
    {
     "name": "stderr",
     "output_type": "stream",
     "text": [
      "2025/07/19 17:51:22 ERROR dspy.utils.parallelizer: Error for Example({'claim': 'Fredric March costarred in 1935 Australian drama film that Frances Drake is best know for, with the husband of Elsa Lanchester.', 'titles': ['Frances Drake', 'Charles Laughton', 'Les Misérables (1935 film)']}) (input_keys={'claim'}): litellm.RateLimitError: RateLimitError: Together_aiException - Request was rejected due to request rate limiting. Your rate limits are 60 RPM (1 QPS) and 60000 TPM (1000 TPS). See details: https://docs.together.ai/docs/rate-limits. Set `provide_traceback=True` for traceback.\n"
     ]
    },
    {
     "name": "stdout",
     "output_type": "stream",
     "text": [
      "Average Metric: 0.67 / 3 (22.2%):  77%|███████▋  | 27/35 [01:02<00:12,  1.60s/it]"
     ]
    },
    {
     "name": "stderr",
     "output_type": "stream",
     "text": [
      "2025/07/19 17:51:23 WARNING dspy.adapters.json_adapter: Failed to use structured output format, falling back to JSON mode.\n",
      "2025/07/19 17:51:25 ERROR dspy.utils.parallelizer: Error for Example({'claim': 'Lari Michele White is the county music artist that first gained national attention as a winner on \"You Can Be a Star\". She then went on to provide background vocals on the first single of the album, Now and Then.', 'titles': ['Lari White', 'Take It Like a Man (Michelle Wright song)', 'Now and Then (Michelle Wright album)']}) (input_keys={'claim'}): litellm.RateLimitError: RateLimitError: Together_aiException - Request was rejected due to request rate limiting. Your rate limits are 60 RPM (1 QPS) and 60000 TPM (1000 TPS). See details: https://docs.together.ai/docs/rate-limits. Set `provide_traceback=True` for traceback.\n"
     ]
    },
    {
     "name": "stdout",
     "output_type": "stream",
     "text": [
      "Average Metric: 1.00 / 4 (25.0%):  83%|████████▎ | 29/35 [01:04<00:08,  1.35s/it]"
     ]
    },
    {
     "name": "stderr",
     "output_type": "stream",
     "text": [
      "2025/07/19 17:51:29 ERROR dspy.utils.parallelizer: Error for Example({'claim': 'Grand Forks International Airport is closer to the town it is near, than the airport close by to The Texas Air & Space Museum.', 'titles': ['Texas Air &amp; Space Museum', 'Rick Husband Amarillo International Airport', 'Grand Forks International Airport']}) (input_keys={'claim'}): litellm.RateLimitError: RateLimitError: Together_aiException - Request was rejected due to request rate limiting. Your rate limits are 60 RPM (1 QPS) and 60000 TPM (1000 TPS). See details: https://docs.together.ai/docs/rate-limits. Set `provide_traceback=True` for traceback.\n"
     ]
    },
    {
     "name": "stdout",
     "output_type": "stream",
     "text": [
      "Average Metric: 1.00 / 4 (25.0%):  86%|████████▌ | 30/35 [01:08<00:10,  2.11s/it]"
     ]
    },
    {
     "name": "stderr",
     "output_type": "stream",
     "text": [
      "2025/07/19 17:51:31 ERROR dspy.utils.parallelizer: Error for Example({'claim': 'This American composer composed Troubled Island. He was born in 1895 was married to his frequent collaborator Verna Arvey.', 'titles': ['William Grant Still', 'A Bayou Legend', 'Troubled Island']}) (input_keys={'claim'}): litellm.RateLimitError: RateLimitError: Together_aiException - Request was rejected due to request rate limiting. Your rate limits are 60 RPM (1 QPS) and 60000 TPM (1000 TPS). See details: https://docs.together.ai/docs/rate-limits. Set `provide_traceback=True` for traceback.\n"
     ]
    },
    {
     "name": "stdout",
     "output_type": "stream",
     "text": [
      "Average Metric: 1.00 / 4 (25.0%):  89%|████████▊ | 31/35 [01:10<00:08,  2.04s/it]"
     ]
    },
    {
     "name": "stderr",
     "output_type": "stream",
     "text": [
      "2025/07/19 17:51:45 WARNING dspy.adapters.json_adapter: Failed to use structured output format, falling back to JSON mode.\n",
      "2025/07/19 17:51:52 ERROR dspy.utils.parallelizer: Error for Example({'claim': 'Archers of Loaf is an indie band. The band who had a song called Shelf in the Room is not.', 'titles': ['Days of the New', 'Archers of Loaf', 'Shelf in the Room']}) (input_keys={'claim'}): Both structured output format and JSON mode failed. Please choose a model that supports `response_format` argument. Original error: litellm.RateLimitError: RateLimitError: Together_aiException - Request was rejected due to request rate limiting. Your rate limits are 60 RPM (1 QPS) and 60000 TPM (1000 TPS). See details: https://docs.together.ai/docs/rate-limits. Set `provide_traceback=True` for traceback.\n"
     ]
    },
    {
     "name": "stdout",
     "output_type": "stream",
     "text": [
      "Average Metric: 1.00 / 4 (25.0%):  91%|█████████▏| 32/35 [01:31<00:22,  7.48s/it]"
     ]
    },
    {
     "name": "stderr",
     "output_type": "stream",
     "text": [
      "2025/07/19 17:51:59 WARNING dspy.adapters.json_adapter: Failed to use structured output format, falling back to JSON mode.\n"
     ]
    },
    {
     "name": "stdout",
     "output_type": "stream",
     "text": [
      "Average Metric: 1.33 / 7 (19.0%): 100%|██████████| 35/35 [01:51<00:00,  3.19s/it]"
     ]
    },
    {
     "name": "stderr",
     "output_type": "stream",
     "text": [
      "2025/07/19 17:52:12 INFO dspy.evaluate.evaluate: Average Metric: 1.3333333333333333 / 35 (3.8%)\n",
      "2025/07/19 17:52:12 INFO dspy.teleprompt.mipro_optimizer_v2: Score: 3.81 on minibatch of size 35 with parameters ['Predictor 0: Instruction 3', 'Predictor 0: Few-Shot Set 6', 'Predictor 1: Instruction 5', 'Predictor 1: Few-Shot Set 10'].\n",
      "2025/07/19 17:52:12 INFO dspy.teleprompt.mipro_optimizer_v2: Minibatch scores so far: [2.86, 8.57, 18.1, 14.29, 3.81, 2.86, 6.67, 19.05, 0.95, 9.52, 20.95, 18.1, 7.62, 12.38, 7.62, 6.67, 7.62, 7.62, 3.81]\n",
      "2025/07/19 17:52:12 INFO dspy.teleprompt.mipro_optimizer_v2: Full eval scores so far: [2.08, 22.08, 15.83, 23.33]\n",
      "2025/07/19 17:52:12 INFO dspy.teleprompt.mipro_optimizer_v2: Best full score so far: 23.33\n",
      "2025/07/19 17:52:12 INFO dspy.teleprompt.mipro_optimizer_v2: ==========================================\n",
      "\n",
      "\n",
      "2025/07/19 17:52:12 INFO dspy.teleprompt.mipro_optimizer_v2: == Trial 24 / 35 - Minibatch ==\n"
     ]
    },
    {
     "name": "stdout",
     "output_type": "stream",
     "text": [
      "\n",
      "  0%|          | 0/35 [00:00<?, ?it/s]"
     ]
    },
    {
     "name": "stderr",
     "output_type": "stream",
     "text": [
      "2025/07/19 17:52:29 ERROR dspy.utils.parallelizer: Error for Example({'claim': 'Bowdoin College was established before another university. This university was attended by John Wesley Hughes.', 'titles': ['Vanderbilt University', 'John Wesley Hughes', 'Bowdoin College']}) (input_keys={'claim'}): litellm.RateLimitError: RateLimitError: Together_aiException - Request was rejected due to request rate limiting. Your rate limits are 60 RPM (1 QPS) and 60000 TPM (1000 TPS). See details: https://docs.together.ai/docs/rate-limits. Set `provide_traceback=True` for traceback.\n"
     ]
    },
    {
     "name": "stdout",
     "output_type": "stream",
     "text": [
      "Average Metric: 0.00 / 0 (0%):   3%|▎         | 1/35 [00:16<09:17, 16.40s/it]"
     ]
    },
    {
     "name": "stderr",
     "output_type": "stream",
     "text": [
      "2025/07/19 17:52:29 ERROR dspy.utils.parallelizer: Error for Example({'claim': 'Il trovatore has more acts than the 1994 Hungarian-Swiss-Italian fantasy film which was loosely inspired by. This Hungarian-Swiss-Italian fantasy film was directed by Ildikó Enyedi and called Magic Hunter.', 'titles': ['Der Freischütz', 'Il trovatore', 'Magic Hunter']}) (input_keys={'claim'}): litellm.RateLimitError: RateLimitError: Together_aiException - Request was rejected due to request rate limiting. Your rate limits are 60 RPM (1 QPS) and 60000 TPM (1000 TPS). See details: https://docs.together.ai/docs/rate-limits. Set `provide_traceback=True` for traceback.\n"
     ]
    },
    {
     "name": "stdout",
     "output_type": "stream",
     "text": [
      "Average Metric: 0.00 / 0 (0%):   6%|▌         | 2/35 [00:16<03:46,  6.87s/it]"
     ]
    },
    {
     "name": "stderr",
     "output_type": "stream",
     "text": [
      "2025/07/19 17:52:29 ERROR dspy.utils.parallelizer: Error for Example({'claim': 'Africa has a distribution of both the Ternstroemia and the genus that Seemannaralia gerrardii was originally included in.', 'titles': ['Seemannaralia gerrardii', 'Cussonia', 'Ternstroemia']}) (input_keys={'claim'}): litellm.RateLimitError: RateLimitError: Together_aiException - Request was rejected due to request rate limiting. Your rate limits are 60 RPM (1 QPS) and 60000 TPM (1000 TPS). See details: https://docs.together.ai/docs/rate-limits. Set `provide_traceback=True` for traceback.\n"
     ]
    },
    {
     "name": "stdout",
     "output_type": "stream",
     "text": [
      "Average Metric: 0.00 / 0 (0%):   6%|▌         | 2/35 [00:16<03:46,  6.87s/it]"
     ]
    },
    {
     "name": "stderr",
     "output_type": "stream",
     "text": [
      "2025/07/19 17:52:29 ERROR dspy.utils.parallelizer: Error for Example({'claim': 'This American composer composed Troubled Island. He was born in 1895 was married to his frequent collaborator Verna Arvey.', 'titles': ['William Grant Still', 'A Bayou Legend', 'Troubled Island']}) (input_keys={'claim'}): litellm.RateLimitError: RateLimitError: Together_aiException - Request was rejected due to request rate limiting. Your rate limits are 60 RPM (1 QPS) and 60000 TPM (1000 TPS). See details: https://docs.together.ai/docs/rate-limits. Set `provide_traceback=True` for traceback.\n"
     ]
    },
    {
     "name": "stdout",
     "output_type": "stream",
     "text": [
      "Average Metric: 0.00 / 0 (0%):   9%|▊         | 3/35 [00:16<03:39,  6.87s/it]"
     ]
    },
    {
     "name": "stderr",
     "output_type": "stream",
     "text": [
      "2025/07/19 17:52:29 ERROR dspy.utils.parallelizer: Error for Example({'claim': 'Lincoln Barrett is the real name of the welsh electronic music producer DJ who have been visited the night club  in Vienna hundreds of times. The Waves of Vienna festival takes place in the same nightclub.', 'titles': ['Flex (club)', 'Waves Vienna', 'High Contrast']}) (input_keys={'claim'}): litellm.RateLimitError: RateLimitError: Together_aiException - Request was rejected due to request rate limiting. Your rate limits are 60 RPM (1 QPS) and 60000 TPM (1000 TPS). See details: https://docs.together.ai/docs/rate-limits. Set `provide_traceback=True` for traceback.\n"
     ]
    },
    {
     "name": "stdout",
     "output_type": "stream",
     "text": [
      "Average Metric: 0.00 / 1 (0.0%):  17%|█▋        | 6/35 [00:17<00:49,  1.71s/it]"
     ]
    },
    {
     "name": "stderr",
     "output_type": "stream",
     "text": [
      "2025/07/19 17:52:33 ERROR dspy.utils.parallelizer: Error for Example({'claim': 'This character as featured in the comic book, Hellblazer Special: Bad Blood. He is  is the fictional antihero from comic books published by DC Comics, who sometimes acts as a cab driver, and was created by Alan Moore, Steve Bissette, and John Totleben.', 'titles': ['Chas Chandler (comics)', 'Hellblazer Special: Bad Blood', 'John Constantine']}) (input_keys={'claim'}): litellm.RateLimitError: RateLimitError: Together_aiException - Request was rejected due to request rate limiting. Your rate limits are 60 RPM (1 QPS) and 60000 TPM (1000 TPS). See details: https://docs.together.ai/docs/rate-limits. Set `provide_traceback=True` for traceback.\n"
     ]
    },
    {
     "name": "stdout",
     "output_type": "stream",
     "text": [
      "Average Metric: 0.00 / 1 (0.0%):  20%|██        | 7/35 [00:20<00:56,  2.01s/it]"
     ]
    },
    {
     "name": "stderr",
     "output_type": "stream",
     "text": [
      "2025/07/19 17:52:37 WARNING dspy.adapters.json_adapter: Failed to use structured output format, falling back to JSON mode.\n",
      "2025/07/19 17:52:37 ERROR dspy.utils.parallelizer: Error for Example({'claim': 'The founder of Legendary Entertainment produced the movie, The Hangover, which was based in Las Vegas.', 'titles': ['Legendary Entertainment', 'Thomas Tull', 'The Hangover']}) (input_keys={'claim'}): litellm.RateLimitError: RateLimitError: Together_aiException - Request was rejected due to request rate limiting. Your rate limits are 60 RPM (1 QPS) and 60000 TPM (1000 TPS). See details: https://docs.together.ai/docs/rate-limits. Set `provide_traceback=True` for traceback.\n"
     ]
    },
    {
     "name": "stdout",
     "output_type": "stream",
     "text": [
      "Average Metric: 0.00 / 1 (0.0%):  23%|██▎       | 8/35 [00:24<01:10,  2.61s/it]"
     ]
    },
    {
     "name": "stderr",
     "output_type": "stream",
     "text": [
      "2025/07/19 17:52:37 WARNING dspy.adapters.json_adapter: Failed to use structured output format, falling back to JSON mode.\n"
     ]
    },
    {
     "name": "stdout",
     "output_type": "stream",
     "text": [
      "Average Metric: 0.33 / 3 (11.1%):  29%|██▊       | 10/35 [00:28<00:56,  2.28s/it]"
     ]
    },
    {
     "name": "stderr",
     "output_type": "stream",
     "text": [
      "2025/07/19 17:52:43 ERROR dspy.utils.parallelizer: Error for Example({'claim': 'The summer 2016 romantic drama \"Me Before You\" is directed by Thea Sharrock. The star of the film The Lost Future (who also appears in The Hunger Games) stars as the character Will Traynor.', 'titles': ['The Lost Future', 'Me Before You (film)', 'Sam Claflin']}) (input_keys={'claim'}): litellm.RateLimitError: RateLimitError: Together_aiException - Request was rejected due to request rate limiting. Your rate limits are 60 RPM (1 QPS) and 60000 TPM (1000 TPS). See details: https://docs.together.ai/docs/rate-limits. Set `provide_traceback=True` for traceback.\n"
     ]
    },
    {
     "name": "stdout",
     "output_type": "stream",
     "text": [
      "Average Metric: 0.33 / 3 (11.1%):  31%|███▏      | 11/35 [00:30<00:54,  2.26s/it]"
     ]
    },
    {
     "name": "stderr",
     "output_type": "stream",
     "text": [
      "2025/07/19 17:52:46 WARNING dspy.adapters.json_adapter: Failed to use structured output format, falling back to JSON mode.\n",
      "2025/07/19 17:52:46 ERROR dspy.utils.parallelizer: Error for Example({'claim': 'The elder sister of the actress that played Margaret Devlin in  The Oregon Trail (TV series) is best known for her role as the eldest Von Trapp daughter in \"Liesl\".', 'titles': ['Darleen Carr', 'The Oregon Trail (TV series)', 'Charmian Carr']}) (input_keys={'claim'}): Both structured output format and JSON mode failed. Please choose a model that supports `response_format` argument. Original error: litellm.RateLimitError: RateLimitError: Together_aiException - Request was rejected due to request rate limiting. Your rate limits are 60 RPM (1 QPS) and 60000 TPM (1000 TPS). See details: https://docs.together.ai/docs/rate-limits. Set `provide_traceback=True` for traceback.\n"
     ]
    },
    {
     "name": "stdout",
     "output_type": "stream",
     "text": [
      "Average Metric: 0.33 / 3 (11.1%):  31%|███▏      | 11/35 [00:33<00:54,  2.26s/it]"
     ]
    },
    {
     "name": "stderr",
     "output_type": "stream",
     "text": [
      "2025/07/19 17:52:46 ERROR dspy.utils.parallelizer: Error for Example({'claim': 'Both the character, who is sometimes called the  \"Mad Hatter\" in adaptations of the book. and March Hare are characters in the book Alice\\'s Adventures in Wonderland', 'titles': [\"Hatter (Alice's Adventures in Wonderland)\", 'Mad Hatter (comics)', 'March Hare']}) (input_keys={'claim'}): litellm.RateLimitError: RateLimitError: Together_aiException - Request was rejected due to request rate limiting. Your rate limits are 60 RPM (1 QPS) and 60000 TPM (1000 TPS). See details: https://docs.together.ai/docs/rate-limits. Set `provide_traceback=True` for traceback.\n"
     ]
    },
    {
     "name": "stdout",
     "output_type": "stream",
     "text": [
      "Average Metric: 0.33 / 3 (11.1%):  34%|███▍      | 12/35 [00:33<00:54,  2.39s/it]"
     ]
    },
    {
     "name": "stderr",
     "output_type": "stream",
     "text": [
      "2025/07/19 17:52:48 ERROR dspy.utils.parallelizer: Error for Example({'claim': 'Lari Michele White is the county music artist that first gained national attention as a winner on \"You Can Be a Star\". She then went on to provide background vocals on the first single of the album, Now and Then.', 'titles': ['Lari White', 'Take It Like a Man (Michelle Wright song)', 'Now and Then (Michelle Wright album)']}) (input_keys={'claim'}): litellm.RateLimitError: RateLimitError: Together_aiException - Request was rejected due to request rate limiting. Your rate limits are 60 RPM (1 QPS) and 60000 TPM (1000 TPS). See details: https://docs.together.ai/docs/rate-limits. Set `provide_traceback=True` for traceback.\n"
     ]
    },
    {
     "name": "stdout",
     "output_type": "stream",
     "text": [
      "Average Metric: 0.33 / 3 (11.1%):  40%|████      | 14/35 [00:35<00:36,  1.73s/it]"
     ]
    },
    {
     "name": "stderr",
     "output_type": "stream",
     "text": [
      "2025/07/19 17:52:48 ERROR dspy.utils.parallelizer: Error for Example({'claim': 'Cork has several third level colleges including NMIO, the Crawford College of Art and Design and one other. The 2016 population of the county where the other school is located was 542,196.', 'titles': ['Education in Cork', 'National Maritime College of Ireland', 'County Cork']}) (input_keys={'claim'}): litellm.RateLimitError: RateLimitError: Together_aiException - Request was rejected due to request rate limiting. Your rate limits are 60 RPM (1 QPS) and 60000 TPM (1000 TPS). See details: https://docs.together.ai/docs/rate-limits. Set `provide_traceback=True` for traceback.\n"
     ]
    },
    {
     "name": "stdout",
     "output_type": "stream",
     "text": [
      "Average Metric: 0.33 / 3 (11.1%):  43%|████▎     | 15/35 [00:35<00:26,  1.33s/it]"
     ]
    },
    {
     "name": "stderr",
     "output_type": "stream",
     "text": [
      "2025/07/19 17:52:48 ERROR dspy.utils.parallelizer: Error for Example({'claim': \"The MTV show that was hosted by a member of this band, whom Street Music artist and American hip hop musician Defari was part of, was You Can't See Me.\", 'titles': ['Likwit Crew', 'Street Music', 'Xzibit']}) (input_keys={'claim'}): litellm.RateLimitError: RateLimitError: Together_aiException - Request was rejected due to request rate limiting. Your rate limits are 60 RPM (1 QPS) and 60000 TPM (1000 TPS). See details: https://docs.together.ai/docs/rate-limits. Set `provide_traceback=True` for traceback.\n"
     ]
    },
    {
     "name": "stdout",
     "output_type": "stream",
     "text": [
      "Average Metric: 0.67 / 4 (16.7%):  46%|████▌     | 16/35 [00:35<00:25,  1.33s/it]"
     ]
    },
    {
     "name": "stderr",
     "output_type": "stream",
     "text": [
      "2025/07/19 17:52:49 ERROR dspy.utils.parallelizer: Error for Example({'claim': 'The 1935 propaganda documentary, on which Karl Attenberger worked with Leni Riefenstahl, and The End of America were not both made in the same year.', 'titles': ['Triumph of the Will', 'The End of America (film)', 'Karl Attenberger']}) (input_keys={'claim'}): litellm.RateLimitError: RateLimitError: Together_aiException - Request was rejected due to request rate limiting. Your rate limits are 60 RPM (1 QPS) and 60000 TPM (1000 TPS). See details: https://docs.together.ai/docs/rate-limits. Set `provide_traceback=True` for traceback.\n"
     ]
    },
    {
     "name": "stdout",
     "output_type": "stream",
     "text": [
      "Average Metric: 0.67 / 4 (16.7%):  51%|█████▏    | 18/35 [00:36<00:14,  1.17it/s]"
     ]
    },
    {
     "name": "stderr",
     "output_type": "stream",
     "text": [
      "2025/07/19 17:52:52 WARNING dspy.adapters.json_adapter: Failed to use structured output format, falling back to JSON mode.\n",
      "2025/07/19 17:52:52 WARNING dspy.adapters.json_adapter: Failed to use structured output format, falling back to JSON mode.\n",
      "2025/07/19 17:52:54 WARNING dspy.adapters.json_adapter: Failed to use structured output format, falling back to JSON mode.\n",
      "2025/07/19 17:52:54 ERROR dspy.utils.parallelizer: Error for Example({'claim': 'Danyang, Jiangusu and this city are both cities in China. This city was the birthplace of Chen Xiuke.', 'titles': ['Danyang, Jiangsu', 'Dongfang, Hainan', 'Chen Xiuke']}) (input_keys={'claim'}): litellm.RateLimitError: RateLimitError: Together_aiException - Request was rejected due to request rate limiting. Your rate limits are 60 RPM (1 QPS) and 60000 TPM (1000 TPS). See details: https://docs.together.ai/docs/rate-limits. Set `provide_traceback=True` for traceback.\n"
     ]
    },
    {
     "name": "stdout",
     "output_type": "stream",
     "text": [
      "Average Metric: 2.00 / 7 (28.6%):  63%|██████▎   | 22/35 [00:45<00:19,  1.48s/it]"
     ]
    },
    {
     "name": "stderr",
     "output_type": "stream",
     "text": [
      "2025/07/19 17:53:03 ERROR dspy.utils.parallelizer: Error for Example({'claim': 'Fredric March costarred in 1935 Australian drama film that Frances Drake is best know for, with the husband of Elsa Lanchester.', 'titles': ['Frances Drake', 'Charles Laughton', 'Les Misérables (1935 film)']}) (input_keys={'claim'}): Both structured output format and JSON mode failed. Please choose a model that supports `response_format` argument. Original error: litellm.RateLimitError: RateLimitError: Together_aiException - Request was rejected due to request rate limiting. Your rate limits are 60 RPM (1 QPS) and 60000 TPM (1000 TPS). See details: https://docs.together.ai/docs/rate-limits. Set `provide_traceback=True` for traceback.\n"
     ]
    },
    {
     "name": "stdout",
     "output_type": "stream",
     "text": [
      "Average Metric: 2.00 / 8 (25.0%):  69%|██████▊   | 24/35 [00:51<00:21,  1.99s/it]"
     ]
    },
    {
     "name": "stderr",
     "output_type": "stream",
     "text": [
      "2025/07/19 17:53:05 ERROR dspy.utils.parallelizer: Error for Example({'claim': 'The Stanley Kubrick thriller that Nicole Kidman worked with Tom Cruise on, starring Vinessa Elizabeth Shaw, was based on the novella \"Traumnovelle\" (\"Dream Story\") .', 'titles': ['Vinessa Shaw', 'Eyes Wide Shut', 'Nicole Kidman filmography']}) (input_keys={'claim'}): litellm.RateLimitError: RateLimitError: Together_aiException - Request was rejected due to request rate limiting. Your rate limits are 60 RPM (1 QPS) and 60000 TPM (1000 TPS). See details: https://docs.together.ai/docs/rate-limits. Set `provide_traceback=True` for traceback.\n"
     ]
    },
    {
     "name": "stdout",
     "output_type": "stream",
     "text": [
      "Average Metric: 2.00 / 8 (25.0%):  71%|███████▏  | 25/35 [00:53<00:18,  1.89s/it]"
     ]
    }
   ],
   "source": [
    "kwargs = dict(teacher_settings=dict(lm=gpt4o), prompt_model=gpt4o, max_errors=999)\n",
    "\n",
    "tp = dspy.MIPROv2(metric=top5_recall, auto=\"medium\", num_threads=16, **kwargs)\n",
    "optimized_react = tp.compile(react, trainset=trainset, max_bootstrapped_demos=3, max_labeled_demos=0)"
   ]
  },
  {
   "cell_type": "code",
   "execution_count": null,
   "metadata": {},
   "outputs": [],
   "source": [
    "evaluate(optimized_react)"
   ]
  },
  {
   "cell_type": "code",
   "execution_count": null,
   "metadata": {},
   "outputs": [],
   "source": [
    "optimized_react(claim=\"The author of the 1960s unproduced script written for The Beatles, Up Against It, and Bernard-Marie Koltès are both playwrights.\").titles"
   ]
  },
  {
   "cell_type": "code",
   "execution_count": null,
   "metadata": {},
   "outputs": [],
   "source": [
    "optimized_react.save(\"optimized_react.json\")\n",
    "\n",
    "loaded_react = dspy.ReAct(\"claim -> titles: list[str]\", tools=[search_wikipedia, lookup_wikipedia], max_iters=20)\n",
    "loaded_react.load(\"optimized_react.json\")\n",
    "\n",
    "loaded_react(claim=\"The author of the 1960s unproduced script written for The Beatles, Up Against It, and Bernard-Marie Koltès are both playwrights.\").titles"
   ]
  }
 ],
 "metadata": {
  "kernelspec": {
   "display_name": "modaic-cVI88qFt-py3.10",
   "language": "python",
   "name": "python3"
  },
  "language_info": {
   "codemirror_mode": {
    "name": "ipython",
    "version": 3
   },
   "file_extension": ".py",
   "mimetype": "text/x-python",
   "name": "python",
   "nbconvert_exporter": "python",
   "pygments_lexer": "ipython3",
   "version": "3.10.8"
  }
 },
 "nbformat": 4,
 "nbformat_minor": 2
}
