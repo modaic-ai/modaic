{
 "cells": [
  {
   "cell_type": "code",
   "execution_count": 1,
   "id": "f47cd8dd",
   "metadata": {},
   "outputs": [
    {
     "name": "stderr",
     "output_type": "stream",
     "text": [
      "/Users/tytodd/Desktop/Projects/modaic/.venv/lib/python3.10/site-packages/milvus_lite/__init__.py:15: UserWarning: pkg_resources is deprecated as an API. See https://setuptools.pypa.io/en/latest/pkg_resources.html. The pkg_resources package is slated for removal as early as 2025-11-30. Refrain from using this package or pin to Setuptools<81.\n",
      "  from pkg_resources import DistributionNotFound, get_distribution\n"
     ]
    },
    {
     "name": "stdout",
     "output_type": "stream",
     "text": [
      "    Rank                                            Airport  \\\n",
      "0      1              Toronto Pearson International Airport   \n",
      "1      2                    Vancouver International Airport   \n",
      "2      3       John C. Munro Hamilton International Airport   \n",
      "3      4                      Calgary International Airport   \n",
      "4      5  Montréal-Pierre Elliott Trudeau International ...   \n",
      "5      6             Montréal-Mirabel International Airport   \n",
      "6      7  Winnipeg James Armstrong Richardson Internatio...   \n",
      "7      8            Halifax Stanfield International Airport   \n",
      "8      9                     Edmonton International Airport   \n",
      "9     10              Greater Moncton International Airport   \n",
      "10    11     Ottawa Macdonald-Cartier International Airport   \n",
      "11    12                  St. John 's International Airport   \n",
      "12    13                     Victoria International Airport   \n",
      "13    14  Saskatoon John G. Diefenbaker International Ai...   \n",
      "14    15      Québec City Jean Lesage International Airport   \n",
      "15    16                      Kelowna International Airport   \n",
      "16    17                  Thunder Bay International Airport   \n",
      "17    18                              Prince George Airport   \n",
      "18    19                      Windsor International Airport   \n",
      "19    20                Fort McMurray International Airport   \n",
      "\n",
      "                     Serves Total ( tonnes ) Annual change  \n",
      "0      Greater Toronto Area        345,532.8         -0.1%  \n",
      "1           Metro Vancouver        194,317.2          0.5%  \n",
      "2                  Hamilton         86,541.7          6.4%  \n",
      "3                   Calgary         81,391.8         -2.8%  \n",
      "4          Greater Montreal         77,005.0         -1.5%  \n",
      "5          Greater Montreal         64,250.5          0.6%  \n",
      "6                  Winnipeg         60,254.7         -9.3%  \n",
      "7                   Halifax         27,514.5          3.0%  \n",
      "8   Edmonton Capital Region         27,172.8          9.8%  \n",
      "9                   Moncton         19,758.8        -13.8%  \n",
      "10                   Ottawa         14,764.0         39.1%  \n",
      "11              St. John 's          7,232.6         -8.8%  \n",
      "12                 Victoria          4,610.9         -6.1%  \n",
      "13                Saskatoon          4,450.5        -19.9%  \n",
      "14              Quebec City          2,934.3         44.2%  \n",
      "15                  Kelowna          2,327.4        -21.7%  \n",
      "16              Thunder Bay          1,487.1        -15.4%  \n",
      "17            Prince George          1,059.1        -30.0%  \n",
      "18                  Windsor            650.9         13.2%  \n",
      "19            Fort McMurray            587.3         -2.1%   sheet1 {} Source(origin='dev_excel/List_of_the_busiest_airports_in_Canada_12.xlsx', type=<SourceType.LOCAL_PATH: 2>, metadata={}) {}\n"
     ]
    },
    {
     "ename": "TypeError",
     "evalue": "Table.__init__() takes from 3 to 4 positional arguments but 5 were given",
     "output_type": "error",
     "traceback": [
      "\u001b[0;31m---------------------------------------------------------------------------\u001b[0m",
      "\u001b[0;31mTypeError\u001b[0m                                 Traceback (most recent call last)",
      "Cell \u001b[0;32mIn[1], line 18\u001b[0m\n\u001b[1;32m     16\u001b[0m excel_files \u001b[38;5;241m=\u001b[39m [os\u001b[38;5;241m.\u001b[39mpath\u001b[38;5;241m.\u001b[39mjoin(\u001b[38;5;124m\"\u001b[39m\u001b[38;5;124mdev_excel\u001b[39m\u001b[38;5;124m\"\u001b[39m, f) \u001b[38;5;28;01mfor\u001b[39;00m f \u001b[38;5;129;01min\u001b[39;00m os\u001b[38;5;241m.\u001b[39mlistdir(\u001b[38;5;124m\"\u001b[39m\u001b[38;5;124mdev_excel\u001b[39m\u001b[38;5;124m\"\u001b[39m)]\n\u001b[1;32m     17\u001b[0m doc_files \u001b[38;5;241m=\u001b[39m [os\u001b[38;5;241m.\u001b[39mpath\u001b[38;5;241m.\u001b[39mjoin(\u001b[38;5;124m\"\u001b[39m\u001b[38;5;124mdev_doc\u001b[39m\u001b[38;5;124m\"\u001b[39m, f) \u001b[38;5;28;01mfor\u001b[39;00m f \u001b[38;5;129;01min\u001b[39;00m os\u001b[38;5;241m.\u001b[39mlistdir(\u001b[38;5;124m\"\u001b[39m\u001b[38;5;124mdev_doc\u001b[39m\u001b[38;5;124m\"\u001b[39m)]\n\u001b[0;32m---> 18\u001b[0m \u001b[43mmy_indexer\u001b[49m\u001b[38;5;241;43m.\u001b[39;49m\u001b[43mingest\u001b[49m\u001b[43m(\u001b[49m\u001b[43mexcel_files\u001b[49m\u001b[43m \u001b[49m\u001b[38;5;241;43m+\u001b[39;49m\u001b[43m \u001b[49m\u001b[43mdoc_files\u001b[49m\u001b[43m)\u001b[49m\n\u001b[1;32m     20\u001b[0m trag \u001b[38;5;241m=\u001b[39m agent\u001b[38;5;241m.\u001b[39mTableRAGAgent(agent\u001b[38;5;241m.\u001b[39mTableRAGConfig(), indexer\u001b[38;5;241m=\u001b[39mmy_indexer)\n\u001b[1;32m     22\u001b[0m trag(\u001b[38;5;124m\"\u001b[39m\u001b[38;5;124mWhat is the total sales amount for the year 2024?\u001b[39m\u001b[38;5;124m\"\u001b[39m)\n",
      "File \u001b[0;32m~/Desktop/Projects/modaic/examples/TableRAG/indexer.py:42\u001b[0m, in \u001b[0;36mTableRagIndexer.ingest\u001b[0;34m(self, files, *args, **kwargs)\u001b[0m\n\u001b[1;32m     40\u001b[0m     table \u001b[38;5;241m=\u001b[39m Table\u001b[38;5;241m.\u001b[39mfrom_csv(file)\n\u001b[1;32m     41\u001b[0m \u001b[38;5;28;01melif\u001b[39;00m file\u001b[38;5;241m.\u001b[39mendswith((\u001b[38;5;124m\"\u001b[39m\u001b[38;5;124m.xlsx\u001b[39m\u001b[38;5;124m\"\u001b[39m, \u001b[38;5;124m\"\u001b[39m\u001b[38;5;124m.xls\u001b[39m\u001b[38;5;124m\"\u001b[39m)):\n\u001b[0;32m---> 42\u001b[0m     table \u001b[38;5;241m=\u001b[39m \u001b[43mTable\u001b[49m\u001b[38;5;241;43m.\u001b[39;49m\u001b[43mfrom_excel\u001b[49m\u001b[43m(\u001b[49m\u001b[43mfile\u001b[49m\u001b[43m)\u001b[49m\n\u001b[1;32m     43\u001b[0m \u001b[38;5;66;03m# Add table to file system context store\u001b[39;00m\n\u001b[1;32m     44\u001b[0m table\u001b[38;5;241m.\u001b[39mmetadata[\u001b[38;5;124m\"\u001b[39m\u001b[38;5;124mschema\u001b[39m\u001b[38;5;124m\"\u001b[39m] \u001b[38;5;241m=\u001b[39m table\u001b[38;5;241m.\u001b[39mschema_info()\n",
      "File \u001b[0;32m~/Desktop/Projects/modaic/src/modaic/context/table.py:219\u001b[0m, in \u001b[0;36mTable.from_excel\u001b[0;34m(cls, file, name, sheet_name, metadata, **kwargs)\u001b[0m\n\u001b[1;32m    214\u001b[0m source \u001b[38;5;241m=\u001b[39m Source(\n\u001b[1;32m    215\u001b[0m     file,\n\u001b[1;32m    216\u001b[0m     SourceType\u001b[38;5;241m.\u001b[39mLOCAL_PATH \u001b[38;5;28;01mif\u001b[39;00m \u001b[38;5;28misinstance\u001b[39m(file, \u001b[38;5;28mstr\u001b[39m) \u001b[38;5;28;01melse\u001b[39;00m SourceType\u001b[38;5;241m.\u001b[39mFILE_OBJECT,\n\u001b[1;32m    217\u001b[0m )\n\u001b[1;32m    218\u001b[0m \u001b[38;5;28mprint\u001b[39m(df, name, metadata, source, kwargs)\n\u001b[0;32m--> 219\u001b[0m \u001b[38;5;28;01mreturn\u001b[39;00m \u001b[38;5;28;43mcls\u001b[39;49m\u001b[43m(\u001b[49m\u001b[43mdf\u001b[49m\u001b[43m,\u001b[49m\u001b[43m \u001b[49m\u001b[43mname\u001b[49m\u001b[43m,\u001b[49m\u001b[43m \u001b[49m\u001b[43mmetadata\u001b[49m\u001b[43m,\u001b[49m\u001b[43m \u001b[49m\u001b[43msource\u001b[49m\u001b[43m,\u001b[49m\u001b[43m \u001b[49m\u001b[38;5;241;43m*\u001b[39;49m\u001b[38;5;241;43m*\u001b[39;49m\u001b[43mkwargs\u001b[49m\u001b[43m)\u001b[49m\n",
      "\u001b[0;31mTypeError\u001b[0m: Table.__init__() takes from 3 to 4 positional arguments but 5 were given"
     ]
    }
   ],
   "source": [
    "import agent\n",
    "import indexer\n",
    "import importlib\n",
    "import modaic\n",
    "import os\n",
    "importlib.reload(agent)\n",
    "importlib.reload(indexer)\n",
    "importlib.reload(modaic.types)\n",
    "from modaic.databases import SQLiteConfig\n",
    "from modaic.databases.integrations.milvus import MilvusVDBConfig\n",
    "\n",
    "vdb_config = MilvusVDBConfig.from_local(\"index.db\")\n",
    "sql_config = SQLiteConfig(db_path=\"tables.db\")\n",
    "my_indexer = indexer.TableRagIndexer(vdb_config=vdb_config, sql_config=sql_config)\n",
    "\n",
    "excel_files = [os.path.join(\"dev_excel\", f) for f in os.listdir(\"dev_excel\")]\n",
    "doc_files = [os.path.join(\"dev_doc\", f) for f in os.listdir(\"dev_doc\")]\n",
    "my_indexer.ingest(excel_files + doc_files)\n",
    "\n",
    "trag = agent.TableRAGAgent(agent.TableRAGConfig(), indexer=my_indexer)\n",
    "\n",
    "trag(\"What is the total sales amount for the year 2024?\")"
   ]
  }
 ],
 "metadata": {
  "kernelspec": {
   "display_name": ".venv",
   "language": "python",
   "name": "python3"
  },
  "language_info": {
   "codemirror_mode": {
    "name": "ipython",
    "version": 3
   },
   "file_extension": ".py",
   "mimetype": "text/x-python",
   "name": "python",
   "nbconvert_exporter": "python",
   "pygments_lexer": "ipython3",
   "version": "3.10.8"
  }
 },
 "nbformat": 4,
 "nbformat_minor": 5
}
